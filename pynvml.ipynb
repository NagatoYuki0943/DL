{
 "cells": [
  {
   "attachments": {},
   "cell_type": "markdown",
   "metadata": {},
   "source": [
    "nvmlDeviceXXX有一系列函数可以调用，包括了NVML的大多数函数。\n",
    "\n",
    "https://docs.nvidia.com/deploy/nvml-api/group__nvmlDeviceQueries.html#group__nvmlDeviceQueries"
   ]
  },
  {
   "attachments": {},
   "cell_type": "markdown",
   "metadata": {},
   "source": [
    "# install"
   ]
  },
  {
   "cell_type": "code",
   "execution_count": 1,
   "metadata": {},
   "outputs": [
    {
     "name": "stdout",
     "output_type": "stream",
     "text": [
      "Looking in indexes: http://mirrors.aliyun.com/pypi/simple\n",
      "Requirement already satisfied: pynvml in d:\\miniconda3\\envs\\pytorch\\lib\\site-packages (11.5.0)\n"
     ]
    }
   ],
   "source": [
    "!pip install pynvml"
   ]
  },
  {
   "attachments": {},
   "cell_type": "markdown",
   "metadata": {},
   "source": [
    "# use"
   ]
  },
  {
   "cell_type": "code",
   "execution_count": 2,
   "metadata": {},
   "outputs": [],
   "source": [
    "import pynvml"
   ]
  },
  {
   "cell_type": "code",
   "execution_count": 3,
   "metadata": {},
   "outputs": [],
   "source": [
    "# 初始化\n",
    "pynvml.nvmlInit()"
   ]
  },
  {
   "cell_type": "code",
   "execution_count": 4,
   "metadata": {},
   "outputs": [
    {
     "data": {
      "text/plain": [
       "'536.40'"
      ]
     },
     "execution_count": 4,
     "metadata": {},
     "output_type": "execute_result"
    }
   ],
   "source": [
    "# 显示驱动信息\n",
    "pynvml.nvmlSystemGetDriverVersion()"
   ]
  },
  {
   "cell_type": "code",
   "execution_count": 8,
   "metadata": {},
   "outputs": [
    {
     "name": "stdout",
     "output_type": "stream",
     "text": [
      "12020\n",
      "12020\n"
     ]
    }
   ],
   "source": [
    "# 显示cuda版本\n",
    "print(pynvml.nvmlSystemGetCudaDriverVersion())\n",
    "print(pynvml.nvmlSystemGetCudaDriverVersion_v2())"
   ]
  },
  {
   "cell_type": "code",
   "execution_count": 9,
   "metadata": {},
   "outputs": [
    {
     "data": {
      "text/plain": [
       "[]"
      ]
     },
     "execution_count": 9,
     "metadata": {},
     "output_type": "execute_result"
    }
   ],
   "source": [
    "# HicVersion\n",
    "pynvml.nvmlSystemGetHicVersion()"
   ]
  },
  {
   "cell_type": "code",
   "execution_count": 10,
   "metadata": {},
   "outputs": [
    {
     "data": {
      "text/plain": [
       "'12.536.40'"
      ]
     },
     "execution_count": 10,
     "metadata": {},
     "output_type": "execute_result"
    }
   ],
   "source": [
    "# NVMLVersion\n",
    "pynvml.nvmlSystemGetNVMLVersion()"
   ]
  },
  {
   "cell_type": "code",
   "execution_count": 12,
   "metadata": {},
   "outputs": [
    {
     "data": {
      "text/plain": [
       "1"
      ]
     },
     "execution_count": 12,
     "metadata": {},
     "output_type": "execute_result"
    }
   ],
   "source": [
    "# 显卡数量\n",
    "count = pynvml.nvmlDeviceGetCount()\n",
    "count"
   ]
  },
  {
   "cell_type": "code",
   "execution_count": 46,
   "metadata": {},
   "outputs": [
    {
     "name": "stdout",
     "output_type": "stream",
     "text": [
      "GPU 0 : NVIDIA GeForce GTX 1080 Ti\n",
      "Memory Total: 11264 MB\n",
      "Memory Free: 146 MB\n",
      "Memory Used: 11117 MB\n",
      "Temperature: 50 °C\n",
      "Fan speed: 71%\n",
      "Power ststus: 8\n"
     ]
    }
   ],
   "source": [
    "# 打印设备信息\n",
    "for i in range(count):\n",
    "    handle = pynvml.nvmlDeviceGetHandleByIndex(i)\n",
    "    info = pynvml.nvmlDeviceGetMemoryInfo(handle)\n",
    "    print(f\"GPU {i} : {pynvml.nvmlDeviceGetName(handle)}\")\n",
    "    # 查看显存、温度、风扇、电源\n",
    "    print(f\"Memory Total: {info.total // 1024 // 1024} MB\")\n",
    "    print(f\"Memory Free: {info.free // 1024 // 1024} MB\")\n",
    "    print(f\"Memory Used: {info.used // 1024 // 1024} MB\")\n",
    "    print(f\"Temperature: {pynvml.nvmlDeviceGetTemperature(handle, 0)} °C\")\n",
    "    print(f\"Fan speed: {pynvml.nvmlDeviceGetFanSpeed(handle)}%\")\n",
    "    print(\"Power ststus:\", pynvml.nvmlDeviceGetPowerState(handle))"
   ]
  },
  {
   "cell_type": "code",
   "execution_count": 47,
   "metadata": {},
   "outputs": [],
   "source": [
    "# 最后要关闭管理工具\n",
    "pynvml.nvmlShutdown()"
   ]
  },
  {
   "cell_type": "code",
   "execution_count": null,
   "metadata": {},
   "outputs": [],
   "source": []
  }
 ],
 "metadata": {
  "kernelspec": {
   "display_name": "pytorch",
   "language": "python",
   "name": "python3"
  },
  "language_info": {
   "codemirror_mode": {
    "name": "ipython",
    "version": 3
   },
   "file_extension": ".py",
   "mimetype": "text/x-python",
   "name": "python",
   "nbconvert_exporter": "python",
   "pygments_lexer": "ipython3",
   "version": "3.11.3"
  },
  "orig_nbformat": 4
 },
 "nbformat": 4,
 "nbformat_minor": 2
}
