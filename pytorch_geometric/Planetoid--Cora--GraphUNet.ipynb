{
 "cells": [
  {
   "cell_type": "markdown",
   "metadata": {},
   "source": [
    "https://zhuanlan.zhihu.com/p/435945714"
   ]
  },
  {
   "cell_type": "code",
   "execution_count": 1,
   "metadata": {},
   "outputs": [],
   "source": [
    "import torch\n",
    "from torch import nn, Tensor, optim\n",
    "from torch.nn import functional as F\n",
    "from torch_geometric import nn as gnn\n",
    "from torch_geometric import datasets\n",
    "from torch_geometric.data import Data, Dataset\n",
    "from torch_geometric.loader import DataLoader, ClusterData, ClusterLoader\n",
    "from torch_geometric import transforms as gtransforms\n",
    "from torch_geometric.utils import to_networkx\n",
    "import networkx as nx\n",
    "from tqdm import tqdm\n",
    "from plotly import express as px\n",
    "from plotly import graph_objects as go\n",
    "import matplotlib.pyplot as plt"
   ]
  },
  {
   "cell_type": "code",
   "execution_count": 2,
   "metadata": {},
   "outputs": [
    {
     "data": {
      "text/plain": [
       "'cuda:0'"
      ]
     },
     "execution_count": 2,
     "metadata": {},
     "output_type": "execute_result"
    }
   ],
   "source": [
    "device = \"cuda:0\" if torch.cuda.is_available() else (\"mps\" if torch.backends.mps.is_available() else \"cpu\")\n",
    "device"
   ]
  },
  {
   "cell_type": "code",
   "execution_count": 3,
   "metadata": {},
   "outputs": [],
   "source": [
    "seed = 0\n",
    "torch.manual_seed(seed)\n",
    "torch.cuda.manual_seed(seed)\n",
    "torch.cuda.manual_seed_all(seed)"
   ]
  },
  {
   "cell_type": "markdown",
   "metadata": {},
   "source": [
    "# torch_geometric.data.Data\n",
    "\n",
    "节点和节点之间的边构成了图。所以在 PyG 中，如果你要构建图，那么需要两个要素：节点和边。PyG 提供了torch_geometric.data.Data (下面简称Data) 用于构建图，包括 5 个属性，每一个属性都不是必须的，可以为空。\n",
    "\n",
    "- x: 用于存储每个节点的特征，形状是 `[num_nodes, num_node_features]`\n",
    "- y: 存储样本标签。如果是每个节点都有标签，那么形状是 `[num_nodes, *]`；如果是整张图只有一个标签，那么形状是 `[1, *]`\n",
    "- edge_index: 用于存储节点之间的边，形状是 `[2, num_edges]`\n",
    "- pos: 存储节点的坐标，形状是 `[num_nodes, num_dimensions]`\n",
    "- edge_attr: 存储边的特征。形状是 `[num_edges, num_edge_features]`"
   ]
  },
  {
   "cell_type": "code",
   "execution_count": 4,
   "metadata": {},
   "outputs": [
    {
     "data": {
      "text/plain": [
       "tensor([[ 2.,  1.],\n",
       "        [ 5.,  6.],\n",
       "        [ 3.,  7.],\n",
       "        [12.,  0.]])"
      ]
     },
     "execution_count": 4,
     "metadata": {},
     "output_type": "execute_result"
    }
   ],
   "source": [
    "# x: 用于存储每个节点的特征，形状是 `[num_nodes, num_node_features]`。\n",
    "x = torch.tensor(\n",
    "    [[2,  1],\n",
    "     [5,  6],\n",
    "     [3,  7],\n",
    "     [12, 0]],\n",
    "    dtype=torch.float\n",
    ")\n",
    "x"
   ]
  },
  {
   "cell_type": "code",
   "execution_count": 5,
   "metadata": {},
   "outputs": [
    {
     "data": {
      "text/plain": [
       "tensor([[0],\n",
       "        [2],\n",
       "        [3],\n",
       "        [4]])"
      ]
     },
     "execution_count": 5,
     "metadata": {},
     "output_type": "execute_result"
    }
   ],
   "source": [
    "# y: 存储样本标签。如果是每个节点都有标签，那么形状是 `[num_nodes, *]`；如果是整张图只有一个标签，那么形状是 `[1, *]`。\n",
    "y = torch.tensor(\n",
    "    [[0],\n",
    "     [2],\n",
    "     [3],\n",
    "     [4]],\n",
    "    dtype=torch.long\n",
    ")\n",
    "y"
   ]
  },
  {
   "cell_type": "code",
   "execution_count": 6,
   "metadata": {},
   "outputs": [
    {
     "data": {
      "text/plain": [
       "tensor([[0, 1, 0, 1, 1, 2, 3],\n",
       "        [1, 0, 2, 2, 3, 3, 2]])"
      ]
     },
     "execution_count": 6,
     "metadata": {},
     "output_type": "execute_result"
    }
   ],
   "source": [
    "# edge_index: 用于存储节点之间的边，形状是 `[2, num_edges]`\n",
    "# 5条边: (0 -> 1), (0 -> 2), (1 -> 2), (1 -> 3), (2 -> 3)\n",
    "edge_index = torch.tensor(\n",
    "    [[0, 1, 0, 1, 1, 2, 3],\n",
    "     [1, 0, 2, 2, 3, 3, 2]],\n",
    "    dtype=torch.long\n",
    ")\n",
    "edge_index"
   ]
  },
  {
   "cell_type": "code",
   "execution_count": 7,
   "metadata": {},
   "outputs": [
    {
     "data": {
      "text/plain": [
       "Data(x=[4, 2], edge_index=[2, 7], y=[4, 1])"
      ]
     },
     "execution_count": 7,
     "metadata": {},
     "output_type": "execute_result"
    }
   ],
   "source": [
    "data = Data(x=x, y=y, edge_index=edge_index)\n",
    "data"
   ]
  },
  {
   "cell_type": "code",
   "execution_count": 8,
   "metadata": {},
   "outputs": [
    {
     "name": "stdout",
     "output_type": "stream",
     "text": [
      "('x', tensor([[ 2.,  1.],\n",
      "        [ 5.,  6.],\n",
      "        [ 3.,  7.],\n",
      "        [12.,  0.]]))\n",
      "('edge_index', tensor([[0, 1, 0, 1, 1, 2, 3],\n",
      "        [1, 0, 2, 2, 3, 3, 2]]))\n",
      "('y', tensor([[0],\n",
      "        [2],\n",
      "        [3],\n",
      "        [4]]))\n"
     ]
    }
   ],
   "source": [
    "for i in data:\n",
    "    print(i)"
   ]
  },
  {
   "cell_type": "code",
   "execution_count": 9,
   "metadata": {},
   "outputs": [],
   "source": [
    "def visualize_graph(G, color):\n",
    "    plt.figure(figsize=(7,7))\n",
    "    plt.xticks([])\n",
    "    plt.yticks([])\n",
    "    nx.draw_networkx(G, pos=nx.spring_layout(G, seed=42), with_labels=False,\n",
    "                     node_color=color, cmap=\"Set2\")\n",
    "    plt.show()"
   ]
  },
  {
   "cell_type": "code",
   "execution_count": 10,
   "metadata": {},
   "outputs": [
    {
     "data": {
      "image/png": "[encoded data removed]",
      "text/plain": [
       "<Figure size 700x700 with 1 Axes>"
      ]
     },
     "metadata": {},
     "output_type": "display_data"
    }
   ],
   "source": [
    "visualize_graph(to_networkx(data, to_undirected=True), color=data.y)"
   ]
  },
  {
   "cell_type": "markdown",
   "metadata": {},
   "source": [
    "# from torch_geometric.datasets"
   ]
  },
  {
   "cell_type": "code",
   "execution_count": 11,
   "metadata": {},
   "outputs": [
    {
     "data": {
      "text/plain": [
       "Compose([\n",
       "  NormalizeFeatures()\n",
       "])"
      ]
     },
     "execution_count": 11,
     "metadata": {},
     "output_type": "execute_result"
    }
   ],
   "source": [
    "transform = gtransforms.Compose([\n",
    "    gtransforms.NormalizeFeatures(),\n",
    "])\n",
    "transform"
   ]
  },
  {
   "cell_type": "markdown",
   "metadata": {},
   "source": [
    "| Name          | #graphs | #nodes | #edges  | #features | #classes |\n",
    "| ------------- | ------- | ------ | ------- | --------- | -------- |\n",
    "| MUTAG         | 188     | ~17.9  | ~39.6   | 7         | 2        |\n",
    "| ENZYMES       | 600     | ~32.6  | ~124.3  | 3         | 6        |\n",
    "| PROTEINS      | 1,113   | ~39.1  | ~145.6  | 3         | 2        |\n",
    "| COLLAB        | 5,000   | ~74.5  | ~4914.4 | 0         | 3        |\n",
    "| IMDB-BINARY   | 1,000   | ~19.8  | ~193.1  | 0         | 2        |\n",
    "| REDDIT-BINARY | 2,000   | ~429.6 | ~995.5  | 0         | 2        |"
   ]
  },
  {
   "cell_type": "code",
   "execution_count": 12,
   "metadata": {},
   "outputs": [
    {
     "data": {
      "text/plain": [
       "Data(x=[2708, 1433], edge_index=[2, 10556], y=[2708], train_mask=[2708], val_mask=[2708], test_mask=[2708])"
      ]
     },
     "execution_count": 12,
     "metadata": {},
     "output_type": "execute_result"
    }
   ],
   "source": [
    "dataset = datasets.Planetoid(\n",
    "    root=\"./datasets/Planetoid\",\n",
    "    name=\"Cora\",                # [Cora, PubMed]\n",
    "    transform=transform,\n",
    ")\n",
    "dataset[0]"
   ]
  },
  {
   "cell_type": "code",
   "execution_count": 13,
   "metadata": {},
   "outputs": [
    {
     "data": {
      "text/plain": [
       "Data(x=[2708, 1433], edge_index=[2, 10556], y=[2708], train_mask=[2708], val_mask=[2708], test_mask=[2708])"
      ]
     },
     "execution_count": 13,
     "metadata": {},
     "output_type": "execute_result"
    }
   ],
   "source": [
    "dataset = dataset.shuffle()\n",
    "dataset[0]"
   ]
  },
  {
   "cell_type": "code",
   "execution_count": 14,
   "metadata": {},
   "outputs": [
    {
     "data": {
      "text/plain": [
       "0"
      ]
     },
     "execution_count": 14,
     "metadata": {},
     "output_type": "execute_result"
    }
   ],
   "source": [
    "dataset.num_edge_features"
   ]
  },
  {
   "cell_type": "code",
   "execution_count": 15,
   "metadata": {},
   "outputs": [
    {
     "data": {
      "text/plain": [
       "1433"
      ]
     },
     "execution_count": 15,
     "metadata": {},
     "output_type": "execute_result"
    }
   ],
   "source": [
    "dataset.num_node_features"
   ]
  },
  {
   "cell_type": "code",
   "execution_count": 16,
   "metadata": {},
   "outputs": [
    {
     "data": {
      "text/plain": [
       "(1433, 7)"
      ]
     },
     "execution_count": 16,
     "metadata": {},
     "output_type": "execute_result"
    }
   ],
   "source": [
    "dataset.num_features, dataset.num_classes"
   ]
  },
  {
   "cell_type": "code",
   "execution_count": 17,
   "metadata": {},
   "outputs": [
    {
     "data": {
      "text/plain": [
       "(torch_geometric.datasets.planetoid.Planetoid, torch_geometric.data.data.Data)"
      ]
     },
     "execution_count": 17,
     "metadata": {},
     "output_type": "execute_result"
    }
   ],
   "source": [
    "type(dataset), type(dataset[0])"
   ]
  },
  {
   "cell_type": "code",
   "execution_count": 18,
   "metadata": {},
   "outputs": [
    {
     "name": "stderr",
     "output_type": "stream",
     "text": [
      "Computing METIS partitioning...\n",
      "Done!\n"
     ]
    }
   ],
   "source": [
    "cluster_data = ClusterData(dataset[0], num_parts=128)  # 1. Create subgraphs.\n",
    "train_dataloader = ClusterLoader(cluster_data, batch_size=32, shuffle=True)  # 2. Stochastic partioning scheme."
   ]
  },
  {
   "cell_type": "code",
   "execution_count": 19,
   "metadata": {},
   "outputs": [
    {
     "name": "stdout",
     "output_type": "stream",
     "text": [
      "Data(x=[677, 1433], y=[677], train_mask=[677], val_mask=[677], test_mask=[677], edge_index=[2, 1632])\n",
      "x: \t\t torch.Size([677, 1433])\n",
      "edge_index: \t torch.Size([2, 1632])\n",
      "y: \t\t torch.Size([677])\n",
      "y: \t\t tensor([[0],\n",
      "        [2],\n",
      "        [3],\n",
      "        [4]])\n",
      "Data(x=[678, 1433], y=[678], train_mask=[678], val_mask=[678], test_mask=[678], edge_index=[2, 1568])\n",
      "x: \t\t torch.Size([678, 1433])\n",
      "edge_index: \t torch.Size([2, 1568])\n",
      "y: \t\t torch.Size([678])\n",
      "y: \t\t tensor([[0],\n",
      "        [2],\n",
      "        [3],\n",
      "        [4]])\n",
      "Data(x=[677, 1433], y=[677], train_mask=[677], val_mask=[677], test_mask=[677], edge_index=[2, 1646])\n",
      "x: \t\t torch.Size([677, 1433])\n",
      "edge_index: \t torch.Size([2, 1646])\n",
      "y: \t\t torch.Size([677])\n",
      "y: \t\t tensor([[0],\n",
      "        [2],\n",
      "        [3],\n",
      "        [4]])\n",
      "Data(x=[676, 1433], y=[676], train_mask=[676], val_mask=[676], test_mask=[676], edge_index=[2, 1660])\n",
      "x: \t\t torch.Size([676, 1433])\n",
      "edge_index: \t torch.Size([2, 1660])\n",
      "y: \t\t torch.Size([676])\n",
      "y: \t\t tensor([[0],\n",
      "        [2],\n",
      "        [3],\n",
      "        [4]])\n"
     ]
    }
   ],
   "source": [
    "for i, batch in enumerate(train_dataloader):\n",
    "    print(batch)\n",
    "    print(\"x: \\t\\t\",        batch.x.shape)          # [batch_sum, num_features] 图的每一条数据的长度不一定相等,batch_sum代表这个batch中的全部节点数据\n",
    "    print(\"edge_index: \\t\", batch.edge_index.shape) # 代表边的连接\n",
    "    print(\"y: \\t\\t\",        batch.y.shape)          # 类别\n",
    "    print(\"y: \\t\\t\",        y)\n",
    "    if i >= 5:\n",
    "        break"
   ]
  },
  {
   "cell_type": "code",
   "execution_count": 20,
   "metadata": {},
   "outputs": [
    {
     "data": {
      "text/plain": [
       "torch.Size([676, 1433])"
      ]
     },
     "execution_count": 20,
     "metadata": {},
     "output_type": "execute_result"
    }
   ],
   "source": [
    "batch.x.shape"
   ]
  },
  {
   "cell_type": "markdown",
   "metadata": {},
   "source": [
    "# Model"
   ]
  },
  {
   "cell_type": "code",
   "execution_count": 21,
   "metadata": {},
   "outputs": [],
   "source": [
    "class Net(nn.Module):\n",
    "    def __init__(\n",
    "        self,\n",
    "        in_channels: int = dataset.num_features,\n",
    "        out_channels: int = dataset.num_classes,\n",
    "        hidden_channels: int = 256,\n",
    "        depth: int = 3,\n",
    "        pool_ratios: float = 0.5,\n",
    "    ) -> None:\n",
    "        super().__init__()\n",
    "        self.gnn = gnn.GraphUNet(\n",
    "            in_channels=in_channels,\n",
    "            hidden_channels=hidden_channels,\n",
    "            out_channels=out_channels,\n",
    "            depth=depth,\n",
    "            pool_ratios=pool_ratios,\n",
    "            sum_res=True,\n",
    "            act='relu',\n",
    "        )\n",
    "\n",
    "    def forward(self, x: Tensor, edge_index: Tensor, batch: Tensor = None) -> Tensor:\n",
    "        x = self.gnn(x, edge_index)\n",
    "        return x"
   ]
  },
  {
   "cell_type": "code",
   "execution_count": 22,
   "metadata": {},
   "outputs": [
    {
     "data": {
      "text/plain": [
       "Net(\n",
       "  (gnn): GraphUNet(1433, 256, 7, depth=3, pool_ratios=[0.5, 0.5, 0.5])\n",
       ")"
      ]
     },
     "execution_count": 22,
     "metadata": {},
     "output_type": "execute_result"
    }
   ],
   "source": [
    "net = Net().to(device)\n",
    "net"
   ]
  },
  {
   "cell_type": "code",
   "execution_count": 23,
   "metadata": {},
   "outputs": [
    {
     "data": {
      "text/plain": [
       "Adam (\n",
       "Parameter Group 0\n",
       "    amsgrad: False\n",
       "    betas: (0.9, 0.999)\n",
       "    capturable: False\n",
       "    differentiable: False\n",
       "    eps: 1e-08\n",
       "    foreach: None\n",
       "    fused: None\n",
       "    lr: 0.001\n",
       "    maximize: False\n",
       "    weight_decay: 0\n",
       ")"
      ]
     },
     "execution_count": 23,
     "metadata": {},
     "output_type": "execute_result"
    }
   ],
   "source": [
    "optimizer = optim.Adam(params=net.parameters())\n",
    "optimizer"
   ]
  },
  {
   "cell_type": "code",
   "execution_count": 24,
   "metadata": {},
   "outputs": [],
   "source": [
    "epochs = 100"
   ]
  },
  {
   "cell_type": "code",
   "execution_count": 25,
   "metadata": {},
   "outputs": [
    {
     "data": {
      "text/plain": [
       "<torch.optim.lr_scheduler.CosineAnnealingLR at 0x2058878c1d0>"
      ]
     },
     "execution_count": 25,
     "metadata": {},
     "output_type": "execute_result"
    }
   ],
   "source": [
    "lr_scheduler = optim.lr_scheduler.CosineAnnealingLR(optimizer=optimizer, T_max=epochs, eta_min=optimizer.state_dict()['param_groups'][0]['lr'] * 0.01)\n",
    "lr_scheduler"
   ]
  },
  {
   "cell_type": "code",
   "execution_count": 26,
   "metadata": {},
   "outputs": [
    {
     "data": {
      "text/plain": [
       "CrossEntropyLoss()"
      ]
     },
     "execution_count": 26,
     "metadata": {},
     "output_type": "execute_result"
    }
   ],
   "source": [
    "loss_fn = nn.CrossEntropyLoss()\n",
    "loss_fn"
   ]
  },
  {
   "cell_type": "markdown",
   "metadata": {},
   "source": [
    "# train"
   ]
  },
  {
   "cell_type": "code",
   "execution_count": 27,
   "metadata": {},
   "outputs": [
    {
     "name": "stderr",
     "output_type": "stream",
     "text": [
      "train-epoch: 1:   0%|          | 0/4 [00:00<?, ?it/s]d:\\miniconda3\\envs\\pytorch\\Lib\\site-packages\\torch_geometric\\utils\\sparse.py:264: UserWarning: Sparse CSR tensor support is in beta state. If you miss a functionality in the sparse tensor support, please submit a feature request to https://github.com/pytorch/pytorch/issues. (Triggered internally at ..\\aten\\src\\ATen\\SparseCsrTensorImpl.cpp:55.)\n",
      "  adj = torch.sparse_csr_tensor(\n",
      "train-epoch: 1: 100%|██████████| 4/4 [00:00<00:00,  5.46it/s, loss=1.93]\n"
     ]
    },
    {
     "name": "stdout",
     "output_type": "stream",
     "text": [
      "\u001b[0;31;40mepoch: 1\u001b[0m \u001b[0;32;40mtrain_accuracy = 0.25886261463165283\u001b[0m \n"
     ]
    },
    {
     "name": "stderr",
     "output_type": "stream",
     "text": [
      "train-epoch: 2: 100%|██████████| 4/4 [00:00<00:00, 30.77it/s, loss=1.9] \n"
     ]
    },
    {
     "name": "stdout",
     "output_type": "stream",
     "text": [
      "\u001b[0;31;40mepoch: 2\u001b[0m \u001b[0;32;40mtrain_accuracy = 0.30539143085479736\u001b[0m \n"
     ]
    },
    {
     "name": "stderr",
     "output_type": "stream",
     "text": [
      "train-epoch: 3: 100%|██████████| 4/4 [00:00<00:00, 30.30it/s, loss=1.87]\n"
     ]
    },
    {
     "name": "stdout",
     "output_type": "stream",
     "text": [
      "\u001b[0;31;40mepoch: 3\u001b[0m \u001b[0;32;40mtrain_accuracy = 0.3024372160434723\u001b[0m \n"
     ]
    },
    {
     "name": "stderr",
     "output_type": "stream",
     "text": [
      "train-epoch: 4: 100%|██████████| 4/4 [00:00<00:00, 31.36it/s, loss=1.82]\n"
     ]
    },
    {
     "name": "stdout",
     "output_type": "stream",
     "text": [
      "\u001b[0;31;40mepoch: 4\u001b[0m \u001b[0;32;40mtrain_accuracy = 0.3028064966201782\u001b[0m \n"
     ]
    },
    {
     "name": "stderr",
     "output_type": "stream",
     "text": [
      "train-epoch: 5: 100%|██████████| 4/4 [00:00<00:00, 28.86it/s, loss=1.69]\n"
     ]
    },
    {
     "name": "stdout",
     "output_type": "stream",
     "text": [
      "\u001b[0;31;40mepoch: 5\u001b[0m \u001b[0;32;40mtrain_accuracy = 0.3035450577735901\u001b[0m \n"
     ]
    },
    {
     "name": "stderr",
     "output_type": "stream",
     "text": [
      "train-epoch: 6: 100%|██████████| 4/4 [00:00<00:00, 29.85it/s, loss=1.6] \n"
     ]
    },
    {
     "name": "stdout",
     "output_type": "stream",
     "text": [
      "\u001b[0;31;40mepoch: 6\u001b[0m \u001b[0;32;40mtrain_accuracy = 0.30391430854797363\u001b[0m \n"
     ]
    },
    {
     "name": "stderr",
     "output_type": "stream",
     "text": [
      "train-epoch: 7: 100%|██████████| 4/4 [00:00<00:00, 28.78it/s, loss=1.61]\n"
     ]
    },
    {
     "name": "stdout",
     "output_type": "stream",
     "text": [
      "\u001b[0;31;40mepoch: 7\u001b[0m \u001b[0;32;40mtrain_accuracy = 0.3249630630016327\u001b[0m \n"
     ]
    },
    {
     "name": "stderr",
     "output_type": "stream",
     "text": [
      "train-epoch: 8: 100%|██████████| 4/4 [00:00<00:00, 28.78it/s, loss=1.61]\n"
     ]
    },
    {
     "name": "stdout",
     "output_type": "stream",
     "text": [
      "\u001b[0;31;40mepoch: 8\u001b[0m \u001b[0;32;40mtrain_accuracy = 0.34379616379737854\u001b[0m \n"
     ]
    },
    {
     "name": "stderr",
     "output_type": "stream",
     "text": [
      "train-epoch: 9: 100%|██████████| 4/4 [00:00<00:00, 29.63it/s, loss=1.64]\n"
     ]
    },
    {
     "name": "stdout",
     "output_type": "stream",
     "text": [
      "\u001b[0;31;40mepoch: 9\u001b[0m \u001b[0;32;40mtrain_accuracy = 0.37407681345939636\u001b[0m \n"
     ]
    },
    {
     "name": "stderr",
     "output_type": "stream",
     "text": [
      "train-epoch: 10: 100%|██████████| 4/4 [00:00<00:00, 28.99it/s, loss=1.47]\n"
     ]
    },
    {
     "name": "stdout",
     "output_type": "stream",
     "text": [
      "\u001b[0;31;40mepoch: 10\u001b[0m \u001b[0;32;40mtrain_accuracy = 0.47045788168907166\u001b[0m \n"
     ]
    },
    {
     "name": "stderr",
     "output_type": "stream",
     "text": [
      "train-epoch: 11: 100%|██████████| 4/4 [00:00<00:00, 27.78it/s, loss=1.3] \n"
     ]
    },
    {
     "name": "stdout",
     "output_type": "stream",
     "text": [
      "\u001b[0;31;40mepoch: 11\u001b[0m \u001b[0;32;40mtrain_accuracy = 0.5302806496620178\u001b[0m \n"
     ]
    },
    {
     "name": "stderr",
     "output_type": "stream",
     "text": [
      "train-epoch: 12: 100%|██████████| 4/4 [00:00<00:00, 27.86it/s, loss=1.39]\n"
     ]
    },
    {
     "name": "stdout",
     "output_type": "stream",
     "text": [
      "\u001b[0;31;40mepoch: 12\u001b[0m \u001b[0;32;40mtrain_accuracy = 0.5528064966201782\u001b[0m \n"
     ]
    },
    {
     "name": "stderr",
     "output_type": "stream",
     "text": [
      "train-epoch: 13: 100%|██████████| 4/4 [00:00<00:00, 29.41it/s, loss=1.29]\n"
     ]
    },
    {
     "name": "stdout",
     "output_type": "stream",
     "text": [
      "\u001b[0;31;40mepoch: 13\u001b[0m \u001b[0;32;40mtrain_accuracy = 0.5779172778129578\u001b[0m \n"
     ]
    },
    {
     "name": "stderr",
     "output_type": "stream",
     "text": [
      "train-epoch: 14: 100%|██████████| 4/4 [00:00<00:00, 30.08it/s, loss=1.17]\n"
     ]
    },
    {
     "name": "stdout",
     "output_type": "stream",
     "text": [
      "\u001b[0;31;40mepoch: 14\u001b[0m \u001b[0;32;40mtrain_accuracy = 0.597858190536499\u001b[0m \n"
     ]
    },
    {
     "name": "stderr",
     "output_type": "stream",
     "text": [
      "train-epoch: 15: 100%|██████████| 4/4 [00:00<00:00, 29.85it/s, loss=1.45]\n"
     ]
    },
    {
     "name": "stdout",
     "output_type": "stream",
     "text": [
      "\u001b[0;31;40mepoch: 15\u001b[0m \u001b[0;32;40mtrain_accuracy = 0.6805760860443115\u001b[0m \n"
     ]
    },
    {
     "name": "stderr",
     "output_type": "stream",
     "text": [
      "train-epoch: 16: 100%|██████████| 4/4 [00:00<00:00, 29.63it/s, loss=1.27]\n"
     ]
    },
    {
     "name": "stdout",
     "output_type": "stream",
     "text": [
      "\u001b[0;31;40mepoch: 16\u001b[0m \u001b[0;32;40mtrain_accuracy = 0.7082718014717102\u001b[0m \n"
     ]
    },
    {
     "name": "stderr",
     "output_type": "stream",
     "text": [
      "train-epoch: 17: 100%|██████████| 4/4 [00:00<00:00, 29.85it/s, loss=1.3] \n"
     ]
    },
    {
     "name": "stdout",
     "output_type": "stream",
     "text": [
      "\u001b[0;31;40mepoch: 17\u001b[0m \u001b[0;32;40mtrain_accuracy = 0.6901772618293762\u001b[0m \n"
     ]
    },
    {
     "name": "stderr",
     "output_type": "stream",
     "text": [
      "train-epoch: 18: 100%|██████████| 4/4 [00:00<00:00, 29.41it/s, loss=1.05]\n"
     ]
    },
    {
     "name": "stdout",
     "output_type": "stream",
     "text": [
      "\u001b[0;31;40mepoch: 18\u001b[0m \u001b[0;32;40mtrain_accuracy = 0.6853766441345215\u001b[0m \n"
     ]
    },
    {
     "name": "stderr",
     "output_type": "stream",
     "text": [
      "train-epoch: 19: 100%|██████████| 4/4 [00:00<00:00, 28.87it/s, loss=1.14]\n"
     ]
    },
    {
     "name": "stdout",
     "output_type": "stream",
     "text": [
      "\u001b[0;31;40mepoch: 19\u001b[0m \u001b[0;32;40mtrain_accuracy = 0.7141801714897156\u001b[0m \n"
     ]
    },
    {
     "name": "stderr",
     "output_type": "stream",
     "text": [
      "train-epoch: 20: 100%|██████████| 4/4 [00:00<00:00, 30.07it/s, loss=1.09]\n"
     ]
    },
    {
     "name": "stdout",
     "output_type": "stream",
     "text": [
      "\u001b[0;31;40mepoch: 20\u001b[0m \u001b[0;32;40mtrain_accuracy = 0.7241506576538086\u001b[0m \n"
     ]
    },
    {
     "name": "stderr",
     "output_type": "stream",
     "text": [
      "train-epoch: 21: 100%|██████████| 4/4 [00:00<00:00, 30.53it/s, loss=1.04] \n"
     ]
    },
    {
     "name": "stdout",
     "output_type": "stream",
     "text": [
      "\u001b[0;31;40mepoch: 21\u001b[0m \u001b[0;32;40mtrain_accuracy = 0.7315361499786377\u001b[0m \n"
     ]
    },
    {
     "name": "stderr",
     "output_type": "stream",
     "text": [
      "train-epoch: 22: 100%|██████████| 4/4 [00:00<00:00, 30.53it/s, loss=1.03] \n"
     ]
    },
    {
     "name": "stdout",
     "output_type": "stream",
     "text": [
      "\u001b[0;31;40mepoch: 22\u001b[0m \u001b[0;32;40mtrain_accuracy = 0.7189807891845703\u001b[0m \n"
     ]
    },
    {
     "name": "stderr",
     "output_type": "stream",
     "text": [
      "train-epoch: 23: 100%|██████████| 4/4 [00:00<00:00, 29.63it/s, loss=0.895]\n"
     ]
    },
    {
     "name": "stdout",
     "output_type": "stream",
     "text": [
      "\u001b[0;31;40mepoch: 23\u001b[0m \u001b[0;32;40mtrain_accuracy = 0.7477843165397644\u001b[0m \n"
     ]
    },
    {
     "name": "stderr",
     "output_type": "stream",
     "text": [
      "train-epoch: 24: 100%|██████████| 4/4 [00:00<00:00, 27.03it/s, loss=0.812]\n"
     ]
    },
    {
     "name": "stdout",
     "output_type": "stream",
     "text": [
      "\u001b[0;31;40mepoch: 24\u001b[0m \u001b[0;32;40mtrain_accuracy = 0.7315361499786377\u001b[0m \n"
     ]
    },
    {
     "name": "stderr",
     "output_type": "stream",
     "text": [
      "train-epoch: 25: 100%|██████████| 4/4 [00:00<00:00, 30.77it/s, loss=0.797]\n"
     ]
    },
    {
     "name": "stdout",
     "output_type": "stream",
     "text": [
      "\u001b[0;31;40mepoch: 25\u001b[0m \u001b[0;32;40mtrain_accuracy = 0.7717872858047485\u001b[0m \n"
     ]
    },
    {
     "name": "stderr",
     "output_type": "stream",
     "text": [
      "train-epoch: 26: 100%|██████████| 4/4 [00:00<00:00, 30.77it/s, loss=0.769]\n"
     ]
    },
    {
     "name": "stdout",
     "output_type": "stream",
     "text": [
      "\u001b[0;31;40mepoch: 26\u001b[0m \u001b[0;32;40mtrain_accuracy = 0.7924667596817017\u001b[0m \n"
     ]
    },
    {
     "name": "stderr",
     "output_type": "stream",
     "text": [
      "train-epoch: 27: 100%|██████████| 4/4 [00:00<00:00, 31.10it/s, loss=0.768]\n"
     ]
    },
    {
     "name": "stdout",
     "output_type": "stream",
     "text": [
      "\u001b[0;31;40mepoch: 27\u001b[0m \u001b[0;32;40mtrain_accuracy = 0.7994830012321472\u001b[0m \n"
     ]
    },
    {
     "name": "stderr",
     "output_type": "stream",
     "text": [
      "train-epoch: 28: 100%|██████████| 4/4 [00:00<00:00, 29.85it/s, loss=0.739]\n"
     ]
    },
    {
     "name": "stdout",
     "output_type": "stream",
     "text": [
      "\u001b[0;31;40mepoch: 28\u001b[0m \u001b[0;32;40mtrain_accuracy = 0.7932053208351135\u001b[0m \n"
     ]
    },
    {
     "name": "stderr",
     "output_type": "stream",
     "text": [
      "train-epoch: 29: 100%|██████████| 4/4 [00:00<00:00, 29.85it/s, loss=0.808]\n"
     ]
    },
    {
     "name": "stdout",
     "output_type": "stream",
     "text": [
      "\u001b[0;31;40mepoch: 29\u001b[0m \u001b[0;32;40mtrain_accuracy = 0.8098227381706238\u001b[0m \n"
     ]
    },
    {
     "name": "stderr",
     "output_type": "stream",
     "text": [
      "train-epoch: 30: 100%|██████████| 4/4 [00:00<00:00, 29.85it/s, loss=0.716]\n"
     ]
    },
    {
     "name": "stdout",
     "output_type": "stream",
     "text": [
      "\u001b[0;31;40mepoch: 30\u001b[0m \u001b[0;32;40mtrain_accuracy = 0.8179467916488647\u001b[0m \n"
     ]
    },
    {
     "name": "stderr",
     "output_type": "stream",
     "text": [
      "train-epoch: 31: 100%|██████████| 4/4 [00:00<00:00, 27.59it/s, loss=0.884]\n"
     ]
    },
    {
     "name": "stdout",
     "output_type": "stream",
     "text": [
      "\u001b[0;31;40mepoch: 31\u001b[0m \u001b[0;32;40mtrain_accuracy = 0.8194239139556885\u001b[0m \n"
     ]
    },
    {
     "name": "stderr",
     "output_type": "stream",
     "text": [
      "train-epoch: 32: 100%|██████████| 4/4 [00:00<00:00, 30.08it/s, loss=0.723]\n"
     ]
    },
    {
     "name": "stdout",
     "output_type": "stream",
     "text": [
      "\u001b[0;31;40mepoch: 32\u001b[0m \u001b[0;32;40mtrain_accuracy = 0.826440155506134\u001b[0m \n"
     ]
    },
    {
     "name": "stderr",
     "output_type": "stream",
     "text": [
      "train-epoch: 33: 100%|██████████| 4/4 [00:00<00:00, 30.53it/s, loss=0.718]\n"
     ]
    },
    {
     "name": "stdout",
     "output_type": "stream",
     "text": [
      "\u001b[0;31;40mepoch: 33\u001b[0m \u001b[0;32;40mtrain_accuracy = 0.8223780989646912\u001b[0m \n"
     ]
    },
    {
     "name": "stderr",
     "output_type": "stream",
     "text": [
      "train-epoch: 34: 100%|██████████| 4/4 [00:00<00:00, 28.45it/s, loss=0.768]\n"
     ]
    },
    {
     "name": "stdout",
     "output_type": "stream",
     "text": [
      "\u001b[0;31;40mepoch: 34\u001b[0m \u001b[0;32;40mtrain_accuracy = 0.8268094658851624\u001b[0m \n"
     ]
    },
    {
     "name": "stderr",
     "output_type": "stream",
     "text": [
      "train-epoch: 35: 100%|██████████| 4/4 [00:00<00:00, 30.77it/s, loss=0.681]\n"
     ]
    },
    {
     "name": "stdout",
     "output_type": "stream",
     "text": [
      "\u001b[0;31;40mepoch: 35\u001b[0m \u001b[0;32;40mtrain_accuracy = 0.8279172778129578\u001b[0m \n"
     ]
    },
    {
     "name": "stderr",
     "output_type": "stream",
     "text": [
      "train-epoch: 36: 100%|██████████| 4/4 [00:00<00:00, 25.32it/s, loss=0.674]\n"
     ]
    },
    {
     "name": "stdout",
     "output_type": "stream",
     "text": [
      "\u001b[0;31;40mepoch: 36\u001b[0m \u001b[0;32;40mtrain_accuracy = 0.8334563970565796\u001b[0m \n"
     ]
    },
    {
     "name": "stderr",
     "output_type": "stream",
     "text": [
      "train-epoch: 37: 100%|██████████| 4/4 [00:00<00:00, 24.84it/s, loss=0.638]\n"
     ]
    },
    {
     "name": "stdout",
     "output_type": "stream",
     "text": [
      "\u001b[0;31;40mepoch: 37\u001b[0m \u001b[0;32;40mtrain_accuracy = 0.8327178359031677\u001b[0m \n"
     ]
    },
    {
     "name": "stderr",
     "output_type": "stream",
     "text": [
      "train-epoch: 38: 100%|██████████| 4/4 [00:00<00:00, 25.00it/s, loss=0.67] \n"
     ]
    },
    {
     "name": "stdout",
     "output_type": "stream",
     "text": [
      "\u001b[0;31;40mepoch: 38\u001b[0m \u001b[0;32;40mtrain_accuracy = 0.8382570147514343\u001b[0m \n"
     ]
    },
    {
     "name": "stderr",
     "output_type": "stream",
     "text": [
      "train-epoch: 39: 100%|██████████| 4/4 [00:00<00:00, 25.64it/s, loss=0.62] \n"
     ]
    },
    {
     "name": "stdout",
     "output_type": "stream",
     "text": [
      "\u001b[0;31;40mepoch: 39\u001b[0m \u001b[0;32;40mtrain_accuracy = 0.829763650894165\u001b[0m \n"
     ]
    },
    {
     "name": "stderr",
     "output_type": "stream",
     "text": [
      "train-epoch: 40: 100%|██████████| 4/4 [00:00<00:00, 19.56it/s, loss=0.607]\n"
     ]
    },
    {
     "name": "stdout",
     "output_type": "stream",
     "text": [
      "\u001b[0;31;40mepoch: 40\u001b[0m \u001b[0;32;40mtrain_accuracy = 0.8293943405151367\u001b[0m \n"
     ]
    },
    {
     "name": "stderr",
     "output_type": "stream",
     "text": [
      "train-epoch: 41: 100%|██████████| 4/4 [00:00<00:00, 25.64it/s, loss=0.645]\n"
     ]
    },
    {
     "name": "stdout",
     "output_type": "stream",
     "text": [
      "\u001b[0;31;40mepoch: 41\u001b[0m \u001b[0;32;40mtrain_accuracy = 0.841211199760437\u001b[0m \n"
     ]
    },
    {
     "name": "stderr",
     "output_type": "stream",
     "text": [
      "train-epoch: 42: 100%|██████████| 4/4 [00:00<00:00, 24.54it/s, loss=0.508]\n"
     ]
    },
    {
     "name": "stdout",
     "output_type": "stream",
     "text": [
      "\u001b[0;31;40mepoch: 42\u001b[0m \u001b[0;32;40mtrain_accuracy = 0.844534695148468\u001b[0m \n"
     ]
    },
    {
     "name": "stderr",
     "output_type": "stream",
     "text": [
      "train-epoch: 43: 100%|██████████| 4/4 [00:00<00:00, 21.74it/s, loss=0.653]\n"
     ]
    },
    {
     "name": "stdout",
     "output_type": "stream",
     "text": [
      "\u001b[0;31;40mepoch: 43\u001b[0m \u001b[0;32;40mtrain_accuracy = 0.8497045636177063\u001b[0m \n"
     ]
    },
    {
     "name": "stderr",
     "output_type": "stream",
     "text": [
      "train-epoch: 44: 100%|██████████| 4/4 [00:00<00:00, 26.45it/s, loss=0.537]\n"
     ]
    },
    {
     "name": "stdout",
     "output_type": "stream",
     "text": [
      "\u001b[0;31;40mepoch: 44\u001b[0m \u001b[0;32;40mtrain_accuracy = 0.8467503786087036\u001b[0m \n"
     ]
    },
    {
     "name": "stderr",
     "output_type": "stream",
     "text": [
      "train-epoch: 45: 100%|██████████| 4/4 [00:00<00:00, 26.35it/s, loss=0.506]\n"
     ]
    },
    {
     "name": "stdout",
     "output_type": "stream",
     "text": [
      "\u001b[0;31;40mepoch: 45\u001b[0m \u001b[0;32;40mtrain_accuracy = 0.8456425070762634\u001b[0m \n"
     ]
    },
    {
     "name": "stderr",
     "output_type": "stream",
     "text": [
      "train-epoch: 46: 100%|██████████| 4/4 [00:00<00:00, 28.64it/s, loss=0.459]\n"
     ]
    },
    {
     "name": "stdout",
     "output_type": "stream",
     "text": [
      "\u001b[0;31;40mepoch: 46\u001b[0m \u001b[0;32;40mtrain_accuracy = 0.836410641670227\u001b[0m \n"
     ]
    },
    {
     "name": "stderr",
     "output_type": "stream",
     "text": [
      "train-epoch: 47: 100%|██████████| 4/4 [00:00<00:00, 28.37it/s, loss=0.6]  \n"
     ]
    },
    {
     "name": "stdout",
     "output_type": "stream",
     "text": [
      "\u001b[0;31;40mepoch: 47\u001b[0m \u001b[0;32;40mtrain_accuracy = 0.8556129932403564\u001b[0m \n"
     ]
    },
    {
     "name": "stderr",
     "output_type": "stream",
     "text": [
      "train-epoch: 48: 100%|██████████| 4/4 [00:00<00:00, 28.02it/s, loss=0.634]\n"
     ]
    },
    {
     "name": "stdout",
     "output_type": "stream",
     "text": [
      "\u001b[0;31;40mepoch: 48\u001b[0m \u001b[0;32;40mtrain_accuracy = 0.8386262655258179\u001b[0m \n"
     ]
    },
    {
     "name": "stderr",
     "output_type": "stream",
     "text": [
      "train-epoch: 49: 100%|██████████| 4/4 [00:00<00:00, 28.83it/s, loss=0.494]\n"
     ]
    },
    {
     "name": "stdout",
     "output_type": "stream",
     "text": [
      "\u001b[0;31;40mepoch: 49\u001b[0m \u001b[0;32;40mtrain_accuracy = 0.8353027701377869\u001b[0m \n"
     ]
    },
    {
     "name": "stderr",
     "output_type": "stream",
     "text": [
      "train-epoch: 50: 100%|██████████| 4/4 [00:00<00:00, 29.62it/s, loss=0.491]\n"
     ]
    },
    {
     "name": "stdout",
     "output_type": "stream",
     "text": [
      "\u001b[0;31;40mepoch: 50\u001b[0m \u001b[0;32;40mtrain_accuracy = 0.8389955759048462\u001b[0m \n"
     ]
    },
    {
     "name": "stderr",
     "output_type": "stream",
     "text": [
      "train-epoch: 51: 100%|██████████| 4/4 [00:00<00:00, 29.83it/s, loss=0.586]\n"
     ]
    },
    {
     "name": "stdout",
     "output_type": "stream",
     "text": [
      "\u001b[0;31;40mepoch: 51\u001b[0m \u001b[0;32;40mtrain_accuracy = 0.8397340774536133\u001b[0m \n"
     ]
    },
    {
     "name": "stderr",
     "output_type": "stream",
     "text": [
      "train-epoch: 52: 100%|██████████| 4/4 [00:00<00:00, 30.53it/s, loss=0.558]\n"
     ]
    },
    {
     "name": "stdout",
     "output_type": "stream",
     "text": [
      "\u001b[0;31;40mepoch: 52\u001b[0m \u001b[0;32;40mtrain_accuracy = 0.8319792747497559\u001b[0m \n"
     ]
    },
    {
     "name": "stderr",
     "output_type": "stream",
     "text": [
      "train-epoch: 53: 100%|██████████| 4/4 [00:00<00:00, 30.21it/s, loss=0.539]\n"
     ]
    },
    {
     "name": "stdout",
     "output_type": "stream",
     "text": [
      "\u001b[0;31;40mepoch: 53\u001b[0m \u001b[0;32;40mtrain_accuracy = 0.841211199760437\u001b[0m \n"
     ]
    },
    {
     "name": "stderr",
     "output_type": "stream",
     "text": [
      "train-epoch: 54: 100%|██████████| 4/4 [00:00<00:00, 26.93it/s, loss=0.554]\n"
     ]
    },
    {
     "name": "stdout",
     "output_type": "stream",
     "text": [
      "\u001b[0;31;40mepoch: 54\u001b[0m \u001b[0;32;40mtrain_accuracy = 0.8349335193634033\u001b[0m \n"
     ]
    },
    {
     "name": "stderr",
     "output_type": "stream",
     "text": [
      "train-epoch: 55: 100%|██████████| 4/4 [00:00<00:00, 30.96it/s, loss=0.598]\n"
     ]
    },
    {
     "name": "stdout",
     "output_type": "stream",
     "text": [
      "\u001b[0;31;40mepoch: 55\u001b[0m \u001b[0;32;40mtrain_accuracy = 0.841211199760437\u001b[0m \n"
     ]
    },
    {
     "name": "stderr",
     "output_type": "stream",
     "text": [
      "train-epoch: 56: 100%|██████████| 4/4 [00:00<00:00, 30.08it/s, loss=0.573]\n"
     ]
    },
    {
     "name": "stdout",
     "output_type": "stream",
     "text": [
      "\u001b[0;31;40mepoch: 56\u001b[0m \u001b[0;32;40mtrain_accuracy = 0.8404726386070251\u001b[0m \n"
     ]
    },
    {
     "name": "stderr",
     "output_type": "stream",
     "text": [
      "train-epoch: 57: 100%|██████████| 4/4 [00:00<00:00, 28.37it/s, loss=0.492]\n"
     ]
    },
    {
     "name": "stdout",
     "output_type": "stream",
     "text": [
      "\u001b[0;31;40mepoch: 57\u001b[0m \u001b[0;32;40mtrain_accuracy = 0.8386262655258179\u001b[0m \n"
     ]
    },
    {
     "name": "stderr",
     "output_type": "stream",
     "text": [
      "train-epoch: 58: 100%|██████████| 4/4 [00:00<00:00, 30.49it/s, loss=0.567]\n"
     ]
    },
    {
     "name": "stdout",
     "output_type": "stream",
     "text": [
      "\u001b[0;31;40mepoch: 58\u001b[0m \u001b[0;32;40mtrain_accuracy = 0.836410641670227\u001b[0m \n"
     ]
    },
    {
     "name": "stderr",
     "output_type": "stream",
     "text": [
      "train-epoch: 59: 100%|██████████| 4/4 [00:00<00:00, 30.39it/s, loss=0.54] \n"
     ]
    },
    {
     "name": "stdout",
     "output_type": "stream",
     "text": [
      "\u001b[0;31;40mepoch: 59\u001b[0m \u001b[0;32;40mtrain_accuracy = 0.833087146282196\u001b[0m \n"
     ]
    },
    {
     "name": "stderr",
     "output_type": "stream",
     "text": [
      "train-epoch: 60: 100%|██████████| 4/4 [00:00<00:00, 30.53it/s, loss=0.553]\n"
     ]
    },
    {
     "name": "stdout",
     "output_type": "stream",
     "text": [
      "\u001b[0;31;40mepoch: 60\u001b[0m \u001b[0;32;40mtrain_accuracy = 0.8423190116882324\u001b[0m \n"
     ]
    },
    {
     "name": "stderr",
     "output_type": "stream",
     "text": [
      "train-epoch: 61: 100%|██████████| 4/4 [00:00<00:00, 29.52it/s, loss=0.61] \n"
     ]
    },
    {
     "name": "stdout",
     "output_type": "stream",
     "text": [
      "\u001b[0;31;40mepoch: 61\u001b[0m \u001b[0;32;40mtrain_accuracy = 0.8386262655258179\u001b[0m \n"
     ]
    },
    {
     "name": "stderr",
     "output_type": "stream",
     "text": [
      "train-epoch: 62: 100%|██████████| 4/4 [00:00<00:00, 28.99it/s, loss=0.54] \n"
     ]
    },
    {
     "name": "stdout",
     "output_type": "stream",
     "text": [
      "\u001b[0;31;40mepoch: 62\u001b[0m \u001b[0;32;40mtrain_accuracy = 0.837887704372406\u001b[0m \n"
     ]
    },
    {
     "name": "stderr",
     "output_type": "stream",
     "text": [
      "train-epoch: 63: 100%|██████████| 4/4 [00:00<00:00, 20.51it/s, loss=0.504]\n"
     ]
    },
    {
     "name": "stdout",
     "output_type": "stream",
     "text": [
      "\u001b[0;31;40mepoch: 63\u001b[0m \u001b[0;32;40mtrain_accuracy = 0.8441654443740845\u001b[0m \n"
     ]
    },
    {
     "name": "stderr",
     "output_type": "stream",
     "text": [
      "train-epoch: 64: 100%|██████████| 4/4 [00:00<00:00, 21.20it/s, loss=0.559]\n"
     ]
    },
    {
     "name": "stdout",
     "output_type": "stream",
     "text": [
      "\u001b[0;31;40mepoch: 64\u001b[0m \u001b[0;32;40mtrain_accuracy = 0.8500738143920898\u001b[0m \n"
     ]
    },
    {
     "name": "stderr",
     "output_type": "stream",
     "text": [
      "train-epoch: 65: 100%|██████████| 4/4 [00:00<00:00, 23.40it/s, loss=0.543]\n"
     ]
    },
    {
     "name": "stdout",
     "output_type": "stream",
     "text": [
      "\u001b[0;31;40mepoch: 65\u001b[0m \u001b[0;32;40mtrain_accuracy = 0.8519202470779419\u001b[0m \n"
     ]
    },
    {
     "name": "stderr",
     "output_type": "stream",
     "text": [
      "train-epoch: 66: 100%|██████████| 4/4 [00:00<00:00, 21.05it/s, loss=0.588]\n"
     ]
    },
    {
     "name": "stdout",
     "output_type": "stream",
     "text": [
      "\u001b[0;31;40mepoch: 66\u001b[0m \u001b[0;32;40mtrain_accuracy = 0.8463810682296753\u001b[0m \n"
     ]
    },
    {
     "name": "stderr",
     "output_type": "stream",
     "text": [
      "train-epoch: 67: 100%|██████████| 4/4 [00:00<00:00, 19.05it/s, loss=0.574]\n"
     ]
    },
    {
     "name": "stdout",
     "output_type": "stream",
     "text": [
      "\u001b[0;31;40mepoch: 67\u001b[0m \u001b[0;32;40mtrain_accuracy = 0.8489660024642944\u001b[0m \n"
     ]
    },
    {
     "name": "stderr",
     "output_type": "stream",
     "text": [
      "train-epoch: 68: 100%|██████████| 4/4 [00:00<00:00, 22.74it/s, loss=0.566]\n"
     ]
    },
    {
     "name": "stdout",
     "output_type": "stream",
     "text": [
      "\u001b[0;31;40mepoch: 68\u001b[0m \u001b[0;32;40mtrain_accuracy = 0.8489660024642944\u001b[0m \n"
     ]
    },
    {
     "name": "stderr",
     "output_type": "stream",
     "text": [
      "train-epoch: 69: 100%|██████████| 4/4 [00:00<00:00, 22.50it/s, loss=0.516]\n"
     ]
    },
    {
     "name": "stdout",
     "output_type": "stream",
     "text": [
      "\u001b[0;31;40mepoch: 69\u001b[0m \u001b[0;32;40mtrain_accuracy = 0.8449039459228516\u001b[0m \n"
     ]
    },
    {
     "name": "stderr",
     "output_type": "stream",
     "text": [
      "train-epoch: 70: 100%|██████████| 4/4 [00:00<00:00, 22.22it/s, loss=0.491]\n"
     ]
    },
    {
     "name": "stdout",
     "output_type": "stream",
     "text": [
      "\u001b[0;31;40mepoch: 70\u001b[0m \u001b[0;32;40mtrain_accuracy = 0.8415805101394653\u001b[0m \n"
     ]
    },
    {
     "name": "stderr",
     "output_type": "stream",
     "text": [
      "train-epoch: 71: 100%|██████████| 4/4 [00:00<00:00, 21.51it/s, loss=0.507]\n"
     ]
    },
    {
     "name": "stdout",
     "output_type": "stream",
     "text": [
      "\u001b[0;31;40mepoch: 71\u001b[0m \u001b[0;32;40mtrain_accuracy = 0.8556129932403564\u001b[0m \n"
     ]
    },
    {
     "name": "stderr",
     "output_type": "stream",
     "text": [
      "train-epoch: 72: 100%|██████████| 4/4 [00:00<00:00, 23.45it/s, loss=0.492]\n"
     ]
    },
    {
     "name": "stdout",
     "output_type": "stream",
     "text": [
      "\u001b[0;31;40mepoch: 72\u001b[0m \u001b[0;32;40mtrain_accuracy = 0.8482274413108826\u001b[0m \n"
     ]
    },
    {
     "name": "stderr",
     "output_type": "stream",
     "text": [
      "train-epoch: 73: 100%|██████████| 4/4 [00:00<00:00, 21.62it/s, loss=0.541]\n"
     ]
    },
    {
     "name": "stdout",
     "output_type": "stream",
     "text": [
      "\u001b[0;31;40mepoch: 73\u001b[0m \u001b[0;32;40mtrain_accuracy = 0.8508123755455017\u001b[0m \n"
     ]
    },
    {
     "name": "stderr",
     "output_type": "stream",
     "text": [
      "train-epoch: 74: 100%|██████████| 4/4 [00:00<00:00, 20.20it/s, loss=0.521]\n"
     ]
    },
    {
     "name": "stdout",
     "output_type": "stream",
     "text": [
      "\u001b[0;31;40mepoch: 74\u001b[0m \u001b[0;32;40mtrain_accuracy = 0.8493353128433228\u001b[0m \n"
     ]
    },
    {
     "name": "stderr",
     "output_type": "stream",
     "text": [
      "train-epoch: 75: 100%|██████████| 4/4 [00:00<00:00, 22.47it/s, loss=0.55] \n"
     ]
    },
    {
     "name": "stdout",
     "output_type": "stream",
     "text": [
      "\u001b[0;31;40mepoch: 75\u001b[0m \u001b[0;32;40mtrain_accuracy = 0.8508123755455017\u001b[0m \n"
     ]
    },
    {
     "name": "stderr",
     "output_type": "stream",
     "text": [
      "train-epoch: 76: 100%|██████████| 4/4 [00:00<00:00, 23.67it/s, loss=0.558]\n"
     ]
    },
    {
     "name": "stdout",
     "output_type": "stream",
     "text": [
      "\u001b[0;31;40mepoch: 76\u001b[0m \u001b[0;32;40mtrain_accuracy = 0.85118168592453\u001b[0m \n"
     ]
    },
    {
     "name": "stderr",
     "output_type": "stream",
     "text": [
      "train-epoch: 77: 100%|██████████| 4/4 [00:00<00:00, 20.77it/s, loss=0.605]\n"
     ]
    },
    {
     "name": "stdout",
     "output_type": "stream",
     "text": [
      "\u001b[0;31;40mepoch: 77\u001b[0m \u001b[0;32;40mtrain_accuracy = 0.8533973097801208\u001b[0m \n"
     ]
    },
    {
     "name": "stderr",
     "output_type": "stream",
     "text": [
      "train-epoch: 78: 100%|██████████| 4/4 [00:00<00:00, 21.05it/s, loss=0.485]\n"
     ]
    },
    {
     "name": "stdout",
     "output_type": "stream",
     "text": [
      "\u001b[0;31;40mepoch: 78\u001b[0m \u001b[0;32;40mtrain_accuracy = 0.8567208051681519\u001b[0m \n"
     ]
    },
    {
     "name": "stderr",
     "output_type": "stream",
     "text": [
      "train-epoch: 79: 100%|██████████| 4/4 [00:00<00:00, 22.60it/s, loss=0.466]\n"
     ]
    },
    {
     "name": "stdout",
     "output_type": "stream",
     "text": [
      "\u001b[0;31;40mepoch: 79\u001b[0m \u001b[0;32;40mtrain_accuracy = 0.8581979274749756\u001b[0m \n"
     ]
    },
    {
     "name": "stderr",
     "output_type": "stream",
     "text": [
      "train-epoch: 80: 100%|██████████| 4/4 [00:00<00:00, 22.35it/s, loss=0.553]\n"
     ]
    },
    {
     "name": "stdout",
     "output_type": "stream",
     "text": [
      "\u001b[0;31;40mepoch: 80\u001b[0m \u001b[0;32;40mtrain_accuracy = 0.8615214228630066\u001b[0m \n"
     ]
    },
    {
     "name": "stderr",
     "output_type": "stream",
     "text": [
      "train-epoch: 81: 100%|██████████| 4/4 [00:00<00:00, 21.62it/s, loss=0.521]\n"
     ]
    },
    {
     "name": "stdout",
     "output_type": "stream",
     "text": [
      "\u001b[0;31;40mepoch: 81\u001b[0m \u001b[0;32;40mtrain_accuracy = 0.859305739402771\u001b[0m \n"
     ]
    },
    {
     "name": "stderr",
     "output_type": "stream",
     "text": [
      "train-epoch: 82: 100%|██████████| 4/4 [00:00<00:00, 21.28it/s, loss=0.524]\n"
     ]
    },
    {
     "name": "stdout",
     "output_type": "stream",
     "text": [
      "\u001b[0;31;40mepoch: 82\u001b[0m \u001b[0;32;40mtrain_accuracy = 0.8604135513305664\u001b[0m \n"
     ]
    },
    {
     "name": "stderr",
     "output_type": "stream",
     "text": [
      "train-epoch: 83: 100%|██████████| 4/4 [00:00<00:00, 22.28it/s, loss=0.455]\n"
     ]
    },
    {
     "name": "stdout",
     "output_type": "stream",
     "text": [
      "\u001b[0;31;40mepoch: 83\u001b[0m \u001b[0;32;40mtrain_accuracy = 0.8722304105758667\u001b[0m \n"
     ]
    },
    {
     "name": "stderr",
     "output_type": "stream",
     "text": [
      "train-epoch: 84: 100%|██████████| 4/4 [00:00<00:00, 21.86it/s, loss=0.457]\n"
     ]
    },
    {
     "name": "stdout",
     "output_type": "stream",
     "text": [
      "\u001b[0;31;40mepoch: 84\u001b[0m \u001b[0;32;40mtrain_accuracy = 0.8633677959442139\u001b[0m \n"
     ]
    },
    {
     "name": "stderr",
     "output_type": "stream",
     "text": [
      "train-epoch: 85: 100%|██████████| 4/4 [00:00<00:00, 22.10it/s, loss=0.546]\n"
     ]
    },
    {
     "name": "stdout",
     "output_type": "stream",
     "text": [
      "\u001b[0;31;40mepoch: 85\u001b[0m \u001b[0;32;40mtrain_accuracy = 0.8663219809532166\u001b[0m \n"
     ]
    },
    {
     "name": "stderr",
     "output_type": "stream",
     "text": [
      "train-epoch: 86: 100%|██████████| 4/4 [00:00<00:00, 22.73it/s, loss=0.464]\n"
     ]
    },
    {
     "name": "stdout",
     "output_type": "stream",
     "text": [
      "\u001b[0;31;40mepoch: 86\u001b[0m \u001b[0;32;40mtrain_accuracy = 0.8641063570976257\u001b[0m \n"
     ]
    },
    {
     "name": "stderr",
     "output_type": "stream",
     "text": [
      "train-epoch: 87: 100%|██████████| 4/4 [00:00<00:00, 22.22it/s, loss=0.551]\n"
     ]
    },
    {
     "name": "stdout",
     "output_type": "stream",
     "text": [
      "\u001b[0;31;40mepoch: 87\u001b[0m \u001b[0;32;40mtrain_accuracy = 0.8759231567382812\u001b[0m \n"
     ]
    },
    {
     "name": "stderr",
     "output_type": "stream",
     "text": [
      "train-epoch: 88: 100%|██████████| 4/4 [00:00<00:00, 23.87it/s, loss=0.476]\n"
     ]
    },
    {
     "name": "stdout",
     "output_type": "stream",
     "text": [
      "\u001b[0;31;40mepoch: 88\u001b[0m \u001b[0;32;40mtrain_accuracy = 0.8655834197998047\u001b[0m \n"
     ]
    },
    {
     "name": "stderr",
     "output_type": "stream",
     "text": [
      "train-epoch: 89: 100%|██████████| 4/4 [00:00<00:00, 21.28it/s, loss=0.438]\n"
     ]
    },
    {
     "name": "stdout",
     "output_type": "stream",
     "text": [
      "\u001b[0;31;40mepoch: 89\u001b[0m \u001b[0;32;40mtrain_accuracy = 0.8733382225036621\u001b[0m \n"
     ]
    },
    {
     "name": "stderr",
     "output_type": "stream",
     "text": [
      "train-epoch: 90: 100%|██████████| 4/4 [00:00<00:00, 20.10it/s, loss=0.498]\n"
     ]
    },
    {
     "name": "stdout",
     "output_type": "stream",
     "text": [
      "\u001b[0;31;40mepoch: 90\u001b[0m \u001b[0;32;40mtrain_accuracy = 0.8737075328826904\u001b[0m \n"
     ]
    },
    {
     "name": "stderr",
     "output_type": "stream",
     "text": [
      "train-epoch: 91: 100%|██████████| 4/4 [00:00<00:00, 21.41it/s, loss=0.542]\n"
     ]
    },
    {
     "name": "stdout",
     "output_type": "stream",
     "text": [
      "\u001b[0;31;40mepoch: 91\u001b[0m \u001b[0;32;40mtrain_accuracy = 0.8689069151878357\u001b[0m \n"
     ]
    },
    {
     "name": "stderr",
     "output_type": "stream",
     "text": [
      "train-epoch: 92: 100%|██████████| 4/4 [00:00<00:00, 20.83it/s, loss=0.489]\n"
     ]
    },
    {
     "name": "stdout",
     "output_type": "stream",
     "text": [
      "\u001b[0;31;40mepoch: 92\u001b[0m \u001b[0;32;40mtrain_accuracy = 0.8670605421066284\u001b[0m \n"
     ]
    },
    {
     "name": "stderr",
     "output_type": "stream",
     "text": [
      "train-epoch: 93: 100%|██████████| 4/4 [00:00<00:00, 21.72it/s, loss=0.546]\n"
     ]
    },
    {
     "name": "stdout",
     "output_type": "stream",
     "text": [
      "\u001b[0;31;40mepoch: 93\u001b[0m \u001b[0;32;40mtrain_accuracy = 0.8685376644134521\u001b[0m \n"
     ]
    },
    {
     "name": "stderr",
     "output_type": "stream",
     "text": [
      "train-epoch: 94: 100%|██████████| 4/4 [00:00<00:00, 22.73it/s, loss=0.513]\n"
     ]
    },
    {
     "name": "stdout",
     "output_type": "stream",
     "text": [
      "\u001b[0;31;40mepoch: 94\u001b[0m \u001b[0;32;40mtrain_accuracy = 0.874076783657074\u001b[0m \n"
     ]
    },
    {
     "name": "stderr",
     "output_type": "stream",
     "text": [
      "train-epoch: 95: 100%|██████████| 4/4 [00:00<00:00, 20.83it/s, loss=0.503]\n"
     ]
    },
    {
     "name": "stdout",
     "output_type": "stream",
     "text": [
      "\u001b[0;31;40mepoch: 95\u001b[0m \u001b[0;32;40mtrain_accuracy = 0.867429792881012\u001b[0m \n"
     ]
    },
    {
     "name": "stderr",
     "output_type": "stream",
     "text": [
      "train-epoch: 96: 100%|██████████| 4/4 [00:00<00:00, 22.86it/s, loss=0.45] \n"
     ]
    },
    {
     "name": "stdout",
     "output_type": "stream",
     "text": [
      "\u001b[0;31;40mepoch: 96\u001b[0m \u001b[0;32;40mtrain_accuracy = 0.8700147271156311\u001b[0m \n"
     ]
    },
    {
     "name": "stderr",
     "output_type": "stream",
     "text": [
      "train-epoch: 97: 100%|██████████| 4/4 [00:00<00:00, 22.86it/s, loss=0.432]\n"
     ]
    },
    {
     "name": "stdout",
     "output_type": "stream",
     "text": [
      "\u001b[0;31;40mepoch: 97\u001b[0m \u001b[0;32;40mtrain_accuracy = 0.8685376644134521\u001b[0m \n"
     ]
    },
    {
     "name": "stderr",
     "output_type": "stream",
     "text": [
      "train-epoch: 98: 100%|██████████| 4/4 [00:00<00:00, 22.86it/s, loss=0.477]"
     ]
    },
    {
     "name": "stdout",
     "output_type": "stream",
     "text": [
      "\u001b[0;31;40mepoch: 98\u001b[0m \u001b[0;32;40mtrain_accuracy = 0.8714918494224548\u001b[0m "
     ]
    },
    {
     "name": "stderr",
     "output_type": "stream",
     "text": [
      "\n"
     ]
    },
    {
     "name": "stdout",
     "output_type": "stream",
     "text": [
      "\n"
     ]
    },
    {
     "name": "stderr",
     "output_type": "stream",
     "text": [
      "train-epoch: 99: 100%|██████████| 4/4 [00:00<00:00, 21.55it/s, loss=0.48] \n"
     ]
    },
    {
     "name": "stdout",
     "output_type": "stream",
     "text": [
      "\u001b[0;31;40mepoch: 99\u001b[0m \u001b[0;32;40mtrain_accuracy = 0.8733382225036621\u001b[0m \n"
     ]
    },
    {
     "name": "stderr",
     "output_type": "stream",
     "text": [
      "train-epoch: 100: 100%|██████████| 4/4 [00:00<00:00, 20.30it/s, loss=0.456]"
     ]
    },
    {
     "name": "stdout",
     "output_type": "stream",
     "text": [
      "\u001b[0;31;40mepoch: 100\u001b[0m \u001b[0;32;40mtrain_accuracy = 0.8725996613502502\u001b[0m \n"
     ]
    },
    {
     "name": "stderr",
     "output_type": "stream",
     "text": [
      "\n"
     ]
    }
   ],
   "source": [
    "train_accuracies = []\n",
    "train_lossess    = []\n",
    "val_accuracies   = []\n",
    "val_lossess      = []\n",
    "for epoch in range(1, epochs + 1):\n",
    "    net.train()\n",
    "    train_y_trues = []\n",
    "    train_y_preds = []\n",
    "    train_losses  = []\n",
    "    pbar = tqdm(total=len(train_dataloader), desc=f\"train-epoch: {epoch}\")\n",
    "    for batch in train_dataloader:\n",
    "        optimizer.zero_grad()\n",
    "        x, edge_index, y = batch.x, batch.edge_index, batch.y\n",
    "        x, edge_index, y = x.to(device), edge_index.to(device), y.to(device)\n",
    "        y_pred = net(x, edge_index, batch)\n",
    "        loss: Tensor = loss_fn(y_pred, y)\n",
    "        loss.backward()\n",
    "        optimizer.step()\n",
    "\n",
    "        train_y_trues.append(y)\n",
    "        train_y_preds.append(y_pred.argmax(dim=-1))\n",
    "        train_losses.append(loss.item())\n",
    "        pbar.update(1)\n",
    "        pbar.set_postfix({\"loss\": loss.item()})\n",
    "    pbar.close()\n",
    "\n",
    "    lr_scheduler.step()\n",
    "\n",
    "    # 准确率\n",
    "    train_y_trues_ = torch.cat(train_y_trues)\n",
    "    train_y_preds_ = torch.cat(train_y_preds)\n",
    "    train_accuracy = (train_y_trues_ == train_y_preds_).float().sum().divide(len(train_y_trues_))\n",
    "    train_accuracies.append(train_accuracy.item())\n",
    "    train_lossess.append(torch.tensor(train_losses).mean().item())\n",
    "\n",
    "\n",
    "    # net.eval()\n",
    "    # val_y_trues = []\n",
    "    # val_y_preds = []\n",
    "    # val_losses  = []\n",
    "    # pbar = tqdm(total=len(val_dataloader), desc=f\"val-epoch: {epoch}\")\n",
    "    # for batch in val_dataloader:\n",
    "    #     x, edge_index, batch, y = batch.x, batch.edge_index, batch.batch, batch.y\n",
    "    #     x, edge_index, batch, y = x.to(device), edge_index.to(device), batch.to(device), y.to(device)\n",
    "    #     with torch.inference_mode():\n",
    "    #         y_pred = net(x, edge_index, batch)\n",
    "    #     loss: Tensor = loss_fn(y_pred, y)\n",
    "\n",
    "    #     val_y_trues.append(y)\n",
    "    #     val_y_preds.append(y_pred.argmax(dim=-1))\n",
    "    #     val_losses.append(loss.item())\n",
    "    #     pbar.update(1)\n",
    "    #     pbar.set_postfix({\"loss\": loss.item()})\n",
    "    # pbar.close()\n",
    "\n",
    "    # # 准确率\n",
    "    # val_y_trues_ = torch.cat(val_y_trues)\n",
    "    # val_y_preds_ = torch.cat(val_y_preds)\n",
    "    # val_accuracy = (val_y_trues_ == val_y_preds_).float().sum().divide(len(val_y_trues_))\n",
    "    # val_accuracies.append(val_accuracy.item())\n",
    "    # val_lossess.append(torch.tensor(val_losses).mean().item())\n",
    "\n",
    "    print(f\"\\033[0;31;40mepoch: {epoch}\\033[0m \" +\n",
    "        f\"\\033[0;32;40mtrain_accuracy = {train_accuracy.item()}\\033[0m \")"
   ]
  },
  {
   "cell_type": "code",
   "execution_count": 30,
   "metadata": {},
   "outputs": [
    {
     "name": "stdout",
     "output_type": "stream",
     "text": [
      "0.8759231567382812\n"
     ]
    }
   ],
   "source": [
    "print(max(train_accuracies))\n",
    "# 0.8759231567382812"
   ]
  },
  {
   "cell_type": "code",
   "execution_count": 31,
   "metadata": {},
   "outputs": [
    {
     "data": {
      "application/vnd.plotly.v1+json": {
       "config": {
        "plotlyServerURL": "https://plot.ly"
       },
       "data": [
        {
         "mode": "lines+markers",
         "name": "train",
         "type": "scatter",
         "y": [
          0.25886261463165283,
          0.30539143085479736,
          0.3024372160434723,
          0.3028064966201782,
          0.3035450577735901,
          0.30391430854797363,
          0.3249630630016327,
          0.34379616379737854,
          0.37407681345939636,
          0.47045788168907166,
          0.5302806496620178,
          0.5528064966201782,
          0.5779172778129578,
          0.597858190536499,
          0.6805760860443115,
          0.7082718014717102,
          0.6901772618293762,
          0.6853766441345215,
          0.7141801714897156,
          0.7241506576538086,
          0.7315361499786377,
          0.7189807891845703,
          0.7477843165397644,
          0.7315361499786377,
          0.7717872858047485,
          0.7924667596817017,
          0.7994830012321472,
          0.7932053208351135,
          0.8098227381706238,
          0.8179467916488647,
          0.8194239139556885,
          0.826440155506134,
          0.8223780989646912,
          0.8268094658851624,
          0.8279172778129578,
          0.8334563970565796,
          0.8327178359031677,
          0.8382570147514343,
          0.829763650894165,
          0.8293943405151367,
          0.841211199760437,
          0.844534695148468,
          0.8497045636177063,
          0.8467503786087036,
          0.8456425070762634,
          0.836410641670227,
          0.8556129932403564,
          0.8386262655258179,
          0.8353027701377869,
          0.8389955759048462,
          0.8397340774536133,
          0.8319792747497559,
          0.841211199760437,
          0.8349335193634033,
          0.841211199760437,
          0.8404726386070251,
          0.8386262655258179,
          0.836410641670227,
          0.833087146282196,
          0.8423190116882324,
          0.8386262655258179,
          0.837887704372406,
          0.8441654443740845,
          0.8500738143920898,
          0.8519202470779419,
          0.8463810682296753,
          0.8489660024642944,
          0.8489660024642944,
          0.8449039459228516,
          0.8415805101394653,
          0.8556129932403564,
          0.8482274413108826,
          0.8508123755455017,
          0.8493353128433228,
          0.8508123755455017,
          0.85118168592453,
          0.8533973097801208,
          0.8567208051681519,
          0.8581979274749756,
          0.8615214228630066,
          0.859305739402771,
          0.8604135513305664,
          0.8722304105758667,
          0.8633677959442139,
          0.8663219809532166,
          0.8641063570976257,
          0.8759231567382812,
          0.8655834197998047,
          0.8733382225036621,
          0.8737075328826904,
          0.8689069151878357,
          0.8670605421066284,
          0.8685376644134521,
          0.874076783657074,
          0.867429792881012,
          0.8700147271156311,
          0.8685376644134521,
          0.8714918494224548,
          0.8733382225036621,
          0.8725996613502502
         ]
        }
       ],
       "layout": {
        "template": {
         "data": {
          "bar": [
           {
            "error_x": {
             "color": "#2a3f5f"
            },
            "error_y": {
             "color": "#2a3f5f"
            },
            "marker": {
             "line": {
              "color": "#E5ECF6",
              "width": 0.5
             },
             "pattern": {
              "fillmode": "overlay",
              "size": 10,
              "solidity": 0.2
             }
            },
            "type": "bar"
           }
          ],
          "barpolar": [
           {
            "marker": {
             "line": {
              "color": "#E5ECF6",
              "width": 0.5
             },
             "pattern": {
              "fillmode": "overlay",
              "size": 10,
              "solidity": 0.2
             }
            },
            "type": "barpolar"
           }
          ],
          "carpet": [
           {
            "aaxis": {
             "endlinecolor": "#2a3f5f",
             "gridcolor": "white",
             "linecolor": "white",
             "minorgridcolor": "white",
             "startlinecolor": "#2a3f5f"
            },
            "baxis": {
             "endlinecolor": "#2a3f5f",
             "gridcolor": "white",
             "linecolor": "white",
             "minorgridcolor": "white",
             "startlinecolor": "#2a3f5f"
            },
            "type": "carpet"
           }
          ],
          "choropleth": [
           {
            "colorbar": {
             "outlinewidth": 0,
             "ticks": ""
            },
            "type": "choropleth"
           }
          ],
          "contour": [
           {
            "colorbar": {
             "outlinewidth": 0,
             "ticks": ""
            },
            "colorscale": [
             [
              0,
              "#0d0887"
             ],
             [
              0.1111111111111111,
              "#46039f"
             ],
             [
              0.2222222222222222,
              "#7201a8"
             ],
             [
              0.3333333333333333,
              "#9c179e"
             ],
             [
              0.4444444444444444,
              "#bd3786"
             ],
             [
              0.5555555555555556,
              "#d8576b"
             ],
             [
              0.6666666666666666,
              "#ed7953"
             ],
             [
              0.7777777777777778,
              "#fb9f3a"
             ],
             [
              0.8888888888888888,
              "#fdca26"
             ],
             [
              1,
              "#f0f921"
             ]
            ],
            "type": "contour"
           }
          ],
          "contourcarpet": [
           {
            "colorbar": {
             "outlinewidth": 0,
             "ticks": ""
            },
            "type": "contourcarpet"
           }
          ],
          "heatmap": [
           {
            "colorbar": {
             "outlinewidth": 0,
             "ticks": ""
            },
            "colorscale": [
             [
              0,
              "#0d0887"
             ],
             [
              0.1111111111111111,
              "#46039f"
             ],
             [
              0.2222222222222222,
              "#7201a8"
             ],
             [
              0.3333333333333333,
              "#9c179e"
             ],
             [
              0.4444444444444444,
              "#bd3786"
             ],
             [
              0.5555555555555556,
              "#d8576b"
             ],
             [
              0.6666666666666666,
              "#ed7953"
             ],
             [
              0.7777777777777778,
              "#fb9f3a"
             ],
             [
              0.8888888888888888,
              "#fdca26"
             ],
             [
              1,
              "#f0f921"
             ]
            ],
            "type": "heatmap"
           }
          ],
          "heatmapgl": [
           {
            "colorbar": {
             "outlinewidth": 0,
             "ticks": ""
            },
            "colorscale": [
             [
              0,
              "#0d0887"
             ],
             [
              0.1111111111111111,
              "#46039f"
             ],
             [
              0.2222222222222222,
              "#7201a8"
             ],
             [
              0.3333333333333333,
              "#9c179e"
             ],
             [
              0.4444444444444444,
              "#bd3786"
             ],
             [
              0.5555555555555556,
              "#d8576b"
             ],
             [
              0.6666666666666666,
              "#ed7953"
             ],
             [
              0.7777777777777778,
              "#fb9f3a"
             ],
             [
              0.8888888888888888,
              "#fdca26"
             ],
             [
              1,
              "#f0f921"
             ]
            ],
            "type": "heatmapgl"
           }
          ],
          "histogram": [
           {
            "marker": {
             "pattern": {
              "fillmode": "overlay",
              "size": 10,
              "solidity": 0.2
             }
            },
            "type": "histogram"
           }
          ],
          "histogram2d": [
           {
            "colorbar": {
             "outlinewidth": 0,
             "ticks": ""
            },
            "colorscale": [
             [
              0,
              "#0d0887"
             ],
             [
              0.1111111111111111,
              "#46039f"
             ],
             [
              0.2222222222222222,
              "#7201a8"
             ],
             [
              0.3333333333333333,
              "#9c179e"
             ],
             [
              0.4444444444444444,
              "#bd3786"
             ],
             [
              0.5555555555555556,
              "#d8576b"
             ],
             [
              0.6666666666666666,
              "#ed7953"
             ],
             [
              0.7777777777777778,
              "#fb9f3a"
             ],
             [
              0.8888888888888888,
              "#fdca26"
             ],
             [
              1,
              "#f0f921"
             ]
            ],
            "type": "histogram2d"
           }
          ],
          "histogram2dcontour": [
           {
            "colorbar": {
             "outlinewidth": 0,
             "ticks": ""
            },
            "colorscale": [
             [
              0,
              "#0d0887"
             ],
             [
              0.1111111111111111,
              "#46039f"
             ],
             [
              0.2222222222222222,
              "#7201a8"
             ],
             [
              0.3333333333333333,
              "#9c179e"
             ],
             [
              0.4444444444444444,
              "#bd3786"
             ],
             [
              0.5555555555555556,
              "#d8576b"
             ],
             [
              0.6666666666666666,
              "#ed7953"
             ],
             [
              0.7777777777777778,
              "#fb9f3a"
             ],
             [
              0.8888888888888888,
              "#fdca26"
             ],
             [
              1,
              "#f0f921"
             ]
            ],
            "type": "histogram2dcontour"
           }
          ],
          "mesh3d": [
           {
            "colorbar": {
             "outlinewidth": 0,
             "ticks": ""
            },
            "type": "mesh3d"
           }
          ],
          "parcoords": [
           {
            "line": {
             "colorbar": {
              "outlinewidth": 0,
              "ticks": ""
             }
            },
            "type": "parcoords"
           }
          ],
          "pie": [
           {
            "automargin": true,
            "type": "pie"
           }
          ],
          "scatter": [
           {
            "fillpattern": {
             "fillmode": "overlay",
             "size": 10,
             "solidity": 0.2
            },
            "type": "scatter"
           }
          ],
          "scatter3d": [
           {
            "line": {
             "colorbar": {
              "outlinewidth": 0,
              "ticks": ""
             }
            },
            "marker": {
             "colorbar": {
              "outlinewidth": 0,
              "ticks": ""
             }
            },
            "type": "scatter3d"
           }
          ],
          "scattercarpet": [
           {
            "marker": {
             "colorbar": {
              "outlinewidth": 0,
              "ticks": ""
             }
            },
            "type": "scattercarpet"
           }
          ],
          "scattergeo": [
           {
            "marker": {
             "colorbar": {
              "outlinewidth": 0,
              "ticks": ""
             }
            },
            "type": "scattergeo"
           }
          ],
          "scattergl": [
           {
            "marker": {
             "colorbar": {
              "outlinewidth": 0,
              "ticks": ""
             }
            },
            "type": "scattergl"
           }
          ],
          "scattermapbox": [
           {
            "marker": {
             "colorbar": {
              "outlinewidth": 0,
              "ticks": ""
             }
            },
            "type": "scattermapbox"
           }
          ],
          "scatterpolar": [
           {
            "marker": {
             "colorbar": {
              "outlinewidth": 0,
              "ticks": ""
             }
            },
            "type": "scatterpolar"
           }
          ],
          "scatterpolargl": [
           {
            "marker": {
             "colorbar": {
              "outlinewidth": 0,
              "ticks": ""
             }
            },
            "type": "scatterpolargl"
           }
          ],
          "scatterternary": [
           {
            "marker": {
             "colorbar": {
              "outlinewidth": 0,
              "ticks": ""
             }
            },
            "type": "scatterternary"
           }
          ],
          "surface": [
           {
            "colorbar": {
             "outlinewidth": 0,
             "ticks": ""
            },
            "colorscale": [
             [
              0,
              "#0d0887"
             ],
             [
              0.1111111111111111,
              "#46039f"
             ],
             [
              0.2222222222222222,
              "#7201a8"
             ],
             [
              0.3333333333333333,
              "#9c179e"
             ],
             [
              0.4444444444444444,
              "#bd3786"
             ],
             [
              0.5555555555555556,
              "#d8576b"
             ],
             [
              0.6666666666666666,
              "#ed7953"
             ],
             [
              0.7777777777777778,
              "#fb9f3a"
             ],
             [
              0.8888888888888888,
              "#fdca26"
             ],
             [
              1,
              "#f0f921"
             ]
            ],
            "type": "surface"
           }
          ],
          "table": [
           {
            "cells": {
             "fill": {
              "color": "#EBF0F8"
             },
             "line": {
              "color": "white"
             }
            },
            "header": {
             "fill": {
              "color": "#C8D4E3"
             },
             "line": {
              "color": "white"
             }
            },
            "type": "table"
           }
          ]
         },
         "layout": {
          "annotationdefaults": {
           "arrowcolor": "#2a3f5f",
           "arrowhead": 0,
           "arrowwidth": 1
          },
          "autotypenumbers": "strict",
          "coloraxis": {
           "colorbar": {
            "outlinewidth": 0,
            "ticks": ""
           }
          },
          "colorscale": {
           "diverging": [
            [
             0,
             "#8e0152"
            ],
            [
             0.1,
             "#c51b7d"
            ],
            [
             0.2,
             "#de77ae"
            ],
            [
             0.3,
             "#f1b6da"
            ],
            [
             0.4,
             "#fde0ef"
            ],
            [
             0.5,
             "#f7f7f7"
            ],
            [
             0.6,
             "#e6f5d0"
            ],
            [
             0.7,
             "#b8e186"
            ],
            [
             0.8,
             "#7fbc41"
            ],
            [
             0.9,
             "#4d9221"
            ],
            [
             1,
             "#276419"
            ]
           ],
           "sequential": [
            [
             0,
             "#0d0887"
            ],
            [
             0.1111111111111111,
             "#46039f"
            ],
            [
             0.2222222222222222,
             "#7201a8"
            ],
            [
             0.3333333333333333,
             "#9c179e"
            ],
            [
             0.4444444444444444,
             "#bd3786"
            ],
            [
             0.5555555555555556,
             "#d8576b"
            ],
            [
             0.6666666666666666,
             "#ed7953"
            ],
            [
             0.7777777777777778,
             "#fb9f3a"
            ],
            [
             0.8888888888888888,
             "#fdca26"
            ],
            [
             1,
             "#f0f921"
            ]
           ],
           "sequentialminus": [
            [
             0,
             "#0d0887"
            ],
            [
             0.1111111111111111,
             "#46039f"
            ],
            [
             0.2222222222222222,
             "#7201a8"
            ],
            [
             0.3333333333333333,
             "#9c179e"
            ],
            [
             0.4444444444444444,
             "#bd3786"
            ],
            [
             0.5555555555555556,
             "#d8576b"
            ],
            [
             0.6666666666666666,
             "#ed7953"
            ],
            [
             0.7777777777777778,
             "#fb9f3a"
            ],
            [
             0.8888888888888888,
             "#fdca26"
            ],
            [
             1,
             "#f0f921"
            ]
           ]
          },
          "colorway": [
           "#636efa",
           "#EF553B",
           "#00cc96",
           "#ab63fa",
           "#FFA15A",
           "#19d3f3",
           "#FF6692",
           "#B6E880",
           "#FF97FF",
           "#FECB52"
          ],
          "font": {
           "color": "#2a3f5f"
          },
          "geo": {
           "bgcolor": "white",
           "lakecolor": "white",
           "landcolor": "#E5ECF6",
           "showlakes": true,
           "showland": true,
           "subunitcolor": "white"
          },
          "hoverlabel": {
           "align": "left"
          },
          "hovermode": "closest",
          "mapbox": {
           "style": "light"
          },
          "paper_bgcolor": "white",
          "plot_bgcolor": "#E5ECF6",
          "polar": {
           "angularaxis": {
            "gridcolor": "white",
            "linecolor": "white",
            "ticks": ""
           },
           "bgcolor": "#E5ECF6",
           "radialaxis": {
            "gridcolor": "white",
            "linecolor": "white",
            "ticks": ""
           }
          },
          "scene": {
           "xaxis": {
            "backgroundcolor": "#E5ECF6",
            "gridcolor": "white",
            "gridwidth": 2,
            "linecolor": "white",
            "showbackground": true,
            "ticks": "",
            "zerolinecolor": "white"
           },
           "yaxis": {
            "backgroundcolor": "#E5ECF6",
            "gridcolor": "white",
            "gridwidth": 2,
            "linecolor": "white",
            "showbackground": true,
            "ticks": "",
            "zerolinecolor": "white"
           },
           "zaxis": {
            "backgroundcolor": "#E5ECF6",
            "gridcolor": "white",
            "gridwidth": 2,
            "linecolor": "white",
            "showbackground": true,
            "ticks": "",
            "zerolinecolor": "white"
           }
          },
          "shapedefaults": {
           "line": {
            "color": "#2a3f5f"
           }
          },
          "ternary": {
           "aaxis": {
            "gridcolor": "white",
            "linecolor": "white",
            "ticks": ""
           },
           "baxis": {
            "gridcolor": "white",
            "linecolor": "white",
            "ticks": ""
           },
           "bgcolor": "#E5ECF6",
           "caxis": {
            "gridcolor": "white",
            "linecolor": "white",
            "ticks": ""
           }
          },
          "title": {
           "x": 0.05
          },
          "xaxis": {
           "automargin": true,
           "gridcolor": "white",
           "linecolor": "white",
           "ticks": "",
           "title": {
            "standoff": 15
           },
           "zerolinecolor": "white",
           "zerolinewidth": 2
          },
          "yaxis": {
           "automargin": true,
           "gridcolor": "white",
           "linecolor": "white",
           "ticks": "",
           "title": {
            "standoff": 15
           },
           "zerolinecolor": "white",
           "zerolinewidth": 2
          }
         }
        }
       }
      }
     },
     "metadata": {},
     "output_type": "display_data"
    }
   ],
   "source": [
    "figure = go.Figure(\n",
    "    data=[\n",
    "        go.Scatter(\n",
    "            y=train_accuracies,\n",
    "            mode=\"lines+markers\",\n",
    "            name=\"train\",\n",
    "        ),\n",
    "        # go.Scatter(\n",
    "        #     y=val_accuracies,\n",
    "        #     mode=\"lines+markers\",\n",
    "        #     name=\"val\",\n",
    "        # ),\n",
    "    ]\n",
    ")\n",
    "figure.show()"
   ]
  },
  {
   "cell_type": "code",
   "execution_count": 32,
   "metadata": {},
   "outputs": [
    {
     "data": {
      "application/vnd.plotly.v1+json": {
       "config": {
        "plotlyServerURL": "https://plot.ly"
       },
       "data": [
        {
         "mode": "lines+markers",
         "name": "train",
         "type": "scatter",
         "y": [
          1.9384828805923462,
          1.9112601280212402,
          1.8753869533538818,
          1.8249174356460571,
          1.7578482627868652,
          1.7064591646194458,
          1.6565234661102295,
          1.6069202423095703,
          1.5463576316833496,
          1.481911063194275,
          1.4607439041137695,
          1.4102147817611694,
          1.3576265573501587,
          1.3184031248092651,
          1.2664433717727661,
          1.2204482555389404,
          1.1945888996124268,
          1.1724834442138672,
          1.0958480834960938,
          1.0547738075256348,
          1.0109111070632935,
          1.0238782167434692,
          0.9622191190719604,
          0.98287034034729,
          0.9116182923316956,
          0.8635475039482117,
          0.8458553552627563,
          0.8427687883377075,
          0.7995210289955139,
          0.7638921141624451,
          0.7550581693649292,
          0.7260071635246277,
          0.720227062702179,
          0.7000948190689087,
          0.7233502864837646,
          0.6852872967720032,
          0.6820785999298096,
          0.6514527201652527,
          0.6709760427474976,
          0.6571340560913086,
          0.6300302743911743,
          0.6179636716842651,
          0.5994921922683716,
          0.6079946160316467,
          0.5890710353851318,
          0.6014319658279419,
          0.5771195888519287,
          0.5862888097763062,
          0.5952105522155762,
          0.5728710889816284,
          0.5826489925384521,
          0.5777466297149658,
          0.5649361610412598,
          0.5767220854759216,
          0.5594355463981628,
          0.5637503266334534,
          0.5552670955657959,
          0.5490813255310059,
          0.5710500478744507,
          0.549770712852478,
          0.5438319444656372,
          0.5531956553459167,
          0.5431803464889526,
          0.5306065082550049,
          0.5204542875289917,
          0.5424884557723999,
          0.5275048017501831,
          0.5265862345695496,
          0.5264493227005005,
          0.532362163066864,
          0.5134286880493164,
          0.5189501047134399,
          0.528680682182312,
          0.526110053062439,
          0.537259578704834,
          0.5378592014312744,
          0.5083328485488892,
          0.5044270157814026,
          0.5040104389190674,
          0.5255119800567627,
          0.5098925232887268,
          0.5044307708740234,
          0.5136085748672485,
          0.5008257031440735,
          0.5195330381393433,
          0.5116219520568848,
          0.49308139085769653,
          0.49644067883491516,
          0.49538540840148926,
          0.500873327255249,
          0.49809515476226807,
          0.4959331154823303,
          0.5095148682594299,
          0.4918963313102722,
          0.5108470320701599,
          0.4991830587387085,
          0.5050073266029358,
          0.5026189684867859,
          0.49362820386886597,
          0.48897743225097656
         ]
        }
       ],
       "layout": {
        "template": {
         "data": {
          "bar": [
           {
            "error_x": {
             "color": "#2a3f5f"
            },
            "error_y": {
             "color": "#2a3f5f"
            },
            "marker": {
             "line": {
              "color": "#E5ECF6",
              "width": 0.5
             },
             "pattern": {
              "fillmode": "overlay",
              "size": 10,
              "solidity": 0.2
             }
            },
            "type": "bar"
           }
          ],
          "barpolar": [
           {
            "marker": {
             "line": {
              "color": "#E5ECF6",
              "width": 0.5
             },
             "pattern": {
              "fillmode": "overlay",
              "size": 10,
              "solidity": 0.2
             }
            },
            "type": "barpolar"
           }
          ],
          "carpet": [
           {
            "aaxis": {
             "endlinecolor": "#2a3f5f",
             "gridcolor": "white",
             "linecolor": "white",
             "minorgridcolor": "white",
             "startlinecolor": "#2a3f5f"
            },
            "baxis": {
             "endlinecolor": "#2a3f5f",
             "gridcolor": "white",
             "linecolor": "white",
             "minorgridcolor": "white",
             "startlinecolor": "#2a3f5f"
            },
            "type": "carpet"
           }
          ],
          "choropleth": [
           {
            "colorbar": {
             "outlinewidth": 0,
             "ticks": ""
            },
            "type": "choropleth"
           }
          ],
          "contour": [
           {
            "colorbar": {
             "outlinewidth": 0,
             "ticks": ""
            },
            "colorscale": [
             [
              0,
              "#0d0887"
             ],
             [
              0.1111111111111111,
              "#46039f"
             ],
             [
              0.2222222222222222,
              "#7201a8"
             ],
             [
              0.3333333333333333,
              "#9c179e"
             ],
             [
              0.4444444444444444,
              "#bd3786"
             ],
             [
              0.5555555555555556,
              "#d8576b"
             ],
             [
              0.6666666666666666,
              "#ed7953"
             ],
             [
              0.7777777777777778,
              "#fb9f3a"
             ],
             [
              0.8888888888888888,
              "#fdca26"
             ],
             [
              1,
              "#f0f921"
             ]
            ],
            "type": "contour"
           }
          ],
          "contourcarpet": [
           {
            "colorbar": {
             "outlinewidth": 0,
             "ticks": ""
            },
            "type": "contourcarpet"
           }
          ],
          "heatmap": [
           {
            "colorbar": {
             "outlinewidth": 0,
             "ticks": ""
            },
            "colorscale": [
             [
              0,
              "#0d0887"
             ],
             [
              0.1111111111111111,
              "#46039f"
             ],
             [
              0.2222222222222222,
              "#7201a8"
             ],
             [
              0.3333333333333333,
              "#9c179e"
             ],
             [
              0.4444444444444444,
              "#bd3786"
             ],
             [
              0.5555555555555556,
              "#d8576b"
             ],
             [
              0.6666666666666666,
              "#ed7953"
             ],
             [
              0.7777777777777778,
              "#fb9f3a"
             ],
             [
              0.8888888888888888,
              "#fdca26"
             ],
             [
              1,
              "#f0f921"
             ]
            ],
            "type": "heatmap"
           }
          ],
          "heatmapgl": [
           {
            "colorbar": {
             "outlinewidth": 0,
             "ticks": ""
            },
            "colorscale": [
             [
              0,
              "#0d0887"
             ],
             [
              0.1111111111111111,
              "#46039f"
             ],
             [
              0.2222222222222222,
              "#7201a8"
             ],
             [
              0.3333333333333333,
              "#9c179e"
             ],
             [
              0.4444444444444444,
              "#bd3786"
             ],
             [
              0.5555555555555556,
              "#d8576b"
             ],
             [
              0.6666666666666666,
              "#ed7953"
             ],
             [
              0.7777777777777778,
              "#fb9f3a"
             ],
             [
              0.8888888888888888,
              "#fdca26"
             ],
             [
              1,
              "#f0f921"
             ]
            ],
            "type": "heatmapgl"
           }
          ],
          "histogram": [
           {
            "marker": {
             "pattern": {
              "fillmode": "overlay",
              "size": 10,
              "solidity": 0.2
             }
            },
            "type": "histogram"
           }
          ],
          "histogram2d": [
           {
            "colorbar": {
             "outlinewidth": 0,
             "ticks": ""
            },
            "colorscale": [
             [
              0,
              "#0d0887"
             ],
             [
              0.1111111111111111,
              "#46039f"
             ],
             [
              0.2222222222222222,
              "#7201a8"
             ],
             [
              0.3333333333333333,
              "#9c179e"
             ],
             [
              0.4444444444444444,
              "#bd3786"
             ],
             [
              0.5555555555555556,
              "#d8576b"
             ],
             [
              0.6666666666666666,
              "#ed7953"
             ],
             [
              0.7777777777777778,
              "#fb9f3a"
             ],
             [
              0.8888888888888888,
              "#fdca26"
             ],
             [
              1,
              "#f0f921"
             ]
            ],
            "type": "histogram2d"
           }
          ],
          "histogram2dcontour": [
           {
            "colorbar": {
             "outlinewidth": 0,
             "ticks": ""
            },
            "colorscale": [
             [
              0,
              "#0d0887"
             ],
             [
              0.1111111111111111,
              "#46039f"
             ],
             [
              0.2222222222222222,
              "#7201a8"
             ],
             [
              0.3333333333333333,
              "#9c179e"
             ],
             [
              0.4444444444444444,
              "#bd3786"
             ],
             [
              0.5555555555555556,
              "#d8576b"
             ],
             [
              0.6666666666666666,
              "#ed7953"
             ],
             [
              0.7777777777777778,
              "#fb9f3a"
             ],
             [
              0.8888888888888888,
              "#fdca26"
             ],
             [
              1,
              "#f0f921"
             ]
            ],
            "type": "histogram2dcontour"
           }
          ],
          "mesh3d": [
           {
            "colorbar": {
             "outlinewidth": 0,
             "ticks": ""
            },
            "type": "mesh3d"
           }
          ],
          "parcoords": [
           {
            "line": {
             "colorbar": {
              "outlinewidth": 0,
              "ticks": ""
             }
            },
            "type": "parcoords"
           }
          ],
          "pie": [
           {
            "automargin": true,
            "type": "pie"
           }
          ],
          "scatter": [
           {
            "fillpattern": {
             "fillmode": "overlay",
             "size": 10,
             "solidity": 0.2
            },
            "type": "scatter"
           }
          ],
          "scatter3d": [
           {
            "line": {
             "colorbar": {
              "outlinewidth": 0,
              "ticks": ""
             }
            },
            "marker": {
             "colorbar": {
              "outlinewidth": 0,
              "ticks": ""
             }
            },
            "type": "scatter3d"
           }
          ],
          "scattercarpet": [
           {
            "marker": {
             "colorbar": {
              "outlinewidth": 0,
              "ticks": ""
             }
            },
            "type": "scattercarpet"
           }
          ],
          "scattergeo": [
           {
            "marker": {
             "colorbar": {
              "outlinewidth": 0,
              "ticks": ""
             }
            },
            "type": "scattergeo"
           }
          ],
          "scattergl": [
           {
            "marker": {
             "colorbar": {
              "outlinewidth": 0,
              "ticks": ""
             }
            },
            "type": "scattergl"
           }
          ],
          "scattermapbox": [
           {
            "marker": {
             "colorbar": {
              "outlinewidth": 0,
              "ticks": ""
             }
            },
            "type": "scattermapbox"
           }
          ],
          "scatterpolar": [
           {
            "marker": {
             "colorbar": {
              "outlinewidth": 0,
              "ticks": ""
             }
            },
            "type": "scatterpolar"
           }
          ],
          "scatterpolargl": [
           {
            "marker": {
             "colorbar": {
              "outlinewidth": 0,
              "ticks": ""
             }
            },
            "type": "scatterpolargl"
           }
          ],
          "scatterternary": [
           {
            "marker": {
             "colorbar": {
              "outlinewidth": 0,
              "ticks": ""
             }
            },
            "type": "scatterternary"
           }
          ],
          "surface": [
           {
            "colorbar": {
             "outlinewidth": 0,
             "ticks": ""
            },
            "colorscale": [
             [
              0,
              "#0d0887"
             ],
             [
              0.1111111111111111,
              "#46039f"
             ],
             [
              0.2222222222222222,
              "#7201a8"
             ],
             [
              0.3333333333333333,
              "#9c179e"
             ],
             [
              0.4444444444444444,
              "#bd3786"
             ],
             [
              0.5555555555555556,
              "#d8576b"
             ],
             [
              0.6666666666666666,
              "#ed7953"
             ],
             [
              0.7777777777777778,
              "#fb9f3a"
             ],
             [
              0.8888888888888888,
              "#fdca26"
             ],
             [
              1,
              "#f0f921"
             ]
            ],
            "type": "surface"
           }
          ],
          "table": [
           {
            "cells": {
             "fill": {
              "color": "#EBF0F8"
             },
             "line": {
              "color": "white"
             }
            },
            "header": {
             "fill": {
              "color": "#C8D4E3"
             },
             "line": {
              "color": "white"
             }
            },
            "type": "table"
           }
          ]
         },
         "layout": {
          "annotationdefaults": {
           "arrowcolor": "#2a3f5f",
           "arrowhead": 0,
           "arrowwidth": 1
          },
          "autotypenumbers": "strict",
          "coloraxis": {
           "colorbar": {
            "outlinewidth": 0,
            "ticks": ""
           }
          },
          "colorscale": {
           "diverging": [
            [
             0,
             "#8e0152"
            ],
            [
             0.1,
             "#c51b7d"
            ],
            [
             0.2,
             "#de77ae"
            ],
            [
             0.3,
             "#f1b6da"
            ],
            [
             0.4,
             "#fde0ef"
            ],
            [
             0.5,
             "#f7f7f7"
            ],
            [
             0.6,
             "#e6f5d0"
            ],
            [
             0.7,
             "#b8e186"
            ],
            [
             0.8,
             "#7fbc41"
            ],
            [
             0.9,
             "#4d9221"
            ],
            [
             1,
             "#276419"
            ]
           ],
           "sequential": [
            [
             0,
             "#0d0887"
            ],
            [
             0.1111111111111111,
             "#46039f"
            ],
            [
             0.2222222222222222,
             "#7201a8"
            ],
            [
             0.3333333333333333,
             "#9c179e"
            ],
            [
             0.4444444444444444,
             "#bd3786"
            ],
            [
             0.5555555555555556,
             "#d8576b"
            ],
            [
             0.6666666666666666,
             "#ed7953"
            ],
            [
             0.7777777777777778,
             "#fb9f3a"
            ],
            [
             0.8888888888888888,
             "#fdca26"
            ],
            [
             1,
             "#f0f921"
            ]
           ],
           "sequentialminus": [
            [
             0,
             "#0d0887"
            ],
            [
             0.1111111111111111,
             "#46039f"
            ],
            [
             0.2222222222222222,
             "#7201a8"
            ],
            [
             0.3333333333333333,
             "#9c179e"
            ],
            [
             0.4444444444444444,
             "#bd3786"
            ],
            [
             0.5555555555555556,
             "#d8576b"
            ],
            [
             0.6666666666666666,
             "#ed7953"
            ],
            [
             0.7777777777777778,
             "#fb9f3a"
            ],
            [
             0.8888888888888888,
             "#fdca26"
            ],
            [
             1,
             "#f0f921"
            ]
           ]
          },
          "colorway": [
           "#636efa",
           "#EF553B",
           "#00cc96",
           "#ab63fa",
           "#FFA15A",
           "#19d3f3",
           "#FF6692",
           "#B6E880",
           "#FF97FF",
           "#FECB52"
          ],
          "font": {
           "color": "#2a3f5f"
          },
          "geo": {
           "bgcolor": "white",
           "lakecolor": "white",
           "landcolor": "#E5ECF6",
           "showlakes": true,
           "showland": true,
           "subunitcolor": "white"
          },
          "hoverlabel": {
           "align": "left"
          },
          "hovermode": "closest",
          "mapbox": {
           "style": "light"
          },
          "paper_bgcolor": "white",
          "plot_bgcolor": "#E5ECF6",
          "polar": {
           "angularaxis": {
            "gridcolor": "white",
            "linecolor": "white",
            "ticks": ""
           },
           "bgcolor": "#E5ECF6",
           "radialaxis": {
            "gridcolor": "white",
            "linecolor": "white",
            "ticks": ""
           }
          },
          "scene": {
           "xaxis": {
            "backgroundcolor": "#E5ECF6",
            "gridcolor": "white",
            "gridwidth": 2,
            "linecolor": "white",
            "showbackground": true,
            "ticks": "",
            "zerolinecolor": "white"
           },
           "yaxis": {
            "backgroundcolor": "#E5ECF6",
            "gridcolor": "white",
            "gridwidth": 2,
            "linecolor": "white",
            "showbackground": true,
            "ticks": "",
            "zerolinecolor": "white"
           },
           "zaxis": {
            "backgroundcolor": "#E5ECF6",
            "gridcolor": "white",
            "gridwidth": 2,
            "linecolor": "white",
            "showbackground": true,
            "ticks": "",
            "zerolinecolor": "white"
           }
          },
          "shapedefaults": {
           "line": {
            "color": "#2a3f5f"
           }
          },
          "ternary": {
           "aaxis": {
            "gridcolor": "white",
            "linecolor": "white",
            "ticks": ""
           },
           "baxis": {
            "gridcolor": "white",
            "linecolor": "white",
            "ticks": ""
           },
           "bgcolor": "#E5ECF6",
           "caxis": {
            "gridcolor": "white",
            "linecolor": "white",
            "ticks": ""
           }
          },
          "title": {
           "x": 0.05
          },
          "xaxis": {
           "automargin": true,
           "gridcolor": "white",
           "linecolor": "white",
           "ticks": "",
           "title": {
            "standoff": 15
           },
           "zerolinecolor": "white",
           "zerolinewidth": 2
          },
          "yaxis": {
           "automargin": true,
           "gridcolor": "white",
           "linecolor": "white",
           "ticks": "",
           "title": {
            "standoff": 15
           },
           "zerolinecolor": "white",
           "zerolinewidth": 2
          }
         }
        }
       }
      }
     },
     "metadata": {},
     "output_type": "display_data"
    }
   ],
   "source": [
    "figure = go.Figure(\n",
    "    data=[\n",
    "        go.Scatter(\n",
    "            y=train_lossess,\n",
    "            mode=\"lines+markers\",\n",
    "            name=\"train\"\n",
    "        ),\n",
    "        # go.Scatter(\n",
    "        #     y=val_lossess,\n",
    "        #     mode=\"lines+markers\",\n",
    "        #     name=\"val\"\n",
    "        # ),\n",
    "    ]\n",
    ")\n",
    "figure.show()"
   ]
  },
  {
   "cell_type": "code",
   "execution_count": null,
   "metadata": {},
   "outputs": [],
   "source": []
  }
 ],
 "metadata": {
  "kernelspec": {
   "display_name": "pytorch",
   "language": "python",
   "name": "python3"
  },
  "language_info": {
   "codemirror_mode": {
    "name": "ipython",
    "version": 3
   },
   "file_extension": ".py",
   "mimetype": "text/x-python",
   "name": "python",
   "nbconvert_exporter": "python",
   "pygments_lexer": "ipython3",
   "version": "3.11.4"
  }
 },
 "nbformat": 4,
 "nbformat_minor": 2
}
