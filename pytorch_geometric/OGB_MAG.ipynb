{
 "cells": [
  {
   "cell_type": "markdown",
   "metadata": {},
   "source": [
    "https://zhuanlan.zhihu.com/p/435945714"
   ]
  },
  {
   "cell_type": "code",
   "execution_count": 1,
   "metadata": {},
   "outputs": [],
   "source": [
    "import torch\n",
    "from torch import nn, Tensor, optim\n",
    "from torch.nn import functional as F\n",
    "from torch_geometric import nn as gnn\n",
    "from torch_geometric import datasets\n",
    "from torch_geometric.data import Data, Dataset\n",
    "from torch_geometric.loader import DataLoader, ClusterData, ClusterLoader\n",
    "from torch_geometric import transforms as gtransforms\n",
    "from torch_geometric.utils import to_networkx\n",
    "import networkx as nx\n",
    "from tqdm import tqdm\n",
    "from plotly import express as px\n",
    "from plotly import graph_objects as go\n",
    "import matplotlib.pyplot as plt"
   ]
  },
  {
   "cell_type": "code",
   "execution_count": 2,
   "metadata": {},
   "outputs": [
    {
     "data": {
      "text/plain": [
       "'cuda:0'"
      ]
     },
     "execution_count": 2,
     "metadata": {},
     "output_type": "execute_result"
    }
   ],
   "source": [
    "device = (\n",
    "    \"cuda:0\"\n",
    "    if torch.cuda.is_available()\n",
    "    else (\"mps\" if torch.backends.mps.is_available() else \"cpu\")\n",
    ")\n",
    "device"
   ]
  },
  {
   "cell_type": "code",
   "execution_count": 3,
   "metadata": {},
   "outputs": [],
   "source": [
    "seed = 0\n",
    "torch.manual_seed(seed)\n",
    "torch.cuda.manual_seed(seed)\n",
    "torch.cuda.manual_seed_all(seed)"
   ]
  },
  {
   "cell_type": "markdown",
   "metadata": {},
   "source": [
    "# torch_geometric.data.Data\n",
    "\n",
    "节点和节点之间的边构成了图。所以在 PyG 中，如果你要构建图，那么需要两个要素：节点和边。PyG 提供了torch_geometric.data.Data (下面简称Data) 用于构建图，包括 5 个属性，每一个属性都不是必须的，可以为空。\n",
    "\n",
    "- x: 用于存储每个节点的特征，形状是 `[num_nodes, num_node_features]`\n",
    "- y: 存储样本标签。如果是每个节点都有标签，那么形状是 `[num_nodes, *]`；如果是整张图只有一个标签，那么形状是 `[1, *]`\n",
    "- edge_index: 用于存储节点之间的边，形状是 `[2, num_edges]`\n",
    "- pos: 存储节点的坐标，形状是 `[num_nodes, num_dimensions]`\n",
    "- edge_attr: 存储边的特征。形状是 `[num_edges, num_edge_features]`"
   ]
  },
  {
   "cell_type": "code",
   "execution_count": 4,
   "metadata": {},
   "outputs": [
    {
     "data": {
      "text/plain": [
       "tensor([[ 2.,  1.],\n",
       "        [ 5.,  6.],\n",
       "        [ 3.,  7.],\n",
       "        [12.,  0.]])"
      ]
     },
     "execution_count": 4,
     "metadata": {},
     "output_type": "execute_result"
    }
   ],
   "source": [
    "# x: 用于存储每个节点的特征，形状是 `[num_nodes, num_node_features]`。\n",
    "x = torch.tensor([[2, 1], [5, 6], [3, 7], [12, 0]], dtype=torch.float)\n",
    "x"
   ]
  },
  {
   "cell_type": "code",
   "execution_count": 5,
   "metadata": {},
   "outputs": [
    {
     "data": {
      "text/plain": [
       "tensor([[0],\n",
       "        [2],\n",
       "        [3],\n",
       "        [4]])"
      ]
     },
     "execution_count": 5,
     "metadata": {},
     "output_type": "execute_result"
    }
   ],
   "source": [
    "# y: 存储样本标签。如果是每个节点都有标签，那么形状是 `[num_nodes, *]`；如果是整张图只有一个标签，那么形状是 `[1, *]`。\n",
    "y = torch.tensor([[0], [2], [3], [4]], dtype=torch.long)\n",
    "y"
   ]
  },
  {
   "cell_type": "code",
   "execution_count": 6,
   "metadata": {},
   "outputs": [
    {
     "data": {
      "text/plain": [
       "tensor([[0, 1, 0, 1, 1, 2, 3],\n",
       "        [1, 0, 2, 2, 3, 3, 2]])"
      ]
     },
     "execution_count": 6,
     "metadata": {},
     "output_type": "execute_result"
    }
   ],
   "source": [
    "# edge_index: 用于存储节点之间的边，形状是 `[2, num_edges]`\n",
    "# 5条边: (0 -> 1), (0 -> 2), (1 -> 2), (1 -> 3), (2 -> 3)\n",
    "edge_index = torch.tensor(\n",
    "    [[0, 1, 0, 1, 1, 2, 3], [1, 0, 2, 2, 3, 3, 2]], dtype=torch.long\n",
    ")\n",
    "edge_index"
   ]
  },
  {
   "cell_type": "code",
   "execution_count": 7,
   "metadata": {},
   "outputs": [
    {
     "data": {
      "text/plain": [
       "Data(x=[4, 2], edge_index=[2, 7], y=[4, 1])"
      ]
     },
     "execution_count": 7,
     "metadata": {},
     "output_type": "execute_result"
    }
   ],
   "source": [
    "data = Data(x=x, y=y, edge_index=edge_index)\n",
    "data"
   ]
  },
  {
   "cell_type": "code",
   "execution_count": 8,
   "metadata": {},
   "outputs": [
    {
     "name": "stdout",
     "output_type": "stream",
     "text": [
      "('x', tensor([[ 2.,  1.],\n",
      "        [ 5.,  6.],\n",
      "        [ 3.,  7.],\n",
      "        [12.,  0.]]))\n",
      "('edge_index', tensor([[0, 1, 0, 1, 1, 2, 3],\n",
      "        [1, 0, 2, 2, 3, 3, 2]]))\n",
      "('y', tensor([[0],\n",
      "        [2],\n",
      "        [3],\n",
      "        [4]]))\n"
     ]
    }
   ],
   "source": [
    "for i in data:\n",
    "    print(i)"
   ]
  },
  {
   "cell_type": "code",
   "execution_count": 9,
   "metadata": {},
   "outputs": [],
   "source": [
    "def visualize_graph(G, color):\n",
    "    plt.figure(figsize=(7, 7))\n",
    "    plt.xticks([])\n",
    "    plt.yticks([])\n",
    "    nx.draw_networkx(\n",
    "        G,\n",
    "        pos=nx.spring_layout(G, seed=42),\n",
    "        with_labels=False,\n",
    "        node_color=color,\n",
    "        cmap=\"Set2\",\n",
    "    )\n",
    "    plt.show()"
   ]
  },
  {
   "cell_type": "code",
   "execution_count": 10,
   "metadata": {},
   "outputs": [
    {
     "data": {
      "image/png": "[encoded data removed]",
      "text/plain": [
       "<Figure size 700x700 with 1 Axes>"
      ]
     },
     "metadata": {},
     "output_type": "display_data"
    }
   ],
   "source": [
    "visualize_graph(to_networkx(data, to_undirected=True), color=data.y)"
   ]
  },
  {
   "cell_type": "markdown",
   "metadata": {},
   "source": [
    "# from torch_geometric.datasets"
   ]
  },
  {
   "cell_type": "code",
   "execution_count": 11,
   "metadata": {},
   "outputs": [
    {
     "data": {
      "text/plain": [
       "Compose([\n",
       "  ToUndirected()\n",
       "])"
      ]
     },
     "execution_count": 11,
     "metadata": {},
     "output_type": "execute_result"
    }
   ],
   "source": [
    "transform = gtransforms.Compose(\n",
    "    [\n",
    "        gtransforms.ToUndirected(merge=False),\n",
    "        # gtransforms.NormalizeFeatures(),\n",
    "    ]\n",
    ")\n",
    "transform"
   ]
  },
  {
   "cell_type": "markdown",
   "metadata": {},
   "source": [
    "| Name          | #graphs | #nodes | #edges  | #features | #classes |\n",
    "| ------------- | ------- | ------ | ------- | --------- | -------- |\n",
    "| MUTAG         | 188     | ~17.9  | ~39.6   | 7         | 2        |\n",
    "| ENZYMES       | 600     | ~32.6  | ~124.3  | 3         | 6        |\n",
    "| PROTEINS      | 1,113   | ~39.1  | ~145.6  | 3         | 2        |\n",
    "| COLLAB        | 5,000   | ~74.5  | ~4914.4 | 0         | 3        |\n",
    "| IMDB-BINARY   | 1,000   | ~19.8  | ~193.1  | 0         | 2        |\n",
    "| REDDIT-BINARY | 2,000   | ~429.6 | ~995.5  | 0         | 2        |"
   ]
  },
  {
   "cell_type": "code",
   "execution_count": 13,
   "metadata": {},
   "outputs": [
    {
     "data": {
      "text/plain": [
       "HeteroData(\n",
       "  paper={\n",
       "    x=[736389, 128],\n",
       "    year=[736389],\n",
       "    y=[736389],\n",
       "    train_mask=[736389],\n",
       "    val_mask=[736389],\n",
       "    test_mask=[736389],\n",
       "  },\n",
       "  author={ x=[1134649, 128] },\n",
       "  institution={ x=[8740, 128] },\n",
       "  field_of_study={ x=[59965, 128] },\n",
       "  (author, affiliated_with, institution)={ edge_index=[2, 1043998] },\n",
       "  (author, writes, paper)={ edge_index=[2, 7145660] },\n",
       "  (paper, cites, paper)={ edge_index=[2, 5416271] },\n",
       "  (paper, has_topic, field_of_study)={ edge_index=[2, 7505078] },\n",
       "  (institution, rev_affiliated_with, author)={ edge_index=[2, 1043998] },\n",
       "  (paper, rev_writes, author)={ edge_index=[2, 7145660] },\n",
       "  (paper, rev_cites, paper)={ edge_index=[2, 5416271] },\n",
       "  (field_of_study, rev_has_topic, paper)={ edge_index=[2, 7505078] }\n",
       ")"
      ]
     },
     "execution_count": 13,
     "metadata": {},
     "output_type": "execute_result"
    }
   ],
   "source": [
    "dataset = datasets.OGB_MAG(\n",
    "    root=\"./datasets/OGB\",\n",
    "    preprocess=\"metapath2vec\",\n",
    "    transform=transform,\n",
    ")\n",
    "dataset[0]"
   ]
  },
  {
   "cell_type": "code",
   "execution_count": 14,
   "metadata": {},
   "outputs": [
    {
     "data": {
      "text/plain": [
       "HeteroData(\n",
       "  paper={\n",
       "    x=[736389, 128],\n",
       "    year=[736389],\n",
       "    y=[736389],\n",
       "    train_mask=[736389],\n",
       "    val_mask=[736389],\n",
       "    test_mask=[736389],\n",
       "  },\n",
       "  author={ x=[1134649, 128] },\n",
       "  institution={ x=[8740, 128] },\n",
       "  field_of_study={ x=[59965, 128] },\n",
       "  (author, affiliated_with, institution)={ edge_index=[2, 1043998] },\n",
       "  (author, writes, paper)={ edge_index=[2, 7145660] },\n",
       "  (paper, cites, paper)={ edge_index=[2, 5416271] },\n",
       "  (paper, has_topic, field_of_study)={ edge_index=[2, 7505078] },\n",
       "  (institution, rev_affiliated_with, author)={ edge_index=[2, 1043998] },\n",
       "  (paper, rev_writes, author)={ edge_index=[2, 7145660] },\n",
       "  (paper, rev_cites, paper)={ edge_index=[2, 5416271] },\n",
       "  (field_of_study, rev_has_topic, paper)={ edge_index=[2, 7505078] }\n",
       ")"
      ]
     },
     "execution_count": 14,
     "metadata": {},
     "output_type": "execute_result"
    }
   ],
   "source": [
    "dataset = dataset.shuffle()\n",
    "dataset[0]"
   ]
  },
  {
   "cell_type": "code",
   "execution_count": 15,
   "metadata": {},
   "outputs": [
    {
     "data": {
      "text/plain": [
       "{('author', 'affiliated_with', 'institution'): 0,\n",
       " ('author', 'writes', 'paper'): 0,\n",
       " ('paper', 'cites', 'paper'): 0,\n",
       " ('paper', 'has_topic', 'field_of_study'): 0,\n",
       " ('institution', 'rev_affiliated_with', 'author'): 0,\n",
       " ('paper', 'rev_writes', 'author'): 0,\n",
       " ('paper', 'rev_cites', 'paper'): 0,\n",
       " ('field_of_study', 'rev_has_topic', 'paper'): 0}"
      ]
     },
     "execution_count": 15,
     "metadata": {},
     "output_type": "execute_result"
    }
   ],
   "source": [
    "dataset.num_edge_features"
   ]
  },
  {
   "cell_type": "code",
   "execution_count": 16,
   "metadata": {},
   "outputs": [
    {
     "data": {
      "text/plain": [
       "{'paper': 128, 'author': 128, 'institution': 128, 'field_of_study': 128}"
      ]
     },
     "execution_count": 16,
     "metadata": {},
     "output_type": "execute_result"
    }
   ],
   "source": [
    "dataset.num_node_features"
   ]
  },
  {
   "cell_type": "code",
   "execution_count": 17,
   "metadata": {},
   "outputs": [
    {
     "data": {
      "text/plain": [
       "({'paper': 128, 'author': 128, 'institution': 128, 'field_of_study': 128}, 349)"
      ]
     },
     "execution_count": 17,
     "metadata": {},
     "output_type": "execute_result"
    }
   ],
   "source": [
    "dataset.num_features, dataset.num_classes"
   ]
  },
  {
   "cell_type": "code",
   "execution_count": 18,
   "metadata": {},
   "outputs": [
    {
     "data": {
      "text/plain": [
       "(torch_geometric.datasets.ogb_mag.OGB_MAG,\n",
       " torch_geometric.data.hetero_data.HeteroData)"
      ]
     },
     "execution_count": 18,
     "metadata": {},
     "output_type": "execute_result"
    }
   ],
   "source": [
    "type(dataset), type(dataset[0])"
   ]
  },
  {
   "cell_type": "code",
   "execution_count": 1,
   "metadata": {},
   "outputs": [
    {
     "ename": "NameError",
     "evalue": "name 'ClusterData' is not defined",
     "output_type": "error",
     "traceback": [
      "\u001b[1;31m---------------------------------------------------------------------------\u001b[0m",
      "\u001b[1;31mNameError\u001b[0m                                 Traceback (most recent call last)",
      "\u001b[1;32md:\\ml\\code\\test\\pytorch\\geometric\\OGB_MAG.ipynb 单元格 22\u001b[0m line \u001b[0;36m1\n\u001b[1;32m----> <a href='vscode-notebook-cell:/d%3A/ml/code/test/pytorch/geometric/OGB_MAG.ipynb#X30sZmlsZQ%3D%3D?line=0'>1</a>\u001b[0m cluster_data \u001b[39m=\u001b[39m ClusterData(dataset[\u001b[39m0\u001b[39m], num_parts\u001b[39m=\u001b[39m\u001b[39m128\u001b[39m)  \u001b[39m# 1. Create subgraphs.\u001b[39;00m\n\u001b[0;32m      <a href='vscode-notebook-cell:/d%3A/ml/code/test/pytorch/geometric/OGB_MAG.ipynb#X30sZmlsZQ%3D%3D?line=1'>2</a>\u001b[0m train_dataloader \u001b[39m=\u001b[39m ClusterLoader(cluster_data, batch_size\u001b[39m=\u001b[39m\u001b[39m32\u001b[39m, shuffle\u001b[39m=\u001b[39m\u001b[39mTrue\u001b[39;00m)  \u001b[39m# 2. Stochastic partioning scheme.\u001b[39;00m\n",
      "\u001b[1;31mNameError\u001b[0m: name 'ClusterData' is not defined"
     ]
    }
   ],
   "source": [
    "cluster_data = ClusterData(dataset[0], num_parts=128)  # 1. Create subgraphs.\n",
    "train_dataloader = ClusterLoader(\n",
    "    cluster_data, batch_size=32, shuffle=True\n",
    ")  # 2. Stochastic partioning scheme."
   ]
  },
  {
   "cell_type": "code",
   "execution_count": 20,
   "metadata": {},
   "outputs": [
    {
     "ename": "NameError",
     "evalue": "name 'train_dataloader' is not defined",
     "output_type": "error",
     "traceback": [
      "\u001b[1;31m---------------------------------------------------------------------------\u001b[0m",
      "\u001b[1;31mNameError\u001b[0m                                 Traceback (most recent call last)",
      "\u001b[1;32md:\\ml\\code\\test\\pytorch\\geometric\\OGB_MAG.ipynb 单元格 23\u001b[0m line \u001b[0;36m1\n\u001b[1;32m----> <a href='vscode-notebook-cell:/d%3A/ml/code/test/pytorch/geometric/OGB_MAG.ipynb#X31sZmlsZQ%3D%3D?line=0'>1</a>\u001b[0m \u001b[39mfor\u001b[39;00m i, batch \u001b[39min\u001b[39;00m \u001b[39menumerate\u001b[39m(train_dataloader):\n\u001b[0;32m      <a href='vscode-notebook-cell:/d%3A/ml/code/test/pytorch/geometric/OGB_MAG.ipynb#X31sZmlsZQ%3D%3D?line=1'>2</a>\u001b[0m     \u001b[39mprint\u001b[39m(batch)\n\u001b[0;32m      <a href='vscode-notebook-cell:/d%3A/ml/code/test/pytorch/geometric/OGB_MAG.ipynb#X31sZmlsZQ%3D%3D?line=2'>3</a>\u001b[0m     \u001b[39mprint\u001b[39m(\u001b[39m\"\u001b[39m\u001b[39mx: \u001b[39m\u001b[39m\\t\u001b[39;00m\u001b[39m\\t\u001b[39;00m\u001b[39m\"\u001b[39m,        batch\u001b[39m.\u001b[39mx\u001b[39m.\u001b[39mshape)          \u001b[39m# [batch_sum, num_features] 图的每一条数据的长度不一定相等,batch_sum代表这个batch中的全部节点数据\u001b[39;00m\n",
      "\u001b[1;31mNameError\u001b[0m: name 'train_dataloader' is not defined"
     ]
    }
   ],
   "source": [
    "for i, batch in enumerate(train_dataloader):\n",
    "    print(batch)\n",
    "    print(\n",
    "        \"x: \\t\\t\", batch.x.shape\n",
    "    )  # [batch_sum, num_features] 图的每一条数据的长度不一定相等,batch_sum代表这个batch中的全部节点数据\n",
    "    print(\"edge_index: \\t\", batch.edge_index.shape)  # 代表边的连接\n",
    "    print(\"y: \\t\\t\", batch.y.shape)  # 类别\n",
    "    print(\"y: \\t\\t\", y)\n",
    "    if i >= 5:\n",
    "        break"
   ]
  },
  {
   "cell_type": "code",
   "execution_count": 20,
   "metadata": {},
   "outputs": [
    {
     "data": {
      "text/plain": [
       "torch.Size([4932, 500])"
      ]
     },
     "execution_count": 20,
     "metadata": {},
     "output_type": "execute_result"
    }
   ],
   "source": [
    "batch.x.shape"
   ]
  },
  {
   "cell_type": "markdown",
   "metadata": {},
   "source": [
    "# Model"
   ]
  },
  {
   "cell_type": "code",
   "execution_count": 46,
   "metadata": {},
   "outputs": [],
   "source": [
    "class Net(nn.Module):\n",
    "    def __init__(\n",
    "        self,\n",
    "        conv: nn.Module = gnn.GraphConv,  # [GraphConv, GCNConv, SAGEConv, GATConv]\n",
    "        norm: nn.Module = nn.BatchNorm1d,  # [BatchNorm1d, LayerNorm, InstanceNorm1d]\n",
    "        act: nn.Module = nn.ReLU,\n",
    "    ) -> None:\n",
    "        super().__init__()\n",
    "        self.conv1 = conv(in_channels=dataset.num_features, out_channels=64)\n",
    "        self.norm1 = norm(64)\n",
    "        self.act1 = act()\n",
    "\n",
    "        self.conv2 = conv(in_channels=64, out_channels=64)\n",
    "        self.norm2 = norm(64)\n",
    "        self.act2 = act()\n",
    "\n",
    "        self.conv3 = conv(in_channels=64, out_channels=64)\n",
    "        self.norm3 = norm(64)\n",
    "        self.act3 = act()\n",
    "\n",
    "        self.fc = nn.Linear(in_features=64, out_features=dataset.num_classes)\n",
    "\n",
    "    def forward(self, x: Tensor, edge_index: Tensor, batch: Tensor = None) -> Tensor:\n",
    "        x = self.conv1(x, edge_index)\n",
    "        x = self.norm1(x)\n",
    "        x = self.act1(x)\n",
    "\n",
    "        res = x\n",
    "        x = self.conv2(x, edge_index)\n",
    "        x = self.norm2(x)\n",
    "        x = self.act2(x)\n",
    "        x = x + res\n",
    "\n",
    "        res = x\n",
    "        x = self.conv3(x, edge_index)\n",
    "        x = self.norm3(x)\n",
    "        x = self.act3(x)\n",
    "        x = x + res\n",
    "\n",
    "        # global_max_pool: 将节点嵌入聚合到一个统一的图嵌入(readout layer)中\n",
    "        # x = gnn.global_max_pool(x, batch)   # [batch_sum, num_features] -> [batch, num_features]\n",
    "\n",
    "        x = self.fc(x)\n",
    "        return x"
   ]
  },
  {
   "cell_type": "code",
   "execution_count": 47,
   "metadata": {},
   "outputs": [
    {
     "data": {
      "text/plain": [
       "Net(\n",
       "  (conv1): GraphConv(500, 64)\n",
       "  (norm1): BatchNorm1d(64, eps=1e-05, momentum=0.1, affine=True, track_running_stats=True)\n",
       "  (act1): ReLU()\n",
       "  (conv2): GraphConv(64, 64)\n",
       "  (norm2): BatchNorm1d(64, eps=1e-05, momentum=0.1, affine=True, track_running_stats=True)\n",
       "  (act2): ReLU()\n",
       "  (conv3): GraphConv(64, 64)\n",
       "  (norm3): BatchNorm1d(64, eps=1e-05, momentum=0.1, affine=True, track_running_stats=True)\n",
       "  (act3): ReLU()\n",
       "  (fc): Linear(in_features=64, out_features=3, bias=True)\n",
       ")"
      ]
     },
     "execution_count": 47,
     "metadata": {},
     "output_type": "execute_result"
    }
   ],
   "source": [
    "net = Net().to(device)\n",
    "net"
   ]
  },
  {
   "cell_type": "code",
   "execution_count": 48,
   "metadata": {},
   "outputs": [
    {
     "data": {
      "text/plain": [
       "Adam (\n",
       "Parameter Group 0\n",
       "    amsgrad: False\n",
       "    betas: (0.9, 0.999)\n",
       "    capturable: False\n",
       "    differentiable: False\n",
       "    eps: 1e-08\n",
       "    foreach: None\n",
       "    fused: None\n",
       "    lr: 0.001\n",
       "    maximize: False\n",
       "    weight_decay: 0\n",
       ")"
      ]
     },
     "execution_count": 48,
     "metadata": {},
     "output_type": "execute_result"
    }
   ],
   "source": [
    "optimizer = optim.Adam(params=net.parameters())\n",
    "optimizer"
   ]
  },
  {
   "cell_type": "code",
   "execution_count": 49,
   "metadata": {},
   "outputs": [],
   "source": [
    "epochs = 100"
   ]
  },
  {
   "cell_type": "code",
   "execution_count": 50,
   "metadata": {},
   "outputs": [
    {
     "data": {
      "text/plain": [
       "<torch.optim.lr_scheduler.CosineAnnealingLR at 0x23cb2e23f10>"
      ]
     },
     "execution_count": 50,
     "metadata": {},
     "output_type": "execute_result"
    }
   ],
   "source": [
    "lr_scheduler = optim.lr_scheduler.CosineAnnealingLR(\n",
    "    optimizer=optimizer,\n",
    "    T_max=epochs,\n",
    "    eta_min=optimizer.state_dict()[\"param_groups\"][0][\"lr\"] * 0.01,\n",
    ")\n",
    "lr_scheduler"
   ]
  },
  {
   "cell_type": "code",
   "execution_count": 51,
   "metadata": {},
   "outputs": [
    {
     "data": {
      "text/plain": [
       "CrossEntropyLoss()"
      ]
     },
     "execution_count": 51,
     "metadata": {},
     "output_type": "execute_result"
    }
   ],
   "source": [
    "loss_fn = nn.CrossEntropyLoss()\n",
    "loss_fn"
   ]
  },
  {
   "cell_type": "markdown",
   "metadata": {},
   "source": [
    "# train"
   ]
  },
  {
   "cell_type": "code",
   "execution_count": 52,
   "metadata": {},
   "outputs": [
    {
     "name": "stderr",
     "output_type": "stream",
     "text": [
      "train-epoch: 1: 100%|██████████| 4/4 [00:00<00:00,  6.29it/s, loss=0.943]\n"
     ]
    },
    {
     "name": "stdout",
     "output_type": "stream",
     "text": [
      "\u001b[0;31;40mepoch: 1\u001b[0m \u001b[0;32;40mtrain_accuracy = 0.5020540952682495\u001b[0m \n"
     ]
    },
    {
     "name": "stderr",
     "output_type": "stream",
     "text": [
      "train-epoch: 2: 100%|██████████| 4/4 [00:00<00:00, 62.92it/s, loss=0.765]\n"
     ]
    },
    {
     "name": "stdout",
     "output_type": "stream",
     "text": [
      "\u001b[0;31;40mepoch: 2\u001b[0m \u001b[0;32;40mtrain_accuracy = 0.7355581521987915\u001b[0m \n"
     ]
    },
    {
     "name": "stderr",
     "output_type": "stream",
     "text": [
      "train-epoch: 3: 100%|██████████| 4/4 [00:00<00:00, 59.00it/s, loss=0.727]\n"
     ]
    },
    {
     "name": "stdout",
     "output_type": "stream",
     "text": [
      "\u001b[0;31;40mepoch: 3\u001b[0m \u001b[0;32;40mtrain_accuracy = 0.7704519033432007\u001b[0m \n"
     ]
    },
    {
     "name": "stderr",
     "output_type": "stream",
     "text": [
      "train-epoch: 4: 100%|██████████| 4/4 [00:00<00:00, 62.50it/s, loss=0.587]\n"
     ]
    },
    {
     "name": "stdout",
     "output_type": "stream",
     "text": [
      "\u001b[0;31;40mepoch: 4\u001b[0m \u001b[0;32;40mtrain_accuracy = 0.7994623780250549\u001b[0m \n"
     ]
    },
    {
     "name": "stderr",
     "output_type": "stream",
     "text": [
      "train-epoch: 5: 100%|██████████| 4/4 [00:00<00:00, 57.96it/s, loss=0.538]\n"
     ]
    },
    {
     "name": "stdout",
     "output_type": "stream",
     "text": [
      "\u001b[0;31;40mepoch: 5\u001b[0m \u001b[0;32;40mtrain_accuracy = 0.8246183395385742\u001b[0m \n"
     ]
    },
    {
     "name": "stderr",
     "output_type": "stream",
     "text": [
      "train-epoch: 6: 100%|██████████| 4/4 [00:00<00:00, 60.61it/s, loss=0.422]\n"
     ]
    },
    {
     "name": "stdout",
     "output_type": "stream",
     "text": [
      "\u001b[0;31;40mepoch: 6\u001b[0m \u001b[0;32;40mtrain_accuracy = 0.836841344833374\u001b[0m \n"
     ]
    },
    {
     "name": "stderr",
     "output_type": "stream",
     "text": [
      "train-epoch: 7: 100%|██████████| 4/4 [00:00<00:00, 61.03it/s, loss=0.455]\n"
     ]
    },
    {
     "name": "stdout",
     "output_type": "stream",
     "text": [
      "\u001b[0;31;40mepoch: 7\u001b[0m \u001b[0;32;40mtrain_accuracy = 0.8418623805046082\u001b[0m \n"
     ]
    },
    {
     "name": "stderr",
     "output_type": "stream",
     "text": [
      "train-epoch: 8: 100%|██████████| 4/4 [00:00<00:00, 63.49it/s, loss=0.494]\n"
     ]
    },
    {
     "name": "stdout",
     "output_type": "stream",
     "text": [
      "\u001b[0;31;40mepoch: 8\u001b[0m \u001b[0;32;40mtrain_accuracy = 0.8392757773399353\u001b[0m \n"
     ]
    },
    {
     "name": "stderr",
     "output_type": "stream",
     "text": [
      "train-epoch: 9: 100%|██████████| 4/4 [00:00<00:00, 60.46it/s, loss=0.379]\n"
     ]
    },
    {
     "name": "stdout",
     "output_type": "stream",
     "text": [
      "\u001b[0;31;40mepoch: 9\u001b[0m \u001b[0;32;40mtrain_accuracy = 0.8517522811889648\u001b[0m \n"
     ]
    },
    {
     "name": "stderr",
     "output_type": "stream",
     "text": [
      "train-epoch: 10: 100%|██████████| 4/4 [00:00<00:00, 66.74it/s, loss=0.397]\n"
     ]
    },
    {
     "name": "stdout",
     "output_type": "stream",
     "text": [
      "\u001b[0;31;40mepoch: 10\u001b[0m \u001b[0;32;40mtrain_accuracy = 0.8592585325241089\u001b[0m \n"
     ]
    },
    {
     "name": "stderr",
     "output_type": "stream",
     "text": [
      "train-epoch: 11: 100%|██████████| 4/4 [00:00<00:00, 68.97it/s, loss=0.418]\n"
     ]
    },
    {
     "name": "stdout",
     "output_type": "stream",
     "text": [
      "\u001b[0;31;40mepoch: 11\u001b[0m \u001b[0;32;40mtrain_accuracy = 0.8581934571266174\u001b[0m \n"
     ]
    },
    {
     "name": "stderr",
     "output_type": "stream",
     "text": [
      "train-epoch: 12: 100%|██████████| 4/4 [00:00<00:00, 65.02it/s, loss=0.325]\n"
     ]
    },
    {
     "name": "stdout",
     "output_type": "stream",
     "text": [
      "\u001b[0;31;40mepoch: 12\u001b[0m \u001b[0;32;40mtrain_accuracy = 0.8703656792640686\u001b[0m \n"
     ]
    },
    {
     "name": "stderr",
     "output_type": "stream",
     "text": [
      "train-epoch: 13: 100%|██████████| 4/4 [00:00<00:00, 62.89it/s, loss=0.334]\n"
     ]
    },
    {
     "name": "stdout",
     "output_type": "stream",
     "text": [
      "\u001b[0;31;40mepoch: 13\u001b[0m \u001b[0;32;40mtrain_accuracy = 0.8782776594161987\u001b[0m \n"
     ]
    },
    {
     "name": "stderr",
     "output_type": "stream",
     "text": [
      "train-epoch: 14: 100%|██████████| 4/4 [00:00<00:00, 67.80it/s, loss=0.323]\n"
     ]
    },
    {
     "name": "stdout",
     "output_type": "stream",
     "text": [
      "\u001b[0;31;40mepoch: 14\u001b[0m \u001b[0;32;40mtrain_accuracy = 0.8745752573013306\u001b[0m \n"
     ]
    },
    {
     "name": "stderr",
     "output_type": "stream",
     "text": [
      "train-epoch: 15: 100%|██████████| 4/4 [00:00<00:00, 62.50it/s, loss=0.306]\n"
     ]
    },
    {
     "name": "stdout",
     "output_type": "stream",
     "text": [
      "\u001b[0;31;40mepoch: 15\u001b[0m \u001b[0;32;40mtrain_accuracy = 0.8836537003517151\u001b[0m \n"
     ]
    },
    {
     "name": "stderr",
     "output_type": "stream",
     "text": [
      "train-epoch: 16: 100%|██████████| 4/4 [00:00<00:00, 61.38it/s, loss=0.296]\n"
     ]
    },
    {
     "name": "stdout",
     "output_type": "stream",
     "text": [
      "\u001b[0;31;40mepoch: 16\u001b[0m \u001b[0;32;40mtrain_accuracy = 0.8891312479972839\u001b[0m \n"
     ]
    },
    {
     "name": "stderr",
     "output_type": "stream",
     "text": [
      "train-epoch: 17: 100%|██████████| 4/4 [00:00<00:00, 52.63it/s, loss=0.266]\n"
     ]
    },
    {
     "name": "stdout",
     "output_type": "stream",
     "text": [
      "\u001b[0;31;40mepoch: 17\u001b[0m \u001b[0;32;40mtrain_accuracy = 0.8955723643302917\u001b[0m \n"
     ]
    },
    {
     "name": "stderr",
     "output_type": "stream",
     "text": [
      "train-epoch: 18: 100%|██████████| 4/4 [00:00<00:00, 63.30it/s, loss=0.272]\n"
     ]
    },
    {
     "name": "stdout",
     "output_type": "stream",
     "text": [
      "\u001b[0;31;40mepoch: 18\u001b[0m \u001b[0;32;40mtrain_accuracy = 0.8987675905227661\u001b[0m \n"
     ]
    },
    {
     "name": "stderr",
     "output_type": "stream",
     "text": [
      "train-epoch: 19: 100%|██████████| 4/4 [00:00<00:00, 62.50it/s, loss=0.274]\n"
     ]
    },
    {
     "name": "stdout",
     "output_type": "stream",
     "text": [
      "\u001b[0;31;40mepoch: 19\u001b[0m \u001b[0;32;40mtrain_accuracy = 0.8894862532615662\u001b[0m \n"
     ]
    },
    {
     "name": "stderr",
     "output_type": "stream",
     "text": [
      "train-epoch: 20: 100%|██████████| 4/4 [00:00<00:00, 63.49it/s, loss=0.229]\n"
     ]
    },
    {
     "name": "stdout",
     "output_type": "stream",
     "text": [
      "\u001b[0;31;40mepoch: 20\u001b[0m \u001b[0;32;40mtrain_accuracy = 0.9062737822532654\u001b[0m \n"
     ]
    },
    {
     "name": "stderr",
     "output_type": "stream",
     "text": [
      "train-epoch: 21: 100%|██████████| 4/4 [00:00<00:00, 63.49it/s, loss=0.251]\n"
     ]
    },
    {
     "name": "stdout",
     "output_type": "stream",
     "text": [
      "\u001b[0;31;40mepoch: 21\u001b[0m \u001b[0;32;40mtrain_accuracy = 0.9094690084457397\u001b[0m \n"
     ]
    },
    {
     "name": "stderr",
     "output_type": "stream",
     "text": [
      "train-epoch: 22: 100%|██████████| 4/4 [00:00<00:00, 67.80it/s, loss=0.256]\n"
     ]
    },
    {
     "name": "stdout",
     "output_type": "stream",
     "text": [
      "\u001b[0;31;40mepoch: 22\u001b[0m \u001b[0;32;40mtrain_accuracy = 0.9097225666046143\u001b[0m \n"
     ]
    },
    {
     "name": "stderr",
     "output_type": "stream",
     "text": [
      "train-epoch: 23: 100%|██████████| 4/4 [00:00<00:00, 67.80it/s, loss=0.271]\n"
     ]
    },
    {
     "name": "stdout",
     "output_type": "stream",
     "text": [
      "\u001b[0;31;40mepoch: 23\u001b[0m \u001b[0;32;40mtrain_accuracy = 0.9125120639801025\u001b[0m \n"
     ]
    },
    {
     "name": "stderr",
     "output_type": "stream",
     "text": [
      "train-epoch: 24: 100%|██████████| 4/4 [00:00<00:00, 57.34it/s, loss=0.233]\n"
     ]
    },
    {
     "name": "stdout",
     "output_type": "stream",
     "text": [
      "\u001b[0;31;40mepoch: 24\u001b[0m \u001b[0;32;40mtrain_accuracy = 0.9169244766235352\u001b[0m \n"
     ]
    },
    {
     "name": "stderr",
     "output_type": "stream",
     "text": [
      "train-epoch: 25: 100%|██████████| 4/4 [00:00<00:00, 61.54it/s, loss=0.201]\n"
     ]
    },
    {
     "name": "stdout",
     "output_type": "stream",
     "text": [
      "\u001b[0;31;40mepoch: 25\u001b[0m \u001b[0;32;40mtrain_accuracy = 0.9144900441169739\u001b[0m \n"
     ]
    },
    {
     "name": "stderr",
     "output_type": "stream",
     "text": [
      "train-epoch: 26: 100%|██████████| 4/4 [00:00<00:00, 62.50it/s, loss=0.241]\n"
     ]
    },
    {
     "name": "stdout",
     "output_type": "stream",
     "text": [
      "\u001b[0;31;40mepoch: 26\u001b[0m \u001b[0;32;40mtrain_accuracy = 0.9238221049308777\u001b[0m \n"
     ]
    },
    {
     "name": "stderr",
     "output_type": "stream",
     "text": [
      "train-epoch: 27: 100%|██████████| 4/4 [00:00<00:00, 63.87it/s, loss=0.219]\n"
     ]
    },
    {
     "name": "stdout",
     "output_type": "stream",
     "text": [
      "\u001b[0;31;40mepoch: 27\u001b[0m \u001b[0;32;40mtrain_accuracy = 0.9261043667793274\u001b[0m \n"
     ]
    },
    {
     "name": "stderr",
     "output_type": "stream",
     "text": [
      "train-epoch: 28: 100%|██████████| 4/4 [00:00<00:00, 61.96it/s, loss=0.175]\n"
     ]
    },
    {
     "name": "stdout",
     "output_type": "stream",
     "text": [
      "\u001b[0;31;40mepoch: 28\u001b[0m \u001b[0;32;40mtrain_accuracy = 0.9208297729492188\u001b[0m \n"
     ]
    },
    {
     "name": "stderr",
     "output_type": "stream",
     "text": [
      "train-epoch: 29: 100%|██████████| 4/4 [00:00<00:00, 62.50it/s, loss=0.191]\n"
     ]
    },
    {
     "name": "stdout",
     "output_type": "stream",
     "text": [
      "\u001b[0;31;40mepoch: 29\u001b[0m \u001b[0;32;40mtrain_accuracy = 0.9275752305984497\u001b[0m \n"
     ]
    },
    {
     "name": "stderr",
     "output_type": "stream",
     "text": [
      "train-epoch: 30: 100%|██████████| 4/4 [00:00<00:00, 64.80it/s, loss=0.199]\n"
     ]
    },
    {
     "name": "stdout",
     "output_type": "stream",
     "text": [
      "\u001b[0;31;40mepoch: 30\u001b[0m \u001b[0;32;40mtrain_accuracy = 0.9303139448165894\u001b[0m \n"
     ]
    },
    {
     "name": "stderr",
     "output_type": "stream",
     "text": [
      "train-epoch: 31: 100%|██████████| 4/4 [00:00<00:00, 63.49it/s, loss=0.181]\n"
     ]
    },
    {
     "name": "stdout",
     "output_type": "stream",
     "text": [
      "\u001b[0;31;40mepoch: 31\u001b[0m \u001b[0;32;40mtrain_accuracy = 0.9343206286430359\u001b[0m \n"
     ]
    },
    {
     "name": "stderr",
     "output_type": "stream",
     "text": [
      "train-epoch: 32: 100%|██████████| 4/4 [00:00<00:00, 63.49it/s, loss=0.236]\n"
     ]
    },
    {
     "name": "stdout",
     "output_type": "stream",
     "text": [
      "\u001b[0;31;40mepoch: 32\u001b[0m \u001b[0;32;40mtrain_accuracy = 0.9264594316482544\u001b[0m \n"
     ]
    },
    {
     "name": "stderr",
     "output_type": "stream",
     "text": [
      "train-epoch: 33: 100%|██████████| 4/4 [00:00<00:00, 64.52it/s, loss=0.189]\n"
     ]
    },
    {
     "name": "stdout",
     "output_type": "stream",
     "text": [
      "\u001b[0;31;40mepoch: 33\u001b[0m \u001b[0;32;40mtrain_accuracy = 0.9361464977264404\u001b[0m \n"
     ]
    },
    {
     "name": "stderr",
     "output_type": "stream",
     "text": [
      "train-epoch: 34: 100%|██████████| 4/4 [00:00<00:00, 67.80it/s, loss=0.17] \n"
     ]
    },
    {
     "name": "stdout",
     "output_type": "stream",
     "text": [
      "\u001b[0;31;40mepoch: 34\u001b[0m \u001b[0;32;40mtrain_accuracy = 0.9402039051055908\u001b[0m \n"
     ]
    },
    {
     "name": "stderr",
     "output_type": "stream",
     "text": [
      "train-epoch: 35: 100%|██████████| 4/4 [00:00<00:00, 64.52it/s, loss=0.19] \n"
     ]
    },
    {
     "name": "stdout",
     "output_type": "stream",
     "text": [
      "\u001b[0;31;40mepoch: 35\u001b[0m \u001b[0;32;40mtrain_accuracy = 0.9426383376121521\u001b[0m \n"
     ]
    },
    {
     "name": "stderr",
     "output_type": "stream",
     "text": [
      "train-epoch: 36: 100%|██████████| 4/4 [00:00<00:00, 64.52it/s, loss=0.267]\n"
     ]
    },
    {
     "name": "stdout",
     "output_type": "stream",
     "text": [
      "\u001b[0;31;40mepoch: 36\u001b[0m \u001b[0;32;40mtrain_accuracy = 0.933407723903656\u001b[0m \n"
     ]
    },
    {
     "name": "stderr",
     "output_type": "stream",
     "text": [
      "train-epoch: 37: 100%|██████████| 4/4 [00:00<00:00, 64.51it/s, loss=0.144]\n"
     ]
    },
    {
     "name": "stdout",
     "output_type": "stream",
     "text": [
      "\u001b[0;31;40mepoch: 37\u001b[0m \u001b[0;32;40mtrain_accuracy = 0.9475579857826233\u001b[0m \n"
     ]
    },
    {
     "name": "stderr",
     "output_type": "stream",
     "text": [
      "train-epoch: 38: 100%|██████████| 4/4 [00:00<00:00, 64.52it/s, loss=0.19] \n"
     ]
    },
    {
     "name": "stdout",
     "output_type": "stream",
     "text": [
      "\u001b[0;31;40mepoch: 38\u001b[0m \u001b[0;32;40mtrain_accuracy = 0.9439570307731628\u001b[0m \n"
     ]
    },
    {
     "name": "stderr",
     "output_type": "stream",
     "text": [
      "train-epoch: 39: 100%|██████████| 4/4 [00:00<00:00, 67.79it/s, loss=0.137]\n"
     ]
    },
    {
     "name": "stdout",
     "output_type": "stream",
     "text": [
      "\u001b[0;31;40mepoch: 39\u001b[0m \u001b[0;32;40mtrain_accuracy = 0.9490795135498047\u001b[0m \n"
     ]
    },
    {
     "name": "stderr",
     "output_type": "stream",
     "text": [
      "train-epoch: 40: 100%|██████████| 4/4 [00:00<00:00, 63.49it/s, loss=0.182]\n"
     ]
    },
    {
     "name": "stdout",
     "output_type": "stream",
     "text": [
      "\u001b[0;31;40mepoch: 40\u001b[0m \u001b[0;32;40mtrain_accuracy = 0.9390373826026917\u001b[0m \n"
     ]
    },
    {
     "name": "stderr",
     "output_type": "stream",
     "text": [
      "train-epoch: 41: 100%|██████████| 4/4 [00:00<00:00, 67.80it/s, loss=0.18] \n"
     ]
    },
    {
     "name": "stdout",
     "output_type": "stream",
     "text": [
      "\u001b[0;31;40mepoch: 41\u001b[0m \u001b[0;32;40mtrain_accuracy = 0.9490795135498047\u001b[0m \n"
     ]
    },
    {
     "name": "stderr",
     "output_type": "stream",
     "text": [
      "train-epoch: 42: 100%|██████████| 4/4 [00:00<00:00, 64.52it/s, loss=0.187]\n"
     ]
    },
    {
     "name": "stdout",
     "output_type": "stream",
     "text": [
      "\u001b[0;31;40mepoch: 42\u001b[0m \u001b[0;32;40mtrain_accuracy = 0.9318861961364746\u001b[0m \n"
     ]
    },
    {
     "name": "stderr",
     "output_type": "stream",
     "text": [
      "train-epoch: 43: 100%|██████████| 4/4 [00:00<00:00, 64.52it/s, loss=0.121]\n"
     ]
    },
    {
     "name": "stdout",
     "output_type": "stream",
     "text": [
      "\u001b[0;31;40mepoch: 43\u001b[0m \u001b[0;32;40mtrain_accuracy = 0.9521732926368713\u001b[0m \n"
     ]
    },
    {
     "name": "stderr",
     "output_type": "stream",
     "text": [
      "train-epoch: 44: 100%|██████████| 4/4 [00:00<00:00, 63.96it/s, loss=0.148]\n"
     ]
    },
    {
     "name": "stdout",
     "output_type": "stream",
     "text": [
      "\u001b[0;31;40mepoch: 44\u001b[0m \u001b[0;32;40mtrain_accuracy = 0.9562814235687256\u001b[0m \n"
     ]
    },
    {
     "name": "stderr",
     "output_type": "stream",
     "text": [
      "train-epoch: 45: 100%|██████████| 4/4 [00:00<00:00, 62.50it/s, loss=0.112]\n"
     ]
    },
    {
     "name": "stdout",
     "output_type": "stream",
     "text": [
      "\u001b[0;31;40mepoch: 45\u001b[0m \u001b[0;32;40mtrain_accuracy = 0.9555713534355164\u001b[0m \n"
     ]
    },
    {
     "name": "stderr",
     "output_type": "stream",
     "text": [
      "train-epoch: 46: 100%|██████████| 4/4 [00:00<00:00, 63.49it/s, loss=0.121] \n"
     ]
    },
    {
     "name": "stdout",
     "output_type": "stream",
     "text": [
      "\u001b[0;31;40mepoch: 46\u001b[0m \u001b[0;32;40mtrain_accuracy = 0.9588679671287537\u001b[0m \n"
     ]
    },
    {
     "name": "stderr",
     "output_type": "stream",
     "text": [
      "train-epoch: 47: 100%|██████████| 4/4 [00:00<00:00, 65.57it/s, loss=0.148] \n"
     ]
    },
    {
     "name": "stdout",
     "output_type": "stream",
     "text": [
      "\u001b[0;31;40mepoch: 47\u001b[0m \u001b[0;32;40mtrain_accuracy = 0.9605416655540466\u001b[0m \n"
     ]
    },
    {
     "name": "stderr",
     "output_type": "stream",
     "text": [
      "train-epoch: 48: 100%|██████████| 4/4 [00:00<00:00, 67.80it/s, loss=0.135] \n"
     ]
    },
    {
     "name": "stdout",
     "output_type": "stream",
     "text": [
      "\u001b[0;31;40mepoch: 48\u001b[0m \u001b[0;32;40mtrain_accuracy = 0.9567885994911194\u001b[0m \n"
     ]
    },
    {
     "name": "stderr",
     "output_type": "stream",
     "text": [
      "train-epoch: 49: 100%|██████████| 4/4 [00:00<00:00, 63.49it/s, loss=0.143]\n"
     ]
    },
    {
     "name": "stdout",
     "output_type": "stream",
     "text": [
      "\u001b[0;31;40mepoch: 49\u001b[0m \u001b[0;32;40mtrain_accuracy = 0.9498909711837769\u001b[0m \n"
     ]
    },
    {
     "name": "stderr",
     "output_type": "stream",
     "text": [
      "train-epoch: 50: 100%|██████████| 4/4 [00:00<00:00, 54.05it/s, loss=0.0903]\n"
     ]
    },
    {
     "name": "stdout",
     "output_type": "stream",
     "text": [
      "\u001b[0;31;40mepoch: 50\u001b[0m \u001b[0;32;40mtrain_accuracy = 0.967946469783783\u001b[0m \n"
     ]
    },
    {
     "name": "stderr",
     "output_type": "stream",
     "text": [
      "train-epoch: 51: 100%|██████████| 4/4 [00:00<00:00, 54.05it/s, loss=0.0949]\n"
     ]
    },
    {
     "name": "stdout",
     "output_type": "stream",
     "text": [
      "\u001b[0;31;40mepoch: 51\u001b[0m \u001b[0;32;40mtrain_accuracy = 0.9671856760978699\u001b[0m \n"
     ]
    },
    {
     "name": "stderr",
     "output_type": "stream",
     "text": [
      "train-epoch: 52: 100%|██████████| 4/4 [00:00<00:00, 64.52it/s, loss=0.113] \n"
     ]
    },
    {
     "name": "stdout",
     "output_type": "stream",
     "text": [
      "\u001b[0;31;40mepoch: 52\u001b[0m \u001b[0;32;40mtrain_accuracy = 0.9708373546600342\u001b[0m \n"
     ]
    },
    {
     "name": "stderr",
     "output_type": "stream",
     "text": [
      "train-epoch: 53: 100%|██████████| 4/4 [00:00<00:00, 58.83it/s, loss=0.138] \n"
     ]
    },
    {
     "name": "stdout",
     "output_type": "stream",
     "text": [
      "\u001b[0;31;40mepoch: 53\u001b[0m \u001b[0;32;40mtrain_accuracy = 0.9622660875320435\u001b[0m \n"
     ]
    },
    {
     "name": "stderr",
     "output_type": "stream",
     "text": [
      "train-epoch: 54: 100%|██████████| 4/4 [00:00<00:00, 59.70it/s, loss=0.0875]\n"
     ]
    },
    {
     "name": "stdout",
     "output_type": "stream",
     "text": [
      "\u001b[0;31;40mepoch: 54\u001b[0m \u001b[0;32;40mtrain_accuracy = 0.9664249420166016\u001b[0m \n"
     ]
    },
    {
     "name": "stderr",
     "output_type": "stream",
     "text": [
      "train-epoch: 55: 100%|██████████| 4/4 [00:00<00:00, 58.82it/s, loss=0.0898]\n"
     ]
    },
    {
     "name": "stdout",
     "output_type": "stream",
     "text": [
      "\u001b[0;31;40mepoch: 55\u001b[0m \u001b[0;32;40mtrain_accuracy = 0.9719531536102295\u001b[0m \n"
     ]
    },
    {
     "name": "stderr",
     "output_type": "stream",
     "text": [
      "train-epoch: 56: 100%|██████████| 4/4 [00:00<00:00, 60.61it/s, loss=0.126] \n"
     ]
    },
    {
     "name": "stdout",
     "output_type": "stream",
     "text": [
      "\u001b[0;31;40mepoch: 56\u001b[0m \u001b[0;32;40mtrain_accuracy = 0.9598823189735413\u001b[0m \n"
     ]
    },
    {
     "name": "stderr",
     "output_type": "stream",
     "text": [
      "train-epoch: 57: 100%|██████████| 4/4 [00:00<00:00, 64.52it/s, loss=0.0878]\n"
     ]
    },
    {
     "name": "stdout",
     "output_type": "stream",
     "text": [
      "\u001b[0;31;40mepoch: 57\u001b[0m \u001b[0;32;40mtrain_accuracy = 0.9724096059799194\u001b[0m \n"
     ]
    },
    {
     "name": "stderr",
     "output_type": "stream",
     "text": [
      "train-epoch: 58: 100%|██████████| 4/4 [00:00<00:00, 62.92it/s, loss=0.0965]\n"
     ]
    },
    {
     "name": "stdout",
     "output_type": "stream",
     "text": [
      "\u001b[0;31;40mepoch: 58\u001b[0m \u001b[0;32;40mtrain_accuracy = 0.9733225107192993\u001b[0m \n"
     ]
    },
    {
     "name": "stderr",
     "output_type": "stream",
     "text": [
      "train-epoch: 59: 100%|██████████| 4/4 [00:00<00:00, 61.54it/s, loss=0.0973]\n"
     ]
    },
    {
     "name": "stdout",
     "output_type": "stream",
     "text": [
      "\u001b[0;31;40mepoch: 59\u001b[0m \u001b[0;32;40mtrain_accuracy = 0.976771354675293\u001b[0m \n"
     ]
    },
    {
     "name": "stderr",
     "output_type": "stream",
     "text": [
      "train-epoch: 60: 100%|██████████| 4/4 [00:00<00:00, 64.52it/s, loss=0.115] \n"
     ]
    },
    {
     "name": "stdout",
     "output_type": "stream",
     "text": [
      "\u001b[0;31;40mepoch: 60\u001b[0m \u001b[0;32;40mtrain_accuracy = 0.972206711769104\u001b[0m \n"
     ]
    },
    {
     "name": "stderr",
     "output_type": "stream",
     "text": [
      "train-epoch: 61: 100%|██████████| 4/4 [00:00<00:00, 54.79it/s, loss=0.0816]\n"
     ]
    },
    {
     "name": "stdout",
     "output_type": "stream",
     "text": [
      "\u001b[0;31;40mepoch: 61\u001b[0m \u001b[0;32;40mtrain_accuracy = 0.9746919274330139\u001b[0m \n"
     ]
    },
    {
     "name": "stderr",
     "output_type": "stream",
     "text": [
      "train-epoch: 62: 100%|██████████| 4/4 [00:00<00:00, 59.70it/s, loss=0.0773]\n"
     ]
    },
    {
     "name": "stdout",
     "output_type": "stream",
     "text": [
      "\u001b[0;31;40mepoch: 62\u001b[0m \u001b[0;32;40mtrain_accuracy = 0.9773799180984497\u001b[0m \n"
     ]
    },
    {
     "name": "stderr",
     "output_type": "stream",
     "text": [
      "train-epoch: 63: 100%|██████████| 4/4 [00:00<00:00, 63.49it/s, loss=0.0742]\n"
     ]
    },
    {
     "name": "stdout",
     "output_type": "stream",
     "text": [
      "\u001b[0;31;40mepoch: 63\u001b[0m \u001b[0;32;40mtrain_accuracy = 0.9814373254776001\u001b[0m \n"
     ]
    },
    {
     "name": "stderr",
     "output_type": "stream",
     "text": [
      "train-epoch: 64: 100%|██████████| 4/4 [00:00<00:00, 60.61it/s, loss=0.0879]\n"
     ]
    },
    {
     "name": "stdout",
     "output_type": "stream",
     "text": [
      "\u001b[0;31;40mepoch: 64\u001b[0m \u001b[0;32;40mtrain_accuracy = 0.9779885411262512\u001b[0m \n"
     ]
    },
    {
     "name": "stderr",
     "output_type": "stream",
     "text": [
      "train-epoch: 65: 100%|██████████| 4/4 [00:00<00:00, 63.49it/s, loss=0.0673]\n"
     ]
    },
    {
     "name": "stdout",
     "output_type": "stream",
     "text": [
      "\u001b[0;31;40mepoch: 65\u001b[0m \u001b[0;32;40mtrain_accuracy = 0.9814373254776001\u001b[0m \n"
     ]
    },
    {
     "name": "stderr",
     "output_type": "stream",
     "text": [
      "train-epoch: 66: 100%|██████████| 4/4 [00:00<00:00, 63.49it/s, loss=0.0912]\n"
     ]
    },
    {
     "name": "stdout",
     "output_type": "stream",
     "text": [
      "\u001b[0;31;40mepoch: 66\u001b[0m \u001b[0;32;40mtrain_accuracy = 0.9731196761131287\u001b[0m \n"
     ]
    },
    {
     "name": "stderr",
     "output_type": "stream",
     "text": [
      "train-epoch: 67: 100%|██████████| 4/4 [00:00<00:00, 60.61it/s, loss=0.0812]\n"
     ]
    },
    {
     "name": "stdout",
     "output_type": "stream",
     "text": [
      "\u001b[0;31;40mepoch: 67\u001b[0m \u001b[0;32;40mtrain_accuracy = 0.9824516773223877\u001b[0m \n"
     ]
    },
    {
     "name": "stderr",
     "output_type": "stream",
     "text": [
      "train-epoch: 68: 100%|██████████| 4/4 [00:00<00:00, 59.70it/s, loss=0.0771]\n"
     ]
    },
    {
     "name": "stdout",
     "output_type": "stream",
     "text": [
      "\u001b[0;31;40mepoch: 68\u001b[0m \u001b[0;32;40mtrain_accuracy = 0.9819952249526978\u001b[0m \n"
     ]
    },
    {
     "name": "stderr",
     "output_type": "stream",
     "text": [
      "train-epoch: 69: 100%|██████████| 4/4 [00:00<00:00, 65.57it/s, loss=0.0601]\n"
     ]
    },
    {
     "name": "stdout",
     "output_type": "stream",
     "text": [
      "\u001b[0;31;40mepoch: 69\u001b[0m \u001b[0;32;40mtrain_accuracy = 0.9855961799621582\u001b[0m \n"
     ]
    },
    {
     "name": "stderr",
     "output_type": "stream",
     "text": [
      "train-epoch: 70: 100%|██████████| 4/4 [00:00<00:00, 65.57it/s, loss=0.0724]\n"
     ]
    },
    {
     "name": "stdout",
     "output_type": "stream",
     "text": [
      "\u001b[0;31;40mepoch: 70\u001b[0m \u001b[0;32;40mtrain_accuracy = 0.9802708625793457\u001b[0m \n"
     ]
    },
    {
     "name": "stderr",
     "output_type": "stream",
     "text": [
      "train-epoch: 71: 100%|██████████| 4/4 [00:00<00:00, 55.56it/s, loss=0.0702]\n"
     ]
    },
    {
     "name": "stdout",
     "output_type": "stream",
     "text": [
      "\u001b[0;31;40mepoch: 71\u001b[0m \u001b[0;32;40mtrain_accuracy = 0.9827560186386108\u001b[0m \n"
     ]
    },
    {
     "name": "stderr",
     "output_type": "stream",
     "text": [
      "train-epoch: 72: 100%|██████████| 4/4 [00:00<00:00, 66.67it/s, loss=0.0617]\n"
     ]
    },
    {
     "name": "stdout",
     "output_type": "stream",
     "text": [
      "\u001b[0;31;40mepoch: 72\u001b[0m \u001b[0;32;40mtrain_accuracy = 0.9780899882316589\u001b[0m \n"
     ]
    },
    {
     "name": "stderr",
     "output_type": "stream",
     "text": [
      "train-epoch: 73: 100%|██████████| 4/4 [00:00<00:00, 61.96it/s, loss=0.0629]\n"
     ]
    },
    {
     "name": "stdout",
     "output_type": "stream",
     "text": [
      "\u001b[0;31;40mepoch: 73\u001b[0m \u001b[0;32;40mtrain_accuracy = 0.9837196469306946\u001b[0m \n"
     ]
    },
    {
     "name": "stderr",
     "output_type": "stream",
     "text": [
      "train-epoch: 74: 100%|██████████| 4/4 [00:00<00:00, 60.61it/s, loss=0.0547]\n"
     ]
    },
    {
     "name": "stdout",
     "output_type": "stream",
     "text": [
      "\u001b[0;31;40mepoch: 74\u001b[0m \u001b[0;32;40mtrain_accuracy = 0.9804229736328125\u001b[0m \n"
     ]
    },
    {
     "name": "stderr",
     "output_type": "stream",
     "text": [
      "train-epoch: 75: 100%|██████████| 4/4 [00:00<00:00, 62.50it/s, loss=0.0537]\n"
     ]
    },
    {
     "name": "stdout",
     "output_type": "stream",
     "text": [
      "\u001b[0;31;40mepoch: 75\u001b[0m \u001b[0;32;40mtrain_accuracy = 0.9877263307571411\u001b[0m \n"
     ]
    },
    {
     "name": "stderr",
     "output_type": "stream",
     "text": [
      "train-epoch: 76: 100%|██████████| 4/4 [00:00<00:00, 56.34it/s, loss=0.0522]\n"
     ]
    },
    {
     "name": "stdout",
     "output_type": "stream",
     "text": [
      "\u001b[0;31;40mepoch: 76\u001b[0m \u001b[0;32;40mtrain_accuracy = 0.9812852144241333\u001b[0m \n"
     ]
    },
    {
     "name": "stderr",
     "output_type": "stream",
     "text": [
      "train-epoch: 77: 100%|██████████| 4/4 [00:00<00:00, 61.94it/s, loss=0.085] \n"
     ]
    },
    {
     "name": "stdout",
     "output_type": "stream",
     "text": [
      "\u001b[0;31;40mepoch: 77\u001b[0m \u001b[0;32;40mtrain_accuracy = 0.9825531244277954\u001b[0m \n"
     ]
    },
    {
     "name": "stderr",
     "output_type": "stream",
     "text": [
      "train-epoch: 78: 100%|██████████| 4/4 [00:00<00:00, 63.49it/s, loss=0.0702]\n"
     ]
    },
    {
     "name": "stdout",
     "output_type": "stream",
     "text": [
      "\u001b[0;31;40mepoch: 78\u001b[0m \u001b[0;32;40mtrain_accuracy = 0.9849368929862976\u001b[0m \n"
     ]
    },
    {
     "name": "stderr",
     "output_type": "stream",
     "text": [
      "train-epoch: 79: 100%|██████████| 4/4 [00:00<00:00, 57.97it/s, loss=0.0635]\n"
     ]
    },
    {
     "name": "stdout",
     "output_type": "stream",
     "text": [
      "\u001b[0;31;40mepoch: 79\u001b[0m \u001b[0;32;40mtrain_accuracy = 0.9856469035148621\u001b[0m \n"
     ]
    },
    {
     "name": "stderr",
     "output_type": "stream",
     "text": [
      "train-epoch: 80: 100%|██████████| 4/4 [00:00<00:00, 33.61it/s, loss=0.0627]\n"
     ]
    },
    {
     "name": "stdout",
     "output_type": "stream",
     "text": [
      "\u001b[0;31;40mepoch: 80\u001b[0m \u001b[0;32;40mtrain_accuracy = 0.9878785014152527\u001b[0m \n"
     ]
    },
    {
     "name": "stderr",
     "output_type": "stream",
     "text": [
      "train-epoch: 81: 100%|██████████| 4/4 [00:00<00:00, 53.33it/s, loss=0.0654]\n"
     ]
    },
    {
     "name": "stdout",
     "output_type": "stream",
     "text": [
      "\u001b[0;31;40mepoch: 81\u001b[0m \u001b[0;32;40mtrain_accuracy = 0.9822995662689209\u001b[0m \n"
     ]
    },
    {
     "name": "stderr",
     "output_type": "stream",
     "text": [
      "train-epoch: 82: 100%|██████████| 4/4 [00:00<00:00, 55.56it/s, loss=0.1]   \n"
     ]
    },
    {
     "name": "stdout",
     "output_type": "stream",
     "text": [
      "\u001b[0;31;40mepoch: 82\u001b[0m \u001b[0;32;40mtrain_accuracy = 0.980169415473938\u001b[0m \n"
     ]
    },
    {
     "name": "stderr",
     "output_type": "stream",
     "text": [
      "train-epoch: 83: 100%|██████████| 4/4 [00:00<00:00, 58.82it/s, loss=0.0565]\n"
     ]
    },
    {
     "name": "stdout",
     "output_type": "stream",
     "text": [
      "\u001b[0;31;40mepoch: 83\u001b[0m \u001b[0;32;40mtrain_accuracy = 0.9865091443061829\u001b[0m \n"
     ]
    },
    {
     "name": "stderr",
     "output_type": "stream",
     "text": [
      "train-epoch: 84: 100%|██████████| 4/4 [00:00<00:00, 57.14it/s, loss=0.0385]\n"
     ]
    },
    {
     "name": "stdout",
     "output_type": "stream",
     "text": [
      "\u001b[0;31;40mepoch: 84\u001b[0m \u001b[0;32;40mtrain_accuracy = 0.990312933921814\u001b[0m \n"
     ]
    },
    {
     "name": "stderr",
     "output_type": "stream",
     "text": [
      "train-epoch: 85: 100%|██████████| 4/4 [00:00<00:00, 40.82it/s, loss=0.0499]\n"
     ]
    },
    {
     "name": "stdout",
     "output_type": "stream",
     "text": [
      "\u001b[0;31;40mepoch: 85\u001b[0m \u001b[0;32;40mtrain_accuracy = 0.9868641495704651\u001b[0m \n"
     ]
    },
    {
     "name": "stderr",
     "output_type": "stream",
     "text": [
      "train-epoch: 86: 100%|██████████| 4/4 [00:00<00:00, 61.96it/s, loss=0.0431]\n"
     ]
    },
    {
     "name": "stdout",
     "output_type": "stream",
     "text": [
      "\u001b[0;31;40mepoch: 86\u001b[0m \u001b[0;32;40mtrain_accuracy = 0.9879292249679565\u001b[0m \n"
     ]
    },
    {
     "name": "stderr",
     "output_type": "stream",
     "text": [
      "train-epoch: 87: 100%|██████████| 4/4 [00:00<00:00, 57.14it/s, loss=0.0526]\n"
     ]
    },
    {
     "name": "stdout",
     "output_type": "stream",
     "text": [
      "\u001b[0;31;40mepoch: 87\u001b[0m \u001b[0;32;40mtrain_accuracy = 0.988994300365448\u001b[0m \n"
     ]
    },
    {
     "name": "stderr",
     "output_type": "stream",
     "text": [
      "train-epoch: 88: 100%|██████████| 4/4 [00:00<00:00, 56.34it/s, loss=0.054] \n"
     ]
    },
    {
     "name": "stdout",
     "output_type": "stream",
     "text": [
      "\u001b[0;31;40mepoch: 88\u001b[0m \u001b[0;32;40mtrain_accuracy = 0.9880306720733643\u001b[0m \n"
     ]
    },
    {
     "name": "stderr",
     "output_type": "stream",
     "text": [
      "train-epoch: 89: 100%|██████████| 4/4 [00:00<00:00, 59.70it/s, loss=0.0477]\n"
     ]
    },
    {
     "name": "stdout",
     "output_type": "stream",
     "text": [
      "\u001b[0;31;40mepoch: 89\u001b[0m \u001b[0;32;40mtrain_accuracy = 0.985241174697876\u001b[0m \n"
     ]
    },
    {
     "name": "stderr",
     "output_type": "stream",
     "text": [
      "train-epoch: 90: 100%|██████████| 4/4 [00:00<00:00, 57.97it/s, loss=0.0639]\n"
     ]
    },
    {
     "name": "stdout",
     "output_type": "stream",
     "text": [
      "\u001b[0;31;40mepoch: 90\u001b[0m \u001b[0;32;40mtrain_accuracy = 0.9880813360214233\u001b[0m \n"
     ]
    },
    {
     "name": "stderr",
     "output_type": "stream",
     "text": [
      "train-epoch: 91: 100%|██████████| 4/4 [00:00<00:00, 50.63it/s, loss=0.0478]\n"
     ]
    },
    {
     "name": "stdout",
     "output_type": "stream",
     "text": [
      "\u001b[0;31;40mepoch: 91\u001b[0m \u001b[0;32;40mtrain_accuracy = 0.9896535873413086\u001b[0m \n"
     ]
    },
    {
     "name": "stderr",
     "output_type": "stream",
     "text": [
      "train-epoch: 92: 100%|██████████| 4/4 [00:00<00:00, 58.82it/s, loss=0.0607]\n"
     ]
    },
    {
     "name": "stdout",
     "output_type": "stream",
     "text": [
      "\u001b[0;31;40mepoch: 92\u001b[0m \u001b[0;32;40mtrain_accuracy = 0.9851904511451721\u001b[0m \n"
     ]
    },
    {
     "name": "stderr",
     "output_type": "stream",
     "text": [
      "train-epoch: 93: 100%|██████████| 4/4 [00:00<00:00, 63.49it/s, loss=0.0605]\n"
     ]
    },
    {
     "name": "stdout",
     "output_type": "stream",
     "text": [
      "\u001b[0;31;40mepoch: 93\u001b[0m \u001b[0;32;40mtrain_accuracy = 0.9853426218032837\u001b[0m \n"
     ]
    },
    {
     "name": "stderr",
     "output_type": "stream",
     "text": [
      "train-epoch: 94: 100%|██████████| 4/4 [00:00<00:00, 62.50it/s, loss=0.0523]\n"
     ]
    },
    {
     "name": "stdout",
     "output_type": "stream",
     "text": [
      "\u001b[0;31;40mepoch: 94\u001b[0m \u001b[0;32;40mtrain_accuracy = 0.9908201098442078\u001b[0m \n"
     ]
    },
    {
     "name": "stderr",
     "output_type": "stream",
     "text": [
      "train-epoch: 95: 100%|██████████| 4/4 [00:00<00:00, 56.34it/s, loss=0.147] \n"
     ]
    },
    {
     "name": "stdout",
     "output_type": "stream",
     "text": [
      "\u001b[0;31;40mepoch: 95\u001b[0m \u001b[0;32;40mtrain_accuracy = 0.9749962091445923\u001b[0m \n"
     ]
    },
    {
     "name": "stderr",
     "output_type": "stream",
     "text": [
      "train-epoch: 96: 100%|██████████| 4/4 [00:00<00:00, 59.70it/s, loss=0.059] \n"
     ]
    },
    {
     "name": "stdout",
     "output_type": "stream",
     "text": [
      "\u001b[0;31;40mepoch: 96\u001b[0m \u001b[0;32;40mtrain_accuracy = 0.9879292249679565\u001b[0m \n"
     ]
    },
    {
     "name": "stderr",
     "output_type": "stream",
     "text": [
      "train-epoch: 97: 100%|██████████| 4/4 [00:00<00:00, 51.95it/s, loss=0.0551]\n"
     ]
    },
    {
     "name": "stdout",
     "output_type": "stream",
     "text": [
      "\u001b[0;31;40mepoch: 97\u001b[0m \u001b[0;32;40mtrain_accuracy = 0.9911244511604309\u001b[0m \n"
     ]
    },
    {
     "name": "stderr",
     "output_type": "stream",
     "text": [
      "train-epoch: 98: 100%|██████████| 4/4 [00:00<00:00, 57.97it/s, loss=0.0413]\n"
     ]
    },
    {
     "name": "stdout",
     "output_type": "stream",
     "text": [
      "\u001b[0;31;40mepoch: 98\u001b[0m \u001b[0;32;40mtrain_accuracy = 0.9880306720733643\u001b[0m \n"
     ]
    },
    {
     "name": "stderr",
     "output_type": "stream",
     "text": [
      "train-epoch: 99: 100%|██████████| 4/4 [00:00<00:00, 60.61it/s, loss=0.0655]\n"
     ]
    },
    {
     "name": "stdout",
     "output_type": "stream",
     "text": [
      "\u001b[0;31;40mepoch: 99\u001b[0m \u001b[0;32;40mtrain_accuracy = 0.9846832752227783\u001b[0m \n"
     ]
    },
    {
     "name": "stderr",
     "output_type": "stream",
     "text": [
      "train-epoch: 100: 100%|██████████| 4/4 [00:00<00:00, 59.19it/s, loss=0.0836]"
     ]
    },
    {
     "name": "stdout",
     "output_type": "stream",
     "text": [
      "\u001b[0;31;40mepoch: 100\u001b[0m \u001b[0;32;40mtrain_accuracy = 0.981031596660614\u001b[0m \n"
     ]
    },
    {
     "name": "stderr",
     "output_type": "stream",
     "text": [
      "\n"
     ]
    }
   ],
   "source": [
    "train_accuracies = []\n",
    "train_lossess = []\n",
    "val_accuracies = []\n",
    "val_lossess = []\n",
    "for epoch in range(1, epochs + 1):\n",
    "    net.train()\n",
    "    train_y_trues = []\n",
    "    train_y_preds = []\n",
    "    train_losses = []\n",
    "    pbar = tqdm(total=len(train_dataloader), desc=f\"train-epoch: {epoch}\")\n",
    "    for batch in train_dataloader:\n",
    "        optimizer.zero_grad()\n",
    "        x, edge_index, y = batch.x, batch.edge_index, batch.y\n",
    "        x, edge_index, y = x.to(device), edge_index.to(device), y.to(device)\n",
    "        y_pred = net(x, edge_index, batch)\n",
    "        loss: Tensor = loss_fn(y_pred, y)\n",
    "        loss.backward()\n",
    "        optimizer.step()\n",
    "\n",
    "        train_y_trues.append(y)\n",
    "        train_y_preds.append(y_pred.argmax(dim=-1))\n",
    "        train_losses.append(loss.item())\n",
    "        pbar.update(1)\n",
    "        pbar.set_postfix({\"loss\": loss.item()})\n",
    "    pbar.close()\n",
    "\n",
    "    lr_scheduler.step()\n",
    "\n",
    "    # 准确率\n",
    "    train_y_trues_ = torch.cat(train_y_trues)\n",
    "    train_y_preds_ = torch.cat(train_y_preds)\n",
    "    train_accuracy = (\n",
    "        (train_y_trues_ == train_y_preds_).float().sum().divide(len(train_y_trues_))\n",
    "    )\n",
    "    train_accuracies.append(train_accuracy.item())\n",
    "    train_lossess.append(torch.tensor(train_losses).mean().item())\n",
    "\n",
    "    # net.eval()\n",
    "    # val_y_trues = []\n",
    "    # val_y_preds = []\n",
    "    # val_losses  = []\n",
    "    # pbar = tqdm(total=len(val_dataloader), desc=f\"val-epoch: {epoch}\")\n",
    "    # for batch in val_dataloader:\n",
    "    #     x, edge_index, batch, y = batch.x, batch.edge_index, batch.batch, batch.y\n",
    "    #     x, edge_index, batch, y = x.to(device), edge_index.to(device), batch.to(device), y.to(device)\n",
    "    #     with torch.inference_mode():\n",
    "    #         y_pred = net(x, edge_index, batch)\n",
    "    #     loss: Tensor = loss_fn(y_pred, y)\n",
    "\n",
    "    #     val_y_trues.append(y)\n",
    "    #     val_y_preds.append(y_pred.argmax(dim=-1))\n",
    "    #     val_losses.append(loss.item())\n",
    "    #     pbar.update(1)\n",
    "    #     pbar.set_postfix({\"loss\": loss.item()})\n",
    "    # pbar.close()\n",
    "\n",
    "    # # 准确率\n",
    "    # val_y_trues_ = torch.cat(val_y_trues)\n",
    "    # val_y_preds_ = torch.cat(val_y_preds)\n",
    "    # val_accuracy = (val_y_trues_ == val_y_preds_).float().sum().divide(len(val_y_trues_))\n",
    "    # val_accuracies.append(val_accuracy.item())\n",
    "    # val_lossess.append(torch.tensor(val_losses).mean().item())\n",
    "\n",
    "    print(\n",
    "        f\"\\033[0;31;40mepoch: {epoch}\\033[0m \"\n",
    "        + f\"\\033[0;32;40mtrain_accuracy = {train_accuracy.item()}\\033[0m \"\n",
    "    )"
   ]
  },
  {
   "cell_type": "code",
   "execution_count": 53,
   "metadata": {},
   "outputs": [
    {
     "name": "stdout",
     "output_type": "stream",
     "text": [
      "0.9911244511604309\n"
     ]
    }
   ],
   "source": [
    "print(max(train_accuracies))\n",
    "# 1.0 0.9729729890823364"
   ]
  },
  {
   "cell_type": "code",
   "execution_count": 54,
   "metadata": {},
   "outputs": [
    {
     "data": {
      "application/vnd.plotly.v1+json": {
       "config": {
        "plotlyServerURL": "https://plot.ly"
       },
       "data": [
        {
         "mode": "lines+markers",
         "name": "train",
         "type": "scatter",
         "y": [
          0.5020540952682495,
          0.7355581521987915,
          0.7704519033432007,
          0.7994623780250549,
          0.8246183395385742,
          0.836841344833374,
          0.8418623805046082,
          0.8392757773399353,
          0.8517522811889648,
          0.8592585325241089,
          0.8581934571266174,
          0.8703656792640686,
          0.8782776594161987,
          0.8745752573013306,
          0.8836537003517151,
          0.8891312479972839,
          0.8955723643302917,
          0.8987675905227661,
          0.8894862532615662,
          0.9062737822532654,
          0.9094690084457396,
          0.9097225666046144,
          0.9125120639801024,
          0.9169244766235352,
          0.914490044116974,
          0.9238221049308776,
          0.9261043667793274,
          0.9208297729492188,
          0.9275752305984496,
          0.9303139448165894,
          0.934320628643036,
          0.9264594316482544,
          0.9361464977264404,
          0.9402039051055908,
          0.942638337612152,
          0.933407723903656,
          0.9475579857826232,
          0.9439570307731628,
          0.9490795135498048,
          0.9390373826026917,
          0.9490795135498048,
          0.9318861961364746,
          0.9521732926368712,
          0.9562814235687256,
          0.9555713534355164,
          0.9588679671287536,
          0.9605416655540466,
          0.9567885994911194,
          0.9498909711837769,
          0.967946469783783,
          0.96718567609787,
          0.9708373546600342,
          0.9622660875320436,
          0.9664249420166016,
          0.9719531536102296,
          0.9598823189735411,
          0.9724096059799194,
          0.9733225107192992,
          0.976771354675293,
          0.972206711769104,
          0.974691927433014,
          0.9773799180984496,
          0.9814373254776,
          0.9779885411262512,
          0.9814373254776,
          0.9731196761131288,
          0.9824516773223876,
          0.9819952249526978,
          0.9855961799621582,
          0.9802708625793456,
          0.9827560186386108,
          0.9780899882316588,
          0.9837196469306946,
          0.9804229736328124,
          0.9877263307571412,
          0.9812852144241332,
          0.9825531244277954,
          0.9849368929862976,
          0.985646903514862,
          0.9878785014152528,
          0.9822995662689208,
          0.980169415473938,
          0.9865091443061828,
          0.990312933921814,
          0.9868641495704652,
          0.9879292249679564,
          0.988994300365448,
          0.9880306720733644,
          0.985241174697876,
          0.9880813360214232,
          0.9896535873413086,
          0.985190451145172,
          0.9853426218032836,
          0.9908201098442078,
          0.9749962091445924,
          0.9879292249679564,
          0.9911244511604308,
          0.9880306720733644,
          0.9846832752227784,
          0.981031596660614
         ]
        }
       ],
       "layout": {
        "template": {
         "data": {
          "bar": [
           {
            "error_x": {
             "color": "#2a3f5f"
            },
            "error_y": {
             "color": "#2a3f5f"
            },
            "marker": {
             "line": {
              "color": "#E5ECF6",
              "width": 0.5
             },
             "pattern": {
              "fillmode": "overlay",
              "size": 10,
              "solidity": 0.2
             }
            },
            "type": "bar"
           }
          ],
          "barpolar": [
           {
            "marker": {
             "line": {
              "color": "#E5ECF6",
              "width": 0.5
             },
             "pattern": {
              "fillmode": "overlay",
              "size": 10,
              "solidity": 0.2
             }
            },
            "type": "barpolar"
           }
          ],
          "carpet": [
           {
            "aaxis": {
             "endlinecolor": "#2a3f5f",
             "gridcolor": "white",
             "linecolor": "white",
             "minorgridcolor": "white",
             "startlinecolor": "#2a3f5f"
            },
            "baxis": {
             "endlinecolor": "#2a3f5f",
             "gridcolor": "white",
             "linecolor": "white",
             "minorgridcolor": "white",
             "startlinecolor": "#2a3f5f"
            },
            "type": "carpet"
           }
          ],
          "choropleth": [
           {
            "colorbar": {
             "outlinewidth": 0,
             "ticks": ""
            },
            "type": "choropleth"
           }
          ],
          "contour": [
           {
            "colorbar": {
             "outlinewidth": 0,
             "ticks": ""
            },
            "colorscale": [
             [
              0,
              "#0d0887"
             ],
             [
              0.1111111111111111,
              "#46039f"
             ],
             [
              0.2222222222222222,
              "#7201a8"
             ],
             [
              0.3333333333333333,
              "#9c179e"
             ],
             [
              0.4444444444444444,
              "#bd3786"
             ],
             [
              0.5555555555555556,
              "#d8576b"
             ],
             [
              0.6666666666666666,
              "#ed7953"
             ],
             [
              0.7777777777777778,
              "#fb9f3a"
             ],
             [
              0.8888888888888888,
              "#fdca26"
             ],
             [
              1,
              "#f0f921"
             ]
            ],
            "type": "contour"
           }
          ],
          "contourcarpet": [
           {
            "colorbar": {
             "outlinewidth": 0,
             "ticks": ""
            },
            "type": "contourcarpet"
           }
          ],
          "heatmap": [
           {
            "colorbar": {
             "outlinewidth": 0,
             "ticks": ""
            },
            "colorscale": [
             [
              0,
              "#0d0887"
             ],
             [
              0.1111111111111111,
              "#46039f"
             ],
             [
              0.2222222222222222,
              "#7201a8"
             ],
             [
              0.3333333333333333,
              "#9c179e"
             ],
             [
              0.4444444444444444,
              "#bd3786"
             ],
             [
              0.5555555555555556,
              "#d8576b"
             ],
             [
              0.6666666666666666,
              "#ed7953"
             ],
             [
              0.7777777777777778,
              "#fb9f3a"
             ],
             [
              0.8888888888888888,
              "#fdca26"
             ],
             [
              1,
              "#f0f921"
             ]
            ],
            "type": "heatmap"
           }
          ],
          "heatmapgl": [
           {
            "colorbar": {
             "outlinewidth": 0,
             "ticks": ""
            },
            "colorscale": [
             [
              0,
              "#0d0887"
             ],
             [
              0.1111111111111111,
              "#46039f"
             ],
             [
              0.2222222222222222,
              "#7201a8"
             ],
             [
              0.3333333333333333,
              "#9c179e"
             ],
             [
              0.4444444444444444,
              "#bd3786"
             ],
             [
              0.5555555555555556,
              "#d8576b"
             ],
             [
              0.6666666666666666,
              "#ed7953"
             ],
             [
              0.7777777777777778,
              "#fb9f3a"
             ],
             [
              0.8888888888888888,
              "#fdca26"
             ],
             [
              1,
              "#f0f921"
             ]
            ],
            "type": "heatmapgl"
           }
          ],
          "histogram": [
           {
            "marker": {
             "pattern": {
              "fillmode": "overlay",
              "size": 10,
              "solidity": 0.2
             }
            },
            "type": "histogram"
           }
          ],
          "histogram2d": [
           {
            "colorbar": {
             "outlinewidth": 0,
             "ticks": ""
            },
            "colorscale": [
             [
              0,
              "#0d0887"
             ],
             [
              0.1111111111111111,
              "#46039f"
             ],
             [
              0.2222222222222222,
              "#7201a8"
             ],
             [
              0.3333333333333333,
              "#9c179e"
             ],
             [
              0.4444444444444444,
              "#bd3786"
             ],
             [
              0.5555555555555556,
              "#d8576b"
             ],
             [
              0.6666666666666666,
              "#ed7953"
             ],
             [
              0.7777777777777778,
              "#fb9f3a"
             ],
             [
              0.8888888888888888,
              "#fdca26"
             ],
             [
              1,
              "#f0f921"
             ]
            ],
            "type": "histogram2d"
           }
          ],
          "histogram2dcontour": [
           {
            "colorbar": {
             "outlinewidth": 0,
             "ticks": ""
            },
            "colorscale": [
             [
              0,
              "#0d0887"
             ],
             [
              0.1111111111111111,
              "#46039f"
             ],
             [
              0.2222222222222222,
              "#7201a8"
             ],
             [
              0.3333333333333333,
              "#9c179e"
             ],
             [
              0.4444444444444444,
              "#bd3786"
             ],
             [
              0.5555555555555556,
              "#d8576b"
             ],
             [
              0.6666666666666666,
              "#ed7953"
             ],
             [
              0.7777777777777778,
              "#fb9f3a"
             ],
             [
              0.8888888888888888,
              "#fdca26"
             ],
             [
              1,
              "#f0f921"
             ]
            ],
            "type": "histogram2dcontour"
           }
          ],
          "mesh3d": [
           {
            "colorbar": {
             "outlinewidth": 0,
             "ticks": ""
            },
            "type": "mesh3d"
           }
          ],
          "parcoords": [
           {
            "line": {
             "colorbar": {
              "outlinewidth": 0,
              "ticks": ""
             }
            },
            "type": "parcoords"
           }
          ],
          "pie": [
           {
            "automargin": true,
            "type": "pie"
           }
          ],
          "scatter": [
           {
            "fillpattern": {
             "fillmode": "overlay",
             "size": 10,
             "solidity": 0.2
            },
            "type": "scatter"
           }
          ],
          "scatter3d": [
           {
            "line": {
             "colorbar": {
              "outlinewidth": 0,
              "ticks": ""
             }
            },
            "marker": {
             "colorbar": {
              "outlinewidth": 0,
              "ticks": ""
             }
            },
            "type": "scatter3d"
           }
          ],
          "scattercarpet": [
           {
            "marker": {
             "colorbar": {
              "outlinewidth": 0,
              "ticks": ""
             }
            },
            "type": "scattercarpet"
           }
          ],
          "scattergeo": [
           {
            "marker": {
             "colorbar": {
              "outlinewidth": 0,
              "ticks": ""
             }
            },
            "type": "scattergeo"
           }
          ],
          "scattergl": [
           {
            "marker": {
             "colorbar": {
              "outlinewidth": 0,
              "ticks": ""
             }
            },
            "type": "scattergl"
           }
          ],
          "scattermapbox": [
           {
            "marker": {
             "colorbar": {
              "outlinewidth": 0,
              "ticks": ""
             }
            },
            "type": "scattermapbox"
           }
          ],
          "scatterpolar": [
           {
            "marker": {
             "colorbar": {
              "outlinewidth": 0,
              "ticks": ""
             }
            },
            "type": "scatterpolar"
           }
          ],
          "scatterpolargl": [
           {
            "marker": {
             "colorbar": {
              "outlinewidth": 0,
              "ticks": ""
             }
            },
            "type": "scatterpolargl"
           }
          ],
          "scatterternary": [
           {
            "marker": {
             "colorbar": {
              "outlinewidth": 0,
              "ticks": ""
             }
            },
            "type": "scatterternary"
           }
          ],
          "surface": [
           {
            "colorbar": {
             "outlinewidth": 0,
             "ticks": ""
            },
            "colorscale": [
             [
              0,
              "#0d0887"
             ],
             [
              0.1111111111111111,
              "#46039f"
             ],
             [
              0.2222222222222222,
              "#7201a8"
             ],
             [
              0.3333333333333333,
              "#9c179e"
             ],
             [
              0.4444444444444444,
              "#bd3786"
             ],
             [
              0.5555555555555556,
              "#d8576b"
             ],
             [
              0.6666666666666666,
              "#ed7953"
             ],
             [
              0.7777777777777778,
              "#fb9f3a"
             ],
             [
              0.8888888888888888,
              "#fdca26"
             ],
             [
              1,
              "#f0f921"
             ]
            ],
            "type": "surface"
           }
          ],
          "table": [
           {
            "cells": {
             "fill": {
              "color": "#EBF0F8"
             },
             "line": {
              "color": "white"
             }
            },
            "header": {
             "fill": {
              "color": "#C8D4E3"
             },
             "line": {
              "color": "white"
             }
            },
            "type": "table"
           }
          ]
         },
         "layout": {
          "annotationdefaults": {
           "arrowcolor": "#2a3f5f",
           "arrowhead": 0,
           "arrowwidth": 1
          },
          "autotypenumbers": "strict",
          "coloraxis": {
           "colorbar": {
            "outlinewidth": 0,
            "ticks": ""
           }
          },
          "colorscale": {
           "diverging": [
            [
             0,
             "#8e0152"
            ],
            [
             0.1,
             "#c51b7d"
            ],
            [
             0.2,
             "#de77ae"
            ],
            [
             0.3,
             "#f1b6da"
            ],
            [
             0.4,
             "#fde0ef"
            ],
            [
             0.5,
             "#f7f7f7"
            ],
            [
             0.6,
             "#e6f5d0"
            ],
            [
             0.7,
             "#b8e186"
            ],
            [
             0.8,
             "#7fbc41"
            ],
            [
             0.9,
             "#4d9221"
            ],
            [
             1,
             "#276419"
            ]
           ],
           "sequential": [
            [
             0,
             "#0d0887"
            ],
            [
             0.1111111111111111,
             "#46039f"
            ],
            [
             0.2222222222222222,
             "#7201a8"
            ],
            [
             0.3333333333333333,
             "#9c179e"
            ],
            [
             0.4444444444444444,
             "#bd3786"
            ],
            [
             0.5555555555555556,
             "#d8576b"
            ],
            [
             0.6666666666666666,
             "#ed7953"
            ],
            [
             0.7777777777777778,
             "#fb9f3a"
            ],
            [
             0.8888888888888888,
             "#fdca26"
            ],
            [
             1,
             "#f0f921"
            ]
           ],
           "sequentialminus": [
            [
             0,
             "#0d0887"
            ],
            [
             0.1111111111111111,
             "#46039f"
            ],
            [
             0.2222222222222222,
             "#7201a8"
            ],
            [
             0.3333333333333333,
             "#9c179e"
            ],
            [
             0.4444444444444444,
             "#bd3786"
            ],
            [
             0.5555555555555556,
             "#d8576b"
            ],
            [
             0.6666666666666666,
             "#ed7953"
            ],
            [
             0.7777777777777778,
             "#fb9f3a"
            ],
            [
             0.8888888888888888,
             "#fdca26"
            ],
            [
             1,
             "#f0f921"
            ]
           ]
          },
          "colorway": [
           "#636efa",
           "#EF553B",
           "#00cc96",
           "#ab63fa",
           "#FFA15A",
           "#19d3f3",
           "#FF6692",
           "#B6E880",
           "#FF97FF",
           "#FECB52"
          ],
          "font": {
           "color": "#2a3f5f"
          },
          "geo": {
           "bgcolor": "white",
           "lakecolor": "white",
           "landcolor": "#E5ECF6",
           "showlakes": true,
           "showland": true,
           "subunitcolor": "white"
          },
          "hoverlabel": {
           "align": "left"
          },
          "hovermode": "closest",
          "mapbox": {
           "style": "light"
          },
          "paper_bgcolor": "white",
          "plot_bgcolor": "#E5ECF6",
          "polar": {
           "angularaxis": {
            "gridcolor": "white",
            "linecolor": "white",
            "ticks": ""
           },
           "bgcolor": "#E5ECF6",
           "radialaxis": {
            "gridcolor": "white",
            "linecolor": "white",
            "ticks": ""
           }
          },
          "scene": {
           "xaxis": {
            "backgroundcolor": "#E5ECF6",
            "gridcolor": "white",
            "gridwidth": 2,
            "linecolor": "white",
            "showbackground": true,
            "ticks": "",
            "zerolinecolor": "white"
           },
           "yaxis": {
            "backgroundcolor": "#E5ECF6",
            "gridcolor": "white",
            "gridwidth": 2,
            "linecolor": "white",
            "showbackground": true,
            "ticks": "",
            "zerolinecolor": "white"
           },
           "zaxis": {
            "backgroundcolor": "#E5ECF6",
            "gridcolor": "white",
            "gridwidth": 2,
            "linecolor": "white",
            "showbackground": true,
            "ticks": "",
            "zerolinecolor": "white"
           }
          },
          "shapedefaults": {
           "line": {
            "color": "#2a3f5f"
           }
          },
          "ternary": {
           "aaxis": {
            "gridcolor": "white",
            "linecolor": "white",
            "ticks": ""
           },
           "baxis": {
            "gridcolor": "white",
            "linecolor": "white",
            "ticks": ""
           },
           "bgcolor": "#E5ECF6",
           "caxis": {
            "gridcolor": "white",
            "linecolor": "white",
            "ticks": ""
           }
          },
          "title": {
           "x": 0.05
          },
          "xaxis": {
           "automargin": true,
           "gridcolor": "white",
           "linecolor": "white",
           "ticks": "",
           "title": {
            "standoff": 15
           },
           "zerolinecolor": "white",
           "zerolinewidth": 2
          },
          "yaxis": {
           "automargin": true,
           "gridcolor": "white",
           "linecolor": "white",
           "ticks": "",
           "title": {
            "standoff": 15
           },
           "zerolinecolor": "white",
           "zerolinewidth": 2
          }
         }
        }
       }
      }
     },
     "metadata": {},
     "output_type": "display_data"
    }
   ],
   "source": [
    "figure = go.Figure(\n",
    "    data=[\n",
    "        go.Scatter(\n",
    "            y=train_accuracies,\n",
    "            mode=\"lines+markers\",\n",
    "            name=\"train\",\n",
    "        ),\n",
    "        # go.Scatter(\n",
    "        #     y=val_accuracies,\n",
    "        #     mode=\"lines+markers\",\n",
    "        #     name=\"val\",\n",
    "        # ),\n",
    "    ]\n",
    ")\n",
    "figure.show()"
   ]
  },
  {
   "cell_type": "code",
   "execution_count": 55,
   "metadata": {},
   "outputs": [
    {
     "data": {
      "application/vnd.plotly.v1+json": {
       "config": {
        "plotlyServerURL": "https://plot.ly"
       },
       "data": [
        {
         "mode": "lines+markers",
         "name": "train",
         "type": "scatter",
         "y": [
          1.0106337070465088,
          0.774714469909668,
          0.7036511301994324,
          0.6041175127029419,
          0.5416076183319092,
          0.4919766187667846,
          0.454736590385437,
          0.43987685441970825,
          0.40426865220069885,
          0.38017845153808594,
          0.37135612964630127,
          0.34541642665863037,
          0.32646670937538147,
          0.33280450105667114,
          0.3064301311969757,
          0.2957605719566345,
          0.2797539234161377,
          0.27394458651542664,
          0.2855777144432068,
          0.254351943731308,
          0.2499728202819824,
          0.24759109318256375,
          0.23551179468631744,
          0.22704769670963287,
          0.23179298639297485,
          0.2130552679300308,
          0.20880144834518433,
          0.21983109414577484,
          0.20332902669906616,
          0.19830064475536344,
          0.18739375472068787,
          0.19997139275074005,
          0.17925716936588287,
          0.17358043789863586,
          0.16436637938022614,
          0.1825246512889862,
          0.15659457445144653,
          0.16665135324001312,
          0.14898540079593658,
          0.1682189702987671,
          0.14696760475635529,
          0.1824774444103241,
          0.13991515338420868,
          0.13507254421710968,
          0.1296546906232834,
          0.12423228472471236,
          0.12130224704742432,
          0.1265576183795929,
          0.1412448137998581,
          0.1080833449959755,
          0.1050005555152893,
          0.09943947196006776,
          0.11401933431625366,
          0.10842791199684144,
          0.0951882153749466,
          0.1151403784751892,
          0.09281915426254272,
          0.094841867685318,
          0.08445975929498672,
          0.0891941711306572,
          0.0874614417552948,
          0.08024623245000839,
          0.07277572900056839,
          0.07996731996536255,
          0.07284770160913467,
          0.09087517857551576,
          0.06922359019517899,
          0.07084424793720245,
          0.06196790188550949,
          0.07248644530773163,
          0.06760859489440918,
          0.07787744700908661,
          0.06438910216093063,
          0.07029184699058533,
          0.05589694902300835,
          0.07095053046941757,
          0.0684751495718956,
          0.06203259527683258,
          0.06258007138967514,
          0.056605689227581024,
          0.06810919940471649,
          0.0739155039191246,
          0.05743978917598725,
          0.04889082908630371,
          0.06009146571159363,
          0.05334200710058212,
          0.0534718856215477,
          0.05436064675450325,
          0.05918964743614197,
          0.05440588295459747,
          0.05232732743024826,
          0.06268630176782608,
          0.05932679772377014,
          0.04808904975652695,
          0.08259117603302002,
          0.056500937789678574,
          0.048696137964725494,
          0.052788518369197845,
          0.06136740371584892,
          0.06998862326145172
         ]
        }
       ],
       "layout": {
        "template": {
         "data": {
          "bar": [
           {
            "error_x": {
             "color": "#2a3f5f"
            },
            "error_y": {
             "color": "#2a3f5f"
            },
            "marker": {
             "line": {
              "color": "#E5ECF6",
              "width": 0.5
             },
             "pattern": {
              "fillmode": "overlay",
              "size": 10,
              "solidity": 0.2
             }
            },
            "type": "bar"
           }
          ],
          "barpolar": [
           {
            "marker": {
             "line": {
              "color": "#E5ECF6",
              "width": 0.5
             },
             "pattern": {
              "fillmode": "overlay",
              "size": 10,
              "solidity": 0.2
             }
            },
            "type": "barpolar"
           }
          ],
          "carpet": [
           {
            "aaxis": {
             "endlinecolor": "#2a3f5f",
             "gridcolor": "white",
             "linecolor": "white",
             "minorgridcolor": "white",
             "startlinecolor": "#2a3f5f"
            },
            "baxis": {
             "endlinecolor": "#2a3f5f",
             "gridcolor": "white",
             "linecolor": "white",
             "minorgridcolor": "white",
             "startlinecolor": "#2a3f5f"
            },
            "type": "carpet"
           }
          ],
          "choropleth": [
           {
            "colorbar": {
             "outlinewidth": 0,
             "ticks": ""
            },
            "type": "choropleth"
           }
          ],
          "contour": [
           {
            "colorbar": {
             "outlinewidth": 0,
             "ticks": ""
            },
            "colorscale": [
             [
              0,
              "#0d0887"
             ],
             [
              0.1111111111111111,
              "#46039f"
             ],
             [
              0.2222222222222222,
              "#7201a8"
             ],
             [
              0.3333333333333333,
              "#9c179e"
             ],
             [
              0.4444444444444444,
              "#bd3786"
             ],
             [
              0.5555555555555556,
              "#d8576b"
             ],
             [
              0.6666666666666666,
              "#ed7953"
             ],
             [
              0.7777777777777778,
              "#fb9f3a"
             ],
             [
              0.8888888888888888,
              "#fdca26"
             ],
             [
              1,
              "#f0f921"
             ]
            ],
            "type": "contour"
           }
          ],
          "contourcarpet": [
           {
            "colorbar": {
             "outlinewidth": 0,
             "ticks": ""
            },
            "type": "contourcarpet"
           }
          ],
          "heatmap": [
           {
            "colorbar": {
             "outlinewidth": 0,
             "ticks": ""
            },
            "colorscale": [
             [
              0,
              "#0d0887"
             ],
             [
              0.1111111111111111,
              "#46039f"
             ],
             [
              0.2222222222222222,
              "#7201a8"
             ],
             [
              0.3333333333333333,
              "#9c179e"
             ],
             [
              0.4444444444444444,
              "#bd3786"
             ],
             [
              0.5555555555555556,
              "#d8576b"
             ],
             [
              0.6666666666666666,
              "#ed7953"
             ],
             [
              0.7777777777777778,
              "#fb9f3a"
             ],
             [
              0.8888888888888888,
              "#fdca26"
             ],
             [
              1,
              "#f0f921"
             ]
            ],
            "type": "heatmap"
           }
          ],
          "heatmapgl": [
           {
            "colorbar": {
             "outlinewidth": 0,
             "ticks": ""
            },
            "colorscale": [
             [
              0,
              "#0d0887"
             ],
             [
              0.1111111111111111,
              "#46039f"
             ],
             [
              0.2222222222222222,
              "#7201a8"
             ],
             [
              0.3333333333333333,
              "#9c179e"
             ],
             [
              0.4444444444444444,
              "#bd3786"
             ],
             [
              0.5555555555555556,
              "#d8576b"
             ],
             [
              0.6666666666666666,
              "#ed7953"
             ],
             [
              0.7777777777777778,
              "#fb9f3a"
             ],
             [
              0.8888888888888888,
              "#fdca26"
             ],
             [
              1,
              "#f0f921"
             ]
            ],
            "type": "heatmapgl"
           }
          ],
          "histogram": [
           {
            "marker": {
             "pattern": {
              "fillmode": "overlay",
              "size": 10,
              "solidity": 0.2
             }
            },
            "type": "histogram"
           }
          ],
          "histogram2d": [
           {
            "colorbar": {
             "outlinewidth": 0,
             "ticks": ""
            },
            "colorscale": [
             [
              0,
              "#0d0887"
             ],
             [
              0.1111111111111111,
              "#46039f"
             ],
             [
              0.2222222222222222,
              "#7201a8"
             ],
             [
              0.3333333333333333,
              "#9c179e"
             ],
             [
              0.4444444444444444,
              "#bd3786"
             ],
             [
              0.5555555555555556,
              "#d8576b"
             ],
             [
              0.6666666666666666,
              "#ed7953"
             ],
             [
              0.7777777777777778,
              "#fb9f3a"
             ],
             [
              0.8888888888888888,
              "#fdca26"
             ],
             [
              1,
              "#f0f921"
             ]
            ],
            "type": "histogram2d"
           }
          ],
          "histogram2dcontour": [
           {
            "colorbar": {
             "outlinewidth": 0,
             "ticks": ""
            },
            "colorscale": [
             [
              0,
              "#0d0887"
             ],
             [
              0.1111111111111111,
              "#46039f"
             ],
             [
              0.2222222222222222,
              "#7201a8"
             ],
             [
              0.3333333333333333,
              "#9c179e"
             ],
             [
              0.4444444444444444,
              "#bd3786"
             ],
             [
              0.5555555555555556,
              "#d8576b"
             ],
             [
              0.6666666666666666,
              "#ed7953"
             ],
             [
              0.7777777777777778,
              "#fb9f3a"
             ],
             [
              0.8888888888888888,
              "#fdca26"
             ],
             [
              1,
              "#f0f921"
             ]
            ],
            "type": "histogram2dcontour"
           }
          ],
          "mesh3d": [
           {
            "colorbar": {
             "outlinewidth": 0,
             "ticks": ""
            },
            "type": "mesh3d"
           }
          ],
          "parcoords": [
           {
            "line": {
             "colorbar": {
              "outlinewidth": 0,
              "ticks": ""
             }
            },
            "type": "parcoords"
           }
          ],
          "pie": [
           {
            "automargin": true,
            "type": "pie"
           }
          ],
          "scatter": [
           {
            "fillpattern": {
             "fillmode": "overlay",
             "size": 10,
             "solidity": 0.2
            },
            "type": "scatter"
           }
          ],
          "scatter3d": [
           {
            "line": {
             "colorbar": {
              "outlinewidth": 0,
              "ticks": ""
             }
            },
            "marker": {
             "colorbar": {
              "outlinewidth": 0,
              "ticks": ""
             }
            },
            "type": "scatter3d"
           }
          ],
          "scattercarpet": [
           {
            "marker": {
             "colorbar": {
              "outlinewidth": 0,
              "ticks": ""
             }
            },
            "type": "scattercarpet"
           }
          ],
          "scattergeo": [
           {
            "marker": {
             "colorbar": {
              "outlinewidth": 0,
              "ticks": ""
             }
            },
            "type": "scattergeo"
           }
          ],
          "scattergl": [
           {
            "marker": {
             "colorbar": {
              "outlinewidth": 0,
              "ticks": ""
             }
            },
            "type": "scattergl"
           }
          ],
          "scattermapbox": [
           {
            "marker": {
             "colorbar": {
              "outlinewidth": 0,
              "ticks": ""
             }
            },
            "type": "scattermapbox"
           }
          ],
          "scatterpolar": [
           {
            "marker": {
             "colorbar": {
              "outlinewidth": 0,
              "ticks": ""
             }
            },
            "type": "scatterpolar"
           }
          ],
          "scatterpolargl": [
           {
            "marker": {
             "colorbar": {
              "outlinewidth": 0,
              "ticks": ""
             }
            },
            "type": "scatterpolargl"
           }
          ],
          "scatterternary": [
           {
            "marker": {
             "colorbar": {
              "outlinewidth": 0,
              "ticks": ""
             }
            },
            "type": "scatterternary"
           }
          ],
          "surface": [
           {
            "colorbar": {
             "outlinewidth": 0,
             "ticks": ""
            },
            "colorscale": [
             [
              0,
              "#0d0887"
             ],
             [
              0.1111111111111111,
              "#46039f"
             ],
             [
              0.2222222222222222,
              "#7201a8"
             ],
             [
              0.3333333333333333,
              "#9c179e"
             ],
             [
              0.4444444444444444,
              "#bd3786"
             ],
             [
              0.5555555555555556,
              "#d8576b"
             ],
             [
              0.6666666666666666,
              "#ed7953"
             ],
             [
              0.7777777777777778,
              "#fb9f3a"
             ],
             [
              0.8888888888888888,
              "#fdca26"
             ],
             [
              1,
              "#f0f921"
             ]
            ],
            "type": "surface"
           }
          ],
          "table": [
           {
            "cells": {
             "fill": {
              "color": "#EBF0F8"
             },
             "line": {
              "color": "white"
             }
            },
            "header": {
             "fill": {
              "color": "#C8D4E3"
             },
             "line": {
              "color": "white"
             }
            },
            "type": "table"
           }
          ]
         },
         "layout": {
          "annotationdefaults": {
           "arrowcolor": "#2a3f5f",
           "arrowhead": 0,
           "arrowwidth": 1
          },
          "autotypenumbers": "strict",
          "coloraxis": {
           "colorbar": {
            "outlinewidth": 0,
            "ticks": ""
           }
          },
          "colorscale": {
           "diverging": [
            [
             0,
             "#8e0152"
            ],
            [
             0.1,
             "#c51b7d"
            ],
            [
             0.2,
             "#de77ae"
            ],
            [
             0.3,
             "#f1b6da"
            ],
            [
             0.4,
             "#fde0ef"
            ],
            [
             0.5,
             "#f7f7f7"
            ],
            [
             0.6,
             "#e6f5d0"
            ],
            [
             0.7,
             "#b8e186"
            ],
            [
             0.8,
             "#7fbc41"
            ],
            [
             0.9,
             "#4d9221"
            ],
            [
             1,
             "#276419"
            ]
           ],
           "sequential": [
            [
             0,
             "#0d0887"
            ],
            [
             0.1111111111111111,
             "#46039f"
            ],
            [
             0.2222222222222222,
             "#7201a8"
            ],
            [
             0.3333333333333333,
             "#9c179e"
            ],
            [
             0.4444444444444444,
             "#bd3786"
            ],
            [
             0.5555555555555556,
             "#d8576b"
            ],
            [
             0.6666666666666666,
             "#ed7953"
            ],
            [
             0.7777777777777778,
             "#fb9f3a"
            ],
            [
             0.8888888888888888,
             "#fdca26"
            ],
            [
             1,
             "#f0f921"
            ]
           ],
           "sequentialminus": [
            [
             0,
             "#0d0887"
            ],
            [
             0.1111111111111111,
             "#46039f"
            ],
            [
             0.2222222222222222,
             "#7201a8"
            ],
            [
             0.3333333333333333,
             "#9c179e"
            ],
            [
             0.4444444444444444,
             "#bd3786"
            ],
            [
             0.5555555555555556,
             "#d8576b"
            ],
            [
             0.6666666666666666,
             "#ed7953"
            ],
            [
             0.7777777777777778,
             "#fb9f3a"
            ],
            [
             0.8888888888888888,
             "#fdca26"
            ],
            [
             1,
             "#f0f921"
            ]
           ]
          },
          "colorway": [
           "#636efa",
           "#EF553B",
           "#00cc96",
           "#ab63fa",
           "#FFA15A",
           "#19d3f3",
           "#FF6692",
           "#B6E880",
           "#FF97FF",
           "#FECB52"
          ],
          "font": {
           "color": "#2a3f5f"
          },
          "geo": {
           "bgcolor": "white",
           "lakecolor": "white",
           "landcolor": "#E5ECF6",
           "showlakes": true,
           "showland": true,
           "subunitcolor": "white"
          },
          "hoverlabel": {
           "align": "left"
          },
          "hovermode": "closest",
          "mapbox": {
           "style": "light"
          },
          "paper_bgcolor": "white",
          "plot_bgcolor": "#E5ECF6",
          "polar": {
           "angularaxis": {
            "gridcolor": "white",
            "linecolor": "white",
            "ticks": ""
           },
           "bgcolor": "#E5ECF6",
           "radialaxis": {
            "gridcolor": "white",
            "linecolor": "white",
            "ticks": ""
           }
          },
          "scene": {
           "xaxis": {
            "backgroundcolor": "#E5ECF6",
            "gridcolor": "white",
            "gridwidth": 2,
            "linecolor": "white",
            "showbackground": true,
            "ticks": "",
            "zerolinecolor": "white"
           },
           "yaxis": {
            "backgroundcolor": "#E5ECF6",
            "gridcolor": "white",
            "gridwidth": 2,
            "linecolor": "white",
            "showbackground": true,
            "ticks": "",
            "zerolinecolor": "white"
           },
           "zaxis": {
            "backgroundcolor": "#E5ECF6",
            "gridcolor": "white",
            "gridwidth": 2,
            "linecolor": "white",
            "showbackground": true,
            "ticks": "",
            "zerolinecolor": "white"
           }
          },
          "shapedefaults": {
           "line": {
            "color": "#2a3f5f"
           }
          },
          "ternary": {
           "aaxis": {
            "gridcolor": "white",
            "linecolor": "white",
            "ticks": ""
           },
           "baxis": {
            "gridcolor": "white",
            "linecolor": "white",
            "ticks": ""
           },
           "bgcolor": "#E5ECF6",
           "caxis": {
            "gridcolor": "white",
            "linecolor": "white",
            "ticks": ""
           }
          },
          "title": {
           "x": 0.05
          },
          "xaxis": {
           "automargin": true,
           "gridcolor": "white",
           "linecolor": "white",
           "ticks": "",
           "title": {
            "standoff": 15
           },
           "zerolinecolor": "white",
           "zerolinewidth": 2
          },
          "yaxis": {
           "automargin": true,
           "gridcolor": "white",
           "linecolor": "white",
           "ticks": "",
           "title": {
            "standoff": 15
           },
           "zerolinecolor": "white",
           "zerolinewidth": 2
          }
         }
        }
       }
      }
     },
     "metadata": {},
     "output_type": "display_data"
    }
   ],
   "source": [
    "figure = go.Figure(\n",
    "    data=[\n",
    "        go.Scatter(y=train_lossess, mode=\"lines+markers\", name=\"train\"),\n",
    "        # go.Scatter(\n",
    "        #     y=val_lossess,\n",
    "        #     mode=\"lines+markers\",\n",
    "        #     name=\"val\"\n",
    "        # ),\n",
    "    ]\n",
    ")\n",
    "figure.show()"
   ]
  },
  {
   "cell_type": "code",
   "execution_count": null,
   "metadata": {},
   "outputs": [],
   "source": []
  }
 ],
 "metadata": {
  "kernelspec": {
   "display_name": "pytorch",
   "language": "python",
   "name": "python3"
  },
  "language_info": {
   "codemirror_mode": {
    "name": "ipython",
    "version": 3
   },
   "file_extension": ".py",
   "mimetype": "text/x-python",
   "name": "python",
   "nbconvert_exporter": "python",
   "pygments_lexer": "ipython3",
   "version": "3.11.4"
  }
 },
 "nbformat": 4,
 "nbformat_minor": 2
}
