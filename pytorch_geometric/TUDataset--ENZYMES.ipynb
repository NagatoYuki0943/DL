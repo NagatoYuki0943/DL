{
 "cells": [
  {
   "cell_type": "markdown",
   "metadata": {},
   "source": [
    "https://zhuanlan.zhihu.com/p/435945714"
   ]
  },
  {
   "cell_type": "code",
   "execution_count": 1,
   "metadata": {},
   "outputs": [],
   "source": [
    "import torch\n",
    "from torch import nn, Tensor, optim\n",
    "from torch.nn import functional as F\n",
    "from torch_geometric import nn as gnn\n",
    "from torch_geometric import datasets\n",
    "from torch_geometric.data import Data, Dataset\n",
    "from torch_geometric.loader import DataLoader\n",
    "from torch_geometric import transforms as gtransforms\n",
    "from torch_geometric.utils import to_networkx\n",
    "import networkx as nx\n",
    "from tqdm import tqdm\n",
    "from plotly import express as px\n",
    "from plotly import graph_objects as go\n",
    "import matplotlib.pyplot as plt"
   ]
  },
  {
   "cell_type": "code",
   "execution_count": 2,
   "metadata": {},
   "outputs": [
    {
     "data": {
      "text/plain": [
       "'cuda:0'"
      ]
     },
     "execution_count": 2,
     "metadata": {},
     "output_type": "execute_result"
    }
   ],
   "source": [
    "device = \"cuda:0\" if torch.cuda.is_available() else (\"mps\" if torch.backends.mps.is_available() else \"cpu\")\n",
    "device"
   ]
  },
  {
   "cell_type": "code",
   "execution_count": 3,
   "metadata": {},
   "outputs": [],
   "source": [
    "seed = 0\n",
    "torch.manual_seed(seed)\n",
    "torch.cuda.manual_seed(seed)\n",
    "torch.cuda.manual_seed_all(seed)"
   ]
  },
  {
   "cell_type": "markdown",
   "metadata": {},
   "source": [
    "# torch_geometric.data.Data\n",
    "\n",
    "节点和节点之间的边构成了图。所以在 PyG 中，如果你要构建图，那么需要两个要素：节点和边。PyG 提供了torch_geometric.data.Data (下面简称Data) 用于构建图，包括 5 个属性，每一个属性都不是必须的，可以为空。\n",
    "\n",
    "- x: 用于存储每个节点的特征，形状是 `[num_nodes, num_node_features]`\n",
    "- y: 存储样本标签。如果是每个节点都有标签，那么形状是 `[num_nodes, *]`；如果是整张图只有一个标签，那么形状是 `[1, *]`\n",
    "- edge_index: 用于存储节点之间的边，形状是 `[2, num_edges]`\n",
    "- pos: 存储节点的坐标，形状是 `[num_nodes, num_dimensions]`\n",
    "- edge_attr: 存储边的特征。形状是 `[num_edges, num_edge_features]`"
   ]
  },
  {
   "cell_type": "code",
   "execution_count": 4,
   "metadata": {},
   "outputs": [
    {
     "data": {
      "text/plain": [
       "tensor([[ 2.,  1.],\n",
       "        [ 5.,  6.],\n",
       "        [ 3.,  7.],\n",
       "        [12.,  0.]])"
      ]
     },
     "execution_count": 4,
     "metadata": {},
     "output_type": "execute_result"
    }
   ],
   "source": [
    "# x: 用于存储每个节点的特征，形状是 `[num_nodes, num_node_features]`。\n",
    "x = torch.tensor(\n",
    "    [[2,  1],\n",
    "     [5,  6],\n",
    "     [3,  7],\n",
    "     [12, 0]],\n",
    "    dtype=torch.float\n",
    ")\n",
    "x"
   ]
  },
  {
   "cell_type": "code",
   "execution_count": 5,
   "metadata": {},
   "outputs": [
    {
     "data": {
      "text/plain": [
       "tensor([[0],\n",
       "        [2],\n",
       "        [3],\n",
       "        [4]])"
      ]
     },
     "execution_count": 5,
     "metadata": {},
     "output_type": "execute_result"
    }
   ],
   "source": [
    "# y: 存储样本标签。如果是每个节点都有标签，那么形状是 `[num_nodes, *]`；如果是整张图只有一个标签，那么形状是 `[1, *]`。\n",
    "y = torch.tensor(\n",
    "    [[0],\n",
    "     [2],\n",
    "     [3],\n",
    "     [4]],\n",
    "    dtype=torch.long\n",
    ")\n",
    "y"
   ]
  },
  {
   "cell_type": "code",
   "execution_count": 6,
   "metadata": {},
   "outputs": [
    {
     "data": {
      "text/plain": [
       "tensor([[0, 1, 0, 1, 1, 2, 3],\n",
       "        [1, 0, 2, 2, 3, 3, 2]])"
      ]
     },
     "execution_count": 6,
     "metadata": {},
     "output_type": "execute_result"
    }
   ],
   "source": [
    "# edge_index: 用于存储节点之间的边，形状是 `[2, num_edges]`\n",
    "# 5条边: (0 -> 1), (0 -> 2), (1 -> 2), (1 -> 3), (2 -> 3)\n",
    "edge_index = torch.tensor(\n",
    "    [[0, 1, 0, 1, 1, 2, 3],\n",
    "     [1, 0, 2, 2, 3, 3, 2]],\n",
    "    dtype=torch.long\n",
    ")\n",
    "edge_index"
   ]
  },
  {
   "cell_type": "code",
   "execution_count": 7,
   "metadata": {},
   "outputs": [
    {
     "data": {
      "text/plain": [
       "Data(x=[4, 2], edge_index=[2, 7], y=[4, 1])"
      ]
     },
     "execution_count": 7,
     "metadata": {},
     "output_type": "execute_result"
    }
   ],
   "source": [
    "data = Data(x=x, y=y, edge_index=edge_index)\n",
    "data"
   ]
  },
  {
   "cell_type": "code",
   "execution_count": null,
   "metadata": {},
   "outputs": [
    {
     "name": "stdout",
     "output_type": "stream",
     "text": [
      "('x', tensor([[ 2.,  1.],\n",
      "        [ 5.,  6.],\n",
      "        [ 3.,  7.],\n",
      "        [12.,  0.]]))\n",
      "('edge_index', tensor([[0, 1, 0, 1, 1, 2, 3],\n",
      "        [1, 0, 2, 2, 3, 3, 2]]))\n",
      "('y', tensor([[0],\n",
      "        [2],\n",
      "        [3],\n",
      "        [4]]))\n"
     ]
    }
   ],
   "source": [
    "for i in data:\n",
    "    print(i)"
   ]
  },
  {
   "cell_type": "code",
   "execution_count": 9,
   "metadata": {},
   "outputs": [],
   "source": [
    "def visualize_graph(G, color):\n",
    "    plt.figure(figsize=(7,7))\n",
    "    plt.xticks([])\n",
    "    plt.yticks([])\n",
    "    nx.draw_networkx(G, pos=nx.spring_layout(G, seed=42), with_labels=False,\n",
    "                     node_color=color, cmap=\"Set2\")\n",
    "    plt.show()"
   ]
  },
  {
   "cell_type": "code",
   "execution_count": 10,
   "metadata": {},
   "outputs": [
    {
     "data": {
      "image/png": "[encoded data removed]",
      "text/plain": [
       "<Figure size 700x700 with 1 Axes>"
      ]
     },
     "metadata": {},
     "output_type": "display_data"
    }
   ],
   "source": [
    "visualize_graph(to_networkx(data, to_undirected=True), color=data.y)"
   ]
  },
  {
   "cell_type": "markdown",
   "metadata": {},
   "source": [
    "# from torch_geometric.datasets"
   ]
  },
  {
   "cell_type": "code",
   "execution_count": 11,
   "metadata": {},
   "outputs": [
    {
     "data": {
      "text/plain": [
       "Compose([\n",
       "  NormalizeFeatures()\n",
       "])"
      ]
     },
     "execution_count": 11,
     "metadata": {},
     "output_type": "execute_result"
    }
   ],
   "source": [
    "transform = gtransforms.Compose([\n",
    "    gtransforms.NormalizeFeatures(),\n",
    "])\n",
    "transform"
   ]
  },
  {
   "cell_type": "markdown",
   "metadata": {},
   "source": [
    "| Name          | #graphs | #nodes | #edges  | #features | #classes |\n",
    "| ------------- | ------- | ------ | ------- | --------- | -------- |\n",
    "| MUTAG         | 188     | ~17.9  | ~39.6   | 7         | 2        |\n",
    "| ENZYMES       | 600     | ~32.6  | ~124.3  | 3         | 6        |\n",
    "| PROTEINS      | 1,113   | ~39.1  | ~145.6  | 3         | 2        |\n",
    "| COLLAB        | 5,000   | ~74.5  | ~4914.4 | 0         | 3        |\n",
    "| IMDB-BINARY   | 1,000   | ~19.8  | ~193.1  | 0         | 2        |\n",
    "| REDDIT-BINARY | 2,000   | ~429.6 | ~995.5  | 0         | 2        |"
   ]
  },
  {
   "cell_type": "code",
   "execution_count": 12,
   "metadata": {},
   "outputs": [
    {
     "data": {
      "text/plain": [
       "Data(edge_index=[2, 168], x=[37, 21], y=[1])"
      ]
     },
     "execution_count": 12,
     "metadata": {},
     "output_type": "execute_result"
    }
   ],
   "source": [
    "dataset = datasets.TUDataset(\n",
    "    root=\"./datasets/TUDataset\",\n",
    "    name=\"ENZYMES\",   # MUTAG, ENZYMES, PROTEINS, COLLAB, IMDB-BINARY, REDDIT-BINARY\n",
    "    transform=transform,\n",
    "    use_node_attr=True,\n",
    ")\n",
    "dataset[0]"
   ]
  },
  {
   "cell_type": "code",
   "execution_count": 13,
   "metadata": {},
   "outputs": [
    {
     "data": {
      "text/plain": [
       "Data(edge_index=[2, 194], x=[46, 21], y=[1])"
      ]
     },
     "execution_count": 13,
     "metadata": {},
     "output_type": "execute_result"
    }
   ],
   "source": [
    "dataset = dataset.shuffle()\n",
    "dataset[0]"
   ]
  },
  {
   "cell_type": "code",
   "execution_count": 14,
   "metadata": {},
   "outputs": [
    {
     "data": {
      "text/plain": [
       "(0, 0, 0)"
      ]
     },
     "execution_count": 14,
     "metadata": {},
     "output_type": "execute_result"
    }
   ],
   "source": [
    "dataset.num_edge_attributes, dataset.num_edge_features, dataset.num_edge_labels"
   ]
  },
  {
   "cell_type": "code",
   "execution_count": 15,
   "metadata": {},
   "outputs": [
    {
     "data": {
      "text/plain": [
       "(18, 21, 0)"
      ]
     },
     "execution_count": 15,
     "metadata": {},
     "output_type": "execute_result"
    }
   ],
   "source": [
    "dataset.num_node_attributes, dataset.num_node_features, dataset.num_edge_labels"
   ]
  },
  {
   "cell_type": "code",
   "execution_count": 16,
   "metadata": {},
   "outputs": [
    {
     "data": {
      "text/plain": [
       "(21, 6)"
      ]
     },
     "execution_count": 16,
     "metadata": {},
     "output_type": "execute_result"
    }
   ],
   "source": [
    "dataset.num_features, dataset.num_classes"
   ]
  },
  {
   "cell_type": "code",
   "execution_count": 17,
   "metadata": {},
   "outputs": [
    {
     "name": "stdout",
     "output_type": "stream",
     "text": [
      "600\n",
      "480\n",
      "120\n"
     ]
    }
   ],
   "source": [
    "val_ratio = 0.2\n",
    "dataset_len = len(dataset)\n",
    "print(dataset_len)\n",
    "val_dataset_len = int(dataset_len * val_ratio)\n",
    "print(dataset_len - val_dataset_len)\n",
    "print(val_dataset_len)"
   ]
  },
  {
   "cell_type": "code",
   "execution_count": 18,
   "metadata": {},
   "outputs": [
    {
     "name": "stdout",
     "output_type": "stream",
     "text": [
      "480\n",
      "120\n"
     ]
    }
   ],
   "source": [
    "train_dataset = dataset[:-val_dataset_len]\n",
    "print(len(train_dataset))\n",
    "val_dataset = dataset[-val_dataset_len:]\n",
    "print(len(val_dataset))"
   ]
  },
  {
   "cell_type": "code",
   "execution_count": 19,
   "metadata": {},
   "outputs": [
    {
     "data": {
      "text/plain": [
       "<torch_geometric.loader.dataloader.DataLoader at 0x1ab138a1f90>"
      ]
     },
     "execution_count": 19,
     "metadata": {},
     "output_type": "execute_result"
    }
   ],
   "source": [
    "train_dataloader = DataLoader(dataset=train_dataset, batch_size=2, shuffle=True)\n",
    "train_dataloader"
   ]
  },
  {
   "cell_type": "code",
   "execution_count": 20,
   "metadata": {},
   "outputs": [
    {
     "data": {
      "text/plain": [
       "<torch_geometric.loader.dataloader.DataLoader at 0x1ab138a3990>"
      ]
     },
     "execution_count": 20,
     "metadata": {},
     "output_type": "execute_result"
    }
   ],
   "source": [
    "val_dataloader = DataLoader(dataset=val_dataset, batch_size=2, shuffle=False)\n",
    "val_dataloader"
   ]
  },
  {
   "cell_type": "code",
   "execution_count": 21,
   "metadata": {},
   "outputs": [
    {
     "name": "stdout",
     "output_type": "stream",
     "text": [
      "DataBatch(edge_index=[2, 302], x=[89, 21], y=[2], batch=[89], ptr=[3])\n",
      "x: \t\t torch.Size([89, 21])\n",
      "edge_index: \t torch.Size([2, 302])\n",
      "batch: \t\t torch.Size([89])\n",
      "y: \t\t torch.Size([2])\n",
      "y: \t\t tensor([[0],\n",
      "        [2],\n",
      "        [3],\n",
      "        [4]])\n",
      "DataBatch(edge_index=[2, 152], x=[37, 21], y=[2], batch=[37], ptr=[3])\n",
      "x: \t\t torch.Size([37, 21])\n",
      "edge_index: \t torch.Size([2, 152])\n",
      "batch: \t\t torch.Size([37])\n",
      "y: \t\t torch.Size([2])\n",
      "y: \t\t tensor([[0],\n",
      "        [2],\n",
      "        [3],\n",
      "        [4]])\n",
      "DataBatch(edge_index=[2, 334], x=[84, 21], y=[2], batch=[84], ptr=[3])\n",
      "x: \t\t torch.Size([84, 21])\n",
      "edge_index: \t torch.Size([2, 334])\n",
      "batch: \t\t torch.Size([84])\n",
      "y: \t\t torch.Size([2])\n",
      "y: \t\t tensor([[0],\n",
      "        [2],\n",
      "        [3],\n",
      "        [4]])\n",
      "DataBatch(edge_index=[2, 216], x=[53, 21], y=[2], batch=[53], ptr=[3])\n",
      "x: \t\t torch.Size([53, 21])\n",
      "edge_index: \t torch.Size([2, 216])\n",
      "batch: \t\t torch.Size([53])\n",
      "y: \t\t torch.Size([2])\n",
      "y: \t\t tensor([[0],\n",
      "        [2],\n",
      "        [3],\n",
      "        [4]])\n",
      "DataBatch(edge_index=[2, 210], x=[50, 21], y=[2], batch=[50], ptr=[3])\n",
      "x: \t\t torch.Size([50, 21])\n",
      "edge_index: \t torch.Size([2, 210])\n",
      "batch: \t\t torch.Size([50])\n",
      "y: \t\t torch.Size([2])\n",
      "y: \t\t tensor([[0],\n",
      "        [2],\n",
      "        [3],\n",
      "        [4]])\n",
      "DataBatch(edge_index=[2, 198], x=[52, 21], y=[2], batch=[52], ptr=[3])\n",
      "x: \t\t torch.Size([52, 21])\n",
      "edge_index: \t torch.Size([2, 198])\n",
      "batch: \t\t torch.Size([52])\n",
      "y: \t\t torch.Size([2])\n",
      "y: \t\t tensor([[0],\n",
      "        [2],\n",
      "        [3],\n",
      "        [4]])\n"
     ]
    }
   ],
   "source": [
    "for i, batch in enumerate(train_dataloader):\n",
    "    print(batch)\n",
    "    print(\"x: \\t\\t\",        batch.x.shape)          # [batch_sum, num_features] 图的每一条数据的长度不一定相等,batch_sum代表这个batch中的全部节点数据\n",
    "    print(\"edge_index: \\t\", batch.edge_index.shape) # 代表边的连接\n",
    "    print(\"batch: \\t\\t\",    batch.batch.shape)      # batch代表是这个batch中哪一些数据是一组的. 0为1组,1为1组...\n",
    "    # print(\"batch: \\t\\t\",    batch.batch)\n",
    "    print(\"y: \\t\\t\",        batch.y.shape)          # 类别\n",
    "    print(\"y: \\t\\t\",        y)\n",
    "    if i >= 5:\n",
    "        break"
   ]
  },
  {
   "cell_type": "code",
   "execution_count": 22,
   "metadata": {},
   "outputs": [
    {
     "data": {
      "text/plain": [
       "torch.Size([52, 21])"
      ]
     },
     "execution_count": 22,
     "metadata": {},
     "output_type": "execute_result"
    }
   ],
   "source": [
    "batch.x.shape"
   ]
  },
  {
   "cell_type": "markdown",
   "metadata": {},
   "source": [
    "# Model"
   ]
  },
  {
   "cell_type": "code",
   "execution_count": 23,
   "metadata": {},
   "outputs": [],
   "source": [
    "class Net(nn.Module):\n",
    "    def __init__(\n",
    "        self,\n",
    "        conv: nn.Module = gnn.GraphConv,    # [GraphConv, GCNConv, SAGEConv, GATConv]\n",
    "        norm: nn.Module = nn.BatchNorm1d,   # [BatchNorm1d, LayerNorm, InstanceNorm1d]\n",
    "        act: nn.Module = nn.ReLU\n",
    "    ) -> None:\n",
    "        super().__init__()\n",
    "        self.conv1 = conv(in_channels=dataset.num_features, out_channels=64)\n",
    "        self.norm1 = norm(64)\n",
    "        self.act1  = act()\n",
    "\n",
    "        self.conv2 = conv(in_channels=64, out_channels=64)\n",
    "        self.norm2 = norm(64)\n",
    "        self.act2  = act()\n",
    "\n",
    "        self.conv3 = conv(in_channels=64, out_channels=64)\n",
    "        self.norm3 = norm(64)\n",
    "        self.act3  = act()\n",
    "\n",
    "        self.fc    = nn.Linear(in_features=64, out_features=dataset.num_classes)\n",
    "\n",
    "    def forward(self, x: Tensor, edge_index: Tensor, batch: Tensor = None) -> Tensor:\n",
    "        x = self.conv1(x, edge_index)\n",
    "        x = self.norm1(x)\n",
    "        x = self.act1(x)\n",
    "\n",
    "        res = x\n",
    "        x = self.conv2(x, edge_index)\n",
    "        x = self.norm2(x)\n",
    "        x = self.act2(x)\n",
    "        x = x + res\n",
    "\n",
    "        res = x\n",
    "        x = self.conv3(x, edge_index)\n",
    "        x = self.norm3(x)\n",
    "        x = self.act3(x)\n",
    "        x = x + res\n",
    "\n",
    "        # global_max_pool: 将节点嵌入聚合到一个统一的图嵌入(readout layer)中\n",
    "        x = gnn.global_max_pool(x, batch)   # [batch_sum, num_features] -> [batch, num_features]\n",
    "\n",
    "        x = self.fc(x)\n",
    "        return x"
   ]
  },
  {
   "cell_type": "code",
   "execution_count": 24,
   "metadata": {},
   "outputs": [
    {
     "data": {
      "text/plain": [
       "Net(\n",
       "  (conv1): GraphConv(21, 64)\n",
       "  (norm1): BatchNorm1d(64, eps=1e-05, momentum=0.1, affine=True, track_running_stats=True)\n",
       "  (act1): ReLU()\n",
       "  (conv2): GraphConv(64, 64)\n",
       "  (norm2): BatchNorm1d(64, eps=1e-05, momentum=0.1, affine=True, track_running_stats=True)\n",
       "  (act2): ReLU()\n",
       "  (fc): Linear(in_features=64, out_features=6, bias=True)\n",
       ")"
      ]
     },
     "execution_count": 24,
     "metadata": {},
     "output_type": "execute_result"
    }
   ],
   "source": [
    "net = Net().to(device)\n",
    "net"
   ]
  },
  {
   "cell_type": "code",
   "execution_count": 25,
   "metadata": {},
   "outputs": [
    {
     "data": {
      "text/plain": [
       "Adam (\n",
       "Parameter Group 0\n",
       "    amsgrad: False\n",
       "    betas: (0.9, 0.999)\n",
       "    capturable: False\n",
       "    differentiable: False\n",
       "    eps: 1e-08\n",
       "    foreach: None\n",
       "    fused: None\n",
       "    lr: 0.001\n",
       "    maximize: False\n",
       "    weight_decay: 0\n",
       ")"
      ]
     },
     "execution_count": 25,
     "metadata": {},
     "output_type": "execute_result"
    }
   ],
   "source": [
    "optimizer = optim.Adam(params=net.parameters())\n",
    "optimizer"
   ]
  },
  {
   "cell_type": "code",
   "execution_count": 26,
   "metadata": {},
   "outputs": [],
   "source": [
    "epochs = 100"
   ]
  },
  {
   "cell_type": "code",
   "execution_count": 27,
   "metadata": {},
   "outputs": [
    {
     "data": {
      "text/plain": [
       "<torch.optim.lr_scheduler.CosineAnnealingLR at 0x1ab138a2650>"
      ]
     },
     "execution_count": 27,
     "metadata": {},
     "output_type": "execute_result"
    }
   ],
   "source": [
    "lr_scheduler = optim.lr_scheduler.CosineAnnealingLR(optimizer=optimizer, T_max=epochs, eta_min=optimizer.state_dict()['param_groups'][0]['lr'] * 0.01)\n",
    "lr_scheduler"
   ]
  },
  {
   "cell_type": "code",
   "execution_count": 28,
   "metadata": {},
   "outputs": [
    {
     "data": {
      "text/plain": [
       "CrossEntropyLoss()"
      ]
     },
     "execution_count": 28,
     "metadata": {},
     "output_type": "execute_result"
    }
   ],
   "source": [
    "loss_fn = nn.CrossEntropyLoss()\n",
    "loss_fn"
   ]
  },
  {
   "cell_type": "markdown",
   "metadata": {},
   "source": [
    "# train"
   ]
  },
  {
   "cell_type": "code",
   "execution_count": 29,
   "metadata": {},
   "outputs": [
    {
     "name": "stderr",
     "output_type": "stream",
     "text": [
      "train-epoch: 1: 100%|██████████| 240/240 [00:11<00:00, 21.37it/s, loss=2.19] \n",
      "val-epoch: 1: 100%|██████████| 60/60 [00:02<00:00, 27.65it/s, loss=2.5] \n"
     ]
    },
    {
     "name": "stdout",
     "output_type": "stream",
     "text": [
      "\u001b[0;31;40mepoch: 1\u001b[0m \u001b[0;32;40mtrain_accuracy = 0.1979166716337204\u001b[0m \u001b[0;34;40mval_accuracy = 0.24166667461395264\u001b[0m\n"
     ]
    },
    {
     "name": "stderr",
     "output_type": "stream",
     "text": [
      "train-epoch: 2: 100%|██████████| 240/240 [00:10<00:00, 22.69it/s, loss=1.53] \n",
      "val-epoch: 2: 100%|██████████| 60/60 [00:02<00:00, 26.81it/s, loss=1.96] \n"
     ]
    },
    {
     "name": "stdout",
     "output_type": "stream",
     "text": [
      "\u001b[0;31;40mepoch: 2\u001b[0m \u001b[0;32;40mtrain_accuracy = 0.2958333492279053\u001b[0m \u001b[0;34;40mval_accuracy = 0.20000001788139343\u001b[0m\n"
     ]
    },
    {
     "name": "stderr",
     "output_type": "stream",
     "text": [
      "train-epoch: 3: 100%|██████████| 240/240 [00:10<00:00, 22.08it/s, loss=2.16] \n",
      "val-epoch: 3: 100%|██████████| 60/60 [00:02<00:00, 27.46it/s, loss=1.9]  \n"
     ]
    },
    {
     "name": "stdout",
     "output_type": "stream",
     "text": [
      "\u001b[0;31;40mepoch: 3\u001b[0m \u001b[0;32;40mtrain_accuracy = 0.30416667461395264\u001b[0m \u001b[0;34;40mval_accuracy = 0.24166667461395264\u001b[0m\n"
     ]
    },
    {
     "name": "stderr",
     "output_type": "stream",
     "text": [
      "train-epoch: 4: 100%|██████████| 240/240 [00:11<00:00, 21.64it/s, loss=1.12] \n",
      "val-epoch: 4: 100%|██████████| 60/60 [00:02<00:00, 29.18it/s, loss=2.18] \n"
     ]
    },
    {
     "name": "stdout",
     "output_type": "stream",
     "text": [
      "\u001b[0;31;40mepoch: 4\u001b[0m \u001b[0;32;40mtrain_accuracy = 0.37291669845581055\u001b[0m \u001b[0;34;40mval_accuracy = 0.31666669249534607\u001b[0m\n"
     ]
    },
    {
     "name": "stderr",
     "output_type": "stream",
     "text": [
      "train-epoch: 5: 100%|██████████| 240/240 [00:10<00:00, 22.28it/s, loss=2.15] \n",
      "val-epoch: 5: 100%|██████████| 60/60 [00:02<00:00, 24.53it/s, loss=2.12] \n"
     ]
    },
    {
     "name": "stdout",
     "output_type": "stream",
     "text": [
      "\u001b[0;31;40mepoch: 5\u001b[0m \u001b[0;32;40mtrain_accuracy = 0.3708333671092987\u001b[0m \u001b[0;34;40mval_accuracy = 0.23333334922790527\u001b[0m\n"
     ]
    },
    {
     "name": "stderr",
     "output_type": "stream",
     "text": [
      "train-epoch: 6: 100%|██████████| 240/240 [00:05<00:00, 43.50it/s, loss=1.06]  \n",
      "val-epoch: 6: 100%|██████████| 60/60 [00:02<00:00, 24.69it/s, loss=1.81] \n"
     ]
    },
    {
     "name": "stdout",
     "output_type": "stream",
     "text": [
      "\u001b[0;31;40mepoch: 6\u001b[0m \u001b[0;32;40mtrain_accuracy = 0.42916667461395264\u001b[0m \u001b[0;34;40mval_accuracy = 0.2750000059604645\u001b[0m\n"
     ]
    },
    {
     "name": "stderr",
     "output_type": "stream",
     "text": [
      "train-epoch: 7: 100%|██████████| 240/240 [00:10<00:00, 22.20it/s, loss=1.07] \n",
      "val-epoch: 7: 100%|██████████| 60/60 [00:02<00:00, 25.31it/s, loss=2.02] \n"
     ]
    },
    {
     "name": "stdout",
     "output_type": "stream",
     "text": [
      "\u001b[0;31;40mepoch: 7\u001b[0m \u001b[0;32;40mtrain_accuracy = 0.4208333492279053\u001b[0m \u001b[0;34;40mval_accuracy = 0.25\u001b[0m\n"
     ]
    },
    {
     "name": "stderr",
     "output_type": "stream",
     "text": [
      "train-epoch: 8: 100%|██████████| 240/240 [00:10<00:00, 21.88it/s, loss=0.846]\n",
      "val-epoch: 8: 100%|██████████| 60/60 [00:02<00:00, 26.66it/s, loss=1.97] \n"
     ]
    },
    {
     "name": "stdout",
     "output_type": "stream",
     "text": [
      "\u001b[0;31;40mepoch: 8\u001b[0m \u001b[0;32;40mtrain_accuracy = 0.4583333432674408\u001b[0m \u001b[0;34;40mval_accuracy = 0.22500000894069672\u001b[0m\n"
     ]
    },
    {
     "name": "stderr",
     "output_type": "stream",
     "text": [
      "train-epoch: 9: 100%|██████████| 240/240 [00:11<00:00, 21.63it/s, loss=1.64] \n",
      "val-epoch: 9: 100%|██████████| 60/60 [00:01<00:00, 30.01it/s, loss=1.81]  \n"
     ]
    },
    {
     "name": "stdout",
     "output_type": "stream",
     "text": [
      "\u001b[0;31;40mepoch: 9\u001b[0m \u001b[0;32;40mtrain_accuracy = 0.4541666805744171\u001b[0m \u001b[0;34;40mval_accuracy = 0.40000003576278687\u001b[0m\n"
     ]
    },
    {
     "name": "stderr",
     "output_type": "stream",
     "text": [
      "train-epoch: 10: 100%|██████████| 240/240 [00:10<00:00, 21.86it/s, loss=2.34] \n",
      "val-epoch: 10: 100%|██████████| 60/60 [00:02<00:00, 25.70it/s, loss=2.02] \n"
     ]
    },
    {
     "name": "stdout",
     "output_type": "stream",
     "text": [
      "\u001b[0;31;40mepoch: 10\u001b[0m \u001b[0;32;40mtrain_accuracy = 0.48125001788139343\u001b[0m \u001b[0;34;40mval_accuracy = 0.40833336114883423\u001b[0m\n"
     ]
    },
    {
     "name": "stderr",
     "output_type": "stream",
     "text": [
      "train-epoch: 11: 100%|██████████| 240/240 [00:11<00:00, 21.44it/s, loss=0.451]\n",
      "val-epoch: 11: 100%|██████████| 60/60 [00:02<00:00, 26.22it/s, loss=2.16]  \n"
     ]
    },
    {
     "name": "stdout",
     "output_type": "stream",
     "text": [
      "\u001b[0;31;40mepoch: 11\u001b[0m \u001b[0;32;40mtrain_accuracy = 0.5166667103767395\u001b[0m \u001b[0;34;40mval_accuracy = 0.3333333432674408\u001b[0m\n"
     ]
    },
    {
     "name": "stderr",
     "output_type": "stream",
     "text": [
      "train-epoch: 12: 100%|██████████| 240/240 [00:10<00:00, 22.16it/s, loss=1.63] \n",
      "val-epoch: 12: 100%|██████████| 60/60 [00:02<00:00, 28.18it/s, loss=1.73] \n"
     ]
    },
    {
     "name": "stdout",
     "output_type": "stream",
     "text": [
      "\u001b[0;31;40mepoch: 12\u001b[0m \u001b[0;32;40mtrain_accuracy = 0.5145833492279053\u001b[0m \u001b[0;34;40mval_accuracy = 0.2666666805744171\u001b[0m\n"
     ]
    },
    {
     "name": "stderr",
     "output_type": "stream",
     "text": [
      "train-epoch: 13: 100%|██████████| 240/240 [00:11<00:00, 21.79it/s, loss=2]    \n",
      "val-epoch: 13: 100%|██████████| 60/60 [00:02<00:00, 24.57it/s, loss=1.25] \n"
     ]
    },
    {
     "name": "stdout",
     "output_type": "stream",
     "text": [
      "\u001b[0;31;40mepoch: 13\u001b[0m \u001b[0;32;40mtrain_accuracy = 0.5604166984558105\u001b[0m \u001b[0;34;40mval_accuracy = 0.4166666865348816\u001b[0m\n"
     ]
    },
    {
     "name": "stderr",
     "output_type": "stream",
     "text": [
      "train-epoch: 14: 100%|██████████| 240/240 [00:10<00:00, 22.22it/s, loss=2.15] \n",
      "val-epoch: 14: 100%|██████████| 60/60 [00:02<00:00, 25.62it/s, loss=1.31]  \n"
     ]
    },
    {
     "name": "stdout",
     "output_type": "stream",
     "text": [
      "\u001b[0;31;40mepoch: 14\u001b[0m \u001b[0;32;40mtrain_accuracy = 0.5687500238418579\u001b[0m \u001b[0;34;40mval_accuracy = 0.3750000298023224\u001b[0m\n"
     ]
    },
    {
     "name": "stderr",
     "output_type": "stream",
     "text": [
      "train-epoch: 15: 100%|██████████| 240/240 [00:10<00:00, 21.94it/s, loss=0.419]\n",
      "val-epoch: 15: 100%|██████████| 60/60 [00:02<00:00, 27.47it/s, loss=1.04] \n"
     ]
    },
    {
     "name": "stdout",
     "output_type": "stream",
     "text": [
      "\u001b[0;31;40mepoch: 15\u001b[0m \u001b[0;32;40mtrain_accuracy = 0.5833333730697632\u001b[0m \u001b[0;34;40mval_accuracy = 0.3750000298023224\u001b[0m\n"
     ]
    },
    {
     "name": "stderr",
     "output_type": "stream",
     "text": [
      "train-epoch: 16: 100%|██████████| 240/240 [00:10<00:00, 22.03it/s, loss=0.535]\n",
      "val-epoch: 16: 100%|██████████| 60/60 [00:02<00:00, 25.84it/s, loss=1.1]  \n"
     ]
    },
    {
     "name": "stdout",
     "output_type": "stream",
     "text": [
      "\u001b[0;31;40mepoch: 16\u001b[0m \u001b[0;32;40mtrain_accuracy = 0.6395833492279053\u001b[0m \u001b[0;34;40mval_accuracy = 0.2750000059604645\u001b[0m\n"
     ]
    },
    {
     "name": "stderr",
     "output_type": "stream",
     "text": [
      "train-epoch: 17: 100%|██████████| 240/240 [00:11<00:00, 21.78it/s, loss=0.806]\n",
      "val-epoch: 17: 100%|██████████| 60/60 [00:02<00:00, 24.63it/s, loss=1.25] \n"
     ]
    },
    {
     "name": "stdout",
     "output_type": "stream",
     "text": [
      "\u001b[0;31;40mepoch: 17\u001b[0m \u001b[0;32;40mtrain_accuracy = 0.6458333730697632\u001b[0m \u001b[0;34;40mval_accuracy = 0.30000001192092896\u001b[0m\n"
     ]
    },
    {
     "name": "stderr",
     "output_type": "stream",
     "text": [
      "train-epoch: 18: 100%|██████████| 240/240 [00:10<00:00, 22.00it/s, loss=1.7]   \n",
      "val-epoch: 18: 100%|██████████| 60/60 [00:02<00:00, 26.08it/s, loss=1.66] \n"
     ]
    },
    {
     "name": "stdout",
     "output_type": "stream",
     "text": [
      "\u001b[0;31;40mepoch: 18\u001b[0m \u001b[0;32;40mtrain_accuracy = 0.6625000238418579\u001b[0m \u001b[0;34;40mval_accuracy = 0.24166667461395264\u001b[0m\n"
     ]
    },
    {
     "name": "stderr",
     "output_type": "stream",
     "text": [
      "train-epoch: 19: 100%|██████████| 240/240 [00:10<00:00, 21.99it/s, loss=0.375]\n",
      "val-epoch: 19: 100%|██████████| 60/60 [00:02<00:00, 26.94it/s, loss=1.07] \n"
     ]
    },
    {
     "name": "stdout",
     "output_type": "stream",
     "text": [
      "\u001b[0;31;40mepoch: 19\u001b[0m \u001b[0;32;40mtrain_accuracy = 0.6354166865348816\u001b[0m \u001b[0;34;40mval_accuracy = 0.36666667461395264\u001b[0m\n"
     ]
    },
    {
     "name": "stderr",
     "output_type": "stream",
     "text": [
      "train-epoch: 20: 100%|██████████| 240/240 [00:10<00:00, 21.86it/s, loss=0.726]\n",
      "val-epoch: 20: 100%|██████████| 60/60 [00:02<00:00, 25.22it/s, loss=1.69] \n"
     ]
    },
    {
     "name": "stdout",
     "output_type": "stream",
     "text": [
      "\u001b[0;31;40mepoch: 20\u001b[0m \u001b[0;32;40mtrain_accuracy = 0.6812500357627869\u001b[0m \u001b[0;34;40mval_accuracy = 0.20000001788139343\u001b[0m\n"
     ]
    },
    {
     "name": "stderr",
     "output_type": "stream",
     "text": [
      "train-epoch: 21: 100%|██████████| 240/240 [00:10<00:00, 22.16it/s, loss=1.64] \n",
      "val-epoch: 21: 100%|██████████| 60/60 [00:02<00:00, 26.44it/s, loss=1.25]  \n"
     ]
    },
    {
     "name": "stdout",
     "output_type": "stream",
     "text": [
      "\u001b[0;31;40mepoch: 21\u001b[0m \u001b[0;32;40mtrain_accuracy = 0.6895833611488342\u001b[0m \u001b[0;34;40mval_accuracy = 0.44166669249534607\u001b[0m\n"
     ]
    },
    {
     "name": "stderr",
     "output_type": "stream",
     "text": [
      "train-epoch: 22: 100%|██████████| 240/240 [00:10<00:00, 22.58it/s, loss=2.21]  \n",
      "val-epoch: 22: 100%|██████████| 60/60 [00:02<00:00, 24.86it/s, loss=0.681] \n"
     ]
    },
    {
     "name": "stdout",
     "output_type": "stream",
     "text": [
      "\u001b[0;31;40mepoch: 22\u001b[0m \u001b[0;32;40mtrain_accuracy = 0.6979166865348816\u001b[0m \u001b[0;34;40mval_accuracy = 0.42500001192092896\u001b[0m\n"
     ]
    },
    {
     "name": "stderr",
     "output_type": "stream",
     "text": [
      "train-epoch: 23: 100%|██████████| 240/240 [00:10<00:00, 21.91it/s, loss=1.47]  \n",
      "val-epoch: 23: 100%|██████████| 60/60 [00:02<00:00, 25.33it/s, loss=0.775]\n"
     ]
    },
    {
     "name": "stdout",
     "output_type": "stream",
     "text": [
      "\u001b[0;31;40mepoch: 23\u001b[0m \u001b[0;32;40mtrain_accuracy = 0.7083333730697632\u001b[0m \u001b[0;34;40mval_accuracy = 0.3500000238418579\u001b[0m\n"
     ]
    },
    {
     "name": "stderr",
     "output_type": "stream",
     "text": [
      "train-epoch: 24: 100%|██████████| 240/240 [00:10<00:00, 22.02it/s, loss=0.817] \n",
      "val-epoch: 24: 100%|██████████| 60/60 [00:02<00:00, 24.28it/s, loss=0.981]\n"
     ]
    },
    {
     "name": "stdout",
     "output_type": "stream",
     "text": [
      "\u001b[0;31;40mepoch: 24\u001b[0m \u001b[0;32;40mtrain_accuracy = 0.7458333969116211\u001b[0m \u001b[0;34;40mval_accuracy = 0.3750000298023224\u001b[0m\n"
     ]
    },
    {
     "name": "stderr",
     "output_type": "stream",
     "text": [
      "train-epoch: 25: 100%|██████████| 240/240 [00:10<00:00, 22.30it/s, loss=0.275] \n",
      "val-epoch: 25: 100%|██████████| 60/60 [00:02<00:00, 25.48it/s, loss=1.22] \n"
     ]
    },
    {
     "name": "stdout",
     "output_type": "stream",
     "text": [
      "\u001b[0;31;40mepoch: 25\u001b[0m \u001b[0;32;40mtrain_accuracy = 0.7541667222976685\u001b[0m \u001b[0;34;40mval_accuracy = 0.3333333432674408\u001b[0m\n"
     ]
    },
    {
     "name": "stderr",
     "output_type": "stream",
     "text": [
      "train-epoch: 26: 100%|██████████| 240/240 [00:10<00:00, 21.90it/s, loss=0.953] \n",
      "val-epoch: 26: 100%|██████████| 60/60 [00:02<00:00, 24.23it/s, loss=1.67]  \n"
     ]
    },
    {
     "name": "stdout",
     "output_type": "stream",
     "text": [
      "\u001b[0;31;40mepoch: 26\u001b[0m \u001b[0;32;40mtrain_accuracy = 0.8083333969116211\u001b[0m \u001b[0;34;40mval_accuracy = 0.38333335518836975\u001b[0m\n"
     ]
    },
    {
     "name": "stderr",
     "output_type": "stream",
     "text": [
      "train-epoch: 27: 100%|██████████| 240/240 [00:10<00:00, 22.08it/s, loss=0.179]\n",
      "val-epoch: 27: 100%|██████████| 60/60 [00:02<00:00, 26.18it/s, loss=1.23] \n"
     ]
    },
    {
     "name": "stdout",
     "output_type": "stream",
     "text": [
      "\u001b[0;31;40mepoch: 27\u001b[0m \u001b[0;32;40mtrain_accuracy = 0.7854167222976685\u001b[0m \u001b[0;34;40mval_accuracy = 0.32500001788139343\u001b[0m\n"
     ]
    },
    {
     "name": "stderr",
     "output_type": "stream",
     "text": [
      "train-epoch: 28: 100%|██████████| 240/240 [00:11<00:00, 21.69it/s, loss=0.184] \n",
      "val-epoch: 28: 100%|██████████| 60/60 [00:02<00:00, 27.76it/s, loss=1.08] \n"
     ]
    },
    {
     "name": "stdout",
     "output_type": "stream",
     "text": [
      "\u001b[0;31;40mepoch: 28\u001b[0m \u001b[0;32;40mtrain_accuracy = 0.8041667342185974\u001b[0m \u001b[0;34;40mval_accuracy = 0.491666704416275\u001b[0m\n"
     ]
    },
    {
     "name": "stderr",
     "output_type": "stream",
     "text": [
      "train-epoch: 29: 100%|██████████| 240/240 [00:10<00:00, 21.83it/s, loss=0.354] \n",
      "val-epoch: 29: 100%|██████████| 60/60 [00:02<00:00, 26.72it/s, loss=1.03] \n"
     ]
    },
    {
     "name": "stdout",
     "output_type": "stream",
     "text": [
      "\u001b[0;31;40mepoch: 29\u001b[0m \u001b[0;32;40mtrain_accuracy = 0.8166667222976685\u001b[0m \u001b[0;34;40mval_accuracy = 0.46666669845581055\u001b[0m\n"
     ]
    },
    {
     "name": "stderr",
     "output_type": "stream",
     "text": [
      "train-epoch: 30: 100%|██████████| 240/240 [00:10<00:00, 21.98it/s, loss=0.864] \n",
      "val-epoch: 30: 100%|██████████| 60/60 [00:02<00:00, 24.58it/s, loss=1.67] \n"
     ]
    },
    {
     "name": "stdout",
     "output_type": "stream",
     "text": [
      "\u001b[0;31;40mepoch: 30\u001b[0m \u001b[0;32;40mtrain_accuracy = 0.7979167103767395\u001b[0m \u001b[0;34;40mval_accuracy = 0.46666669845581055\u001b[0m\n"
     ]
    },
    {
     "name": "stderr",
     "output_type": "stream",
     "text": [
      "train-epoch: 31: 100%|██████████| 240/240 [00:10<00:00, 21.87it/s, loss=0.55]  \n",
      "val-epoch: 31: 100%|██████████| 60/60 [00:02<00:00, 26.65it/s, loss=0.496]\n"
     ]
    },
    {
     "name": "stdout",
     "output_type": "stream",
     "text": [
      "\u001b[0;31;40mepoch: 31\u001b[0m \u001b[0;32;40mtrain_accuracy = 0.8083333969116211\u001b[0m \u001b[0;34;40mval_accuracy = 0.45000001788139343\u001b[0m\n"
     ]
    },
    {
     "name": "stderr",
     "output_type": "stream",
     "text": [
      "train-epoch: 32: 100%|██████████| 240/240 [00:10<00:00, 21.89it/s, loss=0.27]  \n",
      "val-epoch: 32: 100%|██████████| 60/60 [00:02<00:00, 24.84it/s, loss=0.684]\n"
     ]
    },
    {
     "name": "stdout",
     "output_type": "stream",
     "text": [
      "\u001b[0;31;40mepoch: 32\u001b[0m \u001b[0;32;40mtrain_accuracy = 0.7979167103767395\u001b[0m \u001b[0;34;40mval_accuracy = 0.42500001192092896\u001b[0m\n"
     ]
    },
    {
     "name": "stderr",
     "output_type": "stream",
     "text": [
      "train-epoch: 33: 100%|██████████| 240/240 [00:11<00:00, 21.74it/s, loss=0.636] \n",
      "val-epoch: 33: 100%|██████████| 60/60 [00:02<00:00, 26.23it/s, loss=1.19] \n"
     ]
    },
    {
     "name": "stdout",
     "output_type": "stream",
     "text": [
      "\u001b[0;31;40mepoch: 33\u001b[0m \u001b[0;32;40mtrain_accuracy = 0.8750000596046448\u001b[0m \u001b[0;34;40mval_accuracy = 0.40000003576278687\u001b[0m\n"
     ]
    },
    {
     "name": "stderr",
     "output_type": "stream",
     "text": [
      "train-epoch: 34: 100%|██████████| 240/240 [00:10<00:00, 22.47it/s, loss=0.289] \n",
      "val-epoch: 34: 100%|██████████| 60/60 [00:02<00:00, 25.77it/s, loss=0.864] \n"
     ]
    },
    {
     "name": "stdout",
     "output_type": "stream",
     "text": [
      "\u001b[0;31;40mepoch: 34\u001b[0m \u001b[0;32;40mtrain_accuracy = 0.8458333611488342\u001b[0m \u001b[0;34;40mval_accuracy = 0.46666669845581055\u001b[0m\n"
     ]
    },
    {
     "name": "stderr",
     "output_type": "stream",
     "text": [
      "train-epoch: 35: 100%|██████████| 240/240 [00:10<00:00, 22.00it/s, loss=0.375] \n",
      "val-epoch: 35: 100%|██████████| 60/60 [00:02<00:00, 24.90it/s, loss=0.727]\n"
     ]
    },
    {
     "name": "stdout",
     "output_type": "stream",
     "text": [
      "\u001b[0;31;40mepoch: 35\u001b[0m \u001b[0;32;40mtrain_accuracy = 0.8604167103767395\u001b[0m \u001b[0;34;40mval_accuracy = 0.550000011920929\u001b[0m\n"
     ]
    },
    {
     "name": "stderr",
     "output_type": "stream",
     "text": [
      "train-epoch: 36: 100%|██████████| 240/240 [00:10<00:00, 22.26it/s, loss=0.214] \n",
      "val-epoch: 36: 100%|██████████| 60/60 [00:02<00:00, 27.53it/s, loss=0.942] \n"
     ]
    },
    {
     "name": "stdout",
     "output_type": "stream",
     "text": [
      "\u001b[0;31;40mepoch: 36\u001b[0m \u001b[0;32;40mtrain_accuracy = 0.8437500596046448\u001b[0m \u001b[0;34;40mval_accuracy = 0.4833333492279053\u001b[0m\n"
     ]
    },
    {
     "name": "stderr",
     "output_type": "stream",
     "text": [
      "train-epoch: 37: 100%|██████████| 240/240 [00:10<00:00, 22.32it/s, loss=0.933] \n",
      "val-epoch: 37: 100%|██████████| 60/60 [00:02<00:00, 26.42it/s, loss=1.73]  \n"
     ]
    },
    {
     "name": "stdout",
     "output_type": "stream",
     "text": [
      "\u001b[0;31;40mepoch: 37\u001b[0m \u001b[0;32;40mtrain_accuracy = 0.9020833969116211\u001b[0m \u001b[0;34;40mval_accuracy = 0.45000001788139343\u001b[0m\n"
     ]
    },
    {
     "name": "stderr",
     "output_type": "stream",
     "text": [
      "train-epoch: 38: 100%|██████████| 240/240 [00:10<00:00, 22.12it/s, loss=0.0638]\n",
      "val-epoch: 38: 100%|██████████| 60/60 [00:02<00:00, 25.05it/s, loss=1.34]  \n"
     ]
    },
    {
     "name": "stdout",
     "output_type": "stream",
     "text": [
      "\u001b[0;31;40mepoch: 38\u001b[0m \u001b[0;32;40mtrain_accuracy = 0.8583333492279053\u001b[0m \u001b[0;34;40mval_accuracy = 0.42500001192092896\u001b[0m\n"
     ]
    },
    {
     "name": "stderr",
     "output_type": "stream",
     "text": [
      "train-epoch: 39: 100%|██████████| 240/240 [00:10<00:00, 22.30it/s, loss=0.161] \n",
      "val-epoch: 39: 100%|██████████| 60/60 [00:02<00:00, 26.52it/s, loss=0.918]\n"
     ]
    },
    {
     "name": "stdout",
     "output_type": "stream",
     "text": [
      "\u001b[0;31;40mepoch: 39\u001b[0m \u001b[0;32;40mtrain_accuracy = 0.8791667222976685\u001b[0m \u001b[0;34;40mval_accuracy = 0.4583333432674408\u001b[0m\n"
     ]
    },
    {
     "name": "stderr",
     "output_type": "stream",
     "text": [
      "train-epoch: 40: 100%|██████████| 240/240 [00:10<00:00, 22.15it/s, loss=0.245]  \n",
      "val-epoch: 40: 100%|██████████| 60/60 [00:02<00:00, 26.93it/s, loss=0.389] \n"
     ]
    },
    {
     "name": "stdout",
     "output_type": "stream",
     "text": [
      "\u001b[0;31;40mepoch: 40\u001b[0m \u001b[0;32;40mtrain_accuracy = 0.9125000238418579\u001b[0m \u001b[0;34;40mval_accuracy = 0.5166667103767395\u001b[0m\n"
     ]
    },
    {
     "name": "stderr",
     "output_type": "stream",
     "text": [
      "train-epoch: 41: 100%|██████████| 240/240 [00:10<00:00, 22.46it/s, loss=1.25]  \n",
      "val-epoch: 41: 100%|██████████| 60/60 [00:02<00:00, 26.27it/s, loss=1.26]  \n"
     ]
    },
    {
     "name": "stdout",
     "output_type": "stream",
     "text": [
      "\u001b[0;31;40mepoch: 41\u001b[0m \u001b[0;32;40mtrain_accuracy = 0.88958340883255\u001b[0m \u001b[0;34;40mval_accuracy = 0.4750000238418579\u001b[0m\n"
     ]
    },
    {
     "name": "stderr",
     "output_type": "stream",
     "text": [
      "train-epoch: 42: 100%|██████████| 240/240 [00:05<00:00, 45.28it/s, loss=0.52]   \n",
      "val-epoch: 42: 100%|██████████| 60/60 [00:02<00:00, 25.90it/s, loss=0.825]\n"
     ]
    },
    {
     "name": "stdout",
     "output_type": "stream",
     "text": [
      "\u001b[0;31;40mepoch: 42\u001b[0m \u001b[0;32;40mtrain_accuracy = 0.9083333611488342\u001b[0m \u001b[0;34;40mval_accuracy = 0.38333335518836975\u001b[0m\n"
     ]
    },
    {
     "name": "stderr",
     "output_type": "stream",
     "text": [
      "train-epoch: 43: 100%|██████████| 240/240 [00:10<00:00, 21.84it/s, loss=1.67]  \n",
      "val-epoch: 43: 100%|██████████| 60/60 [00:02<00:00, 25.50it/s, loss=1.32]  \n"
     ]
    },
    {
     "name": "stdout",
     "output_type": "stream",
     "text": [
      "\u001b[0;31;40mepoch: 43\u001b[0m \u001b[0;32;40mtrain_accuracy = 0.9229167103767395\u001b[0m \u001b[0;34;40mval_accuracy = 0.40833336114883423\u001b[0m\n"
     ]
    },
    {
     "name": "stderr",
     "output_type": "stream",
     "text": [
      "train-epoch: 44: 100%|██████████| 240/240 [00:10<00:00, 22.11it/s, loss=0.68]  \n",
      "val-epoch: 44: 100%|██████████| 60/60 [00:02<00:00, 26.62it/s, loss=1.09] \n"
     ]
    },
    {
     "name": "stdout",
     "output_type": "stream",
     "text": [
      "\u001b[0;31;40mepoch: 44\u001b[0m \u001b[0;32;40mtrain_accuracy = 0.9145833849906921\u001b[0m \u001b[0;34;40mval_accuracy = 0.42500001192092896\u001b[0m\n"
     ]
    },
    {
     "name": "stderr",
     "output_type": "stream",
     "text": [
      "train-epoch: 45: 100%|██████████| 240/240 [00:10<00:00, 22.61it/s, loss=0.289] \n",
      "val-epoch: 45: 100%|██████████| 60/60 [00:02<00:00, 25.25it/s, loss=0.949]\n"
     ]
    },
    {
     "name": "stdout",
     "output_type": "stream",
     "text": [
      "\u001b[0;31;40mepoch: 45\u001b[0m \u001b[0;32;40mtrain_accuracy = 0.9354166984558105\u001b[0m \u001b[0;34;40mval_accuracy = 0.4833333492279053\u001b[0m\n"
     ]
    },
    {
     "name": "stderr",
     "output_type": "stream",
     "text": [
      "train-epoch: 46: 100%|██████████| 240/240 [00:10<00:00, 22.43it/s, loss=0.0894]\n",
      "val-epoch: 46: 100%|██████████| 60/60 [00:02<00:00, 25.94it/s, loss=1.12] \n"
     ]
    },
    {
     "name": "stdout",
     "output_type": "stream",
     "text": [
      "\u001b[0;31;40mepoch: 46\u001b[0m \u001b[0;32;40mtrain_accuracy = 0.9104167222976685\u001b[0m \u001b[0;34;40mval_accuracy = 0.3916666805744171\u001b[0m\n"
     ]
    },
    {
     "name": "stderr",
     "output_type": "stream",
     "text": [
      "train-epoch: 47: 100%|██████████| 240/240 [00:11<00:00, 21.72it/s, loss=0.0971]\n",
      "val-epoch: 47: 100%|██████████| 60/60 [00:02<00:00, 26.04it/s, loss=0.529] \n"
     ]
    },
    {
     "name": "stdout",
     "output_type": "stream",
     "text": [
      "\u001b[0;31;40mepoch: 47\u001b[0m \u001b[0;32;40mtrain_accuracy = 0.9395833611488342\u001b[0m \u001b[0;34;40mval_accuracy = 0.5666667222976685\u001b[0m\n"
     ]
    },
    {
     "name": "stderr",
     "output_type": "stream",
     "text": [
      "train-epoch: 48: 100%|██████████| 240/240 [00:10<00:00, 22.27it/s, loss=0.583] \n",
      "val-epoch: 48: 100%|██████████| 60/60 [00:02<00:00, 28.13it/s, loss=1.12]  \n"
     ]
    },
    {
     "name": "stdout",
     "output_type": "stream",
     "text": [
      "\u001b[0;31;40mepoch: 48\u001b[0m \u001b[0;32;40mtrain_accuracy = 0.9291667342185974\u001b[0m \u001b[0;34;40mval_accuracy = 0.5250000357627869\u001b[0m\n"
     ]
    },
    {
     "name": "stderr",
     "output_type": "stream",
     "text": [
      "train-epoch: 49: 100%|██████████| 240/240 [00:10<00:00, 22.34it/s, loss=0.089]  \n",
      "val-epoch: 49: 100%|██████████| 60/60 [00:02<00:00, 27.66it/s, loss=0.485] \n"
     ]
    },
    {
     "name": "stdout",
     "output_type": "stream",
     "text": [
      "\u001b[0;31;40mepoch: 49\u001b[0m \u001b[0;32;40mtrain_accuracy = 0.9270833730697632\u001b[0m \u001b[0;34;40mval_accuracy = 0.5\u001b[0m\n"
     ]
    },
    {
     "name": "stderr",
     "output_type": "stream",
     "text": [
      "train-epoch: 50: 100%|██████████| 240/240 [00:10<00:00, 22.28it/s, loss=0.0828] \n",
      "val-epoch: 50: 100%|██████████| 60/60 [00:02<00:00, 25.21it/s, loss=0.437] \n"
     ]
    },
    {
     "name": "stdout",
     "output_type": "stream",
     "text": [
      "\u001b[0;31;40mepoch: 50\u001b[0m \u001b[0;32;40mtrain_accuracy = 0.9354166984558105\u001b[0m \u001b[0;34;40mval_accuracy = 0.5333333611488342\u001b[0m\n"
     ]
    },
    {
     "name": "stderr",
     "output_type": "stream",
     "text": [
      "train-epoch: 51: 100%|██████████| 240/240 [00:10<00:00, 22.40it/s, loss=0.312]  \n",
      "val-epoch: 51: 100%|██████████| 60/60 [00:02<00:00, 28.32it/s, loss=0.707] \n"
     ]
    },
    {
     "name": "stdout",
     "output_type": "stream",
     "text": [
      "\u001b[0;31;40mepoch: 51\u001b[0m \u001b[0;32;40mtrain_accuracy = 0.9291667342185974\u001b[0m \u001b[0;34;40mval_accuracy = 0.5166667103767395\u001b[0m\n"
     ]
    },
    {
     "name": "stderr",
     "output_type": "stream",
     "text": [
      "train-epoch: 52: 100%|██████████| 240/240 [00:10<00:00, 22.02it/s, loss=0.0719]\n",
      "val-epoch: 52: 100%|██████████| 60/60 [00:02<00:00, 28.39it/s, loss=0.561]\n"
     ]
    },
    {
     "name": "stdout",
     "output_type": "stream",
     "text": [
      "\u001b[0;31;40mepoch: 52\u001b[0m \u001b[0;32;40mtrain_accuracy = 0.9479166865348816\u001b[0m \u001b[0;34;40mval_accuracy = 0.45000001788139343\u001b[0m\n"
     ]
    },
    {
     "name": "stderr",
     "output_type": "stream",
     "text": [
      "train-epoch: 53: 100%|██████████| 240/240 [00:10<00:00, 21.92it/s, loss=0.0634] \n",
      "val-epoch: 53: 100%|██████████| 60/60 [00:02<00:00, 25.49it/s, loss=0.914] \n"
     ]
    },
    {
     "name": "stdout",
     "output_type": "stream",
     "text": [
      "\u001b[0;31;40mepoch: 53\u001b[0m \u001b[0;32;40mtrain_accuracy = 0.9333333969116211\u001b[0m \u001b[0;34;40mval_accuracy = 0.5\u001b[0m\n"
     ]
    },
    {
     "name": "stderr",
     "output_type": "stream",
     "text": [
      "train-epoch: 54: 100%|██████████| 240/240 [00:10<00:00, 22.54it/s, loss=0.092]  \n",
      "val-epoch: 54: 100%|██████████| 60/60 [00:02<00:00, 27.07it/s, loss=1.46]  \n"
     ]
    },
    {
     "name": "stdout",
     "output_type": "stream",
     "text": [
      "\u001b[0;31;40mepoch: 54\u001b[0m \u001b[0;32;40mtrain_accuracy = 0.9541667103767395\u001b[0m \u001b[0;34;40mval_accuracy = 0.4750000238418579\u001b[0m\n"
     ]
    },
    {
     "name": "stderr",
     "output_type": "stream",
     "text": [
      "train-epoch: 55: 100%|██████████| 240/240 [00:10<00:00, 21.94it/s, loss=0.441]  \n",
      "val-epoch: 55: 100%|██████████| 60/60 [00:02<00:00, 27.33it/s, loss=1.06]  \n"
     ]
    },
    {
     "name": "stdout",
     "output_type": "stream",
     "text": [
      "\u001b[0;31;40mepoch: 55\u001b[0m \u001b[0;32;40mtrain_accuracy = 0.9479166865348816\u001b[0m \u001b[0;34;40mval_accuracy = 0.5\u001b[0m\n"
     ]
    },
    {
     "name": "stderr",
     "output_type": "stream",
     "text": [
      "train-epoch: 56: 100%|██████████| 240/240 [00:10<00:00, 21.94it/s, loss=0.453]  \n",
      "val-epoch: 56: 100%|██████████| 60/60 [00:02<00:00, 24.92it/s, loss=0.478]\n"
     ]
    },
    {
     "name": "stdout",
     "output_type": "stream",
     "text": [
      "\u001b[0;31;40mepoch: 56\u001b[0m \u001b[0;32;40mtrain_accuracy = 0.9395833611488342\u001b[0m \u001b[0;34;40mval_accuracy = 0.46666669845581055\u001b[0m\n"
     ]
    },
    {
     "name": "stderr",
     "output_type": "stream",
     "text": [
      "train-epoch: 57: 100%|██████████| 240/240 [00:10<00:00, 22.01it/s, loss=0.0734] \n",
      "val-epoch: 57: 100%|██████████| 60/60 [00:02<00:00, 26.09it/s, loss=0.708] \n"
     ]
    },
    {
     "name": "stdout",
     "output_type": "stream",
     "text": [
      "\u001b[0;31;40mepoch: 57\u001b[0m \u001b[0;32;40mtrain_accuracy = 0.9437500238418579\u001b[0m \u001b[0;34;40mval_accuracy = 0.4583333432674408\u001b[0m\n"
     ]
    },
    {
     "name": "stderr",
     "output_type": "stream",
     "text": [
      "train-epoch: 58: 100%|██████████| 240/240 [00:10<00:00, 22.03it/s, loss=0.0267] \n",
      "val-epoch: 58: 100%|██████████| 60/60 [00:02<00:00, 26.19it/s, loss=0.341]\n"
     ]
    },
    {
     "name": "stdout",
     "output_type": "stream",
     "text": [
      "\u001b[0;31;40mepoch: 58\u001b[0m \u001b[0;32;40mtrain_accuracy = 0.95208340883255\u001b[0m \u001b[0;34;40mval_accuracy = 0.5166667103767395\u001b[0m\n"
     ]
    },
    {
     "name": "stderr",
     "output_type": "stream",
     "text": [
      "train-epoch: 59: 100%|██████████| 240/240 [00:10<00:00, 21.96it/s, loss=0.188]  \n",
      "val-epoch: 59: 100%|██████████| 60/60 [00:02<00:00, 27.73it/s, loss=0.793] \n"
     ]
    },
    {
     "name": "stdout",
     "output_type": "stream",
     "text": [
      "\u001b[0;31;40mepoch: 59\u001b[0m \u001b[0;32;40mtrain_accuracy = 0.9687500596046448\u001b[0m \u001b[0;34;40mval_accuracy = 0.5166667103767395\u001b[0m\n"
     ]
    },
    {
     "name": "stderr",
     "output_type": "stream",
     "text": [
      "train-epoch: 60: 100%|██████████| 240/240 [00:11<00:00, 21.81it/s, loss=0.574]  \n",
      "val-epoch: 60: 100%|██████████| 60/60 [00:02<00:00, 24.58it/s, loss=0.466] \n"
     ]
    },
    {
     "name": "stdout",
     "output_type": "stream",
     "text": [
      "\u001b[0;31;40mepoch: 60\u001b[0m \u001b[0;32;40mtrain_accuracy = 0.9666666984558105\u001b[0m \u001b[0;34;40mval_accuracy = 0.550000011920929\u001b[0m\n"
     ]
    },
    {
     "name": "stderr",
     "output_type": "stream",
     "text": [
      "train-epoch: 61: 100%|██████████| 240/240 [00:10<00:00, 22.22it/s, loss=0.0413] \n",
      "val-epoch: 61: 100%|██████████| 60/60 [00:02<00:00, 25.01it/s, loss=0.132] \n"
     ]
    },
    {
     "name": "stdout",
     "output_type": "stream",
     "text": [
      "\u001b[0;31;40mepoch: 61\u001b[0m \u001b[0;32;40mtrain_accuracy = 0.9604167342185974\u001b[0m \u001b[0;34;40mval_accuracy = 0.5333333611488342\u001b[0m\n"
     ]
    },
    {
     "name": "stderr",
     "output_type": "stream",
     "text": [
      "train-epoch: 62: 100%|██████████| 240/240 [00:10<00:00, 21.82it/s, loss=0.199]  \n",
      "val-epoch: 62: 100%|██████████| 60/60 [00:02<00:00, 26.22it/s, loss=0.715] \n"
     ]
    },
    {
     "name": "stdout",
     "output_type": "stream",
     "text": [
      "\u001b[0;31;40mepoch: 62\u001b[0m \u001b[0;32;40mtrain_accuracy = 0.9666666984558105\u001b[0m \u001b[0;34;40mval_accuracy = 0.5250000357627869\u001b[0m\n"
     ]
    },
    {
     "name": "stderr",
     "output_type": "stream",
     "text": [
      "train-epoch: 63: 100%|██████████| 240/240 [00:10<00:00, 21.86it/s, loss=0.0308] \n",
      "val-epoch: 63: 100%|██████████| 60/60 [00:02<00:00, 26.12it/s, loss=0.906] \n"
     ]
    },
    {
     "name": "stdout",
     "output_type": "stream",
     "text": [
      "\u001b[0;31;40mepoch: 63\u001b[0m \u001b[0;32;40mtrain_accuracy = 0.9604167342185974\u001b[0m \u001b[0;34;40mval_accuracy = 0.5333333611488342\u001b[0m\n"
     ]
    },
    {
     "name": "stderr",
     "output_type": "stream",
     "text": [
      "train-epoch: 64: 100%|██████████| 240/240 [00:10<00:00, 22.06it/s, loss=0.0451] \n",
      "val-epoch: 64: 100%|██████████| 60/60 [00:02<00:00, 24.63it/s, loss=1.27]  \n"
     ]
    },
    {
     "name": "stdout",
     "output_type": "stream",
     "text": [
      "\u001b[0;31;40mepoch: 64\u001b[0m \u001b[0;32;40mtrain_accuracy = 0.9729167222976685\u001b[0m \u001b[0;34;40mval_accuracy = 0.5166667103767395\u001b[0m\n"
     ]
    },
    {
     "name": "stderr",
     "output_type": "stream",
     "text": [
      "train-epoch: 65: 100%|██████████| 240/240 [00:11<00:00, 21.73it/s, loss=0.143]  \n",
      "val-epoch: 65: 100%|██████████| 60/60 [00:02<00:00, 27.48it/s, loss=0.517]\n"
     ]
    },
    {
     "name": "stdout",
     "output_type": "stream",
     "text": [
      "\u001b[0;31;40mepoch: 65\u001b[0m \u001b[0;32;40mtrain_accuracy = 0.9541667103767395\u001b[0m \u001b[0;34;40mval_accuracy = 0.5083333849906921\u001b[0m\n"
     ]
    },
    {
     "name": "stderr",
     "output_type": "stream",
     "text": [
      "train-epoch: 66: 100%|██████████| 240/240 [00:10<00:00, 22.17it/s, loss=0.195]  \n",
      "val-epoch: 66: 100%|██████████| 60/60 [00:02<00:00, 27.30it/s, loss=0.791] \n"
     ]
    },
    {
     "name": "stdout",
     "output_type": "stream",
     "text": [
      "\u001b[0;31;40mepoch: 66\u001b[0m \u001b[0;32;40mtrain_accuracy = 0.9645833969116211\u001b[0m \u001b[0;34;40mval_accuracy = 0.5416666865348816\u001b[0m\n"
     ]
    },
    {
     "name": "stderr",
     "output_type": "stream",
     "text": [
      "train-epoch: 67: 100%|██████████| 240/240 [00:10<00:00, 21.95it/s, loss=0.173]  \n",
      "val-epoch: 67: 100%|██████████| 60/60 [00:02<00:00, 27.58it/s, loss=1.57]  \n"
     ]
    },
    {
     "name": "stdout",
     "output_type": "stream",
     "text": [
      "\u001b[0;31;40mepoch: 67\u001b[0m \u001b[0;32;40mtrain_accuracy = 0.9687500596046448\u001b[0m \u001b[0;34;40mval_accuracy = 0.5250000357627869\u001b[0m\n"
     ]
    },
    {
     "name": "stderr",
     "output_type": "stream",
     "text": [
      "train-epoch: 68: 100%|██████████| 240/240 [00:10<00:00, 22.09it/s, loss=0.0365] \n",
      "val-epoch: 68: 100%|██████████| 60/60 [00:02<00:00, 24.94it/s, loss=1.03] \n"
     ]
    },
    {
     "name": "stdout",
     "output_type": "stream",
     "text": [
      "\u001b[0;31;40mepoch: 68\u001b[0m \u001b[0;32;40mtrain_accuracy = 0.9750000238418579\u001b[0m \u001b[0;34;40mval_accuracy = 0.4833333492279053\u001b[0m\n"
     ]
    },
    {
     "name": "stderr",
     "output_type": "stream",
     "text": [
      "train-epoch: 69: 100%|██████████| 240/240 [00:10<00:00, 21.94it/s, loss=0.0143] \n",
      "val-epoch: 69: 100%|██████████| 60/60 [00:02<00:00, 24.81it/s, loss=1.16]  \n"
     ]
    },
    {
     "name": "stdout",
     "output_type": "stream",
     "text": [
      "\u001b[0;31;40mepoch: 69\u001b[0m \u001b[0;32;40mtrain_accuracy = 0.98333340883255\u001b[0m \u001b[0;34;40mval_accuracy = 0.5416666865348816\u001b[0m\n"
     ]
    },
    {
     "name": "stderr",
     "output_type": "stream",
     "text": [
      "train-epoch: 70: 100%|██████████| 240/240 [00:10<00:00, 22.30it/s, loss=0.0151] \n",
      "val-epoch: 70: 100%|██████████| 60/60 [00:02<00:00, 26.48it/s, loss=0.414]\n"
     ]
    },
    {
     "name": "stdout",
     "output_type": "stream",
     "text": [
      "\u001b[0;31;40mepoch: 70\u001b[0m \u001b[0;32;40mtrain_accuracy = 0.98333340883255\u001b[0m \u001b[0;34;40mval_accuracy = 0.5750000476837158\u001b[0m\n"
     ]
    },
    {
     "name": "stderr",
     "output_type": "stream",
     "text": [
      "train-epoch: 71: 100%|██████████| 240/240 [00:10<00:00, 21.89it/s, loss=0.053]  \n",
      "val-epoch: 71: 100%|██████████| 60/60 [00:02<00:00, 26.59it/s, loss=0.705] \n"
     ]
    },
    {
     "name": "stdout",
     "output_type": "stream",
     "text": [
      "\u001b[0;31;40mepoch: 71\u001b[0m \u001b[0;32;40mtrain_accuracy = 0.9791667461395264\u001b[0m \u001b[0;34;40mval_accuracy = 0.5250000357627869\u001b[0m\n"
     ]
    },
    {
     "name": "stderr",
     "output_type": "stream",
     "text": [
      "train-epoch: 72: 100%|██████████| 240/240 [00:11<00:00, 21.65it/s, loss=0.00388]\n",
      "val-epoch: 72: 100%|██████████| 60/60 [00:02<00:00, 26.50it/s, loss=0.83]  \n"
     ]
    },
    {
     "name": "stdout",
     "output_type": "stream",
     "text": [
      "\u001b[0;31;40mepoch: 72\u001b[0m \u001b[0;32;40mtrain_accuracy = 0.98333340883255\u001b[0m \u001b[0;34;40mval_accuracy = 0.5750000476837158\u001b[0m\n"
     ]
    },
    {
     "name": "stderr",
     "output_type": "stream",
     "text": [
      "train-epoch: 73: 100%|██████████| 240/240 [00:11<00:00, 21.67it/s, loss=0.0137] \n",
      "val-epoch: 73: 100%|██████████| 60/60 [00:02<00:00, 24.54it/s, loss=0.964] \n"
     ]
    },
    {
     "name": "stdout",
     "output_type": "stream",
     "text": [
      "\u001b[0;31;40mepoch: 73\u001b[0m \u001b[0;32;40mtrain_accuracy = 0.9770833849906921\u001b[0m \u001b[0;34;40mval_accuracy = 0.491666704416275\u001b[0m\n"
     ]
    },
    {
     "name": "stderr",
     "output_type": "stream",
     "text": [
      "train-epoch: 74: 100%|██████████| 240/240 [00:10<00:00, 21.95it/s, loss=0.09]   \n",
      "val-epoch: 74: 100%|██████████| 60/60 [00:02<00:00, 26.10it/s, loss=1.08] \n"
     ]
    },
    {
     "name": "stdout",
     "output_type": "stream",
     "text": [
      "\u001b[0;31;40mepoch: 74\u001b[0m \u001b[0;32;40mtrain_accuracy = 0.98333340883255\u001b[0m \u001b[0;34;40mval_accuracy = 0.4833333492279053\u001b[0m\n"
     ]
    },
    {
     "name": "stderr",
     "output_type": "stream",
     "text": [
      "train-epoch: 75: 100%|██████████| 240/240 [00:10<00:00, 21.88it/s, loss=0.0109]  \n",
      "val-epoch: 75: 100%|██████████| 60/60 [00:02<00:00, 24.45it/s, loss=0.637]\n"
     ]
    },
    {
     "name": "stdout",
     "output_type": "stream",
     "text": [
      "\u001b[0;31;40mepoch: 75\u001b[0m \u001b[0;32;40mtrain_accuracy = 0.9791667461395264\u001b[0m \u001b[0;34;40mval_accuracy = 0.4833333492279053\u001b[0m\n"
     ]
    },
    {
     "name": "stderr",
     "output_type": "stream",
     "text": [
      "train-epoch: 76: 100%|██████████| 240/240 [00:10<00:00, 22.37it/s, loss=0.131]  \n",
      "val-epoch: 76: 100%|██████████| 60/60 [00:02<00:00, 24.27it/s, loss=1.68]  \n"
     ]
    },
    {
     "name": "stdout",
     "output_type": "stream",
     "text": [
      "\u001b[0;31;40mepoch: 76\u001b[0m \u001b[0;32;40mtrain_accuracy = 0.9729167222976685\u001b[0m \u001b[0;34;40mval_accuracy = 0.5166667103767395\u001b[0m\n"
     ]
    },
    {
     "name": "stderr",
     "output_type": "stream",
     "text": [
      "train-epoch: 77: 100%|██████████| 240/240 [00:10<00:00, 22.47it/s, loss=0.0464] \n",
      "val-epoch: 77: 100%|██████████| 60/60 [00:02<00:00, 24.82it/s, loss=1.51]  \n"
     ]
    },
    {
     "name": "stdout",
     "output_type": "stream",
     "text": [
      "\u001b[0;31;40mepoch: 77\u001b[0m \u001b[0;32;40mtrain_accuracy = 0.9791667461395264\u001b[0m \u001b[0;34;40mval_accuracy = 0.5333333611488342\u001b[0m\n"
     ]
    },
    {
     "name": "stderr",
     "output_type": "stream",
     "text": [
      "train-epoch: 78: 100%|██████████| 240/240 [00:04<00:00, 52.99it/s, loss=0.00801] \n",
      "val-epoch: 78: 100%|██████████| 60/60 [00:02<00:00, 25.09it/s, loss=0.649] \n"
     ]
    },
    {
     "name": "stdout",
     "output_type": "stream",
     "text": [
      "\u001b[0;31;40mepoch: 78\u001b[0m \u001b[0;32;40mtrain_accuracy = 0.9875000715255737\u001b[0m \u001b[0;34;40mval_accuracy = 0.5250000357627869\u001b[0m\n"
     ]
    },
    {
     "name": "stderr",
     "output_type": "stream",
     "text": [
      "train-epoch: 79: 100%|██████████| 240/240 [00:10<00:00, 22.14it/s, loss=0.0795] \n",
      "val-epoch: 79: 100%|██████████| 60/60 [00:02<00:00, 26.71it/s, loss=1.23]  \n"
     ]
    },
    {
     "name": "stdout",
     "output_type": "stream",
     "text": [
      "\u001b[0;31;40mepoch: 79\u001b[0m \u001b[0;32;40mtrain_accuracy = 0.9854167103767395\u001b[0m \u001b[0;34;40mval_accuracy = 0.5250000357627869\u001b[0m\n"
     ]
    },
    {
     "name": "stderr",
     "output_type": "stream",
     "text": [
      "train-epoch: 80: 100%|██████████| 240/240 [00:10<00:00, 22.16it/s, loss=0.165]  \n",
      "val-epoch: 80: 100%|██████████| 60/60 [00:02<00:00, 26.15it/s, loss=1.63]  \n"
     ]
    },
    {
     "name": "stdout",
     "output_type": "stream",
     "text": [
      "\u001b[0;31;40mepoch: 80\u001b[0m \u001b[0;32;40mtrain_accuracy = 0.9854167103767395\u001b[0m \u001b[0;34;40mval_accuracy = 0.491666704416275\u001b[0m\n"
     ]
    },
    {
     "name": "stderr",
     "output_type": "stream",
     "text": [
      "train-epoch: 81: 100%|██████████| 240/240 [00:11<00:00, 21.56it/s, loss=0.0117] \n",
      "val-epoch: 81: 100%|██████████| 60/60 [00:01<00:00, 30.68it/s, loss=1.5]   \n"
     ]
    },
    {
     "name": "stdout",
     "output_type": "stream",
     "text": [
      "\u001b[0;31;40mepoch: 81\u001b[0m \u001b[0;32;40mtrain_accuracy = 0.9812500476837158\u001b[0m \u001b[0;34;40mval_accuracy = 0.5333333611488342\u001b[0m\n"
     ]
    },
    {
     "name": "stderr",
     "output_type": "stream",
     "text": [
      "train-epoch: 82: 100%|██████████| 240/240 [00:11<00:00, 21.80it/s, loss=0.057]  \n",
      "val-epoch: 82: 100%|██████████| 60/60 [00:02<00:00, 26.29it/s, loss=1.05]  \n"
     ]
    },
    {
     "name": "stdout",
     "output_type": "stream",
     "text": [
      "\u001b[0;31;40mepoch: 82\u001b[0m \u001b[0;32;40mtrain_accuracy = 0.9812500476837158\u001b[0m \u001b[0;34;40mval_accuracy = 0.5833333730697632\u001b[0m\n"
     ]
    },
    {
     "name": "stderr",
     "output_type": "stream",
     "text": [
      "train-epoch: 83: 100%|██████████| 240/240 [00:11<00:00, 21.49it/s, loss=0.0109] \n",
      "val-epoch: 83: 100%|██████████| 60/60 [00:02<00:00, 26.83it/s, loss=1.28] \n"
     ]
    },
    {
     "name": "stdout",
     "output_type": "stream",
     "text": [
      "\u001b[0;31;40mepoch: 83\u001b[0m \u001b[0;32;40mtrain_accuracy = 0.98333340883255\u001b[0m \u001b[0;34;40mval_accuracy = 0.5416666865348816\u001b[0m\n"
     ]
    },
    {
     "name": "stderr",
     "output_type": "stream",
     "text": [
      "train-epoch: 84: 100%|██████████| 240/240 [00:11<00:00, 21.61it/s, loss=0.13]   \n",
      "val-epoch: 84: 100%|██████████| 60/60 [00:02<00:00, 26.44it/s, loss=1.36]  \n"
     ]
    },
    {
     "name": "stdout",
     "output_type": "stream",
     "text": [
      "\u001b[0;31;40mepoch: 84\u001b[0m \u001b[0;32;40mtrain_accuracy = 0.9812500476837158\u001b[0m \u001b[0;34;40mval_accuracy = 0.5416666865348816\u001b[0m\n"
     ]
    },
    {
     "name": "stderr",
     "output_type": "stream",
     "text": [
      "train-epoch: 85: 100%|██████████| 240/240 [00:10<00:00, 21.96it/s, loss=0.114]  \n",
      "val-epoch: 85: 100%|██████████| 60/60 [00:02<00:00, 23.91it/s, loss=1.31]  \n"
     ]
    },
    {
     "name": "stdout",
     "output_type": "stream",
     "text": [
      "\u001b[0;31;40mepoch: 85\u001b[0m \u001b[0;32;40mtrain_accuracy = 0.9812500476837158\u001b[0m \u001b[0;34;40mval_accuracy = 0.5166667103767395\u001b[0m\n"
     ]
    },
    {
     "name": "stderr",
     "output_type": "stream",
     "text": [
      "train-epoch: 86: 100%|██████████| 240/240 [00:10<00:00, 22.13it/s, loss=0.117]  \n",
      "val-epoch: 86: 100%|██████████| 60/60 [00:02<00:00, 26.33it/s, loss=1.84]  \n"
     ]
    },
    {
     "name": "stdout",
     "output_type": "stream",
     "text": [
      "\u001b[0;31;40mepoch: 86\u001b[0m \u001b[0;32;40mtrain_accuracy = 0.9791667461395264\u001b[0m \u001b[0;34;40mval_accuracy = 0.550000011920929\u001b[0m\n"
     ]
    },
    {
     "name": "stderr",
     "output_type": "stream",
     "text": [
      "train-epoch: 87: 100%|██████████| 240/240 [00:10<00:00, 22.29it/s, loss=0.109]  \n",
      "val-epoch: 87: 100%|██████████| 60/60 [00:02<00:00, 26.01it/s, loss=2.21]  \n"
     ]
    },
    {
     "name": "stdout",
     "output_type": "stream",
     "text": [
      "\u001b[0;31;40mepoch: 87\u001b[0m \u001b[0;32;40mtrain_accuracy = 0.9854167103767395\u001b[0m \u001b[0;34;40mval_accuracy = 0.5416666865348816\u001b[0m\n"
     ]
    },
    {
     "name": "stderr",
     "output_type": "stream",
     "text": [
      "train-epoch: 88: 100%|██████████| 240/240 [00:10<00:00, 22.37it/s, loss=0.0443] \n",
      "val-epoch: 88: 100%|██████████| 60/60 [00:02<00:00, 26.47it/s, loss=1.05]  \n"
     ]
    },
    {
     "name": "stdout",
     "output_type": "stream",
     "text": [
      "\u001b[0;31;40mepoch: 88\u001b[0m \u001b[0;32;40mtrain_accuracy = 0.9791667461395264\u001b[0m \u001b[0;34;40mval_accuracy = 0.5333333611488342\u001b[0m\n"
     ]
    },
    {
     "name": "stderr",
     "output_type": "stream",
     "text": [
      "train-epoch: 89: 100%|██████████| 240/240 [00:10<00:00, 22.10it/s, loss=0.0108] \n",
      "val-epoch: 89: 100%|██████████| 60/60 [00:02<00:00, 25.03it/s, loss=1.35]  \n"
     ]
    },
    {
     "name": "stdout",
     "output_type": "stream",
     "text": [
      "\u001b[0;31;40mepoch: 89\u001b[0m \u001b[0;32;40mtrain_accuracy = 0.9916667342185974\u001b[0m \u001b[0;34;40mval_accuracy = 0.5416666865348816\u001b[0m\n"
     ]
    },
    {
     "name": "stderr",
     "output_type": "stream",
     "text": [
      "train-epoch: 90: 100%|██████████| 240/240 [00:10<00:00, 22.13it/s, loss=0.0163] \n",
      "val-epoch: 90: 100%|██████████| 60/60 [00:02<00:00, 27.13it/s, loss=1.44]  \n"
     ]
    },
    {
     "name": "stdout",
     "output_type": "stream",
     "text": [
      "\u001b[0;31;40mepoch: 90\u001b[0m \u001b[0;32;40mtrain_accuracy = 0.9875000715255737\u001b[0m \u001b[0;34;40mval_accuracy = 0.5750000476837158\u001b[0m\n"
     ]
    },
    {
     "name": "stderr",
     "output_type": "stream",
     "text": [
      "train-epoch: 91: 100%|██████████| 240/240 [00:09<00:00, 24.83it/s, loss=0.0159] \n",
      "val-epoch: 91: 100%|██████████| 60/60 [00:00<00:00, 300.00it/s, loss=1.24]  \n"
     ]
    },
    {
     "name": "stdout",
     "output_type": "stream",
     "text": [
      "\u001b[0;31;40mepoch: 91\u001b[0m \u001b[0;32;40mtrain_accuracy = 0.9812500476837158\u001b[0m \u001b[0;34;40mval_accuracy = 0.5583333373069763\u001b[0m\n"
     ]
    },
    {
     "name": "stderr",
     "output_type": "stream",
     "text": [
      "train-epoch: 92: 100%|██████████| 240/240 [00:01<00:00, 187.13it/s, loss=0.101]  \n",
      "val-epoch: 92: 100%|██████████| 60/60 [00:00<00:00, 299.11it/s, loss=1.37]  \n"
     ]
    },
    {
     "name": "stdout",
     "output_type": "stream",
     "text": [
      "\u001b[0;31;40mepoch: 92\u001b[0m \u001b[0;32;40mtrain_accuracy = 0.98333340883255\u001b[0m \u001b[0;34;40mval_accuracy = 0.5750000476837158\u001b[0m\n"
     ]
    },
    {
     "name": "stderr",
     "output_type": "stream",
     "text": [
      "train-epoch: 93: 100%|██████████| 240/240 [00:01<00:00, 182.43it/s, loss=0.112]  \n",
      "val-epoch: 93: 100%|██████████| 60/60 [00:00<00:00, 201.34it/s, loss=1.3]   \n"
     ]
    },
    {
     "name": "stdout",
     "output_type": "stream",
     "text": [
      "\u001b[0;31;40mepoch: 93\u001b[0m \u001b[0;32;40mtrain_accuracy = 0.98333340883255\u001b[0m \u001b[0;34;40mval_accuracy = 0.5666667222976685\u001b[0m\n"
     ]
    },
    {
     "name": "stderr",
     "output_type": "stream",
     "text": [
      "train-epoch: 94: 100%|██████████| 240/240 [00:01<00:00, 169.95it/s, loss=0.0323] \n",
      "val-epoch: 94: 100%|██████████| 60/60 [00:00<00:00, 233.46it/s, loss=1.72]  \n"
     ]
    },
    {
     "name": "stdout",
     "output_type": "stream",
     "text": [
      "\u001b[0;31;40mepoch: 94\u001b[0m \u001b[0;32;40mtrain_accuracy = 0.9916667342185974\u001b[0m \u001b[0;34;40mval_accuracy = 0.5583333373069763\u001b[0m\n"
     ]
    },
    {
     "name": "stderr",
     "output_type": "stream",
     "text": [
      "train-epoch: 95: 100%|██████████| 240/240 [00:01<00:00, 151.17it/s, loss=0.0865] \n",
      "val-epoch: 95: 100%|██████████| 60/60 [00:00<00:00, 190.64it/s, loss=1.94]  \n"
     ]
    },
    {
     "name": "stdout",
     "output_type": "stream",
     "text": [
      "\u001b[0;31;40mepoch: 95\u001b[0m \u001b[0;32;40mtrain_accuracy = 0.9812500476837158\u001b[0m \u001b[0;34;40mval_accuracy = 0.550000011920929\u001b[0m\n"
     ]
    },
    {
     "name": "stderr",
     "output_type": "stream",
     "text": [
      "train-epoch: 96: 100%|██████████| 240/240 [00:01<00:00, 151.75it/s, loss=0.089]  \n",
      "val-epoch: 96: 100%|██████████| 60/60 [00:00<00:00, 235.71it/s, loss=1.97]  \n"
     ]
    },
    {
     "name": "stdout",
     "output_type": "stream",
     "text": [
      "\u001b[0;31;40mepoch: 96\u001b[0m \u001b[0;32;40mtrain_accuracy = 0.9895833730697632\u001b[0m \u001b[0;34;40mval_accuracy = 0.550000011920929\u001b[0m\n"
     ]
    },
    {
     "name": "stderr",
     "output_type": "stream",
     "text": [
      "train-epoch: 97: 100%|██████████| 240/240 [00:01<00:00, 149.95it/s, loss=0.0206] \n",
      "val-epoch: 97: 100%|██████████| 60/60 [00:00<00:00, 241.94it/s, loss=1.41]  \n"
     ]
    },
    {
     "name": "stdout",
     "output_type": "stream",
     "text": [
      "\u001b[0;31;40mepoch: 97\u001b[0m \u001b[0;32;40mtrain_accuracy = 0.9875000715255737\u001b[0m \u001b[0;34;40mval_accuracy = 0.5250000357627869\u001b[0m\n"
     ]
    },
    {
     "name": "stderr",
     "output_type": "stream",
     "text": [
      "train-epoch: 98: 100%|██████████| 240/240 [00:01<00:00, 162.67it/s, loss=0.0123] \n",
      "val-epoch: 98: 100%|██████████| 60/60 [00:00<00:00, 267.86it/s, loss=1.88]  \n"
     ]
    },
    {
     "name": "stdout",
     "output_type": "stream",
     "text": [
      "\u001b[0;31;40mepoch: 98\u001b[0m \u001b[0;32;40mtrain_accuracy = 0.9875000715255737\u001b[0m \u001b[0;34;40mval_accuracy = 0.550000011920929\u001b[0m\n"
     ]
    },
    {
     "name": "stderr",
     "output_type": "stream",
     "text": [
      "train-epoch: 99: 100%|██████████| 240/240 [00:01<00:00, 179.83it/s, loss=0.177]  \n",
      "val-epoch: 99: 100%|██████████| 60/60 [00:00<00:00, 297.67it/s, loss=1.52]  \n"
     ]
    },
    {
     "name": "stdout",
     "output_type": "stream",
     "text": [
      "\u001b[0;31;40mepoch: 99\u001b[0m \u001b[0;32;40mtrain_accuracy = 0.9812500476837158\u001b[0m \u001b[0;34;40mval_accuracy = 0.5416666865348816\u001b[0m\n"
     ]
    },
    {
     "name": "stderr",
     "output_type": "stream",
     "text": [
      "train-epoch: 100: 100%|██████████| 240/240 [00:01<00:00, 196.47it/s, loss=0.236]  \n",
      "val-epoch: 100: 100%|██████████| 60/60 [00:00<00:00, 322.58it/s, loss=1.43]  "
     ]
    },
    {
     "name": "stdout",
     "output_type": "stream",
     "text": [
      "\u001b[0;31;40mepoch: 100\u001b[0m \u001b[0;32;40mtrain_accuracy = 0.9854167103767395\u001b[0m \u001b[0;34;40mval_accuracy = 0.5416666865348816\u001b[0m\n"
     ]
    },
    {
     "name": "stderr",
     "output_type": "stream",
     "text": [
      "\n"
     ]
    }
   ],
   "source": [
    "train_accuracies = []\n",
    "train_lossess    = []\n",
    "val_accuracies   = []\n",
    "val_lossess      = []\n",
    "for epoch in range(1, epochs + 1):\n",
    "    net.train()\n",
    "    train_y_trues = []\n",
    "    train_y_preds = []\n",
    "    train_losses  = []\n",
    "    pbar = tqdm(total=len(train_dataloader), desc=f\"train-epoch: {epoch}\")\n",
    "    for batch in train_dataloader:\n",
    "        optimizer.zero_grad()\n",
    "        x, edge_index, batch, y = batch.x, batch.edge_index, batch.batch, batch.y\n",
    "        x, edge_index, batch, y = x.to(device), edge_index.to(device), batch.to(device), y.to(device)\n",
    "        y_pred = net(x, edge_index, batch)\n",
    "        loss: Tensor = loss_fn(y_pred, y)\n",
    "        loss.backward()\n",
    "        optimizer.step()\n",
    "\n",
    "        train_y_trues.append(y)\n",
    "        train_y_preds.append(y_pred.argmax(dim=-1))\n",
    "        train_losses.append(loss.item())\n",
    "        pbar.update(1)\n",
    "        pbar.set_postfix({\"loss\": loss.item()})\n",
    "    pbar.close()\n",
    "\n",
    "    lr_scheduler.step()\n",
    "\n",
    "    # 准确率\n",
    "    train_y_trues_ = torch.cat(train_y_trues)\n",
    "    train_y_preds_ = torch.cat(train_y_preds)\n",
    "    train_accuracy = (train_y_trues_ == train_y_preds_).float().sum().divide(len(train_y_trues_))\n",
    "    train_accuracies.append(train_accuracy.item())\n",
    "    train_lossess.append(torch.tensor(train_losses).mean().item())\n",
    "\n",
    "\n",
    "    net.eval()\n",
    "    val_y_trues = []\n",
    "    val_y_preds = []\n",
    "    val_losses  = []\n",
    "    pbar = tqdm(total=len(val_dataloader), desc=f\"val-epoch: {epoch}\")\n",
    "    for batch in val_dataloader:\n",
    "        x, edge_index, batch, y = batch.x, batch.edge_index, batch.batch, batch.y\n",
    "        x, edge_index, batch, y = x.to(device), edge_index.to(device), batch.to(device), y.to(device)\n",
    "        with torch.inference_mode():\n",
    "            y_pred = net(x, edge_index, batch)\n",
    "        loss: Tensor = loss_fn(y_pred, y)\n",
    "\n",
    "        val_y_trues.append(y)\n",
    "        val_y_preds.append(y_pred.argmax(dim=-1))\n",
    "        val_losses.append(loss.item())\n",
    "        pbar.update(1)\n",
    "        pbar.set_postfix({\"loss\": loss.item()})\n",
    "    pbar.close()\n",
    "\n",
    "    # 准确率\n",
    "    val_y_trues_ = torch.cat(val_y_trues)\n",
    "    val_y_preds_ = torch.cat(val_y_preds)\n",
    "    val_accuracy = (val_y_trues_ == val_y_preds_).float().sum().divide(len(val_y_trues_))\n",
    "    val_accuracies.append(val_accuracy.item())\n",
    "    val_lossess.append(torch.tensor(val_losses).mean().item())\n",
    "\n",
    "    print(f\"\\033[0;31;40mepoch: {epoch}\\033[0m \" +\n",
    "        f\"\\033[0;32;40mtrain_accuracy = {train_accuracy.item()}\\033[0m \" +\n",
    "        f\"\\033[0;34;40mval_accuracy = {val_accuracy.item()}\\033[0m\")"
   ]
  },
  {
   "cell_type": "code",
   "execution_count": 30,
   "metadata": {},
   "outputs": [
    {
     "name": "stdout",
     "output_type": "stream",
     "text": [
      "0.9916667342185974 0.5833333730697632\n"
     ]
    }
   ],
   "source": [
    "print(max(train_accuracies), max(val_accuracies))\n",
    "# 0.9867549538612366 0.8378378748893738"
   ]
  },
  {
   "cell_type": "code",
   "execution_count": 31,
   "metadata": {},
   "outputs": [
    {
     "data": {
      "application/vnd.plotly.v1+json": {
       "config": {
        "plotlyServerURL": "https://plot.ly"
       },
       "data": [
        {
         "mode": "lines+markers",
         "name": "train",
         "type": "scatter",
         "y": [
          0.1979166716337204,
          0.2958333492279053,
          0.30416667461395264,
          0.37291669845581055,
          0.3708333671092987,
          0.42916667461395264,
          0.4208333492279053,
          0.4583333432674408,
          0.4541666805744171,
          0.48125001788139343,
          0.5166667103767395,
          0.5145833492279053,
          0.5604166984558105,
          0.5687500238418579,
          0.5833333730697632,
          0.6395833492279053,
          0.6458333730697632,
          0.6625000238418579,
          0.6354166865348816,
          0.6812500357627869,
          0.6895833611488342,
          0.6979166865348816,
          0.7083333730697632,
          0.7458333969116211,
          0.7541667222976685,
          0.8083333969116211,
          0.7854167222976685,
          0.8041667342185974,
          0.8166667222976685,
          0.7979167103767395,
          0.8083333969116211,
          0.7979167103767395,
          0.8750000596046448,
          0.8458333611488342,
          0.8604167103767395,
          0.8437500596046448,
          0.9020833969116211,
          0.8583333492279053,
          0.8791667222976685,
          0.9125000238418579,
          0.88958340883255,
          0.9083333611488342,
          0.9229167103767395,
          0.9145833849906921,
          0.9354166984558105,
          0.9104167222976685,
          0.9395833611488342,
          0.9291667342185974,
          0.9270833730697632,
          0.9354166984558105,
          0.9291667342185974,
          0.9479166865348816,
          0.9333333969116211,
          0.9541667103767395,
          0.9479166865348816,
          0.9395833611488342,
          0.9437500238418579,
          0.95208340883255,
          0.9687500596046448,
          0.9666666984558105,
          0.9604167342185974,
          0.9666666984558105,
          0.9604167342185974,
          0.9729167222976685,
          0.9541667103767395,
          0.9645833969116211,
          0.9687500596046448,
          0.9750000238418579,
          0.98333340883255,
          0.98333340883255,
          0.9791667461395264,
          0.98333340883255,
          0.9770833849906921,
          0.98333340883255,
          0.9791667461395264,
          0.9729167222976685,
          0.9791667461395264,
          0.9875000715255737,
          0.9854167103767395,
          0.9854167103767395,
          0.9812500476837158,
          0.9812500476837158,
          0.98333340883255,
          0.9812500476837158,
          0.9812500476837158,
          0.9791667461395264,
          0.9854167103767395,
          0.9791667461395264,
          0.9916667342185974,
          0.9875000715255737,
          0.9812500476837158,
          0.98333340883255,
          0.98333340883255,
          0.9916667342185974,
          0.9812500476837158,
          0.9895833730697632,
          0.9875000715255737,
          0.9875000715255737,
          0.9812500476837158,
          0.9854167103767395
         ]
        },
        {
         "mode": "lines+markers",
         "name": "val",
         "type": "scatter",
         "y": [
          0.24166667461395264,
          0.20000001788139343,
          0.24166667461395264,
          0.31666669249534607,
          0.23333334922790527,
          0.2750000059604645,
          0.25,
          0.22500000894069672,
          0.40000003576278687,
          0.40833336114883423,
          0.3333333432674408,
          0.2666666805744171,
          0.4166666865348816,
          0.3750000298023224,
          0.3750000298023224,
          0.2750000059604645,
          0.30000001192092896,
          0.24166667461395264,
          0.36666667461395264,
          0.20000001788139343,
          0.44166669249534607,
          0.42500001192092896,
          0.3500000238418579,
          0.3750000298023224,
          0.3333333432674408,
          0.38333335518836975,
          0.32500001788139343,
          0.491666704416275,
          0.46666669845581055,
          0.46666669845581055,
          0.45000001788139343,
          0.42500001192092896,
          0.40000003576278687,
          0.46666669845581055,
          0.550000011920929,
          0.4833333492279053,
          0.45000001788139343,
          0.42500001192092896,
          0.4583333432674408,
          0.5166667103767395,
          0.4750000238418579,
          0.38333335518836975,
          0.40833336114883423,
          0.42500001192092896,
          0.4833333492279053,
          0.3916666805744171,
          0.5666667222976685,
          0.5250000357627869,
          0.5,
          0.5333333611488342,
          0.5166667103767395,
          0.45000001788139343,
          0.5,
          0.4750000238418579,
          0.5,
          0.46666669845581055,
          0.4583333432674408,
          0.5166667103767395,
          0.5166667103767395,
          0.550000011920929,
          0.5333333611488342,
          0.5250000357627869,
          0.5333333611488342,
          0.5166667103767395,
          0.5083333849906921,
          0.5416666865348816,
          0.5250000357627869,
          0.4833333492279053,
          0.5416666865348816,
          0.5750000476837158,
          0.5250000357627869,
          0.5750000476837158,
          0.491666704416275,
          0.4833333492279053,
          0.4833333492279053,
          0.5166667103767395,
          0.5333333611488342,
          0.5250000357627869,
          0.5250000357627869,
          0.491666704416275,
          0.5333333611488342,
          0.5833333730697632,
          0.5416666865348816,
          0.5416666865348816,
          0.5166667103767395,
          0.550000011920929,
          0.5416666865348816,
          0.5333333611488342,
          0.5416666865348816,
          0.5750000476837158,
          0.5583333373069763,
          0.5750000476837158,
          0.5666667222976685,
          0.5583333373069763,
          0.550000011920929,
          0.550000011920929,
          0.5250000357627869,
          0.550000011920929,
          0.5416666865348816,
          0.5416666865348816
         ]
        }
       ],
       "layout": {
        "template": {
         "data": {
          "bar": [
           {
            "error_x": {
             "color": "#2a3f5f"
            },
            "error_y": {
             "color": "#2a3f5f"
            },
            "marker": {
             "line": {
              "color": "#E5ECF6",
              "width": 0.5
             },
             "pattern": {
              "fillmode": "overlay",
              "size": 10,
              "solidity": 0.2
             }
            },
            "type": "bar"
           }
          ],
          "barpolar": [
           {
            "marker": {
             "line": {
              "color": "#E5ECF6",
              "width": 0.5
             },
             "pattern": {
              "fillmode": "overlay",
              "size": 10,
              "solidity": 0.2
             }
            },
            "type": "barpolar"
           }
          ],
          "carpet": [
           {
            "aaxis": {
             "endlinecolor": "#2a3f5f",
             "gridcolor": "white",
             "linecolor": "white",
             "minorgridcolor": "white",
             "startlinecolor": "#2a3f5f"
            },
            "baxis": {
             "endlinecolor": "#2a3f5f",
             "gridcolor": "white",
             "linecolor": "white",
             "minorgridcolor": "white",
             "startlinecolor": "#2a3f5f"
            },
            "type": "carpet"
           }
          ],
          "choropleth": [
           {
            "colorbar": {
             "outlinewidth": 0,
             "ticks": ""
            },
            "type": "choropleth"
           }
          ],
          "contour": [
           {
            "colorbar": {
             "outlinewidth": 0,
             "ticks": ""
            },
            "colorscale": [
             [
              0,
              "#0d0887"
             ],
             [
              0.1111111111111111,
              "#46039f"
             ],
             [
              0.2222222222222222,
              "#7201a8"
             ],
             [
              0.3333333333333333,
              "#9c179e"
             ],
             [
              0.4444444444444444,
              "#bd3786"
             ],
             [
              0.5555555555555556,
              "#d8576b"
             ],
             [
              0.6666666666666666,
              "#ed7953"
             ],
             [
              0.7777777777777778,
              "#fb9f3a"
             ],
             [
              0.8888888888888888,
              "#fdca26"
             ],
             [
              1,
              "#f0f921"
             ]
            ],
            "type": "contour"
           }
          ],
          "contourcarpet": [
           {
            "colorbar": {
             "outlinewidth": 0,
             "ticks": ""
            },
            "type": "contourcarpet"
           }
          ],
          "heatmap": [
           {
            "colorbar": {
             "outlinewidth": 0,
             "ticks": ""
            },
            "colorscale": [
             [
              0,
              "#0d0887"
             ],
             [
              0.1111111111111111,
              "#46039f"
             ],
             [
              0.2222222222222222,
              "#7201a8"
             ],
             [
              0.3333333333333333,
              "#9c179e"
             ],
             [
              0.4444444444444444,
              "#bd3786"
             ],
             [
              0.5555555555555556,
              "#d8576b"
             ],
             [
              0.6666666666666666,
              "#ed7953"
             ],
             [
              0.7777777777777778,
              "#fb9f3a"
             ],
             [
              0.8888888888888888,
              "#fdca26"
             ],
             [
              1,
              "#f0f921"
             ]
            ],
            "type": "heatmap"
           }
          ],
          "heatmapgl": [
           {
            "colorbar": {
             "outlinewidth": 0,
             "ticks": ""
            },
            "colorscale": [
             [
              0,
              "#0d0887"
             ],
             [
              0.1111111111111111,
              "#46039f"
             ],
             [
              0.2222222222222222,
              "#7201a8"
             ],
             [
              0.3333333333333333,
              "#9c179e"
             ],
             [
              0.4444444444444444,
              "#bd3786"
             ],
             [
              0.5555555555555556,
              "#d8576b"
             ],
             [
              0.6666666666666666,
              "#ed7953"
             ],
             [
              0.7777777777777778,
              "#fb9f3a"
             ],
             [
              0.8888888888888888,
              "#fdca26"
             ],
             [
              1,
              "#f0f921"
             ]
            ],
            "type": "heatmapgl"
           }
          ],
          "histogram": [
           {
            "marker": {
             "pattern": {
              "fillmode": "overlay",
              "size": 10,
              "solidity": 0.2
             }
            },
            "type": "histogram"
           }
          ],
          "histogram2d": [
           {
            "colorbar": {
             "outlinewidth": 0,
             "ticks": ""
            },
            "colorscale": [
             [
              0,
              "#0d0887"
             ],
             [
              0.1111111111111111,
              "#46039f"
             ],
             [
              0.2222222222222222,
              "#7201a8"
             ],
             [
              0.3333333333333333,
              "#9c179e"
             ],
             [
              0.4444444444444444,
              "#bd3786"
             ],
             [
              0.5555555555555556,
              "#d8576b"
             ],
             [
              0.6666666666666666,
              "#ed7953"
             ],
             [
              0.7777777777777778,
              "#fb9f3a"
             ],
             [
              0.8888888888888888,
              "#fdca26"
             ],
             [
              1,
              "#f0f921"
             ]
            ],
            "type": "histogram2d"
           }
          ],
          "histogram2dcontour": [
           {
            "colorbar": {
             "outlinewidth": 0,
             "ticks": ""
            },
            "colorscale": [
             [
              0,
              "#0d0887"
             ],
             [
              0.1111111111111111,
              "#46039f"
             ],
             [
              0.2222222222222222,
              "#7201a8"
             ],
             [
              0.3333333333333333,
              "#9c179e"
             ],
             [
              0.4444444444444444,
              "#bd3786"
             ],
             [
              0.5555555555555556,
              "#d8576b"
             ],
             [
              0.6666666666666666,
              "#ed7953"
             ],
             [
              0.7777777777777778,
              "#fb9f3a"
             ],
             [
              0.8888888888888888,
              "#fdca26"
             ],
             [
              1,
              "#f0f921"
             ]
            ],
            "type": "histogram2dcontour"
           }
          ],
          "mesh3d": [
           {
            "colorbar": {
             "outlinewidth": 0,
             "ticks": ""
            },
            "type": "mesh3d"
           }
          ],
          "parcoords": [
           {
            "line": {
             "colorbar": {
              "outlinewidth": 0,
              "ticks": ""
             }
            },
            "type": "parcoords"
           }
          ],
          "pie": [
           {
            "automargin": true,
            "type": "pie"
           }
          ],
          "scatter": [
           {
            "fillpattern": {
             "fillmode": "overlay",
             "size": 10,
             "solidity": 0.2
            },
            "type": "scatter"
           }
          ],
          "scatter3d": [
           {
            "line": {
             "colorbar": {
              "outlinewidth": 0,
              "ticks": ""
             }
            },
            "marker": {
             "colorbar": {
              "outlinewidth": 0,
              "ticks": ""
             }
            },
            "type": "scatter3d"
           }
          ],
          "scattercarpet": [
           {
            "marker": {
             "colorbar": {
              "outlinewidth": 0,
              "ticks": ""
             }
            },
            "type": "scattercarpet"
           }
          ],
          "scattergeo": [
           {
            "marker": {
             "colorbar": {
              "outlinewidth": 0,
              "ticks": ""
             }
            },
            "type": "scattergeo"
           }
          ],
          "scattergl": [
           {
            "marker": {
             "colorbar": {
              "outlinewidth": 0,
              "ticks": ""
             }
            },
            "type": "scattergl"
           }
          ],
          "scattermapbox": [
           {
            "marker": {
             "colorbar": {
              "outlinewidth": 0,
              "ticks": ""
             }
            },
            "type": "scattermapbox"
           }
          ],
          "scatterpolar": [
           {
            "marker": {
             "colorbar": {
              "outlinewidth": 0,
              "ticks": ""
             }
            },
            "type": "scatterpolar"
           }
          ],
          "scatterpolargl": [
           {
            "marker": {
             "colorbar": {
              "outlinewidth": 0,
              "ticks": ""
             }
            },
            "type": "scatterpolargl"
           }
          ],
          "scatterternary": [
           {
            "marker": {
             "colorbar": {
              "outlinewidth": 0,
              "ticks": ""
             }
            },
            "type": "scatterternary"
           }
          ],
          "surface": [
           {
            "colorbar": {
             "outlinewidth": 0,
             "ticks": ""
            },
            "colorscale": [
             [
              0,
              "#0d0887"
             ],
             [
              0.1111111111111111,
              "#46039f"
             ],
             [
              0.2222222222222222,
              "#7201a8"
             ],
             [
              0.3333333333333333,
              "#9c179e"
             ],
             [
              0.4444444444444444,
              "#bd3786"
             ],
             [
              0.5555555555555556,
              "#d8576b"
             ],
             [
              0.6666666666666666,
              "#ed7953"
             ],
             [
              0.7777777777777778,
              "#fb9f3a"
             ],
             [
              0.8888888888888888,
              "#fdca26"
             ],
             [
              1,
              "#f0f921"
             ]
            ],
            "type": "surface"
           }
          ],
          "table": [
           {
            "cells": {
             "fill": {
              "color": "#EBF0F8"
             },
             "line": {
              "color": "white"
             }
            },
            "header": {
             "fill": {
              "color": "#C8D4E3"
             },
             "line": {
              "color": "white"
             }
            },
            "type": "table"
           }
          ]
         },
         "layout": {
          "annotationdefaults": {
           "arrowcolor": "#2a3f5f",
           "arrowhead": 0,
           "arrowwidth": 1
          },
          "autotypenumbers": "strict",
          "coloraxis": {
           "colorbar": {
            "outlinewidth": 0,
            "ticks": ""
           }
          },
          "colorscale": {
           "diverging": [
            [
             0,
             "#8e0152"
            ],
            [
             0.1,
             "#c51b7d"
            ],
            [
             0.2,
             "#de77ae"
            ],
            [
             0.3,
             "#f1b6da"
            ],
            [
             0.4,
             "#fde0ef"
            ],
            [
             0.5,
             "#f7f7f7"
            ],
            [
             0.6,
             "#e6f5d0"
            ],
            [
             0.7,
             "#b8e186"
            ],
            [
             0.8,
             "#7fbc41"
            ],
            [
             0.9,
             "#4d9221"
            ],
            [
             1,
             "#276419"
            ]
           ],
           "sequential": [
            [
             0,
             "#0d0887"
            ],
            [
             0.1111111111111111,
             "#46039f"
            ],
            [
             0.2222222222222222,
             "#7201a8"
            ],
            [
             0.3333333333333333,
             "#9c179e"
            ],
            [
             0.4444444444444444,
             "#bd3786"
            ],
            [
             0.5555555555555556,
             "#d8576b"
            ],
            [
             0.6666666666666666,
             "#ed7953"
            ],
            [
             0.7777777777777778,
             "#fb9f3a"
            ],
            [
             0.8888888888888888,
             "#fdca26"
            ],
            [
             1,
             "#f0f921"
            ]
           ],
           "sequentialminus": [
            [
             0,
             "#0d0887"
            ],
            [
             0.1111111111111111,
             "#46039f"
            ],
            [
             0.2222222222222222,
             "#7201a8"
            ],
            [
             0.3333333333333333,
             "#9c179e"
            ],
            [
             0.4444444444444444,
             "#bd3786"
            ],
            [
             0.5555555555555556,
             "#d8576b"
            ],
            [
             0.6666666666666666,
             "#ed7953"
            ],
            [
             0.7777777777777778,
             "#fb9f3a"
            ],
            [
             0.8888888888888888,
             "#fdca26"
            ],
            [
             1,
             "#f0f921"
            ]
           ]
          },
          "colorway": [
           "#636efa",
           "#EF553B",
           "#00cc96",
           "#ab63fa",
           "#FFA15A",
           "#19d3f3",
           "#FF6692",
           "#B6E880",
           "#FF97FF",
           "#FECB52"
          ],
          "font": {
           "color": "#2a3f5f"
          },
          "geo": {
           "bgcolor": "white",
           "lakecolor": "white",
           "landcolor": "#E5ECF6",
           "showlakes": true,
           "showland": true,
           "subunitcolor": "white"
          },
          "hoverlabel": {
           "align": "left"
          },
          "hovermode": "closest",
          "mapbox": {
           "style": "light"
          },
          "paper_bgcolor": "white",
          "plot_bgcolor": "#E5ECF6",
          "polar": {
           "angularaxis": {
            "gridcolor": "white",
            "linecolor": "white",
            "ticks": ""
           },
           "bgcolor": "#E5ECF6",
           "radialaxis": {
            "gridcolor": "white",
            "linecolor": "white",
            "ticks": ""
           }
          },
          "scene": {
           "xaxis": {
            "backgroundcolor": "#E5ECF6",
            "gridcolor": "white",
            "gridwidth": 2,
            "linecolor": "white",
            "showbackground": true,
            "ticks": "",
            "zerolinecolor": "white"
           },
           "yaxis": {
            "backgroundcolor": "#E5ECF6",
            "gridcolor": "white",
            "gridwidth": 2,
            "linecolor": "white",
            "showbackground": true,
            "ticks": "",
            "zerolinecolor": "white"
           },
           "zaxis": {
            "backgroundcolor": "#E5ECF6",
            "gridcolor": "white",
            "gridwidth": 2,
            "linecolor": "white",
            "showbackground": true,
            "ticks": "",
            "zerolinecolor": "white"
           }
          },
          "shapedefaults": {
           "line": {
            "color": "#2a3f5f"
           }
          },
          "ternary": {
           "aaxis": {
            "gridcolor": "white",
            "linecolor": "white",
            "ticks": ""
           },
           "baxis": {
            "gridcolor": "white",
            "linecolor": "white",
            "ticks": ""
           },
           "bgcolor": "#E5ECF6",
           "caxis": {
            "gridcolor": "white",
            "linecolor": "white",
            "ticks": ""
           }
          },
          "title": {
           "x": 0.05
          },
          "xaxis": {
           "automargin": true,
           "gridcolor": "white",
           "linecolor": "white",
           "ticks": "",
           "title": {
            "standoff": 15
           },
           "zerolinecolor": "white",
           "zerolinewidth": 2
          },
          "yaxis": {
           "automargin": true,
           "gridcolor": "white",
           "linecolor": "white",
           "ticks": "",
           "title": {
            "standoff": 15
           },
           "zerolinecolor": "white",
           "zerolinewidth": 2
          }
         }
        }
       }
      }
     },
     "metadata": {},
     "output_type": "display_data"
    }
   ],
   "source": [
    "figure = go.Figure(\n",
    "    data=[\n",
    "        go.Scatter(\n",
    "            y=train_accuracies,\n",
    "            mode=\"lines+markers\",\n",
    "            name=\"train\",\n",
    "        ),\n",
    "        go.Scatter(\n",
    "            y=val_accuracies,\n",
    "            mode=\"lines+markers\",\n",
    "            name=\"val\",\n",
    "        ),\n",
    "    ]\n",
    ")\n",
    "figure.show()"
   ]
  },
  {
   "cell_type": "code",
   "execution_count": 32,
   "metadata": {},
   "outputs": [
    {
     "data": {
      "application/vnd.plotly.v1+json": {
       "config": {
        "plotlyServerURL": "https://plot.ly"
       },
       "data": [
        {
         "mode": "lines+markers",
         "name": "train",
         "type": "scatter",
         "y": [
          1.8882579803466797,
          1.693463683128357,
          1.661635160446167,
          1.5511711835861206,
          1.5477709770202637,
          1.4756258726119995,
          1.444210171699524,
          1.395176649093628,
          1.3853858709335327,
          1.3305493593215942,
          1.255554437637329,
          1.2248575687408447,
          1.1995388269424438,
          1.1671888828277588,
          1.149217128753662,
          1.0690675973892212,
          1.0053926706314087,
          0.9767563939094543,
          0.9864137172698975,
          0.9300895929336548,
          0.9241845607757568,
          0.9049758315086365,
          0.8500633239746094,
          0.8066051006317139,
          0.7470037937164307,
          0.7131707668304443,
          0.7156942486763,
          0.6941646933555603,
          0.6382360458374023,
          0.6368629336357117,
          0.6047514081001282,
          0.6065070033073425,
          0.5125179290771484,
          0.5504953265190125,
          0.5221144556999207,
          0.5166857242584229,
          0.43464601039886475,
          0.4646918475627899,
          0.4288761019706726,
          0.37476247549057007,
          0.3972538411617279,
          0.3549341857433319,
          0.36283308267593384,
          0.3667614758014679,
          0.33362799882888794,
          0.34802940487861633,
          0.30599507689476013,
          0.29203397035598755,
          0.2763430178165436,
          0.2632579803466797,
          0.2758154571056366,
          0.2442304641008377,
          0.25687912106513977,
          0.23418116569519043,
          0.24339090287685394,
          0.23431533575057983,
          0.21963699162006378,
          0.2202521711587906,
          0.19480322301387787,
          0.18933354318141937,
          0.20709514617919922,
          0.16867950558662415,
          0.19373910129070282,
          0.17593175172805786,
          0.1710537225008011,
          0.17489174008369446,
          0.1578635424375534,
          0.15209220349788666,
          0.13738492131233215,
          0.1311090886592865,
          0.129501610994339,
          0.12763606011867523,
          0.1426563262939453,
          0.1284276396036148,
          0.13227537274360657,
          0.13376109302043915,
          0.12232908606529236,
          0.1187572330236435,
          0.12298178672790527,
          0.1170915737748146,
          0.11504025012254715,
          0.11002212017774582,
          0.10702867805957794,
          0.11053288727998734,
          0.12524984776973724,
          0.11573996394872665,
          0.1140093132853508,
          0.11652408540248871,
          0.09314373880624771,
          0.11164475232362747,
          0.12349612265825272,
          0.10517876595258713,
          0.11095749586820602,
          0.09609075635671616,
          0.09630156308412552,
          0.10952300578355789,
          0.10336097329854965,
          0.09772372990846634,
          0.1115984097123146,
          0.10297677665948868
         ]
        },
        {
         "mode": "lines+markers",
         "name": "val",
         "type": "scatter",
         "y": [
          1.8622550964355469,
          1.8322190046310425,
          1.721691370010376,
          1.7153041362762451,
          1.7540463209152222,
          1.6641672849655151,
          1.7134603261947632,
          1.7387372255325317,
          1.6202280521392822,
          1.6303616762161255,
          1.7013705968856812,
          1.7600677013397217,
          1.571388602256775,
          1.6393771171569824,
          1.6390703916549683,
          1.8662477731704712,
          1.787666916847229,
          1.8677709102630615,
          1.9336295127868652,
          1.9224566221237183,
          1.6899075508117676,
          1.7813318967819214,
          1.692869782447815,
          1.7450264692306519,
          1.868952989578247,
          1.8039957284927368,
          1.8823648691177368,
          1.7403290271759033,
          1.6083177328109741,
          1.6647356748580933,
          1.6518759727478027,
          1.7297180891036987,
          1.693892002105713,
          1.6695821285247803,
          1.6749082803726196,
          1.6347391605377197,
          1.9089707136154175,
          1.71806001663208,
          1.734174132347107,
          1.754632592201233,
          1.682643175125122,
          1.9935721158981323,
          2.0148632526397705,
          1.8289510011672974,
          1.811200499534607,
          2.096670627593994,
          1.7923200130462646,
          1.7433668375015259,
          1.861854076385498,
          1.8071647882461548,
          1.8014166355133057,
          1.7549762725830078,
          1.8290824890136719,
          1.8450618982315063,
          1.9900164604187012,
          1.9827932119369507,
          1.9284663200378418,
          1.9519264698028564,
          1.9512373208999634,
          1.7779278755187988,
          1.8150817155838013,
          1.9129092693328857,
          2.1387810707092285,
          1.996946096420288,
          1.7837721109390259,
          2.1171393394470215,
          1.7837071418762207,
          1.8366883993148804,
          1.7665461301803589,
          1.7629168033599854,
          1.7260003089904785,
          1.820565104484558,
          1.9279645681381226,
          1.8038325309753418,
          1.8156702518463135,
          1.7803878784179688,
          1.7879313230514526,
          1.7943159341812134,
          1.7920702695846558,
          1.7678831815719604,
          1.7617894411087036,
          1.9201337099075317,
          1.7276339530944824,
          1.7942265272140503,
          1.7711471319198608,
          1.7108758687973022,
          1.7112983465194702,
          1.7374451160430908,
          1.6840699911117554,
          1.8070164918899536,
          1.7213683128356934,
          1.7666380405426025,
          1.7446835041046143,
          1.7118334770202637,
          1.8407704830169678,
          1.7997010946273804,
          1.6788437366485596,
          1.8069456815719604,
          1.702837347984314,
          1.7105060815811157
         ]
        }
       ],
       "layout": {
        "template": {
         "data": {
          "bar": [
           {
            "error_x": {
             "color": "#2a3f5f"
            },
            "error_y": {
             "color": "#2a3f5f"
            },
            "marker": {
             "line": {
              "color": "#E5ECF6",
              "width": 0.5
             },
             "pattern": {
              "fillmode": "overlay",
              "size": 10,
              "solidity": 0.2
             }
            },
            "type": "bar"
           }
          ],
          "barpolar": [
           {
            "marker": {
             "line": {
              "color": "#E5ECF6",
              "width": 0.5
             },
             "pattern": {
              "fillmode": "overlay",
              "size": 10,
              "solidity": 0.2
             }
            },
            "type": "barpolar"
           }
          ],
          "carpet": [
           {
            "aaxis": {
             "endlinecolor": "#2a3f5f",
             "gridcolor": "white",
             "linecolor": "white",
             "minorgridcolor": "white",
             "startlinecolor": "#2a3f5f"
            },
            "baxis": {
             "endlinecolor": "#2a3f5f",
             "gridcolor": "white",
             "linecolor": "white",
             "minorgridcolor": "white",
             "startlinecolor": "#2a3f5f"
            },
            "type": "carpet"
           }
          ],
          "choropleth": [
           {
            "colorbar": {
             "outlinewidth": 0,
             "ticks": ""
            },
            "type": "choropleth"
           }
          ],
          "contour": [
           {
            "colorbar": {
             "outlinewidth": 0,
             "ticks": ""
            },
            "colorscale": [
             [
              0,
              "#0d0887"
             ],
             [
              0.1111111111111111,
              "#46039f"
             ],
             [
              0.2222222222222222,
              "#7201a8"
             ],
             [
              0.3333333333333333,
              "#9c179e"
             ],
             [
              0.4444444444444444,
              "#bd3786"
             ],
             [
              0.5555555555555556,
              "#d8576b"
             ],
             [
              0.6666666666666666,
              "#ed7953"
             ],
             [
              0.7777777777777778,
              "#fb9f3a"
             ],
             [
              0.8888888888888888,
              "#fdca26"
             ],
             [
              1,
              "#f0f921"
             ]
            ],
            "type": "contour"
           }
          ],
          "contourcarpet": [
           {
            "colorbar": {
             "outlinewidth": 0,
             "ticks": ""
            },
            "type": "contourcarpet"
           }
          ],
          "heatmap": [
           {
            "colorbar": {
             "outlinewidth": 0,
             "ticks": ""
            },
            "colorscale": [
             [
              0,
              "#0d0887"
             ],
             [
              0.1111111111111111,
              "#46039f"
             ],
             [
              0.2222222222222222,
              "#7201a8"
             ],
             [
              0.3333333333333333,
              "#9c179e"
             ],
             [
              0.4444444444444444,
              "#bd3786"
             ],
             [
              0.5555555555555556,
              "#d8576b"
             ],
             [
              0.6666666666666666,
              "#ed7953"
             ],
             [
              0.7777777777777778,
              "#fb9f3a"
             ],
             [
              0.8888888888888888,
              "#fdca26"
             ],
             [
              1,
              "#f0f921"
             ]
            ],
            "type": "heatmap"
           }
          ],
          "heatmapgl": [
           {
            "colorbar": {
             "outlinewidth": 0,
             "ticks": ""
            },
            "colorscale": [
             [
              0,
              "#0d0887"
             ],
             [
              0.1111111111111111,
              "#46039f"
             ],
             [
              0.2222222222222222,
              "#7201a8"
             ],
             [
              0.3333333333333333,
              "#9c179e"
             ],
             [
              0.4444444444444444,
              "#bd3786"
             ],
             [
              0.5555555555555556,
              "#d8576b"
             ],
             [
              0.6666666666666666,
              "#ed7953"
             ],
             [
              0.7777777777777778,
              "#fb9f3a"
             ],
             [
              0.8888888888888888,
              "#fdca26"
             ],
             [
              1,
              "#f0f921"
             ]
            ],
            "type": "heatmapgl"
           }
          ],
          "histogram": [
           {
            "marker": {
             "pattern": {
              "fillmode": "overlay",
              "size": 10,
              "solidity": 0.2
             }
            },
            "type": "histogram"
           }
          ],
          "histogram2d": [
           {
            "colorbar": {
             "outlinewidth": 0,
             "ticks": ""
            },
            "colorscale": [
             [
              0,
              "#0d0887"
             ],
             [
              0.1111111111111111,
              "#46039f"
             ],
             [
              0.2222222222222222,
              "#7201a8"
             ],
             [
              0.3333333333333333,
              "#9c179e"
             ],
             [
              0.4444444444444444,
              "#bd3786"
             ],
             [
              0.5555555555555556,
              "#d8576b"
             ],
             [
              0.6666666666666666,
              "#ed7953"
             ],
             [
              0.7777777777777778,
              "#fb9f3a"
             ],
             [
              0.8888888888888888,
              "#fdca26"
             ],
             [
              1,
              "#f0f921"
             ]
            ],
            "type": "histogram2d"
           }
          ],
          "histogram2dcontour": [
           {
            "colorbar": {
             "outlinewidth": 0,
             "ticks": ""
            },
            "colorscale": [
             [
              0,
              "#0d0887"
             ],
             [
              0.1111111111111111,
              "#46039f"
             ],
             [
              0.2222222222222222,
              "#7201a8"
             ],
             [
              0.3333333333333333,
              "#9c179e"
             ],
             [
              0.4444444444444444,
              "#bd3786"
             ],
             [
              0.5555555555555556,
              "#d8576b"
             ],
             [
              0.6666666666666666,
              "#ed7953"
             ],
             [
              0.7777777777777778,
              "#fb9f3a"
             ],
             [
              0.8888888888888888,
              "#fdca26"
             ],
             [
              1,
              "#f0f921"
             ]
            ],
            "type": "histogram2dcontour"
           }
          ],
          "mesh3d": [
           {
            "colorbar": {
             "outlinewidth": 0,
             "ticks": ""
            },
            "type": "mesh3d"
           }
          ],
          "parcoords": [
           {
            "line": {
             "colorbar": {
              "outlinewidth": 0,
              "ticks": ""
             }
            },
            "type": "parcoords"
           }
          ],
          "pie": [
           {
            "automargin": true,
            "type": "pie"
           }
          ],
          "scatter": [
           {
            "fillpattern": {
             "fillmode": "overlay",
             "size": 10,
             "solidity": 0.2
            },
            "type": "scatter"
           }
          ],
          "scatter3d": [
           {
            "line": {
             "colorbar": {
              "outlinewidth": 0,
              "ticks": ""
             }
            },
            "marker": {
             "colorbar": {
              "outlinewidth": 0,
              "ticks": ""
             }
            },
            "type": "scatter3d"
           }
          ],
          "scattercarpet": [
           {
            "marker": {
             "colorbar": {
              "outlinewidth": 0,
              "ticks": ""
             }
            },
            "type": "scattercarpet"
           }
          ],
          "scattergeo": [
           {
            "marker": {
             "colorbar": {
              "outlinewidth": 0,
              "ticks": ""
             }
            },
            "type": "scattergeo"
           }
          ],
          "scattergl": [
           {
            "marker": {
             "colorbar": {
              "outlinewidth": 0,
              "ticks": ""
             }
            },
            "type": "scattergl"
           }
          ],
          "scattermapbox": [
           {
            "marker": {
             "colorbar": {
              "outlinewidth": 0,
              "ticks": ""
             }
            },
            "type": "scattermapbox"
           }
          ],
          "scatterpolar": [
           {
            "marker": {
             "colorbar": {
              "outlinewidth": 0,
              "ticks": ""
             }
            },
            "type": "scatterpolar"
           }
          ],
          "scatterpolargl": [
           {
            "marker": {
             "colorbar": {
              "outlinewidth": 0,
              "ticks": ""
             }
            },
            "type": "scatterpolargl"
           }
          ],
          "scatterternary": [
           {
            "marker": {
             "colorbar": {
              "outlinewidth": 0,
              "ticks": ""
             }
            },
            "type": "scatterternary"
           }
          ],
          "surface": [
           {
            "colorbar": {
             "outlinewidth": 0,
             "ticks": ""
            },
            "colorscale": [
             [
              0,
              "#0d0887"
             ],
             [
              0.1111111111111111,
              "#46039f"
             ],
             [
              0.2222222222222222,
              "#7201a8"
             ],
             [
              0.3333333333333333,
              "#9c179e"
             ],
             [
              0.4444444444444444,
              "#bd3786"
             ],
             [
              0.5555555555555556,
              "#d8576b"
             ],
             [
              0.6666666666666666,
              "#ed7953"
             ],
             [
              0.7777777777777778,
              "#fb9f3a"
             ],
             [
              0.8888888888888888,
              "#fdca26"
             ],
             [
              1,
              "#f0f921"
             ]
            ],
            "type": "surface"
           }
          ],
          "table": [
           {
            "cells": {
             "fill": {
              "color": "#EBF0F8"
             },
             "line": {
              "color": "white"
             }
            },
            "header": {
             "fill": {
              "color": "#C8D4E3"
             },
             "line": {
              "color": "white"
             }
            },
            "type": "table"
           }
          ]
         },
         "layout": {
          "annotationdefaults": {
           "arrowcolor": "#2a3f5f",
           "arrowhead": 0,
           "arrowwidth": 1
          },
          "autotypenumbers": "strict",
          "coloraxis": {
           "colorbar": {
            "outlinewidth": 0,
            "ticks": ""
           }
          },
          "colorscale": {
           "diverging": [
            [
             0,
             "#8e0152"
            ],
            [
             0.1,
             "#c51b7d"
            ],
            [
             0.2,
             "#de77ae"
            ],
            [
             0.3,
             "#f1b6da"
            ],
            [
             0.4,
             "#fde0ef"
            ],
            [
             0.5,
             "#f7f7f7"
            ],
            [
             0.6,
             "#e6f5d0"
            ],
            [
             0.7,
             "#b8e186"
            ],
            [
             0.8,
             "#7fbc41"
            ],
            [
             0.9,
             "#4d9221"
            ],
            [
             1,
             "#276419"
            ]
           ],
           "sequential": [
            [
             0,
             "#0d0887"
            ],
            [
             0.1111111111111111,
             "#46039f"
            ],
            [
             0.2222222222222222,
             "#7201a8"
            ],
            [
             0.3333333333333333,
             "#9c179e"
            ],
            [
             0.4444444444444444,
             "#bd3786"
            ],
            [
             0.5555555555555556,
             "#d8576b"
            ],
            [
             0.6666666666666666,
             "#ed7953"
            ],
            [
             0.7777777777777778,
             "#fb9f3a"
            ],
            [
             0.8888888888888888,
             "#fdca26"
            ],
            [
             1,
             "#f0f921"
            ]
           ],
           "sequentialminus": [
            [
             0,
             "#0d0887"
            ],
            [
             0.1111111111111111,
             "#46039f"
            ],
            [
             0.2222222222222222,
             "#7201a8"
            ],
            [
             0.3333333333333333,
             "#9c179e"
            ],
            [
             0.4444444444444444,
             "#bd3786"
            ],
            [
             0.5555555555555556,
             "#d8576b"
            ],
            [
             0.6666666666666666,
             "#ed7953"
            ],
            [
             0.7777777777777778,
             "#fb9f3a"
            ],
            [
             0.8888888888888888,
             "#fdca26"
            ],
            [
             1,
             "#f0f921"
            ]
           ]
          },
          "colorway": [
           "#636efa",
           "#EF553B",
           "#00cc96",
           "#ab63fa",
           "#FFA15A",
           "#19d3f3",
           "#FF6692",
           "#B6E880",
           "#FF97FF",
           "#FECB52"
          ],
          "font": {
           "color": "#2a3f5f"
          },
          "geo": {
           "bgcolor": "white",
           "lakecolor": "white",
           "landcolor": "#E5ECF6",
           "showlakes": true,
           "showland": true,
           "subunitcolor": "white"
          },
          "hoverlabel": {
           "align": "left"
          },
          "hovermode": "closest",
          "mapbox": {
           "style": "light"
          },
          "paper_bgcolor": "white",
          "plot_bgcolor": "#E5ECF6",
          "polar": {
           "angularaxis": {
            "gridcolor": "white",
            "linecolor": "white",
            "ticks": ""
           },
           "bgcolor": "#E5ECF6",
           "radialaxis": {
            "gridcolor": "white",
            "linecolor": "white",
            "ticks": ""
           }
          },
          "scene": {
           "xaxis": {
            "backgroundcolor": "#E5ECF6",
            "gridcolor": "white",
            "gridwidth": 2,
            "linecolor": "white",
            "showbackground": true,
            "ticks": "",
            "zerolinecolor": "white"
           },
           "yaxis": {
            "backgroundcolor": "#E5ECF6",
            "gridcolor": "white",
            "gridwidth": 2,
            "linecolor": "white",
            "showbackground": true,
            "ticks": "",
            "zerolinecolor": "white"
           },
           "zaxis": {
            "backgroundcolor": "#E5ECF6",
            "gridcolor": "white",
            "gridwidth": 2,
            "linecolor": "white",
            "showbackground": true,
            "ticks": "",
            "zerolinecolor": "white"
           }
          },
          "shapedefaults": {
           "line": {
            "color": "#2a3f5f"
           }
          },
          "ternary": {
           "aaxis": {
            "gridcolor": "white",
            "linecolor": "white",
            "ticks": ""
           },
           "baxis": {
            "gridcolor": "white",
            "linecolor": "white",
            "ticks": ""
           },
           "bgcolor": "#E5ECF6",
           "caxis": {
            "gridcolor": "white",
            "linecolor": "white",
            "ticks": ""
           }
          },
          "title": {
           "x": 0.05
          },
          "xaxis": {
           "automargin": true,
           "gridcolor": "white",
           "linecolor": "white",
           "ticks": "",
           "title": {
            "standoff": 15
           },
           "zerolinecolor": "white",
           "zerolinewidth": 2
          },
          "yaxis": {
           "automargin": true,
           "gridcolor": "white",
           "linecolor": "white",
           "ticks": "",
           "title": {
            "standoff": 15
           },
           "zerolinecolor": "white",
           "zerolinewidth": 2
          }
         }
        }
       }
      }
     },
     "metadata": {},
     "output_type": "display_data"
    }
   ],
   "source": [
    "figure = go.Figure(\n",
    "    data=[\n",
    "        go.Scatter(\n",
    "            y=train_lossess,\n",
    "            mode=\"lines+markers\",\n",
    "            name=\"train\",\n",
    "        ),\n",
    "        go.Scatter(\n",
    "            y=val_lossess,\n",
    "            mode=\"lines+markers\",\n",
    "            name=\"val\",\n",
    "        ),\n",
    "    ]\n",
    ")\n",
    "figure.show()"
   ]
  },
  {
   "cell_type": "code",
   "execution_count": null,
   "metadata": {},
   "outputs": [],
   "source": []
  }
 ],
 "metadata": {
  "kernelspec": {
   "display_name": "pytorch",
   "language": "python",
   "name": "python3"
  },
  "language_info": {
   "codemirror_mode": {
    "name": "ipython",
    "version": 3
   },
   "file_extension": ".py",
   "mimetype": "text/x-python",
   "name": "python",
   "nbconvert_exporter": "python",
   "pygments_lexer": "ipython3",
   "version": "3.11.4"
  }
 },
 "nbformat": 4,
 "nbformat_minor": 2
}
