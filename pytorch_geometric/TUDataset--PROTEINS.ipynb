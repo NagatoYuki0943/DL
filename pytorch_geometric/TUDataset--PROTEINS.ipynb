{
 "cells": [
  {
   "cell_type": "markdown",
   "metadata": {},
   "source": [
    "https://zhuanlan.zhihu.com/p/435945714"
   ]
  },
  {
   "cell_type": "code",
   "execution_count": 1,
   "metadata": {},
   "outputs": [],
   "source": [
    "import torch\n",
    "from torch import nn, Tensor, optim\n",
    "from torch.nn import functional as F\n",
    "from torch_geometric import nn as gnn\n",
    "from torch_geometric import datasets\n",
    "from torch_geometric.data import Data, Dataset\n",
    "from torch_geometric.loader import DataLoader\n",
    "from torch_geometric import transforms as gtransforms\n",
    "from torch_geometric.utils import to_networkx\n",
    "import networkx as nx\n",
    "from tqdm import tqdm\n",
    "from plotly import express as px\n",
    "from plotly import graph_objects as go\n",
    "import matplotlib.pyplot as plt"
   ]
  },
  {
   "cell_type": "code",
   "execution_count": 2,
   "metadata": {},
   "outputs": [
    {
     "data": {
      "text/plain": [
       "'cuda:0'"
      ]
     },
     "execution_count": 2,
     "metadata": {},
     "output_type": "execute_result"
    }
   ],
   "source": [
    "device = (\n",
    "    \"cuda:0\"\n",
    "    if torch.cuda.is_available()\n",
    "    else (\"mps\" if torch.backends.mps.is_available() else \"cpu\")\n",
    ")\n",
    "device"
   ]
  },
  {
   "cell_type": "code",
   "execution_count": 3,
   "metadata": {},
   "outputs": [],
   "source": [
    "seed = 0\n",
    "torch.manual_seed(seed)\n",
    "torch.cuda.manual_seed(seed)\n",
    "torch.cuda.manual_seed_all(seed)"
   ]
  },
  {
   "cell_type": "markdown",
   "metadata": {},
   "source": [
    "# torch_geometric.data.Data\n",
    "\n",
    "节点和节点之间的边构成了图。所以在 PyG 中，如果你要构建图，那么需要两个要素：节点和边。PyG 提供了torch_geometric.data.Data (下面简称Data) 用于构建图，包括 5 个属性，每一个属性都不是必须的，可以为空。\n",
    "\n",
    "- x: 用于存储每个节点的特征，形状是 `[num_nodes, num_node_features]`\n",
    "- y: 存储样本标签。如果是每个节点都有标签，那么形状是 `[num_nodes, *]`；如果是整张图只有一个标签，那么形状是 `[1, *]`\n",
    "- edge_index: 用于存储节点之间的边，形状是 `[2, num_edges]`\n",
    "- pos: 存储节点的坐标，形状是 `[num_nodes, num_dimensions]`\n",
    "- edge_attr: 存储边的特征。形状是 `[num_edges, num_edge_features]`"
   ]
  },
  {
   "cell_type": "code",
   "execution_count": 4,
   "metadata": {},
   "outputs": [
    {
     "data": {
      "text/plain": [
       "tensor([[ 2.,  1.],\n",
       "        [ 5.,  6.],\n",
       "        [ 3.,  7.],\n",
       "        [12.,  0.]])"
      ]
     },
     "execution_count": 4,
     "metadata": {},
     "output_type": "execute_result"
    }
   ],
   "source": [
    "# x: 用于存储每个节点的特征，形状是 `[num_nodes, num_node_features]`。\n",
    "x = torch.tensor([[2, 1], [5, 6], [3, 7], [12, 0]], dtype=torch.float)\n",
    "x"
   ]
  },
  {
   "cell_type": "code",
   "execution_count": 5,
   "metadata": {},
   "outputs": [
    {
     "data": {
      "text/plain": [
       "tensor([[0],\n",
       "        [2],\n",
       "        [3],\n",
       "        [4]])"
      ]
     },
     "execution_count": 5,
     "metadata": {},
     "output_type": "execute_result"
    }
   ],
   "source": [
    "# y: 存储样本标签。如果是每个节点都有标签，那么形状是 `[num_nodes, *]`；如果是整张图只有一个标签，那么形状是 `[1, *]`。\n",
    "y = torch.tensor([[0], [2], [3], [4]], dtype=torch.long)\n",
    "y"
   ]
  },
  {
   "cell_type": "code",
   "execution_count": 6,
   "metadata": {},
   "outputs": [
    {
     "data": {
      "text/plain": [
       "tensor([[0, 1, 0, 1, 1, 2, 3],\n",
       "        [1, 0, 2, 2, 3, 3, 2]])"
      ]
     },
     "execution_count": 6,
     "metadata": {},
     "output_type": "execute_result"
    }
   ],
   "source": [
    "# edge_index: 用于存储节点之间的边，形状是 `[2, num_edges]`\n",
    "# 5条边: (0 -> 1), (0 -> 2), (1 -> 2), (1 -> 3), (2 -> 3)\n",
    "edge_index = torch.tensor(\n",
    "    [[0, 1, 0, 1, 1, 2, 3], [1, 0, 2, 2, 3, 3, 2]], dtype=torch.long\n",
    ")\n",
    "edge_index"
   ]
  },
  {
   "cell_type": "code",
   "execution_count": 7,
   "metadata": {},
   "outputs": [
    {
     "data": {
      "text/plain": [
       "Data(x=[4, 2], edge_index=[2, 7], y=[4, 1])"
      ]
     },
     "execution_count": 7,
     "metadata": {},
     "output_type": "execute_result"
    }
   ],
   "source": [
    "data = Data(x=x, y=y, edge_index=edge_index)\n",
    "data"
   ]
  },
  {
   "cell_type": "code",
   "execution_count": null,
   "metadata": {},
   "outputs": [
    {
     "name": "stdout",
     "output_type": "stream",
     "text": [
      "('x', tensor([[ 2.,  1.],\n",
      "        [ 5.,  6.],\n",
      "        [ 3.,  7.],\n",
      "        [12.,  0.]]))\n",
      "('edge_index', tensor([[0, 1, 0, 1, 1, 2, 3],\n",
      "        [1, 0, 2, 2, 3, 3, 2]]))\n",
      "('y', tensor([[0],\n",
      "        [2],\n",
      "        [3],\n",
      "        [4]]))\n"
     ]
    }
   ],
   "source": [
    "for i in data:\n",
    "    print(i)"
   ]
  },
  {
   "cell_type": "code",
   "execution_count": 9,
   "metadata": {},
   "outputs": [],
   "source": [
    "def visualize_graph(G, color):\n",
    "    plt.figure(figsize=(7, 7))\n",
    "    plt.xticks([])\n",
    "    plt.yticks([])\n",
    "    nx.draw_networkx(\n",
    "        G,\n",
    "        pos=nx.spring_layout(G, seed=42),\n",
    "        with_labels=False,\n",
    "        node_color=color,\n",
    "        cmap=\"Set2\",\n",
    "    )\n",
    "    plt.show()"
   ]
  },
  {
   "cell_type": "code",
   "execution_count": 10,
   "metadata": {},
   "outputs": [
    {
     "data": {
      "image/png": "[encoded data removed]",
      "text/plain": [
       "<Figure size 700x700 with 1 Axes>"
      ]
     },
     "metadata": {},
     "output_type": "display_data"
    }
   ],
   "source": [
    "visualize_graph(to_networkx(data, to_undirected=True), color=data.y)"
   ]
  },
  {
   "cell_type": "markdown",
   "metadata": {},
   "source": [
    "# from torch_geometric.datasets"
   ]
  },
  {
   "cell_type": "code",
   "execution_count": 11,
   "metadata": {},
   "outputs": [
    {
     "data": {
      "text/plain": [
       "Compose([\n",
       "  NormalizeFeatures()\n",
       "])"
      ]
     },
     "execution_count": 11,
     "metadata": {},
     "output_type": "execute_result"
    }
   ],
   "source": [
    "transform = gtransforms.Compose(\n",
    "    [\n",
    "        gtransforms.NormalizeFeatures(),\n",
    "    ]\n",
    ")\n",
    "transform"
   ]
  },
  {
   "cell_type": "markdown",
   "metadata": {},
   "source": [
    "| Name          | #graphs | #nodes | #edges  | #features | #classes |\n",
    "| ------------- | ------- | ------ | ------- | --------- | -------- |\n",
    "| MUTAG         | 188     | ~17.9  | ~39.6   | 7         | 2        |\n",
    "| ENZYMES       | 600     | ~32.6  | ~124.3  | 3         | 6        |\n",
    "| PROTEINS      | 1,113   | ~39.1  | ~145.6  | 3         | 2        |\n",
    "| COLLAB        | 5,000   | ~74.5  | ~4914.4 | 0         | 3        |\n",
    "| IMDB-BINARY   | 1,000   | ~19.8  | ~193.1  | 0         | 2        |\n",
    "| REDDIT-BINARY | 2,000   | ~429.6 | ~995.5  | 0         | 2        |"
   ]
  },
  {
   "cell_type": "code",
   "execution_count": 12,
   "metadata": {},
   "outputs": [
    {
     "data": {
      "text/plain": [
       "Data(edge_index=[2, 162], x=[42, 4], y=[1])"
      ]
     },
     "execution_count": 12,
     "metadata": {},
     "output_type": "execute_result"
    }
   ],
   "source": [
    "dataset = datasets.TUDataset(\n",
    "    root=\"./datasets/TUDataset\",\n",
    "    name=\"PROTEINS\",  # MUTAG, ENZYMES, PROTEINS, COLLAB, IMDB-BINARY, REDDIT-BINARY\n",
    "    transform=transform,\n",
    "    use_node_attr=True,\n",
    ")\n",
    "dataset[0]"
   ]
  },
  {
   "cell_type": "code",
   "execution_count": 13,
   "metadata": {},
   "outputs": [
    {
     "data": {
      "text/plain": [
       "Data(edge_index=[2, 122], x=[31, 4], y=[1])"
      ]
     },
     "execution_count": 13,
     "metadata": {},
     "output_type": "execute_result"
    }
   ],
   "source": [
    "dataset = dataset.shuffle()\n",
    "dataset[0]"
   ]
  },
  {
   "cell_type": "code",
   "execution_count": 14,
   "metadata": {},
   "outputs": [
    {
     "data": {
      "text/plain": [
       "(0, 0, 0)"
      ]
     },
     "execution_count": 14,
     "metadata": {},
     "output_type": "execute_result"
    }
   ],
   "source": [
    "dataset.num_edge_attributes, dataset.num_edge_features, dataset.num_edge_labels"
   ]
  },
  {
   "cell_type": "code",
   "execution_count": 15,
   "metadata": {},
   "outputs": [
    {
     "data": {
      "text/plain": [
       "(1, 4, 0)"
      ]
     },
     "execution_count": 15,
     "metadata": {},
     "output_type": "execute_result"
    }
   ],
   "source": [
    "dataset.num_node_attributes, dataset.num_node_features, dataset.num_edge_labels"
   ]
  },
  {
   "cell_type": "code",
   "execution_count": 16,
   "metadata": {},
   "outputs": [
    {
     "data": {
      "text/plain": [
       "(4, 2)"
      ]
     },
     "execution_count": 16,
     "metadata": {},
     "output_type": "execute_result"
    }
   ],
   "source": [
    "dataset.num_features, dataset.num_classes"
   ]
  },
  {
   "cell_type": "code",
   "execution_count": 17,
   "metadata": {},
   "outputs": [
    {
     "name": "stdout",
     "output_type": "stream",
     "text": [
      "1113\n",
      "891\n",
      "222\n"
     ]
    }
   ],
   "source": [
    "val_ratio = 0.2\n",
    "dataset_len = len(dataset)\n",
    "print(dataset_len)\n",
    "val_dataset_len = int(dataset_len * val_ratio)\n",
    "print(dataset_len - val_dataset_len)\n",
    "print(val_dataset_len)"
   ]
  },
  {
   "cell_type": "code",
   "execution_count": 18,
   "metadata": {},
   "outputs": [
    {
     "name": "stdout",
     "output_type": "stream",
     "text": [
      "891\n",
      "222\n"
     ]
    }
   ],
   "source": [
    "train_dataset = dataset[:-val_dataset_len]\n",
    "print(len(train_dataset))\n",
    "val_dataset = dataset[-val_dataset_len:]\n",
    "print(len(val_dataset))"
   ]
  },
  {
   "cell_type": "code",
   "execution_count": 19,
   "metadata": {},
   "outputs": [
    {
     "data": {
      "text/plain": [
       "<torch_geometric.loader.dataloader.DataLoader at 0x1da68af21d0>"
      ]
     },
     "execution_count": 19,
     "metadata": {},
     "output_type": "execute_result"
    }
   ],
   "source": [
    "train_dataloader = DataLoader(dataset=train_dataset, batch_size=2, shuffle=True)\n",
    "train_dataloader"
   ]
  },
  {
   "cell_type": "code",
   "execution_count": 20,
   "metadata": {},
   "outputs": [
    {
     "data": {
      "text/plain": [
       "<torch_geometric.loader.dataloader.DataLoader at 0x1da68950610>"
      ]
     },
     "execution_count": 20,
     "metadata": {},
     "output_type": "execute_result"
    }
   ],
   "source": [
    "val_dataloader = DataLoader(dataset=val_dataset, batch_size=2, shuffle=False)\n",
    "val_dataloader"
   ]
  },
  {
   "cell_type": "code",
   "execution_count": 21,
   "metadata": {},
   "outputs": [
    {
     "name": "stdout",
     "output_type": "stream",
     "text": [
      "DataBatch(edge_index=[2, 528], x=[150, 4], y=[2], batch=[150], ptr=[3])\n",
      "x: \t\t torch.Size([150, 4])\n",
      "edge_index: \t torch.Size([2, 528])\n",
      "batch: \t\t torch.Size([150])\n",
      "y: \t\t torch.Size([2])\n",
      "y: \t\t tensor([[0],\n",
      "        [2],\n",
      "        [3],\n",
      "        [4]])\n",
      "DataBatch(edge_index=[2, 174], x=[50, 4], y=[2], batch=[50], ptr=[3])\n",
      "x: \t\t torch.Size([50, 4])\n",
      "edge_index: \t torch.Size([2, 174])\n",
      "batch: \t\t torch.Size([50])\n",
      "y: \t\t torch.Size([2])\n",
      "y: \t\t tensor([[0],\n",
      "        [2],\n",
      "        [3],\n",
      "        [4]])\n",
      "DataBatch(edge_index=[2, 386], x=[96, 4], y=[2], batch=[96], ptr=[3])\n",
      "x: \t\t torch.Size([96, 4])\n",
      "edge_index: \t torch.Size([2, 386])\n",
      "batch: \t\t torch.Size([96])\n",
      "y: \t\t torch.Size([2])\n",
      "y: \t\t tensor([[0],\n",
      "        [2],\n",
      "        [3],\n",
      "        [4]])\n",
      "DataBatch(edge_index=[2, 262], x=[64, 4], y=[2], batch=[64], ptr=[3])\n",
      "x: \t\t torch.Size([64, 4])\n",
      "edge_index: \t torch.Size([2, 262])\n",
      "batch: \t\t torch.Size([64])\n",
      "y: \t\t torch.Size([2])\n",
      "y: \t\t tensor([[0],\n",
      "        [2],\n",
      "        [3],\n",
      "        [4]])\n",
      "DataBatch(edge_index=[2, 242], x=[76, 4], y=[2], batch=[76], ptr=[3])\n",
      "x: \t\t torch.Size([76, 4])\n",
      "edge_index: \t torch.Size([2, 242])\n",
      "batch: \t\t torch.Size([76])\n",
      "y: \t\t torch.Size([2])\n",
      "y: \t\t tensor([[0],\n",
      "        [2],\n",
      "        [3],\n",
      "        [4]])\n",
      "DataBatch(edge_index=[2, 140], x=[41, 4], y=[2], batch=[41], ptr=[3])\n",
      "x: \t\t torch.Size([41, 4])\n",
      "edge_index: \t torch.Size([2, 140])\n",
      "batch: \t\t torch.Size([41])\n",
      "y: \t\t torch.Size([2])\n",
      "y: \t\t tensor([[0],\n",
      "        [2],\n",
      "        [3],\n",
      "        [4]])\n"
     ]
    }
   ],
   "source": [
    "for i, batch in enumerate(train_dataloader):\n",
    "    print(batch)\n",
    "    print(\n",
    "        \"x: \\t\\t\", batch.x.shape\n",
    "    )  # [batch_sum, num_features] 图的每一条数据的长度不一定相等,batch_sum代表这个batch中的全部节点数据\n",
    "    print(\"edge_index: \\t\", batch.edge_index.shape)  # 代表边的连接\n",
    "    print(\n",
    "        \"batch: \\t\\t\", batch.batch.shape\n",
    "    )  # batch代表是这个batch中哪一些数据是一组的. 0为1组,1为1组...\n",
    "    # print(\"batch: \\t\\t\",    batch.batch)\n",
    "    print(\"y: \\t\\t\", batch.y.shape)  # 类别\n",
    "    print(\"y: \\t\\t\", y)\n",
    "    if i >= 5:\n",
    "        break"
   ]
  },
  {
   "cell_type": "code",
   "execution_count": 22,
   "metadata": {},
   "outputs": [
    {
     "data": {
      "text/plain": [
       "torch.Size([41, 4])"
      ]
     },
     "execution_count": 22,
     "metadata": {},
     "output_type": "execute_result"
    }
   ],
   "source": [
    "batch.x.shape"
   ]
  },
  {
   "cell_type": "markdown",
   "metadata": {},
   "source": [
    "# Model"
   ]
  },
  {
   "cell_type": "code",
   "execution_count": 23,
   "metadata": {},
   "outputs": [],
   "source": [
    "class Net(nn.Module):\n",
    "    def __init__(\n",
    "        self,\n",
    "        conv: nn.Module = gnn.GraphConv,  # [GraphConv, GCNConv, SAGEConv, GATConv]\n",
    "        norm: nn.Module = nn.BatchNorm1d,  # [BatchNorm1d, LayerNorm, InstanceNorm1d]\n",
    "        act: nn.Module = nn.ReLU,\n",
    "    ) -> None:\n",
    "        super().__init__()\n",
    "        self.conv1 = conv(in_channels=dataset.num_features, out_channels=64)\n",
    "        self.norm1 = norm(64)\n",
    "        self.act1 = act()\n",
    "\n",
    "        self.conv2 = conv(in_channels=64, out_channels=64)\n",
    "        self.norm2 = norm(64)\n",
    "        self.act2 = act()\n",
    "\n",
    "        self.conv3 = conv(in_channels=64, out_channels=64)\n",
    "        self.norm3 = norm(64)\n",
    "        self.act3 = act()\n",
    "\n",
    "        self.fc = nn.Linear(in_features=64, out_features=dataset.num_classes)\n",
    "\n",
    "    def forward(self, x: Tensor, edge_index: Tensor, batch: Tensor = None) -> Tensor:\n",
    "        x = self.conv1(x, edge_index)\n",
    "        x = self.norm1(x)\n",
    "        x = self.act1(x)\n",
    "\n",
    "        res = x\n",
    "        x = self.conv2(x, edge_index)\n",
    "        x = self.norm2(x)\n",
    "        x = self.act2(x)\n",
    "        x = x + res\n",
    "\n",
    "        res = x\n",
    "        x = self.conv3(x, edge_index)\n",
    "        x = self.norm3(x)\n",
    "        x = self.act3(x)\n",
    "        x = x + res\n",
    "\n",
    "        # global_max_pool: 将节点嵌入聚合到一个统一的图嵌入(readout layer)中\n",
    "        x = gnn.global_max_pool(\n",
    "            x, batch\n",
    "        )  # [batch_sum, num_features] -> [batch, num_features]\n",
    "\n",
    "        x = self.fc(x)\n",
    "        return x"
   ]
  },
  {
   "cell_type": "code",
   "execution_count": 24,
   "metadata": {},
   "outputs": [
    {
     "data": {
      "text/plain": [
       "Net(\n",
       "  (conv1): GraphConv(4, 64)\n",
       "  (norm1): BatchNorm1d(64, eps=1e-05, momentum=0.1, affine=True, track_running_stats=True)\n",
       "  (act1): ReLU()\n",
       "  (conv2): GraphConv(64, 64)\n",
       "  (norm2): BatchNorm1d(64, eps=1e-05, momentum=0.1, affine=True, track_running_stats=True)\n",
       "  (act2): ReLU()\n",
       "  (fc): Linear(in_features=64, out_features=2, bias=True)\n",
       ")"
      ]
     },
     "execution_count": 24,
     "metadata": {},
     "output_type": "execute_result"
    }
   ],
   "source": [
    "net = Net().to(device)\n",
    "net"
   ]
  },
  {
   "cell_type": "code",
   "execution_count": 25,
   "metadata": {},
   "outputs": [
    {
     "data": {
      "text/plain": [
       "Adam (\n",
       "Parameter Group 0\n",
       "    amsgrad: False\n",
       "    betas: (0.9, 0.999)\n",
       "    capturable: False\n",
       "    differentiable: False\n",
       "    eps: 1e-08\n",
       "    foreach: None\n",
       "    fused: None\n",
       "    lr: 0.001\n",
       "    maximize: False\n",
       "    weight_decay: 0\n",
       ")"
      ]
     },
     "execution_count": 25,
     "metadata": {},
     "output_type": "execute_result"
    }
   ],
   "source": [
    "optimizer = optim.Adam(params=net.parameters())\n",
    "optimizer"
   ]
  },
  {
   "cell_type": "code",
   "execution_count": 26,
   "metadata": {},
   "outputs": [],
   "source": [
    "epochs = 100"
   ]
  },
  {
   "cell_type": "code",
   "execution_count": 27,
   "metadata": {},
   "outputs": [
    {
     "data": {
      "text/plain": [
       "<torch.optim.lr_scheduler.CosineAnnealingLR at 0x1da68b35f50>"
      ]
     },
     "execution_count": 27,
     "metadata": {},
     "output_type": "execute_result"
    }
   ],
   "source": [
    "lr_scheduler = optim.lr_scheduler.CosineAnnealingLR(\n",
    "    optimizer=optimizer,\n",
    "    T_max=epochs,\n",
    "    eta_min=optimizer.state_dict()[\"param_groups\"][0][\"lr\"] * 0.01,\n",
    ")\n",
    "lr_scheduler"
   ]
  },
  {
   "cell_type": "code",
   "execution_count": 28,
   "metadata": {},
   "outputs": [
    {
     "data": {
      "text/plain": [
       "CrossEntropyLoss()"
      ]
     },
     "execution_count": 28,
     "metadata": {},
     "output_type": "execute_result"
    }
   ],
   "source": [
    "loss_fn = nn.CrossEntropyLoss()\n",
    "loss_fn"
   ]
  },
  {
   "cell_type": "markdown",
   "metadata": {},
   "source": [
    "# train"
   ]
  },
  {
   "cell_type": "code",
   "execution_count": 29,
   "metadata": {},
   "outputs": [
    {
     "name": "stderr",
     "output_type": "stream",
     "text": [
      "train-epoch: 1: 100%|██████████| 446/446 [00:20<00:00, 21.26it/s, loss=0.356] \n",
      "val-epoch: 1: 100%|██████████| 111/111 [00:04<00:00, 25.99it/s, loss=0.513]\n"
     ]
    },
    {
     "name": "stdout",
     "output_type": "stream",
     "text": [
      "\u001b[0;31;40mepoch: 1\u001b[0m \u001b[0;32;40mtrain_accuracy = 0.6217733025550842\u001b[0m \u001b[0;34;40mval_accuracy = 0.6936936974525452\u001b[0m\n"
     ]
    },
    {
     "name": "stderr",
     "output_type": "stream",
     "text": [
      "train-epoch: 2: 100%|██████████| 446/446 [00:20<00:00, 21.99it/s, loss=1.6]   \n",
      "val-epoch: 2: 100%|██████████| 111/111 [00:04<00:00, 25.73it/s, loss=0.158] \n"
     ]
    },
    {
     "name": "stdout",
     "output_type": "stream",
     "text": [
      "\u001b[0;31;40mepoch: 2\u001b[0m \u001b[0;32;40mtrain_accuracy = 0.6677890419960022\u001b[0m \u001b[0;34;40mval_accuracy = 0.7027027010917664\u001b[0m\n"
     ]
    },
    {
     "name": "stderr",
     "output_type": "stream",
     "text": [
      "train-epoch: 3: 100%|██████████| 446/446 [00:20<00:00, 22.10it/s, loss=0.364] \n",
      "val-epoch: 3: 100%|██████████| 111/111 [00:04<00:00, 26.55it/s, loss=0.723]\n"
     ]
    },
    {
     "name": "stdout",
     "output_type": "stream",
     "text": [
      "\u001b[0;31;40mepoch: 3\u001b[0m \u001b[0;32;40mtrain_accuracy = 0.7070707678794861\u001b[0m \u001b[0;34;40mval_accuracy = 0.5765765905380249\u001b[0m\n"
     ]
    },
    {
     "name": "stderr",
     "output_type": "stream",
     "text": [
      "train-epoch: 4: 100%|██████████| 446/446 [00:20<00:00, 21.87it/s, loss=0.411] \n",
      "val-epoch: 4: 100%|██████████| 111/111 [00:04<00:00, 25.20it/s, loss=0.378]\n"
     ]
    },
    {
     "name": "stdout",
     "output_type": "stream",
     "text": [
      "\u001b[0;31;40mepoch: 4\u001b[0m \u001b[0;32;40mtrain_accuracy = 0.7014590501785278\u001b[0m \u001b[0;34;40mval_accuracy = 0.7522522807121277\u001b[0m\n"
     ]
    },
    {
     "name": "stderr",
     "output_type": "stream",
     "text": [
      "train-epoch: 5: 100%|██████████| 446/446 [00:20<00:00, 21.91it/s, loss=0.127] \n",
      "val-epoch: 5: 100%|██████████| 111/111 [00:04<00:00, 26.14it/s, loss=0.987]\n"
     ]
    },
    {
     "name": "stdout",
     "output_type": "stream",
     "text": [
      "\u001b[0;31;40mepoch: 5\u001b[0m \u001b[0;32;40mtrain_accuracy = 0.711560070514679\u001b[0m \u001b[0;34;40mval_accuracy = 0.5720720887184143\u001b[0m\n"
     ]
    },
    {
     "name": "stderr",
     "output_type": "stream",
     "text": [
      "train-epoch: 6: 100%|██████████| 446/446 [00:20<00:00, 22.02it/s, loss=0.613] \n",
      "val-epoch: 6: 100%|██████████| 111/111 [00:04<00:00, 25.53it/s, loss=0.196]\n"
     ]
    },
    {
     "name": "stdout",
     "output_type": "stream",
     "text": [
      "\u001b[0;31;40mepoch: 6\u001b[0m \u001b[0;32;40mtrain_accuracy = 0.7351291179656982\u001b[0m \u001b[0;34;40mval_accuracy = 0.7612612843513489\u001b[0m\n"
     ]
    },
    {
     "name": "stderr",
     "output_type": "stream",
     "text": [
      "train-epoch: 7: 100%|██████████| 446/446 [00:20<00:00, 21.58it/s, loss=0.0605]\n",
      "val-epoch: 7: 100%|██████████| 111/111 [00:04<00:00, 25.54it/s, loss=0.248] \n"
     ]
    },
    {
     "name": "stdout",
     "output_type": "stream",
     "text": [
      "\u001b[0;31;40mepoch: 7\u001b[0m \u001b[0;32;40mtrain_accuracy = 0.7351291179656982\u001b[0m \u001b[0;34;40mval_accuracy = 0.7432432770729065\u001b[0m\n"
     ]
    },
    {
     "name": "stderr",
     "output_type": "stream",
     "text": [
      "train-epoch: 8: 100%|██████████| 446/446 [00:20<00:00, 22.03it/s, loss=0.0409]\n",
      "val-epoch: 8: 100%|██████████| 111/111 [00:04<00:00, 26.18it/s, loss=0.0746]\n"
     ]
    },
    {
     "name": "stdout",
     "output_type": "stream",
     "text": [
      "\u001b[0;31;40mepoch: 8\u001b[0m \u001b[0;32;40mtrain_accuracy = 0.7396184206008911\u001b[0m \u001b[0;34;40mval_accuracy = 0.7612612843513489\u001b[0m\n"
     ]
    },
    {
     "name": "stderr",
     "output_type": "stream",
     "text": [
      "train-epoch: 9: 100%|██████████| 446/446 [00:20<00:00, 22.11it/s, loss=0.162] \n",
      "val-epoch: 9: 100%|██████████| 111/111 [00:04<00:00, 24.17it/s, loss=0.365]\n"
     ]
    },
    {
     "name": "stdout",
     "output_type": "stream",
     "text": [
      "\u001b[0;31;40mepoch: 9\u001b[0m \u001b[0;32;40mtrain_accuracy = 0.7362514138221741\u001b[0m \u001b[0;34;40mval_accuracy = 0.7612612843513489\u001b[0m\n"
     ]
    },
    {
     "name": "stderr",
     "output_type": "stream",
     "text": [
      "train-epoch: 10: 100%|██████████| 446/446 [00:20<00:00, 22.03it/s, loss=0.237] \n",
      "val-epoch: 10: 100%|██████████| 111/111 [00:04<00:00, 25.65it/s, loss=0.178] \n"
     ]
    },
    {
     "name": "stdout",
     "output_type": "stream",
     "text": [
      "\u001b[0;31;40mepoch: 10\u001b[0m \u001b[0;32;40mtrain_accuracy = 0.7620651125907898\u001b[0m \u001b[0;34;40mval_accuracy = 0.7612612843513489\u001b[0m\n"
     ]
    },
    {
     "name": "stderr",
     "output_type": "stream",
     "text": [
      "train-epoch: 11: 100%|██████████| 446/446 [00:19<00:00, 23.18it/s, loss=0.233] \n",
      "val-epoch: 11: 100%|██████████| 111/111 [00:00<00:00, 134.01it/s, loss=0.291] \n"
     ]
    },
    {
     "name": "stdout",
     "output_type": "stream",
     "text": [
      "\u001b[0;31;40mepoch: 11\u001b[0m \u001b[0;32;40mtrain_accuracy = 0.767676830291748\u001b[0m \u001b[0;34;40mval_accuracy = 0.7297297716140747\u001b[0m\n"
     ]
    },
    {
     "name": "stderr",
     "output_type": "stream",
     "text": [
      "train-epoch: 12: 100%|██████████| 446/446 [00:04<00:00, 103.80it/s, loss=0.419] \n",
      "val-epoch: 12: 100%|██████████| 111/111 [00:00<00:00, 157.44it/s, loss=0.0446]\n"
     ]
    },
    {
     "name": "stdout",
     "output_type": "stream",
     "text": [
      "\u001b[0;31;40mepoch: 12\u001b[0m \u001b[0;32;40mtrain_accuracy = 0.7620651125907898\u001b[0m \u001b[0;34;40mval_accuracy = 0.7117117047309875\u001b[0m\n"
     ]
    },
    {
     "name": "stderr",
     "output_type": "stream",
     "text": [
      "train-epoch: 13: 100%|██████████| 446/446 [00:10<00:00, 42.51it/s, loss=0.0848] \n",
      "val-epoch: 13: 100%|██████████| 111/111 [00:00<00:00, 175.36it/s, loss=0.121] \n"
     ]
    },
    {
     "name": "stdout",
     "output_type": "stream",
     "text": [
      "\u001b[0;31;40mepoch: 13\u001b[0m \u001b[0;32;40mtrain_accuracy = 0.7631874680519104\u001b[0m \u001b[0;34;40mval_accuracy = 0.7657657861709595\u001b[0m\n"
     ]
    },
    {
     "name": "stderr",
     "output_type": "stream",
     "text": [
      "train-epoch: 14: 100%|██████████| 446/446 [00:18<00:00, 24.03it/s, loss=0.404]  \n",
      "val-epoch: 14: 100%|██████████| 111/111 [00:04<00:00, 25.88it/s, loss=0.111] \n"
     ]
    },
    {
     "name": "stdout",
     "output_type": "stream",
     "text": [
      "\u001b[0;31;40mepoch: 14\u001b[0m \u001b[0;32;40mtrain_accuracy = 0.7811447978019714\u001b[0m \u001b[0;34;40mval_accuracy = 0.7342342734336853\u001b[0m\n"
     ]
    },
    {
     "name": "stderr",
     "output_type": "stream",
     "text": [
      "train-epoch: 15: 100%|██████████| 446/446 [00:20<00:00, 21.58it/s, loss=0.295] \n",
      "val-epoch: 15: 100%|██████████| 111/111 [00:04<00:00, 26.94it/s, loss=0.153] \n"
     ]
    },
    {
     "name": "stdout",
     "output_type": "stream",
     "text": [
      "\u001b[0;31;40mepoch: 15\u001b[0m \u001b[0;32;40mtrain_accuracy = 0.8024691939353943\u001b[0m \u001b[0;34;40mval_accuracy = 0.7432432770729065\u001b[0m\n"
     ]
    },
    {
     "name": "stderr",
     "output_type": "stream",
     "text": [
      "train-epoch: 16: 100%|██████████| 446/446 [00:20<00:00, 21.63it/s, loss=0.0801]\n",
      "val-epoch: 16: 100%|██████████| 111/111 [00:04<00:00, 26.26it/s, loss=0.062] \n"
     ]
    },
    {
     "name": "stdout",
     "output_type": "stream",
     "text": [
      "\u001b[0;31;40mepoch: 16\u001b[0m \u001b[0;32;40mtrain_accuracy = 0.7833895087242126\u001b[0m \u001b[0;34;40mval_accuracy = 0.7342342734336853\u001b[0m\n"
     ]
    },
    {
     "name": "stderr",
     "output_type": "stream",
     "text": [
      "train-epoch: 17: 100%|██████████| 446/446 [00:20<00:00, 21.91it/s, loss=0.115] \n",
      "val-epoch: 17: 100%|██████████| 111/111 [00:04<00:00, 26.77it/s, loss=0.0617]\n"
     ]
    },
    {
     "name": "stdout",
     "output_type": "stream",
     "text": [
      "\u001b[0;31;40mepoch: 17\u001b[0m \u001b[0;32;40mtrain_accuracy = 0.8103255033493042\u001b[0m \u001b[0;34;40mval_accuracy = 0.7567567825317383\u001b[0m\n"
     ]
    },
    {
     "name": "stderr",
     "output_type": "stream",
     "text": [
      "train-epoch: 18: 100%|██████████| 446/446 [00:20<00:00, 21.57it/s, loss=0.13]  \n",
      "val-epoch: 18: 100%|██████████| 111/111 [00:04<00:00, 25.67it/s, loss=0.0815]\n"
     ]
    },
    {
     "name": "stdout",
     "output_type": "stream",
     "text": [
      "\u001b[0;31;40mepoch: 18\u001b[0m \u001b[0;32;40mtrain_accuracy = 0.8047138452529907\u001b[0m \u001b[0;34;40mval_accuracy = 0.7162162065505981\u001b[0m\n"
     ]
    },
    {
     "name": "stderr",
     "output_type": "stream",
     "text": [
      "train-epoch: 19: 100%|██████████| 446/446 [00:20<00:00, 21.97it/s, loss=0.228] \n",
      "val-epoch: 19: 100%|██████████| 111/111 [00:04<00:00, 25.83it/s, loss=0.0937]\n"
     ]
    },
    {
     "name": "stdout",
     "output_type": "stream",
     "text": [
      "\u001b[0;31;40mepoch: 19\u001b[0m \u001b[0;32;40mtrain_accuracy = 0.8058362007141113\u001b[0m \u001b[0;34;40mval_accuracy = 0.6576576828956604\u001b[0m\n"
     ]
    },
    {
     "name": "stderr",
     "output_type": "stream",
     "text": [
      "train-epoch: 20: 100%|██████████| 446/446 [00:20<00:00, 21.78it/s, loss=0.231]  \n",
      "val-epoch: 20: 100%|██████████| 111/111 [00:04<00:00, 25.44it/s, loss=0.179] \n"
     ]
    },
    {
     "name": "stdout",
     "output_type": "stream",
     "text": [
      "\u001b[0;31;40mepoch: 20\u001b[0m \u001b[0;32;40mtrain_accuracy = 0.8181818723678589\u001b[0m \u001b[0;34;40mval_accuracy = 0.7522522807121277\u001b[0m\n"
     ]
    },
    {
     "name": "stderr",
     "output_type": "stream",
     "text": [
      "train-epoch: 21: 100%|██████████| 446/446 [00:20<00:00, 21.40it/s, loss=0.0581]\n",
      "val-epoch: 21: 100%|██████████| 111/111 [00:04<00:00, 25.19it/s, loss=0.0526] \n"
     ]
    },
    {
     "name": "stdout",
     "output_type": "stream",
     "text": [
      "\u001b[0;31;40mepoch: 21\u001b[0m \u001b[0;32;40mtrain_accuracy = 0.8350168466567993\u001b[0m \u001b[0;34;40mval_accuracy = 0.7387387752532959\u001b[0m\n"
     ]
    },
    {
     "name": "stderr",
     "output_type": "stream",
     "text": [
      "train-epoch: 22: 100%|██████████| 446/446 [00:20<00:00, 22.05it/s, loss=0.404] \n",
      "val-epoch: 22: 100%|██████████| 111/111 [00:04<00:00, 25.87it/s, loss=0.0287] \n"
     ]
    },
    {
     "name": "stdout",
     "output_type": "stream",
     "text": [
      "\u001b[0;31;40mepoch: 22\u001b[0m \u001b[0;32;40mtrain_accuracy = 0.8215488791465759\u001b[0m \u001b[0;34;40mval_accuracy = 0.7567567825317383\u001b[0m\n"
     ]
    },
    {
     "name": "stderr",
     "output_type": "stream",
     "text": [
      "train-epoch: 23: 100%|██████████| 446/446 [00:20<00:00, 21.85it/s, loss=0.766] \n",
      "val-epoch: 23: 100%|██████████| 111/111 [00:04<00:00, 25.81it/s, loss=0.0356]\n"
     ]
    },
    {
     "name": "stdout",
     "output_type": "stream",
     "text": [
      "\u001b[0;31;40mepoch: 23\u001b[0m \u001b[0;32;40mtrain_accuracy = 0.8069584965705872\u001b[0m \u001b[0;34;40mval_accuracy = 0.7432432770729065\u001b[0m\n"
     ]
    },
    {
     "name": "stderr",
     "output_type": "stream",
     "text": [
      "train-epoch: 24: 100%|██████████| 446/446 [00:20<00:00, 21.87it/s, loss=0.0127] \n",
      "val-epoch: 24: 100%|██████████| 111/111 [00:04<00:00, 26.72it/s, loss=0.063] \n"
     ]
    },
    {
     "name": "stdout",
     "output_type": "stream",
     "text": [
      "\u001b[0;31;40mepoch: 24\u001b[0m \u001b[0;32;40mtrain_accuracy = 0.8473625779151917\u001b[0m \u001b[0;34;40mval_accuracy = 0.7477477788925171\u001b[0m\n"
     ]
    },
    {
     "name": "stderr",
     "output_type": "stream",
     "text": [
      "train-epoch: 25: 100%|██████████| 446/446 [00:20<00:00, 22.20it/s, loss=0.116]  \n",
      "val-epoch: 25: 100%|██████████| 111/111 [00:04<00:00, 24.91it/s, loss=0.149] \n"
     ]
    },
    {
     "name": "stdout",
     "output_type": "stream",
     "text": [
      "\u001b[0;31;40mepoch: 25\u001b[0m \u001b[0;32;40mtrain_accuracy = 0.8473625779151917\u001b[0m \u001b[0;34;40mval_accuracy = 0.7252252697944641\u001b[0m\n"
     ]
    },
    {
     "name": "stderr",
     "output_type": "stream",
     "text": [
      "train-epoch: 26: 100%|██████████| 446/446 [00:20<00:00, 22.15it/s, loss=0.388] \n",
      "val-epoch: 26: 100%|██████████| 111/111 [00:04<00:00, 26.06it/s, loss=0.0563] \n"
     ]
    },
    {
     "name": "stdout",
     "output_type": "stream",
     "text": [
      "\u001b[0;31;40mepoch: 26\u001b[0m \u001b[0;32;40mtrain_accuracy = 0.8451178669929504\u001b[0m \u001b[0;34;40mval_accuracy = 0.7207207679748535\u001b[0m\n"
     ]
    },
    {
     "name": "stderr",
     "output_type": "stream",
     "text": [
      "train-epoch: 27: 100%|██████████| 446/446 [00:20<00:00, 22.21it/s, loss=0.105]  \n",
      "val-epoch: 27: 100%|██████████| 111/111 [00:04<00:00, 26.13it/s, loss=0.018] \n"
     ]
    },
    {
     "name": "stdout",
     "output_type": "stream",
     "text": [
      "\u001b[0;31;40mepoch: 27\u001b[0m \u001b[0;32;40mtrain_accuracy = 0.8294051885604858\u001b[0m \u001b[0;34;40mval_accuracy = 0.6981981992721558\u001b[0m\n"
     ]
    },
    {
     "name": "stderr",
     "output_type": "stream",
     "text": [
      "train-epoch: 28: 100%|██████████| 446/446 [00:20<00:00, 21.89it/s, loss=0.0036] \n",
      "val-epoch: 28: 100%|██████████| 111/111 [00:04<00:00, 26.94it/s, loss=0.0105] \n"
     ]
    },
    {
     "name": "stdout",
     "output_type": "stream",
     "text": [
      "\u001b[0;31;40mepoch: 28\u001b[0m \u001b[0;32;40mtrain_accuracy = 0.839506208896637\u001b[0m \u001b[0;34;40mval_accuracy = 0.7387387752532959\u001b[0m\n"
     ]
    },
    {
     "name": "stderr",
     "output_type": "stream",
     "text": [
      "train-epoch: 29: 100%|██████████| 446/446 [00:20<00:00, 21.96it/s, loss=0.0116] \n",
      "val-epoch: 29: 100%|██████████| 111/111 [00:04<00:00, 24.80it/s, loss=0.0413]\n"
     ]
    },
    {
     "name": "stdout",
     "output_type": "stream",
     "text": [
      "\u001b[0;31;40mepoch: 29\u001b[0m \u001b[0;32;40mtrain_accuracy = 0.8406285643577576\u001b[0m \u001b[0;34;40mval_accuracy = 0.7477477788925171\u001b[0m\n"
     ]
    },
    {
     "name": "stderr",
     "output_type": "stream",
     "text": [
      "train-epoch: 30: 100%|██████████| 446/446 [00:20<00:00, 22.20it/s, loss=0.0871] \n",
      "val-epoch: 30: 100%|██████████| 111/111 [00:04<00:00, 25.78it/s, loss=0.0149]\n"
     ]
    },
    {
     "name": "stdout",
     "output_type": "stream",
     "text": [
      "\u001b[0;31;40mepoch: 30\u001b[0m \u001b[0;32;40mtrain_accuracy = 0.8316498398780823\u001b[0m \u001b[0;34;40mval_accuracy = 0.7252252697944641\u001b[0m\n"
     ]
    },
    {
     "name": "stderr",
     "output_type": "stream",
     "text": [
      "train-epoch: 31: 100%|██████████| 446/446 [00:20<00:00, 21.78it/s, loss=0.0219] \n",
      "val-epoch: 31: 100%|██████████| 111/111 [00:04<00:00, 25.29it/s, loss=0.0215]\n"
     ]
    },
    {
     "name": "stdout",
     "output_type": "stream",
     "text": [
      "\u001b[0;31;40mepoch: 31\u001b[0m \u001b[0;32;40mtrain_accuracy = 0.8518518805503845\u001b[0m \u001b[0;34;40mval_accuracy = 0.7387387752532959\u001b[0m\n"
     ]
    },
    {
     "name": "stderr",
     "output_type": "stream",
     "text": [
      "train-epoch: 32: 100%|██████████| 446/446 [00:20<00:00, 22.01it/s, loss=0.0208] \n",
      "val-epoch: 32: 100%|██████████| 111/111 [00:02<00:00, 44.01it/s, loss=0.0465] \n"
     ]
    },
    {
     "name": "stdout",
     "output_type": "stream",
     "text": [
      "\u001b[0;31;40mepoch: 32\u001b[0m \u001b[0;32;40mtrain_accuracy = 0.8619529008865356\u001b[0m \u001b[0;34;40mval_accuracy = 0.7432432770729065\u001b[0m\n"
     ]
    },
    {
     "name": "stderr",
     "output_type": "stream",
     "text": [
      "train-epoch: 33: 100%|██████████| 446/446 [00:15<00:00, 28.81it/s, loss=0.264]  \n",
      "val-epoch: 33: 100%|██████████| 111/111 [00:04<00:00, 25.58it/s, loss=0.104]  \n"
     ]
    },
    {
     "name": "stdout",
     "output_type": "stream",
     "text": [
      "\u001b[0;31;40mepoch: 33\u001b[0m \u001b[0;32;40mtrain_accuracy = 0.8597082495689392\u001b[0m \u001b[0;34;40mval_accuracy = 0.7432432770729065\u001b[0m\n"
     ]
    },
    {
     "name": "stderr",
     "output_type": "stream",
     "text": [
      "train-epoch: 34: 100%|██████████| 446/446 [00:20<00:00, 21.90it/s, loss=0.0547] \n",
      "val-epoch: 34: 100%|██████████| 111/111 [00:04<00:00, 25.90it/s, loss=0.0533]\n"
     ]
    },
    {
     "name": "stdout",
     "output_type": "stream",
     "text": [
      "\u001b[0;31;40mepoch: 34\u001b[0m \u001b[0;32;40mtrain_accuracy = 0.8720539212226868\u001b[0m \u001b[0;34;40mval_accuracy = 0.707207202911377\u001b[0m\n"
     ]
    },
    {
     "name": "stderr",
     "output_type": "stream",
     "text": [
      "train-epoch: 35: 100%|██████████| 446/446 [00:20<00:00, 22.01it/s, loss=0.339]  \n",
      "val-epoch: 35: 100%|██████████| 111/111 [00:04<00:00, 25.64it/s, loss=0.0368] \n"
     ]
    },
    {
     "name": "stdout",
     "output_type": "stream",
     "text": [
      "\u001b[0;31;40mepoch: 35\u001b[0m \u001b[0;32;40mtrain_accuracy = 0.8754209280014038\u001b[0m \u001b[0;34;40mval_accuracy = 0.7567567825317383\u001b[0m\n"
     ]
    },
    {
     "name": "stderr",
     "output_type": "stream",
     "text": [
      "train-epoch: 36: 100%|██████████| 446/446 [00:20<00:00, 21.98it/s, loss=0.354]  \n",
      "val-epoch: 36: 100%|██████████| 111/111 [00:04<00:00, 25.42it/s, loss=0.00477] \n"
     ]
    },
    {
     "name": "stdout",
     "output_type": "stream",
     "text": [
      "\u001b[0;31;40mepoch: 36\u001b[0m \u001b[0;32;40mtrain_accuracy = 0.8832772374153137\u001b[0m \u001b[0;34;40mval_accuracy = 0.7432432770729065\u001b[0m\n"
     ]
    },
    {
     "name": "stderr",
     "output_type": "stream",
     "text": [
      "train-epoch: 37: 100%|██████████| 446/446 [00:20<00:00, 22.20it/s, loss=0.314]  \n",
      "val-epoch: 37: 100%|██████████| 111/111 [00:04<00:00, 26.68it/s, loss=0.00831]\n"
     ]
    },
    {
     "name": "stdout",
     "output_type": "stream",
     "text": [
      "\u001b[0;31;40mepoch: 37\u001b[0m \u001b[0;32;40mtrain_accuracy = 0.8911336064338684\u001b[0m \u001b[0;34;40mval_accuracy = 0.7342342734336853\u001b[0m\n"
     ]
    },
    {
     "name": "stderr",
     "output_type": "stream",
     "text": [
      "train-epoch: 38: 100%|██████████| 446/446 [00:20<00:00, 21.56it/s, loss=0.346]  \n",
      "val-epoch: 38: 100%|██████████| 111/111 [00:04<00:00, 23.98it/s, loss=0.0316] \n"
     ]
    },
    {
     "name": "stdout",
     "output_type": "stream",
     "text": [
      "\u001b[0;31;40mepoch: 38\u001b[0m \u001b[0;32;40mtrain_accuracy = 0.8832772374153137\u001b[0m \u001b[0;34;40mval_accuracy = 0.7387387752532959\u001b[0m\n"
     ]
    },
    {
     "name": "stderr",
     "output_type": "stream",
     "text": [
      "train-epoch: 39: 100%|██████████| 446/446 [00:20<00:00, 21.76it/s, loss=0.00927]\n",
      "val-epoch: 39: 100%|██████████| 111/111 [00:04<00:00, 25.47it/s, loss=0.0428] \n"
     ]
    },
    {
     "name": "stdout",
     "output_type": "stream",
     "text": [
      "\u001b[0;31;40mepoch: 39\u001b[0m \u001b[0;32;40mtrain_accuracy = 0.8956229090690613\u001b[0m \u001b[0;34;40mval_accuracy = 0.7477477788925171\u001b[0m\n"
     ]
    },
    {
     "name": "stderr",
     "output_type": "stream",
     "text": [
      "train-epoch: 40: 100%|██████████| 446/446 [00:20<00:00, 21.99it/s, loss=1.08]   \n",
      "val-epoch: 40: 100%|██████████| 111/111 [00:04<00:00, 25.93it/s, loss=0.0216]\n"
     ]
    },
    {
     "name": "stdout",
     "output_type": "stream",
     "text": [
      "\u001b[0;31;40mepoch: 40\u001b[0m \u001b[0;32;40mtrain_accuracy = 0.888888955116272\u001b[0m \u001b[0;34;40mval_accuracy = 0.7432432770729065\u001b[0m\n"
     ]
    },
    {
     "name": "stderr",
     "output_type": "stream",
     "text": [
      "train-epoch: 41: 100%|██████████| 446/446 [00:20<00:00, 21.49it/s, loss=0.231]   \n",
      "val-epoch: 41: 100%|██████████| 111/111 [00:04<00:00, 25.29it/s, loss=0.029]  \n"
     ]
    },
    {
     "name": "stdout",
     "output_type": "stream",
     "text": [
      "\u001b[0;31;40mepoch: 41\u001b[0m \u001b[0;32;40mtrain_accuracy = 0.8911336064338684\u001b[0m \u001b[0;34;40mval_accuracy = 0.7432432770729065\u001b[0m\n"
     ]
    },
    {
     "name": "stderr",
     "output_type": "stream",
     "text": [
      "train-epoch: 42: 100%|██████████| 446/446 [00:20<00:00, 21.86it/s, loss=0.0359] \n",
      "val-epoch: 42: 100%|██████████| 111/111 [00:04<00:00, 26.23it/s, loss=0.0395] \n"
     ]
    },
    {
     "name": "stdout",
     "output_type": "stream",
     "text": [
      "\u001b[0;31;40mepoch: 42\u001b[0m \u001b[0;32;40mtrain_accuracy = 0.892255961894989\u001b[0m \u001b[0;34;40mval_accuracy = 0.7612612843513489\u001b[0m\n"
     ]
    },
    {
     "name": "stderr",
     "output_type": "stream",
     "text": [
      "train-epoch: 43: 100%|██████████| 446/446 [00:20<00:00, 22.17it/s, loss=0.0952] \n",
      "val-epoch: 43: 100%|██████████| 111/111 [00:04<00:00, 24.78it/s, loss=0.116] \n"
     ]
    },
    {
     "name": "stdout",
     "output_type": "stream",
     "text": [
      "\u001b[0;31;40mepoch: 43\u001b[0m \u001b[0;32;40mtrain_accuracy = 0.8855219483375549\u001b[0m \u001b[0;34;40mval_accuracy = 0.6981981992721558\u001b[0m\n"
     ]
    },
    {
     "name": "stderr",
     "output_type": "stream",
     "text": [
      "train-epoch: 44: 100%|██████████| 446/446 [00:20<00:00, 22.15it/s, loss=0.132]  \n",
      "val-epoch: 44: 100%|██████████| 111/111 [00:04<00:00, 25.59it/s, loss=0.101]  \n"
     ]
    },
    {
     "name": "stdout",
     "output_type": "stream",
     "text": [
      "\u001b[0;31;40mepoch: 44\u001b[0m \u001b[0;32;40mtrain_accuracy = 0.8945006132125854\u001b[0m \u001b[0;34;40mval_accuracy = 0.7297297716140747\u001b[0m\n"
     ]
    },
    {
     "name": "stderr",
     "output_type": "stream",
     "text": [
      "train-epoch: 45: 100%|██████████| 446/446 [00:20<00:00, 21.95it/s, loss=0.182]  \n",
      "val-epoch: 45: 100%|██████████| 111/111 [00:04<00:00, 25.52it/s, loss=0.0374] \n"
     ]
    },
    {
     "name": "stdout",
     "output_type": "stream",
     "text": [
      "\u001b[0;31;40mepoch: 45\u001b[0m \u001b[0;32;40mtrain_accuracy = 0.906846284866333\u001b[0m \u001b[0;34;40mval_accuracy = 0.7252252697944641\u001b[0m\n"
     ]
    },
    {
     "name": "stderr",
     "output_type": "stream",
     "text": [
      "train-epoch: 46: 100%|██████████| 446/446 [00:20<00:00, 22.16it/s, loss=0.0723] \n",
      "val-epoch: 46: 100%|██████████| 111/111 [00:04<00:00, 26.94it/s, loss=0.0695]  \n"
     ]
    },
    {
     "name": "stdout",
     "output_type": "stream",
     "text": [
      "\u001b[0;31;40mepoch: 46\u001b[0m \u001b[0;32;40mtrain_accuracy = 0.8978676199913025\u001b[0m \u001b[0;34;40mval_accuracy = 0.7522522807121277\u001b[0m\n"
     ]
    },
    {
     "name": "stderr",
     "output_type": "stream",
     "text": [
      "train-epoch: 47: 100%|██████████| 446/446 [00:20<00:00, 21.76it/s, loss=0.0614] \n",
      "val-epoch: 47: 100%|██████████| 111/111 [00:04<00:00, 27.42it/s, loss=0.101]  \n"
     ]
    },
    {
     "name": "stdout",
     "output_type": "stream",
     "text": [
      "\u001b[0;31;40mepoch: 47\u001b[0m \u001b[0;32;40mtrain_accuracy = 0.9046016335487366\u001b[0m \u001b[0;34;40mval_accuracy = 0.707207202911377\u001b[0m\n"
     ]
    },
    {
     "name": "stderr",
     "output_type": "stream",
     "text": [
      "train-epoch: 48: 100%|██████████| 446/446 [00:20<00:00, 21.80it/s, loss=1.04]   \n",
      "val-epoch: 48: 100%|██████████| 111/111 [00:04<00:00, 25.59it/s, loss=0.0484]\n"
     ]
    },
    {
     "name": "stdout",
     "output_type": "stream",
     "text": [
      "\u001b[0;31;40mepoch: 48\u001b[0m \u001b[0;32;40mtrain_accuracy = 0.9147025942802429\u001b[0m \u001b[0;34;40mval_accuracy = 0.7702702879905701\u001b[0m\n"
     ]
    },
    {
     "name": "stderr",
     "output_type": "stream",
     "text": [
      "train-epoch: 49: 100%|██████████| 446/446 [00:20<00:00, 21.73it/s, loss=0.0176] \n",
      "val-epoch: 49: 100%|██████████| 111/111 [00:04<00:00, 25.48it/s, loss=0.0186] \n"
     ]
    },
    {
     "name": "stdout",
     "output_type": "stream",
     "text": [
      "\u001b[0;31;40mepoch: 49\u001b[0m \u001b[0;32;40mtrain_accuracy = 0.9090909361839294\u001b[0m \u001b[0;34;40mval_accuracy = 0.7432432770729065\u001b[0m\n"
     ]
    },
    {
     "name": "stderr",
     "output_type": "stream",
     "text": [
      "train-epoch: 50: 100%|██████████| 446/446 [00:20<00:00, 21.66it/s, loss=0.686]   \n",
      "val-epoch: 50: 100%|██████████| 111/111 [00:04<00:00, 24.57it/s, loss=0.0186] \n"
     ]
    },
    {
     "name": "stdout",
     "output_type": "stream",
     "text": [
      "\u001b[0;31;40mepoch: 50\u001b[0m \u001b[0;32;40mtrain_accuracy = 0.9147025942802429\u001b[0m \u001b[0;34;40mval_accuracy = 0.7342342734336853\u001b[0m\n"
     ]
    },
    {
     "name": "stderr",
     "output_type": "stream",
     "text": [
      "train-epoch: 51: 100%|██████████| 446/446 [00:20<00:00, 21.55it/s, loss=0.0266] \n",
      "val-epoch: 51: 100%|██████████| 111/111 [00:04<00:00, 25.49it/s, loss=0.0509]  \n"
     ]
    },
    {
     "name": "stdout",
     "output_type": "stream",
     "text": [
      "\u001b[0;31;40mepoch: 51\u001b[0m \u001b[0;32;40mtrain_accuracy = 0.9225589632987976\u001b[0m \u001b[0;34;40mval_accuracy = 0.7432432770729065\u001b[0m\n"
     ]
    },
    {
     "name": "stderr",
     "output_type": "stream",
     "text": [
      "train-epoch: 52: 100%|██████████| 446/446 [00:14<00:00, 30.14it/s, loss=0.118]   \n",
      "val-epoch: 52: 100%|██████████| 111/111 [00:04<00:00, 25.25it/s, loss=0.00851]\n"
     ]
    },
    {
     "name": "stdout",
     "output_type": "stream",
     "text": [
      "\u001b[0;31;40mepoch: 52\u001b[0m \u001b[0;32;40mtrain_accuracy = 0.9135802984237671\u001b[0m \u001b[0;34;40mval_accuracy = 0.7342342734336853\u001b[0m\n"
     ]
    },
    {
     "name": "stderr",
     "output_type": "stream",
     "text": [
      "train-epoch: 53: 100%|██████████| 446/446 [00:20<00:00, 21.85it/s, loss=0.784]  \n",
      "val-epoch: 53: 100%|██████████| 111/111 [00:04<00:00, 26.27it/s, loss=0.011]   \n"
     ]
    },
    {
     "name": "stdout",
     "output_type": "stream",
     "text": [
      "\u001b[0;31;40mepoch: 53\u001b[0m \u001b[0;32;40mtrain_accuracy = 0.91806960105896\u001b[0m \u001b[0;34;40mval_accuracy = 0.7522522807121277\u001b[0m\n"
     ]
    },
    {
     "name": "stderr",
     "output_type": "stream",
     "text": [
      "train-epoch: 54: 100%|██████████| 446/446 [00:20<00:00, 21.88it/s, loss=0.0649] \n",
      "val-epoch: 54: 100%|██████████| 111/111 [00:04<00:00, 24.96it/s, loss=0.0663] \n"
     ]
    },
    {
     "name": "stdout",
     "output_type": "stream",
     "text": [
      "\u001b[0;31;40mepoch: 54\u001b[0m \u001b[0;32;40mtrain_accuracy = 0.924803614616394\u001b[0m \u001b[0;34;40mval_accuracy = 0.7252252697944641\u001b[0m\n"
     ]
    },
    {
     "name": "stderr",
     "output_type": "stream",
     "text": [
      "train-epoch: 55: 100%|██████████| 446/446 [00:20<00:00, 21.85it/s, loss=0.268]  \n",
      "val-epoch: 55: 100%|██████████| 111/111 [00:04<00:00, 26.38it/s, loss=0.0314] \n"
     ]
    },
    {
     "name": "stdout",
     "output_type": "stream",
     "text": [
      "\u001b[0;31;40mepoch: 55\u001b[0m \u001b[0;32;40mtrain_accuracy = 0.9326599836349487\u001b[0m \u001b[0;34;40mval_accuracy = 0.7297297716140747\u001b[0m\n"
     ]
    },
    {
     "name": "stderr",
     "output_type": "stream",
     "text": [
      "train-epoch: 56: 100%|██████████| 446/446 [00:20<00:00, 21.64it/s, loss=2.72]   \n",
      "val-epoch: 56: 100%|██████████| 111/111 [00:04<00:00, 25.60it/s, loss=0.151]  \n"
     ]
    },
    {
     "name": "stdout",
     "output_type": "stream",
     "text": [
      "\u001b[0;31;40mepoch: 56\u001b[0m \u001b[0;32;40mtrain_accuracy = 0.9236813187599182\u001b[0m \u001b[0;34;40mval_accuracy = 0.6891891956329346\u001b[0m\n"
     ]
    },
    {
     "name": "stderr",
     "output_type": "stream",
     "text": [
      "train-epoch: 57: 100%|██████████| 446/446 [00:20<00:00, 21.65it/s, loss=1.74]    \n",
      "val-epoch: 57: 100%|██████████| 111/111 [00:04<00:00, 25.43it/s, loss=0.0258] \n"
     ]
    },
    {
     "name": "stdout",
     "output_type": "stream",
     "text": [
      "\u001b[0;31;40mepoch: 57\u001b[0m \u001b[0;32;40mtrain_accuracy = 0.9427610039710999\u001b[0m \u001b[0;34;40mval_accuracy = 0.7432432770729065\u001b[0m\n"
     ]
    },
    {
     "name": "stderr",
     "output_type": "stream",
     "text": [
      "train-epoch: 58: 100%|██████████| 446/446 [00:20<00:00, 21.25it/s, loss=1.27]    \n",
      "val-epoch: 58: 100%|██████████| 111/111 [00:04<00:00, 26.18it/s, loss=0.039]  \n"
     ]
    },
    {
     "name": "stdout",
     "output_type": "stream",
     "text": [
      "\u001b[0;31;40mepoch: 58\u001b[0m \u001b[0;32;40mtrain_accuracy = 0.9270483255386353\u001b[0m \u001b[0;34;40mval_accuracy = 0.7162162065505981\u001b[0m\n"
     ]
    },
    {
     "name": "stderr",
     "output_type": "stream",
     "text": [
      "train-epoch: 59: 100%|██████████| 446/446 [00:20<00:00, 21.30it/s, loss=0.00185]\n",
      "val-epoch: 59: 100%|██████████| 111/111 [00:04<00:00, 24.82it/s, loss=0.0985] \n"
     ]
    },
    {
     "name": "stdout",
     "output_type": "stream",
     "text": [
      "\u001b[0;31;40mepoch: 59\u001b[0m \u001b[0;32;40mtrain_accuracy = 0.9292929768562317\u001b[0m \u001b[0;34;40mval_accuracy = 0.7342342734336853\u001b[0m\n"
     ]
    },
    {
     "name": "stderr",
     "output_type": "stream",
     "text": [
      "train-epoch: 60: 100%|██████████| 446/446 [00:20<00:00, 21.65it/s, loss=0.0187] \n",
      "val-epoch: 60: 100%|██████████| 111/111 [00:04<00:00, 26.65it/s, loss=0.0418] \n"
     ]
    },
    {
     "name": "stdout",
     "output_type": "stream",
     "text": [
      "\u001b[0;31;40mepoch: 60\u001b[0m \u001b[0;32;40mtrain_accuracy = 0.9382716417312622\u001b[0m \u001b[0;34;40mval_accuracy = 0.7612612843513489\u001b[0m\n"
     ]
    },
    {
     "name": "stderr",
     "output_type": "stream",
     "text": [
      "train-epoch: 61: 100%|██████████| 446/446 [00:20<00:00, 21.74it/s, loss=0.201]  \n",
      "val-epoch: 61: 100%|██████████| 111/111 [00:04<00:00, 26.04it/s, loss=0.0167]  \n"
     ]
    },
    {
     "name": "stdout",
     "output_type": "stream",
     "text": [
      "\u001b[0;31;40mepoch: 61\u001b[0m \u001b[0;32;40mtrain_accuracy = 0.9393939971923828\u001b[0m \u001b[0;34;40mval_accuracy = 0.7387387752532959\u001b[0m\n"
     ]
    },
    {
     "name": "stderr",
     "output_type": "stream",
     "text": [
      "train-epoch: 62: 100%|██████████| 446/446 [00:20<00:00, 21.72it/s, loss=0.0556] \n",
      "val-epoch: 62: 100%|██████████| 111/111 [00:04<00:00, 27.04it/s, loss=0.115] \n"
     ]
    },
    {
     "name": "stdout",
     "output_type": "stream",
     "text": [
      "\u001b[0;31;40mepoch: 62\u001b[0m \u001b[0;32;40mtrain_accuracy = 0.9393939971923828\u001b[0m \u001b[0;34;40mval_accuracy = 0.7162162065505981\u001b[0m\n"
     ]
    },
    {
     "name": "stderr",
     "output_type": "stream",
     "text": [
      "train-epoch: 63: 100%|██████████| 446/446 [00:20<00:00, 21.97it/s, loss=0.191]  \n",
      "val-epoch: 63: 100%|██████████| 111/111 [00:04<00:00, 27.57it/s, loss=0.0065]  \n"
     ]
    },
    {
     "name": "stdout",
     "output_type": "stream",
     "text": [
      "\u001b[0;31;40mepoch: 63\u001b[0m \u001b[0;32;40mtrain_accuracy = 0.9393939971923828\u001b[0m \u001b[0;34;40mval_accuracy = 0.7432432770729065\u001b[0m\n"
     ]
    },
    {
     "name": "stderr",
     "output_type": "stream",
     "text": [
      "train-epoch: 64: 100%|██████████| 446/446 [00:19<00:00, 22.37it/s, loss=0.308]  \n",
      "val-epoch: 64: 100%|██████████| 111/111 [00:04<00:00, 26.21it/s, loss=0.024]  \n"
     ]
    },
    {
     "name": "stdout",
     "output_type": "stream",
     "text": [
      "\u001b[0;31;40mepoch: 64\u001b[0m \u001b[0;32;40mtrain_accuracy = 0.9259259700775146\u001b[0m \u001b[0;34;40mval_accuracy = 0.7342342734336853\u001b[0m\n"
     ]
    },
    {
     "name": "stderr",
     "output_type": "stream",
     "text": [
      "train-epoch: 65: 100%|██████████| 446/446 [00:19<00:00, 22.39it/s, loss=0.262]  \n",
      "val-epoch: 65: 100%|██████████| 111/111 [00:04<00:00, 24.80it/s, loss=0.0115] \n"
     ]
    },
    {
     "name": "stdout",
     "output_type": "stream",
     "text": [
      "\u001b[0;31;40mepoch: 65\u001b[0m \u001b[0;32;40mtrain_accuracy = 0.9360269904136658\u001b[0m \u001b[0;34;40mval_accuracy = 0.7207207679748535\u001b[0m\n"
     ]
    },
    {
     "name": "stderr",
     "output_type": "stream",
     "text": [
      "train-epoch: 66: 100%|██████████| 446/446 [00:20<00:00, 21.66it/s, loss=0.129]  \n",
      "val-epoch: 66: 100%|██████████| 111/111 [00:04<00:00, 26.14it/s, loss=0.0172] \n"
     ]
    },
    {
     "name": "stdout",
     "output_type": "stream",
     "text": [
      "\u001b[0;31;40mepoch: 66\u001b[0m \u001b[0;32;40mtrain_accuracy = 0.9360269904136658\u001b[0m \u001b[0;34;40mval_accuracy = 0.7387387752532959\u001b[0m\n"
     ]
    },
    {
     "name": "stderr",
     "output_type": "stream",
     "text": [
      "train-epoch: 67: 100%|██████████| 446/446 [00:20<00:00, 22.18it/s, loss=0.0438]  \n",
      "val-epoch: 67: 100%|██████████| 111/111 [00:04<00:00, 25.45it/s, loss=0.0806] \n"
     ]
    },
    {
     "name": "stdout",
     "output_type": "stream",
     "text": [
      "\u001b[0;31;40mepoch: 67\u001b[0m \u001b[0;32;40mtrain_accuracy = 0.952862024307251\u001b[0m \u001b[0;34;40mval_accuracy = 0.7117117047309875\u001b[0m\n"
     ]
    },
    {
     "name": "stderr",
     "output_type": "stream",
     "text": [
      "train-epoch: 68: 100%|██████████| 446/446 [00:20<00:00, 22.28it/s, loss=0.141]   \n",
      "val-epoch: 68: 100%|██████████| 111/111 [00:04<00:00, 26.80it/s, loss=0.00395] \n"
     ]
    },
    {
     "name": "stdout",
     "output_type": "stream",
     "text": [
      "\u001b[0;31;40mepoch: 68\u001b[0m \u001b[0;32;40mtrain_accuracy = 0.9326599836349487\u001b[0m \u001b[0;34;40mval_accuracy = 0.7297297716140747\u001b[0m\n"
     ]
    },
    {
     "name": "stderr",
     "output_type": "stream",
     "text": [
      "train-epoch: 69: 100%|██████████| 446/446 [00:19<00:00, 22.37it/s, loss=0.0968] \n",
      "val-epoch: 69: 100%|██████████| 111/111 [00:04<00:00, 26.05it/s, loss=0.0103] \n"
     ]
    },
    {
     "name": "stdout",
     "output_type": "stream",
     "text": [
      "\u001b[0;31;40mepoch: 69\u001b[0m \u001b[0;32;40mtrain_accuracy = 0.9595959782600403\u001b[0m \u001b[0;34;40mval_accuracy = 0.7162162065505981\u001b[0m\n"
     ]
    },
    {
     "name": "stderr",
     "output_type": "stream",
     "text": [
      "train-epoch: 70: 100%|██████████| 446/446 [00:19<00:00, 22.49it/s, loss=0.0951] \n",
      "val-epoch: 70: 100%|██████████| 111/111 [00:04<00:00, 26.60it/s, loss=0.0118] \n"
     ]
    },
    {
     "name": "stdout",
     "output_type": "stream",
     "text": [
      "\u001b[0;31;40mepoch: 70\u001b[0m \u001b[0;32;40mtrain_accuracy = 0.9551066756248474\u001b[0m \u001b[0;34;40mval_accuracy = 0.7387387752532959\u001b[0m\n"
     ]
    },
    {
     "name": "stderr",
     "output_type": "stream",
     "text": [
      "train-epoch: 71: 100%|██████████| 446/446 [00:14<00:00, 31.21it/s, loss=0.00876] \n",
      "val-epoch: 71: 100%|██████████| 111/111 [00:04<00:00, 25.66it/s, loss=0.0217] \n"
     ]
    },
    {
     "name": "stdout",
     "output_type": "stream",
     "text": [
      "\u001b[0;31;40mepoch: 71\u001b[0m \u001b[0;32;40mtrain_accuracy = 0.952862024307251\u001b[0m \u001b[0;34;40mval_accuracy = 0.7207207679748535\u001b[0m\n"
     ]
    },
    {
     "name": "stderr",
     "output_type": "stream",
     "text": [
      "train-epoch: 72: 100%|██████████| 446/446 [00:20<00:00, 21.97it/s, loss=0.0055] \n",
      "val-epoch: 72: 100%|██████████| 111/111 [00:04<00:00, 26.71it/s, loss=0.0223] \n"
     ]
    },
    {
     "name": "stdout",
     "output_type": "stream",
     "text": [
      "\u001b[0;31;40mepoch: 72\u001b[0m \u001b[0;32;40mtrain_accuracy = 0.9461280107498169\u001b[0m \u001b[0;34;40mval_accuracy = 0.7117117047309875\u001b[0m\n"
     ]
    },
    {
     "name": "stderr",
     "output_type": "stream",
     "text": [
      "train-epoch: 73: 100%|██████████| 446/446 [00:20<00:00, 21.91it/s, loss=0.252]   \n",
      "val-epoch: 73: 100%|██████████| 111/111 [00:04<00:00, 26.93it/s, loss=0.00859]\n"
     ]
    },
    {
     "name": "stdout",
     "output_type": "stream",
     "text": [
      "\u001b[0;31;40mepoch: 73\u001b[0m \u001b[0;32;40mtrain_accuracy = 0.9472503066062927\u001b[0m \u001b[0;34;40mval_accuracy = 0.7342342734336853\u001b[0m\n"
     ]
    },
    {
     "name": "stderr",
     "output_type": "stream",
     "text": [
      "train-epoch: 74: 100%|██████████| 446/446 [00:19<00:00, 22.52it/s, loss=0.0133] \n",
      "val-epoch: 74: 100%|██████████| 111/111 [00:04<00:00, 27.20it/s, loss=0.0218] \n"
     ]
    },
    {
     "name": "stdout",
     "output_type": "stream",
     "text": [
      "\u001b[0;31;40mepoch: 74\u001b[0m \u001b[0;32;40mtrain_accuracy = 0.9573513269424438\u001b[0m \u001b[0;34;40mval_accuracy = 0.7252252697944641\u001b[0m\n"
     ]
    },
    {
     "name": "stderr",
     "output_type": "stream",
     "text": [
      "train-epoch: 75: 100%|██████████| 446/446 [00:20<00:00, 22.01it/s, loss=0.0166] \n",
      "val-epoch: 75: 100%|██████████| 111/111 [00:04<00:00, 26.15it/s, loss=0.00796]\n"
     ]
    },
    {
     "name": "stdout",
     "output_type": "stream",
     "text": [
      "\u001b[0;31;40mepoch: 75\u001b[0m \u001b[0;32;40mtrain_accuracy = 0.9595959782600403\u001b[0m \u001b[0;34;40mval_accuracy = 0.707207202911377\u001b[0m\n"
     ]
    },
    {
     "name": "stderr",
     "output_type": "stream",
     "text": [
      "train-epoch: 76: 100%|██████████| 446/446 [00:20<00:00, 22.00it/s, loss=0.152]  \n",
      "val-epoch: 76: 100%|██████████| 111/111 [00:04<00:00, 26.67it/s, loss=0.0377] \n"
     ]
    },
    {
     "name": "stdout",
     "output_type": "stream",
     "text": [
      "\u001b[0;31;40mepoch: 76\u001b[0m \u001b[0;32;40mtrain_accuracy = 0.9607183337211609\u001b[0m \u001b[0;34;40mval_accuracy = 0.7297297716140747\u001b[0m\n"
     ]
    },
    {
     "name": "stderr",
     "output_type": "stream",
     "text": [
      "train-epoch: 77: 100%|██████████| 446/446 [00:20<00:00, 21.79it/s, loss=0.203]   \n",
      "val-epoch: 77: 100%|██████████| 111/111 [00:04<00:00, 25.45it/s, loss=0.02]   \n"
     ]
    },
    {
     "name": "stdout",
     "output_type": "stream",
     "text": [
      "\u001b[0;31;40mepoch: 77\u001b[0m \u001b[0;32;40mtrain_accuracy = 0.9584736824035645\u001b[0m \u001b[0;34;40mval_accuracy = 0.7207207679748535\u001b[0m\n"
     ]
    },
    {
     "name": "stderr",
     "output_type": "stream",
     "text": [
      "train-epoch: 78: 100%|██████████| 446/446 [00:21<00:00, 20.80it/s, loss=0.0137] \n",
      "val-epoch: 78: 100%|██████████| 111/111 [00:04<00:00, 26.87it/s, loss=0.0313] \n"
     ]
    },
    {
     "name": "stdout",
     "output_type": "stream",
     "text": [
      "\u001b[0;31;40mepoch: 78\u001b[0m \u001b[0;32;40mtrain_accuracy = 0.9539843201637268\u001b[0m \u001b[0;34;40mval_accuracy = 0.7297297716140747\u001b[0m\n"
     ]
    },
    {
     "name": "stderr",
     "output_type": "stream",
     "text": [
      "train-epoch: 79: 100%|██████████| 446/446 [00:20<00:00, 21.70it/s, loss=0.186]   \n",
      "val-epoch: 79: 100%|██████████| 111/111 [00:04<00:00, 24.70it/s, loss=0.00428]\n"
     ]
    },
    {
     "name": "stdout",
     "output_type": "stream",
     "text": [
      "\u001b[0;31;40mepoch: 79\u001b[0m \u001b[0;32;40mtrain_accuracy = 0.9573513269424438\u001b[0m \u001b[0;34;40mval_accuracy = 0.7252252697944641\u001b[0m\n"
     ]
    },
    {
     "name": "stderr",
     "output_type": "stream",
     "text": [
      "train-epoch: 80: 100%|██████████| 446/446 [00:20<00:00, 22.25it/s, loss=0.0526]  \n",
      "val-epoch: 80: 100%|██████████| 111/111 [00:04<00:00, 27.10it/s, loss=0.0215] \n"
     ]
    },
    {
     "name": "stdout",
     "output_type": "stream",
     "text": [
      "\u001b[0;31;40mepoch: 80\u001b[0m \u001b[0;32;40mtrain_accuracy = 0.9696969985961914\u001b[0m \u001b[0;34;40mval_accuracy = 0.7342342734336853\u001b[0m\n"
     ]
    },
    {
     "name": "stderr",
     "output_type": "stream",
     "text": [
      "train-epoch: 81: 100%|██████████| 446/446 [00:19<00:00, 22.46it/s, loss=0.0964] \n",
      "val-epoch: 81: 100%|██████████| 111/111 [00:04<00:00, 26.40it/s, loss=0.0175]\n"
     ]
    },
    {
     "name": "stdout",
     "output_type": "stream",
     "text": [
      "\u001b[0;31;40mepoch: 81\u001b[0m \u001b[0;32;40mtrain_accuracy = 0.9517396688461304\u001b[0m \u001b[0;34;40mval_accuracy = 0.7027027010917664\u001b[0m\n"
     ]
    },
    {
     "name": "stderr",
     "output_type": "stream",
     "text": [
      "train-epoch: 82: 100%|██████████| 446/446 [00:19<00:00, 22.37it/s, loss=0.0509]  \n",
      "val-epoch: 82: 100%|██████████| 111/111 [00:04<00:00, 26.66it/s, loss=0.0143] \n"
     ]
    },
    {
     "name": "stdout",
     "output_type": "stream",
     "text": [
      "\u001b[0;31;40mepoch: 82\u001b[0m \u001b[0;32;40mtrain_accuracy = 0.9584736824035645\u001b[0m \u001b[0;34;40mval_accuracy = 0.7162162065505981\u001b[0m\n"
     ]
    },
    {
     "name": "stderr",
     "output_type": "stream",
     "text": [
      "train-epoch: 83: 100%|██████████| 446/446 [00:20<00:00, 21.96it/s, loss=0.0262]  \n",
      "val-epoch: 83: 100%|██████████| 111/111 [00:04<00:00, 26.65it/s, loss=0.0151] \n"
     ]
    },
    {
     "name": "stdout",
     "output_type": "stream",
     "text": [
      "\u001b[0;31;40mepoch: 83\u001b[0m \u001b[0;32;40mtrain_accuracy = 0.9573513269424438\u001b[0m \u001b[0;34;40mval_accuracy = 0.7342342734336853\u001b[0m\n"
     ]
    },
    {
     "name": "stderr",
     "output_type": "stream",
     "text": [
      "train-epoch: 84: 100%|██████████| 446/446 [00:20<00:00, 22.29it/s, loss=0.215]  \n",
      "val-epoch: 84: 100%|██████████| 111/111 [00:04<00:00, 26.59it/s, loss=0.0143]  \n"
     ]
    },
    {
     "name": "stdout",
     "output_type": "stream",
     "text": [
      "\u001b[0;31;40mepoch: 84\u001b[0m \u001b[0;32;40mtrain_accuracy = 0.9494950175285339\u001b[0m \u001b[0;34;40mval_accuracy = 0.7207207679748535\u001b[0m\n"
     ]
    },
    {
     "name": "stderr",
     "output_type": "stream",
     "text": [
      "train-epoch: 85: 100%|██████████| 446/446 [00:19<00:00, 22.46it/s, loss=0.0841] \n",
      "val-epoch: 85: 100%|██████████| 111/111 [00:04<00:00, 25.94it/s, loss=0.0139] \n"
     ]
    },
    {
     "name": "stdout",
     "output_type": "stream",
     "text": [
      "\u001b[0;31;40mepoch: 85\u001b[0m \u001b[0;32;40mtrain_accuracy = 0.9640853404998779\u001b[0m \u001b[0;34;40mval_accuracy = 0.7207207679748535\u001b[0m\n"
     ]
    },
    {
     "name": "stderr",
     "output_type": "stream",
     "text": [
      "train-epoch: 86: 100%|██████████| 446/446 [00:20<00:00, 22.17it/s, loss=0.00294] \n",
      "val-epoch: 86: 100%|██████████| 111/111 [00:04<00:00, 25.28it/s, loss=0.00969] \n"
     ]
    },
    {
     "name": "stdout",
     "output_type": "stream",
     "text": [
      "\u001b[0;31;40mepoch: 86\u001b[0m \u001b[0;32;40mtrain_accuracy = 0.9539843201637268\u001b[0m \u001b[0;34;40mval_accuracy = 0.7387387752532959\u001b[0m\n"
     ]
    },
    {
     "name": "stderr",
     "output_type": "stream",
     "text": [
      "train-epoch: 87: 100%|██████████| 446/446 [00:20<00:00, 22.10it/s, loss=0.0672] \n",
      "val-epoch: 87: 100%|██████████| 111/111 [00:04<00:00, 26.59it/s, loss=0.0214] \n"
     ]
    },
    {
     "name": "stdout",
     "output_type": "stream",
     "text": [
      "\u001b[0;31;40mepoch: 87\u001b[0m \u001b[0;32;40mtrain_accuracy = 0.9652076959609985\u001b[0m \u001b[0;34;40mval_accuracy = 0.7342342734336853\u001b[0m\n"
     ]
    },
    {
     "name": "stderr",
     "output_type": "stream",
     "text": [
      "train-epoch: 88: 100%|██████████| 446/446 [00:20<00:00, 22.06it/s, loss=0.00589]\n",
      "val-epoch: 88: 100%|██████████| 111/111 [00:04<00:00, 25.92it/s, loss=0.0201] \n"
     ]
    },
    {
     "name": "stdout",
     "output_type": "stream",
     "text": [
      "\u001b[0;31;40mepoch: 88\u001b[0m \u001b[0;32;40mtrain_accuracy = 0.9595959782600403\u001b[0m \u001b[0;34;40mval_accuracy = 0.7342342734336853\u001b[0m\n"
     ]
    },
    {
     "name": "stderr",
     "output_type": "stream",
     "text": [
      "train-epoch: 89: 100%|██████████| 446/446 [00:18<00:00, 24.32it/s, loss=0.0221]  \n",
      "val-epoch: 89: 100%|██████████| 111/111 [00:00<00:00, 182.85it/s, loss=0.0176] \n"
     ]
    },
    {
     "name": "stdout",
     "output_type": "stream",
     "text": [
      "\u001b[0;31;40mepoch: 89\u001b[0m \u001b[0;32;40mtrain_accuracy = 0.9539843201637268\u001b[0m \u001b[0;34;40mval_accuracy = 0.7252252697944641\u001b[0m\n"
     ]
    },
    {
     "name": "stderr",
     "output_type": "stream",
     "text": [
      "train-epoch: 90: 100%|██████████| 446/446 [00:18<00:00, 23.81it/s, loss=0.38]    \n",
      "val-epoch: 90: 100%|██████████| 111/111 [00:04<00:00, 26.24it/s, loss=0.0261] \n"
     ]
    },
    {
     "name": "stdout",
     "output_type": "stream",
     "text": [
      "\u001b[0;31;40mepoch: 90\u001b[0m \u001b[0;32;40mtrain_accuracy = 0.9595959782600403\u001b[0m \u001b[0;34;40mval_accuracy = 0.7207207679748535\u001b[0m\n"
     ]
    },
    {
     "name": "stderr",
     "output_type": "stream",
     "text": [
      "train-epoch: 91: 100%|██████████| 446/446 [00:19<00:00, 22.46it/s, loss=1.06]   \n",
      "val-epoch: 91: 100%|██████████| 111/111 [00:04<00:00, 25.43it/s, loss=0.0411] \n"
     ]
    },
    {
     "name": "stdout",
     "output_type": "stream",
     "text": [
      "\u001b[0;31;40mepoch: 91\u001b[0m \u001b[0;32;40mtrain_accuracy = 0.952862024307251\u001b[0m \u001b[0;34;40mval_accuracy = 0.7162162065505981\u001b[0m\n"
     ]
    },
    {
     "name": "stderr",
     "output_type": "stream",
     "text": [
      "train-epoch: 92: 100%|██████████| 446/446 [00:20<00:00, 21.98it/s, loss=0.0319]  \n",
      "val-epoch: 92: 100%|██████████| 111/111 [00:04<00:00, 26.79it/s, loss=0.02]   \n"
     ]
    },
    {
     "name": "stdout",
     "output_type": "stream",
     "text": [
      "\u001b[0;31;40mepoch: 92\u001b[0m \u001b[0;32;40mtrain_accuracy = 0.9764310121536255\u001b[0m \u001b[0;34;40mval_accuracy = 0.7342342734336853\u001b[0m\n"
     ]
    },
    {
     "name": "stderr",
     "output_type": "stream",
     "text": [
      "train-epoch: 93: 100%|██████████| 446/446 [00:20<00:00, 21.96it/s, loss=0.0221] \n",
      "val-epoch: 93: 100%|██████████| 111/111 [00:04<00:00, 25.51it/s, loss=0.0166]  \n"
     ]
    },
    {
     "name": "stdout",
     "output_type": "stream",
     "text": [
      "\u001b[0;31;40mepoch: 93\u001b[0m \u001b[0;32;40mtrain_accuracy = 0.967452347278595\u001b[0m \u001b[0;34;40mval_accuracy = 0.7252252697944641\u001b[0m\n"
     ]
    },
    {
     "name": "stderr",
     "output_type": "stream",
     "text": [
      "train-epoch: 94: 100%|██████████| 446/446 [00:20<00:00, 21.72it/s, loss=0.0202]  \n",
      "val-epoch: 94: 100%|██████████| 111/111 [00:04<00:00, 26.90it/s, loss=0.0114] \n"
     ]
    },
    {
     "name": "stdout",
     "output_type": "stream",
     "text": [
      "\u001b[0;31;40mepoch: 94\u001b[0m \u001b[0;32;40mtrain_accuracy = 0.9607183337211609\u001b[0m \u001b[0;34;40mval_accuracy = 0.7207207679748535\u001b[0m\n"
     ]
    },
    {
     "name": "stderr",
     "output_type": "stream",
     "text": [
      "train-epoch: 95: 100%|██████████| 446/446 [00:20<00:00, 22.08it/s, loss=0.2]     \n",
      "val-epoch: 95: 100%|██████████| 111/111 [00:04<00:00, 25.86it/s, loss=0.021]  \n"
     ]
    },
    {
     "name": "stdout",
     "output_type": "stream",
     "text": [
      "\u001b[0;31;40mepoch: 95\u001b[0m \u001b[0;32;40mtrain_accuracy = 0.952862024307251\u001b[0m \u001b[0;34;40mval_accuracy = 0.7207207679748535\u001b[0m\n"
     ]
    },
    {
     "name": "stderr",
     "output_type": "stream",
     "text": [
      "train-epoch: 96: 100%|██████████| 446/446 [00:19<00:00, 22.35it/s, loss=0.021]  \n",
      "val-epoch: 96: 100%|██████████| 111/111 [00:04<00:00, 25.80it/s, loss=0.0249]  \n"
     ]
    },
    {
     "name": "stdout",
     "output_type": "stream",
     "text": [
      "\u001b[0;31;40mepoch: 96\u001b[0m \u001b[0;32;40mtrain_accuracy = 0.9640853404998779\u001b[0m \u001b[0;34;40mval_accuracy = 0.7252252697944641\u001b[0m\n"
     ]
    },
    {
     "name": "stderr",
     "output_type": "stream",
     "text": [
      "train-epoch: 97: 100%|██████████| 446/446 [00:20<00:00, 22.19it/s, loss=0.00455] \n",
      "val-epoch: 97: 100%|██████████| 111/111 [00:04<00:00, 25.68it/s, loss=0.0239] \n"
     ]
    },
    {
     "name": "stdout",
     "output_type": "stream",
     "text": [
      "\u001b[0;31;40mepoch: 97\u001b[0m \u001b[0;32;40mtrain_accuracy = 0.9663299918174744\u001b[0m \u001b[0;34;40mval_accuracy = 0.7342342734336853\u001b[0m\n"
     ]
    },
    {
     "name": "stderr",
     "output_type": "stream",
     "text": [
      "train-epoch: 98: 100%|██████████| 446/446 [00:19<00:00, 22.33it/s, loss=0.0551]  \n",
      "val-epoch: 98: 100%|██████████| 111/111 [00:04<00:00, 26.40it/s, loss=0.0227] \n"
     ]
    },
    {
     "name": "stdout",
     "output_type": "stream",
     "text": [
      "\u001b[0;31;40mepoch: 98\u001b[0m \u001b[0;32;40mtrain_accuracy = 0.952862024307251\u001b[0m \u001b[0;34;40mval_accuracy = 0.7297297716140747\u001b[0m\n"
     ]
    },
    {
     "name": "stderr",
     "output_type": "stream",
     "text": [
      "train-epoch: 99: 100%|██████████| 446/446 [00:20<00:00, 21.87it/s, loss=0.0637]  \n",
      "val-epoch: 99: 100%|██████████| 111/111 [00:04<00:00, 26.85it/s, loss=0.0128] \n"
     ]
    },
    {
     "name": "stdout",
     "output_type": "stream",
     "text": [
      "\u001b[0;31;40mepoch: 99\u001b[0m \u001b[0;32;40mtrain_accuracy = 0.9618406891822815\u001b[0m \u001b[0;34;40mval_accuracy = 0.7297297716140747\u001b[0m\n"
     ]
    },
    {
     "name": "stderr",
     "output_type": "stream",
     "text": [
      "train-epoch: 100: 100%|██████████| 446/446 [00:20<00:00, 21.39it/s, loss=0.48]    \n",
      "val-epoch: 100: 100%|██████████| 111/111 [00:04<00:00, 24.03it/s, loss=0.0212] "
     ]
    },
    {
     "name": "stdout",
     "output_type": "stream",
     "text": [
      "\u001b[0;31;40mepoch: 100\u001b[0m \u001b[0;32;40mtrain_accuracy = 0.9629629850387573\u001b[0m \u001b[0;34;40mval_accuracy = 0.7387387752532959\u001b[0m\n"
     ]
    },
    {
     "name": "stderr",
     "output_type": "stream",
     "text": [
      "\n"
     ]
    }
   ],
   "source": [
    "train_accuracies = []\n",
    "train_lossess = []\n",
    "val_accuracies = []\n",
    "val_lossess = []\n",
    "for epoch in range(1, epochs + 1):\n",
    "    net.train()\n",
    "    train_y_trues = []\n",
    "    train_y_preds = []\n",
    "    train_losses = []\n",
    "    pbar = tqdm(total=len(train_dataloader), desc=f\"train-epoch: {epoch}\")\n",
    "    for batch in train_dataloader:\n",
    "        optimizer.zero_grad()\n",
    "        x, edge_index, batch, y = batch.x, batch.edge_index, batch.batch, batch.y\n",
    "        x, edge_index, batch, y = (\n",
    "            x.to(device),\n",
    "            edge_index.to(device),\n",
    "            batch.to(device),\n",
    "            y.to(device),\n",
    "        )\n",
    "        y_pred = net(x, edge_index, batch)\n",
    "        loss: Tensor = loss_fn(y_pred, y)\n",
    "        loss.backward()\n",
    "        optimizer.step()\n",
    "\n",
    "        train_y_trues.append(y)\n",
    "        train_y_preds.append(y_pred.argmax(dim=-1))\n",
    "        train_losses.append(loss.item())\n",
    "        pbar.update(1)\n",
    "        pbar.set_postfix({\"loss\": loss.item()})\n",
    "    pbar.close()\n",
    "\n",
    "    lr_scheduler.step()\n",
    "\n",
    "    # 准确率\n",
    "    train_y_trues_ = torch.cat(train_y_trues)\n",
    "    train_y_preds_ = torch.cat(train_y_preds)\n",
    "    train_accuracy = (\n",
    "        (train_y_trues_ == train_y_preds_).float().sum().divide(len(train_y_trues_))\n",
    "    )\n",
    "    train_accuracies.append(train_accuracy.item())\n",
    "    train_lossess.append(torch.tensor(train_losses).mean().item())\n",
    "\n",
    "    net.eval()\n",
    "    val_y_trues = []\n",
    "    val_y_preds = []\n",
    "    val_losses = []\n",
    "    pbar = tqdm(total=len(val_dataloader), desc=f\"val-epoch: {epoch}\")\n",
    "    for batch in val_dataloader:\n",
    "        x, edge_index, batch, y = batch.x, batch.edge_index, batch.batch, batch.y\n",
    "        x, edge_index, batch, y = (\n",
    "            x.to(device),\n",
    "            edge_index.to(device),\n",
    "            batch.to(device),\n",
    "            y.to(device),\n",
    "        )\n",
    "        with torch.inference_mode():\n",
    "            y_pred = net(x, edge_index, batch)\n",
    "        loss: Tensor = loss_fn(y_pred, y)\n",
    "\n",
    "        val_y_trues.append(y)\n",
    "        val_y_preds.append(y_pred.argmax(dim=-1))\n",
    "        val_losses.append(loss.item())\n",
    "        pbar.update(1)\n",
    "        pbar.set_postfix({\"loss\": loss.item()})\n",
    "    pbar.close()\n",
    "\n",
    "    # 准确率\n",
    "    val_y_trues_ = torch.cat(val_y_trues)\n",
    "    val_y_preds_ = torch.cat(val_y_preds)\n",
    "    val_accuracy = (\n",
    "        (val_y_trues_ == val_y_preds_).float().sum().divide(len(val_y_trues_))\n",
    "    )\n",
    "    val_accuracies.append(val_accuracy.item())\n",
    "    val_lossess.append(torch.tensor(val_losses).mean().item())\n",
    "\n",
    "    print(\n",
    "        f\"\\033[0;31;40mepoch: {epoch}\\033[0m \"\n",
    "        + f\"\\033[0;32;40mtrain_accuracy = {train_accuracy.item()}\\033[0m \"\n",
    "        + f\"\\033[0;34;40mval_accuracy = {val_accuracy.item()}\\033[0m\"\n",
    "    )"
   ]
  },
  {
   "cell_type": "code",
   "execution_count": 37,
   "metadata": {},
   "outputs": [
    {
     "name": "stdout",
     "output_type": "stream",
     "text": [
      "0.9764310121536255 0.7702702879905701\n"
     ]
    }
   ],
   "source": [
    "print(max(train_accuracies), max(val_accuracies))\n",
    "# 0.9685747027397156 0.7432432770729065"
   ]
  },
  {
   "cell_type": "code",
   "execution_count": 38,
   "metadata": {},
   "outputs": [
    {
     "data": {
      "application/vnd.plotly.v1+json": {
       "config": {
        "plotlyServerURL": "https://plot.ly"
       },
       "data": [
        {
         "mode": "lines+markers",
         "name": "train",
         "type": "scatter",
         "y": [
          0.6217733025550842,
          0.6677890419960022,
          0.7070707678794861,
          0.7014590501785278,
          0.711560070514679,
          0.7351291179656982,
          0.7351291179656982,
          0.7396184206008911,
          0.7362514138221741,
          0.7620651125907898,
          0.767676830291748,
          0.7620651125907898,
          0.7631874680519104,
          0.7811447978019714,
          0.8024691939353943,
          0.7833895087242126,
          0.8103255033493042,
          0.8047138452529907,
          0.8058362007141113,
          0.8181818723678589,
          0.8350168466567993,
          0.8215488791465759,
          0.8069584965705872,
          0.8473625779151917,
          0.8473625779151917,
          0.8451178669929504,
          0.8294051885604858,
          0.839506208896637,
          0.8406285643577576,
          0.8316498398780823,
          0.8518518805503845,
          0.8619529008865356,
          0.8597082495689392,
          0.8720539212226868,
          0.8754209280014038,
          0.8832772374153137,
          0.8911336064338684,
          0.8832772374153137,
          0.8956229090690613,
          0.888888955116272,
          0.8911336064338684,
          0.892255961894989,
          0.8855219483375549,
          0.8945006132125854,
          0.906846284866333,
          0.8978676199913025,
          0.9046016335487366,
          0.9147025942802428,
          0.9090909361839294,
          0.9147025942802428,
          0.9225589632987976,
          0.9135802984237672,
          0.91806960105896,
          0.924803614616394,
          0.9326599836349488,
          0.9236813187599182,
          0.9427610039711,
          0.9270483255386353,
          0.9292929768562316,
          0.9382716417312622,
          0.9393939971923828,
          0.9393939971923828,
          0.9393939971923828,
          0.9259259700775146,
          0.9360269904136658,
          0.9360269904136658,
          0.952862024307251,
          0.9326599836349488,
          0.9595959782600404,
          0.9551066756248474,
          0.952862024307251,
          0.9461280107498168,
          0.9472503066062928,
          0.9573513269424438,
          0.9595959782600404,
          0.9607183337211608,
          0.9584736824035645,
          0.9539843201637268,
          0.9573513269424438,
          0.9696969985961914,
          0.9517396688461304,
          0.9584736824035645,
          0.9573513269424438,
          0.949495017528534,
          0.964085340499878,
          0.9539843201637268,
          0.9652076959609984,
          0.9595959782600404,
          0.9539843201637268,
          0.9595959782600404,
          0.952862024307251,
          0.9764310121536256,
          0.967452347278595,
          0.9607183337211608,
          0.952862024307251,
          0.964085340499878,
          0.9663299918174744,
          0.952862024307251,
          0.9618406891822816,
          0.9629629850387572
         ]
        },
        {
         "mode": "lines+markers",
         "name": "val",
         "type": "scatter",
         "y": [
          0.6936936974525452,
          0.7027027010917664,
          0.5765765905380249,
          0.7522522807121277,
          0.5720720887184143,
          0.7612612843513489,
          0.7432432770729065,
          0.7612612843513489,
          0.7612612843513489,
          0.7612612843513489,
          0.7297297716140747,
          0.7117117047309875,
          0.7657657861709595,
          0.7342342734336853,
          0.7432432770729065,
          0.7342342734336853,
          0.7567567825317383,
          0.7162162065505981,
          0.6576576828956604,
          0.7522522807121277,
          0.7387387752532959,
          0.7567567825317383,
          0.7432432770729065,
          0.7477477788925171,
          0.7252252697944641,
          0.7207207679748535,
          0.6981981992721558,
          0.7387387752532959,
          0.7477477788925171,
          0.7252252697944641,
          0.7387387752532959,
          0.7432432770729065,
          0.7432432770729065,
          0.707207202911377,
          0.7567567825317383,
          0.7432432770729065,
          0.7342342734336853,
          0.7387387752532959,
          0.7477477788925171,
          0.7432432770729065,
          0.7432432770729065,
          0.7612612843513489,
          0.6981981992721558,
          0.7297297716140747,
          0.7252252697944641,
          0.7522522807121277,
          0.707207202911377,
          0.7702702879905701,
          0.7432432770729065,
          0.7342342734336853,
          0.7432432770729065,
          0.7342342734336853,
          0.7522522807121277,
          0.7252252697944641,
          0.7297297716140747,
          0.6891891956329346,
          0.7432432770729065,
          0.7162162065505981,
          0.7342342734336853,
          0.7612612843513489,
          0.7387387752532959,
          0.7162162065505981,
          0.7432432770729065,
          0.7342342734336853,
          0.7207207679748535,
          0.7387387752532959,
          0.7117117047309875,
          0.7297297716140747,
          0.7162162065505981,
          0.7387387752532959,
          0.7207207679748535,
          0.7117117047309875,
          0.7342342734336853,
          0.7252252697944641,
          0.707207202911377,
          0.7297297716140747,
          0.7207207679748535,
          0.7297297716140747,
          0.7252252697944641,
          0.7342342734336853,
          0.7027027010917664,
          0.7162162065505981,
          0.7342342734336853,
          0.7207207679748535,
          0.7207207679748535,
          0.7387387752532959,
          0.7342342734336853,
          0.7342342734336853,
          0.7252252697944641,
          0.7207207679748535,
          0.7162162065505981,
          0.7342342734336853,
          0.7252252697944641,
          0.7207207679748535,
          0.7207207679748535,
          0.7252252697944641,
          0.7342342734336853,
          0.7297297716140747,
          0.7297297716140747,
          0.7387387752532959
         ]
        }
       ],
       "layout": {
        "template": {
         "data": {
          "bar": [
           {
            "error_x": {
             "color": "#2a3f5f"
            },
            "error_y": {
             "color": "#2a3f5f"
            },
            "marker": {
             "line": {
              "color": "#E5ECF6",
              "width": 0.5
             },
             "pattern": {
              "fillmode": "overlay",
              "size": 10,
              "solidity": 0.2
             }
            },
            "type": "bar"
           }
          ],
          "barpolar": [
           {
            "marker": {
             "line": {
              "color": "#E5ECF6",
              "width": 0.5
             },
             "pattern": {
              "fillmode": "overlay",
              "size": 10,
              "solidity": 0.2
             }
            },
            "type": "barpolar"
           }
          ],
          "carpet": [
           {
            "aaxis": {
             "endlinecolor": "#2a3f5f",
             "gridcolor": "white",
             "linecolor": "white",
             "minorgridcolor": "white",
             "startlinecolor": "#2a3f5f"
            },
            "baxis": {
             "endlinecolor": "#2a3f5f",
             "gridcolor": "white",
             "linecolor": "white",
             "minorgridcolor": "white",
             "startlinecolor": "#2a3f5f"
            },
            "type": "carpet"
           }
          ],
          "choropleth": [
           {
            "colorbar": {
             "outlinewidth": 0,
             "ticks": ""
            },
            "type": "choropleth"
           }
          ],
          "contour": [
           {
            "colorbar": {
             "outlinewidth": 0,
             "ticks": ""
            },
            "colorscale": [
             [
              0,
              "#0d0887"
             ],
             [
              0.1111111111111111,
              "#46039f"
             ],
             [
              0.2222222222222222,
              "#7201a8"
             ],
             [
              0.3333333333333333,
              "#9c179e"
             ],
             [
              0.4444444444444444,
              "#bd3786"
             ],
             [
              0.5555555555555556,
              "#d8576b"
             ],
             [
              0.6666666666666666,
              "#ed7953"
             ],
             [
              0.7777777777777778,
              "#fb9f3a"
             ],
             [
              0.8888888888888888,
              "#fdca26"
             ],
             [
              1,
              "#f0f921"
             ]
            ],
            "type": "contour"
           }
          ],
          "contourcarpet": [
           {
            "colorbar": {
             "outlinewidth": 0,
             "ticks": ""
            },
            "type": "contourcarpet"
           }
          ],
          "heatmap": [
           {
            "colorbar": {
             "outlinewidth": 0,
             "ticks": ""
            },
            "colorscale": [
             [
              0,
              "#0d0887"
             ],
             [
              0.1111111111111111,
              "#46039f"
             ],
             [
              0.2222222222222222,
              "#7201a8"
             ],
             [
              0.3333333333333333,
              "#9c179e"
             ],
             [
              0.4444444444444444,
              "#bd3786"
             ],
             [
              0.5555555555555556,
              "#d8576b"
             ],
             [
              0.6666666666666666,
              "#ed7953"
             ],
             [
              0.7777777777777778,
              "#fb9f3a"
             ],
             [
              0.8888888888888888,
              "#fdca26"
             ],
             [
              1,
              "#f0f921"
             ]
            ],
            "type": "heatmap"
           }
          ],
          "heatmapgl": [
           {
            "colorbar": {
             "outlinewidth": 0,
             "ticks": ""
            },
            "colorscale": [
             [
              0,
              "#0d0887"
             ],
             [
              0.1111111111111111,
              "#46039f"
             ],
             [
              0.2222222222222222,
              "#7201a8"
             ],
             [
              0.3333333333333333,
              "#9c179e"
             ],
             [
              0.4444444444444444,
              "#bd3786"
             ],
             [
              0.5555555555555556,
              "#d8576b"
             ],
             [
              0.6666666666666666,
              "#ed7953"
             ],
             [
              0.7777777777777778,
              "#fb9f3a"
             ],
             [
              0.8888888888888888,
              "#fdca26"
             ],
             [
              1,
              "#f0f921"
             ]
            ],
            "type": "heatmapgl"
           }
          ],
          "histogram": [
           {
            "marker": {
             "pattern": {
              "fillmode": "overlay",
              "size": 10,
              "solidity": 0.2
             }
            },
            "type": "histogram"
           }
          ],
          "histogram2d": [
           {
            "colorbar": {
             "outlinewidth": 0,
             "ticks": ""
            },
            "colorscale": [
             [
              0,
              "#0d0887"
             ],
             [
              0.1111111111111111,
              "#46039f"
             ],
             [
              0.2222222222222222,
              "#7201a8"
             ],
             [
              0.3333333333333333,
              "#9c179e"
             ],
             [
              0.4444444444444444,
              "#bd3786"
             ],
             [
              0.5555555555555556,
              "#d8576b"
             ],
             [
              0.6666666666666666,
              "#ed7953"
             ],
             [
              0.7777777777777778,
              "#fb9f3a"
             ],
             [
              0.8888888888888888,
              "#fdca26"
             ],
             [
              1,
              "#f0f921"
             ]
            ],
            "type": "histogram2d"
           }
          ],
          "histogram2dcontour": [
           {
            "colorbar": {
             "outlinewidth": 0,
             "ticks": ""
            },
            "colorscale": [
             [
              0,
              "#0d0887"
             ],
             [
              0.1111111111111111,
              "#46039f"
             ],
             [
              0.2222222222222222,
              "#7201a8"
             ],
             [
              0.3333333333333333,
              "#9c179e"
             ],
             [
              0.4444444444444444,
              "#bd3786"
             ],
             [
              0.5555555555555556,
              "#d8576b"
             ],
             [
              0.6666666666666666,
              "#ed7953"
             ],
             [
              0.7777777777777778,
              "#fb9f3a"
             ],
             [
              0.8888888888888888,
              "#fdca26"
             ],
             [
              1,
              "#f0f921"
             ]
            ],
            "type": "histogram2dcontour"
           }
          ],
          "mesh3d": [
           {
            "colorbar": {
             "outlinewidth": 0,
             "ticks": ""
            },
            "type": "mesh3d"
           }
          ],
          "parcoords": [
           {
            "line": {
             "colorbar": {
              "outlinewidth": 0,
              "ticks": ""
             }
            },
            "type": "parcoords"
           }
          ],
          "pie": [
           {
            "automargin": true,
            "type": "pie"
           }
          ],
          "scatter": [
           {
            "fillpattern": {
             "fillmode": "overlay",
             "size": 10,
             "solidity": 0.2
            },
            "type": "scatter"
           }
          ],
          "scatter3d": [
           {
            "line": {
             "colorbar": {
              "outlinewidth": 0,
              "ticks": ""
             }
            },
            "marker": {
             "colorbar": {
              "outlinewidth": 0,
              "ticks": ""
             }
            },
            "type": "scatter3d"
           }
          ],
          "scattercarpet": [
           {
            "marker": {
             "colorbar": {
              "outlinewidth": 0,
              "ticks": ""
             }
            },
            "type": "scattercarpet"
           }
          ],
          "scattergeo": [
           {
            "marker": {
             "colorbar": {
              "outlinewidth": 0,
              "ticks": ""
             }
            },
            "type": "scattergeo"
           }
          ],
          "scattergl": [
           {
            "marker": {
             "colorbar": {
              "outlinewidth": 0,
              "ticks": ""
             }
            },
            "type": "scattergl"
           }
          ],
          "scattermapbox": [
           {
            "marker": {
             "colorbar": {
              "outlinewidth": 0,
              "ticks": ""
             }
            },
            "type": "scattermapbox"
           }
          ],
          "scatterpolar": [
           {
            "marker": {
             "colorbar": {
              "outlinewidth": 0,
              "ticks": ""
             }
            },
            "type": "scatterpolar"
           }
          ],
          "scatterpolargl": [
           {
            "marker": {
             "colorbar": {
              "outlinewidth": 0,
              "ticks": ""
             }
            },
            "type": "scatterpolargl"
           }
          ],
          "scatterternary": [
           {
            "marker": {
             "colorbar": {
              "outlinewidth": 0,
              "ticks": ""
             }
            },
            "type": "scatterternary"
           }
          ],
          "surface": [
           {
            "colorbar": {
             "outlinewidth": 0,
             "ticks": ""
            },
            "colorscale": [
             [
              0,
              "#0d0887"
             ],
             [
              0.1111111111111111,
              "#46039f"
             ],
             [
              0.2222222222222222,
              "#7201a8"
             ],
             [
              0.3333333333333333,
              "#9c179e"
             ],
             [
              0.4444444444444444,
              "#bd3786"
             ],
             [
              0.5555555555555556,
              "#d8576b"
             ],
             [
              0.6666666666666666,
              "#ed7953"
             ],
             [
              0.7777777777777778,
              "#fb9f3a"
             ],
             [
              0.8888888888888888,
              "#fdca26"
             ],
             [
              1,
              "#f0f921"
             ]
            ],
            "type": "surface"
           }
          ],
          "table": [
           {
            "cells": {
             "fill": {
              "color": "#EBF0F8"
             },
             "line": {
              "color": "white"
             }
            },
            "header": {
             "fill": {
              "color": "#C8D4E3"
             },
             "line": {
              "color": "white"
             }
            },
            "type": "table"
           }
          ]
         },
         "layout": {
          "annotationdefaults": {
           "arrowcolor": "#2a3f5f",
           "arrowhead": 0,
           "arrowwidth": 1
          },
          "autotypenumbers": "strict",
          "coloraxis": {
           "colorbar": {
            "outlinewidth": 0,
            "ticks": ""
           }
          },
          "colorscale": {
           "diverging": [
            [
             0,
             "#8e0152"
            ],
            [
             0.1,
             "#c51b7d"
            ],
            [
             0.2,
             "#de77ae"
            ],
            [
             0.3,
             "#f1b6da"
            ],
            [
             0.4,
             "#fde0ef"
            ],
            [
             0.5,
             "#f7f7f7"
            ],
            [
             0.6,
             "#e6f5d0"
            ],
            [
             0.7,
             "#b8e186"
            ],
            [
             0.8,
             "#7fbc41"
            ],
            [
             0.9,
             "#4d9221"
            ],
            [
             1,
             "#276419"
            ]
           ],
           "sequential": [
            [
             0,
             "#0d0887"
            ],
            [
             0.1111111111111111,
             "#46039f"
            ],
            [
             0.2222222222222222,
             "#7201a8"
            ],
            [
             0.3333333333333333,
             "#9c179e"
            ],
            [
             0.4444444444444444,
             "#bd3786"
            ],
            [
             0.5555555555555556,
             "#d8576b"
            ],
            [
             0.6666666666666666,
             "#ed7953"
            ],
            [
             0.7777777777777778,
             "#fb9f3a"
            ],
            [
             0.8888888888888888,
             "#fdca26"
            ],
            [
             1,
             "#f0f921"
            ]
           ],
           "sequentialminus": [
            [
             0,
             "#0d0887"
            ],
            [
             0.1111111111111111,
             "#46039f"
            ],
            [
             0.2222222222222222,
             "#7201a8"
            ],
            [
             0.3333333333333333,
             "#9c179e"
            ],
            [
             0.4444444444444444,
             "#bd3786"
            ],
            [
             0.5555555555555556,
             "#d8576b"
            ],
            [
             0.6666666666666666,
             "#ed7953"
            ],
            [
             0.7777777777777778,
             "#fb9f3a"
            ],
            [
             0.8888888888888888,
             "#fdca26"
            ],
            [
             1,
             "#f0f921"
            ]
           ]
          },
          "colorway": [
           "#636efa",
           "#EF553B",
           "#00cc96",
           "#ab63fa",
           "#FFA15A",
           "#19d3f3",
           "#FF6692",
           "#B6E880",
           "#FF97FF",
           "#FECB52"
          ],
          "font": {
           "color": "#2a3f5f"
          },
          "geo": {
           "bgcolor": "white",
           "lakecolor": "white",
           "landcolor": "#E5ECF6",
           "showlakes": true,
           "showland": true,
           "subunitcolor": "white"
          },
          "hoverlabel": {
           "align": "left"
          },
          "hovermode": "closest",
          "mapbox": {
           "style": "light"
          },
          "paper_bgcolor": "white",
          "plot_bgcolor": "#E5ECF6",
          "polar": {
           "angularaxis": {
            "gridcolor": "white",
            "linecolor": "white",
            "ticks": ""
           },
           "bgcolor": "#E5ECF6",
           "radialaxis": {
            "gridcolor": "white",
            "linecolor": "white",
            "ticks": ""
           }
          },
          "scene": {
           "xaxis": {
            "backgroundcolor": "#E5ECF6",
            "gridcolor": "white",
            "gridwidth": 2,
            "linecolor": "white",
            "showbackground": true,
            "ticks": "",
            "zerolinecolor": "white"
           },
           "yaxis": {
            "backgroundcolor": "#E5ECF6",
            "gridcolor": "white",
            "gridwidth": 2,
            "linecolor": "white",
            "showbackground": true,
            "ticks": "",
            "zerolinecolor": "white"
           },
           "zaxis": {
            "backgroundcolor": "#E5ECF6",
            "gridcolor": "white",
            "gridwidth": 2,
            "linecolor": "white",
            "showbackground": true,
            "ticks": "",
            "zerolinecolor": "white"
           }
          },
          "shapedefaults": {
           "line": {
            "color": "#2a3f5f"
           }
          },
          "ternary": {
           "aaxis": {
            "gridcolor": "white",
            "linecolor": "white",
            "ticks": ""
           },
           "baxis": {
            "gridcolor": "white",
            "linecolor": "white",
            "ticks": ""
           },
           "bgcolor": "#E5ECF6",
           "caxis": {
            "gridcolor": "white",
            "linecolor": "white",
            "ticks": ""
           }
          },
          "title": {
           "x": 0.05
          },
          "xaxis": {
           "automargin": true,
           "gridcolor": "white",
           "linecolor": "white",
           "ticks": "",
           "title": {
            "standoff": 15
           },
           "zerolinecolor": "white",
           "zerolinewidth": 2
          },
          "yaxis": {
           "automargin": true,
           "gridcolor": "white",
           "linecolor": "white",
           "ticks": "",
           "title": {
            "standoff": 15
           },
           "zerolinecolor": "white",
           "zerolinewidth": 2
          }
         }
        }
       }
      }
     },
     "metadata": {},
     "output_type": "display_data"
    }
   ],
   "source": [
    "figure = go.Figure(\n",
    "    data=[\n",
    "        go.Scatter(\n",
    "            y=train_accuracies,\n",
    "            mode=\"lines+markers\",\n",
    "            name=\"train\",\n",
    "        ),\n",
    "        go.Scatter(\n",
    "            y=val_accuracies,\n",
    "            mode=\"lines+markers\",\n",
    "            name=\"val\",\n",
    "        ),\n",
    "    ]\n",
    ")\n",
    "figure.show()"
   ]
  },
  {
   "cell_type": "code",
   "execution_count": 39,
   "metadata": {},
   "outputs": [
    {
     "data": {
      "application/vnd.plotly.v1+json": {
       "config": {
        "plotlyServerURL": "https://plot.ly"
       },
       "data": [
        {
         "mode": "lines+markers",
         "name": "train",
         "type": "scatter",
         "y": [
          0.6804365515708923,
          0.6280303597450256,
          0.5785062909126282,
          0.5664387941360474,
          0.5643889904022217,
          0.556806206703186,
          0.5311079025268555,
          0.5222648978233337,
          0.5126181244850159,
          0.5149795413017273,
          0.48990553617477417,
          0.4846253991127014,
          0.47442489862442017,
          0.46596547961235046,
          0.4355321526527405,
          0.4556399583816528,
          0.43767249584198,
          0.4340595602989197,
          0.41698798537254333,
          0.4224497079849243,
          0.3964650928974152,
          0.3940769135951996,
          0.393903523683548,
          0.37277090549468994,
          0.3690368533134461,
          0.3659319579601288,
          0.3636620938777923,
          0.36469361186027527,
          0.360749751329422,
          0.3670661449432373,
          0.3626846373081207,
          0.334322065114975,
          0.32365041971206665,
          0.3005784749984741,
          0.3004215955734253,
          0.29506608843803406,
          0.30716100335121155,
          0.28482943773269653,
          0.28192856907844543,
          0.27611422538757324,
          0.276642382144928,
          0.2800896167755127,
          0.261635422706604,
          0.26457810401916504,
          0.2524113953113556,
          0.2490934431552887,
          0.2322077453136444,
          0.23828332126140592,
          0.23337015509605408,
          0.23502500355243683,
          0.21730674803256989,
          0.22128084301948547,
          0.2202836722135544,
          0.2022460401058197,
          0.2055739164352417,
          0.21664555370807648,
          0.18959008157253265,
          0.2001089304685593,
          0.19819428026676175,
          0.17734912037849426,
          0.18024352192878723,
          0.18063044548034668,
          0.17771725356578827,
          0.1872536838054657,
          0.1826987862586975,
          0.1835450530052185,
          0.16687408089637756,
          0.19191497564315796,
          0.15128491818904877,
          0.15706734359264374,
          0.1515558809041977,
          0.16229920089244845,
          0.16268503665924072,
          0.1500072032213211,
          0.14059506356716156,
          0.1495993584394455,
          0.13432084023952484,
          0.1452309638261795,
          0.14572617411613464,
          0.14191016554832458,
          0.1519064903259277,
          0.14374543726444244,
          0.14386163651943207,
          0.13865596055984497,
          0.14001192152500153,
          0.1475902497768402,
          0.12705481052398682,
          0.13927730917930603,
          0.14679200947284698,
          0.1389818638563156,
          0.15565907955169678,
          0.1155116930603981,
          0.1420273780822754,
          0.13850492238998413,
          0.1486581712961197,
          0.136495441198349,
          0.13457828760147095,
          0.13682053983211517,
          0.13336896896362305,
          0.13069136440753937
         ]
        },
        {
         "mode": "lines+markers",
         "name": "val",
         "type": "scatter",
         "y": [
          0.5930929780006409,
          0.5855252146720886,
          0.7557361125946045,
          0.5765355229377747,
          0.7435950636863708,
          0.548419177532196,
          0.5782707929611206,
          0.5409255027770996,
          0.5620753169059753,
          0.5319162607192993,
          0.5782617926597595,
          0.7104291319847107,
          0.541771411895752,
          0.602515459060669,
          0.6248843669891357,
          0.5817041993141174,
          0.5511935353279114,
          0.6509160399436951,
          0.9145427346229552,
          0.6152735352516174,
          0.6267139911651611,
          0.6188313364982605,
          0.6140146851539612,
          0.6447032690048218,
          0.6391702890396118,
          0.775329053401947,
          0.6750639081001282,
          0.6608152389526367,
          0.5748343467712402,
          0.6597558259963989,
          0.6287661194801331,
          0.6629825234413147,
          0.6615233421325684,
          0.7347304821014404,
          0.6423317790031433,
          0.7213534116744995,
          0.6748518943786621,
          0.6688343286514282,
          0.6648460030555725,
          0.6755594611167908,
          0.6650435328483582,
          0.6602975726127625,
          0.7467259764671326,
          0.6764568090438843,
          0.6837674975395203,
          0.7201264500617981,
          0.7835530638694763,
          0.6291717886924744,
          0.7491539120674133,
          0.746139645576477,
          0.7391641736030579,
          0.6692072749137878,
          0.7140559554100037,
          0.7934004664421082,
          0.7301760315895081,
          0.8028907179832458,
          0.7371039986610413,
          0.7765219807624817,
          0.8272528648376465,
          0.783473789691925,
          0.7325831651687622,
          0.7196438908576965,
          0.7237489819526672,
          0.7162297964096069,
          0.7468899488449097,
          0.7729085087776184,
          0.8033010363578796,
          0.7955856323242188,
          0.8155958652496338,
          0.7502028942108154,
          0.8122393488883972,
          0.7473897933959961,
          0.8084921836853027,
          0.7469474077224731,
          0.7447131872177124,
          0.7019088268280029,
          0.7845994234085083,
          0.8187873363494873,
          0.831663966178894,
          0.7425982356071472,
          0.7772543430328369,
          0.8111874461174011,
          0.759768009185791,
          0.7906346321105957,
          0.7866494059562683,
          0.777807891368866,
          0.7725076675415039,
          0.7437402606010437,
          0.7802829742431641,
          0.7735874652862549,
          0.7328401803970337,
          0.7401010990142822,
          0.7925768494606018,
          0.7772064805030823,
          0.7391645312309265,
          0.8373215794563293,
          0.7609857320785522,
          0.752949595451355,
          0.7712147235870361,
          0.728758692741394
         ]
        }
       ],
       "layout": {
        "template": {
         "data": {
          "bar": [
           {
            "error_x": {
             "color": "#2a3f5f"
            },
            "error_y": {
             "color": "#2a3f5f"
            },
            "marker": {
             "line": {
              "color": "#E5ECF6",
              "width": 0.5
             },
             "pattern": {
              "fillmode": "overlay",
              "size": 10,
              "solidity": 0.2
             }
            },
            "type": "bar"
           }
          ],
          "barpolar": [
           {
            "marker": {
             "line": {
              "color": "#E5ECF6",
              "width": 0.5
             },
             "pattern": {
              "fillmode": "overlay",
              "size": 10,
              "solidity": 0.2
             }
            },
            "type": "barpolar"
           }
          ],
          "carpet": [
           {
            "aaxis": {
             "endlinecolor": "#2a3f5f",
             "gridcolor": "white",
             "linecolor": "white",
             "minorgridcolor": "white",
             "startlinecolor": "#2a3f5f"
            },
            "baxis": {
             "endlinecolor": "#2a3f5f",
             "gridcolor": "white",
             "linecolor": "white",
             "minorgridcolor": "white",
             "startlinecolor": "#2a3f5f"
            },
            "type": "carpet"
           }
          ],
          "choropleth": [
           {
            "colorbar": {
             "outlinewidth": 0,
             "ticks": ""
            },
            "type": "choropleth"
           }
          ],
          "contour": [
           {
            "colorbar": {
             "outlinewidth": 0,
             "ticks": ""
            },
            "colorscale": [
             [
              0,
              "#0d0887"
             ],
             [
              0.1111111111111111,
              "#46039f"
             ],
             [
              0.2222222222222222,
              "#7201a8"
             ],
             [
              0.3333333333333333,
              "#9c179e"
             ],
             [
              0.4444444444444444,
              "#bd3786"
             ],
             [
              0.5555555555555556,
              "#d8576b"
             ],
             [
              0.6666666666666666,
              "#ed7953"
             ],
             [
              0.7777777777777778,
              "#fb9f3a"
             ],
             [
              0.8888888888888888,
              "#fdca26"
             ],
             [
              1,
              "#f0f921"
             ]
            ],
            "type": "contour"
           }
          ],
          "contourcarpet": [
           {
            "colorbar": {
             "outlinewidth": 0,
             "ticks": ""
            },
            "type": "contourcarpet"
           }
          ],
          "heatmap": [
           {
            "colorbar": {
             "outlinewidth": 0,
             "ticks": ""
            },
            "colorscale": [
             [
              0,
              "#0d0887"
             ],
             [
              0.1111111111111111,
              "#46039f"
             ],
             [
              0.2222222222222222,
              "#7201a8"
             ],
             [
              0.3333333333333333,
              "#9c179e"
             ],
             [
              0.4444444444444444,
              "#bd3786"
             ],
             [
              0.5555555555555556,
              "#d8576b"
             ],
             [
              0.6666666666666666,
              "#ed7953"
             ],
             [
              0.7777777777777778,
              "#fb9f3a"
             ],
             [
              0.8888888888888888,
              "#fdca26"
             ],
             [
              1,
              "#f0f921"
             ]
            ],
            "type": "heatmap"
           }
          ],
          "heatmapgl": [
           {
            "colorbar": {
             "outlinewidth": 0,
             "ticks": ""
            },
            "colorscale": [
             [
              0,
              "#0d0887"
             ],
             [
              0.1111111111111111,
              "#46039f"
             ],
             [
              0.2222222222222222,
              "#7201a8"
             ],
             [
              0.3333333333333333,
              "#9c179e"
             ],
             [
              0.4444444444444444,
              "#bd3786"
             ],
             [
              0.5555555555555556,
              "#d8576b"
             ],
             [
              0.6666666666666666,
              "#ed7953"
             ],
             [
              0.7777777777777778,
              "#fb9f3a"
             ],
             [
              0.8888888888888888,
              "#fdca26"
             ],
             [
              1,
              "#f0f921"
             ]
            ],
            "type": "heatmapgl"
           }
          ],
          "histogram": [
           {
            "marker": {
             "pattern": {
              "fillmode": "overlay",
              "size": 10,
              "solidity": 0.2
             }
            },
            "type": "histogram"
           }
          ],
          "histogram2d": [
           {
            "colorbar": {
             "outlinewidth": 0,
             "ticks": ""
            },
            "colorscale": [
             [
              0,
              "#0d0887"
             ],
             [
              0.1111111111111111,
              "#46039f"
             ],
             [
              0.2222222222222222,
              "#7201a8"
             ],
             [
              0.3333333333333333,
              "#9c179e"
             ],
             [
              0.4444444444444444,
              "#bd3786"
             ],
             [
              0.5555555555555556,
              "#d8576b"
             ],
             [
              0.6666666666666666,
              "#ed7953"
             ],
             [
              0.7777777777777778,
              "#fb9f3a"
             ],
             [
              0.8888888888888888,
              "#fdca26"
             ],
             [
              1,
              "#f0f921"
             ]
            ],
            "type": "histogram2d"
           }
          ],
          "histogram2dcontour": [
           {
            "colorbar": {
             "outlinewidth": 0,
             "ticks": ""
            },
            "colorscale": [
             [
              0,
              "#0d0887"
             ],
             [
              0.1111111111111111,
              "#46039f"
             ],
             [
              0.2222222222222222,
              "#7201a8"
             ],
             [
              0.3333333333333333,
              "#9c179e"
             ],
             [
              0.4444444444444444,
              "#bd3786"
             ],
             [
              0.5555555555555556,
              "#d8576b"
             ],
             [
              0.6666666666666666,
              "#ed7953"
             ],
             [
              0.7777777777777778,
              "#fb9f3a"
             ],
             [
              0.8888888888888888,
              "#fdca26"
             ],
             [
              1,
              "#f0f921"
             ]
            ],
            "type": "histogram2dcontour"
           }
          ],
          "mesh3d": [
           {
            "colorbar": {
             "outlinewidth": 0,
             "ticks": ""
            },
            "type": "mesh3d"
           }
          ],
          "parcoords": [
           {
            "line": {
             "colorbar": {
              "outlinewidth": 0,
              "ticks": ""
             }
            },
            "type": "parcoords"
           }
          ],
          "pie": [
           {
            "automargin": true,
            "type": "pie"
           }
          ],
          "scatter": [
           {
            "fillpattern": {
             "fillmode": "overlay",
             "size": 10,
             "solidity": 0.2
            },
            "type": "scatter"
           }
          ],
          "scatter3d": [
           {
            "line": {
             "colorbar": {
              "outlinewidth": 0,
              "ticks": ""
             }
            },
            "marker": {
             "colorbar": {
              "outlinewidth": 0,
              "ticks": ""
             }
            },
            "type": "scatter3d"
           }
          ],
          "scattercarpet": [
           {
            "marker": {
             "colorbar": {
              "outlinewidth": 0,
              "ticks": ""
             }
            },
            "type": "scattercarpet"
           }
          ],
          "scattergeo": [
           {
            "marker": {
             "colorbar": {
              "outlinewidth": 0,
              "ticks": ""
             }
            },
            "type": "scattergeo"
           }
          ],
          "scattergl": [
           {
            "marker": {
             "colorbar": {
              "outlinewidth": 0,
              "ticks": ""
             }
            },
            "type": "scattergl"
           }
          ],
          "scattermapbox": [
           {
            "marker": {
             "colorbar": {
              "outlinewidth": 0,
              "ticks": ""
             }
            },
            "type": "scattermapbox"
           }
          ],
          "scatterpolar": [
           {
            "marker": {
             "colorbar": {
              "outlinewidth": 0,
              "ticks": ""
             }
            },
            "type": "scatterpolar"
           }
          ],
          "scatterpolargl": [
           {
            "marker": {
             "colorbar": {
              "outlinewidth": 0,
              "ticks": ""
             }
            },
            "type": "scatterpolargl"
           }
          ],
          "scatterternary": [
           {
            "marker": {
             "colorbar": {
              "outlinewidth": 0,
              "ticks": ""
             }
            },
            "type": "scatterternary"
           }
          ],
          "surface": [
           {
            "colorbar": {
             "outlinewidth": 0,
             "ticks": ""
            },
            "colorscale": [
             [
              0,
              "#0d0887"
             ],
             [
              0.1111111111111111,
              "#46039f"
             ],
             [
              0.2222222222222222,
              "#7201a8"
             ],
             [
              0.3333333333333333,
              "#9c179e"
             ],
             [
              0.4444444444444444,
              "#bd3786"
             ],
             [
              0.5555555555555556,
              "#d8576b"
             ],
             [
              0.6666666666666666,
              "#ed7953"
             ],
             [
              0.7777777777777778,
              "#fb9f3a"
             ],
             [
              0.8888888888888888,
              "#fdca26"
             ],
             [
              1,
              "#f0f921"
             ]
            ],
            "type": "surface"
           }
          ],
          "table": [
           {
            "cells": {
             "fill": {
              "color": "#EBF0F8"
             },
             "line": {
              "color": "white"
             }
            },
            "header": {
             "fill": {
              "color": "#C8D4E3"
             },
             "line": {
              "color": "white"
             }
            },
            "type": "table"
           }
          ]
         },
         "layout": {
          "annotationdefaults": {
           "arrowcolor": "#2a3f5f",
           "arrowhead": 0,
           "arrowwidth": 1
          },
          "autotypenumbers": "strict",
          "coloraxis": {
           "colorbar": {
            "outlinewidth": 0,
            "ticks": ""
           }
          },
          "colorscale": {
           "diverging": [
            [
             0,
             "#8e0152"
            ],
            [
             0.1,
             "#c51b7d"
            ],
            [
             0.2,
             "#de77ae"
            ],
            [
             0.3,
             "#f1b6da"
            ],
            [
             0.4,
             "#fde0ef"
            ],
            [
             0.5,
             "#f7f7f7"
            ],
            [
             0.6,
             "#e6f5d0"
            ],
            [
             0.7,
             "#b8e186"
            ],
            [
             0.8,
             "#7fbc41"
            ],
            [
             0.9,
             "#4d9221"
            ],
            [
             1,
             "#276419"
            ]
           ],
           "sequential": [
            [
             0,
             "#0d0887"
            ],
            [
             0.1111111111111111,
             "#46039f"
            ],
            [
             0.2222222222222222,
             "#7201a8"
            ],
            [
             0.3333333333333333,
             "#9c179e"
            ],
            [
             0.4444444444444444,
             "#bd3786"
            ],
            [
             0.5555555555555556,
             "#d8576b"
            ],
            [
             0.6666666666666666,
             "#ed7953"
            ],
            [
             0.7777777777777778,
             "#fb9f3a"
            ],
            [
             0.8888888888888888,
             "#fdca26"
            ],
            [
             1,
             "#f0f921"
            ]
           ],
           "sequentialminus": [
            [
             0,
             "#0d0887"
            ],
            [
             0.1111111111111111,
             "#46039f"
            ],
            [
             0.2222222222222222,
             "#7201a8"
            ],
            [
             0.3333333333333333,
             "#9c179e"
            ],
            [
             0.4444444444444444,
             "#bd3786"
            ],
            [
             0.5555555555555556,
             "#d8576b"
            ],
            [
             0.6666666666666666,
             "#ed7953"
            ],
            [
             0.7777777777777778,
             "#fb9f3a"
            ],
            [
             0.8888888888888888,
             "#fdca26"
            ],
            [
             1,
             "#f0f921"
            ]
           ]
          },
          "colorway": [
           "#636efa",
           "#EF553B",
           "#00cc96",
           "#ab63fa",
           "#FFA15A",
           "#19d3f3",
           "#FF6692",
           "#B6E880",
           "#FF97FF",
           "#FECB52"
          ],
          "font": {
           "color": "#2a3f5f"
          },
          "geo": {
           "bgcolor": "white",
           "lakecolor": "white",
           "landcolor": "#E5ECF6",
           "showlakes": true,
           "showland": true,
           "subunitcolor": "white"
          },
          "hoverlabel": {
           "align": "left"
          },
          "hovermode": "closest",
          "mapbox": {
           "style": "light"
          },
          "paper_bgcolor": "white",
          "plot_bgcolor": "#E5ECF6",
          "polar": {
           "angularaxis": {
            "gridcolor": "white",
            "linecolor": "white",
            "ticks": ""
           },
           "bgcolor": "#E5ECF6",
           "radialaxis": {
            "gridcolor": "white",
            "linecolor": "white",
            "ticks": ""
           }
          },
          "scene": {
           "xaxis": {
            "backgroundcolor": "#E5ECF6",
            "gridcolor": "white",
            "gridwidth": 2,
            "linecolor": "white",
            "showbackground": true,
            "ticks": "",
            "zerolinecolor": "white"
           },
           "yaxis": {
            "backgroundcolor": "#E5ECF6",
            "gridcolor": "white",
            "gridwidth": 2,
            "linecolor": "white",
            "showbackground": true,
            "ticks": "",
            "zerolinecolor": "white"
           },
           "zaxis": {
            "backgroundcolor": "#E5ECF6",
            "gridcolor": "white",
            "gridwidth": 2,
            "linecolor": "white",
            "showbackground": true,
            "ticks": "",
            "zerolinecolor": "white"
           }
          },
          "shapedefaults": {
           "line": {
            "color": "#2a3f5f"
           }
          },
          "ternary": {
           "aaxis": {
            "gridcolor": "white",
            "linecolor": "white",
            "ticks": ""
           },
           "baxis": {
            "gridcolor": "white",
            "linecolor": "white",
            "ticks": ""
           },
           "bgcolor": "#E5ECF6",
           "caxis": {
            "gridcolor": "white",
            "linecolor": "white",
            "ticks": ""
           }
          },
          "title": {
           "x": 0.05
          },
          "xaxis": {
           "automargin": true,
           "gridcolor": "white",
           "linecolor": "white",
           "ticks": "",
           "title": {
            "standoff": 15
           },
           "zerolinecolor": "white",
           "zerolinewidth": 2
          },
          "yaxis": {
           "automargin": true,
           "gridcolor": "white",
           "linecolor": "white",
           "ticks": "",
           "title": {
            "standoff": 15
           },
           "zerolinecolor": "white",
           "zerolinewidth": 2
          }
         }
        }
       }
      }
     },
     "metadata": {},
     "output_type": "display_data"
    }
   ],
   "source": [
    "figure = go.Figure(\n",
    "    data=[\n",
    "        go.Scatter(\n",
    "            y=train_lossess,\n",
    "            mode=\"lines+markers\",\n",
    "            name=\"train\",\n",
    "        ),\n",
    "        go.Scatter(\n",
    "            y=val_lossess,\n",
    "            mode=\"lines+markers\",\n",
    "            name=\"val\",\n",
    "        ),\n",
    "    ]\n",
    ")\n",
    "figure.show()"
   ]
  },
  {
   "cell_type": "code",
   "execution_count": null,
   "metadata": {},
   "outputs": [],
   "source": []
  }
 ],
 "metadata": {
  "kernelspec": {
   "display_name": "pytorch",
   "language": "python",
   "name": "python3"
  },
  "language_info": {
   "codemirror_mode": {
    "name": "ipython",
    "version": 3
   },
   "file_extension": ".py",
   "mimetype": "text/x-python",
   "name": "python",
   "nbconvert_exporter": "python",
   "pygments_lexer": "ipython3",
   "version": "3.11.4"
  }
 },
 "nbformat": 4,
 "nbformat_minor": 2
}
