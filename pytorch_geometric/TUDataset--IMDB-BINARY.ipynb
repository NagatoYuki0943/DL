{
 "cells": [
  {
   "cell_type": "markdown",
   "metadata": {},
   "source": [
    "https://zhuanlan.zhihu.com/p/435945714"
   ]
  },
  {
   "cell_type": "code",
   "execution_count": 1,
   "metadata": {},
   "outputs": [],
   "source": [
    "import torch\n",
    "from torch import nn, Tensor, optim\n",
    "from torch.nn import functional as F\n",
    "from torch_geometric import nn as gnn\n",
    "from torch_geometric import datasets\n",
    "from torch_geometric.data import Data, Dataset\n",
    "from torch_geometric.loader import DataLoader\n",
    "from torch_geometric import transforms as gtransforms\n",
    "from torch_geometric.utils import to_networkx\n",
    "import networkx as nx\n",
    "from tqdm import tqdm\n",
    "from plotly import express as px\n",
    "from plotly import graph_objects as go\n",
    "import matplotlib.pyplot as plt"
   ]
  },
  {
   "cell_type": "code",
   "execution_count": 2,
   "metadata": {},
   "outputs": [
    {
     "data": {
      "text/plain": [
       "'cuda:0'"
      ]
     },
     "execution_count": 2,
     "metadata": {},
     "output_type": "execute_result"
    }
   ],
   "source": [
    "device = \"cuda:0\" if torch.cuda.is_available() else (\"mps\" if torch.backends.mps.is_available() else \"cpu\")\n",
    "device"
   ]
  },
  {
   "cell_type": "code",
   "execution_count": 3,
   "metadata": {},
   "outputs": [],
   "source": [
    "seed = 0\n",
    "torch.manual_seed(seed)\n",
    "torch.cuda.manual_seed(seed)\n",
    "torch.cuda.manual_seed_all(seed)"
   ]
  },
  {
   "cell_type": "markdown",
   "metadata": {},
   "source": [
    "# torch_geometric.data.Data\n",
    "\n",
    "节点和节点之间的边构成了图。所以在 PyG 中，如果你要构建图，那么需要两个要素：节点和边。PyG 提供了torch_geometric.data.Data (下面简称Data) 用于构建图，包括 5 个属性，每一个属性都不是必须的，可以为空。\n",
    "\n",
    "- x: 用于存储每个节点的特征，形状是 `[num_nodes, num_node_features]`\n",
    "- y: 存储样本标签。如果是每个节点都有标签，那么形状是 `[num_nodes, *]`；如果是整张图只有一个标签，那么形状是 `[1, *]`\n",
    "- edge_index: 用于存储节点之间的边，形状是 `[2, num_edges]`\n",
    "- pos: 存储节点的坐标，形状是 `[num_nodes, num_dimensions]`\n",
    "- edge_attr: 存储边的特征。形状是 `[num_edges, num_edge_features]`"
   ]
  },
  {
   "cell_type": "code",
   "execution_count": 4,
   "metadata": {},
   "outputs": [
    {
     "data": {
      "text/plain": [
       "tensor([[ 2.,  1.],\n",
       "        [ 5.,  6.],\n",
       "        [ 3.,  7.],\n",
       "        [12.,  0.]])"
      ]
     },
     "execution_count": 4,
     "metadata": {},
     "output_type": "execute_result"
    }
   ],
   "source": [
    "# x: 用于存储每个节点的特征，形状是 `[num_nodes, num_node_features]`。\n",
    "x = torch.tensor(\n",
    "    [[2,  1],\n",
    "     [5,  6],\n",
    "     [3,  7],\n",
    "     [12, 0]],\n",
    "    dtype=torch.float\n",
    ")\n",
    "x"
   ]
  },
  {
   "cell_type": "code",
   "execution_count": 5,
   "metadata": {},
   "outputs": [
    {
     "data": {
      "text/plain": [
       "tensor([[0],\n",
       "        [2],\n",
       "        [3],\n",
       "        [4]])"
      ]
     },
     "execution_count": 5,
     "metadata": {},
     "output_type": "execute_result"
    }
   ],
   "source": [
    "# y: 存储样本标签。如果是每个节点都有标签，那么形状是 `[num_nodes, *]`；如果是整张图只有一个标签，那么形状是 `[1, *]`。\n",
    "y = torch.tensor(\n",
    "    [[0],\n",
    "     [2],\n",
    "     [3],\n",
    "     [4]],\n",
    "    dtype=torch.long\n",
    ")\n",
    "y"
   ]
  },
  {
   "cell_type": "code",
   "execution_count": 6,
   "metadata": {},
   "outputs": [
    {
     "data": {
      "text/plain": [
       "tensor([[0, 1, 0, 1, 1, 2, 3],\n",
       "        [1, 0, 2, 2, 3, 3, 2]])"
      ]
     },
     "execution_count": 6,
     "metadata": {},
     "output_type": "execute_result"
    }
   ],
   "source": [
    "# edge_index: 用于存储节点之间的边，形状是 `[2, num_edges]`\n",
    "# 5条边: (0 -> 1), (0 -> 2), (1 -> 2), (1 -> 3), (2 -> 3)\n",
    "edge_index = torch.tensor(\n",
    "    [[0, 1, 0, 1, 1, 2, 3],\n",
    "     [1, 0, 2, 2, 3, 3, 2]],\n",
    "    dtype=torch.long\n",
    ")\n",
    "edge_index"
   ]
  },
  {
   "cell_type": "code",
   "execution_count": 7,
   "metadata": {},
   "outputs": [
    {
     "data": {
      "text/plain": [
       "Data(x=[4, 2], edge_index=[2, 7], y=[4, 1])"
      ]
     },
     "execution_count": 7,
     "metadata": {},
     "output_type": "execute_result"
    }
   ],
   "source": [
    "data = Data(x=x, y=y, edge_index=edge_index)\n",
    "data"
   ]
  },
  {
   "cell_type": "code",
   "execution_count": null,
   "metadata": {},
   "outputs": [
    {
     "name": "stdout",
     "output_type": "stream",
     "text": [
      "('x', tensor([[ 2.,  1.],\n",
      "        [ 5.,  6.],\n",
      "        [ 3.,  7.],\n",
      "        [12.,  0.]]))\n",
      "('edge_index', tensor([[0, 1, 0, 1, 1, 2, 3],\n",
      "        [1, 0, 2, 2, 3, 3, 2]]))\n",
      "('y', tensor([[0],\n",
      "        [2],\n",
      "        [3],\n",
      "        [4]]))\n"
     ]
    }
   ],
   "source": [
    "for i in data:\n",
    "    print(i)"
   ]
  },
  {
   "cell_type": "code",
   "execution_count": 9,
   "metadata": {},
   "outputs": [],
   "source": [
    "def visualize_graph(G, color):\n",
    "    plt.figure(figsize=(7,7))\n",
    "    plt.xticks([])\n",
    "    plt.yticks([])\n",
    "    nx.draw_networkx(G, pos=nx.spring_layout(G, seed=42), with_labels=False,\n",
    "                     node_color=color, cmap=\"Set2\")\n",
    "    plt.show()"
   ]
  },
  {
   "cell_type": "code",
   "execution_count": 10,
   "metadata": {},
   "outputs": [
    {
     "data": {
      "image/png": "[encoded data removed]",
      "text/plain": [
       "<Figure size 700x700 with 1 Axes>"
      ]
     },
     "metadata": {},
     "output_type": "display_data"
    }
   ],
   "source": [
    "visualize_graph(to_networkx(data, to_undirected=True), color=data.y)"
   ]
  },
  {
   "cell_type": "markdown",
   "metadata": {},
   "source": [
    "# from torch_geometric.datasets"
   ]
  },
  {
   "cell_type": "code",
   "execution_count": 11,
   "metadata": {},
   "outputs": [
    {
     "data": {
      "text/plain": [
       "Compose([\n",
       "  NormalizeFeatures()\n",
       "])"
      ]
     },
     "execution_count": 11,
     "metadata": {},
     "output_type": "execute_result"
    }
   ],
   "source": [
    "transform = gtransforms.Compose([\n",
    "    gtransforms.NormalizeFeatures(),\n",
    "])\n",
    "transform"
   ]
  },
  {
   "cell_type": "markdown",
   "metadata": {},
   "source": [
    "| Name          | #graphs | #nodes | #edges  | #features | #classes |\n",
    "| ------------- | ------- | ------ | ------- | --------- | -------- |\n",
    "| MUTAG         | 188     | ~17.9  | ~39.6   | 7         | 2        |\n",
    "| ENZYMES       | 600     | ~32.6  | ~124.3  | 3         | 6        |\n",
    "| PROTEINS      | 1,113   | ~39.1  | ~145.6  | 3         | 2        |\n",
    "| COLLAB        | 5,000   | ~74.5  | ~4914.4 | 0         | 3        |\n",
    "| IMDB-BINARY   | 1,000   | ~19.8  | ~193.1  | 0         | 2        |\n",
    "| REDDIT-BINARY | 2,000   | ~429.6 | ~995.5  | 0         | 2        |"
   ]
  },
  {
   "cell_type": "code",
   "execution_count": 12,
   "metadata": {},
   "outputs": [
    {
     "name": "stderr",
     "output_type": "stream",
     "text": [
      "d:\\miniconda3\\envs\\pytorch\\Lib\\site-packages\\torch_geometric\\data\\dataset.py:214: UserWarning: The `pre_transform` argument differs from the one used in the pre-processed version of this dataset. If you want to make use of another pre-processing technique, make sure to delete 'datasets\\TUDataset\\IMDB-BINARY\\processed' first\n",
      "  warnings.warn(\n"
     ]
    },
    {
     "data": {
      "text/plain": [
       "Data(edge_index=[2, 146], y=[1], num_nodes=20)"
      ]
     },
     "execution_count": 12,
     "metadata": {},
     "output_type": "execute_result"
    }
   ],
   "source": [
    "dataset = datasets.TUDataset(\n",
    "    root=\"./datasets/TUDataset\",\n",
    "    name=\"IMDB-BINARY\",   # MUTAG, ENZYMES, PROTEINS, COLLAB, IMDB-BINARY, REDDIT-BINARY\n",
    "    transform=transform,\n",
    "    pre_transform=gtransforms.OneHotDegree(135),\n",
    ")\n",
    "dataset[0]"
   ]
  },
  {
   "cell_type": "code",
   "execution_count": 13,
   "metadata": {},
   "outputs": [
    {
     "data": {
      "text/plain": [
       "Data(edge_index=[2, 98], y=[1], num_nodes=14)"
      ]
     },
     "execution_count": 13,
     "metadata": {},
     "output_type": "execute_result"
    }
   ],
   "source": [
    "dataset = dataset.shuffle()\n",
    "dataset[0]"
   ]
  },
  {
   "cell_type": "code",
   "execution_count": 14,
   "metadata": {},
   "outputs": [
    {
     "data": {
      "text/plain": [
       "(0, 0, 0)"
      ]
     },
     "execution_count": 14,
     "metadata": {},
     "output_type": "execute_result"
    }
   ],
   "source": [
    "dataset.num_edge_attributes, dataset.num_edge_features, dataset.num_edge_labels"
   ]
  },
  {
   "cell_type": "code",
   "execution_count": 15,
   "metadata": {},
   "outputs": [
    {
     "data": {
      "text/plain": [
       "(0, 0, 0)"
      ]
     },
     "execution_count": 15,
     "metadata": {},
     "output_type": "execute_result"
    }
   ],
   "source": [
    "dataset.num_node_attributes, dataset.num_node_features, dataset.num_edge_labels"
   ]
  },
  {
   "cell_type": "code",
   "execution_count": 16,
   "metadata": {},
   "outputs": [
    {
     "data": {
      "text/plain": [
       "(0, 2)"
      ]
     },
     "execution_count": 16,
     "metadata": {},
     "output_type": "execute_result"
    }
   ],
   "source": [
    "dataset.num_features, dataset.num_classes"
   ]
  },
  {
   "cell_type": "code",
   "execution_count": 17,
   "metadata": {},
   "outputs": [
    {
     "name": "stdout",
     "output_type": "stream",
     "text": [
      "1000\n",
      "800\n",
      "200\n"
     ]
    }
   ],
   "source": [
    "val_ratio = 0.2\n",
    "dataset_len = len(dataset)\n",
    "print(dataset_len)\n",
    "val_dataset_len = int(dataset_len * val_ratio)\n",
    "print(dataset_len - val_dataset_len)\n",
    "print(val_dataset_len)"
   ]
  },
  {
   "cell_type": "code",
   "execution_count": 18,
   "metadata": {},
   "outputs": [
    {
     "name": "stdout",
     "output_type": "stream",
     "text": [
      "800\n",
      "200\n"
     ]
    }
   ],
   "source": [
    "train_dataset = dataset[:-val_dataset_len]\n",
    "print(len(train_dataset))\n",
    "val_dataset = dataset[-val_dataset_len:]\n",
    "print(len(val_dataset))"
   ]
  },
  {
   "cell_type": "code",
   "execution_count": 19,
   "metadata": {},
   "outputs": [
    {
     "data": {
      "text/plain": [
       "<torch_geometric.loader.dataloader.DataLoader at 0x28b27c28610>"
      ]
     },
     "execution_count": 19,
     "metadata": {},
     "output_type": "execute_result"
    }
   ],
   "source": [
    "train_dataloader = DataLoader(dataset=train_dataset, batch_size=2, shuffle=True)\n",
    "train_dataloader"
   ]
  },
  {
   "cell_type": "code",
   "execution_count": 20,
   "metadata": {},
   "outputs": [
    {
     "data": {
      "text/plain": [
       "<torch_geometric.loader.dataloader.DataLoader at 0x28b27bb8650>"
      ]
     },
     "execution_count": 20,
     "metadata": {},
     "output_type": "execute_result"
    }
   ],
   "source": [
    "val_dataloader = DataLoader(dataset=val_dataset, batch_size=2, shuffle=False)\n",
    "val_dataloader"
   ]
  },
  {
   "cell_type": "code",
   "execution_count": 21,
   "metadata": {},
   "outputs": [
    {
     "name": "stdout",
     "output_type": "stream",
     "text": [
      "DataBatch(edge_index=[2, 270], y=[2], num_nodes=46, batch=[46], ptr=[3])\n",
      "edge_index: \t torch.Size([2, 270])\n",
      "batch: \t\t torch.Size([46])\n",
      "y: \t\t torch.Size([2])\n",
      "y: \t\t tensor([[0],\n",
      "        [2],\n",
      "        [3],\n",
      "        [4]])\n",
      "DataBatch(edge_index=[2, 324], y=[2], num_nodes=51, batch=[51], ptr=[3])\n",
      "edge_index: \t torch.Size([2, 324])\n",
      "batch: \t\t torch.Size([51])\n",
      "y: \t\t torch.Size([2])\n",
      "y: \t\t tensor([[0],\n",
      "        [2],\n",
      "        [3],\n",
      "        [4]])\n",
      "DataBatch(edge_index=[2, 274], y=[2], num_nodes=37, batch=[37], ptr=[3])\n",
      "edge_index: \t torch.Size([2, 274])\n",
      "batch: \t\t torch.Size([37])\n",
      "y: \t\t torch.Size([2])\n",
      "y: \t\t tensor([[0],\n",
      "        [2],\n",
      "        [3],\n",
      "        [4]])\n",
      "DataBatch(edge_index=[2, 306], y=[2], num_nodes=37, batch=[37], ptr=[3])\n",
      "edge_index: \t torch.Size([2, 306])\n",
      "batch: \t\t torch.Size([37])\n",
      "y: \t\t torch.Size([2])\n",
      "y: \t\t tensor([[0],\n",
      "        [2],\n",
      "        [3],\n",
      "        [4]])\n",
      "DataBatch(edge_index=[2, 368], y=[2], num_nodes=35, batch=[35], ptr=[3])\n",
      "edge_index: \t torch.Size([2, 368])\n",
      "batch: \t\t torch.Size([35])\n",
      "y: \t\t torch.Size([2])\n",
      "y: \t\t tensor([[0],\n",
      "        [2],\n",
      "        [3],\n",
      "        [4]])\n",
      "DataBatch(edge_index=[2, 188], y=[2], num_nodes=28, batch=[28], ptr=[3])\n",
      "edge_index: \t torch.Size([2, 188])\n",
      "batch: \t\t torch.Size([28])\n",
      "y: \t\t torch.Size([2])\n",
      "y: \t\t tensor([[0],\n",
      "        [2],\n",
      "        [3],\n",
      "        [4]])\n"
     ]
    }
   ],
   "source": [
    "for i, batch in enumerate(train_dataloader):\n",
    "    print(batch)\n",
    "    # print(\"x: \\t\\t\",        batch.x.shape)          # [batch_sum, num_features] 图的每一条数据的长度不一定相等,batch_sum代表这个batch中的全部节点数据\n",
    "    print(\"edge_index: \\t\", batch.edge_index.shape) # 代表边的连接\n",
    "    print(\"batch: \\t\\t\",    batch.batch.shape)      # batch代表是这个batch中哪一些数据是一组的. 0为1组,1为1组...\n",
    "    # print(\"batch: \\t\\t\",    batch.batch)\n",
    "    print(\"y: \\t\\t\",        batch.y.shape)          # 类别\n",
    "    print(\"y: \\t\\t\",        y)\n",
    "    if i >= 5:\n",
    "        break"
   ]
  },
  {
   "cell_type": "code",
   "execution_count": 22,
   "metadata": {},
   "outputs": [
    {
     "ename": "AttributeError",
     "evalue": "'NoneType' object has no attribute 'shape'",
     "output_type": "error",
     "traceback": [
      "\u001b[1;31m---------------------------------------------------------------------------\u001b[0m",
      "\u001b[1;31mAttributeError\u001b[0m                            Traceback (most recent call last)",
      "\u001b[1;32md:\\ml\\code\\test\\pytorch\\geometric\\TUDataset--IMDB-BINARY.ipynb 单元格 26\u001b[0m line \u001b[0;36m1\n\u001b[1;32m----> <a href='vscode-notebook-cell:/d%3A/ml/code/test/pytorch/geometric/TUDataset--IMDB-BINARY.ipynb#X34sZmlsZQ%3D%3D?line=0'>1</a>\u001b[0m batch\u001b[39m.\u001b[39;49mx\u001b[39m.\u001b[39;49mshape\n",
      "\u001b[1;31mAttributeError\u001b[0m: 'NoneType' object has no attribute 'shape'"
     ]
    }
   ],
   "source": [
    "batch.x.shape"
   ]
  },
  {
   "cell_type": "markdown",
   "metadata": {},
   "source": [
    "# Model"
   ]
  },
  {
   "cell_type": "code",
   "execution_count": null,
   "metadata": {},
   "outputs": [],
   "source": [
    "class Net(nn.Module):\n",
    "    def __init__(\n",
    "        self,\n",
    "        hidden_channels: int = 64,\n",
    "        num_layers: int = 3,\n",
    "        norm: nn.Module = nn.BatchNorm1d,   # [BatchNorm1d, LayerNorm, InstanceNorm1d]\n",
    "        act: nn.Module = nn.ReLU\n",
    "    ) -> None:\n",
    "        super().__init__()\n",
    "        self.gnn = gnn.GIN(dataset.num_node_features, hidden_channels, num_layers,\n",
    "                       dropout=0.1, jk='cat')\n",
    "\n",
    "        self.classifier = gnn.MLP([hidden_channels, hidden_channels, dataset.num_classes],\n",
    "                              norm=\"batch_norm\", dropout=0.1)\n",
    "\n",
    "    def forward(self, x: Tensor, edge_index: Tensor, batch: Tensor = None) -> Tensor:\n",
    "        x = self.gnn(x, edge_index)\n",
    "\n",
    "        # global_max_pool: 将节点嵌入聚合到一个统一的图嵌入(readout layer)中\n",
    "        x = gnn.global_max_pool(x, batch)   # [batch_sum, num_features] -> [batch, num_features]\n",
    "\n",
    "        x = self.classifier(x)\n",
    "        return x"
   ]
  },
  {
   "cell_type": "code",
   "execution_count": null,
   "metadata": {},
   "outputs": [],
   "source": [
    "net = Net().to(device)\n",
    "net"
   ]
  },
  {
   "cell_type": "code",
   "execution_count": null,
   "metadata": {},
   "outputs": [],
   "source": [
    "optimizer = optim.Adam(params=net.parameters())\n",
    "optimizer"
   ]
  },
  {
   "cell_type": "code",
   "execution_count": null,
   "metadata": {},
   "outputs": [],
   "source": [
    "epochs = 100"
   ]
  },
  {
   "cell_type": "code",
   "execution_count": null,
   "metadata": {},
   "outputs": [],
   "source": [
    "lr_scheduler = optim.lr_scheduler.CosineAnnealingLR(optimizer=optimizer, T_max=epochs, eta_min=optimizer.state_dict()['param_groups'][0]['lr'] * 0.01)\n",
    "lr_scheduler"
   ]
  },
  {
   "cell_type": "code",
   "execution_count": null,
   "metadata": {},
   "outputs": [],
   "source": [
    "loss_fn = nn.CrossEntropyLoss()\n",
    "loss_fn"
   ]
  },
  {
   "cell_type": "markdown",
   "metadata": {},
   "source": [
    "# train"
   ]
  },
  {
   "cell_type": "code",
   "execution_count": null,
   "metadata": {},
   "outputs": [],
   "source": [
    "train_accuracies = []\n",
    "train_lossess    = []\n",
    "val_accuracies   = []\n",
    "val_lossess      = []\n",
    "for epoch in range(1, epochs + 1):\n",
    "    net.train()\n",
    "    train_y_trues = []\n",
    "    train_y_preds = []\n",
    "    train_losses  = []\n",
    "    pbar = tqdm(total=len(train_dataloader), desc=f\"train-epoch: {epoch}\")\n",
    "    for batch in train_dataloader:\n",
    "        optimizer.zero_grad()\n",
    "        x, edge_index, batch, y = batch.x, batch.edge_index, batch.batch, batch.y\n",
    "        edge_index, batch, y = edge_index.to(device), batch.to(device), y.to(device)\n",
    "        y_pred = net(x, edge_index, batch)\n",
    "        loss: Tensor = loss_fn(y_pred, y)\n",
    "        loss.backward()\n",
    "        optimizer.step()\n",
    "\n",
    "        train_y_trues.append(y)\n",
    "        train_y_preds.append(y_pred.argmax(dim=-1))\n",
    "        train_losses.append(loss.item())\n",
    "        pbar.update(1)\n",
    "        pbar.set_postfix({\"loss\": loss.item()})\n",
    "    pbar.close()\n",
    "\n",
    "    lr_scheduler.step()\n",
    "\n",
    "    # 准确率\n",
    "    train_y_trues_ = torch.cat(train_y_trues)\n",
    "    train_y_preds_ = torch.cat(train_y_preds)\n",
    "    train_accuracy = (train_y_trues_ == train_y_preds_).float().sum().divide(len(train_y_trues_))\n",
    "    train_accuracies.append(train_accuracy.item())\n",
    "    train_lossess.append(torch.tensor(train_losses).mean().item())\n",
    "\n",
    "\n",
    "    net.eval()\n",
    "    val_y_trues = []\n",
    "    val_y_preds = []\n",
    "    val_losses  = []\n",
    "    pbar = tqdm(total=len(val_dataloader), desc=f\"val-epoch: {epoch}\")\n",
    "    for batch in val_dataloader:\n",
    "        x, edge_index, batch, y = batch.x, batch.edge_index, batch.batch, batch.y\n",
    "        edge_index, batch, y = edge_index.to(device), batch.to(device), y.to(device)\n",
    "        with torch.inference_mode():\n",
    "            y_pred = net(x, edge_index, batch)\n",
    "        loss: Tensor = loss_fn(y_pred, y)\n",
    "\n",
    "        val_y_trues.append(y)\n",
    "        val_y_preds.append(y_pred.argmax(dim=-1))\n",
    "        val_losses.append(loss.item())\n",
    "        pbar.update(1)\n",
    "        pbar.set_postfix({\"loss\": loss.item()})\n",
    "    pbar.close()\n",
    "\n",
    "    # 准确率\n",
    "    val_y_trues_ = torch.cat(val_y_trues)\n",
    "    val_y_preds_ = torch.cat(val_y_preds)\n",
    "    val_accuracy = (val_y_trues_ == val_y_preds_).float().sum().divide(len(val_y_trues_))\n",
    "    val_accuracies.append(val_accuracy.item())\n",
    "    val_lossess.append(torch.tensor(val_losses).mean().item())\n",
    "\n",
    "    print(f\"\\033[0;31;40mepoch: {epoch}\\033[0m \" +\n",
    "        f\"\\033[0;32;40mtrain_accuracy = {train_accuracy.item()}\\033[0m \" +\n",
    "        f\"\\033[0;34;40mval_accuracy = {val_accuracy.item()}\\033[0m\")"
   ]
  },
  {
   "cell_type": "code",
   "execution_count": null,
   "metadata": {},
   "outputs": [],
   "source": [
    "print(max(train_accuracies), max(val_accuracies))\n",
    "# 1.0 0.9729729890823364"
   ]
  },
  {
   "cell_type": "code",
   "execution_count": null,
   "metadata": {},
   "outputs": [],
   "source": [
    "figure = go.Figure(\n",
    "    data=[\n",
    "        go.Scatter(\n",
    "            y=train_accuracies,\n",
    "            mode=\"lines+markers\",\n",
    "            name=\"train\",\n",
    "        ),\n",
    "        go.Scatter(\n",
    "            y=val_accuracies,\n",
    "            mode=\"lines+markers\",\n",
    "            name=\"val\",\n",
    "        ),\n",
    "    ]\n",
    ")\n",
    "figure.show()"
   ]
  },
  {
   "cell_type": "code",
   "execution_count": null,
   "metadata": {},
   "outputs": [],
   "source": [
    "figure = go.Figure(\n",
    "    data=[\n",
    "        go.Scatter(\n",
    "            y=train_lossess,\n",
    "            mode=\"lines+markers\",\n",
    "            name=\"train\"\n",
    "        ),\n",
    "        go.Scatter(\n",
    "            y=val_lossess,\n",
    "            mode=\"lines+markers\",\n",
    "            name=\"val\"\n",
    "        ),\n",
    "    ]\n",
    ")\n",
    "figure.show()"
   ]
  },
  {
   "cell_type": "code",
   "execution_count": null,
   "metadata": {},
   "outputs": [],
   "source": []
  }
 ],
 "metadata": {
  "kernelspec": {
   "display_name": "pytorch",
   "language": "python",
   "name": "python3"
  },
  "language_info": {
   "codemirror_mode": {
    "name": "ipython",
    "version": 3
   },
   "file_extension": ".py",
   "mimetype": "text/x-python",
   "name": "python",
   "nbconvert_exporter": "python",
   "pygments_lexer": "ipython3",
   "version": "3.11.4"
  }
 },
 "nbformat": 4,
 "nbformat_minor": 2
}
