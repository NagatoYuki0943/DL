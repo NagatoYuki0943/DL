{
 "cells": [
  {
   "cell_type": "code",
   "execution_count": 2,
   "metadata": {},
   "outputs": [],
   "source": [
    "import numpy as np\n",
    "import plotly.express as px\n",
    "import plotly.graph_objects as go\n",
    "import matplotlib.pyplot as plt"
   ]
  },
  {
   "cell_type": "code",
   "execution_count": 3,
   "metadata": {},
   "outputs": [
    {
     "data": {
      "text/plain": [
       "array([-10.        ,  -9.7979798 ,  -9.5959596 ,  -9.39393939,\n",
       "        -9.19191919,  -8.98989899,  -8.78787879,  -8.58585859,\n",
       "        -8.38383838,  -8.18181818,  -7.97979798,  -7.77777778,\n",
       "        -7.57575758,  -7.37373737,  -7.17171717,  -6.96969697,\n",
       "        -6.76767677,  -6.56565657,  -6.36363636,  -6.16161616,\n",
       "        -5.95959596,  -5.75757576,  -5.55555556,  -5.35353535,\n",
       "        -5.15151515,  -4.94949495,  -4.74747475,  -4.54545455,\n",
       "        -4.34343434,  -4.14141414,  -3.93939394,  -3.73737374,\n",
       "        -3.53535354,  -3.33333333,  -3.13131313,  -2.92929293,\n",
       "        -2.72727273,  -2.52525253,  -2.32323232,  -2.12121212,\n",
       "        -1.91919192,  -1.71717172,  -1.51515152,  -1.31313131,\n",
       "        -1.11111111,  -0.90909091,  -0.70707071,  -0.50505051,\n",
       "        -0.3030303 ,  -0.1010101 ,   0.1010101 ,   0.3030303 ,\n",
       "         0.50505051,   0.70707071,   0.90909091,   1.11111111,\n",
       "         1.31313131,   1.51515152,   1.71717172,   1.91919192,\n",
       "         2.12121212,   2.32323232,   2.52525253,   2.72727273,\n",
       "         2.92929293,   3.13131313,   3.33333333,   3.53535354,\n",
       "         3.73737374,   3.93939394,   4.14141414,   4.34343434,\n",
       "         4.54545455,   4.74747475,   4.94949495,   5.15151515,\n",
       "         5.35353535,   5.55555556,   5.75757576,   5.95959596,\n",
       "         6.16161616,   6.36363636,   6.56565657,   6.76767677,\n",
       "         6.96969697,   7.17171717,   7.37373737,   7.57575758,\n",
       "         7.77777778,   7.97979798,   8.18181818,   8.38383838,\n",
       "         8.58585859,   8.78787879,   8.98989899,   9.19191919,\n",
       "         9.39393939,   9.5959596 ,   9.7979798 ,  10.        ])"
      ]
     },
     "execution_count": 3,
     "metadata": {},
     "output_type": "execute_result"
    }
   ],
   "source": [
    "y = np.linspace(-10, 10, 100)\n",
    "y"
   ]
  },
  {
   "cell_type": "code",
   "execution_count": 4,
   "metadata": {},
   "outputs": [],
   "source": [
    "def softmax(array: np.ndarray, axis=-1) -> np.ndarray:\n",
    "    array_ = array.copy()\n",
    "    array_ -= array_.max(axis=axis, keepdims=True)\n",
    "    array_ = np.exp(array_)\n",
    "    return array_ / array_.sum(axis=-1, keepdims=True)"
   ]
  },
  {
   "cell_type": "code",
   "execution_count": 5,
   "metadata": {},
   "outputs": [],
   "source": [
    "y_s = softmax(y)"
   ]
  },
  {
   "cell_type": "markdown",
   "metadata": {},
   "source": [
    "# temperature\n",
    "\n",
    "温度系数T主要是用来调整logits-softmax曲线的平滑程度\n",
    "\n",
    "如果不使用T,或者说T=1,那么softmax不变,loss也不变\n",
    "\n",
    "随着T的减小,softmax输出各类别之间的概率差距越大(陡峭)\n",
    "\n",
    "随着T的增大,softmax输出的各类别概率差距会越来越小(平滑)\n",
    "\n",
    "温度对llm的影响\n",
    "\n",
    "「温度」是一个大于0的数值，通常在 0 到 1 之间。它影响模型生成文本时采样预测词汇的概率分布。当模型的「温度」较高时（如 0.8、1 或更高），模型会更倾向于从较多样且不同的词汇中选择，这使得生成的文本风险性更高、创意性更强，但也可能产生更多的错误和不连贯之处。而当「温度」较低时（如 0.2、0.3 等），模型主要会从具有较高概率的词汇中选择，从而产生更平稳、更连贯的文本。但此时，生成的文本可能会显得过于保守和重复。"
   ]
  },
  {
   "cell_type": "code",
   "execution_count": 6,
   "metadata": {},
   "outputs": [],
   "source": [
    "temperature1 = 0.75\n",
    "y_s1 = softmax(y / temperature1)"
   ]
  },
  {
   "cell_type": "code",
   "execution_count": 7,
   "metadata": {},
   "outputs": [],
   "source": [
    "temperature2 = 1.25\n",
    "y_s2 = softmax(y / temperature2)"
   ]
  },
  {
   "cell_type": "code",
   "execution_count": 10,
   "metadata": {},
   "outputs": [
    {
     "data": {
      "application/vnd.plotly.v1+json": {
       "config": {
        "plotlyServerURL": "https://plot.ly"
       },
       "data": [
        {
         "mode": "lines",
         "name": "softmax",
         "type": "scatter",
         "y": [
          3.770294755229264e-10,
          4.6143609446514485e-10,
          5.647390538363873e-10,
          6.911687290039416e-10,
          8.459025610283473e-10,
          1.0352770788480414e-9,
          1.2670473874498843e-9,
          1.550704748365457e-9,
          1.8978652577808946e-9,
          2.3227455390772284e-9,
          2.8427449299596202e-9,
          3.479158005410095e-9,
          4.258046615100669e-9,
          5.211307146205107e-9,
          6.377976717252624e-9,
          7.805831793168957e-9,
          9.553344686635031e-9,
          1.1692078066750923e-8,
          1.4309615532897713e-8,
          1.7513148264177503e-8,
          2.143386462186489e-8,
          2.623232246415323e-8,
          3.2105024175684423e-8,
          3.929246366690519e-8,
          4.808897487715871e-8,
          5.8854785089075336e-8,
          7.203076665139143e-8,
          8.815649121026654e-8,
          1.078923257907002e-7,
          1.320464755880721e-7,
          1.6160808090332472e-7,
          1.9778772357946027e-7,
          2.4206700172466503e-7,
          2.9625920286416747e-7,
          3.625835601563882e-7,
          4.437561325511226e-7,
          5.431010305370572e-7,
          6.646865423013225e-7,
          8.134917348243602e-7,
          9.956103524171359e-7,
          0.0000012185003625810541,
          0.0000014912893683814242,
          0.000001825148394323547,
          0.000002233749352694249,
          0.000002733824924143377,
          0.000003345853780260961,
          0.000004094899208805175,
          0.000005011635484251619,
          0.000006133604014722145,
          0.000007506750705959118,
          0.00000918730749917353,
          0.000011244095133912656,
          0.000013761341436743205,
          0.00001684213054792325,
          0.00002061262433587435,
          0.000025227228871246985,
          0.000030874917533652405,
          0.00003778696968957722,
          0.000046246441849268766,
          0.00005659975915739357,
          0.000069270901902383,
          0.00008477876799839266,
          0.00010375842245354131,
          0.00012698710401467118,
          0.0001554160539907336,
          0.00019020947068184194,
          0.00023279218464280168,
          0.0002849080071381617,
          0.0003486911412253416,
          0.00042675357983206863,
          0.0005222920698802374,
          0.0006392190227604585,
          0.0007823227320922743,
          0.0009574634598721454,
          0.0011718134209632186,
          0.0014341504935685813,
          0.0017552176834707619,
          0.002148163062512758,
          0.002629078197309001,
          0.003217657117463114,
          0.003938002808801288,
          0.004819614258449509,
          0.005898594472389555,
          0.007219128935206099,
          0.008835295056657342,
          0.010813276703994113,
          0.013234074507680152,
          0.016196822930660573,
          0.019822849938991242,
          0.024260645522025094,
          0.02969194252878999,
          0.036339158837822245,
          0.04447450562589664,
          0.05443113472976735,
          0.0666167815982405,
          0.08153046252920994,
          0.09978290996277277,
          0.1221215826792546,
          0.1494612750986126,
          0.18292157916733134
         ]
        },
        {
         "name": "softmax with temperature = 0.75",
         "type": "scatter",
         "y": [
          6.19396357479378e-13,
          8.108683059500844e-13,
          1.0615293449094114e-12,
          1.3896764022407934e-12,
          1.81926247466077e-12,
          2.3816450695802674e-12,
          3.117875137018737e-12,
          4.081693571474456e-12,
          5.3434540125125524e-12,
          6.99525828773136e-12,
          9.157679358236887e-12,
          1.1988562506028025e-11,
          1.569454720334429e-11,
          2.0546150699397874e-11,
          2.6897514346410372e-11,
          3.521225404214299e-11,
          4.609730173427282e-11,
          6.034720823714913e-11,
          7.900214123184167e-11,
          1.034238119962234e-10,
          1.3539487311413485e-10,
          1.7724904266980677e-10,
          2.3204145330435791e-10,
          3.0377166071301074e-10,
          3.9767559002186044e-10,
          5.206077305830154e-10,
          6.815414773833611e-10,
          8.922241413390348e-10,
          1.168034440757006e-9,
          1.5291050662975808e-9,
          2.0017922607329702e-9,
          2.620599685038631e-9,
          3.4306970028498234e-9,
          4.491217026605595e-9,
          5.879572099581006e-9,
          7.69710478682846e-9,
          1.007648534553043e-8,
          1.3191395950908774e-8,
          1.726920857487653e-8,
          2.2607581935408816e-8,
          2.9596189006008177e-8,
          3.8745161078347684e-8,
          5.07223246439723e-8,
          6.640194919014741e-8,
          8.692856424069471e-8,
          1.1380050394770343e-7,
          1.4897927754670797e-7,
          1.9503274913913018e-7,
          2.553225781675662e-7,
          3.342496027455818e-7,
          4.375750775250907e-7,
          5.728412147637797e-7,
          7.499217258625216e-7,
          9.817425499883603e-7,
          0.0000012852253791542202,
          0.0000016825228520875416,
          0.0000022026355794963684,
          0.0000028835290350106184,
          0.00000377490483362228,
          0.000004941828686268944,
          0.00000646947985202487,
          0.000008469368772747853,
          0.000011087476744570974,
          0.000014514911779135783,
          0.000019001858475983395,
          0.000024875840172884614,
          0.000032565626414332885,
          0.00004263253085674232,
          0.00005581138419161965,
          0.00007306417289303269,
          0.00009565025913377282,
          0.00012521830755207663,
          0.00016392662903586666,
          0.00021460072598319507,
          0.00028093953900825964,
          0.0003677854500098659,
          0.0004814777503959061,
          0.0006303153757716188,
          0.0008251626842723884,
          0.0010802424971500595,
          0.001414174289374187,
          0.0018513333126618972,
          0.0024236298597172298,
          0.003172838546543091,
          0.0041536476380944435,
          0.005437651001890744,
          0.007118574081052322,
          0.009319115355106418,
          0.012199902678956542,
          0.01597121826531037,
          0.020908348172167638,
          0.02737167672663397,
          0.03583299267154304,
          0.046909927244225554,
          0.061411037984725705,
          0.08039482915262161,
          0.10524701693019443,
          0.1377816793624393,
          0.18037367444366786,
          0.2361319921694862
         ]
        },
        {
         "name": "softmax with temperature = 1.25",
         "type": "scatter",
         "y": [
          1.6793884655044152e-8,
          1.9739682960863476e-8,
          2.3202200765286766e-8,
          2.7272075312456033e-8,
          3.205584243375039e-8,
          3.7678725302877936e-8,
          4.42879123636758e-8,
          5.205641023590595e-8,
          6.118757245535746e-8,
          7.192042259566439e-8,
          8.453591111353277e-8,
          9.936426970085586e-8,
          1.167936556562867e-7,
          1.3728031255727909e-7,
          1.6136051320532364e-7,
          1.8966459747111636e-7,
          2.2293347250393962e-7,
          2.620380072260639e-7,
          3.08001828795778e-7,
          3.6202811777492304e-7,
          4.255311034096371e-7,
          5.001730834664092e-7,
          5.879079376800952e-7,
          6.910322738518076e-7,
          8.122455454320498e-7,
          9.547207142682444e-7,
          0.000001122187308233285,
          0.0000013190290479086031,
          0.0000015503985978649065,
          0.0000018223524463488702,
          0.0000021420094440791564,
          0.000002517737152172122,
          0.000002959370877168515,
          0.0000034784711267725062,
          0.000004088626225641191,
          0.000004805808012703466,
          0.000005648789930985397,
          0.000006639638454148729,
          0.000007804290713660911,
          0.000009173233446962246,
          0.000010782301039243832,
          0.00001267361354892562,
          0.000014896679271234244,
          0.000017509690701341643,
          0.000020581047821085797,
          0.000024191148583873303,
          0.000028434493466725845,
          0.00003342215917967047,
          0.00003928470628599023,
          0.0000461755968451987,
          0.00005427521154130919,
          0.00006379557145150726,
          0.00007498588805548482,
          0.0000881390867662939,
          0.00010359947474714281,
          0.00012177175373217438,
          0.00014313161377701175,
          0.0001682381852483637,
          0.00019774867500451927,
          0.00023243556989344889,
          0.0002732068578990869,
          0.00032112979625841497,
          0.00037745884871990095,
          0.00044366852324815984,
          0.0005214919697571383,
          0.0006129663482326115,
          0.000720486154831112,
          0.0008468659018558876,
          0.0009954137923639907,
          0.0011700183179616035,
          0.001375250046630981,
          0.0016164812650570663,
          0.001900026607293504,
          0.0022333083509605764,
          0.002625050707881898,
          0.003085508195044974,
          0.003626734063880808,
          0.004262895814451628,
          0.005010646053662902,
          0.005889558405338892,
          0.006922639882843285,
          0.008136933136462346,
          0.009564224340392103,
          0.011241875249465176,
          0.013213801206105566,
          0.015531620698493698,
          0.018256006561564876,
          0.021458274190807577,
          0.025222248343035762,
          0.02964645739079478,
          0.034846712468711856,
          0.040959139025296125,
          0.04814374013617091,
          0.05658858485447388,
          0.06651473123555857,
          0.07818201290447731,
          0.09189584063940702,
          0.10801519701393685,
          0.12696203337146922,
          0.14923231511338358
         ]
        }
       ],
       "layout": {
        "template": {
         "data": {
          "bar": [
           {
            "error_x": {
             "color": "#2a3f5f"
            },
            "error_y": {
             "color": "#2a3f5f"
            },
            "marker": {
             "line": {
              "color": "#E5ECF6",
              "width": 0.5
             },
             "pattern": {
              "fillmode": "overlay",
              "size": 10,
              "solidity": 0.2
             }
            },
            "type": "bar"
           }
          ],
          "barpolar": [
           {
            "marker": {
             "line": {
              "color": "#E5ECF6",
              "width": 0.5
             },
             "pattern": {
              "fillmode": "overlay",
              "size": 10,
              "solidity": 0.2
             }
            },
            "type": "barpolar"
           }
          ],
          "carpet": [
           {
            "aaxis": {
             "endlinecolor": "#2a3f5f",
             "gridcolor": "white",
             "linecolor": "white",
             "minorgridcolor": "white",
             "startlinecolor": "#2a3f5f"
            },
            "baxis": {
             "endlinecolor": "#2a3f5f",
             "gridcolor": "white",
             "linecolor": "white",
             "minorgridcolor": "white",
             "startlinecolor": "#2a3f5f"
            },
            "type": "carpet"
           }
          ],
          "choropleth": [
           {
            "colorbar": {
             "outlinewidth": 0,
             "ticks": ""
            },
            "type": "choropleth"
           }
          ],
          "contour": [
           {
            "colorbar": {
             "outlinewidth": 0,
             "ticks": ""
            },
            "colorscale": [
             [
              0,
              "#0d0887"
             ],
             [
              0.1111111111111111,
              "#46039f"
             ],
             [
              0.2222222222222222,
              "#7201a8"
             ],
             [
              0.3333333333333333,
              "#9c179e"
             ],
             [
              0.4444444444444444,
              "#bd3786"
             ],
             [
              0.5555555555555556,
              "#d8576b"
             ],
             [
              0.6666666666666666,
              "#ed7953"
             ],
             [
              0.7777777777777778,
              "#fb9f3a"
             ],
             [
              0.8888888888888888,
              "#fdca26"
             ],
             [
              1,
              "#f0f921"
             ]
            ],
            "type": "contour"
           }
          ],
          "contourcarpet": [
           {
            "colorbar": {
             "outlinewidth": 0,
             "ticks": ""
            },
            "type": "contourcarpet"
           }
          ],
          "heatmap": [
           {
            "colorbar": {
             "outlinewidth": 0,
             "ticks": ""
            },
            "colorscale": [
             [
              0,
              "#0d0887"
             ],
             [
              0.1111111111111111,
              "#46039f"
             ],
             [
              0.2222222222222222,
              "#7201a8"
             ],
             [
              0.3333333333333333,
              "#9c179e"
             ],
             [
              0.4444444444444444,
              "#bd3786"
             ],
             [
              0.5555555555555556,
              "#d8576b"
             ],
             [
              0.6666666666666666,
              "#ed7953"
             ],
             [
              0.7777777777777778,
              "#fb9f3a"
             ],
             [
              0.8888888888888888,
              "#fdca26"
             ],
             [
              1,
              "#f0f921"
             ]
            ],
            "type": "heatmap"
           }
          ],
          "heatmapgl": [
           {
            "colorbar": {
             "outlinewidth": 0,
             "ticks": ""
            },
            "colorscale": [
             [
              0,
              "#0d0887"
             ],
             [
              0.1111111111111111,
              "#46039f"
             ],
             [
              0.2222222222222222,
              "#7201a8"
             ],
             [
              0.3333333333333333,
              "#9c179e"
             ],
             [
              0.4444444444444444,
              "#bd3786"
             ],
             [
              0.5555555555555556,
              "#d8576b"
             ],
             [
              0.6666666666666666,
              "#ed7953"
             ],
             [
              0.7777777777777778,
              "#fb9f3a"
             ],
             [
              0.8888888888888888,
              "#fdca26"
             ],
             [
              1,
              "#f0f921"
             ]
            ],
            "type": "heatmapgl"
           }
          ],
          "histogram": [
           {
            "marker": {
             "pattern": {
              "fillmode": "overlay",
              "size": 10,
              "solidity": 0.2
             }
            },
            "type": "histogram"
           }
          ],
          "histogram2d": [
           {
            "colorbar": {
             "outlinewidth": 0,
             "ticks": ""
            },
            "colorscale": [
             [
              0,
              "#0d0887"
             ],
             [
              0.1111111111111111,
              "#46039f"
             ],
             [
              0.2222222222222222,
              "#7201a8"
             ],
             [
              0.3333333333333333,
              "#9c179e"
             ],
             [
              0.4444444444444444,
              "#bd3786"
             ],
             [
              0.5555555555555556,
              "#d8576b"
             ],
             [
              0.6666666666666666,
              "#ed7953"
             ],
             [
              0.7777777777777778,
              "#fb9f3a"
             ],
             [
              0.8888888888888888,
              "#fdca26"
             ],
             [
              1,
              "#f0f921"
             ]
            ],
            "type": "histogram2d"
           }
          ],
          "histogram2dcontour": [
           {
            "colorbar": {
             "outlinewidth": 0,
             "ticks": ""
            },
            "colorscale": [
             [
              0,
              "#0d0887"
             ],
             [
              0.1111111111111111,
              "#46039f"
             ],
             [
              0.2222222222222222,
              "#7201a8"
             ],
             [
              0.3333333333333333,
              "#9c179e"
             ],
             [
              0.4444444444444444,
              "#bd3786"
             ],
             [
              0.5555555555555556,
              "#d8576b"
             ],
             [
              0.6666666666666666,
              "#ed7953"
             ],
             [
              0.7777777777777778,
              "#fb9f3a"
             ],
             [
              0.8888888888888888,
              "#fdca26"
             ],
             [
              1,
              "#f0f921"
             ]
            ],
            "type": "histogram2dcontour"
           }
          ],
          "mesh3d": [
           {
            "colorbar": {
             "outlinewidth": 0,
             "ticks": ""
            },
            "type": "mesh3d"
           }
          ],
          "parcoords": [
           {
            "line": {
             "colorbar": {
              "outlinewidth": 0,
              "ticks": ""
             }
            },
            "type": "parcoords"
           }
          ],
          "pie": [
           {
            "automargin": true,
            "type": "pie"
           }
          ],
          "scatter": [
           {
            "fillpattern": {
             "fillmode": "overlay",
             "size": 10,
             "solidity": 0.2
            },
            "type": "scatter"
           }
          ],
          "scatter3d": [
           {
            "line": {
             "colorbar": {
              "outlinewidth": 0,
              "ticks": ""
             }
            },
            "marker": {
             "colorbar": {
              "outlinewidth": 0,
              "ticks": ""
             }
            },
            "type": "scatter3d"
           }
          ],
          "scattercarpet": [
           {
            "marker": {
             "colorbar": {
              "outlinewidth": 0,
              "ticks": ""
             }
            },
            "type": "scattercarpet"
           }
          ],
          "scattergeo": [
           {
            "marker": {
             "colorbar": {
              "outlinewidth": 0,
              "ticks": ""
             }
            },
            "type": "scattergeo"
           }
          ],
          "scattergl": [
           {
            "marker": {
             "colorbar": {
              "outlinewidth": 0,
              "ticks": ""
             }
            },
            "type": "scattergl"
           }
          ],
          "scattermapbox": [
           {
            "marker": {
             "colorbar": {
              "outlinewidth": 0,
              "ticks": ""
             }
            },
            "type": "scattermapbox"
           }
          ],
          "scatterpolar": [
           {
            "marker": {
             "colorbar": {
              "outlinewidth": 0,
              "ticks": ""
             }
            },
            "type": "scatterpolar"
           }
          ],
          "scatterpolargl": [
           {
            "marker": {
             "colorbar": {
              "outlinewidth": 0,
              "ticks": ""
             }
            },
            "type": "scatterpolargl"
           }
          ],
          "scatterternary": [
           {
            "marker": {
             "colorbar": {
              "outlinewidth": 0,
              "ticks": ""
             }
            },
            "type": "scatterternary"
           }
          ],
          "surface": [
           {
            "colorbar": {
             "outlinewidth": 0,
             "ticks": ""
            },
            "colorscale": [
             [
              0,
              "#0d0887"
             ],
             [
              0.1111111111111111,
              "#46039f"
             ],
             [
              0.2222222222222222,
              "#7201a8"
             ],
             [
              0.3333333333333333,
              "#9c179e"
             ],
             [
              0.4444444444444444,
              "#bd3786"
             ],
             [
              0.5555555555555556,
              "#d8576b"
             ],
             [
              0.6666666666666666,
              "#ed7953"
             ],
             [
              0.7777777777777778,
              "#fb9f3a"
             ],
             [
              0.8888888888888888,
              "#fdca26"
             ],
             [
              1,
              "#f0f921"
             ]
            ],
            "type": "surface"
           }
          ],
          "table": [
           {
            "cells": {
             "fill": {
              "color": "#EBF0F8"
             },
             "line": {
              "color": "white"
             }
            },
            "header": {
             "fill": {
              "color": "#C8D4E3"
             },
             "line": {
              "color": "white"
             }
            },
            "type": "table"
           }
          ]
         },
         "layout": {
          "annotationdefaults": {
           "arrowcolor": "#2a3f5f",
           "arrowhead": 0,
           "arrowwidth": 1
          },
          "autotypenumbers": "strict",
          "coloraxis": {
           "colorbar": {
            "outlinewidth": 0,
            "ticks": ""
           }
          },
          "colorscale": {
           "diverging": [
            [
             0,
             "#8e0152"
            ],
            [
             0.1,
             "#c51b7d"
            ],
            [
             0.2,
             "#de77ae"
            ],
            [
             0.3,
             "#f1b6da"
            ],
            [
             0.4,
             "#fde0ef"
            ],
            [
             0.5,
             "#f7f7f7"
            ],
            [
             0.6,
             "#e6f5d0"
            ],
            [
             0.7,
             "#b8e186"
            ],
            [
             0.8,
             "#7fbc41"
            ],
            [
             0.9,
             "#4d9221"
            ],
            [
             1,
             "#276419"
            ]
           ],
           "sequential": [
            [
             0,
             "#0d0887"
            ],
            [
             0.1111111111111111,
             "#46039f"
            ],
            [
             0.2222222222222222,
             "#7201a8"
            ],
            [
             0.3333333333333333,
             "#9c179e"
            ],
            [
             0.4444444444444444,
             "#bd3786"
            ],
            [
             0.5555555555555556,
             "#d8576b"
            ],
            [
             0.6666666666666666,
             "#ed7953"
            ],
            [
             0.7777777777777778,
             "#fb9f3a"
            ],
            [
             0.8888888888888888,
             "#fdca26"
            ],
            [
             1,
             "#f0f921"
            ]
           ],
           "sequentialminus": [
            [
             0,
             "#0d0887"
            ],
            [
             0.1111111111111111,
             "#46039f"
            ],
            [
             0.2222222222222222,
             "#7201a8"
            ],
            [
             0.3333333333333333,
             "#9c179e"
            ],
            [
             0.4444444444444444,
             "#bd3786"
            ],
            [
             0.5555555555555556,
             "#d8576b"
            ],
            [
             0.6666666666666666,
             "#ed7953"
            ],
            [
             0.7777777777777778,
             "#fb9f3a"
            ],
            [
             0.8888888888888888,
             "#fdca26"
            ],
            [
             1,
             "#f0f921"
            ]
           ]
          },
          "colorway": [
           "#636efa",
           "#EF553B",
           "#00cc96",
           "#ab63fa",
           "#FFA15A",
           "#19d3f3",
           "#FF6692",
           "#B6E880",
           "#FF97FF",
           "#FECB52"
          ],
          "font": {
           "color": "#2a3f5f"
          },
          "geo": {
           "bgcolor": "white",
           "lakecolor": "white",
           "landcolor": "#E5ECF6",
           "showlakes": true,
           "showland": true,
           "subunitcolor": "white"
          },
          "hoverlabel": {
           "align": "left"
          },
          "hovermode": "closest",
          "mapbox": {
           "style": "light"
          },
          "paper_bgcolor": "white",
          "plot_bgcolor": "#E5ECF6",
          "polar": {
           "angularaxis": {
            "gridcolor": "white",
            "linecolor": "white",
            "ticks": ""
           },
           "bgcolor": "#E5ECF6",
           "radialaxis": {
            "gridcolor": "white",
            "linecolor": "white",
            "ticks": ""
           }
          },
          "scene": {
           "xaxis": {
            "backgroundcolor": "#E5ECF6",
            "gridcolor": "white",
            "gridwidth": 2,
            "linecolor": "white",
            "showbackground": true,
            "ticks": "",
            "zerolinecolor": "white"
           },
           "yaxis": {
            "backgroundcolor": "#E5ECF6",
            "gridcolor": "white",
            "gridwidth": 2,
            "linecolor": "white",
            "showbackground": true,
            "ticks": "",
            "zerolinecolor": "white"
           },
           "zaxis": {
            "backgroundcolor": "#E5ECF6",
            "gridcolor": "white",
            "gridwidth": 2,
            "linecolor": "white",
            "showbackground": true,
            "ticks": "",
            "zerolinecolor": "white"
           }
          },
          "shapedefaults": {
           "line": {
            "color": "#2a3f5f"
           }
          },
          "ternary": {
           "aaxis": {
            "gridcolor": "white",
            "linecolor": "white",
            "ticks": ""
           },
           "baxis": {
            "gridcolor": "white",
            "linecolor": "white",
            "ticks": ""
           },
           "bgcolor": "#E5ECF6",
           "caxis": {
            "gridcolor": "white",
            "linecolor": "white",
            "ticks": ""
           }
          },
          "title": {
           "x": 0.05
          },
          "xaxis": {
           "automargin": true,
           "gridcolor": "white",
           "linecolor": "white",
           "ticks": "",
           "title": {
            "standoff": 15
           },
           "zerolinecolor": "white",
           "zerolinewidth": 2
          },
          "yaxis": {
           "automargin": true,
           "gridcolor": "white",
           "linecolor": "white",
           "ticks": "",
           "title": {
            "standoff": 15
           },
           "zerolinecolor": "white",
           "zerolinewidth": 2
          }
         }
        }
       }
      }
     },
     "metadata": {},
     "output_type": "display_data"
    }
   ],
   "source": [
    "figure = go.Figure(data=[\n",
    "    go.Scatter(\n",
    "        y=y_s,\n",
    "        name=\"softmax\",\n",
    "        mode=\"lines\"   # ['lines', 'markers', 'text'] joined with '+' characters\n",
    "    ),\n",
    "    go.Scatter(\n",
    "        y=y_s1,\n",
    "        name=f\"softmax with temperature = {temperature1}\",\n",
    "    ),\n",
    "    go.Scatter(\n",
    "        y=y_s2,\n",
    "        name=f\"softmax with temperature = {temperature2}\",\n",
    "    ),\n",
    "])\n",
    "figure.show()"
   ]
  },
  {
   "cell_type": "code",
   "execution_count": 20,
   "metadata": {},
   "outputs": [
    {
     "data": {
      "image/png": "[encoded data removed]",
      "text/plain": [
       "<Figure size 2000x800 with 1 Axes>"
      ]
     },
     "metadata": {},
     "output_type": "display_data"
    }
   ],
   "source": [
    "plt.figure(figsize=(20, 8))\n",
    "plt.plot(y_s, label=\"softmax\")\n",
    "plt.plot(y_s1, label=f\"softmax with temperature = {temperature1}\")\n",
    "plt.plot(y_s2, label=f\"softmax with temperature = {temperature2}\")\n",
    "plt.legend()\n",
    "plt.grid()\n",
    "plt.show()"
   ]
  },
  {
   "cell_type": "code",
   "execution_count": null,
   "metadata": {},
   "outputs": [],
   "source": []
  }
 ],
 "metadata": {
  "kernelspec": {
   "display_name": "pytorch",
   "language": "python",
   "name": "python3"
  },
  "language_info": {
   "codemirror_mode": {
    "name": "ipython",
    "version": 3
   },
   "file_extension": ".py",
   "mimetype": "text/x-python",
   "name": "python",
   "nbconvert_exporter": "python",
   "pygments_lexer": "ipython3",
   "version": "3.11.4"
  }
 },
 "nbformat": 4,
 "nbformat_minor": 2
}
