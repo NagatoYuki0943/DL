{
 "cells": [
  {
   "cell_type": "code",
   "execution_count": 239,
   "metadata": {},
   "outputs": [],
   "source": [
    "import torch\n",
    "from torch import nn, Tensor"
   ]
  },
  {
   "cell_type": "code",
   "execution_count": 240,
   "metadata": {},
   "outputs": [],
   "source": [
    "batch = 1\n",
    "in_channels = 3\n",
    "out_channels = 512\n",
    "patch_size = 16\n",
    "num_patches = 2"
   ]
  },
  {
   "cell_type": "markdown",
   "metadata": {},
   "source": [
    "# init image"
   ]
  },
  {
   "cell_type": "code",
   "execution_count": 241,
   "metadata": {},
   "outputs": [
    {
     "data": {
      "text/plain": [
       "torch.Size([1, 4, 768])"
      ]
     },
     "execution_count": 241,
     "metadata": {},
     "output_type": "execute_result"
    }
   ],
   "source": [
    "image: Tensor = torch.ones(\n",
    "    batch, in_channels, num_patches * patch_size, num_patches * patch_size\n",
    ")\n",
    "image_flatten: Tensor = (\n",
    "    image.reshape(batch, in_channels, num_patches, patch_size, num_patches, patch_size)\n",
    "    .permute(0, 2, 4, 1, 3, 5)\n",
    "    .reshape(batch, num_patches * num_patches, in_channels * patch_size * patch_size)\n",
    ")\n",
    "image_flatten.shape"
   ]
  },
  {
   "cell_type": "markdown",
   "metadata": {},
   "source": [
    "# init parameters"
   ]
  },
  {
   "cell_type": "code",
   "execution_count": 242,
   "metadata": {},
   "outputs": [
    {
     "name": "stdout",
     "output_type": "stream",
     "text": [
      "torch.Size([512, 3, 16, 16])\n",
      "torch.Size([512, 768])\n"
     ]
    }
   ],
   "source": [
    "weight: Tensor = torch.arange(\n",
    "    out_channels * in_channels * patch_size * patch_size, dtype=torch.float32\n",
    ").reshape(out_channels, in_channels, patch_size, patch_size)\n",
    "weight_flatten: Tensor = weight.flatten(1)\n",
    "print(weight.shape)\n",
    "print(weight_flatten.shape)"
   ]
  },
  {
   "cell_type": "code",
   "execution_count": 243,
   "metadata": {},
   "outputs": [
    {
     "data": {
      "text/plain": [
       "torch.Size([512])"
      ]
     },
     "execution_count": 243,
     "metadata": {},
     "output_type": "execute_result"
    }
   ],
   "source": [
    "bias: Tensor = torch.arange(512, dtype=torch.float32)\n",
    "bias.shape"
   ]
  },
  {
   "cell_type": "markdown",
   "metadata": {},
   "source": [
    "# init conv"
   ]
  },
  {
   "cell_type": "code",
   "execution_count": 244,
   "metadata": {},
   "outputs": [
    {
     "data": {
      "text/plain": [
       "Conv2d(3, 512, kernel_size=(16, 16), stride=(16, 16))"
      ]
     },
     "execution_count": 244,
     "metadata": {},
     "output_type": "execute_result"
    }
   ],
   "source": [
    "conv: nn.Conv2d = nn.Conv2d(in_channels, out_channels, kernel_size=16, stride=16).eval()\n",
    "conv"
   ]
  },
  {
   "cell_type": "code",
   "execution_count": 245,
   "metadata": {},
   "outputs": [
    {
     "name": "stdout",
     "output_type": "stream",
     "text": [
      "torch.Size([512, 3, 16, 16])\n",
      "torch.Size([512])\n"
     ]
    }
   ],
   "source": [
    "# out_c, in_c, k_h, k_w\n",
    "print(conv.weight.data.shape)\n",
    "print(conv.bias.data.shape)"
   ]
  },
  {
   "cell_type": "markdown",
   "metadata": {},
   "source": [
    "## replace weight and bias"
   ]
  },
  {
   "cell_type": "code",
   "execution_count": 246,
   "metadata": {},
   "outputs": [
    {
     "name": "stdout",
     "output_type": "stream",
     "text": [
      "torch.Size([512, 3, 16, 16])\n",
      "torch.Size([512])\n"
     ]
    }
   ],
   "source": [
    "conv.weight.data = weight\n",
    "conv.bias.data = bias\n",
    "print(conv.weight.data.shape)\n",
    "print(conv.bias.data.shape)"
   ]
  },
  {
   "cell_type": "markdown",
   "metadata": {},
   "source": [
    "# init linear"
   ]
  },
  {
   "cell_type": "code",
   "execution_count": 247,
   "metadata": {},
   "outputs": [
    {
     "data": {
      "text/plain": [
       "Linear(in_features=768, out_features=512, bias=True)"
      ]
     },
     "execution_count": 247,
     "metadata": {},
     "output_type": "execute_result"
    }
   ],
   "source": [
    "linear: nn.Linear = nn.Linear(\n",
    "    in_channels * patch_size * patch_size, out_channels\n",
    ").eval()\n",
    "linear"
   ]
  },
  {
   "cell_type": "code",
   "execution_count": 248,
   "metadata": {},
   "outputs": [
    {
     "name": "stdout",
     "output_type": "stream",
     "text": [
      "torch.Size([512, 768])\n",
      "torch.Size([512])\n"
     ]
    }
   ],
   "source": [
    "print(linear.weight.data.shape)\n",
    "print(linear.bias.data.shape)"
   ]
  },
  {
   "cell_type": "markdown",
   "metadata": {},
   "source": [
    "## replace weight and bias"
   ]
  },
  {
   "cell_type": "code",
   "execution_count": 249,
   "metadata": {},
   "outputs": [
    {
     "name": "stdout",
     "output_type": "stream",
     "text": [
      "torch.Size([512, 768])\n",
      "torch.Size([512])\n"
     ]
    }
   ],
   "source": [
    "linear.weight.data = weight_flatten\n",
    "linear.bias.data = bias\n",
    "print(linear.weight.data.shape)\n",
    "print(linear.bias.data.shape)"
   ]
  },
  {
   "cell_type": "markdown",
   "metadata": {},
   "source": [
    "# run"
   ]
  },
  {
   "cell_type": "code",
   "execution_count": 257,
   "metadata": {},
   "outputs": [
    {
     "name": "stdout",
     "output_type": "stream",
     "text": [
      "torch.Size([1, 512, 2, 2])\n",
      "torch.Size([1, 4, 512])\n"
     ]
    }
   ],
   "source": [
    "with torch.inference_mode():\n",
    "    conv_ret: Tensor = conv(image)\n",
    "print(conv_ret.shape)\n",
    "conv_ret = conv_ret.reshape(batch, out_channels, -1).transpose(1, 2)\n",
    "print(conv_ret.shape)"
   ]
  },
  {
   "cell_type": "code",
   "execution_count": 258,
   "metadata": {},
   "outputs": [
    {
     "data": {
      "text/plain": [
       "torch.Size([1, 4, 512])"
      ]
     },
     "execution_count": 258,
     "metadata": {},
     "output_type": "execute_result"
    }
   ],
   "source": [
    "with torch.inference_mode():\n",
    "    linear_ret: Tensor = linear(image_flatten)\n",
    "linear_ret.shape"
   ]
  },
  {
   "cell_type": "code",
   "execution_count": 269,
   "metadata": {},
   "outputs": [
    {
     "data": {
      "text/plain": [
       "tensor([  294528.,   884353.,  1474178.,  2064003.,  2653828.,  3243653.,\n",
       "         3833478.,  4423303.,  5013128.,  5602953.,  6192778.,  6782603.,\n",
       "         7372428.,  7962253.,  8552078.,  9141903.,  9731728., 10321553.,\n",
       "        10911378., 11501203., 12091028., 12680853., 13270678., 13860503.,\n",
       "        14450328., 15040153., 15629978., 16219803., 16809628., 17399452.,\n",
       "        17989272., 18579092.])"
      ]
     },
     "execution_count": 269,
     "metadata": {},
     "output_type": "execute_result"
    }
   ],
   "source": [
    "conv_ret[0, 0, :32]"
   ]
  },
  {
   "cell_type": "code",
   "execution_count": 270,
   "metadata": {},
   "outputs": [
    {
     "data": {
      "text/plain": [
       "tensor([  294528.,   884353.,  1474178.,  2064003.,  2653828.,  3243653.,\n",
       "         3833478.,  4423303.,  5013128.,  5602953.,  6192778.,  6782603.,\n",
       "         7372428.,  7962253.,  8552078.,  9141903.,  9731728., 10321553.,\n",
       "        10911378., 11501203., 12091028., 12680853., 13270678., 13860503.,\n",
       "        14450328., 15040153., 15629978., 16219803., 16809628., 17399452.,\n",
       "        17989278., 18579104.])"
      ]
     },
     "execution_count": 270,
     "metadata": {},
     "output_type": "execute_result"
    }
   ],
   "source": [
    "linear_ret[0, 0, :32]"
   ]
  },
  {
   "cell_type": "code",
   "execution_count": 267,
   "metadata": {},
   "outputs": [
    {
     "data": {
      "text/plain": [
       "tensor(False)"
      ]
     },
     "execution_count": 267,
     "metadata": {},
     "output_type": "execute_result"
    }
   ],
   "source": [
    "torch.all(conv_ret == linear_ret)"
   ]
  },
  {
   "cell_type": "code",
   "execution_count": 268,
   "metadata": {},
   "outputs": [
    {
     "data": {
      "text/plain": [
       "True"
      ]
     },
     "execution_count": 268,
     "metadata": {},
     "output_type": "execute_result"
    }
   ],
   "source": [
    "torch.allclose(conv_ret, linear_ret)"
   ]
  },
  {
   "cell_type": "code",
   "execution_count": null,
   "metadata": {},
   "outputs": [],
   "source": []
  }
 ],
 "metadata": {
  "kernelspec": {
   "display_name": "cv",
   "language": "python",
   "name": "python3"
  },
  "language_info": {
   "codemirror_mode": {
    "name": "ipython",
    "version": 3
   },
   "file_extension": ".py",
   "mimetype": "text/x-python",
   "name": "python",
   "nbconvert_exporter": "python",
   "pygments_lexer": "ipython3",
   "version": "3.11.9"
  }
 },
 "nbformat": 4,
 "nbformat_minor": 2
}
