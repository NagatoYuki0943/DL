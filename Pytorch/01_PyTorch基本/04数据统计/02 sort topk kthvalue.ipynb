{
 "cells": [
  {
   "cell_type": "code",
   "execution_count": 6,
   "metadata": {},
   "outputs": [],
   "source": [
    "import torch"
   ]
  },
  {
   "cell_type": "code",
   "execution_count": 7,
   "metadata": {},
   "outputs": [
    {
     "data": {
      "text/plain": [
       "tensor([[18,  4, 50, 70, 50, 26, 10, 71,  4, 60],\n",
       "        [42, 64, 72,  9, 74, 20, 88, 79, 61, 40]])"
      ]
     },
     "execution_count": 7,
     "metadata": {},
     "output_type": "execute_result"
    }
   ],
   "source": [
    "arr1 = torch.randint(1, 100, (2, 10))\n",
    "arr1"
   ]
  },
  {
   "cell_type": "markdown",
   "metadata": {},
   "source": [
    "# 排序 tensor.sort(descending=True/False) torch.sort(tensor, descending=True/False) 返回两个值 (排序后的序列, 索引)\n"
   ]
  },
  {
   "cell_type": "code",
   "execution_count": 8,
   "metadata": {},
   "outputs": [
    {
     "data": {
      "text/plain": [
       "torch.return_types.sort(\n",
       "values=tensor([[ 4,  4, 10, 18, 26, 50, 50, 60, 70, 71],\n",
       "        [ 9, 20, 40, 42, 61, 64, 72, 74, 79, 88]]),\n",
       "indices=tensor([[1, 8, 6, 0, 5, 2, 4, 9, 3, 7],\n",
       "        [3, 5, 9, 0, 8, 1, 2, 4, 7, 6]]))"
      ]
     },
     "execution_count": 8,
     "metadata": {},
     "output_type": "execute_result"
    }
   ],
   "source": [
    "arr1.sort(descending=False)"
   ]
  },
  {
   "cell_type": "code",
   "execution_count": 9,
   "metadata": {},
   "outputs": [
    {
     "data": {
      "text/plain": [
       "torch.return_types.sort(\n",
       "values=tensor([[ 4,  4, 10, 18, 26, 50, 50, 60, 70, 71],\n",
       "        [ 9, 20, 40, 42, 61, 64, 72, 74, 79, 88]]),\n",
       "indices=tensor([[1, 8, 6, 0, 5, 2, 4, 9, 3, 7],\n",
       "        [3, 5, 9, 0, 8, 1, 2, 4, 7, 6]]))"
      ]
     },
     "execution_count": 9,
     "metadata": {},
     "output_type": "execute_result"
    }
   ],
   "source": [
    "arr1.sort(dim=1, descending=False)"
   ]
  },
  {
   "cell_type": "code",
   "execution_count": 16,
   "metadata": {},
   "outputs": [
    {
     "data": {
      "text/plain": [
       "torch.return_types.sort(\n",
       "values=tensor([[71, 70, 60, 50, 50, 26, 18, 10,  4,  4],\n",
       "        [88, 79, 74, 72, 64, 61, 42, 40, 20,  9]]),\n",
       "indices=tensor([[7, 3, 9, 2, 4, 5, 0, 6, 1, 8],\n",
       "        [6, 7, 4, 2, 1, 8, 0, 9, 5, 3]]))"
      ]
     },
     "execution_count": 16,
     "metadata": {},
     "output_type": "execute_result"
    }
   ],
   "source": [
    "arr1.sort(dim=1, descending=True)"
   ]
  },
  {
   "cell_type": "markdown",
   "metadata": {},
   "source": [
    "# a.topk(k=n, dim=维度, largest=True/False) 前n个预测值和下标\n",
    "\n",
    "- largest 最大值,最小值"
   ]
  },
  {
   "cell_type": "code",
   "execution_count": 10,
   "metadata": {},
   "outputs": [
    {
     "data": {
      "text/plain": [
       "torch.return_types.topk(\n",
       "values=tensor([[71, 70, 60, 50, 50],\n",
       "        [88, 79, 74, 72, 64]]),\n",
       "indices=tensor([[7, 3, 9, 2, 4],\n",
       "        [6, 7, 4, 2, 1]]))"
      ]
     },
     "execution_count": 10,
     "metadata": {},
     "output_type": "execute_result"
    }
   ],
   "source": [
    "arr1.topk(5)"
   ]
  },
  {
   "cell_type": "code",
   "execution_count": 11,
   "metadata": {},
   "outputs": [
    {
     "data": {
      "text/plain": [
       "torch.return_types.topk(\n",
       "values=tensor([[71, 70, 60, 50, 50],\n",
       "        [88, 79, 74, 72, 64]]),\n",
       "indices=tensor([[7, 3, 9, 2, 4],\n",
       "        [6, 7, 4, 2, 1]]))"
      ]
     },
     "execution_count": 11,
     "metadata": {},
     "output_type": "execute_result"
    }
   ],
   "source": [
    "arr1.topk(5, dim=-1)"
   ]
  },
  {
   "cell_type": "code",
   "execution_count": 12,
   "metadata": {},
   "outputs": [
    {
     "data": {
      "text/plain": [
       "torch.return_types.topk(\n",
       "values=tensor([[ 4,  4, 10, 18, 26],\n",
       "        [ 9, 20, 40, 42, 61]]),\n",
       "indices=tensor([[1, 8, 6, 0, 5],\n",
       "        [3, 5, 9, 0, 8]]))"
      ]
     },
     "execution_count": 12,
     "metadata": {},
     "output_type": "execute_result"
    }
   ],
   "source": [
    "arr1.topk(5, dim=-1, largest=False)"
   ]
  },
  {
   "cell_type": "markdown",
   "metadata": {},
   "source": [
    "# tensor.kthvalue(k=n, dim=1, keepdim=True) 返回第n小的值和下标"
   ]
  },
  {
   "cell_type": "code",
   "execution_count": 13,
   "metadata": {},
   "outputs": [
    {
     "data": {
      "text/plain": [
       "torch.return_types.kthvalue(\n",
       "values=tensor([4, 9]),\n",
       "indices=tensor([8, 3]))"
      ]
     },
     "execution_count": 13,
     "metadata": {},
     "output_type": "execute_result"
    }
   ],
   "source": [
    "arr1.kthvalue(k=1, dim=1)"
   ]
  },
  {
   "cell_type": "code",
   "execution_count": 14,
   "metadata": {},
   "outputs": [
    {
     "data": {
      "text/plain": [
       "torch.return_types.kthvalue(\n",
       "values=tensor([ 4, 20]),\n",
       "indices=tensor([1, 5]))"
      ]
     },
     "execution_count": 14,
     "metadata": {},
     "output_type": "execute_result"
    }
   ],
   "source": [
    "arr1.kthvalue(k=2, dim=1)"
   ]
  },
  {
   "cell_type": "code",
   "execution_count": 15,
   "metadata": {},
   "outputs": [
    {
     "data": {
      "text/plain": [
       "torch.return_types.kthvalue(\n",
       "values=tensor([[10],\n",
       "        [40]]),\n",
       "indices=tensor([[6],\n",
       "        [9]]))"
      ]
     },
     "execution_count": 15,
     "metadata": {},
     "output_type": "execute_result"
    }
   ],
   "source": [
    "arr1.kthvalue(k=3, dim=1, keepdim=True)"
   ]
  },
  {
   "cell_type": "code",
   "execution_count": null,
   "metadata": {},
   "outputs": [],
   "source": []
  }
 ],
 "metadata": {
  "kernelspec": {
   "display_name": "pytorch",
   "language": "python",
   "name": "python3"
  },
  "language_info": {
   "codemirror_mode": {
    "name": "ipython",
    "version": 3
   },
   "file_extension": ".py",
   "mimetype": "text/x-python",
   "name": "python",
   "nbconvert_exporter": "python",
   "pygments_lexer": "ipython3",
   "version": "3.9.15"
  },
  "orig_nbformat": 4,
  "vscode": {
   "interpreter": {
    "hash": "6e3a9582807446cfda6e60e7a572d3bab8c423d141a376f0e3f6f7956ef3b5a5"
   }
  }
 },
 "nbformat": 4,
 "nbformat_minor": 2
}
