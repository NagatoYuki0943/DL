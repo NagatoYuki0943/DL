{
 "cells": [
  {
   "cell_type": "code",
   "execution_count": 1,
   "id": "e897f96d",
   "metadata": {},
   "outputs": [],
   "source": [
    "import torch"
   ]
  },
  {
   "cell_type": "markdown",
   "id": "29ccaa94",
   "metadata": {},
   "source": [
    "# torch.where(cond, a, b) cond成立,选择a的相应位置的值,否则选择b的位置的值"
   ]
  },
  {
   "cell_type": "code",
   "execution_count": 14,
   "id": "18e6ae73",
   "metadata": {},
   "outputs": [
    {
     "data": {
      "text/plain": [
       "tensor([[0.4963, 0.7682],\n",
       "        [0.0885, 0.1320]])"
      ]
     },
     "execution_count": 14,
     "metadata": {},
     "output_type": "execute_result"
    }
   ],
   "source": [
    "torch.manual_seed(0)\n",
    "cond = torch.rand([2, 2])\n",
    "cond"
   ]
  },
  {
   "cell_type": "code",
   "execution_count": 15,
   "id": "d70a1fd1",
   "metadata": {},
   "outputs": [
    {
     "data": {
      "text/plain": [
       "tensor([[0., 1.],\n",
       "        [0., 0.]])"
      ]
     },
     "execution_count": 15,
     "metadata": {},
     "output_type": "execute_result"
    }
   ],
   "source": [
    "#           cond大于0.5的位置选择1,否则选择0\n",
    "torch.where(cond > 0.5, 1.0, 0.0)"
   ]
  },
  {
   "cell_type": "code",
   "execution_count": 16,
   "id": "6b0ba48a",
   "metadata": {},
   "outputs": [
    {
     "data": {
      "text/plain": [
       "(tensor([[1, 2],\n",
       "         [3, 4]]),\n",
       " tensor([[5, 6],\n",
       "         [7, 8]]))"
      ]
     },
     "execution_count": 16,
     "metadata": {},
     "output_type": "execute_result"
    }
   ],
   "source": [
    "a = torch.arange(1, 5).reshape(2, 2)\n",
    "b = torch.arange(5, 9).reshape(2, 2)\n",
    "a, b"
   ]
  },
  {
   "cell_type": "code",
   "execution_count": 17,
   "id": "2bc33f3c",
   "metadata": {},
   "outputs": [
    {
     "data": {
      "text/plain": [
       "tensor([[5, 2],\n",
       "        [7, 8]])"
      ]
     },
     "execution_count": 17,
     "metadata": {},
     "output_type": "execute_result"
    }
   ],
   "source": [
    "#           cond大于0.5的位置选择a,否则选择b\n",
    "torch.where(cond > 0.5, a, b)"
   ]
  },
  {
   "cell_type": "markdown",
   "id": "03aec7f4",
   "metadata": {},
   "source": [
    "# torch.gather(a, index=[索引位置], dim=维度) 从dim维度从a中选择index的数据"
   ]
  },
  {
   "cell_type": "code",
   "execution_count": 18,
   "id": "85cf942c",
   "metadata": {},
   "outputs": [
    {
     "data": {
      "text/plain": [
       "tensor([[1, 2, 3],\n",
       "        [4, 5, 6]])"
      ]
     },
     "execution_count": 18,
     "metadata": {},
     "output_type": "execute_result"
    }
   ],
   "source": [
    "x = torch.arange(1, 7).reshape(2, 3)\n",
    "x"
   ]
  },
  {
   "cell_type": "code",
   "execution_count": 26,
   "id": "36c21214",
   "metadata": {},
   "outputs": [
    {
     "data": {
      "text/plain": [
       "tensor([[1]])"
      ]
     },
     "execution_count": 26,
     "metadata": {},
     "output_type": "execute_result"
    }
   ],
   "source": [
    "#               从dim=1找下标为0的是1\n",
    "torch.gather(x, dim=1, index=torch.tensor([[0]]))"
   ]
  },
  {
   "cell_type": "code",
   "execution_count": 27,
   "id": "066372f5",
   "metadata": {},
   "outputs": [
    {
     "data": {
      "text/plain": [
       "tensor([[1, 1]])"
      ]
     },
     "execution_count": 27,
     "metadata": {},
     "output_type": "execute_result"
    }
   ],
   "source": [
    "#               从dim=1找下标为0的是1,2个都是\n",
    "torch.gather(x, dim=1, index=torch.tensor([[0, 0]]))"
   ]
  },
  {
   "cell_type": "code",
   "execution_count": 28,
   "id": "f9ad5fe7",
   "metadata": {},
   "outputs": [
    {
     "data": {
      "text/plain": [
       "tensor([[1, 2]])"
      ]
     },
     "execution_count": 28,
     "metadata": {},
     "output_type": "execute_result"
    }
   ],
   "source": [
    "#               从dim=1找下标为0的是1\n",
    "torch.gather(x, dim=1, index=torch.tensor([[0, 1]]))"
   ]
  },
  {
   "cell_type": "code",
   "execution_count": 29,
   "id": "635eeebf",
   "metadata": {},
   "outputs": [
    {
     "data": {
      "text/plain": [
       "tensor([[1],\n",
       "        [4]])"
      ]
     },
     "execution_count": 29,
     "metadata": {},
     "output_type": "execute_result"
    }
   ],
   "source": [
    "#               第一维度的[0]从dim=1找下标为0的是1,第2维度的[0]是在dim=1中的index=1的值,为4\n",
    "torch.gather(x, dim=1, index=torch.tensor([[0], [0]]))"
   ]
  },
  {
   "cell_type": "code",
   "execution_count": 30,
   "id": "25155600",
   "metadata": {},
   "outputs": [
    {
     "data": {
      "text/plain": [
       "tensor([[1, 1],\n",
       "        [4, 5]])"
      ]
     },
     "execution_count": 30,
     "metadata": {},
     "output_type": "execute_result"
    }
   ],
   "source": [
    "#               第一维度的[0, 0]从dim=1找下标为0的是1,第2维度的[0, 1]是在dim=1中的index=1的值,为4\n",
    "torch.gather(x, dim=1, index=torch.tensor([[0, 0], [0, 1]]))"
   ]
  },
  {
   "cell_type": "markdown",
   "id": "e15fe67f",
   "metadata": {},
   "source": [
    "# torch.multinomial(input, num_samples,replacement=False, out=None)\n",
    "\n",
    "- input: 输入张量或矩阵(里面数据不能有小于0的)\n",
    "- num_samples: 每行的取值次数，该值不能大于每一行的元素数，否则会报错。\n",
    "- replacement: 布尔值表示取样时有无放回，True是有放回，False无放回。\n",
    "- 函数作用: 对input中的每一行做n_samples次取值，每一次取值时的输出张量是input当前行对应元素的下标。\n",
    "- 取样原则: input可以看成一个权重张量，每一个元素的值代表其在该行中的权重。如果有元素为0，那么在其他不为0的元素被取完之前，该元素不会被取到。\n",
    "- out: 取到的数据的下标"
   ]
  },
  {
   "cell_type": "code",
   "execution_count": 50,
   "id": "11f5362a",
   "metadata": {},
   "outputs": [
    {
     "data": {
      "text/plain": [
       "tensor([ 0., 10.,  3.,  0.])"
      ]
     },
     "execution_count": 50,
     "metadata": {},
     "output_type": "execute_result"
    }
   ],
   "source": [
    "weights = torch.tensor([0, 10, 3, 0], dtype=torch.float)\n",
    "weights"
   ]
  },
  {
   "cell_type": "code",
   "execution_count": 51,
   "id": "5dc23f08",
   "metadata": {},
   "outputs": [
    {
     "data": {
      "text/plain": [
       "tensor([1, 2])"
      ]
     },
     "execution_count": 51,
     "metadata": {},
     "output_type": "execute_result"
    }
   ],
   "source": [
    "torch.multinomial(weights, 2)"
   ]
  },
  {
   "cell_type": "code",
   "execution_count": 52,
   "id": "43fcd6ae",
   "metadata": {},
   "outputs": [
    {
     "data": {
      "text/plain": [
       "tensor([1, 2, 0, 3])"
      ]
     },
     "execution_count": 52,
     "metadata": {},
     "output_type": "execute_result"
    }
   ],
   "source": [
    "torch.multinomial(weights, 4)"
   ]
  },
  {
   "cell_type": "code",
   "execution_count": 53,
   "id": "c84a2837",
   "metadata": {},
   "outputs": [
    {
     "data": {
      "text/plain": [
       "tensor([1, 1, 1, 1])"
      ]
     },
     "execution_count": 53,
     "metadata": {},
     "output_type": "execute_result"
    }
   ],
   "source": [
    "# 重复获取数据\n",
    "torch.multinomial(weights, 4, replacement=True)"
   ]
  },
  {
   "cell_type": "code",
   "execution_count": 56,
   "id": "5e2d58c4",
   "metadata": {},
   "outputs": [
    {
     "data": {
      "text/plain": [
       "tensor([[ 0., 10.,  3.,  0.],\n",
       "        [ 1.,  0.,  0.,  4.]])"
      ]
     },
     "execution_count": 56,
     "metadata": {},
     "output_type": "execute_result"
    }
   ],
   "source": [
    "weights = torch.tensor([[0, 10, 3, 0], [1, 0, 0, 4]], dtype=torch.float)\n",
    "weights"
   ]
  },
  {
   "cell_type": "code",
   "execution_count": 57,
   "id": "7f74001b",
   "metadata": {},
   "outputs": [
    {
     "data": {
      "text/plain": [
       "tensor([[2, 1],\n",
       "        [3, 0]])"
      ]
     },
     "execution_count": 57,
     "metadata": {},
     "output_type": "execute_result"
    }
   ],
   "source": [
    "torch.multinomial(weights, 2)"
   ]
  },
  {
   "cell_type": "code",
   "execution_count": 58,
   "id": "d078c022",
   "metadata": {},
   "outputs": [
    {
     "data": {
      "text/plain": [
       "tensor([[1, 2, 0, 3],\n",
       "        [3, 0, 1, 2]])"
      ]
     },
     "execution_count": 58,
     "metadata": {},
     "output_type": "execute_result"
    }
   ],
   "source": [
    "torch.multinomial(weights, 4)"
   ]
  },
  {
   "cell_type": "code",
   "execution_count": 59,
   "id": "344554e8",
   "metadata": {},
   "outputs": [
    {
     "data": {
      "text/plain": [
       "tensor([[2, 1, 2, 1],\n",
       "        [3, 3, 3, 3]])"
      ]
     },
     "execution_count": 59,
     "metadata": {},
     "output_type": "execute_result"
    }
   ],
   "source": [
    "# 重复获取数据\n",
    "torch.multinomial(weights, 4, replacement=True)"
   ]
  },
  {
   "cell_type": "code",
   "execution_count": null,
   "id": "83098ee5",
   "metadata": {},
   "outputs": [],
   "source": []
  }
 ],
 "metadata": {
  "kernelspec": {
   "display_name": "pytorch",
   "language": "python",
   "name": "python3"
  },
  "language_info": {
   "codemirror_mode": {
    "name": "ipython",
    "version": 3
   },
   "file_extension": ".py",
   "mimetype": "text/x-python",
   "name": "python",
   "nbconvert_exporter": "python",
   "pygments_lexer": "ipython3",
   "version": "3.11.4"
  },
  "toc": {
   "base_numbering": 1,
   "nav_menu": {},
   "number_sections": true,
   "sideBar": true,
   "skip_h1_title": false,
   "title_cell": "Table of Contents",
   "title_sidebar": "Contents",
   "toc_cell": false,
   "toc_position": {},
   "toc_section_display": true,
   "toc_window_display": false
  },
  "vscode": {
   "interpreter": {
    "hash": "6e3a9582807446cfda6e60e7a572d3bab8c423d141a376f0e3f6f7956ef3b5a5"
   }
  }
 },
 "nbformat": 4,
 "nbformat_minor": 5
}
