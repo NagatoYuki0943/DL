{
 "cells": [
  {
   "cell_type": "code",
   "execution_count": 1,
   "id": "747538f9",
   "metadata": {},
   "outputs": [],
   "source": [
    "import torch"
   ]
  },
  {
   "attachments": {},
   "cell_type": "markdown",
   "id": "691b3c74",
   "metadata": {},
   "source": [
    "# torch.cat([a, b], dim=维度) 拼接,维度不变\n",
    "[] 或者 () 都可以<br>\n",
    "a, b的拼接维度可以不同,其他维度必须相同"
   ]
  },
  {
   "cell_type": "code",
   "execution_count": 2,
   "id": "3ea4b6b0",
   "metadata": {},
   "outputs": [
    {
     "data": {
      "text/plain": [
       "torch.Size([2, 3, 4])"
      ]
     },
     "execution_count": 2,
     "metadata": {},
     "output_type": "execute_result"
    }
   ],
   "source": [
    "a = torch.randn([2, 3, 4])\n",
    "b = torch.randn([2, 3, 4])\n",
    "a.shape"
   ]
  },
  {
   "cell_type": "code",
   "execution_count": 3,
   "id": "bf1f1e09",
   "metadata": {},
   "outputs": [
    {
     "data": {
      "text/plain": [
       "torch.Size([4, 3, 4])"
      ]
     },
     "execution_count": 3,
     "metadata": {},
     "output_type": "execute_result"
    }
   ],
   "source": [
    "torch.cat([a, b], dim=0).shape"
   ]
  },
  {
   "cell_type": "code",
   "execution_count": 4,
   "id": "979c59fa",
   "metadata": {
    "scrolled": true
   },
   "outputs": [
    {
     "data": {
      "text/plain": [
       "torch.Size([2, 6, 4])"
      ]
     },
     "execution_count": 4,
     "metadata": {},
     "output_type": "execute_result"
    }
   ],
   "source": [
    "torch.cat([a, b], dim=1).shape"
   ]
  },
  {
   "cell_type": "code",
   "execution_count": 5,
   "id": "f787218c",
   "metadata": {},
   "outputs": [
    {
     "data": {
      "text/plain": [
       "torch.Size([2, 3, 8])"
      ]
     },
     "execution_count": 5,
     "metadata": {},
     "output_type": "execute_result"
    }
   ],
   "source": [
    "torch.cat([a, b], dim=2).shape"
   ]
  },
  {
   "cell_type": "markdown",
   "id": "11a92da3",
   "metadata": {},
   "source": [
    "## 不同形状可以用cat拼接"
   ]
  },
  {
   "cell_type": "code",
   "execution_count": 6,
   "id": "db2599ac",
   "metadata": {},
   "outputs": [],
   "source": [
    "c = torch.randn([2, 3, 4])\n",
    "d = torch.randn([1, 3, 4])"
   ]
  },
  {
   "cell_type": "code",
   "execution_count": 7,
   "id": "c9732d1f",
   "metadata": {},
   "outputs": [
    {
     "data": {
      "text/plain": [
       "torch.Size([3, 3, 4])"
      ]
     },
     "execution_count": 7,
     "metadata": {},
     "output_type": "execute_result"
    }
   ],
   "source": [
    "torch.cat([c, d], dim=0).shape"
   ]
  },
  {
   "attachments": {},
   "cell_type": "markdown",
   "id": "c18fc234",
   "metadata": {},
   "source": [
    "# torch.stack([a, b], dim=插入新的维度) 拼接,维度增加, a,b的形状必须相同"
   ]
  },
  {
   "cell_type": "code",
   "execution_count": 8,
   "id": "fc1844e8",
   "metadata": {},
   "outputs": [],
   "source": [
    "e = torch.randn([1, 3, 4])\n",
    "f = torch.randn([1, 3, 4])"
   ]
  },
  {
   "cell_type": "code",
   "execution_count": 9,
   "id": "6693a272",
   "metadata": {},
   "outputs": [
    {
     "data": {
      "text/plain": [
       "torch.Size([2, 1, 3, 4])"
      ]
     },
     "execution_count": 9,
     "metadata": {},
     "output_type": "execute_result"
    }
   ],
   "source": [
    "torch.stack([e, f], dim=0).shape"
   ]
  },
  {
   "cell_type": "code",
   "execution_count": 10,
   "id": "c01be784",
   "metadata": {},
   "outputs": [
    {
     "data": {
      "text/plain": [
       "torch.Size([1, 2, 3, 4])"
      ]
     },
     "execution_count": 10,
     "metadata": {},
     "output_type": "execute_result"
    }
   ],
   "source": [
    "torch.stack([e, f], dim=1).shape"
   ]
  },
  {
   "cell_type": "code",
   "execution_count": 11,
   "id": "521b4fa7",
   "metadata": {},
   "outputs": [
    {
     "data": {
      "text/plain": [
       "torch.Size([1, 3, 2, 4])"
      ]
     },
     "execution_count": 11,
     "metadata": {},
     "output_type": "execute_result"
    }
   ],
   "source": [
    "torch.stack([e, f], dim=2).shape"
   ]
  },
  {
   "cell_type": "code",
   "execution_count": 12,
   "id": "15261fd6",
   "metadata": {},
   "outputs": [
    {
     "data": {
      "text/plain": [
       "torch.Size([1, 3, 4, 2])"
      ]
     },
     "execution_count": 12,
     "metadata": {},
     "output_type": "execute_result"
    }
   ],
   "source": [
    "torch.stack([e, f], dim=3).shape"
   ]
  },
  {
   "cell_type": "code",
   "execution_count": 13,
   "id": "44cfffda",
   "metadata": {},
   "outputs": [],
   "source": [
    "g = torch.randn([2, 3, 4])\n",
    "h = torch.randn([1, 3, 4])"
   ]
  },
  {
   "cell_type": "code",
   "execution_count": 14,
   "id": "e0cc79b1",
   "metadata": {},
   "outputs": [
    {
     "ename": "RuntimeError",
     "evalue": "stack expects each tensor to be equal size, but got [2, 3, 4] at entry 0 and [1, 3, 4] at entry 1",
     "output_type": "error",
     "traceback": [
      "\u001b[1;31m---------------------------------------------------------------------------\u001b[0m",
      "\u001b[1;31mRuntimeError\u001b[0m                              Traceback (most recent call last)",
      "Cell \u001b[1;32mIn[14], line 1\u001b[0m\n\u001b[1;32m----> 1\u001b[0m torch\u001b[39m.\u001b[39;49mstack([g, h], dim\u001b[39m=\u001b[39;49m\u001b[39m0\u001b[39;49m)\u001b[39m.\u001b[39mshape\n",
      "\u001b[1;31mRuntimeError\u001b[0m: stack expects each tensor to be equal size, but got [2, 3, 4] at entry 0 and [1, 3, 4] at entry 1"
     ]
    }
   ],
   "source": [
    "torch.stack([g, h], dim=0).shape"
   ]
  },
  {
   "attachments": {},
   "cell_type": "markdown",
   "id": "48e1f2ed",
   "metadata": {},
   "source": [
    "# tensor.split(split_size=每部分长度,  dim=从哪一个维度拆分) 按照长度拆分,维度不变"
   ]
  },
  {
   "cell_type": "markdown",
   "id": "17bf9942",
   "metadata": {},
   "source": [
    "## split_size=num 每部分数量"
   ]
  },
  {
   "cell_type": "code",
   "execution_count": null,
   "id": "55d14191",
   "metadata": {},
   "outputs": [
    {
     "data": {
      "text/plain": [
       "torch.Size([2, 4, 3])"
      ]
     },
     "execution_count": 35,
     "metadata": {},
     "output_type": "execute_result"
    }
   ],
   "source": [
    "i = torch.rand([2, 4, 3])\n",
    "i.size()"
   ]
  },
  {
   "cell_type": "code",
   "execution_count": null,
   "id": "932c1368",
   "metadata": {},
   "outputs": [
    {
     "data": {
      "text/plain": [
       "(torch.Size([1, 4, 3]), torch.Size([1, 4, 3]))"
      ]
     },
     "execution_count": 36,
     "metadata": {},
     "output_type": "execute_result"
    }
   ],
   "source": [
    "#               每部分长度=2  从第0维拆分\n",
    "i1, i2 = i.split(split_size=1, dim=0)\n",
    "i1.shape, i2.shape"
   ]
  },
  {
   "cell_type": "code",
   "execution_count": null,
   "id": "8fe9a826",
   "metadata": {},
   "outputs": [
    {
     "data": {
      "text/plain": [
       "(torch.Size([2, 2, 3]), torch.Size([2, 2, 3]))"
      ]
     },
     "execution_count": 37,
     "metadata": {},
     "output_type": "execute_result"
    }
   ],
   "source": [
    "#                每部分长度=2  从第1维拆分\n",
    "i3, i4 = i.split(split_size=2, dim=1)\n",
    "i3.shape, i4.shape"
   ]
  },
  {
   "attachments": {},
   "cell_type": "markdown",
   "id": "c6a1da38",
   "metadata": {},
   "source": [
    "## split_size=[num1, num2...] 分成多个,num是每部分长度,维度不变"
   ]
  },
  {
   "cell_type": "code",
   "execution_count": null,
   "id": "91587576",
   "metadata": {},
   "outputs": [
    {
     "data": {
      "text/plain": [
       "torch.Size([4, 10, 4])"
      ]
     },
     "execution_count": 23,
     "metadata": {},
     "output_type": "execute_result"
    }
   ],
   "source": [
    "j = torch.rand([4, 10, 4])\n",
    "j.size()"
   ]
  },
  {
   "cell_type": "code",
   "execution_count": null,
   "id": "d13a5f00",
   "metadata": {},
   "outputs": [
    {
     "data": {
      "text/plain": [
       "(torch.Size([3, 10, 4]), torch.Size([1, 10, 4]))"
      ]
     },
     "execution_count": 24,
     "metadata": {},
     "output_type": "execute_result"
    }
   ],
   "source": [
    "#               每部分长度=2  从第0维拆分\n",
    "j1, j2 = j.split(split_size=[3, 1], dim=0)\n",
    "j1.shape, j2.shape"
   ]
  },
  {
   "cell_type": "code",
   "execution_count": null,
   "id": "5f616a59",
   "metadata": {},
   "outputs": [
    {
     "data": {
      "text/plain": [
       "(torch.Size([2, 10, 4]), torch.Size([1, 10, 4]), torch.Size([1, 10, 4]))"
      ]
     },
     "execution_count": 25,
     "metadata": {},
     "output_type": "execute_result"
    }
   ],
   "source": [
    "j3, j4, j5 = j.split(split_size=[2, 1, 1], dim=0)\n",
    "j3.shape, j4.shape, j5.shape"
   ]
  },
  {
   "attachments": {},
   "cell_type": "markdown",
   "id": "da6f0c8b",
   "metadata": {},
   "source": [
    "# tensor.chunk(分成几份, dim=维度) 分成几部分,维度不变"
   ]
  },
  {
   "cell_type": "code",
   "execution_count": null,
   "id": "878f2c62",
   "metadata": {},
   "outputs": [
    {
     "data": {
      "text/plain": [
       "torch.Size([4, 6, 2])"
      ]
     },
     "execution_count": 27,
     "metadata": {},
     "output_type": "execute_result"
    }
   ],
   "source": [
    "k = torch.rand(4, 6, 2)\n",
    "k.size()"
   ]
  },
  {
   "cell_type": "code",
   "execution_count": null,
   "id": "0c95d033",
   "metadata": {},
   "outputs": [
    {
     "data": {
      "text/plain": [
       "(torch.Size([2, 6, 2]), torch.Size([2, 6, 2]))"
      ]
     },
     "execution_count": 28,
     "metadata": {},
     "output_type": "execute_result"
    }
   ],
   "source": [
    "k1, k2 = k.chunk(2, dim=0)\n",
    "k1.shape, k2.shape"
   ]
  },
  {
   "cell_type": "code",
   "execution_count": null,
   "id": "b8e067e1",
   "metadata": {},
   "outputs": [
    {
     "data": {
      "text/plain": [
       "(torch.Size([4, 2, 2]), torch.Size([4, 2, 2]), torch.Size([4, 2, 2]))"
      ]
     },
     "execution_count": 29,
     "metadata": {},
     "output_type": "execute_result"
    }
   ],
   "source": [
    "k3, k4, k5 = k.chunk(3, dim=1)\n",
    "k3.shape, k4.shape, k5.shape"
   ]
  },
  {
   "attachments": {},
   "cell_type": "markdown",
   "id": "bda73ac9",
   "metadata": {},
   "source": [
    "# tensor.unbind(dim) 将dim拆成单份的,dim维度消失"
   ]
  },
  {
   "cell_type": "code",
   "execution_count": null,
   "id": "c7118d82",
   "metadata": {},
   "outputs": [
    {
     "data": {
      "text/plain": [
       "torch.Size([3, 4, 2])"
      ]
     },
     "execution_count": 30,
     "metadata": {},
     "output_type": "execute_result"
    }
   ],
   "source": [
    "l = torch.rand(3, 4, 2)\n",
    "l.size()"
   ]
  },
  {
   "cell_type": "code",
   "execution_count": null,
   "id": "43600491",
   "metadata": {},
   "outputs": [
    {
     "data": {
      "text/plain": [
       "(torch.Size([4, 2]), torch.Size([4, 2]), torch.Size([4, 2]))"
      ]
     },
     "execution_count": 31,
     "metadata": {},
     "output_type": "execute_result"
    }
   ],
   "source": [
    "l1, l2, l3 = l.unbind(0)\n",
    "l1.shape, l2.shape, l3.shape  # 维度减少1个"
   ]
  },
  {
   "cell_type": "markdown",
   "id": "e6c70b47",
   "metadata": {},
   "source": [
    "## 等同使用切片 [] 获取数据"
   ]
  },
  {
   "cell_type": "code",
   "execution_count": null,
   "id": "a4178b8d",
   "metadata": {},
   "outputs": [
    {
     "data": {
      "text/plain": [
       "tensor([[True, True],\n",
       "        [True, True],\n",
       "        [True, True],\n",
       "        [True, True]])"
      ]
     },
     "execution_count": 33,
     "metadata": {},
     "output_type": "execute_result"
    }
   ],
   "source": [
    "l1 == l[0]"
   ]
  },
  {
   "cell_type": "code",
   "execution_count": null,
   "id": "f81b4841",
   "metadata": {},
   "outputs": [
    {
     "data": {
      "text/plain": [
       "(torch.Size([3, 4]), torch.Size([3, 4]))"
      ]
     },
     "execution_count": 32,
     "metadata": {},
     "output_type": "execute_result"
    }
   ],
   "source": [
    "(\n",
    "    l4,\n",
    "    l5,\n",
    ") = l.unbind(2)\n",
    "l4.shape, l5.shape  # 维度减少1个"
   ]
  },
  {
   "cell_type": "code",
   "execution_count": null,
   "id": "fa53a587",
   "metadata": {},
   "outputs": [
    {
     "data": {
      "text/plain": [
       "tensor([[True, True, True, True],\n",
       "        [True, True, True, True],\n",
       "        [True, True, True, True]])"
      ]
     },
     "execution_count": 34,
     "metadata": {},
     "output_type": "execute_result"
    }
   ],
   "source": [
    "l4 == l[..., 0]"
   ]
  }
 ],
 "metadata": {
  "kernelspec": {
   "display_name": "pytorch",
   "language": "python",
   "name": "python3"
  },
  "language_info": {
   "codemirror_mode": {
    "name": "ipython",
    "version": 3
   },
   "file_extension": ".py",
   "mimetype": "text/x-python",
   "name": "python",
   "nbconvert_exporter": "python",
   "pygments_lexer": "ipython3",
   "version": "3.11.3"
  },
  "toc": {
   "base_numbering": 1,
   "nav_menu": {},
   "number_sections": true,
   "sideBar": true,
   "skip_h1_title": false,
   "title_cell": "Table of Contents",
   "title_sidebar": "Contents",
   "toc_cell": false,
   "toc_position": {},
   "toc_section_display": true,
   "toc_window_display": false
  },
  "vscode": {
   "interpreter": {
    "hash": "6e3a9582807446cfda6e60e7a572d3bab8c423d141a376f0e3f6f7956ef3b5a5"
   }
  }
 },
 "nbformat": 4,
 "nbformat_minor": 5
}
