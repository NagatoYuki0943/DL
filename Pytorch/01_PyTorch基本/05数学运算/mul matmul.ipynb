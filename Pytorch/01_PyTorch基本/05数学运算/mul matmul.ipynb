{
 "cells": [
  {
   "cell_type": "code",
   "execution_count": 1,
   "metadata": {},
   "outputs": [],
   "source": [
    "import torch"
   ]
  },
  {
   "attachments": {},
   "cell_type": "markdown",
   "metadata": {},
   "source": [
    "# mul 点乘"
   ]
  },
  {
   "cell_type": "code",
   "execution_count": 2,
   "metadata": {},
   "outputs": [
    {
     "data": {
      "text/plain": [
       "tensor([[-0.2963]])"
      ]
     },
     "execution_count": 2,
     "metadata": {},
     "output_type": "execute_result"
    }
   ],
   "source": [
    "a = torch.randn(1, 1)\n",
    "b = torch.randn(2, 2)\n",
    "a"
   ]
  },
  {
   "cell_type": "code",
   "execution_count": 3,
   "metadata": {},
   "outputs": [
    {
     "data": {
      "text/plain": [
       "tensor([[-0.8786,  0.7609],\n",
       "        [-0.1736, -0.2425]])"
      ]
     },
     "execution_count": 3,
     "metadata": {},
     "output_type": "execute_result"
    }
   ],
   "source": [
    "b"
   ]
  },
  {
   "attachments": {},
   "cell_type": "markdown",
   "metadata": {},
   "source": [
    "## 标量 * 矩阵"
   ]
  },
  {
   "cell_type": "code",
   "execution_count": 4,
   "metadata": {},
   "outputs": [
    {
     "data": {
      "text/plain": [
       "tensor([[ 0.2603, -0.2255],\n",
       "        [ 0.0514,  0.0718]])"
      ]
     },
     "execution_count": 4,
     "metadata": {},
     "output_type": "execute_result"
    }
   ],
   "source": [
    "a * b"
   ]
  },
  {
   "cell_type": "code",
   "execution_count": 5,
   "metadata": {},
   "outputs": [
    {
     "data": {
      "text/plain": [
       "tensor([[ 0.2603, -0.2255],\n",
       "        [ 0.0514,  0.0718]])"
      ]
     },
     "execution_count": 5,
     "metadata": {},
     "output_type": "execute_result"
    }
   ],
   "source": [
    "torch.mul(a, b)"
   ]
  },
  {
   "cell_type": "code",
   "execution_count": 6,
   "metadata": {},
   "outputs": [
    {
     "data": {
      "text/plain": [
       "tensor([[True, True],\n",
       "        [True, True]])"
      ]
     },
     "execution_count": 6,
     "metadata": {},
     "output_type": "execute_result"
    }
   ],
   "source": [
    "(a * b) == (torch.mul(a, b))"
   ]
  },
  {
   "attachments": {},
   "cell_type": "markdown",
   "metadata": {},
   "source": [
    "## 矩阵 * 矩阵 两个矩阵最后维度必须相同\n",
    "- [a, b, c, d] * [d]\n",
    "- [a, b, c, d] * [c, d]\n",
    "- [a, b, c, d] * [b, c, d]\n",
    "- [a, b, c, d] * [a, b, c, d]"
   ]
  },
  {
   "cell_type": "code",
   "execution_count": 7,
   "metadata": {},
   "outputs": [
    {
     "data": {
      "text/plain": [
       "tensor([[-3.1796, -1.1761, -0.7587],\n",
       "        [-0.5531,  0.6916, -0.2434],\n",
       "        [-0.4435, -0.4965,  0.6445]])"
      ]
     },
     "execution_count": 7,
     "metadata": {},
     "output_type": "execute_result"
    }
   ],
   "source": [
    "c = torch.randn(3, 3)\n",
    "c"
   ]
  },
  {
   "cell_type": "code",
   "execution_count": 8,
   "metadata": {},
   "outputs": [
    {
     "ename": "RuntimeError",
     "evalue": "The size of tensor a (2) must match the size of tensor b (3) at non-singleton dimension 1",
     "output_type": "error",
     "traceback": [
      "\u001b[1;31m---------------------------------------------------------------------------\u001b[0m",
      "\u001b[1;31mRuntimeError\u001b[0m                              Traceback (most recent call last)",
      "Cell \u001b[1;32mIn[8], line 2\u001b[0m\n\u001b[0;32m      1\u001b[0m \u001b[39m# 形状不同会报错\u001b[39;00m\n\u001b[1;32m----> 2\u001b[0m b \u001b[39m*\u001b[39;49m c\n",
      "\u001b[1;31mRuntimeError\u001b[0m: The size of tensor a (2) must match the size of tensor b (3) at non-singleton dimension 1"
     ]
    }
   ],
   "source": [
    "# 形状不同会报错\n",
    "b * c"
   ]
  },
  {
   "cell_type": "code",
   "execution_count": null,
   "metadata": {},
   "outputs": [
    {
     "data": {
      "text/plain": [
       "(tensor([[ 0.1496, -0.7133],\n",
       "         [-1.9682,  1.4093]]),\n",
       " tensor([[0.7109, 0.6913],\n",
       "         [0.8957, 0.5487]]))"
      ]
     },
     "execution_count": 13,
     "metadata": {},
     "output_type": "execute_result"
    }
   ],
   "source": [
    "d1 = torch.rand(2, 2)\n",
    "b, d1"
   ]
  },
  {
   "cell_type": "code",
   "execution_count": 9,
   "metadata": {},
   "outputs": [
    {
     "ename": "NameError",
     "evalue": "name 'd1' is not defined",
     "output_type": "error",
     "traceback": [
      "\u001b[1;31m---------------------------------------------------------------------------\u001b[0m",
      "\u001b[1;31mNameError\u001b[0m                                 Traceback (most recent call last)",
      "Cell \u001b[1;32mIn[9], line 1\u001b[0m\n\u001b[1;32m----> 1\u001b[0m b \u001b[39m*\u001b[39m d1\n",
      "\u001b[1;31mNameError\u001b[0m: name 'd1' is not defined"
     ]
    }
   ],
   "source": [
    "b * d1"
   ]
  },
  {
   "cell_type": "code",
   "execution_count": 10,
   "metadata": {},
   "outputs": [
    {
     "data": {
      "text/plain": [
       "(tensor([[-0.8786,  0.7609],\n",
       "         [-0.1736, -0.2425]]),\n",
       " tensor([[0.9488, 0.8121]]))"
      ]
     },
     "execution_count": 10,
     "metadata": {},
     "output_type": "execute_result"
    }
   ],
   "source": [
    "d2 = torch.rand(1, 2)\n",
    "b, d2"
   ]
  },
  {
   "cell_type": "code",
   "execution_count": 11,
   "metadata": {},
   "outputs": [
    {
     "data": {
      "text/plain": [
       "tensor([[-0.8336,  0.6179],\n",
       "        [-0.1647, -0.1969]])"
      ]
     },
     "execution_count": 11,
     "metadata": {},
     "output_type": "execute_result"
    }
   ],
   "source": [
    "b * d2"
   ]
  },
  {
   "cell_type": "code",
   "execution_count": 12,
   "metadata": {},
   "outputs": [
    {
     "data": {
      "text/plain": [
       "tensor([[[[-0.0892,  0.5081],\n",
       "          [-0.1433,  0.0385],\n",
       "          [-0.0113,  0.3708],\n",
       "          [ 0.0156, -0.7048]],\n",
       "\n",
       "         [[ 0.1201,  0.7061],\n",
       "          [-0.0286, -0.1620],\n",
       "          [-0.1054, -0.2291],\n",
       "          [ 0.0032, -0.5202]],\n",
       "\n",
       "         [[ 0.0849, -0.3838],\n",
       "          [ 0.1062, -0.0165],\n",
       "          [ 0.0610,  0.0648],\n",
       "          [-0.0204,  0.1861]]],\n",
       "\n",
       "\n",
       "        [[[ 0.1325, -0.3418],\n",
       "          [ 0.0690, -0.2968],\n",
       "          [ 0.1211,  0.2116],\n",
       "          [ 0.0526, -0.1258]],\n",
       "\n",
       "         [[-0.1101, -0.0206],\n",
       "          [ 0.0042,  0.4626],\n",
       "          [ 0.0779, -0.2276],\n",
       "          [ 0.0837,  0.8178]],\n",
       "\n",
       "         [[-0.1277, -0.2887],\n",
       "          [ 0.0359, -0.4684],\n",
       "          [-0.0077, -0.1699],\n",
       "          [-0.0116, -0.3737]]]])"
      ]
     },
     "execution_count": 12,
     "metadata": {},
     "output_type": "execute_result"
    }
   ],
   "source": [
    "torch.randn(2, 3, 4, 2) * torch.randn(2)"
   ]
  },
  {
   "cell_type": "code",
   "execution_count": 13,
   "metadata": {},
   "outputs": [
    {
     "data": {
      "text/plain": [
       "tensor([[[[ 2.2767e-01, -8.1327e-01],\n",
       "          [ 9.7653e-01,  2.9009e-01],\n",
       "          [-3.5966e-02,  1.2159e-01],\n",
       "          [-1.4898e+00,  2.8849e-01]],\n",
       "\n",
       "         [[-3.0857e-01, -8.2426e-02],\n",
       "          [-8.4507e-01, -1.3885e-01],\n",
       "          [-1.2540e+00,  2.0613e-01],\n",
       "          [-6.0491e-01,  3.4560e-01]],\n",
       "\n",
       "         [[ 1.6174e-03,  1.8972e-01],\n",
       "          [-4.9924e-01,  6.4335e-01],\n",
       "          [ 2.6545e-01, -9.9797e-02],\n",
       "          [ 1.0857e-01,  3.0009e-01]]],\n",
       "\n",
       "\n",
       "        [[[ 2.7117e-01, -3.9384e-01],\n",
       "          [ 2.2024e+00, -8.8031e-01],\n",
       "          [-2.7595e+00, -2.5020e-01],\n",
       "          [-2.9664e-01, -4.3429e-01]],\n",
       "\n",
       "         [[ 4.9283e-01, -6.8939e-02],\n",
       "          [-3.9167e-01,  1.2038e-01],\n",
       "          [-1.4954e+00, -1.9473e-01],\n",
       "          [ 5.0572e-01,  1.0265e-01]],\n",
       "\n",
       "         [[ 9.0815e-02,  6.1186e-01],\n",
       "          [ 2.1220e-01, -6.1752e-01],\n",
       "          [ 5.5772e-01, -5.5403e-02],\n",
       "          [ 1.5112e+00,  4.3217e-01]]]])"
      ]
     },
     "execution_count": 13,
     "metadata": {},
     "output_type": "execute_result"
    }
   ],
   "source": [
    "torch.randn(2, 3, 4, 2) * torch.randn(4, 2)"
   ]
  },
  {
   "cell_type": "code",
   "execution_count": 14,
   "metadata": {},
   "outputs": [
    {
     "data": {
      "text/plain": [
       "tensor([[[[ 1.4829e+00, -7.3283e-01],\n",
       "          [ 6.0635e-02,  7.8544e-02],\n",
       "          [-1.2303e+00, -1.0101e+00],\n",
       "          [ 2.3576e-01, -2.5661e-01]],\n",
       "\n",
       "         [[ 9.8992e-01,  4.4730e-01],\n",
       "          [-5.7897e-02,  3.4322e-01],\n",
       "          [-1.8643e+00, -1.0339e-01],\n",
       "          [ 9.4683e-01,  1.1617e+00]],\n",
       "\n",
       "         [[-1.3864e+00, -3.4396e-01],\n",
       "          [-3.8650e-01, -1.2220e+00],\n",
       "          [ 1.5031e+00, -1.5863e-01],\n",
       "          [ 5.5264e-01, -2.8424e-02]]],\n",
       "\n",
       "\n",
       "        [[[-4.4568e-01, -8.0195e-01],\n",
       "          [-7.8017e-02, -9.1841e-01],\n",
       "          [ 1.1731e+00, -1.0222e+00],\n",
       "          [-3.2944e-01,  7.3448e-01]],\n",
       "\n",
       "         [[ 7.6622e-02,  9.4132e-02],\n",
       "          [-7.5638e-02,  2.0964e+00],\n",
       "          [ 5.1916e-01, -9.8815e-01],\n",
       "          [-4.6681e-05,  2.3203e-01]],\n",
       "\n",
       "         [[ 1.1972e-02,  6.2937e-01],\n",
       "          [ 1.0584e+00,  1.2202e+00],\n",
       "          [ 1.4191e+00, -2.7747e-02],\n",
       "          [-8.9762e-01, -1.4711e-03]]]])"
      ]
     },
     "execution_count": 14,
     "metadata": {},
     "output_type": "execute_result"
    }
   ],
   "source": [
    "torch.randn(2, 3, 4, 2) * torch.randn(3, 4, 2)"
   ]
  },
  {
   "cell_type": "markdown",
   "metadata": {},
   "source": [
    "# matmul / @ 矩阵相乘"
   ]
  },
  {
   "cell_type": "markdown",
   "metadata": {},
   "source": [
    "## 二维矩阵相乘"
   ]
  },
  {
   "cell_type": "code",
   "execution_count": 15,
   "metadata": {},
   "outputs": [
    {
     "data": {
      "text/plain": [
       "(tensor([[-0.2757, -0.6909,  0.3226],\n",
       "         [ 0.9161,  0.9417, -0.5857]]),\n",
       " tensor([[ 0.1427, -0.3676],\n",
       "         [ 1.1920,  0.9164],\n",
       "         [-2.1507, -1.0666]]))"
      ]
     },
     "execution_count": 15,
     "metadata": {},
     "output_type": "execute_result"
    }
   ],
   "source": [
    "e = torch.randn(2, 3)\n",
    "f = torch.randn(3, 2)\n",
    "e, f"
   ]
  },
  {
   "cell_type": "code",
   "execution_count": 16,
   "metadata": {},
   "outputs": [
    {
     "data": {
      "text/plain": [
       "tensor([[-1.5566, -0.8758],\n",
       "        [ 2.5129,  1.1509]])"
      ]
     },
     "execution_count": 16,
     "metadata": {},
     "output_type": "execute_result"
    }
   ],
   "source": [
    "e @ f"
   ]
  },
  {
   "cell_type": "code",
   "execution_count": 17,
   "metadata": {},
   "outputs": [
    {
     "data": {
      "text/plain": [
       "tensor([[-1.5566, -0.8758],\n",
       "        [ 2.5129,  1.1509]])"
      ]
     },
     "execution_count": 17,
     "metadata": {},
     "output_type": "execute_result"
    }
   ],
   "source": [
    "torch.matmul(e, f)"
   ]
  },
  {
   "cell_type": "code",
   "execution_count": 18,
   "metadata": {},
   "outputs": [
    {
     "data": {
      "text/plain": [
       "tensor([[True, True],\n",
       "        [True, True]])"
      ]
     },
     "execution_count": 18,
     "metadata": {},
     "output_type": "execute_result"
    }
   ],
   "source": [
    "(e @ f) == (torch.matmul(e, f))"
   ]
  },
  {
   "cell_type": "markdown",
   "metadata": {},
   "source": [
    "## torch.mm(mat1, mat2) 只适用于二维矩阵相乘,不推荐"
   ]
  },
  {
   "cell_type": "code",
   "execution_count": 19,
   "metadata": {},
   "outputs": [
    {
     "data": {
      "text/plain": [
       "tensor([[-1.5566, -0.8758],\n",
       "        [ 2.5129,  1.1509]])"
      ]
     },
     "execution_count": 19,
     "metadata": {},
     "output_type": "execute_result"
    }
   ],
   "source": [
    "torch.mm(e, f)"
   ]
  },
  {
   "attachments": {},
   "cell_type": "markdown",
   "metadata": {},
   "source": [
    "## torch.bmm(mat1, mat2) 只适用于3维矩阵相乘,前面代表batch"
   ]
  },
  {
   "cell_type": "code",
   "execution_count": 20,
   "metadata": {},
   "outputs": [
    {
     "data": {
      "text/plain": [
       "(tensor([[[ 0.2996, -0.1439],\n",
       "          [-0.4523, -1.6505],\n",
       "          [ 0.1724, -0.2343]],\n",
       " \n",
       "         [[ 0.3030,  0.6366],\n",
       "          [-1.3315,  0.2194],\n",
       "          [ 0.6152,  0.1006]]]),\n",
       " tensor([[[-3.1084, -0.9774, -1.5193],\n",
       "          [ 1.4561, -2.0154, -1.6304]],\n",
       " \n",
       "         [[-1.3349,  1.1676,  0.0124],\n",
       "          [ 0.1161,  1.4588,  1.6030]]]))"
      ]
     },
     "execution_count": 20,
     "metadata": {},
     "output_type": "execute_result"
    }
   ],
   "source": [
    "e_ = torch.randn(2, 3, 2)\n",
    "f_ = torch.randn(2, 2, 3)\n",
    "e_, f_"
   ]
  },
  {
   "cell_type": "code",
   "execution_count": 21,
   "metadata": {},
   "outputs": [
    {
     "data": {
      "text/plain": [
       "tensor([[[-1.1407e+00, -2.8412e-03, -2.2056e-01],\n",
       "         [-9.9739e-01,  3.7684e+00,  3.3782e+00],\n",
       "         [-8.7700e-01,  3.0371e-01,  1.2011e-01]],\n",
       "\n",
       "        [[-3.3050e-01,  1.2824e+00,  1.0243e+00],\n",
       "         [ 1.8030e+00, -1.2345e+00,  3.3530e-01],\n",
       "         [-8.0952e-01,  8.6503e-01,  1.6890e-01]]])"
      ]
     },
     "execution_count": 21,
     "metadata": {},
     "output_type": "execute_result"
    }
   ],
   "source": [
    "torch.bmm(e_, f_)"
   ]
  },
  {
   "cell_type": "markdown",
   "metadata": {},
   "source": [
    "## 高维矩阵相乘,后两个维度相乘,前面形状必须相同"
   ]
  },
  {
   "cell_type": "code",
   "execution_count": 25,
   "metadata": {},
   "outputs": [],
   "source": [
    "g = torch.randn(1, 2, 3, 4)\n",
    "h = torch.randn(1, 2, 4, 5)"
   ]
  },
  {
   "cell_type": "code",
   "execution_count": 26,
   "metadata": {},
   "outputs": [
    {
     "data": {
      "text/plain": [
       "tensor([[[[ 1.9695, -1.3831, -1.5139,  1.6532, -0.0141],\n",
       "          [ 0.3755, -1.2980, -1.1030,  1.0264,  0.8245],\n",
       "          [ 0.3957,  1.1723,  1.0948, -0.2563, -1.0181]],\n",
       "\n",
       "         [[ 0.0308, -1.7732, -1.9777, -2.5227,  1.5138],\n",
       "          [ 0.3405, -0.5997, -1.4621, -2.2375,  0.7511],\n",
       "          [ 0.8005, -0.6414, -2.2731, -3.4168,  1.3186]]]])"
      ]
     },
     "execution_count": 26,
     "metadata": {},
     "output_type": "execute_result"
    }
   ],
   "source": [
    "g @ h"
   ]
  },
  {
   "cell_type": "code",
   "execution_count": 27,
   "metadata": {},
   "outputs": [
    {
     "data": {
      "text/plain": [
       "tensor([[[[ 1.9695, -1.3831, -1.5139,  1.6532, -0.0141],\n",
       "          [ 0.3755, -1.2980, -1.1030,  1.0264,  0.8245],\n",
       "          [ 0.3957,  1.1723,  1.0948, -0.2563, -1.0181]],\n",
       "\n",
       "         [[ 0.0308, -1.7732, -1.9777, -2.5227,  1.5138],\n",
       "          [ 0.3405, -0.5997, -1.4621, -2.2375,  0.7511],\n",
       "          [ 0.8005, -0.6414, -2.2731, -3.4168,  1.3186]]]])"
      ]
     },
     "execution_count": 27,
     "metadata": {},
     "output_type": "execute_result"
    }
   ],
   "source": [
    "torch.matmul(g, h)"
   ]
  },
  {
   "cell_type": "code",
   "execution_count": 30,
   "metadata": {},
   "outputs": [],
   "source": [
    "i = torch.randn(1, 2, 5, 2)"
   ]
  },
  {
   "cell_type": "code",
   "execution_count": 32,
   "metadata": {},
   "outputs": [
    {
     "data": {
      "text/plain": [
       "tensor([[[[-0.0754, -2.2628],\n",
       "          [-0.1287,  0.4948],\n",
       "          [ 0.6659, -1.3126]],\n",
       "\n",
       "         [[ 7.8100,  3.5696],\n",
       "          [ 5.6024,  1.8027],\n",
       "          [ 8.8032,  2.5171]]]])"
      ]
     },
     "execution_count": 32,
     "metadata": {},
     "output_type": "execute_result"
    }
   ],
   "source": [
    "g @ h @ i"
   ]
  },
  {
   "cell_type": "markdown",
   "metadata": {},
   "source": [
    "## torch.matmul(mat1, mat2) torch.matmul只支持2个矩阵相乘"
   ]
  },
  {
   "cell_type": "code",
   "execution_count": 34,
   "metadata": {},
   "outputs": [
    {
     "ename": "TypeError",
     "evalue": "matmul(): argument 'other' (position 2) must be Tensor, not list",
     "output_type": "error",
     "traceback": [
      "\u001b[1;31m---------------------------------------------------------------------------\u001b[0m",
      "\u001b[1;31mTypeError\u001b[0m                                 Traceback (most recent call last)",
      "Cell \u001b[1;32mIn[34], line 1\u001b[0m\n\u001b[1;32m----> 1\u001b[0m torch\u001b[39m.\u001b[39;49mmatmul(g, [h, i])\n",
      "\u001b[1;31mTypeError\u001b[0m: matmul(): argument 'other' (position 2) must be Tensor, not list"
     ]
    }
   ],
   "source": [
    "torch.matmul(g, h, i)"
   ]
  },
  {
   "cell_type": "code",
   "execution_count": 35,
   "metadata": {},
   "outputs": [],
   "source": [
    "j = torch.randn(2, 4, 5)"
   ]
  },
  {
   "cell_type": "markdown",
   "metadata": {},
   "source": [
    "## 前面维度不相同不能相乘"
   ]
  },
  {
   "cell_type": "code",
   "execution_count": 36,
   "metadata": {},
   "outputs": [
    {
     "ename": "RuntimeError",
     "evalue": "The size of tensor a (4) must match the size of tensor b (5) at non-singleton dimension 3",
     "output_type": "error",
     "traceback": [
      "\u001b[1;31m---------------------------------------------------------------------------\u001b[0m",
      "\u001b[1;31mRuntimeError\u001b[0m                              Traceback (most recent call last)",
      "Cell \u001b[1;32mIn[36], line 2\u001b[0m\n\u001b[0;32m      1\u001b[0m \u001b[39m# 前面维度不相同不能相乘\u001b[39;00m\n\u001b[1;32m----> 2\u001b[0m g \u001b[39m*\u001b[39;49m j\n",
      "\u001b[1;31mRuntimeError\u001b[0m: The size of tensor a (4) must match the size of tensor b (5) at non-singleton dimension 3"
     ]
    }
   ],
   "source": [
    "g * j"
   ]
  }
 ],
 "metadata": {
  "kernelspec": {
   "display_name": "pytorch",
   "language": "python",
   "name": "python3"
  },
  "language_info": {
   "codemirror_mode": {
    "name": "ipython",
    "version": 3
   },
   "file_extension": ".py",
   "mimetype": "text/x-python",
   "name": "python",
   "nbconvert_exporter": "python",
   "pygments_lexer": "ipython3",
   "version": "3.9.15"
  },
  "orig_nbformat": 4,
  "vscode": {
   "interpreter": {
    "hash": "6e3a9582807446cfda6e60e7a572d3bab8c423d141a376f0e3f6f7956ef3b5a5"
   }
  }
 },
 "nbformat": 4,
 "nbformat_minor": 2
}
