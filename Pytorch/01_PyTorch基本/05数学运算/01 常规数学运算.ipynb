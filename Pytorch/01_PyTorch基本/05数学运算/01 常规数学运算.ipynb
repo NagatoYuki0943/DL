{
 "cells": [
  {
   "cell_type": "code",
   "execution_count": 1,
   "id": "3e2377e8",
   "metadata": {},
   "outputs": [],
   "source": [
    "import torch"
   ]
  },
  {
   "cell_type": "markdown",
   "id": "b16b2c8d",
   "metadata": {},
   "source": [
    "# 加减乘除"
   ]
  },
  {
   "cell_type": "code",
   "execution_count": 2,
   "id": "8cc94073",
   "metadata": {},
   "outputs": [],
   "source": [
    "a = torch.tensor([[1, 1], [2, 2]])\n",
    "b = torch.tensor([[1, 1], [1, 1]])"
   ]
  },
  {
   "attachments": {},
   "cell_type": "markdown",
   "id": "c36c995b",
   "metadata": {},
   "source": [
    "## add 加法"
   ]
  },
  {
   "cell_type": "code",
   "execution_count": 3,
   "id": "6e322f3d",
   "metadata": {},
   "outputs": [
    {
     "data": {
      "text/plain": [
       "tensor([[2, 2],\n",
       "        [3, 3]])"
      ]
     },
     "execution_count": 3,
     "metadata": {},
     "output_type": "execute_result"
    }
   ],
   "source": [
    "a + b"
   ]
  },
  {
   "cell_type": "code",
   "execution_count": 4,
   "id": "b4b29995",
   "metadata": {},
   "outputs": [
    {
     "data": {
      "text/plain": [
       "tensor([[2, 2],\n",
       "        [3, 3]])"
      ]
     },
     "execution_count": 4,
     "metadata": {},
     "output_type": "execute_result"
    }
   ],
   "source": [
    "torch.add(a, b)"
   ]
  },
  {
   "cell_type": "markdown",
   "id": "eccf38b9",
   "metadata": {},
   "source": [
    "## sub subtract 减法"
   ]
  },
  {
   "cell_type": "code",
   "execution_count": 5,
   "id": "bd356079",
   "metadata": {},
   "outputs": [
    {
     "data": {
      "text/plain": [
       "tensor([[0, 0],\n",
       "        [1, 1]])"
      ]
     },
     "execution_count": 5,
     "metadata": {},
     "output_type": "execute_result"
    }
   ],
   "source": [
    "a - b"
   ]
  },
  {
   "cell_type": "code",
   "execution_count": 6,
   "id": "4785f46e",
   "metadata": {},
   "outputs": [
    {
     "data": {
      "text/plain": [
       "tensor([[0, 0],\n",
       "        [1, 1]])"
      ]
     },
     "execution_count": 6,
     "metadata": {},
     "output_type": "execute_result"
    }
   ],
   "source": [
    "torch.sub(a, b)"
   ]
  },
  {
   "cell_type": "code",
   "execution_count": 7,
   "id": "94145c1e",
   "metadata": {},
   "outputs": [
    {
     "data": {
      "text/plain": [
       "tensor([[0, 0],\n",
       "        [1, 1]])"
      ]
     },
     "execution_count": 7,
     "metadata": {},
     "output_type": "execute_result"
    }
   ],
   "source": [
    "torch.subtract(a, b)"
   ]
  },
  {
   "cell_type": "markdown",
   "id": "dbdd2ace",
   "metadata": {},
   "source": [
    "## mul multiply 乘法"
   ]
  },
  {
   "cell_type": "code",
   "execution_count": 8,
   "id": "b9033ec4",
   "metadata": {
    "scrolled": true
   },
   "outputs": [
    {
     "data": {
      "text/plain": [
       "tensor([[1, 1],\n",
       "        [2, 2]])"
      ]
     },
     "execution_count": 8,
     "metadata": {},
     "output_type": "execute_result"
    }
   ],
   "source": [
    "a * b"
   ]
  },
  {
   "cell_type": "code",
   "execution_count": 9,
   "id": "d40e638f",
   "metadata": {},
   "outputs": [
    {
     "data": {
      "text/plain": [
       "tensor([[1, 1],\n",
       "        [2, 2]])"
      ]
     },
     "execution_count": 9,
     "metadata": {},
     "output_type": "execute_result"
    }
   ],
   "source": [
    "torch.multiply(a, b)"
   ]
  },
  {
   "cell_type": "code",
   "execution_count": 10,
   "id": "18188c11",
   "metadata": {},
   "outputs": [
    {
     "data": {
      "text/plain": [
       "tensor([[1, 1],\n",
       "        [2, 2]])"
      ]
     },
     "execution_count": 10,
     "metadata": {},
     "output_type": "execute_result"
    }
   ],
   "source": [
    "torch.mul(a, b)"
   ]
  },
  {
   "cell_type": "markdown",
   "id": "0a414865",
   "metadata": {},
   "source": [
    "## divide 除法"
   ]
  },
  {
   "cell_type": "code",
   "execution_count": 11,
   "id": "15b08c08",
   "metadata": {},
   "outputs": [
    {
     "data": {
      "text/plain": [
       "tensor([[1., 1.],\n",
       "        [2., 2.]])"
      ]
     },
     "execution_count": 11,
     "metadata": {},
     "output_type": "execute_result"
    }
   ],
   "source": [
    "a / b"
   ]
  },
  {
   "cell_type": "code",
   "execution_count": 12,
   "id": "57845878",
   "metadata": {},
   "outputs": [
    {
     "data": {
      "text/plain": [
       "tensor([[1., 1.],\n",
       "        [2., 2.]])"
      ]
     },
     "execution_count": 12,
     "metadata": {},
     "output_type": "execute_result"
    }
   ],
   "source": [
    "torch.div(a, b)"
   ]
  },
  {
   "cell_type": "code",
   "execution_count": 13,
   "id": "52c011e6",
   "metadata": {},
   "outputs": [
    {
     "data": {
      "text/plain": [
       "tensor([[1., 1.],\n",
       "        [2., 2.]])"
      ]
     },
     "execution_count": 13,
     "metadata": {},
     "output_type": "execute_result"
    }
   ],
   "source": [
    "torch.divide(a, b)"
   ]
  },
  {
   "cell_type": "markdown",
   "id": "3e45b1d2",
   "metadata": {},
   "source": [
    "# n次方"
   ]
  },
  {
   "attachments": {},
   "cell_type": "markdown",
   "id": "d22e9563",
   "metadata": {},
   "source": [
    "## tensor ** 2 / tensor.square(n) 2次方"
   ]
  },
  {
   "cell_type": "code",
   "execution_count": 14,
   "id": "86972e1e",
   "metadata": {},
   "outputs": [],
   "source": [
    "g = torch.tensor([[0, 1], [2, 3]])"
   ]
  },
  {
   "cell_type": "code",
   "execution_count": 15,
   "id": "01cc8a93",
   "metadata": {},
   "outputs": [
    {
     "data": {
      "text/plain": [
       "tensor([[0, 1],\n",
       "        [4, 9]])"
      ]
     },
     "execution_count": 15,
     "metadata": {},
     "output_type": "execute_result"
    }
   ],
   "source": [
    "g.square()"
   ]
  },
  {
   "cell_type": "code",
   "execution_count": 16,
   "id": "6da71cd8",
   "metadata": {},
   "outputs": [
    {
     "data": {
      "text/plain": [
       "tensor([[0, 1],\n",
       "        [4, 9]])"
      ]
     },
     "execution_count": 16,
     "metadata": {},
     "output_type": "execute_result"
    }
   ],
   "source": [
    "torch.square(g)"
   ]
  },
  {
   "cell_type": "code",
   "execution_count": 17,
   "id": "49ae2aad",
   "metadata": {},
   "outputs": [
    {
     "data": {
      "text/plain": [
       "tensor([[0, 1],\n",
       "        [4, 9]])"
      ]
     },
     "execution_count": 17,
     "metadata": {},
     "output_type": "execute_result"
    }
   ],
   "source": [
    "torch.pow(g, 2)"
   ]
  },
  {
   "attachments": {},
   "cell_type": "markdown",
   "id": "9d0546da",
   "metadata": {},
   "source": [
    "## tensor ** n / tensor.pow(n) 多次方"
   ]
  },
  {
   "cell_type": "code",
   "execution_count": 18,
   "id": "89103527",
   "metadata": {},
   "outputs": [],
   "source": [
    "g = torch.tensor([[0, 1], [2, 3]])"
   ]
  },
  {
   "cell_type": "code",
   "execution_count": 19,
   "id": "6005c568",
   "metadata": {},
   "outputs": [
    {
     "data": {
      "text/plain": [
       "tensor([[ 0,  1],\n",
       "        [ 8, 27]])"
      ]
     },
     "execution_count": 19,
     "metadata": {},
     "output_type": "execute_result"
    }
   ],
   "source": [
    "g**3"
   ]
  },
  {
   "cell_type": "code",
   "execution_count": 20,
   "id": "1d6e48af",
   "metadata": {},
   "outputs": [
    {
     "data": {
      "text/plain": [
       "tensor([[ 0,  1],\n",
       "        [ 8, 27]])"
      ]
     },
     "execution_count": 20,
     "metadata": {},
     "output_type": "execute_result"
    }
   ],
   "source": [
    "g.pow(3)"
   ]
  },
  {
   "attachments": {},
   "cell_type": "markdown",
   "id": "888193f3",
   "metadata": {},
   "source": [
    "## torch.exp(tensor) / tensor.exp() e的tensor次方"
   ]
  },
  {
   "cell_type": "code",
   "execution_count": 21,
   "id": "31d26227",
   "metadata": {},
   "outputs": [],
   "source": [
    "g = torch.tensor([[0, 1], [2, 3]])"
   ]
  },
  {
   "cell_type": "code",
   "execution_count": 22,
   "id": "090d110a",
   "metadata": {},
   "outputs": [
    {
     "data": {
      "text/plain": [
       "tensor([[ 1.0000,  2.7183],\n",
       "        [ 7.3891, 20.0855]])"
      ]
     },
     "execution_count": 22,
     "metadata": {},
     "output_type": "execute_result"
    }
   ],
   "source": [
    "torch.exp(g)"
   ]
  },
  {
   "cell_type": "code",
   "execution_count": 23,
   "id": "0c973561",
   "metadata": {},
   "outputs": [
    {
     "data": {
      "text/plain": [
       "tensor([[ 1.0000,  2.7183],\n",
       "        [ 7.3891, 20.0855]])"
      ]
     },
     "execution_count": 23,
     "metadata": {},
     "output_type": "execute_result"
    }
   ],
   "source": [
    "g.exp()"
   ]
  },
  {
   "attachments": {},
   "cell_type": "markdown",
   "id": "e4824732",
   "metadata": {},
   "source": [
    "## torch.exp2(tensor) / tensor.exp2() 2的tensor次方"
   ]
  },
  {
   "cell_type": "code",
   "execution_count": 24,
   "id": "63599b9e",
   "metadata": {},
   "outputs": [
    {
     "data": {
      "text/plain": [
       "tensor([[1., 2.],\n",
       "        [4., 8.]])"
      ]
     },
     "execution_count": 24,
     "metadata": {},
     "output_type": "execute_result"
    }
   ],
   "source": [
    "torch.exp2(g)"
   ]
  },
  {
   "cell_type": "code",
   "execution_count": 25,
   "id": "270ff3e7",
   "metadata": {},
   "outputs": [
    {
     "data": {
      "text/plain": [
       "tensor([[1., 2.],\n",
       "        [4., 8.]])"
      ]
     },
     "execution_count": 25,
     "metadata": {},
     "output_type": "execute_result"
    }
   ],
   "source": [
    "g.exp2()"
   ]
  },
  {
   "cell_type": "markdown",
   "id": "09d40e85",
   "metadata": {},
   "source": [
    "# 开方"
   ]
  },
  {
   "attachments": {},
   "cell_type": "markdown",
   "id": "c040dab9",
   "metadata": {},
   "source": [
    "## torch.sqrt(tensor) / tensor.sqrt() 开方"
   ]
  },
  {
   "cell_type": "code",
   "execution_count": 26,
   "id": "1313341d",
   "metadata": {},
   "outputs": [
    {
     "data": {
      "text/plain": [
       "tensor([1.0000, 1.4142, 2.0000, 3.0000])"
      ]
     },
     "execution_count": 26,
     "metadata": {},
     "output_type": "execute_result"
    }
   ],
   "source": [
    "torch.sqrt(torch.tensor([1, 2, 4, 9]))"
   ]
  },
  {
   "cell_type": "code",
   "execution_count": 27,
   "id": "b7b18eb5",
   "metadata": {},
   "outputs": [
    {
     "data": {
      "text/plain": [
       "tensor([1.0000, 1.4142, 2.0000, 3.0000])"
      ]
     },
     "execution_count": 27,
     "metadata": {},
     "output_type": "execute_result"
    }
   ],
   "source": [
    "torch.tensor([1, 2, 4, 9]).sqrt()"
   ]
  },
  {
   "attachments": {},
   "cell_type": "markdown",
   "id": "ff5f4ff6",
   "metadata": {},
   "source": [
    "## torch.rsqrt(tensor) / tensor.rsqrt() 开方的倒数"
   ]
  },
  {
   "cell_type": "code",
   "execution_count": 28,
   "id": "a3686666",
   "metadata": {},
   "outputs": [
    {
     "data": {
      "text/plain": [
       "tensor([1.0000, 0.7071, 0.5000, 0.3333])"
      ]
     },
     "execution_count": 28,
     "metadata": {},
     "output_type": "execute_result"
    }
   ],
   "source": [
    "torch.rsqrt(torch.tensor([1, 2, 4, 9]))"
   ]
  },
  {
   "cell_type": "code",
   "execution_count": 29,
   "id": "f9bdc263",
   "metadata": {},
   "outputs": [
    {
     "data": {
      "text/plain": [
       "tensor([1.0000, 1.4142, 2.0000, 3.0000])"
      ]
     },
     "execution_count": 29,
     "metadata": {},
     "output_type": "execute_result"
    }
   ],
   "source": [
    "1 / torch.rsqrt(torch.tensor([1, 2, 4, 9]))"
   ]
  },
  {
   "cell_type": "code",
   "execution_count": 30,
   "id": "17353302",
   "metadata": {},
   "outputs": [
    {
     "data": {
      "text/plain": [
       "tensor([1.0000, 0.7071, 0.5000, 0.3333])"
      ]
     },
     "execution_count": 30,
     "metadata": {},
     "output_type": "execute_result"
    }
   ],
   "source": [
    "torch.tensor([1, 2, 4, 9]).rsqrt()"
   ]
  },
  {
   "cell_type": "code",
   "execution_count": 31,
   "id": "7c847361",
   "metadata": {},
   "outputs": [
    {
     "data": {
      "text/plain": [
       "tensor([1.0000, 1.4142, 2.0000, 3.0000])"
      ]
     },
     "execution_count": 31,
     "metadata": {},
     "output_type": "execute_result"
    }
   ],
   "source": [
    "1 / torch.tensor([1, 2, 4, 9]).rsqrt()"
   ]
  },
  {
   "attachments": {},
   "cell_type": "markdown",
   "id": "70e76afa",
   "metadata": {},
   "source": [
    "# torch.log(tensor) / tensor.log() ln(tensor)"
   ]
  },
  {
   "cell_type": "code",
   "execution_count": 32,
   "id": "3de2c3d8",
   "metadata": {},
   "outputs": [
    {
     "data": {
      "text/plain": [
       "tensor([[0., 1.],\n",
       "        [2., 3.]])"
      ]
     },
     "execution_count": 32,
     "metadata": {},
     "output_type": "execute_result"
    }
   ],
   "source": [
    "torch.log(g.exp())"
   ]
  },
  {
   "cell_type": "code",
   "execution_count": 33,
   "id": "684d35da",
   "metadata": {},
   "outputs": [
    {
     "data": {
      "text/plain": [
       "tensor([[0., 1.],\n",
       "        [2., 3.]])"
      ]
     },
     "execution_count": 33,
     "metadata": {},
     "output_type": "execute_result"
    }
   ],
   "source": [
    "g.exp().log()"
   ]
  },
  {
   "attachments": {},
   "cell_type": "markdown",
   "id": "d1e05595",
   "metadata": {},
   "source": [
    "# torch.log2(tensor) / tensor.log2() log_2(tensor)"
   ]
  },
  {
   "cell_type": "code",
   "execution_count": 34,
   "id": "64e1ba35",
   "metadata": {},
   "outputs": [
    {
     "data": {
      "text/plain": [
       "tensor([[0., 1.],\n",
       "        [2., 3.]])"
      ]
     },
     "execution_count": 34,
     "metadata": {},
     "output_type": "execute_result"
    }
   ],
   "source": [
    "torch.log2(g.exp2())"
   ]
  },
  {
   "cell_type": "code",
   "execution_count": 35,
   "id": "5a50a7e4",
   "metadata": {},
   "outputs": [
    {
     "data": {
      "text/plain": [
       "tensor([[0., 1.],\n",
       "        [2., 3.]])"
      ]
     },
     "execution_count": 35,
     "metadata": {},
     "output_type": "execute_result"
    }
   ],
   "source": [
    "g.exp2().log2()"
   ]
  },
  {
   "attachments": {},
   "cell_type": "markdown",
   "id": "1ff75a37",
   "metadata": {},
   "source": [
    "# torch.log10(tensor) / tensor.log10() log_10(tensor)"
   ]
  },
  {
   "cell_type": "code",
   "execution_count": 36,
   "id": "86ea185a",
   "metadata": {},
   "outputs": [],
   "source": [
    "i = torch.tensor([10, 100, 1000])"
   ]
  },
  {
   "cell_type": "code",
   "execution_count": 37,
   "id": "e311d3a1",
   "metadata": {},
   "outputs": [
    {
     "data": {
      "text/plain": [
       "tensor([1., 2., 3.])"
      ]
     },
     "execution_count": 37,
     "metadata": {},
     "output_type": "execute_result"
    }
   ],
   "source": [
    "torch.log10(i)"
   ]
  },
  {
   "cell_type": "code",
   "execution_count": 38,
   "id": "5effddd8",
   "metadata": {},
   "outputs": [
    {
     "data": {
      "text/plain": [
       "tensor([1., 2., 3.])"
      ]
     },
     "execution_count": 38,
     "metadata": {},
     "output_type": "execute_result"
    }
   ],
   "source": [
    "i.log10()"
   ]
  },
  {
   "cell_type": "markdown",
   "id": "6821bb7b",
   "metadata": {},
   "source": [
    "# floor() ceil() round() trunc() frac()\n",
    "- floor() 向下取整\n",
    "\n",
    "- ceil() 向上取整\n",
    "\n",
    "- round() 四舍五入\n",
    "\n",
    "- trunc() 整数部分\n",
    "\n",
    "- frac()  小数部分"
   ]
  },
  {
   "cell_type": "code",
   "execution_count": 39,
   "id": "eeab6070",
   "metadata": {},
   "outputs": [
    {
     "data": {
      "text/plain": [
       "tensor(3.1416)"
      ]
     },
     "execution_count": 39,
     "metadata": {},
     "output_type": "execute_result"
    }
   ],
   "source": [
    "pi = torch.tensor(torch.pi)\n",
    "pi"
   ]
  },
  {
   "cell_type": "code",
   "execution_count": 40,
   "id": "1fde5fe4",
   "metadata": {},
   "outputs": [
    {
     "data": {
      "text/plain": [
       "(tensor(3.), tensor(4.), tensor(3.), tensor(3.), tensor(0.1416))"
      ]
     },
     "execution_count": 40,
     "metadata": {},
     "output_type": "execute_result"
    }
   ],
   "source": [
    "pi.floor(), pi.ceil(), pi.round(), pi.trunc(), pi.frac()"
   ]
  },
  {
   "attachments": {},
   "cell_type": "markdown",
   "id": "fd512880",
   "metadata": {},
   "source": [
    "# torch.sum(tensor, dim=int/[int], keepdim=True)"
   ]
  },
  {
   "cell_type": "code",
   "execution_count": 94,
   "id": "47d0d151",
   "metadata": {},
   "outputs": [
    {
     "data": {
      "text/plain": [
       "(tensor([[[-12., -11., -10.,  -9.],\n",
       "          [ -8.,  -7.,  -6.,  -5.],\n",
       "          [ -4.,  -3.,  -2.,  -1.]],\n",
       " \n",
       "         [[  0.,   1.,   2.,   3.],\n",
       "          [  4.,   5.,   6.,   7.],\n",
       "          [  8.,   9.,  10.,  11.]]]),\n",
       " torch.Size([2, 3, 4]))"
      ]
     },
     "execution_count": 94,
     "metadata": {},
     "output_type": "execute_result"
    }
   ],
   "source": [
    "j = torch.arange(2 * 3 * 4).reshape(2, 3, 4) - 2 * 3 * 4 / 2\n",
    "j, j.shape"
   ]
  },
  {
   "cell_type": "code",
   "execution_count": 95,
   "id": "ad4599a7",
   "metadata": {},
   "outputs": [
    {
     "data": {
      "text/plain": [
       "tensor(-12.)"
      ]
     },
     "execution_count": 95,
     "metadata": {},
     "output_type": "execute_result"
    }
   ],
   "source": [
    "torch.sum(j)"
   ]
  },
  {
   "cell_type": "code",
   "execution_count": 96,
   "id": "ecd34bbd",
   "metadata": {},
   "outputs": [
    {
     "data": {
      "text/plain": [
       "tensor(-12.)"
      ]
     },
     "execution_count": 96,
     "metadata": {},
     "output_type": "execute_result"
    }
   ],
   "source": [
    "j.sum()"
   ]
  },
  {
   "attachments": {},
   "cell_type": "markdown",
   "id": "80d64e19",
   "metadata": {},
   "source": [
    "## dim 相当于在哪个维度计算,就去除这个维度,使用 keepdim=True 会将这个维度调整为1,方便广播机制"
   ]
  },
  {
   "cell_type": "code",
   "execution_count": 97,
   "id": "b93c61b5",
   "metadata": {},
   "outputs": [
    {
     "data": {
      "text/plain": [
       "(tensor([[-12., -10.,  -8.,  -6.],\n",
       "         [ -4.,  -2.,   0.,   2.],\n",
       "         [  4.,   6.,   8.,  10.]]),\n",
       " torch.Size([3, 4]))"
      ]
     },
     "execution_count": 97,
     "metadata": {},
     "output_type": "execute_result"
    }
   ],
   "source": [
    "j.sum(dim=0), j.sum(dim=0).shape\n",
    "# dim=0 消失了"
   ]
  },
  {
   "cell_type": "code",
   "execution_count": 98,
   "id": "2c1ec3ce",
   "metadata": {},
   "outputs": [
    {
     "data": {
      "text/plain": [
       "(tensor([[[-12., -10.,  -8.,  -6.],\n",
       "          [ -4.,  -2.,   0.,   2.],\n",
       "          [  4.,   6.,   8.,  10.]]]),\n",
       " torch.Size([1, 3, 4]))"
      ]
     },
     "execution_count": 98,
     "metadata": {},
     "output_type": "execute_result"
    }
   ],
   "source": [
    "j.sum(dim=0, keepdim=True), j.sum(dim=0, keepdim=True).shape\n",
    "# dim=0 调整为1"
   ]
  },
  {
   "cell_type": "code",
   "execution_count": 99,
   "id": "d1a65773",
   "metadata": {},
   "outputs": [
    {
     "data": {
      "text/plain": [
       "(tensor([[-24., -21., -18., -15.],\n",
       "         [ 12.,  15.,  18.,  21.]]),\n",
       " torch.Size([2, 4]))"
      ]
     },
     "execution_count": 99,
     "metadata": {},
     "output_type": "execute_result"
    }
   ],
   "source": [
    "j.sum(dim=1), j.sum(dim=1).shape\n",
    "# dim=1 消失了"
   ]
  },
  {
   "cell_type": "code",
   "execution_count": 100,
   "id": "4fcb2930",
   "metadata": {},
   "outputs": [
    {
     "data": {
      "text/plain": [
       "(tensor([[[-24., -21., -18., -15.]],\n",
       " \n",
       "         [[ 12.,  15.,  18.,  21.]]]),\n",
       " torch.Size([2, 1, 4]))"
      ]
     },
     "execution_count": 100,
     "metadata": {},
     "output_type": "execute_result"
    }
   ],
   "source": [
    "j.sum(dim=1, keepdim=True), j.sum(dim=1, keepdim=True).shape\n",
    "# dim=1 调整为1"
   ]
  },
  {
   "cell_type": "code",
   "execution_count": 101,
   "id": "f794c191",
   "metadata": {},
   "outputs": [
    {
     "data": {
      "text/plain": [
       "(tensor([[-42., -26., -10.],\n",
       "         [  6.,  22.,  38.]]),\n",
       " torch.Size([2, 3]))"
      ]
     },
     "execution_count": 101,
     "metadata": {},
     "output_type": "execute_result"
    }
   ],
   "source": [
    "j.sum(dim=2), j.sum(dim=2).shape\n",
    "# dim=2 消失了"
   ]
  },
  {
   "cell_type": "code",
   "execution_count": 102,
   "id": "9c7858fe",
   "metadata": {},
   "outputs": [
    {
     "data": {
      "text/plain": [
       "(tensor([[[-42.],\n",
       "          [-26.],\n",
       "          [-10.]],\n",
       " \n",
       "         [[  6.],\n",
       "          [ 22.],\n",
       "          [ 38.]]]),\n",
       " torch.Size([2, 3, 1]))"
      ]
     },
     "execution_count": 102,
     "metadata": {},
     "output_type": "execute_result"
    }
   ],
   "source": [
    "j.sum(dim=2, keepdim=True), j.sum(dim=2, keepdim=True).shape\n",
    "# dim=2 调整为1"
   ]
  },
  {
   "cell_type": "code",
   "execution_count": 103,
   "id": "8d5c29cc",
   "metadata": {},
   "outputs": [
    {
     "data": {
      "text/plain": [
       "(tensor([-78.,  66.]), torch.Size([2]))"
      ]
     },
     "execution_count": 103,
     "metadata": {},
     "output_type": "execute_result"
    }
   ],
   "source": [
    "j.sum(dim=[1, 2]), j.sum(dim=[1, 2]).shape\n",
    "# dim=1,2 消失了"
   ]
  },
  {
   "cell_type": "code",
   "execution_count": 104,
   "id": "c78b4be4",
   "metadata": {},
   "outputs": [
    {
     "data": {
      "text/plain": [
       "(tensor([[[-78.]],\n",
       " \n",
       "         [[ 66.]]]),\n",
       " torch.Size([2, 1, 1]))"
      ]
     },
     "execution_count": 104,
     "metadata": {},
     "output_type": "execute_result"
    }
   ],
   "source": [
    "j.sum(dim=[1, 2], keepdim=True), j.sum(dim=[1, 2], keepdim=True).shape\n",
    "# dim=1,2 调整为1"
   ]
  },
  {
   "cell_type": "markdown",
   "id": "2f39d860",
   "metadata": {},
   "source": [
    "# torch.abs(tensor) 绝对值"
   ]
  },
  {
   "cell_type": "code",
   "execution_count": 107,
   "id": "d5dd355b",
   "metadata": {},
   "outputs": [
    {
     "data": {
      "text/plain": [
       "tensor([[[-12., -11., -10.,  -9.],\n",
       "         [ -8.,  -7.,  -6.,  -5.],\n",
       "         [ -4.,  -3.,  -2.,  -1.]],\n",
       "\n",
       "        [[  0.,   1.,   2.,   3.],\n",
       "         [  4.,   5.,   6.,   7.],\n",
       "         [  8.,   9.,  10.,  11.]]])"
      ]
     },
     "execution_count": 107,
     "metadata": {},
     "output_type": "execute_result"
    }
   ],
   "source": [
    "j"
   ]
  },
  {
   "cell_type": "code",
   "execution_count": 108,
   "id": "22efb6d1",
   "metadata": {},
   "outputs": [
    {
     "data": {
      "text/plain": [
       "tensor([[[12., 11., 10.,  9.],\n",
       "         [ 8.,  7.,  6.,  5.],\n",
       "         [ 4.,  3.,  2.,  1.]],\n",
       "\n",
       "        [[ 0.,  1.,  2.,  3.],\n",
       "         [ 4.,  5.,  6.,  7.],\n",
       "         [ 8.,  9., 10., 11.]]])"
      ]
     },
     "execution_count": 108,
     "metadata": {},
     "output_type": "execute_result"
    }
   ],
   "source": [
    "torch.abs(j)"
   ]
  },
  {
   "cell_type": "code",
   "execution_count": 109,
   "id": "08135081",
   "metadata": {},
   "outputs": [
    {
     "data": {
      "text/plain": [
       "tensor([[[12., 11., 10.,  9.],\n",
       "         [ 8.,  7.,  6.,  5.],\n",
       "         [ 4.,  3.,  2.,  1.]],\n",
       "\n",
       "        [[ 0.,  1.,  2.,  3.],\n",
       "         [ 4.,  5.,  6.,  7.],\n",
       "         [ 8.,  9., 10., 11.]]])"
      ]
     },
     "execution_count": 109,
     "metadata": {},
     "output_type": "execute_result"
    }
   ],
   "source": [
    "j.abs()"
   ]
  },
  {
   "cell_type": "markdown",
   "id": "5a37b459",
   "metadata": {},
   "source": [
    "# torch.neg(tensor) 相反数"
   ]
  },
  {
   "cell_type": "code",
   "execution_count": 110,
   "id": "39db617e",
   "metadata": {},
   "outputs": [
    {
     "data": {
      "text/plain": [
       "tensor([[[-12., -11., -10.,  -9.],\n",
       "         [ -8.,  -7.,  -6.,  -5.],\n",
       "         [ -4.,  -3.,  -2.,  -1.]],\n",
       "\n",
       "        [[  0.,   1.,   2.,   3.],\n",
       "         [  4.,   5.,   6.,   7.],\n",
       "         [  8.,   9.,  10.,  11.]]])"
      ]
     },
     "execution_count": 110,
     "metadata": {},
     "output_type": "execute_result"
    }
   ],
   "source": [
    "j"
   ]
  },
  {
   "cell_type": "code",
   "execution_count": 111,
   "id": "c307e89e",
   "metadata": {},
   "outputs": [
    {
     "data": {
      "text/plain": [
       "tensor([[[ 12.,  11.,  10.,   9.],\n",
       "         [  8.,   7.,   6.,   5.],\n",
       "         [  4.,   3.,   2.,   1.]],\n",
       "\n",
       "        [[ -0.,  -1.,  -2.,  -3.],\n",
       "         [ -4.,  -5.,  -6.,  -7.],\n",
       "         [ -8.,  -9., -10., -11.]]])"
      ]
     },
     "execution_count": 111,
     "metadata": {},
     "output_type": "execute_result"
    }
   ],
   "source": [
    "torch.neg(j)"
   ]
  },
  {
   "cell_type": "code",
   "execution_count": 112,
   "id": "1c632313",
   "metadata": {},
   "outputs": [
    {
     "data": {
      "text/plain": [
       "tensor([[[ 12.,  11.,  10.,   9.],\n",
       "         [  8.,   7.,   6.,   5.],\n",
       "         [  4.,   3.,   2.,   1.]],\n",
       "\n",
       "        [[ -0.,  -1.,  -2.,  -3.],\n",
       "         [ -4.,  -5.,  -6.,  -7.],\n",
       "         [ -8.,  -9., -10., -11.]]])"
      ]
     },
     "execution_count": 112,
     "metadata": {},
     "output_type": "execute_result"
    }
   ],
   "source": [
    "j.neg()"
   ]
  },
  {
   "attachments": {},
   "cell_type": "markdown",
   "id": "b04953ec",
   "metadata": {},
   "source": [
    "# dim=[dim1, dim2...] 多个维度的计算方式"
   ]
  },
  {
   "cell_type": "code",
   "execution_count": 113,
   "id": "2b5be907",
   "metadata": {},
   "outputs": [
    {
     "data": {
      "text/plain": [
       "tensor([[ 0.,  1.,  2.,  3.],\n",
       "        [ 4.,  5.,  6.,  7.],\n",
       "        [ 8.,  9., 10., 11.],\n",
       "        [12., 13., 14., 15.],\n",
       "        [16., 17., 18., 19.]])"
      ]
     },
     "execution_count": 113,
     "metadata": {},
     "output_type": "execute_result"
    }
   ],
   "source": [
    "k = torch.arange(20, dtype=torch.float32).reshape(5, 4)\n",
    "k"
   ]
  },
  {
   "cell_type": "markdown",
   "id": "3d12f4d8",
   "metadata": {},
   "source": [
    "沿着行和列对矩阵求和，等价于对矩阵的所有元素进行求和。"
   ]
  },
  {
   "cell_type": "code",
   "execution_count": 114,
   "id": "557544f9",
   "metadata": {},
   "outputs": [
    {
     "data": {
      "text/plain": [
       "tensor(190.)"
      ]
     },
     "execution_count": 114,
     "metadata": {},
     "output_type": "execute_result"
    }
   ],
   "source": [
    "k.sum(dim=[0, 1])"
   ]
  },
  {
   "cell_type": "code",
   "execution_count": 115,
   "id": "66d6c08d",
   "metadata": {},
   "outputs": [
    {
     "data": {
      "text/plain": [
       "tensor(190.)"
      ]
     },
     "execution_count": 115,
     "metadata": {},
     "output_type": "execute_result"
    }
   ],
   "source": [
    "k.sum()"
   ]
  },
  {
   "cell_type": "markdown",
   "id": "1fe1a1a5",
   "metadata": {},
   "source": [
    "# torch.cumsum(tensor)\n",
    "\n",
    "如果我们想沿[**某个轴计算`A`元素的累积总和**]，\n",
    "比如`axis=0`（按行计算），可以调用`cumsum`函数。\n",
    "此函数不会沿任何轴降低输入张量的维度。\n"
   ]
  },
  {
   "cell_type": "code",
   "execution_count": 116,
   "id": "d1f866ab",
   "metadata": {},
   "outputs": [
    {
     "data": {
      "text/plain": [
       "tensor([[ 0.,  1.,  2.,  3.],\n",
       "        [ 4.,  5.,  6.,  7.],\n",
       "        [ 8.,  9., 10., 11.],\n",
       "        [12., 13., 14., 15.],\n",
       "        [16., 17., 18., 19.]])"
      ]
     },
     "execution_count": 116,
     "metadata": {},
     "output_type": "execute_result"
    }
   ],
   "source": [
    "k"
   ]
  },
  {
   "cell_type": "code",
   "execution_count": 117,
   "id": "730e24c0",
   "metadata": {},
   "outputs": [
    {
     "data": {
      "text/plain": [
       "tensor([[ 0.,  1.,  2.,  3.],\n",
       "        [ 4.,  6.,  8., 10.],\n",
       "        [12., 15., 18., 21.],\n",
       "        [24., 28., 32., 36.],\n",
       "        [40., 45., 50., 55.]])"
      ]
     },
     "execution_count": 117,
     "metadata": {},
     "output_type": "execute_result"
    }
   ],
   "source": [
    "torch.cumsum(k, dim=0)"
   ]
  },
  {
   "cell_type": "code",
   "execution_count": 118,
   "id": "dc8ee883",
   "metadata": {},
   "outputs": [
    {
     "data": {
      "text/plain": [
       "tensor([[ 0.,  1.,  2.,  3.],\n",
       "        [ 4.,  6.,  8., 10.],\n",
       "        [12., 15., 18., 21.],\n",
       "        [24., 28., 32., 36.],\n",
       "        [40., 45., 50., 55.]])"
      ]
     },
     "execution_count": 118,
     "metadata": {},
     "output_type": "execute_result"
    }
   ],
   "source": [
    "k.cumsum(dim=0)"
   ]
  },
  {
   "cell_type": "code",
   "execution_count": 119,
   "id": "dfe03d30",
   "metadata": {},
   "outputs": [
    {
     "data": {
      "text/plain": [
       "tensor([[ 0.,  1.,  3.,  6.],\n",
       "        [ 4.,  9., 15., 22.],\n",
       "        [ 8., 17., 27., 38.],\n",
       "        [12., 25., 39., 54.],\n",
       "        [16., 33., 51., 70.]])"
      ]
     },
     "execution_count": 119,
     "metadata": {},
     "output_type": "execute_result"
    }
   ],
   "source": [
    "k.cumsum(dim=1)"
   ]
  },
  {
   "attachments": {},
   "cell_type": "markdown",
   "id": "1afc5b8d",
   "metadata": {},
   "source": [
    "# 点积（Dot Product）torch.dot(tensor1, tensor2)\n",
    "\n",
    "我们已经学习了按元素操作、求和及平均值。\n",
    "另一个最基本的操作之一是点积。\n",
    "给定两个向量$\\mathbf{x},\\mathbf{y}\\in\\mathbb{R}^d$，\n",
    "它们的*点积*（dot product）$\\mathbf{x}^\\top\\mathbf{y}$\n",
    "（或$\\langle\\mathbf{x},\\mathbf{y}\\rangle$）\n",
    "是相同位置的按元素乘积的和：$\\mathbf{x}^\\top \\mathbf{y} = \\sum_{i=1}^{d} x_i y_i$。\n",
    "\n",
    "[~~点积是相同位置的按元素乘积的和~~]\n"
   ]
  },
  {
   "cell_type": "code",
   "execution_count": 120,
   "id": "404bf1d9",
   "metadata": {},
   "outputs": [
    {
     "data": {
      "text/plain": [
       "(tensor([0., 1., 2., 3.]), tensor([1., 1., 1., 1.]), tensor(6.))"
      ]
     },
     "execution_count": 120,
     "metadata": {},
     "output_type": "execute_result"
    }
   ],
   "source": [
    "l = torch.arange(4, dtype=torch.float32)\n",
    "m = torch.ones(4, dtype=torch.float32)\n",
    "l, m, torch.dot(l, m)"
   ]
  },
  {
   "cell_type": "markdown",
   "id": "006850a7",
   "metadata": {},
   "source": [
    "注意，(**我们可以通过执行按元素乘法，然后进行求和来表示两个向量的点积**)：\n"
   ]
  },
  {
   "cell_type": "code",
   "execution_count": 121,
   "id": "4bec0d24",
   "metadata": {},
   "outputs": [
    {
     "data": {
      "text/plain": [
       "tensor(6.)"
      ]
     },
     "execution_count": 121,
     "metadata": {},
     "output_type": "execute_result"
    }
   ],
   "source": [
    "torch.sum(l * m)"
   ]
  },
  {
   "cell_type": "markdown",
   "id": "dbcd5b05",
   "metadata": {},
   "source": [
    "点积在很多场合都很有用。\n",
    "例如，给定一组由向量$\\mathbf{x} \\in \\mathbb{R}^d$表示的值，\n",
    "和一组由$\\mathbf{w} \\in \\mathbb{R}^d$表示的权重。\n",
    "$\\mathbf{x}$中的值根据权重$\\mathbf{w}$的加权和，\n",
    "可以表示为点积$\\mathbf{x}^\\top \\mathbf{w}$。\n",
    "当权重为非负数且和为1（即$\\left(\\sum_{i=1}^{d}{w_i}=1\\right)$）时，\n",
    "点积表示*加权平均*（weighted average）。\n",
    "将两个向量规范化得到单位长度后，点积表示它们夹角的余弦。\n",
    "本节后面的内容将正式介绍*长度*（length）的概念。"
   ]
  },
  {
   "attachments": {},
   "cell_type": "markdown",
   "id": "2216927e",
   "metadata": {},
   "source": [
    "# 矩阵-向量积 torch.mv(tensor1, tensor2)\n",
    "\n",
    "现在我们知道如何计算点积，可以开始理解*矩阵-向量积*（matrix-vector product）。\n",
    "回顾分别在 :eqref:`eq_matrix_def`和 :eqref:`eq_vec_def`中定义的矩阵$\\mathbf{A} \\in \\mathbb{R}^{m \\times n}$和向量$\\mathbf{x} \\in \\mathbb{R}^n$。\n",
    "让我们将矩阵$\\mathbf{A}$用它的行向量表示：\n",
    "\n",
    "$$\\mathbf{A}=\n",
    "\\begin{bmatrix}\n",
    "\\mathbf{a}^\\top_{1} \\\\\n",
    "\\mathbf{a}^\\top_{2} \\\\\n",
    "\\vdots \\\\\n",
    "\\mathbf{a}^\\top_m \\\\\n",
    "\\end{bmatrix},$$\n",
    "\n",
    "其中每个$\\mathbf{a}^\\top_{i} \\in \\mathbb{R}^n$都是行向量，表示矩阵的第$i$行。\n",
    "[**矩阵向量积$\\mathbf{A}\\mathbf{x}$是一个长度为$m$的列向量，\n",
    "其第$i$个元素是点积$\\mathbf{a}^\\top_i \\mathbf{x}$**]：\n",
    "\n",
    "$$\n",
    "\\mathbf{A}\\mathbf{x}\n",
    "= \\begin{bmatrix}\n",
    "\\mathbf{a}^\\top_{1} \\\\\n",
    "\\mathbf{a}^\\top_{2} \\\\\n",
    "\\vdots \\\\\n",
    "\\mathbf{a}^\\top_m \\\\\n",
    "\\end{bmatrix}\\mathbf{x}\n",
    "= \\begin{bmatrix}\n",
    " \\mathbf{a}^\\top_{1} \\mathbf{x}  \\\\\n",
    " \\mathbf{a}^\\top_{2} \\mathbf{x} \\\\\n",
    "\\vdots\\\\\n",
    " \\mathbf{a}^\\top_{m} \\mathbf{x}\\\\\n",
    "\\end{bmatrix}.\n",
    "$$\n",
    "\n",
    "我们可以把一个矩阵$\\mathbf{A} \\in \\mathbb{R}^{m \\times n}$乘法看作一个从$\\mathbb{R}^{n}$到$\\mathbb{R}^{m}$向量的转换。\n",
    "这些转换是非常有用的，例如可以用方阵的乘法来表示旋转。\n",
    "后续章节将讲到，我们也可以使用矩阵-向量积来描述在给定前一层的值时，\n",
    "求解神经网络每一层所需的复杂计算。\n",
    "\n",
    "在代码中使用张量表示矩阵-向量积，我们使用`mv`函数。\n",
    "当我们为矩阵`A`和向量`x`调用`torch.mv(A, x)`时，会执行矩阵-向量积。\n",
    "注意，`A`的列维数（沿轴1的长度）必须与`x`的维数（其长度）相同。\n",
    "\n"
   ]
  },
  {
   "cell_type": "code",
   "execution_count": 122,
   "id": "4f164e3f",
   "metadata": {},
   "outputs": [
    {
     "data": {
      "text/plain": [
       "tensor([[ 0.,  1.,  2.,  3.],\n",
       "        [ 4.,  5.,  6.,  7.],\n",
       "        [ 8.,  9., 10., 11.],\n",
       "        [12., 13., 14., 15.],\n",
       "        [16., 17., 18., 19.]])"
      ]
     },
     "execution_count": 122,
     "metadata": {},
     "output_type": "execute_result"
    }
   ],
   "source": [
    "k"
   ]
  },
  {
   "cell_type": "code",
   "execution_count": 123,
   "id": "3289ae6c",
   "metadata": {},
   "outputs": [
    {
     "data": {
      "text/plain": [
       "tensor([0., 1., 2., 3.])"
      ]
     },
     "execution_count": 123,
     "metadata": {},
     "output_type": "execute_result"
    }
   ],
   "source": [
    "l"
   ]
  },
  {
   "cell_type": "code",
   "execution_count": 124,
   "id": "6db34adb",
   "metadata": {},
   "outputs": [
    {
     "data": {
      "text/plain": [
       "tensor([ 14.,  38.,  62.,  86., 110.])"
      ]
     },
     "execution_count": 124,
     "metadata": {},
     "output_type": "execute_result"
    }
   ],
   "source": [
    "torch.mv(k, l)"
   ]
  },
  {
   "cell_type": "code",
   "execution_count": null,
   "id": "5f9d0ec6",
   "metadata": {},
   "outputs": [],
   "source": []
  }
 ],
 "metadata": {
  "kernelspec": {
   "display_name": "pytorch",
   "language": "python",
   "name": "python3"
  },
  "language_info": {
   "codemirror_mode": {
    "name": "ipython",
    "version": 3
   },
   "file_extension": ".py",
   "mimetype": "text/x-python",
   "name": "python",
   "nbconvert_exporter": "python",
   "pygments_lexer": "ipython3",
   "version": "3.11.4"
  },
  "toc": {
   "base_numbering": 1,
   "nav_menu": {},
   "number_sections": true,
   "sideBar": true,
   "skip_h1_title": false,
   "title_cell": "Table of Contents",
   "title_sidebar": "Contents",
   "toc_cell": false,
   "toc_position": {},
   "toc_section_display": true,
   "toc_window_display": true
  },
  "vscode": {
   "interpreter": {
    "hash": "6e3a9582807446cfda6e60e7a572d3bab8c423d141a376f0e3f6f7956ef3b5a5"
   }
  }
 },
 "nbformat": 4,
 "nbformat_minor": 5
}
