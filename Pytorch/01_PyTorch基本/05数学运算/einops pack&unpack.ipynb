{
 "cells": [
  {
   "cell_type": "markdown",
   "metadata": {},
   "source": [
    "https://github.com/arogozhnikov/einops"
   ]
  },
  {
   "cell_type": "code",
   "execution_count": 1,
   "metadata": {},
   "outputs": [],
   "source": [
    "import torch\n",
    "from einops import pack, unpack"
   ]
  },
  {
   "cell_type": "markdown",
   "metadata": {},
   "source": [
    "# pack unpack\n",
    "\n",
    "Later additions to the family are pack and unpack functions (better than stack/split/concatenate):"
   ]
  },
  {
   "cell_type": "code",
   "execution_count": 2,
   "metadata": {},
   "outputs": [],
   "source": [
    "class_token_bc = image_tokens_bhwc = text_tokens_btc = torch.ones(10, 512)"
   ]
  },
  {
   "cell_type": "code",
   "execution_count": 3,
   "metadata": {},
   "outputs": [
    {
     "name": "stdout",
     "output_type": "stream",
     "text": [
      "torch.Size([10, 3, 512])\n",
      "[torch.Size([]), torch.Size([]), torch.Size([])]\n"
     ]
    }
   ],
   "source": [
    "# pack and unpack allow reversibly 'packing' multiple tensors into one.\n",
    "# Packed tensors may be of different dimensionality:\n",
    "packed, ps = pack([class_token_bc, image_tokens_bhwc, text_tokens_btc], 'b * c') # b * c: 10 * 512\n",
    "print(packed.shape)\n",
    "print(ps)"
   ]
  },
  {
   "cell_type": "code",
   "execution_count": 4,
   "metadata": {},
   "outputs": [
    {
     "name": "stdout",
     "output_type": "stream",
     "text": [
      "torch.Size([10, 512])\n",
      "torch.Size([10, 512])\n",
      "torch.Size([10, 512])\n"
     ]
    }
   ],
   "source": [
    "class_emb_bc, image_emb_bhwc, text_emb_btc = unpack(packed, ps, 'b * c')\n",
    "print(class_emb_bc.shape)\n",
    "print(image_emb_bhwc.shape)\n",
    "print(text_emb_btc.shape)"
   ]
  },
  {
   "cell_type": "code",
   "execution_count": null,
   "metadata": {},
   "outputs": [],
   "source": []
  }
 ],
 "metadata": {
  "kernelspec": {
   "display_name": "pytorch",
   "language": "python",
   "name": "python3"
  },
  "language_info": {
   "codemirror_mode": {
    "name": "ipython",
    "version": 3
   },
   "file_extension": ".py",
   "mimetype": "text/x-python",
   "name": "python",
   "nbconvert_exporter": "python",
   "pygments_lexer": "ipython3",
   "version": "3.11.4"
  }
 },
 "nbformat": 4,
 "nbformat_minor": 2
}
