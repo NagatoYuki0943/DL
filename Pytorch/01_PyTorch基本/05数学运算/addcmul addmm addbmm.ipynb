{
 "cells": [
  {
   "cell_type": "code",
   "execution_count": 1,
   "metadata": {},
   "outputs": [],
   "source": [
    "import torch"
   ]
  },
  {
   "attachments": {},
   "cell_type": "markdown",
   "metadata": {},
   "source": [
    "# torch.addcmul(beta, alpha, x)\n",
    "\n",
    "$$\n",
    "y = beta + alpha * x\n",
    "$$"
   ]
  },
  {
   "cell_type": "code",
   "execution_count": 4,
   "metadata": {},
   "outputs": [],
   "source": [
    "beta = torch.tensor(3)\n",
    "alpha = torch.tensor(2)\n",
    "x = torch.tensor(4)"
   ]
  },
  {
   "cell_type": "code",
   "execution_count": 5,
   "metadata": {},
   "outputs": [
    {
     "data": {
      "text/plain": [
       "tensor(11)"
      ]
     },
     "execution_count": 5,
     "metadata": {},
     "output_type": "execute_result"
    }
   ],
   "source": [
    "torch.addcmul(beta, alpha, x)"
   ]
  },
  {
   "attachments": {},
   "cell_type": "markdown",
   "metadata": {},
   "source": [
    "# torch.addbm(input, mat1, mat2, beta, alpha)\n",
    "\n",
    "- input: [m, n]\n",
    "- mat1:  [m, x]\n",
    "- mat2:  [x, n]\n",
    "- beta:  float\n",
    "- alpha: float\n",
    "\n",
    "$$\n",
    "addmm = beta * input + alpha * (mat1 @ mat2)\n",
    "$$"
   ]
  },
  {
   "cell_type": "code",
   "execution_count": 6,
   "metadata": {},
   "outputs": [],
   "source": [
    "input = torch.randn(2, 2)\n",
    "mat1  = torch.randn(2, 3)\n",
    "mat2  = torch.randn(3, 2)\n",
    "beta  = 2.\n",
    "alpha = 3."
   ]
  },
  {
   "cell_type": "code",
   "execution_count": 7,
   "metadata": {},
   "outputs": [],
   "source": [
    "res1 = torch.addmm(input, mat1, mat2, beta=beta, alpha=alpha)"
   ]
  },
  {
   "cell_type": "code",
   "execution_count": 8,
   "metadata": {},
   "outputs": [],
   "source": [
    "# 自己手写支持多维度输入\n",
    "res2 = beta * input + alpha * (mat1 @ mat2)"
   ]
  },
  {
   "cell_type": "code",
   "execution_count": 9,
   "metadata": {},
   "outputs": [
    {
     "data": {
      "text/plain": [
       "tensor(True)"
      ]
     },
     "execution_count": 9,
     "metadata": {},
     "output_type": "execute_result"
    }
   ],
   "source": [
    "torch.all(res1 == res2)"
   ]
  },
  {
   "attachments": {},
   "cell_type": "markdown",
   "metadata": {},
   "source": [
    "# torch.addbmm(input, mat1, mat2, beta=beta, alpha=alpha)\n",
    "\n",
    "- input: [m, n]\n",
    "- mat1:  [m, x]\n",
    "- mat2:  [x, n]\n",
    "- beta:  float\n",
    "- alpha: float\n",
    "\n",
    "$$\n",
    "addbmm = beta * input + alpha * \\sum^{batch}(mat1 @ mat2)\n",
    "$$"
   ]
  },
  {
   "cell_type": "code",
   "execution_count": 10,
   "metadata": {},
   "outputs": [],
   "source": [
    "input = torch.arange(9, dtype=torch.float32).reshape(3, 3)\n",
    "mat1  = torch.arange(24, dtype=torch.float32).reshape(2, 3, 4)\n",
    "mat2  = torch.arange(24, dtype=torch.float32).reshape(2, 4, 3) * 1.5 + 0.001\n",
    "beta  = 2.\n",
    "alpha = 3."
   ]
  },
  {
   "cell_type": "code",
   "execution_count": 15,
   "metadata": {},
   "outputs": [
    {
     "data": {
      "text/plain": [
       "tensor([[4266.1797, 4538.1802, 4810.1802],\n",
       "        [5784.2759, 6200.2759, 6616.2759],\n",
       "        [7302.3721, 7862.3721, 8422.3721]])"
      ]
     },
     "execution_count": 15,
     "metadata": {},
     "output_type": "execute_result"
    }
   ],
   "source": [
    "res1 = torch.addbmm(input, mat1, mat2, beta=beta, alpha=alpha)\n",
    "res1"
   ]
  },
  {
   "cell_type": "code",
   "execution_count": 16,
   "metadata": {},
   "outputs": [
    {
     "data": {
      "text/plain": [
       "tensor([[4266.1797, 4538.1797, 4810.1797],\n",
       "        [5784.2764, 6200.2764, 6616.2764],\n",
       "        [7302.3721, 7862.3721, 8422.3721]])"
      ]
     },
     "execution_count": 16,
     "metadata": {},
     "output_type": "execute_result"
    }
   ],
   "source": [
    "res2 = beta * input + alpha * torch.sum(mat1 @ mat2, dim=0)\n",
    "res2"
   ]
  },
  {
   "cell_type": "code",
   "execution_count": 13,
   "metadata": {},
   "outputs": [
    {
     "data": {
      "text/plain": [
       "tensor(False)"
      ]
     },
     "execution_count": 13,
     "metadata": {},
     "output_type": "execute_result"
    }
   ],
   "source": [
    "torch.all(res1==res2)"
   ]
  },
  {
   "cell_type": "code",
   "execution_count": 14,
   "metadata": {},
   "outputs": [
    {
     "data": {
      "text/plain": [
       "4"
      ]
     },
     "execution_count": 14,
     "metadata": {},
     "output_type": "execute_result"
    }
   ],
   "source": [
    "res1.eq(res2).sum().item()"
   ]
  },
  {
   "cell_type": "code",
   "execution_count": 17,
   "metadata": {},
   "outputs": [
    {
     "name": "stdout",
     "output_type": "stream",
     "text": [
      "True False False \n",
      "False False False \n",
      "True True True \n"
     ]
    }
   ],
   "source": [
    "for r1_line, r2_line in zip(res1, res2):\n",
    "    for r1, r2 in zip(r1_line, r2_line):\n",
    "        print(r1.eq(r2).item(), end=\" \")\n",
    "    print()"
   ]
  }
 ],
 "metadata": {
  "kernelspec": {
   "display_name": "pytorch",
   "language": "python",
   "name": "python3"
  },
  "language_info": {
   "codemirror_mode": {
    "name": "ipython",
    "version": 3
   },
   "file_extension": ".py",
   "mimetype": "text/x-python",
   "name": "python",
   "nbconvert_exporter": "python",
   "pygments_lexer": "ipython3",
   "version": "3.9.15"
  },
  "orig_nbformat": 4,
  "vscode": {
   "interpreter": {
    "hash": "6e3a9582807446cfda6e60e7a572d3bab8c423d141a376f0e3f6f7956ef3b5a5"
   }
  }
 },
 "nbformat": 4,
 "nbformat_minor": 2
}
