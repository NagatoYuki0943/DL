{
 "cells": [
  {
   "cell_type": "code",
   "execution_count": 1,
   "metadata": {},
   "outputs": [],
   "source": [
    "import torch"
   ]
  },
  {
   "attachments": {},
   "cell_type": "markdown",
   "metadata": {},
   "source": [
    "# addcmul(input, tensor1, tensor2, *, value=1, out=None) → Tensor\n",
    "\n",
    "The shapes of tensor, tensor1, and tensor2 must be broadcastable.\n",
    "\n",
    "For inputs of type FloatTensor or DoubleTensor, value must be a real number, otherwise an integer.\n",
    "\n",
    "$$\n",
    "out_i = input_i + value \\times tensor1_i \\times tensor2_i\n",
    "$$"
   ]
  },
  {
   "cell_type": "code",
   "execution_count": 65,
   "metadata": {},
   "outputs": [],
   "source": [
    "input = torch.tensor(3)\n",
    "tensor1 = torch.tensor(2)\n",
    "tensor2 = torch.tensor(4)\n",
    "value = 1"
   ]
  },
  {
   "cell_type": "code",
   "execution_count": 66,
   "metadata": {},
   "outputs": [
    {
     "data": {
      "text/plain": [
       "tensor(11)"
      ]
     },
     "execution_count": 66,
     "metadata": {},
     "output_type": "execute_result"
    }
   ],
   "source": [
    "torch.addcmul(input, tensor1, tensor2, value=value)"
   ]
  },
  {
   "cell_type": "code",
   "execution_count": 67,
   "metadata": {},
   "outputs": [
    {
     "data": {
      "text/plain": [
       "tensor(11)"
      ]
     },
     "execution_count": 67,
     "metadata": {},
     "output_type": "execute_result"
    }
   ],
   "source": [
    "input + tensor1 * tensor2 * value"
   ]
  },
  {
   "cell_type": "code",
   "execution_count": 68,
   "metadata": {},
   "outputs": [],
   "source": [
    "input = torch.randn(1, 3)\n",
    "tensor1 = torch.randn(3, 1)\n",
    "tensor2 = torch.randn(1, 3)\n",
    "value = 0.1"
   ]
  },
  {
   "cell_type": "code",
   "execution_count": 69,
   "metadata": {},
   "outputs": [
    {
     "data": {
      "text/plain": [
       "tensor([[-0.5691,  0.6914,  0.0034],\n",
       "        [-0.5687,  0.6914,  0.0025],\n",
       "        [-0.5466,  0.6917, -0.0457]])"
      ]
     },
     "execution_count": 69,
     "metadata": {},
     "output_type": "execute_result"
    }
   ],
   "source": [
    "res1 = torch.addcmul(input, tensor1, tensor2, value=value)\n",
    "res1"
   ]
  },
  {
   "cell_type": "code",
   "execution_count": 70,
   "metadata": {},
   "outputs": [
    {
     "data": {
      "text/plain": [
       "tensor([[-0.5691,  0.6914,  0.0034],\n",
       "        [-0.5687,  0.6914,  0.0025],\n",
       "        [-0.5466,  0.6917, -0.0457]])"
      ]
     },
     "execution_count": 70,
     "metadata": {},
     "output_type": "execute_result"
    }
   ],
   "source": [
    "res2 = input + tensor1 * tensor2 * value\n",
    "res2"
   ]
  },
  {
   "cell_type": "code",
   "execution_count": 72,
   "metadata": {},
   "outputs": [
    {
     "data": {
      "text/plain": [
       "True"
      ]
     },
     "execution_count": 72,
     "metadata": {},
     "output_type": "execute_result"
    }
   ],
   "source": [
    "torch.allclose(res1, res2)"
   ]
  },
  {
   "attachments": {},
   "cell_type": "markdown",
   "metadata": {},
   "source": [
    "# addmm(input, mat1, mat2, *, beta=1, alpha=1, out=None) → Tensor\n",
    "\n",
    "Performs a matrix multiplication of the matrices mat1 and mat2. The matrix input is added to the final result.\n",
    "\n",
    "If mat1 is a (n×m) tensor, mat2 is a (m×p) tensor, then input must be broadcastable with a (n×p) tensor and out will be a (n×p) tensor.\n",
    "\n",
    "alpha and beta are scaling factors on matrix-vector product between mat1 and mat2 and the added matrix input respectively.\n",
    "\n",
    "- input: [nxp]\n",
    "- mat1: [nxm]\n",
    "- mat2: [mxp]\n",
    "- beta: float\n",
    "- alpha: float\n",
    "- out: [nxp]\n",
    "\n",
    "$$\n",
    "out = beta \\times input + alpha \\times (mat1 @ mat2)\n",
    "$$"
   ]
  },
  {
   "cell_type": "code",
   "execution_count": 73,
   "metadata": {},
   "outputs": [],
   "source": [
    "input = torch.randn(2, 2)\n",
    "mat1 = torch.randn(2, 3)\n",
    "mat2 = torch.randn(3, 2)\n",
    "beta = 2.0\n",
    "alpha = 3.0"
   ]
  },
  {
   "cell_type": "code",
   "execution_count": 74,
   "metadata": {},
   "outputs": [
    {
     "data": {
      "text/plain": [
       "tensor([[  8.3969,   8.5018],\n",
       "        [  3.2703, -10.6507]])"
      ]
     },
     "execution_count": 74,
     "metadata": {},
     "output_type": "execute_result"
    }
   ],
   "source": [
    "res1 = torch.addmm(input, mat1, mat2, beta=beta, alpha=alpha)\n",
    "res1"
   ]
  },
  {
   "cell_type": "code",
   "execution_count": 75,
   "metadata": {},
   "outputs": [
    {
     "data": {
      "text/plain": [
       "tensor([[  8.3969,   8.5018],\n",
       "        [  3.2703, -10.6507]])"
      ]
     },
     "execution_count": 75,
     "metadata": {},
     "output_type": "execute_result"
    }
   ],
   "source": [
    "# 自己手写支持多维度输入\n",
    "res2 = beta * input + alpha * (mat1 @ mat2)\n",
    "res2"
   ]
  },
  {
   "cell_type": "code",
   "execution_count": 76,
   "metadata": {},
   "outputs": [
    {
     "data": {
      "text/plain": [
       "tensor(True)"
      ]
     },
     "execution_count": 76,
     "metadata": {},
     "output_type": "execute_result"
    }
   ],
   "source": [
    "torch.all(res1 == res2)"
   ]
  },
  {
   "attachments": {},
   "cell_type": "markdown",
   "metadata": {},
   "source": [
    "# addbmm(input, batch1, batch2, *, beta=1, alpha=1, out=None) → Tensor\n",
    "\n",
    "Performs a batch matrix-matrix product of matrices stored in batch1 and batch2, with a reduced add step (all matrix multiplications get accumulated along the first dimension). input is added to the final result.\n",
    "\n",
    "batch1 and batch2 must be 3-D tensors each containing the same number of matrices.\n",
    "\n",
    "If batch1 is a (b×n×m) tensor, batch2 is a (b×m×p) tensor, input must be broadcastable with a (n×p) tensor and out will be a (n×p) tensor.\n",
    "\n",
    "- input: [n×p]\n",
    "- batch1: [b×n×m]\n",
    "- batch2: [b×m×p]\n",
    "- beta: float\n",
    "- alpha: float\n",
    "- out: [n×p]\n",
    "\n",
    "$$\n",
    "out = beta \\times input + alpha \\times (\\sum_{i=0}^{b-1}(batch1_i @ batch2_i))\n",
    "$$"
   ]
  },
  {
   "cell_type": "code",
   "execution_count": 81,
   "metadata": {},
   "outputs": [],
   "source": [
    "input = torch.randn(3, 3)\n",
    "batch1 = torch.randn(2, 3, 4)\n",
    "batch2 = torch.randn(2, 4, 3)\n",
    "beta = 2.0\n",
    "alpha = 3.0"
   ]
  },
  {
   "cell_type": "code",
   "execution_count": 83,
   "metadata": {},
   "outputs": [
    {
     "data": {
      "text/plain": [
       "tensor([[  1.6790,   7.2108,  19.9065],\n",
       "        [ -0.0518,  -5.6930, -14.3090],\n",
       "        [ -3.0053,   9.9459,   4.5554]])"
      ]
     },
     "execution_count": 83,
     "metadata": {},
     "output_type": "execute_result"
    }
   ],
   "source": [
    "res1 = torch.addbmm(input, batch1, batch2, beta=beta, alpha=alpha)\n",
    "res1"
   ]
  },
  {
   "cell_type": "code",
   "execution_count": 84,
   "metadata": {},
   "outputs": [
    {
     "data": {
      "text/plain": [
       "tensor([[  1.6790,   7.2108,  19.9065],\n",
       "        [ -0.0518,  -5.6930, -14.3090],\n",
       "        [ -3.0053,   9.9459,   4.5554]])"
      ]
     },
     "execution_count": 84,
     "metadata": {},
     "output_type": "execute_result"
    }
   ],
   "source": [
    "res2 = beta * input + alpha * torch.sum(batch1 @ batch2, dim=0)\n",
    "res2"
   ]
  },
  {
   "cell_type": "code",
   "execution_count": 85,
   "metadata": {},
   "outputs": [
    {
     "data": {
      "text/plain": [
       "True"
      ]
     },
     "execution_count": 85,
     "metadata": {},
     "output_type": "execute_result"
    }
   ],
   "source": [
    "torch.allclose(res1, res2)"
   ]
  },
  {
   "cell_type": "markdown",
   "metadata": {},
   "source": [
    "# baddbmm(input, batch1, batch2, *, beta=1, alpha=1, out=None) → Tensor\n",
    "\n",
    "Performs a batch matrix-matrix product of matrices in batch1 and batch2. input is added to the final result.\n",
    "\n",
    "batch1 and batch2 must be 3-D tensors each containing the same number of matrices.\n",
    "\n",
    "If batch1 is a (b×n×m) tensor, batch2 is a (b×m×p) tensor, then input must be broadcastable with a (b×n×p) tensor and out will be a (b×n×p) tensor. Both alpha and beta mean the same as the scaling factors used in torch.addbmm().\n",
    "\n",
    "- input: [b×n×p]\n",
    "- batch1: [b×n×m]\n",
    "- batch2: [b×m×p]\n",
    "- beta: float\n",
    "- alpha: float\n",
    "- out: [b×n×p]\n",
    "\n",
    "$$\n",
    "out_i = beta \\times input_i + alpha \\times (batch1_i @ batch2_i)\n",
    "$$"
   ]
  },
  {
   "cell_type": "code",
   "execution_count": 86,
   "metadata": {},
   "outputs": [],
   "source": [
    "input = torch.randn(2, 3, 3)\n",
    "batch1 = torch.randn(2, 3, 4)\n",
    "batch2 = torch.randn(2, 4, 3)\n",
    "beta = 2.0\n",
    "alpha = 3.0"
   ]
  },
  {
   "cell_type": "code",
   "execution_count": 87,
   "metadata": {},
   "outputs": [
    {
     "name": "stdout",
     "output_type": "stream",
     "text": [
      "torch.Size([2, 3, 3])\n"
     ]
    },
    {
     "data": {
      "text/plain": [
       "tensor([[[-0.2387, -2.5367, -2.8231],\n",
       "         [ 3.3495, -0.2242,  0.5831],\n",
       "         [-6.3266, -7.5401, -6.9091]],\n",
       "\n",
       "        [[-2.0132, -6.4656,  7.6230],\n",
       "         [11.8475,  2.2841, -1.0839],\n",
       "         [-1.4977,  0.4509,  4.3374]]])"
      ]
     },
     "execution_count": 87,
     "metadata": {},
     "output_type": "execute_result"
    }
   ],
   "source": [
    "res1 = torch.baddbmm(input, batch1, batch2, beta=beta, alpha=alpha)\n",
    "print(res1.shape)\n",
    "res1"
   ]
  },
  {
   "cell_type": "code",
   "execution_count": 88,
   "metadata": {},
   "outputs": [
    {
     "data": {
      "text/plain": [
       "tensor([[[-0.2387, -2.5367, -2.8231],\n",
       "         [ 3.3495, -0.2242,  0.5831],\n",
       "         [-6.3266, -7.5401, -6.9091]],\n",
       "\n",
       "        [[-2.0132, -6.4656,  7.6230],\n",
       "         [11.8475,  2.2841, -1.0839],\n",
       "         [-1.4977,  0.4509,  4.3374]]])"
      ]
     },
     "execution_count": 88,
     "metadata": {},
     "output_type": "execute_result"
    }
   ],
   "source": [
    "res2 = beta * input + alpha * batch1 @ batch2\n",
    "res2"
   ]
  },
  {
   "cell_type": "code",
   "execution_count": 63,
   "metadata": {},
   "outputs": [
    {
     "data": {
      "text/plain": [
       "True"
      ]
     },
     "execution_count": 63,
     "metadata": {},
     "output_type": "execute_result"
    }
   ],
   "source": [
    "torch.allclose(res1, res2)"
   ]
  },
  {
   "cell_type": "markdown",
   "metadata": {},
   "source": [
    "# addmv(input, mat, vec, *, beta=1, alpha=1, out=None) → Tensor\n",
    "\n",
    "Performs a matrix-vector product of the matrix mat and the vector vec. The vector input is added to the final result.\n",
    "\n",
    "If mat is a (n×m) tensor, vec is a 1-D tensor of size m, then input must be broadcastable with a 1-D tensor of size n and out will be 1-D tensor of size n.\n",
    "\n",
    "alpha and beta are scaling factors on matrix-vector product between mat and vec and the added tensor input respectively.\n",
    "\n",
    "- input: [n]\n",
    "- mat: [n×m]\n",
    "- vec: [m]\n",
    "- beta: float\n",
    "- alpha: float\n",
    "- out: [n]\n",
    "\n",
    "$$\n",
    "out = beta \\times input + alpha \\times (mat @ vec)\n",
    "$$"
   ]
  },
  {
   "cell_type": "code",
   "execution_count": 112,
   "metadata": {},
   "outputs": [],
   "source": [
    "input = torch.randn(2)\n",
    "mat = torch.randn(2, 3)\n",
    "vec = torch.randn(3)"
   ]
  },
  {
   "cell_type": "code",
   "execution_count": 113,
   "metadata": {},
   "outputs": [
    {
     "data": {
      "text/plain": [
       "tensor([-7.5539, -1.0529])"
      ]
     },
     "execution_count": 113,
     "metadata": {},
     "output_type": "execute_result"
    }
   ],
   "source": [
    "res1 = torch.addmv(input, mat, vec, beta=beta, alpha=alpha)\n",
    "res1"
   ]
  },
  {
   "cell_type": "code",
   "execution_count": 114,
   "metadata": {},
   "outputs": [
    {
     "data": {
      "text/plain": [
       "tensor([-7.5540, -1.0529])"
      ]
     },
     "execution_count": 114,
     "metadata": {},
     "output_type": "execute_result"
    }
   ],
   "source": [
    "res2 = beta * input + alpha * mat @ vec\n",
    "res2"
   ]
  },
  {
   "cell_type": "code",
   "execution_count": 116,
   "metadata": {},
   "outputs": [
    {
     "data": {
      "text/plain": [
       "True"
      ]
     },
     "execution_count": 116,
     "metadata": {},
     "output_type": "execute_result"
    }
   ],
   "source": [
    "torch.allclose(res1, res2)"
   ]
  },
  {
   "cell_type": "code",
   "execution_count": null,
   "metadata": {},
   "outputs": [],
   "source": []
  }
 ],
 "metadata": {
  "kernelspec": {
   "display_name": "pytorch",
   "language": "python",
   "name": "python3"
  },
  "language_info": {
   "codemirror_mode": {
    "name": "ipython",
    "version": 3
   },
   "file_extension": ".py",
   "mimetype": "text/x-python",
   "name": "python",
   "nbconvert_exporter": "python",
   "pygments_lexer": "ipython3",
   "version": "3.11.4"
  },
  "orig_nbformat": 4,
  "vscode": {
   "interpreter": {
    "hash": "6e3a9582807446cfda6e60e7a572d3bab8c423d141a376f0e3f6f7956ef3b5a5"
   }
  }
 },
 "nbformat": 4,
 "nbformat_minor": 2
}
