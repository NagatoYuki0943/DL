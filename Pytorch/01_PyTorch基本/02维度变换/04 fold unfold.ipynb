{
 "cells": [
  {
   "cell_type": "code",
   "execution_count": 57,
   "metadata": {},
   "outputs": [],
   "source": [
    "import torch\n",
    "from torch import nn"
   ]
  },
  {
   "cell_type": "code",
   "execution_count": 58,
   "metadata": {},
   "outputs": [],
   "source": [
    "B, C, H, W = 1, 2, 6, 6\n",
    "fold_size = 2"
   ]
  },
  {
   "cell_type": "code",
   "execution_count": 59,
   "metadata": {},
   "outputs": [
    {
     "name": "stdout",
     "output_type": "stream",
     "text": [
      "torch.Size([1, 2, 6, 6])\n"
     ]
    },
    {
     "data": {
      "text/plain": [
       "tensor([[[[ 0.,  1.,  2.,  3.,  4.,  5.],\n",
       "          [ 6.,  7.,  8.,  9., 10., 11.],\n",
       "          [12., 13., 14., 15., 16., 17.],\n",
       "          [18., 19., 20., 21., 22., 23.],\n",
       "          [24., 25., 26., 27., 28., 29.],\n",
       "          [30., 31., 32., 33., 34., 35.]],\n",
       "\n",
       "         [[36., 37., 38., 39., 40., 41.],\n",
       "          [42., 43., 44., 45., 46., 47.],\n",
       "          [48., 49., 50., 51., 52., 53.],\n",
       "          [54., 55., 56., 57., 58., 59.],\n",
       "          [60., 61., 62., 63., 64., 65.],\n",
       "          [66., 67., 68., 69., 70., 71.]]]])"
      ]
     },
     "execution_count": 59,
     "metadata": {},
     "output_type": "execute_result"
    }
   ],
   "source": [
    "a = torch.arange(B*C*H*W*1.).reshape(B, C, H, W)\n",
    "print(a.size())\n",
    "a"
   ]
  },
  {
   "attachments": {},
   "cell_type": "markdown",
   "metadata": {},
   "source": [
    "# nn.Unfold()"
   ]
  },
  {
   "cell_type": "code",
   "execution_count": 60,
   "metadata": {},
   "outputs": [],
   "source": [
    "fold = nn.Unfold(kernel_size=fold_size, dilation=1, padding=0, stride=fold_size)"
   ]
  },
  {
   "cell_type": "code",
   "execution_count": 61,
   "metadata": {},
   "outputs": [
    {
     "name": "stdout",
     "output_type": "stream",
     "text": [
      "torch.Size([1, 8, 9])\n"
     ]
    },
    {
     "data": {
      "text/plain": [
       "tensor([[[ 0.,  2.,  4., 12., 14., 16., 24., 26., 28.],\n",
       "         [ 1.,  3.,  5., 13., 15., 17., 25., 27., 29.],\n",
       "         [ 6.,  8., 10., 18., 20., 22., 30., 32., 34.],\n",
       "         [ 7.,  9., 11., 19., 21., 23., 31., 33., 35.],\n",
       "         [36., 38., 40., 48., 50., 52., 60., 62., 64.],\n",
       "         [37., 39., 41., 49., 51., 53., 61., 63., 65.],\n",
       "         [42., 44., 46., 54., 56., 58., 66., 68., 70.],\n",
       "         [43., 45., 47., 55., 57., 59., 67., 69., 71.]]])"
      ]
     },
     "execution_count": 61,
     "metadata": {},
     "output_type": "execute_result"
    }
   ],
   "source": [
    "b = fold(a)\n",
    "print(b.size()) # [B, C, H, W] -> [B, C*h*w, nh*nw]\n",
    "b"
   ]
  },
  {
   "cell_type": "code",
   "execution_count": 62,
   "metadata": {},
   "outputs": [
    {
     "data": {
      "text/plain": [
       "tensor([[[[ 0.,  2.,  4.],\n",
       "          [12., 14., 16.],\n",
       "          [24., 26., 28.]],\n",
       "\n",
       "         [[ 1.,  3.,  5.],\n",
       "          [13., 15., 17.],\n",
       "          [25., 27., 29.]],\n",
       "\n",
       "         [[ 6.,  8., 10.],\n",
       "          [18., 20., 22.],\n",
       "          [30., 32., 34.]],\n",
       "\n",
       "         [[ 7.,  9., 11.],\n",
       "          [19., 21., 23.],\n",
       "          [31., 33., 35.]],\n",
       "\n",
       "         [[36., 38., 40.],\n",
       "          [48., 50., 52.],\n",
       "          [60., 62., 64.]],\n",
       "\n",
       "         [[37., 39., 41.],\n",
       "          [49., 51., 53.],\n",
       "          [61., 63., 65.]],\n",
       "\n",
       "         [[42., 44., 46.],\n",
       "          [54., 56., 58.],\n",
       "          [66., 68., 70.]],\n",
       "\n",
       "         [[43., 45., 47.],\n",
       "          [55., 57., 59.],\n",
       "          [67., 69., 71.]]]])"
      ]
     },
     "execution_count": 62,
     "metadata": {},
     "output_type": "execute_result"
    }
   ],
   "source": [
    "b.reshape(B, int(C*fold_size*fold_size), nh, nw)"
   ]
  },
  {
   "cell_type": "markdown",
   "metadata": {},
   "source": [
    "## 手写unfold"
   ]
  },
  {
   "cell_type": "code",
   "execution_count": 63,
   "metadata": {},
   "outputs": [
    {
     "data": {
      "text/plain": [
       "(3, 3)"
      ]
     },
     "execution_count": 63,
     "metadata": {},
     "output_type": "execute_result"
    }
   ],
   "source": [
    "nh = H // fold_size\n",
    "nw = W // fold_size\n",
    "nh, nw"
   ]
  },
  {
   "cell_type": "code",
   "execution_count": 64,
   "metadata": {},
   "outputs": [
    {
     "name": "stdout",
     "output_type": "stream",
     "text": [
      "torch.Size([1, 8, 9])\n"
     ]
    },
    {
     "data": {
      "text/plain": [
       "tensor([[[ 0.,  2.,  4., 12., 14., 16., 24., 26., 28.],\n",
       "         [ 1.,  3.,  5., 13., 15., 17., 25., 27., 29.],\n",
       "         [ 6.,  8., 10., 18., 20., 22., 30., 32., 34.],\n",
       "         [ 7.,  9., 11., 19., 21., 23., 31., 33., 35.],\n",
       "         [36., 38., 40., 48., 50., 52., 60., 62., 64.],\n",
       "         [37., 39., 41., 49., 51., 53., 61., 63., 65.],\n",
       "         [42., 44., 46., 54., 56., 58., 66., 68., 70.],\n",
       "         [43., 45., 47., 55., 57., 59., 67., 69., 71.]]])"
      ]
     },
     "execution_count": 64,
     "metadata": {},
     "output_type": "execute_result"
    }
   ],
   "source": [
    "b_ = a.reshape(B, C, nh, fold_size, nh, fold_size)  # [B, C, H, W] -> [B, C, nh, h, nw, w]    H = nh * h  W = nw * w 前面代表划分数量,后面代表每份长度,不能反过来\n",
    "b_ = b_.permute(0, 1, 3, 5, 2, 4)                   # [B, C, nh, h, nw, w] -> [B, C, h, w, nh, nw]\n",
    "b_ = b_.reshape(B, int(C*fold_size*fold_size), -1)  # [B, C, h, w, nh, nw] -> [B, C*h*w, nh*nw]\n",
    "print(b_.size())\n",
    "b_"
   ]
  },
  {
   "cell_type": "code",
   "execution_count": 65,
   "metadata": {},
   "outputs": [
    {
     "data": {
      "text/plain": [
       "tensor(True)"
      ]
     },
     "execution_count": 65,
     "metadata": {},
     "output_type": "execute_result"
    }
   ],
   "source": [
    "torch.all(b == b_)"
   ]
  },
  {
   "cell_type": "markdown",
   "metadata": {},
   "source": [
    "# nn.Fold()"
   ]
  },
  {
   "cell_type": "code",
   "execution_count": 66,
   "metadata": {},
   "outputs": [],
   "source": [
    "# output_size: new_h = new_w\n",
    "# kernel_size,stride same as UnFold\n",
    "fold = nn.Fold(output_size=H, kernel_size=fold_size, dilation=1, padding=0, stride=fold_size)"
   ]
  },
  {
   "cell_type": "code",
   "execution_count": 67,
   "metadata": {},
   "outputs": [
    {
     "name": "stdout",
     "output_type": "stream",
     "text": [
      "torch.Size([1, 2, 6, 6])\n"
     ]
    },
    {
     "data": {
      "text/plain": [
       "tensor([[[[ 0.,  1.,  2.,  3.,  4.,  5.],\n",
       "          [ 6.,  7.,  8.,  9., 10., 11.],\n",
       "          [12., 13., 14., 15., 16., 17.],\n",
       "          [18., 19., 20., 21., 22., 23.],\n",
       "          [24., 25., 26., 27., 28., 29.],\n",
       "          [30., 31., 32., 33., 34., 35.]],\n",
       "\n",
       "         [[36., 37., 38., 39., 40., 41.],\n",
       "          [42., 43., 44., 45., 46., 47.],\n",
       "          [48., 49., 50., 51., 52., 53.],\n",
       "          [54., 55., 56., 57., 58., 59.],\n",
       "          [60., 61., 62., 63., 64., 65.],\n",
       "          [66., 67., 68., 69., 70., 71.]]]])"
      ]
     },
     "execution_count": 67,
     "metadata": {},
     "output_type": "execute_result"
    }
   ],
   "source": [
    "c = fold(b)\n",
    "print(c.size())\n",
    "c"
   ]
  },
  {
   "cell_type": "code",
   "execution_count": 68,
   "metadata": {},
   "outputs": [
    {
     "data": {
      "text/plain": [
       "tensor(True)"
      ]
     },
     "execution_count": 68,
     "metadata": {},
     "output_type": "execute_result"
    }
   ],
   "source": [
    "torch.all(a == c)"
   ]
  },
  {
   "cell_type": "markdown",
   "metadata": {},
   "source": [
    "## 手写fold"
   ]
  },
  {
   "cell_type": "code",
   "execution_count": 69,
   "metadata": {},
   "outputs": [
    {
     "name": "stdout",
     "output_type": "stream",
     "text": [
      "torch.Size([1, 2, 6, 6])\n"
     ]
    },
    {
     "data": {
      "text/plain": [
       "tensor([[[[ 0.,  1.,  2.,  3.,  4.,  5.],\n",
       "          [ 6.,  7.,  8.,  9., 10., 11.],\n",
       "          [12., 13., 14., 15., 16., 17.],\n",
       "          [18., 19., 20., 21., 22., 23.],\n",
       "          [24., 25., 26., 27., 28., 29.],\n",
       "          [30., 31., 32., 33., 34., 35.]],\n",
       "\n",
       "         [[36., 37., 38., 39., 40., 41.],\n",
       "          [42., 43., 44., 45., 46., 47.],\n",
       "          [48., 49., 50., 51., 52., 53.],\n",
       "          [54., 55., 56., 57., 58., 59.],\n",
       "          [60., 61., 62., 63., 64., 65.],\n",
       "          [66., 67., 68., 69., 70., 71.]]]])"
      ]
     },
     "execution_count": 69,
     "metadata": {},
     "output_type": "execute_result"
    }
   ],
   "source": [
    "c_ = b.reshape(B, C, fold_size, fold_size, nh, nw)  # [B, C*h*w, nh*nw] -> [B, C, h, w, nh, nw]\n",
    "c_ = c_.permute(0, 1, 4, 2, 5, 3)                   # [B, C, h, w, nh, nw] -> [B, C, nh, h, nw, w]\n",
    "c_ = c_.reshape(1, C, H, W)                         # [B, C, nh, h, nw, w] -> [B, C, H, W]\n",
    "print(c_.size())\n",
    "c_"
   ]
  },
  {
   "cell_type": "code",
   "execution_count": 70,
   "metadata": {},
   "outputs": [
    {
     "data": {
      "text/plain": [
       "tensor(True)"
      ]
     },
     "execution_count": 70,
     "metadata": {},
     "output_type": "execute_result"
    }
   ],
   "source": [
    "torch.all(c == c_)"
   ]
  },
  {
   "cell_type": "code",
   "execution_count": null,
   "metadata": {},
   "outputs": [],
   "source": []
  }
 ],
 "metadata": {
  "kernelspec": {
   "display_name": "pytorch",
   "language": "python",
   "name": "python3"
  },
  "language_info": {
   "codemirror_mode": {
    "name": "ipython",
    "version": 3
   },
   "file_extension": ".py",
   "mimetype": "text/x-python",
   "name": "python",
   "nbconvert_exporter": "python",
   "pygments_lexer": "ipython3",
   "version": "3.11.4"
  },
  "orig_nbformat": 4,
  "vscode": {
   "interpreter": {
    "hash": "6e3a9582807446cfda6e60e7a572d3bab8c423d141a376f0e3f6f7956ef3b5a5"
   }
  }
 },
 "nbformat": 4,
 "nbformat_minor": 2
}
