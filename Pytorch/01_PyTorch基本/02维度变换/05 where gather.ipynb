{
 "cells": [
  {
   "cell_type": "code",
   "execution_count": 1,
   "id": "e897f96d",
   "metadata": {},
   "outputs": [],
   "source": [
    "import torch"
   ]
  },
  {
   "cell_type": "markdown",
   "id": "29ccaa94",
   "metadata": {},
   "source": [
    "# torch.where(cond, a, b) cond成立,选择a的相应位置的值,否则选择b的位置的值"
   ]
  },
  {
   "cell_type": "code",
   "execution_count": 2,
   "id": "18e6ae73",
   "metadata": {},
   "outputs": [
    {
     "data": {
      "text/plain": [
       "tensor([[0.0795, 0.9303],\n",
       "        [0.7779, 0.4546]])"
      ]
     },
     "execution_count": 2,
     "metadata": {},
     "output_type": "execute_result"
    }
   ],
   "source": [
    "cond = torch.rand([2, 2])\n",
    "cond"
   ]
  },
  {
   "cell_type": "code",
   "execution_count": 20,
   "id": "d70a1fd1",
   "metadata": {},
   "outputs": [
    {
     "data": {
      "text/plain": [
       "tensor([[0., 1.],\n",
       "        [1., 0.]])"
      ]
     },
     "execution_count": 20,
     "metadata": {},
     "output_type": "execute_result"
    }
   ],
   "source": [
    "#           cond大于0.5的位置选择1,否则选择0\n",
    "torch.where(cond > 0.5, 1.0, 0.0)"
   ]
  },
  {
   "cell_type": "code",
   "execution_count": 21,
   "id": "6b0ba48a",
   "metadata": {},
   "outputs": [
    {
     "data": {
      "text/plain": [
       "(tensor([[1, 2],\n",
       "         [3, 4]]),\n",
       " tensor([[5, 6],\n",
       "         [7, 8]]))"
      ]
     },
     "execution_count": 21,
     "metadata": {},
     "output_type": "execute_result"
    }
   ],
   "source": [
    "a = torch.arange(1, 5).reshape(2, 2)\n",
    "b = torch.arange(5, 9).reshape(2, 2)\n",
    "a, b"
   ]
  },
  {
   "cell_type": "code",
   "execution_count": 22,
   "id": "2bc33f3c",
   "metadata": {},
   "outputs": [
    {
     "data": {
      "text/plain": [
       "tensor([[1.0000, 0.9303],\n",
       "        [0.7779, 4.0000]])"
      ]
     },
     "execution_count": 22,
     "metadata": {},
     "output_type": "execute_result"
    }
   ],
   "source": [
    "#           cond大于0.5的位置选择cond,否则选择b\n",
    "torch.where(cond > 0.5, cond, a)"
   ]
  },
  {
   "cell_type": "markdown",
   "id": "03aec7f4",
   "metadata": {},
   "source": [
    "# torch.gather(a, index=[索引位置], dim=维度) 从dim维度从a中选择index的数据"
   ]
  },
  {
   "cell_type": "code",
   "execution_count": 50,
   "id": "85cf942c",
   "metadata": {},
   "outputs": [
    {
     "data": {
      "text/plain": [
       "tensor([[1, 2, 3],\n",
       "        [4, 5, 6]])"
      ]
     },
     "execution_count": 50,
     "metadata": {},
     "output_type": "execute_result"
    }
   ],
   "source": [
    "x = torch.arange(1, 7).reshape(2, 3)\n",
    "x"
   ]
  },
  {
   "cell_type": "code",
   "execution_count": 51,
   "id": "36c21214",
   "metadata": {},
   "outputs": [
    {
     "data": {
      "text/plain": [
       "tensor([[1]])"
      ]
     },
     "execution_count": 51,
     "metadata": {},
     "output_type": "execute_result"
    }
   ],
   "source": [
    "#               从dim=1找下标为0的是1\n",
    "torch.gather(x, dim=1, index=torch.tensor([[0]]))"
   ]
  },
  {
   "cell_type": "code",
   "execution_count": 52,
   "id": "066372f5",
   "metadata": {},
   "outputs": [
    {
     "data": {
      "text/plain": [
       "tensor([[1, 1]])"
      ]
     },
     "execution_count": 52,
     "metadata": {},
     "output_type": "execute_result"
    }
   ],
   "source": [
    "#               从dim=1找下标为0的是1,2个都是\n",
    "torch.gather(x, dim=1, index=torch.tensor([[0, 0]]))"
   ]
  },
  {
   "cell_type": "code",
   "execution_count": 53,
   "id": "f9ad5fe7",
   "metadata": {},
   "outputs": [
    {
     "data": {
      "text/plain": [
       "tensor([[1]])"
      ]
     },
     "execution_count": 53,
     "metadata": {},
     "output_type": "execute_result"
    }
   ],
   "source": [
    "#               从dim=1找下标为0的是1\n",
    "torch.gather(x, dim=1, index=torch.tensor([[0]]))"
   ]
  },
  {
   "cell_type": "code",
   "execution_count": 54,
   "id": "635eeebf",
   "metadata": {},
   "outputs": [
    {
     "data": {
      "text/plain": [
       "tensor([[1],\n",
       "        [4]])"
      ]
     },
     "execution_count": 54,
     "metadata": {},
     "output_type": "execute_result"
    }
   ],
   "source": [
    "#               第一维度的[0]从dim=1找下标为0的是1,第2维度的[0]是在dim=1中的index=1的值,为4\n",
    "torch.gather(x, dim=1, index=torch.tensor([[0], [0]]))"
   ]
  },
  {
   "cell_type": "code",
   "execution_count": 55,
   "id": "25155600",
   "metadata": {},
   "outputs": [
    {
     "data": {
      "text/plain": [
       "tensor([[1, 1],\n",
       "        [4, 5]])"
      ]
     },
     "execution_count": 55,
     "metadata": {},
     "output_type": "execute_result"
    }
   ],
   "source": [
    "#               第一维度的[0, 0]从dim=1找下标为0的是1,第2维度的[0, 1]是在dim=1中的index=1的值,为4\n",
    "torch.gather(x, dim=1, index=torch.tensor([[0, 0], [0, 1]]))"
   ]
  },
  {
   "cell_type": "code",
   "execution_count": null,
   "id": "e15fe67f",
   "metadata": {},
   "outputs": [],
   "source": []
  }
 ],
 "metadata": {
  "kernelspec": {
   "display_name": "pytorch",
   "language": "python",
   "name": "python3"
  },
  "language_info": {
   "codemirror_mode": {
    "name": "ipython",
    "version": 3
   },
   "file_extension": ".py",
   "mimetype": "text/x-python",
   "name": "python",
   "nbconvert_exporter": "python",
   "pygments_lexer": "ipython3",
   "version": "3.11.3"
  },
  "toc": {
   "base_numbering": 1,
   "nav_menu": {},
   "number_sections": true,
   "sideBar": true,
   "skip_h1_title": false,
   "title_cell": "Table of Contents",
   "title_sidebar": "Contents",
   "toc_cell": false,
   "toc_position": {},
   "toc_section_display": true,
   "toc_window_display": false
  },
  "vscode": {
   "interpreter": {
    "hash": "6e3a9582807446cfda6e60e7a572d3bab8c423d141a376f0e3f6f7956ef3b5a5"
   }
  }
 },
 "nbformat": 4,
 "nbformat_minor": 5
}
