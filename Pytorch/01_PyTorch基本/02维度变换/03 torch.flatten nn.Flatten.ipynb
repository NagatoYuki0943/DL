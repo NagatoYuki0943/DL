{
 "cells": [
  {
   "cell_type": "code",
   "execution_count": 1,
   "id": "13c431fd",
   "metadata": {},
   "outputs": [],
   "source": [
    "import torch\n",
    "from torch import nn"
   ]
  },
  {
   "cell_type": "markdown",
   "id": "0173adc8",
   "metadata": {},
   "source": [
    "# 二维数据"
   ]
  },
  {
   "cell_type": "code",
   "execution_count": 3,
   "id": "f2f720f2",
   "metadata": {},
   "outputs": [
    {
     "data": {
      "text/plain": [
       "tensor([[ 1,  2,  3,  4],\n",
       "        [ 5,  6,  7,  8],\n",
       "        [ 9, 10, 11, 12],\n",
       "        [13, 14, 15, 16],\n",
       "        [17, 18, 19, 20],\n",
       "        [21, 22, 23, 24]])"
      ]
     },
     "execution_count": 3,
     "metadata": {},
     "output_type": "execute_result"
    }
   ],
   "source": [
    "a = torch.arange(1, 25).view(6, 4)\n",
    "a"
   ]
  },
  {
   "cell_type": "code",
   "execution_count": 4,
   "id": "51546c2a",
   "metadata": {
    "scrolled": true
   },
   "outputs": [
    {
     "data": {
      "text/plain": [
       "torch.Size([6, 4])"
      ]
     },
     "execution_count": 4,
     "metadata": {},
     "output_type": "execute_result"
    }
   ],
   "source": [
    "a.shape"
   ]
  },
  {
   "attachments": {},
   "cell_type": "markdown",
   "id": "46f4c4d4",
   "metadata": {},
   "source": [
    "## tensor.flatten(0) 全拼接到0维,默认为0\n",
    "> tensor.flatten(0)是按照tensor的第0个维度拼接（按照行来拼接，纵向拼接）"
   ]
  },
  {
   "cell_type": "code",
   "execution_count": 10,
   "id": "67cef2a3",
   "metadata": {},
   "outputs": [
    {
     "data": {
      "text/plain": [
       "tensor([ 1,  2,  3,  4,  5,  6,  7,  8,  9, 10, 11, 12, 13, 14, 15, 16, 17, 18,\n",
       "        19, 20, 21, 22, 23, 24])"
      ]
     },
     "execution_count": 10,
     "metadata": {},
     "output_type": "execute_result"
    }
   ],
   "source": [
    "a.flatten()"
   ]
  },
  {
   "cell_type": "code",
   "execution_count": 11,
   "id": "2a9f763b",
   "metadata": {},
   "outputs": [
    {
     "data": {
      "text/plain": [
       "tensor([ 1,  2,  3,  4,  5,  6,  7,  8,  9, 10, 11, 12, 13, 14, 15, 16, 17, 18,\n",
       "        19, 20, 21, 22, 23, 24])"
      ]
     },
     "execution_count": 11,
     "metadata": {},
     "output_type": "execute_result"
    }
   ],
   "source": [
    "a.flatten(0)"
   ]
  },
  {
   "cell_type": "code",
   "execution_count": 12,
   "id": "7a050198",
   "metadata": {},
   "outputs": [
    {
     "data": {
      "text/plain": [
       "tensor([True, True, True, True, True, True, True, True, True, True, True, True,\n",
       "        True, True, True, True, True, True, True, True, True, True, True, True])"
      ]
     },
     "execution_count": 12,
     "metadata": {},
     "output_type": "execute_result"
    }
   ],
   "source": [
    "a.flatten() == a.flatten(0)"
   ]
  },
  {
   "cell_type": "code",
   "execution_count": 13,
   "id": "7e73c0c5",
   "metadata": {},
   "outputs": [
    {
     "data": {
      "text/plain": [
       "tensor([ 1,  2,  3,  4,  5,  6,  7,  8,  9, 10, 11, 12, 13, 14, 15, 16, 17, 18,\n",
       "        19, 20, 21, 22, 23, 24])"
      ]
     },
     "execution_count": 13,
     "metadata": {},
     "output_type": "execute_result"
    }
   ],
   "source": [
    "torch.flatten(a)"
   ]
  },
  {
   "cell_type": "code",
   "execution_count": 14,
   "id": "d1aeb660",
   "metadata": {},
   "outputs": [
    {
     "data": {
      "text/plain": [
       "tensor([ 1,  2,  3,  4,  5,  6,  7,  8,  9, 10, 11, 12, 13, 14, 15, 16, 17, 18,\n",
       "        19, 20, 21, 22, 23, 24])"
      ]
     },
     "execution_count": 14,
     "metadata": {},
     "output_type": "execute_result"
    }
   ],
   "source": [
    "torch.flatten(a, 0)"
   ]
  },
  {
   "attachments": {},
   "cell_type": "markdown",
   "id": "b31bcb93",
   "metadata": {},
   "source": [
    "## nn.Flatten(0)"
   ]
  },
  {
   "cell_type": "code",
   "execution_count": 24,
   "id": "1a467cf9",
   "metadata": {},
   "outputs": [],
   "source": [
    "flatten = nn.Flatten(0)"
   ]
  },
  {
   "cell_type": "code",
   "execution_count": 25,
   "id": "65b8944e",
   "metadata": {},
   "outputs": [
    {
     "data": {
      "text/plain": [
       "tensor([ 1,  2,  3,  4,  5,  6,  7,  8,  9, 10, 11, 12, 13, 14, 15, 16, 17, 18,\n",
       "        19, 20, 21, 22, 23, 24])"
      ]
     },
     "execution_count": 25,
     "metadata": {},
     "output_type": "execute_result"
    }
   ],
   "source": [
    "flatten(a)"
   ]
  },
  {
   "attachments": {},
   "cell_type": "markdown",
   "id": "ee79548b",
   "metadata": {},
   "source": [
    "## tensor.flatten(1) 拼接到0,1维\n",
    "> tensor.flatten(1)是按照tensor的第1个维度拼接（按照列来拼接，横向拼接）"
   ]
  },
  {
   "cell_type": "code",
   "execution_count": 26,
   "id": "5538a46a",
   "metadata": {},
   "outputs": [
    {
     "data": {
      "text/plain": [
       "tensor([[ 1,  2,  3,  4],\n",
       "        [ 5,  6,  7,  8],\n",
       "        [ 9, 10, 11, 12],\n",
       "        [13, 14, 15, 16],\n",
       "        [17, 18, 19, 20],\n",
       "        [21, 22, 23, 24]])"
      ]
     },
     "execution_count": 26,
     "metadata": {},
     "output_type": "execute_result"
    }
   ],
   "source": [
    "a.flatten(1)"
   ]
  },
  {
   "cell_type": "code",
   "execution_count": 27,
   "id": "556c53f0",
   "metadata": {
    "scrolled": false
   },
   "outputs": [
    {
     "data": {
      "text/plain": [
       "tensor([[ 1,  2,  3,  4],\n",
       "        [ 5,  6,  7,  8],\n",
       "        [ 9, 10, 11, 12],\n",
       "        [13, 14, 15, 16],\n",
       "        [17, 18, 19, 20],\n",
       "        [21, 22, 23, 24]])"
      ]
     },
     "execution_count": 27,
     "metadata": {},
     "output_type": "execute_result"
    }
   ],
   "source": [
    "torch.flatten(a, 1)"
   ]
  },
  {
   "attachments": {},
   "cell_type": "markdown",
   "id": "26cbd16b",
   "metadata": {},
   "source": [
    "## nn.Flatten(1) 默认为1"
   ]
  },
  {
   "cell_type": "code",
   "execution_count": 36,
   "id": "85674ae4",
   "metadata": {},
   "outputs": [],
   "source": [
    "flatten = nn.Flatten()"
   ]
  },
  {
   "cell_type": "code",
   "execution_count": 37,
   "id": "2f20b2eb",
   "metadata": {},
   "outputs": [
    {
     "data": {
      "text/plain": [
       "tensor([[ 1,  2,  3,  4],\n",
       "        [ 5,  6,  7,  8],\n",
       "        [ 9, 10, 11, 12],\n",
       "        [13, 14, 15, 16],\n",
       "        [17, 18, 19, 20],\n",
       "        [21, 22, 23, 24]])"
      ]
     },
     "execution_count": 37,
     "metadata": {},
     "output_type": "execute_result"
    }
   ],
   "source": [
    "flatten(a)"
   ]
  },
  {
   "cell_type": "code",
   "execution_count": 38,
   "id": "b3ceb070",
   "metadata": {},
   "outputs": [],
   "source": [
    "flatten = nn.Flatten(1)"
   ]
  },
  {
   "cell_type": "code",
   "execution_count": 39,
   "id": "b6958234",
   "metadata": {},
   "outputs": [
    {
     "data": {
      "text/plain": [
       "tensor([[ 1,  2,  3,  4],\n",
       "        [ 5,  6,  7,  8],\n",
       "        [ 9, 10, 11, 12],\n",
       "        [13, 14, 15, 16],\n",
       "        [17, 18, 19, 20],\n",
       "        [21, 22, 23, 24]])"
      ]
     },
     "execution_count": 39,
     "metadata": {},
     "output_type": "execute_result"
    }
   ],
   "source": [
    "flatten(a)"
   ]
  },
  {
   "cell_type": "markdown",
   "id": "2e2a2a30",
   "metadata": {},
   "source": [
    "# 三维数据"
   ]
  },
  {
   "cell_type": "code",
   "execution_count": 40,
   "id": "2b2371bc",
   "metadata": {},
   "outputs": [
    {
     "data": {
      "text/plain": [
       "tensor([[[ 1,  2,  3,  4],\n",
       "         [ 5,  6,  7,  8],\n",
       "         [ 9, 10, 11, 12]],\n",
       "\n",
       "        [[13, 14, 15, 16],\n",
       "         [17, 18, 19, 20],\n",
       "         [21, 22, 23, 24]]])"
      ]
     },
     "execution_count": 40,
     "metadata": {},
     "output_type": "execute_result"
    }
   ],
   "source": [
    "b = torch.arange(1, 25).view(2, 3, 4)\n",
    "b"
   ]
  },
  {
   "cell_type": "code",
   "execution_count": 41,
   "id": "e1ca477f",
   "metadata": {},
   "outputs": [
    {
     "data": {
      "text/plain": [
       "torch.Size([2, 3, 4])"
      ]
     },
     "execution_count": 41,
     "metadata": {},
     "output_type": "execute_result"
    }
   ],
   "source": [
    "b.shape"
   ]
  },
  {
   "attachments": {},
   "cell_type": "markdown",
   "id": "88233608",
   "metadata": {},
   "source": [
    "## torch.flatten(0) 全拼接到0维\n",
    "> tensor.flatten(0)是按照tensor的第0个维度拼接（按照行来拼接，纵向拼接）"
   ]
  },
  {
   "cell_type": "code",
   "execution_count": 42,
   "id": "1a0b421a",
   "metadata": {},
   "outputs": [
    {
     "data": {
      "text/plain": [
       "tensor([ 1,  2,  3,  4,  5,  6,  7,  8,  9, 10, 11, 12, 13, 14, 15, 16, 17, 18,\n",
       "        19, 20, 21, 22, 23, 24])"
      ]
     },
     "execution_count": 42,
     "metadata": {},
     "output_type": "execute_result"
    }
   ],
   "source": [
    "b.flatten(0)"
   ]
  },
  {
   "cell_type": "code",
   "execution_count": 43,
   "id": "19846b0c",
   "metadata": {},
   "outputs": [
    {
     "data": {
      "text/plain": [
       "tensor([ 1,  2,  3,  4,  5,  6,  7,  8,  9, 10, 11, 12, 13, 14, 15, 16, 17, 18,\n",
       "        19, 20, 21, 22, 23, 24])"
      ]
     },
     "execution_count": 43,
     "metadata": {},
     "output_type": "execute_result"
    }
   ],
   "source": [
    "torch.flatten(b, 0)"
   ]
  },
  {
   "cell_type": "markdown",
   "id": "e38bd21a",
   "metadata": {},
   "source": [
    "## nn.Flatten(0)"
   ]
  },
  {
   "cell_type": "code",
   "execution_count": 45,
   "id": "66e348a4",
   "metadata": {},
   "outputs": [],
   "source": [
    "flatten = nn.Flatten(0)"
   ]
  },
  {
   "cell_type": "code",
   "execution_count": 46,
   "id": "1c90e71c",
   "metadata": {},
   "outputs": [
    {
     "data": {
      "text/plain": [
       "tensor([ 1,  2,  3,  4,  5,  6,  7,  8,  9, 10, 11, 12, 13, 14, 15, 16, 17, 18,\n",
       "        19, 20, 21, 22, 23, 24])"
      ]
     },
     "execution_count": 46,
     "metadata": {},
     "output_type": "execute_result"
    }
   ],
   "source": [
    "flatten(b)"
   ]
  },
  {
   "attachments": {},
   "cell_type": "markdown",
   "id": "14205ff4",
   "metadata": {},
   "source": [
    "## flatten(a, 1) 拼接到0,1维\n",
    "\n",
    "> tensor.flatten(1)是按照tensor的第1个维度拼接（按照列来拼接，横向拼接）"
   ]
  },
  {
   "cell_type": "code",
   "execution_count": 44,
   "id": "f44b7af0",
   "metadata": {},
   "outputs": [
    {
     "data": {
      "text/plain": [
       "tensor([[ 1,  2,  3,  4,  5,  6,  7,  8,  9, 10, 11, 12],\n",
       "        [13, 14, 15, 16, 17, 18, 19, 20, 21, 22, 23, 24]])"
      ]
     },
     "execution_count": 44,
     "metadata": {},
     "output_type": "execute_result"
    }
   ],
   "source": [
    "b.flatten(1)"
   ]
  },
  {
   "cell_type": "code",
   "execution_count": 17,
   "id": "70beb277",
   "metadata": {
    "scrolled": true
   },
   "outputs": [
    {
     "data": {
      "text/plain": [
       "tensor([[ 1,  2,  3,  4,  5,  6,  7,  8,  9, 10, 11, 12],\n",
       "        [13, 14, 15, 16, 17, 18, 19, 20, 21, 22, 23, 24]])"
      ]
     },
     "execution_count": 17,
     "metadata": {},
     "output_type": "execute_result"
    }
   ],
   "source": [
    "torch.flatten(b, 1)"
   ]
  },
  {
   "attachments": {},
   "cell_type": "markdown",
   "id": "74d6391a",
   "metadata": {},
   "source": [
    "## nn.Flatten(1) 默认为1"
   ]
  },
  {
   "cell_type": "code",
   "execution_count": 49,
   "id": "4f586b09",
   "metadata": {},
   "outputs": [],
   "source": [
    "flatten = nn.Flatten(1)"
   ]
  },
  {
   "cell_type": "code",
   "execution_count": 53,
   "id": "c33534a2",
   "metadata": {},
   "outputs": [
    {
     "data": {
      "text/plain": [
       "tensor([[ 1,  2,  3,  4,  5,  6,  7,  8,  9, 10, 11, 12],\n",
       "        [13, 14, 15, 16, 17, 18, 19, 20, 21, 22, 23, 24]])"
      ]
     },
     "execution_count": 53,
     "metadata": {},
     "output_type": "execute_result"
    }
   ],
   "source": [
    "flatten(b)"
   ]
  },
  {
   "attachments": {},
   "cell_type": "markdown",
   "id": "23fc7751",
   "metadata": {},
   "source": [
    "## tensor.flatten(2) 拼接到0,1,2维\n",
    "\n",
    "> tensor.flatten(2)是按照tensor的第2个维度拼接（按照列来拼接，横向拼接）"
   ]
  },
  {
   "cell_type": "code",
   "execution_count": 51,
   "id": "7d3b9dd0",
   "metadata": {},
   "outputs": [
    {
     "data": {
      "text/plain": [
       "tensor([[[ 1,  2,  3,  4],\n",
       "         [ 5,  6,  7,  8],\n",
       "         [ 9, 10, 11, 12]],\n",
       "\n",
       "        [[13, 14, 15, 16],\n",
       "         [17, 18, 19, 20],\n",
       "         [21, 22, 23, 24]]])"
      ]
     },
     "execution_count": 51,
     "metadata": {},
     "output_type": "execute_result"
    }
   ],
   "source": [
    "b.flatten(2)"
   ]
  },
  {
   "cell_type": "code",
   "execution_count": 52,
   "id": "85d888f2",
   "metadata": {},
   "outputs": [
    {
     "data": {
      "text/plain": [
       "tensor([[[ 1,  2,  3,  4],\n",
       "         [ 5,  6,  7,  8],\n",
       "         [ 9, 10, 11, 12]],\n",
       "\n",
       "        [[13, 14, 15, 16],\n",
       "         [17, 18, 19, 20],\n",
       "         [21, 22, 23, 24]]])"
      ]
     },
     "execution_count": 52,
     "metadata": {},
     "output_type": "execute_result"
    }
   ],
   "source": [
    "torch.flatten(b, 2)"
   ]
  },
  {
   "attachments": {},
   "cell_type": "markdown",
   "id": "d4c20264",
   "metadata": {},
   "source": [
    "## nn.Flatten(2)"
   ]
  },
  {
   "cell_type": "code",
   "execution_count": 54,
   "id": "2ecda6e2",
   "metadata": {},
   "outputs": [],
   "source": [
    "flatten = nn.Flatten(2)"
   ]
  },
  {
   "cell_type": "code",
   "execution_count": 55,
   "id": "fed9fc56",
   "metadata": {},
   "outputs": [
    {
     "data": {
      "text/plain": [
       "tensor([[[ 1,  2,  3,  4],\n",
       "         [ 5,  6,  7,  8],\n",
       "         [ 9, 10, 11, 12]],\n",
       "\n",
       "        [[13, 14, 15, 16],\n",
       "         [17, 18, 19, 20],\n",
       "         [21, 22, 23, 24]]])"
      ]
     },
     "execution_count": 55,
     "metadata": {},
     "output_type": "execute_result"
    }
   ],
   "source": [
    "flatten(b)"
   ]
  },
  {
   "attachments": {},
   "cell_type": "markdown",
   "id": "795e2d79",
   "metadata": {},
   "source": [
    "## tensor.flatten(start, end)，将从start到end之间的所有维度值乘起来，其他的维度保持不变。"
   ]
  },
  {
   "attachments": {},
   "cell_type": "markdown",
   "id": "726d6d7c",
   "metadata": {},
   "source": [
    "### tensor.flatten(0, 1) 0,1两个维度相乘,剩余两个维度"
   ]
  },
  {
   "cell_type": "code",
   "execution_count": 56,
   "id": "5f33d5d9",
   "metadata": {},
   "outputs": [
    {
     "data": {
      "text/plain": [
       "tensor([[ 1,  2,  3,  4],\n",
       "        [ 5,  6,  7,  8],\n",
       "        [ 9, 10, 11, 12],\n",
       "        [13, 14, 15, 16],\n",
       "        [17, 18, 19, 20],\n",
       "        [21, 22, 23, 24]])"
      ]
     },
     "execution_count": 56,
     "metadata": {},
     "output_type": "execute_result"
    }
   ],
   "source": [
    "b.flatten(0, 1)"
   ]
  },
  {
   "cell_type": "code",
   "execution_count": 57,
   "id": "c813f8e8",
   "metadata": {
    "scrolled": false
   },
   "outputs": [
    {
     "data": {
      "text/plain": [
       "tensor([[ 1,  2,  3,  4],\n",
       "        [ 5,  6,  7,  8],\n",
       "        [ 9, 10, 11, 12],\n",
       "        [13, 14, 15, 16],\n",
       "        [17, 18, 19, 20],\n",
       "        [21, 22, 23, 24]])"
      ]
     },
     "execution_count": 57,
     "metadata": {},
     "output_type": "execute_result"
    }
   ],
   "source": [
    "torch.flatten(b, 0, 1)"
   ]
  },
  {
   "attachments": {},
   "cell_type": "markdown",
   "id": "1a5b501e",
   "metadata": {},
   "source": [
    "### nn.Flatten(0, 1)"
   ]
  },
  {
   "cell_type": "code",
   "execution_count": 58,
   "id": "b8686c05",
   "metadata": {},
   "outputs": [],
   "source": [
    "flatten = nn.Flatten(0, 1)"
   ]
  },
  {
   "cell_type": "code",
   "execution_count": 59,
   "id": "d577260c",
   "metadata": {},
   "outputs": [
    {
     "data": {
      "text/plain": [
       "tensor([[ 1,  2,  3,  4],\n",
       "        [ 5,  6,  7,  8],\n",
       "        [ 9, 10, 11, 12],\n",
       "        [13, 14, 15, 16],\n",
       "        [17, 18, 19, 20],\n",
       "        [21, 22, 23, 24]])"
      ]
     },
     "execution_count": 59,
     "metadata": {},
     "output_type": "execute_result"
    }
   ],
   "source": [
    "flatten(b)"
   ]
  },
  {
   "attachments": {},
   "cell_type": "markdown",
   "id": "91b12847",
   "metadata": {},
   "source": [
    "### tensor.flatten(0, 2) 0,1,2三个维度相乘,剩余1个维度"
   ]
  },
  {
   "cell_type": "code",
   "execution_count": 24,
   "id": "40556f5a",
   "metadata": {},
   "outputs": [
    {
     "data": {
      "text/plain": [
       "tensor([ 1,  2,  3,  4,  5,  6,  7,  8,  9, 10, 11, 12, 13, 14, 15, 16, 17, 18,\n",
       "        19, 20, 21, 22, 23, 24])"
      ]
     },
     "execution_count": 24,
     "metadata": {},
     "output_type": "execute_result"
    }
   ],
   "source": [
    "b.flatten(0, 2)"
   ]
  },
  {
   "cell_type": "code",
   "execution_count": 23,
   "id": "894eb462",
   "metadata": {},
   "outputs": [
    {
     "data": {
      "text/plain": [
       "tensor([ 1,  2,  3,  4,  5,  6,  7,  8,  9, 10, 11, 12, 13, 14, 15, 16, 17, 18,\n",
       "        19, 20, 21, 22, 23, 24])"
      ]
     },
     "execution_count": 23,
     "metadata": {},
     "output_type": "execute_result"
    }
   ],
   "source": [
    "torch.flatten(b, 0, 2)"
   ]
  },
  {
   "attachments": {},
   "cell_type": "markdown",
   "id": "f27f4951",
   "metadata": {},
   "source": [
    "### nn.Flatten(0, 2)"
   ]
  },
  {
   "cell_type": "code",
   "execution_count": 60,
   "id": "23fd0d00",
   "metadata": {},
   "outputs": [],
   "source": [
    "flatten = nn.Flatten(0, 2)"
   ]
  },
  {
   "cell_type": "code",
   "execution_count": 61,
   "id": "5fe65cec",
   "metadata": {},
   "outputs": [
    {
     "data": {
      "text/plain": [
       "tensor([ 1,  2,  3,  4,  5,  6,  7,  8,  9, 10, 11, 12, 13, 14, 15, 16, 17, 18,\n",
       "        19, 20, 21, 22, 23, 24])"
      ]
     },
     "execution_count": 61,
     "metadata": {},
     "output_type": "execute_result"
    }
   ],
   "source": [
    "flatten(b)"
   ]
  },
  {
   "cell_type": "markdown",
   "id": "a88adf1a",
   "metadata": {},
   "source": [
    "# view flatten"
   ]
  },
  {
   "cell_type": "code",
   "execution_count": 28,
   "id": "f192d63a",
   "metadata": {},
   "outputs": [
    {
     "name": "stdout",
     "output_type": "stream",
     "text": [
      "torch.Size([2, 300])\n",
      "torch.Size([2, 300])\n",
      "torch.Size([2, 300])\n"
     ]
    }
   ],
   "source": [
    "x = torch.rand(2, 3, 10, 10)\n",
    "\n",
    "x = x.view(x.size(0), -1)\n",
    "print(x.size())  # [2, 300]\n",
    "x = torch.flatten(x, 1)\n",
    "print(x.size())  # [2, 300]\n",
    "x = x.flatten(1)\n",
    "print(x.size())  # [2, 300]"
   ]
  }
 ],
 "metadata": {
  "kernelspec": {
   "display_name": "pytorch",
   "language": "python",
   "name": "python3"
  },
  "language_info": {
   "codemirror_mode": {
    "name": "ipython",
    "version": 3
   },
   "file_extension": ".py",
   "mimetype": "text/x-python",
   "name": "python",
   "nbconvert_exporter": "python",
   "pygments_lexer": "ipython3",
   "version": "3.9.15"
  },
  "toc": {
   "base_numbering": 1,
   "nav_menu": {},
   "number_sections": true,
   "sideBar": true,
   "skip_h1_title": false,
   "title_cell": "Table of Contents",
   "title_sidebar": "Contents",
   "toc_cell": false,
   "toc_position": {
    "height": "calc(100% - 180px)",
    "left": "10px",
    "top": "150px",
    "width": "206.133px"
   },
   "toc_section_display": true,
   "toc_window_display": true
  },
  "vscode": {
   "interpreter": {
    "hash": "6e3a9582807446cfda6e60e7a572d3bab8c423d141a376f0e3f6f7956ef3b5a5"
   }
  }
 },
 "nbformat": 4,
 "nbformat_minor": 5
}
