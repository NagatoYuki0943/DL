{
 "cells": [
  {
   "cell_type": "code",
   "execution_count": 1,
   "metadata": {},
   "outputs": [],
   "source": [
    "import torch"
   ]
  },
  {
   "cell_type": "markdown",
   "metadata": {},
   "source": [
    "# 1 tensor.view(new_shape) / tensor.reshape(new_shape) 改变形状\n",
    "\n",
    "形状改变：`tensor.view() or reshape()`类似numpy中的reshape，是一种浅拷贝\n",
    "\n",
    "1 view只能对连续内存的数据转换维度(浅拷贝)\n",
    "\n",
    "​\tview是数据的一个别称或引用，通过该别称或引用亦便可访问、操作原有数据，但原有数据不会产生拷贝。如果我们对视图进行修改，它会影响到原始数据，物理内存在同一位置，这样避免了重新创建张量的高内存开销。\n",
    "\n",
    "2 contiguous()会开辟新的内存空间\n",
    "\n",
    "3 reshape()可以对不连续内存数据进行处理\n",
    "\n",
    "​\treshape可以开辟新的内存空间\n",
    "\n",
    "​\ttensor内存连续， **a.reshape()**返回的结果与**a.view()**相同，\n",
    "\n",
    "​\ttensor内存不连续,**a.reshape()**返回的结果与**a.view().contiguous()**相同。"
   ]
  },
  {
   "cell_type": "code",
   "execution_count": 9,
   "metadata": {},
   "outputs": [
    {
     "data": {
      "text/plain": [
       "tensor([ 1.,  2.,  3.,  4.,  5.,  6.,  7.,  8.,  9., 10., 11., 12.])"
      ]
     },
     "execution_count": 9,
     "metadata": {},
     "output_type": "execute_result"
    }
   ],
   "source": [
    "arr = torch.arange(1, 13.)\n",
    "arr"
   ]
  },
  {
   "cell_type": "code",
   "execution_count": 10,
   "metadata": {},
   "outputs": [
    {
     "data": {
      "text/plain": [
       "tensor([[ 1.,  2.,  3.,  4.],\n",
       "        [ 5.,  6.,  7.,  8.],\n",
       "        [ 9., 10., 11., 12.]])"
      ]
     },
     "execution_count": 10,
     "metadata": {},
     "output_type": "execute_result"
    }
   ],
   "source": [
    "arr.view(3, 4)"
   ]
  },
  {
   "cell_type": "code",
   "execution_count": 11,
   "metadata": {},
   "outputs": [
    {
     "data": {
      "text/plain": [
       "tensor([[ 1.,  2.,  3.,  4.],\n",
       "        [ 5.,  6.,  7.,  8.],\n",
       "        [ 9., 10., 11., 12.]])"
      ]
     },
     "execution_count": 11,
     "metadata": {},
     "output_type": "execute_result"
    }
   ],
   "source": [
    "arr.reshape(3, 4)"
   ]
  },
  {
   "cell_type": "code",
   "execution_count": 12,
   "metadata": {},
   "outputs": [
    {
     "data": {
      "text/plain": [
       "tensor([[[ 1.,  2.],\n",
       "         [ 3.,  4.],\n",
       "         [ 5.,  6.]],\n",
       "\n",
       "        [[ 7.,  8.],\n",
       "         [ 9., 10.],\n",
       "         [11., 12.]]])"
      ]
     },
     "execution_count": 12,
     "metadata": {},
     "output_type": "execute_result"
    }
   ],
   "source": [
    "arr1 = arr.view(2, 3, 2)\n",
    "arr1"
   ]
  },
  {
   "cell_type": "markdown",
   "metadata": {},
   "source": [
    "## 经过转置之后的数据不连续,没法使用 view() 函数,要使用 contiguous().view() 或者使用 reshape()"
   ]
  },
  {
   "cell_type": "code",
   "execution_count": 13,
   "metadata": {},
   "outputs": [
    {
     "data": {
      "text/plain": [
       "tensor([[[ 1.,  3.,  5.],\n",
       "         [ 2.,  4.,  6.]],\n",
       "\n",
       "        [[ 7.,  9., 11.],\n",
       "         [ 8., 10., 12.]]])"
      ]
     },
     "execution_count": 13,
     "metadata": {},
     "output_type": "execute_result"
    }
   ],
   "source": [
    "arr2 = arr1.transpose(1, 2)\n",
    "arr2"
   ]
  },
  {
   "cell_type": "code",
   "execution_count": 16,
   "metadata": {},
   "outputs": [
    {
     "ename": "RuntimeError",
     "evalue": "view size is not compatible with input tensor's size and stride (at least one dimension spans across two contiguous subspaces). Use .reshape(...) instead.",
     "output_type": "error",
     "traceback": [
      "\u001b[1;31m---------------------------------------------------------------------------\u001b[0m",
      "\u001b[1;31mRuntimeError\u001b[0m                              Traceback (most recent call last)",
      "\u001b[1;32mc:\\Users\\Administrator\\Desktop\\self\\DL_\\Pytorch\\01_PyTorch基本\\02维度变换\\02 维度变换 contiguous view reshape t transpose permute expand repeat tile.ipynb 单元格 9\u001b[0m line \u001b[0;36m2\n\u001b[0;32m      <a href='vscode-notebook-cell:/c%3A/Users/Administrator/Desktop/self/DL_/Pytorch/01_PyTorch%E5%9F%BA%E6%9C%AC/02%E7%BB%B4%E5%BA%A6%E5%8F%98%E6%8D%A2/02%20%E7%BB%B4%E5%BA%A6%E5%8F%98%E6%8D%A2%20contiguous%20view%20reshape%20t%20transpose%20permute%20expand%20repeat%20tile.ipynb#X11sZmlsZQ%3D%3D?line=0'>1</a>\u001b[0m \u001b[39m# 报错\u001b[39;00m\n\u001b[1;32m----> <a href='vscode-notebook-cell:/c%3A/Users/Administrator/Desktop/self/DL_/Pytorch/01_PyTorch%E5%9F%BA%E6%9C%AC/02%E7%BB%B4%E5%BA%A6%E5%8F%98%E6%8D%A2/02%20%E7%BB%B4%E5%BA%A6%E5%8F%98%E6%8D%A2%20contiguous%20view%20reshape%20t%20transpose%20permute%20expand%20repeat%20tile.ipynb#X11sZmlsZQ%3D%3D?line=1'>2</a>\u001b[0m arr2\u001b[39m.\u001b[39;49mview(\u001b[39m2\u001b[39;49m, \u001b[39m6\u001b[39;49m)\n",
      "\u001b[1;31mRuntimeError\u001b[0m: view size is not compatible with input tensor's size and stride (at least one dimension spans across two contiguous subspaces). Use .reshape(...) instead."
     ]
    }
   ],
   "source": [
    "# 报错\n",
    "arr2.view(2, 6)"
   ]
  },
  {
   "cell_type": "code",
   "execution_count": 17,
   "metadata": {},
   "outputs": [
    {
     "data": {
      "text/plain": [
       "tensor([[ 1.,  3.,  5.,  2.,  4.,  6.],\n",
       "        [ 7.,  9., 11.,  8., 10., 12.]])"
      ]
     },
     "execution_count": 17,
     "metadata": {},
     "output_type": "execute_result"
    }
   ],
   "source": [
    "# 必须使用连续区域\n",
    "arr2.contiguous().view(2, 6)"
   ]
  },
  {
   "cell_type": "code",
   "execution_count": 18,
   "metadata": {},
   "outputs": [
    {
     "data": {
      "text/plain": [
       "tensor([[ 1.,  3.,  5.,  2.,  4.,  6.],\n",
       "        [ 7.,  9., 11.,  8., 10., 12.]])"
      ]
     },
     "execution_count": 18,
     "metadata": {},
     "output_type": "execute_result"
    }
   ],
   "source": [
    "arr2.reshape(2, 6)"
   ]
  },
  {
   "attachments": {},
   "cell_type": "markdown",
   "metadata": {},
   "source": [
    "## view(-1, 1) 和 reshape(-1, 1) 将行向量调整为列向量"
   ]
  },
  {
   "cell_type": "code",
   "execution_count": 22,
   "metadata": {},
   "outputs": [
    {
     "data": {
      "text/plain": [
       "tensor([ 1.,  2.,  3.,  4.,  5.,  6.,  7.,  8.,  9., 10., 11., 12.])"
      ]
     },
     "execution_count": 22,
     "metadata": {},
     "output_type": "execute_result"
    }
   ],
   "source": [
    "arr"
   ]
  },
  {
   "cell_type": "code",
   "execution_count": 23,
   "metadata": {},
   "outputs": [
    {
     "data": {
      "text/plain": [
       "(tensor([[ 1.],\n",
       "         [ 2.],\n",
       "         [ 3.],\n",
       "         [ 4.],\n",
       "         [ 5.],\n",
       "         [ 6.],\n",
       "         [ 7.],\n",
       "         [ 8.],\n",
       "         [ 9.],\n",
       "         [10.],\n",
       "         [11.],\n",
       "         [12.]]),\n",
       " torch.Size([12, 1]))"
      ]
     },
     "execution_count": 23,
     "metadata": {},
     "output_type": "execute_result"
    }
   ],
   "source": [
    "arr.view(-1, 1), arr.view(-1, 1).shape"
   ]
  },
  {
   "cell_type": "code",
   "execution_count": 24,
   "metadata": {},
   "outputs": [
    {
     "data": {
      "text/plain": [
       "(tensor([[ 1.],\n",
       "         [ 2.],\n",
       "         [ 3.],\n",
       "         [ 4.],\n",
       "         [ 5.],\n",
       "         [ 6.],\n",
       "         [ 7.],\n",
       "         [ 8.],\n",
       "         [ 9.],\n",
       "         [10.],\n",
       "         [11.],\n",
       "         [12.]]),\n",
       " torch.Size([12, 1]))"
      ]
     },
     "execution_count": 24,
     "metadata": {},
     "output_type": "execute_result"
    }
   ],
   "source": [
    "arr.reshape(-1, 1), arr.reshape(-1, 1).shape"
   ]
  },
  {
   "attachments": {},
   "cell_type": "markdown",
   "metadata": {},
   "source": [
    "# 2 转置"
   ]
  },
  {
   "cell_type": "markdown",
   "metadata": {},
   "source": [
    "## tensor.t() tensor是一个二维数据,如果不为二维就出错"
   ]
  },
  {
   "cell_type": "code",
   "execution_count": 25,
   "metadata": {},
   "outputs": [
    {
     "data": {
      "text/plain": [
       "tensor([[ 0.7960,  0.7039, -0.7571],\n",
       "        [-0.3944, -1.4380,  0.5308]])"
      ]
     },
     "execution_count": 25,
     "metadata": {},
     "output_type": "execute_result"
    }
   ],
   "source": [
    "arr3 = torch.randn(2, 3)\n",
    "arr3"
   ]
  },
  {
   "cell_type": "code",
   "execution_count": 26,
   "metadata": {},
   "outputs": [
    {
     "data": {
      "text/plain": [
       "tensor([[ 0.7960, -0.3944],\n",
       "        [ 0.7039, -1.4380],\n",
       "        [-0.7571,  0.5308]])"
      ]
     },
     "execution_count": 26,
     "metadata": {},
     "output_type": "execute_result"
    }
   ],
   "source": [
    "arr3.t()"
   ]
  },
  {
   "cell_type": "code",
   "execution_count": 27,
   "metadata": {},
   "outputs": [
    {
     "data": {
      "text/plain": [
       "tensor([[[ 1.,  2.],\n",
       "         [ 3.,  4.],\n",
       "         [ 5.,  6.]],\n",
       "\n",
       "        [[ 7.,  8.],\n",
       "         [ 9., 10.],\n",
       "         [11., 12.]]])"
      ]
     },
     "execution_count": 27,
     "metadata": {},
     "output_type": "execute_result"
    }
   ],
   "source": [
    "arr1"
   ]
  },
  {
   "cell_type": "code",
   "execution_count": 28,
   "metadata": {},
   "outputs": [
    {
     "ename": "RuntimeError",
     "evalue": "t() expects a tensor with <= 2 dimensions, but self is 3D",
     "output_type": "error",
     "traceback": [
      "\u001b[1;31m---------------------------------------------------------------------------\u001b[0m",
      "\u001b[1;31mRuntimeError\u001b[0m                              Traceback (most recent call last)",
      "\u001b[1;32mc:\\Users\\Administrator\\Desktop\\self\\DL_\\Pytorch\\01_PyTorch基本\\02维度变换\\02 维度变换 contiguous view reshape t transpose permute expand repeat tile.ipynb 单元格 21\u001b[0m line \u001b[0;36m2\n\u001b[0;32m      <a href='vscode-notebook-cell:/c%3A/Users/Administrator/Desktop/self/DL_/Pytorch/01_PyTorch%E5%9F%BA%E6%9C%AC/02%E7%BB%B4%E5%BA%A6%E5%8F%98%E6%8D%A2/02%20%E7%BB%B4%E5%BA%A6%E5%8F%98%E6%8D%A2%20contiguous%20view%20reshape%20t%20transpose%20permute%20expand%20repeat%20tile.ipynb#X26sZmlsZQ%3D%3D?line=0'>1</a>\u001b[0m \u001b[39m# 高维数据不能用 t()\u001b[39;00m\n\u001b[1;32m----> <a href='vscode-notebook-cell:/c%3A/Users/Administrator/Desktop/self/DL_/Pytorch/01_PyTorch%E5%9F%BA%E6%9C%AC/02%E7%BB%B4%E5%BA%A6%E5%8F%98%E6%8D%A2/02%20%E7%BB%B4%E5%BA%A6%E5%8F%98%E6%8D%A2%20contiguous%20view%20reshape%20t%20transpose%20permute%20expand%20repeat%20tile.ipynb#X26sZmlsZQ%3D%3D?line=1'>2</a>\u001b[0m arr1\u001b[39m.\u001b[39;49mt()\n",
      "\u001b[1;31mRuntimeError\u001b[0m: t() expects a tensor with <= 2 dimensions, but self is 3D"
     ]
    }
   ],
   "source": [
    "# 高维数据不能用 t()\n",
    "arr1.t()"
   ]
  },
  {
   "cell_type": "markdown",
   "metadata": {},
   "source": [
    "## tensor.transpose(dim1, dim2) 交换两个维度"
   ]
  },
  {
   "cell_type": "code",
   "execution_count": 32,
   "metadata": {},
   "outputs": [
    {
     "data": {
      "text/plain": [
       "tensor([[[ 1.,  2.],\n",
       "         [ 3.,  4.],\n",
       "         [ 5.,  6.]],\n",
       "\n",
       "        [[ 7.,  8.],\n",
       "         [ 9., 10.],\n",
       "         [11., 12.]]])"
      ]
     },
     "execution_count": 32,
     "metadata": {},
     "output_type": "execute_result"
    }
   ],
   "source": [
    "arr1"
   ]
  },
  {
   "cell_type": "code",
   "execution_count": 33,
   "metadata": {},
   "outputs": [
    {
     "data": {
      "text/plain": [
       "tensor([[[ 1.,  3.,  5.],\n",
       "         [ 2.,  4.,  6.]],\n",
       "\n",
       "        [[ 7.,  9., 11.],\n",
       "         [ 8., 10., 12.]]])"
      ]
     },
     "execution_count": 33,
     "metadata": {},
     "output_type": "execute_result"
    }
   ],
   "source": [
    "arr1.transpose(1, 2)"
   ]
  },
  {
   "cell_type": "markdown",
   "metadata": {},
   "source": [
    "## tensor.swapaxes(dim1, dim2) 交换两个维度"
   ]
  },
  {
   "cell_type": "code",
   "execution_count": 34,
   "metadata": {},
   "outputs": [
    {
     "data": {
      "text/plain": [
       "tensor([[[ 1.,  3.,  5.],\n",
       "         [ 2.,  4.,  6.]],\n",
       "\n",
       "        [[ 7.,  9., 11.],\n",
       "         [ 8., 10., 12.]]])"
      ]
     },
     "execution_count": 34,
     "metadata": {},
     "output_type": "execute_result"
    }
   ],
   "source": [
    "arr1.swapaxes(1, 2)"
   ]
  },
  {
   "cell_type": "markdown",
   "metadata": {},
   "source": [
    "## tensor.permute(维度顺序) 改变维度顺序"
   ]
  },
  {
   "cell_type": "code",
   "execution_count": 35,
   "metadata": {},
   "outputs": [
    {
     "data": {
      "text/plain": [
       "tensor([[[ 1.,  7.],\n",
       "         [ 2.,  8.]],\n",
       "\n",
       "        [[ 3.,  9.],\n",
       "         [ 4., 10.]],\n",
       "\n",
       "        [[ 5., 11.],\n",
       "         [ 6., 12.]]])"
      ]
     },
     "execution_count": 35,
     "metadata": {},
     "output_type": "execute_result"
    }
   ],
   "source": [
    "arr1.permute(1, 2, 0)"
   ]
  },
  {
   "attachments": {},
   "cell_type": "markdown",
   "metadata": {},
   "source": [
    "# 3 tensor.squeeze/unsqueeze(维度) 压缩,扩展维度\n",
    "\n",
    "torch.squeeze(tensor)就是将tensor中所有为1的维度删掉。不为1的维度没有影响。默认删除所有维度为1的维度\n",
    "\n",
    "tensor.squeeze(N)就是去掉a中指定的n维数为1的维度,**如果这个维度不为1则没影响**。\n",
    "\n",
    "numpy和tf中是squeeze, expand_dim"
   ]
  },
  {
   "cell_type": "code",
   "execution_count": 36,
   "metadata": {},
   "outputs": [
    {
     "data": {
      "text/plain": [
       "tensor([[[[ 1.4622, -0.0071, -1.1201]],\n",
       "\n",
       "         [[-0.0754, -0.0507, -0.4371]]]])"
      ]
     },
     "execution_count": 36,
     "metadata": {},
     "output_type": "execute_result"
    }
   ],
   "source": [
    "arr4 = torch.randn(1, 2, 1, 3)\n",
    "arr4"
   ]
  },
  {
   "cell_type": "code",
   "execution_count": 37,
   "metadata": {},
   "outputs": [
    {
     "data": {
      "text/plain": [
       "tensor([[ 1.4622, -0.0071, -1.1201],\n",
       "        [-0.0754, -0.0507, -0.4371]])"
      ]
     },
     "execution_count": 37,
     "metadata": {},
     "output_type": "execute_result"
    }
   ],
   "source": [
    "arr4.squeeze()"
   ]
  },
  {
   "cell_type": "code",
   "execution_count": 38,
   "metadata": {},
   "outputs": [
    {
     "data": {
      "text/plain": [
       "tensor([[ 1.4622, -0.0071, -1.1201],\n",
       "        [-0.0754, -0.0507, -0.4371]])"
      ]
     },
     "execution_count": 38,
     "metadata": {},
     "output_type": "execute_result"
    }
   ],
   "source": [
    "torch.squeeze(arr4)"
   ]
  },
  {
   "cell_type": "code",
   "execution_count": 39,
   "metadata": {},
   "outputs": [
    {
     "data": {
      "text/plain": [
       "2"
      ]
     },
     "execution_count": 39,
     "metadata": {},
     "output_type": "execute_result"
    }
   ],
   "source": [
    "arr4.squeeze().dim()"
   ]
  },
  {
   "cell_type": "code",
   "execution_count": 40,
   "metadata": {},
   "outputs": [
    {
     "data": {
      "text/plain": [
       "tensor([[[ 1.4622, -0.0071, -1.1201],\n",
       "         [-0.0754, -0.0507, -0.4371]]])"
      ]
     },
     "execution_count": 40,
     "metadata": {},
     "output_type": "execute_result"
    }
   ],
   "source": [
    "arr4.squeeze(2)"
   ]
  },
  {
   "cell_type": "code",
   "execution_count": 41,
   "metadata": {},
   "outputs": [
    {
     "data": {
      "text/plain": [
       "tensor([[[ 1.4622, -0.0071, -1.1201],\n",
       "         [-0.0754, -0.0507, -0.4371]]])"
      ]
     },
     "execution_count": 41,
     "metadata": {},
     "output_type": "execute_result"
    }
   ],
   "source": [
    "torch.squeeze(arr4, 2)"
   ]
  },
  {
   "cell_type": "code",
   "execution_count": 42,
   "metadata": {},
   "outputs": [
    {
     "data": {
      "text/plain": [
       "3"
      ]
     },
     "execution_count": 42,
     "metadata": {},
     "output_type": "execute_result"
    }
   ],
   "source": [
    "arr4.squeeze(2).dim()"
   ]
  },
  {
   "cell_type": "code",
   "execution_count": 43,
   "metadata": {},
   "outputs": [
    {
     "data": {
      "text/plain": [
       "tensor([[-0.3884,  2.3277,  1.4038],\n",
       "        [-1.0415, -0.1831,  0.2636]])"
      ]
     },
     "execution_count": 43,
     "metadata": {},
     "output_type": "execute_result"
    }
   ],
   "source": [
    "arr5 = torch.randn(2, 3)\n",
    "arr5"
   ]
  },
  {
   "cell_type": "code",
   "execution_count": 44,
   "metadata": {},
   "outputs": [
    {
     "data": {
      "text/plain": [
       "tensor([[[-0.3884,  2.3277,  1.4038],\n",
       "         [-1.0415, -0.1831,  0.2636]]])"
      ]
     },
     "execution_count": 44,
     "metadata": {},
     "output_type": "execute_result"
    }
   ],
   "source": [
    "arr5.unsqueeze(0)"
   ]
  },
  {
   "cell_type": "code",
   "execution_count": 45,
   "metadata": {},
   "outputs": [
    {
     "data": {
      "text/plain": [
       "tensor([[[-0.3884],\n",
       "         [ 2.3277],\n",
       "         [ 1.4038]],\n",
       "\n",
       "        [[-1.0415],\n",
       "         [-0.1831],\n",
       "         [ 0.2636]]])"
      ]
     },
     "execution_count": 45,
     "metadata": {},
     "output_type": "execute_result"
    }
   ],
   "source": [
    "arr5.unsqueeze(2)"
   ]
  },
  {
   "attachments": {},
   "cell_type": "markdown",
   "metadata": {},
   "source": [
    "# 4 tensor.expand/repeat() 扩展/重复维度\n",
    "**expand不会主动复制数据,repeat会真的复制数据(更慢)**"
   ]
  },
  {
   "attachments": {},
   "cell_type": "markdown",
   "metadata": {},
   "source": [
    "## tensor.expand(new_dims) 维度必须一致,原来维度为1可以扩展,原来维度不为1就不能扩展\n",
    "\n",
    "new_dims 中的 -1 代表原来的值"
   ]
  },
  {
   "cell_type": "markdown",
   "metadata": {},
   "source": [
    "### epxand 扩展原本为1的维度"
   ]
  },
  {
   "cell_type": "code",
   "execution_count": 46,
   "metadata": {},
   "outputs": [
    {
     "data": {
      "text/plain": [
       "tensor([[0.6678, 0.3883, 0.9919]])"
      ]
     },
     "execution_count": 46,
     "metadata": {},
     "output_type": "execute_result"
    }
   ],
   "source": [
    "arr6 = torch.rand(1, 3)\n",
    "arr6"
   ]
  },
  {
   "cell_type": "code",
   "execution_count": 47,
   "metadata": {},
   "outputs": [
    {
     "data": {
      "text/plain": [
       "tensor([[0.6678, 0.3883, 0.9919],\n",
       "        [0.6678, 0.3883, 0.9919]])"
      ]
     },
     "execution_count": 47,
     "metadata": {},
     "output_type": "execute_result"
    }
   ],
   "source": [
    "arr6.expand(2, 3)"
   ]
  },
  {
   "cell_type": "code",
   "execution_count": 48,
   "metadata": {},
   "outputs": [
    {
     "data": {
      "text/plain": [
       "tensor([[0.6678, 0.3883, 0.9919],\n",
       "        [0.6678, 0.3883, 0.9919]])"
      ]
     },
     "execution_count": 48,
     "metadata": {},
     "output_type": "execute_result"
    }
   ],
   "source": [
    "arr6.expand(2, -1)"
   ]
  },
  {
   "cell_type": "code",
   "execution_count": 49,
   "metadata": {},
   "outputs": [
    {
     "ename": "RuntimeError",
     "evalue": "The expanded size of the tensor (6) must match the existing size (3) at non-singleton dimension 1.  Target sizes: [1, 6].  Tensor sizes: [1, 3]",
     "output_type": "error",
     "traceback": [
      "\u001b[1;31m---------------------------------------------------------------------------\u001b[0m",
      "\u001b[1;31mRuntimeError\u001b[0m                              Traceback (most recent call last)",
      "\u001b[1;32mc:\\Users\\Administrator\\Desktop\\self\\DL_\\Pytorch\\01_PyTorch基本\\02维度变换\\02 维度变换 contiguous view reshape t transpose permute expand repeat tile.ipynb 单元格 46\u001b[0m line \u001b[0;36m2\n\u001b[0;32m      <a href='vscode-notebook-cell:/c%3A/Users/Administrator/Desktop/self/DL_/Pytorch/01_PyTorch%E5%9F%BA%E6%9C%AC/02%E7%BB%B4%E5%BA%A6%E5%8F%98%E6%8D%A2/02%20%E7%BB%B4%E5%BA%A6%E5%8F%98%E6%8D%A2%20contiguous%20view%20reshape%20t%20transpose%20permute%20expand%20repeat%20tile.ipynb#X61sZmlsZQ%3D%3D?line=0'>1</a>\u001b[0m \u001b[39m# 这样不行,要扩展的维度必须为1\u001b[39;00m\n\u001b[1;32m----> <a href='vscode-notebook-cell:/c%3A/Users/Administrator/Desktop/self/DL_/Pytorch/01_PyTorch%E5%9F%BA%E6%9C%AC/02%E7%BB%B4%E5%BA%A6%E5%8F%98%E6%8D%A2/02%20%E7%BB%B4%E5%BA%A6%E5%8F%98%E6%8D%A2%20contiguous%20view%20reshape%20t%20transpose%20permute%20expand%20repeat%20tile.ipynb#X61sZmlsZQ%3D%3D?line=1'>2</a>\u001b[0m arr6\u001b[39m.\u001b[39;49mexpand(\u001b[39m1\u001b[39;49m, \u001b[39m6\u001b[39;49m)\n",
      "\u001b[1;31mRuntimeError\u001b[0m: The expanded size of the tensor (6) must match the existing size (3) at non-singleton dimension 1.  Target sizes: [1, 6].  Tensor sizes: [1, 3]"
     ]
    }
   ],
   "source": [
    "# 这样不行,要扩展的维度必须为1\n",
    "arr6.expand(1, 6)"
   ]
  },
  {
   "cell_type": "markdown",
   "metadata": {},
   "source": [
    "### expand新增维度"
   ]
  },
  {
   "cell_type": "code",
   "execution_count": 50,
   "metadata": {},
   "outputs": [
    {
     "data": {
      "text/plain": [
       "tensor([[1., 1., 1.],\n",
       "        [1., 1., 1.]])"
      ]
     },
     "execution_count": 50,
     "metadata": {},
     "output_type": "execute_result"
    }
   ],
   "source": [
    "arr7 = torch.ones(2, 3)\n",
    "arr7"
   ]
  },
  {
   "cell_type": "code",
   "execution_count": 51,
   "metadata": {},
   "outputs": [
    {
     "data": {
      "text/plain": [
       "tensor([[[1., 1., 1.],\n",
       "         [1., 1., 1.]],\n",
       "\n",
       "        [[1., 1., 1.],\n",
       "         [1., 1., 1.]],\n",
       "\n",
       "        [[1., 1., 1.],\n",
       "         [1., 1., 1.]],\n",
       "\n",
       "        [[1., 1., 1.],\n",
       "         [1., 1., 1.]]])"
      ]
     },
     "execution_count": 51,
     "metadata": {},
     "output_type": "execute_result"
    }
   ],
   "source": [
    "# 在第0维度复制4份\n",
    "arr7.expand(4, 2, 3)"
   ]
  },
  {
   "cell_type": "code",
   "execution_count": 52,
   "metadata": {},
   "outputs": [
    {
     "data": {
      "text/plain": [
       "tensor([[[1., 1., 1.],\n",
       "         [1., 1., 1.]],\n",
       "\n",
       "        [[1., 1., 1.],\n",
       "         [1., 1., 1.]],\n",
       "\n",
       "        [[1., 1., 1.],\n",
       "         [1., 1., 1.]],\n",
       "\n",
       "        [[1., 1., 1.],\n",
       "         [1., 1., 1.]]])"
      ]
     },
     "execution_count": 52,
     "metadata": {},
     "output_type": "execute_result"
    }
   ],
   "source": [
    "# 在第0维度复制4份\n",
    "arr7.expand(4, -1, -1)"
   ]
  },
  {
   "attachments": {},
   "cell_type": "markdown",
   "metadata": {},
   "source": [
    "## tensor.repeat/tile(每个维度复制次数)"
   ]
  },
  {
   "cell_type": "code",
   "execution_count": 53,
   "metadata": {},
   "outputs": [
    {
     "data": {
      "text/plain": [
       "tensor([[[0.1440, 0.7815, 0.3129],\n",
       "         [0.7645, 0.6657, 0.6173]]])"
      ]
     },
     "execution_count": 53,
     "metadata": {},
     "output_type": "execute_result"
    }
   ],
   "source": [
    "arr8 = torch.rand(1, 2, 3)\n",
    "arr8"
   ]
  },
  {
   "cell_type": "code",
   "execution_count": 54,
   "metadata": {},
   "outputs": [
    {
     "data": {
      "text/plain": [
       "tensor([[[0.1440, 0.7815, 0.3129],\n",
       "         [0.7645, 0.6657, 0.6173]],\n",
       "\n",
       "        [[0.1440, 0.7815, 0.3129],\n",
       "         [0.7645, 0.6657, 0.6173]]])"
      ]
     },
     "execution_count": 54,
     "metadata": {},
     "output_type": "execute_result"
    }
   ],
   "source": [
    "arr8.repeat(2, 1, 1)"
   ]
  },
  {
   "cell_type": "code",
   "execution_count": 55,
   "metadata": {},
   "outputs": [
    {
     "data": {
      "text/plain": [
       "tensor([[[0.1440, 0.7815, 0.3129, 0.1440, 0.7815, 0.3129],\n",
       "         [0.7645, 0.6657, 0.6173, 0.7645, 0.6657, 0.6173],\n",
       "         [0.1440, 0.7815, 0.3129, 0.1440, 0.7815, 0.3129],\n",
       "         [0.7645, 0.6657, 0.6173, 0.7645, 0.6657, 0.6173]],\n",
       "\n",
       "        [[0.1440, 0.7815, 0.3129, 0.1440, 0.7815, 0.3129],\n",
       "         [0.7645, 0.6657, 0.6173, 0.7645, 0.6657, 0.6173],\n",
       "         [0.1440, 0.7815, 0.3129, 0.1440, 0.7815, 0.3129],\n",
       "         [0.7645, 0.6657, 0.6173, 0.7645, 0.6657, 0.6173]]])"
      ]
     },
     "execution_count": 55,
     "metadata": {},
     "output_type": "execute_result"
    }
   ],
   "source": [
    "arr8.repeat(2, 2, 2)"
   ]
  },
  {
   "cell_type": "code",
   "execution_count": 56,
   "metadata": {},
   "outputs": [
    {
     "data": {
      "text/plain": [
       "tensor([[[0.1440, 0.7815, 0.3129, 0.1440, 0.7815, 0.3129],\n",
       "         [0.7645, 0.6657, 0.6173, 0.7645, 0.6657, 0.6173],\n",
       "         [0.1440, 0.7815, 0.3129, 0.1440, 0.7815, 0.3129],\n",
       "         [0.7645, 0.6657, 0.6173, 0.7645, 0.6657, 0.6173]],\n",
       "\n",
       "        [[0.1440, 0.7815, 0.3129, 0.1440, 0.7815, 0.3129],\n",
       "         [0.7645, 0.6657, 0.6173, 0.7645, 0.6657, 0.6173],\n",
       "         [0.1440, 0.7815, 0.3129, 0.1440, 0.7815, 0.3129],\n",
       "         [0.7645, 0.6657, 0.6173, 0.7645, 0.6657, 0.6173]]])"
      ]
     },
     "execution_count": 56,
     "metadata": {},
     "output_type": "execute_result"
    }
   ],
   "source": [
    "arr8.tile(2, 2, 2)"
   ]
  },
  {
   "cell_type": "code",
   "execution_count": 57,
   "metadata": {},
   "outputs": [
    {
     "data": {
      "text/plain": [
       "tensor([[[True, True, True, True, True, True],\n",
       "         [True, True, True, True, True, True],\n",
       "         [True, True, True, True, True, True],\n",
       "         [True, True, True, True, True, True]],\n",
       "\n",
       "        [[True, True, True, True, True, True],\n",
       "         [True, True, True, True, True, True],\n",
       "         [True, True, True, True, True, True],\n",
       "         [True, True, True, True, True, True]]])"
      ]
     },
     "execution_count": 57,
     "metadata": {},
     "output_type": "execute_result"
    }
   ],
   "source": [
    "arr8.repeat(2, 2, 2) == arr8.tile(2, 2, 2)"
   ]
  },
  {
   "cell_type": "markdown",
   "metadata": {},
   "source": [
    "### 重复次数必须为正数,不能用-1代表默认"
   ]
  },
  {
   "cell_type": "code",
   "execution_count": 58,
   "metadata": {},
   "outputs": [
    {
     "ename": "RuntimeError",
     "evalue": "Trying to create tensor with negative dimension -2: [2, -2, -3]",
     "output_type": "error",
     "traceback": [
      "\u001b[1;31m---------------------------------------------------------------------------\u001b[0m",
      "\u001b[1;31mRuntimeError\u001b[0m                              Traceback (most recent call last)",
      "\u001b[1;32mc:\\Users\\Administrator\\Desktop\\self\\DL_\\Pytorch\\01_PyTorch基本\\02维度变换\\02 维度变换 contiguous view reshape t transpose permute expand repeat tile.ipynb 单元格 58\u001b[0m line \u001b[0;36m1\n\u001b[1;32m----> <a href='vscode-notebook-cell:/c%3A/Users/Administrator/Desktop/self/DL_/Pytorch/01_PyTorch%E5%9F%BA%E6%9C%AC/02%E7%BB%B4%E5%BA%A6%E5%8F%98%E6%8D%A2/02%20%E7%BB%B4%E5%BA%A6%E5%8F%98%E6%8D%A2%20contiguous%20view%20reshape%20t%20transpose%20permute%20expand%20repeat%20tile.ipynb#Y106sZmlsZQ%3D%3D?line=0'>1</a>\u001b[0m arr8\u001b[39m.\u001b[39;49mrepeat(\u001b[39m2\u001b[39;49m, \u001b[39m-\u001b[39;49m\u001b[39m1\u001b[39;49m, \u001b[39m-\u001b[39;49m\u001b[39m1\u001b[39;49m)\n",
      "\u001b[1;31mRuntimeError\u001b[0m: Trying to create tensor with negative dimension -2: [2, -2, -3]"
     ]
    }
   ],
   "source": [
    "arr8.repeat(2, -1, -1)"
   ]
  },
  {
   "cell_type": "code",
   "execution_count": null,
   "metadata": {},
   "outputs": [],
   "source": []
  }
 ],
 "metadata": {
  "kernelspec": {
   "display_name": "pytorch",
   "language": "python",
   "name": "python3"
  },
  "language_info": {
   "codemirror_mode": {
    "name": "ipython",
    "version": 3
   },
   "file_extension": ".py",
   "mimetype": "text/x-python",
   "name": "python",
   "nbconvert_exporter": "python",
   "pygments_lexer": "ipython3",
   "version": "3.10.10"
  },
  "orig_nbformat": 4,
  "vscode": {
   "interpreter": {
    "hash": "6e3a9582807446cfda6e60e7a572d3bab8c423d141a376f0e3f6f7956ef3b5a5"
   }
  }
 },
 "nbformat": 4,
 "nbformat_minor": 2
}
