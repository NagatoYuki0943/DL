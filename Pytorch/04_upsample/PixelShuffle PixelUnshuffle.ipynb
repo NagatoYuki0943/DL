{
 "cells": [
  {
   "cell_type": "markdown",
   "metadata": {},
   "source": [
    "https://arxiv.org/abs/1609.05158"
   ]
  },
  {
   "cell_type": "code",
   "execution_count": 23,
   "metadata": {},
   "outputs": [],
   "source": [
    "import torch\n",
    "from torch import nn\n",
    "import torch.nn.functional as F"
   ]
  },
  {
   "cell_type": "code",
   "execution_count": 24,
   "metadata": {},
   "outputs": [
    {
     "name": "stdout",
     "output_type": "stream",
     "text": [
      "torch.Size([1, 4, 5, 5])\n"
     ]
    },
    {
     "data": {
      "text/plain": [
       "tensor([[[[1., 1., 1., 1., 1.],\n",
       "          [1., 1., 1., 1., 1.],\n",
       "          [1., 1., 1., 1., 1.],\n",
       "          [1., 1., 1., 1., 1.],\n",
       "          [1., 1., 1., 1., 1.]],\n",
       "\n",
       "         [[2., 2., 2., 2., 2.],\n",
       "          [2., 2., 2., 2., 2.],\n",
       "          [2., 2., 2., 2., 2.],\n",
       "          [2., 2., 2., 2., 2.],\n",
       "          [2., 2., 2., 2., 2.]],\n",
       "\n",
       "         [[3., 3., 3., 3., 3.],\n",
       "          [3., 3., 3., 3., 3.],\n",
       "          [3., 3., 3., 3., 3.],\n",
       "          [3., 3., 3., 3., 3.],\n",
       "          [3., 3., 3., 3., 3.]],\n",
       "\n",
       "         [[4., 4., 4., 4., 4.],\n",
       "          [4., 4., 4., 4., 4.],\n",
       "          [4., 4., 4., 4., 4.],\n",
       "          [4., 4., 4., 4., 4.],\n",
       "          [4., 4., 4., 4., 4.]]]])"
      ]
     },
     "execution_count": 24,
     "metadata": {},
     "output_type": "execute_result"
    }
   ],
   "source": [
    "x = torch.ones(1, 1, 5, 5)\n",
    "x = torch.cat([x * i for i in range(1, 5)], dim=1)\n",
    "print(x.shape)\n",
    "x"
   ]
  },
  {
   "cell_type": "markdown",
   "metadata": {},
   "source": [
    "# PixelShuffle 上采样,通道减少,数据量不变\n",
    "\n",
    "Shape:\n",
    "- Input: `(*, C_{in}, H_{in}, W_{in})`, where * is zero or more batch dimensions\n",
    "- Output: `(*, C_{out}, H_{out}, W_{out})`, where\n",
    "\n",
    "$$\n",
    "C_{out} = C_{in} \\div \\text{upscale\\_factor}^2 \\\\\n",
    "\n",
    "H_{out} = H_{in} \\times \\text{upscale\\_factor} \\\\\n",
    "\n",
    "W_{out} = W_{in} \\times \\text{upscale\\_factor}\n",
    "$$\n",
    "\n",
    "![PixelShuffle](PixelShuffle.png)\n"
   ]
  },
  {
   "cell_type": "code",
   "execution_count": 25,
   "metadata": {},
   "outputs": [
    {
     "name": "stdout",
     "output_type": "stream",
     "text": [
      "torch.Size([1, 1, 10, 10])\n"
     ]
    },
    {
     "data": {
      "text/plain": [
       "tensor([[[[1., 2., 1., 2., 1., 2., 1., 2., 1., 2.],\n",
       "          [3., 4., 3., 4., 3., 4., 3., 4., 3., 4.],\n",
       "          [1., 2., 1., 2., 1., 2., 1., 2., 1., 2.],\n",
       "          [3., 4., 3., 4., 3., 4., 3., 4., 3., 4.],\n",
       "          [1., 2., 1., 2., 1., 2., 1., 2., 1., 2.],\n",
       "          [3., 4., 3., 4., 3., 4., 3., 4., 3., 4.],\n",
       "          [1., 2., 1., 2., 1., 2., 1., 2., 1., 2.],\n",
       "          [3., 4., 3., 4., 3., 4., 3., 4., 3., 4.],\n",
       "          [1., 2., 1., 2., 1., 2., 1., 2., 1., 2.],\n",
       "          [3., 4., 3., 4., 3., 4., 3., 4., 3., 4.]]]])"
      ]
     },
     "execution_count": 25,
     "metadata": {},
     "output_type": "execute_result"
    }
   ],
   "source": [
    "pixel_shuffle = nn.PixelShuffle(upscale_factor=2)\n",
    "y1 = pixel_shuffle(x)\n",
    "print(y1.shape)\n",
    "y1"
   ]
  },
  {
   "cell_type": "code",
   "execution_count": 26,
   "metadata": {},
   "outputs": [
    {
     "name": "stdout",
     "output_type": "stream",
     "text": [
      "torch.Size([1, 1, 10, 10])\n"
     ]
    },
    {
     "data": {
      "text/plain": [
       "tensor([[[[1., 2., 1., 2., 1., 2., 1., 2., 1., 2.],\n",
       "          [3., 4., 3., 4., 3., 4., 3., 4., 3., 4.],\n",
       "          [1., 2., 1., 2., 1., 2., 1., 2., 1., 2.],\n",
       "          [3., 4., 3., 4., 3., 4., 3., 4., 3., 4.],\n",
       "          [1., 2., 1., 2., 1., 2., 1., 2., 1., 2.],\n",
       "          [3., 4., 3., 4., 3., 4., 3., 4., 3., 4.],\n",
       "          [1., 2., 1., 2., 1., 2., 1., 2., 1., 2.],\n",
       "          [3., 4., 3., 4., 3., 4., 3., 4., 3., 4.],\n",
       "          [1., 2., 1., 2., 1., 2., 1., 2., 1., 2.],\n",
       "          [3., 4., 3., 4., 3., 4., 3., 4., 3., 4.]]]])"
      ]
     },
     "execution_count": 26,
     "metadata": {},
     "output_type": "execute_result"
    }
   ],
   "source": [
    "y2 = F.pixel_shuffle(x, upscale_factor=2)\n",
    "print(y2.shape)\n",
    "y2"
   ]
  },
  {
   "cell_type": "code",
   "execution_count": 27,
   "metadata": {},
   "outputs": [
    {
     "data": {
      "text/plain": [
       "tensor(True)"
      ]
     },
     "execution_count": 27,
     "metadata": {},
     "output_type": "execute_result"
    }
   ],
   "source": [
    "torch.all(y1 == y2)"
   ]
  },
  {
   "cell_type": "markdown",
   "metadata": {},
   "source": [
    "# PixelUnshuffle 下采样,通道增多,数据量不变\n",
    "\n",
    "Shape:\n",
    "- Input: `(*, C_{in}, H_{in}, W_{in})`, where * is zero or more batch dimensions\n",
    "- Output: `(*, C_{out}, H_{out}, W_{out})`, where\n",
    "\n",
    "$$\n",
    "C_{out} = C_{in} \\times \\text{downscale\\_factor}^2 \\\\\n",
    "\n",
    "H_{out} = H_{in} \\div \\text{downscale\\_factor} \\\\\n",
    "\n",
    "W_{out} = W_{in} \\div \\text{downscale\\_factor}\n",
    "$$"
   ]
  },
  {
   "cell_type": "code",
   "execution_count": 28,
   "metadata": {},
   "outputs": [
    {
     "name": "stdout",
     "output_type": "stream",
     "text": [
      "torch.Size([1, 4, 5, 5])\n"
     ]
    },
    {
     "data": {
      "text/plain": [
       "tensor([[[[1., 1., 1., 1., 1.],\n",
       "          [1., 1., 1., 1., 1.],\n",
       "          [1., 1., 1., 1., 1.],\n",
       "          [1., 1., 1., 1., 1.],\n",
       "          [1., 1., 1., 1., 1.]],\n",
       "\n",
       "         [[2., 2., 2., 2., 2.],\n",
       "          [2., 2., 2., 2., 2.],\n",
       "          [2., 2., 2., 2., 2.],\n",
       "          [2., 2., 2., 2., 2.],\n",
       "          [2., 2., 2., 2., 2.]],\n",
       "\n",
       "         [[3., 3., 3., 3., 3.],\n",
       "          [3., 3., 3., 3., 3.],\n",
       "          [3., 3., 3., 3., 3.],\n",
       "          [3., 3., 3., 3., 3.],\n",
       "          [3., 3., 3., 3., 3.]],\n",
       "\n",
       "         [[4., 4., 4., 4., 4.],\n",
       "          [4., 4., 4., 4., 4.],\n",
       "          [4., 4., 4., 4., 4.],\n",
       "          [4., 4., 4., 4., 4.],\n",
       "          [4., 4., 4., 4., 4.]]]])"
      ]
     },
     "execution_count": 28,
     "metadata": {},
     "output_type": "execute_result"
    }
   ],
   "source": [
    "pixel_unshuffle = nn.PixelUnshuffle(downscale_factor=2)\n",
    "x1 = pixel_unshuffle(y1)\n",
    "print(x1.shape)\n",
    "x1"
   ]
  },
  {
   "cell_type": "code",
   "execution_count": 29,
   "metadata": {},
   "outputs": [
    {
     "name": "stdout",
     "output_type": "stream",
     "text": [
      "torch.Size([1, 4, 5, 5])\n"
     ]
    },
    {
     "data": {
      "text/plain": [
       "tensor([[[[1., 1., 1., 1., 1.],\n",
       "          [1., 1., 1., 1., 1.],\n",
       "          [1., 1., 1., 1., 1.],\n",
       "          [1., 1., 1., 1., 1.],\n",
       "          [1., 1., 1., 1., 1.]],\n",
       "\n",
       "         [[2., 2., 2., 2., 2.],\n",
       "          [2., 2., 2., 2., 2.],\n",
       "          [2., 2., 2., 2., 2.],\n",
       "          [2., 2., 2., 2., 2.],\n",
       "          [2., 2., 2., 2., 2.]],\n",
       "\n",
       "         [[3., 3., 3., 3., 3.],\n",
       "          [3., 3., 3., 3., 3.],\n",
       "          [3., 3., 3., 3., 3.],\n",
       "          [3., 3., 3., 3., 3.],\n",
       "          [3., 3., 3., 3., 3.]],\n",
       "\n",
       "         [[4., 4., 4., 4., 4.],\n",
       "          [4., 4., 4., 4., 4.],\n",
       "          [4., 4., 4., 4., 4.],\n",
       "          [4., 4., 4., 4., 4.],\n",
       "          [4., 4., 4., 4., 4.]]]])"
      ]
     },
     "execution_count": 29,
     "metadata": {},
     "output_type": "execute_result"
    }
   ],
   "source": [
    "x2 = F.pixel_unshuffle(y2, downscale_factor=2)\n",
    "print(x2.shape)\n",
    "x2"
   ]
  },
  {
   "cell_type": "code",
   "execution_count": 30,
   "metadata": {},
   "outputs": [
    {
     "data": {
      "text/plain": [
       "(tensor(True), tensor(True))"
      ]
     },
     "execution_count": 30,
     "metadata": {},
     "output_type": "execute_result"
    }
   ],
   "source": [
    "torch.all(x == x1), torch.all(x1 == x2)"
   ]
  },
  {
   "cell_type": "code",
   "execution_count": null,
   "metadata": {},
   "outputs": [],
   "source": []
  }
 ],
 "metadata": {
  "kernelspec": {
   "display_name": "pytorch",
   "language": "python",
   "name": "python3"
  },
  "language_info": {
   "codemirror_mode": {
    "name": "ipython",
    "version": 3
   },
   "file_extension": ".py",
   "mimetype": "text/x-python",
   "name": "python",
   "nbconvert_exporter": "python",
   "pygments_lexer": "ipython3",
   "version": "3.11.4"
  }
 },
 "nbformat": 4,
 "nbformat_minor": 2
}
