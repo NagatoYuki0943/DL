{
 "cells": [
  {
   "cell_type": "code",
   "execution_count": 45,
   "metadata": {},
   "outputs": [],
   "source": [
    "import torch\n",
    "from torch import nn\n",
    "import matplotlib.pyplot as plt"
   ]
  },
  {
   "cell_type": "markdown",
   "metadata": {},
   "source": [
    "# 转置卷积\n",
    "\n",
    "https://distill.pub/2016/deconv-checkerboard/\n",
    "\n",
    "元素之间: s-1行/列\n",
    "\n",
    "元素四周: k-p-1行/列\n",
    "\n",
    "卷积核上下左右翻转\n",
    "\n",
    "做正常卷积 p=0 s=1\n",
    "\n",
    "out  0指的是高度方向 1指的是宽度方向\n",
    "- Hout = (Hin - 1) * stride[0] - 2 * padding[0] + kernelsize[0]\n",
    "- Wout = (Win - 1) * stride[1] - 2 * padding[1] + kernelsize[1]"
   ]
  },
  {
   "cell_type": "code",
   "execution_count": 60,
   "metadata": {},
   "outputs": [],
   "source": [
    "x = torch.ones(1, 3, 4, 4)"
   ]
  },
  {
   "cell_type": "code",
   "execution_count": 68,
   "metadata": {},
   "outputs": [
    {
     "data": {
      "text/plain": [
       "torch.Size([1, 16, 8, 8])"
      ]
     },
     "execution_count": 68,
     "metadata": {},
     "output_type": "execute_result"
    }
   ],
   "source": [
    "# centernet https://github.com/bubbliiiing/centernet-pytorch/blob/main/nets/resnet50.py#L155\n",
    "# (4 - 1) * 2 - 2 * 1 + 4 = 6 - 2 + 4 = 8\n",
    "# (h - 1) * 2 - 2 * 1 + 4 = h * 2 - 2 - 2 + 4 = h * 2\n",
    "model = nn.ConvTranspose2d(3, 16, kernel_size=4, stride=2, padding=1)\n",
    "model(x).size()"
   ]
  },
  {
   "cell_type": "code",
   "execution_count": 62,
   "metadata": {},
   "outputs": [
    {
     "data": {
      "text/plain": [
       "torch.Size([1, 16, 8, 8])"
      ]
     },
     "execution_count": 62,
     "metadata": {},
     "output_type": "execute_result"
    }
   ],
   "source": [
    "# (4 - 1) * 2 - 2 * 0 + 2 = 6 + 2 = 8\n",
    "# (h - 1) * 2 + 2 = h * 2 - 2 + 2 = h * 2\n",
    "model = nn.ConvTranspose2d(3, 16, kernel_size=2, stride=2, padding=0)\n",
    "model(x).size()"
   ]
  },
  {
   "cell_type": "code",
   "execution_count": 71,
   "metadata": {},
   "outputs": [
    {
     "data": {
      "text/plain": [
       "torch.Size([1, 16, 12, 12])"
      ]
     },
     "execution_count": 71,
     "metadata": {},
     "output_type": "execute_result"
    }
   ],
   "source": [
    "# (4 - 1) * 3 - 2 * 1 + 5 = 9 - 2 + 5 = 12\n",
    "# (h - 1) * 3 - 2 * 1 + 5 = h * 3 - 3 - 2 + 5 = h * 3\n",
    "model = nn.ConvTranspose2d(3, 16, kernel_size=5, stride=3, padding=1)\n",
    "model(x).size()"
   ]
  },
  {
   "cell_type": "code",
   "execution_count": 72,
   "metadata": {},
   "outputs": [
    {
     "data": {
      "text/plain": [
       "torch.Size([1, 16, 12, 12])"
      ]
     },
     "execution_count": 72,
     "metadata": {},
     "output_type": "execute_result"
    }
   ],
   "source": [
    "# (4 - 1) * 3 - 2 * 0 + 3 = 9 + 3 = 12\n",
    "# (h - 1) * 3 - 2 * 0 + 3 = h * 3 - 3 + 3 = h * 3\n",
    "model = nn.ConvTranspose2d(3, 16, kernel_size=3, stride=3, padding=0)\n",
    "model(x).size()"
   ]
  },
  {
   "cell_type": "code",
   "execution_count": 64,
   "metadata": {},
   "outputs": [
    {
     "data": {
      "text/plain": [
       "torch.Size([1, 16, 6, 6])"
      ]
     },
     "execution_count": 64,
     "metadata": {},
     "output_type": "execute_result"
    }
   ],
   "source": [
    "# (4 - 1) * 1 - 2 * 0 + 3 = 3 + 3 = 6\n",
    "# (h - 1) * 1 - 2 * 0 + 3 = h - 1 + 3 = h + 2\n",
    "model = nn.ConvTranspose2d(3, 16, kernel_size=3, stride=1, padding=0)\n",
    "model(x).size()"
   ]
  },
  {
   "cell_type": "code",
   "execution_count": 65,
   "metadata": {},
   "outputs": [
    {
     "data": {
      "text/plain": [
       "torch.Size([1, 16, 9, 9])"
      ]
     },
     "execution_count": 65,
     "metadata": {},
     "output_type": "execute_result"
    }
   ],
   "source": [
    "# (4 - 1) * 2 - 2 * 0 + 3 = 6 + 3 = 9\n",
    "# (h - 1) * 2 - 2 * 0 + 3 = h * 2 - 2 + 3 = h * 2 + 1\n",
    "model = nn.ConvTranspose2d(3, 16, kernel_size=3, stride=2, padding=0)\n",
    "model(x).size()"
   ]
  },
  {
   "cell_type": "code",
   "execution_count": 66,
   "metadata": {},
   "outputs": [
    {
     "data": {
      "text/plain": [
       "torch.Size([1, 16, 7, 7])"
      ]
     },
     "execution_count": 66,
     "metadata": {},
     "output_type": "execute_result"
    }
   ],
   "source": [
    "# (4 - 1) * 2 - 2 * 1 + 3 = 6 - 2 + 3 = 7\n",
    "# (h - 1) * 2 - 2 * 1 + 3 = h * 2 - 2 - 2 + 3 = h * 2 - 1\n",
    "model = nn.ConvTranspose2d(3, 16, kernel_size=3, stride=2, padding=1)\n",
    "model(x).size()"
   ]
  },
  {
   "cell_type": "code",
   "execution_count": 67,
   "metadata": {},
   "outputs": [
    {
     "data": {
      "text/plain": [
       "torch.Size([1, 16, 10, 10])"
      ]
     },
     "execution_count": 67,
     "metadata": {},
     "output_type": "execute_result"
    }
   ],
   "source": [
    "# (4 - 1) * 2 - 2 * 0 + 4 = 6 + 4 = 10\n",
    "# (h - 1) * 2 - 2 * 0 + 4 = h * 2 - 2 + 4 = h * 2 + 2\n",
    "model = nn.ConvTranspose2d(3, 16, kernel_size=4, stride=2, padding=0)\n",
    "model(x).size()"
   ]
  },
  {
   "cell_type": "code",
   "execution_count": null,
   "metadata": {},
   "outputs": [],
   "source": []
  }
 ],
 "metadata": {
  "kernelspec": {
   "display_name": "pytorch",
   "language": "python",
   "name": "python3"
  },
  "language_info": {
   "codemirror_mode": {
    "name": "ipython",
    "version": 3
   },
   "file_extension": ".py",
   "mimetype": "text/x-python",
   "name": "python",
   "nbconvert_exporter": "python",
   "pygments_lexer": "ipython3",
   "version": "3.11.4"
  },
  "orig_nbformat": 4
 },
 "nbformat": 4,
 "nbformat_minor": 2
}
