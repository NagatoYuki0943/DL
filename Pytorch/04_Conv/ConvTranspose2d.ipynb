{
 "cells": [
  {
   "cell_type": "code",
   "execution_count": 3,
   "metadata": {},
   "outputs": [],
   "source": [
    "import torch\n",
    "from torch import nn\n",
    "import matplotlib.pyplot as plt"
   ]
  },
  {
   "cell_type": "markdown",
   "metadata": {},
   "source": [
    "Shape:\n",
    "- Input: :math:`(N, C_{in}, H_{in}, W_{in})` or :math:`(C_{in}, H_{in}, W_{in})`\n",
    "- Output: :math:`(N, C_{out}, H_{out}, W_{out})` or :math:`(C_{out}, H_{out}, W_{out})`, where\n",
    "\n",
    "$$\n",
    "H_{out} = (H_{in} - 1) \\times \\text{stride}[0] - 2 \\times \\text{padding}[0] + \\text{dilation}[0]\n",
    "        \\times (\\text{kernel\\_size}[0] - 1) + \\text{output\\_padding}[0] + 1\n",
    "$$\n",
    "\n",
    "$$\n",
    "W_{out} = (W_{in} - 1) \\times \\text{stride}[1] - 2 \\times \\text{padding}[1] + \\text{dilation}[1]\n",
    "            \\times (\\text{kernel\\_size}[1] - 1) + \\text{output\\_padding}[1] + 1\n",
    "$$"
   ]
  },
  {
   "cell_type": "markdown",
   "metadata": {},
   "source": [
    "# 转置卷积\n",
    "\n",
    "https://distill.pub/2016/deconv-checkerboard/\n",
    "\n",
    "元素之间: s-1行/列\n",
    "\n",
    "元素四周: k-p-1行/列\n",
    "\n",
    "卷积核上下左右翻转"
   ]
  },
  {
   "cell_type": "code",
   "execution_count": 4,
   "metadata": {},
   "outputs": [
    {
     "data": {
      "text/plain": [
       "ConvTranspose2d(3, 16, kernel_size=(3, 3), stride=(1, 1))"
      ]
     },
     "execution_count": 4,
     "metadata": {},
     "output_type": "execute_result"
    }
   ],
   "source": [
    "nn.ConvTranspose2d(\n",
    "    3,\n",
    "    16,\n",
    "    kernel_size=3,\n",
    "    stride=1,\n",
    "    padding=0,\n",
    "    output_padding=0,\n",
    "    dilation=1,\n",
    "    groups=1,\n",
    "    bias=True,\n",
    ")"
   ]
  },
  {
   "cell_type": "code",
   "execution_count": 5,
   "metadata": {},
   "outputs": [],
   "source": [
    "x = torch.ones(1, 3, 4, 4)"
   ]
  },
  {
   "cell_type": "code",
   "execution_count": 6,
   "metadata": {},
   "outputs": [
    {
     "data": {
      "text/plain": [
       "torch.Size([1, 16, 6, 6])"
      ]
     },
     "execution_count": 6,
     "metadata": {},
     "output_type": "execute_result"
    }
   ],
   "source": [
    "# (4 - 1) * 1 - 2 * 0 + 1 * (3 - 1) + 1 = 3 - 0 + 2 + 1 = 6\n",
    "# (h - 1) * 1 - 2 * 0 + 1 * (3 - 1) + 1 = h - 1 - 0 + 2 + 1 + 2\n",
    "model = nn.ConvTranspose2d(3, 16, kernel_size=3, stride=1)\n",
    "model(x).size()"
   ]
  },
  {
   "cell_type": "code",
   "execution_count": 7,
   "metadata": {},
   "outputs": [
    {
     "data": {
      "text/plain": [
       "torch.Size([1, 16, 8, 8])"
      ]
     },
     "execution_count": 7,
     "metadata": {},
     "output_type": "execute_result"
    }
   ],
   "source": [
    "# centernet https://github.com/bubbliiiing/centernet-pytorch/blob/main/nets/resnet50.py#L155\n",
    "# (4 - 1) * 2 - 2 * 1 + 1 * (4 - 1) + 0 + 1 = 6 - 2 + 3 + 0 + 1 = 8\n",
    "# (h - 1) * 2 - 2 * 1 + 1 * (4 - 1) + 0 + 1 = h * 2 - 2 - 2 + 3 + 0 + 1 = h * 2\n",
    "model = nn.ConvTranspose2d(3, 16, kernel_size=4, stride=2, padding=1)\n",
    "model(x).size()"
   ]
  },
  {
   "cell_type": "code",
   "execution_count": 8,
   "metadata": {},
   "outputs": [
    {
     "data": {
      "text/plain": [
       "torch.Size([1, 16, 8, 8])"
      ]
     },
     "execution_count": 8,
     "metadata": {},
     "output_type": "execute_result"
    }
   ],
   "source": [
    "# (4 - 1) * 2 - 2 * 1 + 1 * (3 - 1) + 1 + 1 = 6 - 2 + 2 + 1 + 1 = 8\n",
    "# (h - 1) * 2 - 2 * 1 + 1 * (3 - 1) + 1 + 1 = h * 2 - 2 - 2 + 2 + 1 + 1 = h * 2\n",
    "model = nn.ConvTranspose2d(3, 16, kernel_size=3, stride=2, padding=1, output_padding=1)\n",
    "model(x).size()"
   ]
  },
  {
   "cell_type": "code",
   "execution_count": 9,
   "metadata": {},
   "outputs": [
    {
     "data": {
      "text/plain": [
       "torch.Size([1, 16, 8, 8])"
      ]
     },
     "execution_count": 9,
     "metadata": {},
     "output_type": "execute_result"
    }
   ],
   "source": [
    "# (4 - 1) * 2 - 2 * 0 + 1 * (2 - 1) + 0 + 1 = 6 - 0 + 1 + 0 + 1 = 8\n",
    "# (h - 1) * 2 - 2 * 0 + 1 * (2 - 1) + 0 + 1 = h * 2 - 2 - 0 + 1 + 0 + 1 = h * 2\n",
    "model = nn.ConvTranspose2d(3, 16, kernel_size=2, stride=2)\n",
    "model(x).size()"
   ]
  },
  {
   "cell_type": "code",
   "execution_count": 21,
   "metadata": {},
   "outputs": [
    {
     "data": {
      "text/plain": [
       "torch.Size([1, 16, 30, 30])"
      ]
     },
     "execution_count": 21,
     "metadata": {},
     "output_type": "execute_result"
    }
   ],
   "source": [
    "# (4 - 1) * 3 - 2 * 1 + 1 * (5 - 1) + 0 + 1 = 9 - 2 + 4 + 0 + 1 = 12\n",
    "# (h - 1) * 3 - 2 * 1 + 1 * (5 - 1) + 0 + 1 = h * 3 - 3 - 2 + 4 + 0 + 1 = h * 3\n",
    "model = nn.ConvTranspose2d(3, 16, kernel_size=5, stride=3, padding=1)\n",
    "model(x).size()"
   ]
  },
  {
   "cell_type": "code",
   "execution_count": 11,
   "metadata": {},
   "outputs": [
    {
     "data": {
      "text/plain": [
       "torch.Size([1, 16, 12, 12])"
      ]
     },
     "execution_count": 11,
     "metadata": {},
     "output_type": "execute_result"
    }
   ],
   "source": [
    "# (4 - 1) * 3 - 2 * 0 + 1 * (3 - 1) + 0 + 1 = 9 - 0 + 2 + 0 + 1 = 12\n",
    "# (h - 1) * 3 - 2 * 0 + 1 * (3 - 1) + 0 + 1 =h * 3 - 3 - 0 + 2 + 0 + 1 = h * 3\n",
    "model = nn.ConvTranspose2d(3, 16, kernel_size=3, stride=3)\n",
    "model(x).size()"
   ]
  },
  {
   "cell_type": "code",
   "execution_count": 12,
   "metadata": {},
   "outputs": [
    {
     "data": {
      "text/plain": [
       "torch.Size([1, 16, 9, 9])"
      ]
     },
     "execution_count": 12,
     "metadata": {},
     "output_type": "execute_result"
    }
   ],
   "source": [
    "# (4 - 1) * 2 - 2 * 0 + 1 * (3 - 1) + 0 + 1 = 6 - 0 + 2 + 0 + 1 = 9\n",
    "# (h - 1) * 2 - 2 * 0 + 1 * (3 - 1) + 0 + 1 = h * 2 - 2 - 0 + 2 + 0 + 1 = h * 2 + 1\n",
    "model = nn.ConvTranspose2d(3, 16, kernel_size=3, stride=2)\n",
    "model(x).size()"
   ]
  },
  {
   "cell_type": "code",
   "execution_count": 13,
   "metadata": {},
   "outputs": [
    {
     "data": {
      "text/plain": [
       "torch.Size([1, 16, 7, 7])"
      ]
     },
     "execution_count": 13,
     "metadata": {},
     "output_type": "execute_result"
    }
   ],
   "source": [
    "# (4 - 1) * 2 - 2 * 1 + 1 * (3 - 1) + 0 + 1 = 6 - 2 + 2 + 0 + 1 = 7\n",
    "# (h - 1) * 2 - 2 * 1 + 1 * (3 - 1) + 0 + 1 = h * 2 - 2 - 2 + 2 + 0 + 1 = h * 2 - 1\n",
    "model = nn.ConvTranspose2d(3, 16, kernel_size=3, stride=2, padding=1)\n",
    "model(x).size()"
   ]
  },
  {
   "cell_type": "code",
   "execution_count": 14,
   "metadata": {},
   "outputs": [
    {
     "data": {
      "text/plain": [
       "torch.Size([1, 16, 10, 10])"
      ]
     },
     "execution_count": 14,
     "metadata": {},
     "output_type": "execute_result"
    }
   ],
   "source": [
    "# (4 - 1) * 2 + 2 * 0 + 1 * (4 - 1) + 0 + 1 = 6 + 0 + 3 + 0 + 1 = 10\n",
    "# (h - 1) * 2 + 2 * 0 + 1 * (4 - 1) + 0 + 1 = h * 2 - 2 + 0 + 3 + 0 + 1 = h * 2 + 2\n",
    "model = nn.ConvTranspose2d(3, 16, kernel_size=4, stride=2)\n",
    "model(x).size()"
   ]
  },
  {
   "cell_type": "markdown",
   "metadata": {},
   "source": [
    "# TransposeConvNormAct"
   ]
  },
  {
   "cell_type": "code",
   "execution_count": 15,
   "metadata": {},
   "outputs": [],
   "source": [
    "class TransposeConvNormAct(nn.Module):\n",
    "    def __init__(\n",
    "        self,\n",
    "        in_channels: int,\n",
    "        out_channels: int,\n",
    "        kernel_size: int = 3,\n",
    "        stride: int = 1,\n",
    "        padding: int = 0,\n",
    "        output_padding: int = 0,\n",
    "        dilation: int = 1,\n",
    "        groups: int = 1,\n",
    "        bias: bool = True,\n",
    "        norm: nn.Module = nn.BatchNorm2d,\n",
    "        act: nn.Module = nn.ReLU,\n",
    "    ) -> None:\n",
    "        super().__init__()\n",
    "        assert in_channels % groups == 0\n",
    "        assert out_channels % groups == 0\n",
    "        self.conv = nn.ConvTranspose2d(\n",
    "            in_channels,\n",
    "            out_channels,\n",
    "            kernel_size,\n",
    "            stride=stride,\n",
    "            padding=padding,\n",
    "            output_padding=output_padding,\n",
    "            dilation=dilation,\n",
    "            groups=groups,\n",
    "            bias=bias,\n",
    "        )\n",
    "        self.norm = norm(out_channels)\n",
    "        self.act = act()\n",
    "\n",
    "    def forward(self, x: torch.Tensor) -> torch.Tensor:\n",
    "        return self.act(self.norm(self.conv(x)))"
   ]
  },
  {
   "cell_type": "code",
   "execution_count": 16,
   "metadata": {},
   "outputs": [],
   "source": [
    "x = torch.randn(1, 3, 10, 10)"
   ]
  },
  {
   "cell_type": "code",
   "execution_count": 17,
   "metadata": {},
   "outputs": [
    {
     "name": "stdout",
     "output_type": "stream",
     "text": [
      "torch.Size([1, 4, 12, 12])\n"
     ]
    }
   ],
   "source": [
    "model = TransposeConvNormAct(\n",
    "    in_channels=3, out_channels=4, kernel_size=3, stride=1\n",
    ").eval()\n",
    "with torch.inference_mode():\n",
    "    print(model(x).shape)  # [1, 4, 12, 12]"
   ]
  },
  {
   "cell_type": "code",
   "execution_count": 18,
   "metadata": {},
   "outputs": [
    {
     "name": "stdout",
     "output_type": "stream",
     "text": [
      "torch.Size([1, 4, 19, 19])\n"
     ]
    }
   ],
   "source": [
    "model = TransposeConvNormAct(\n",
    "    in_channels=3, out_channels=4, kernel_size=3, stride=2, padding=1\n",
    ").eval()\n",
    "with torch.inference_mode():\n",
    "    print(model(x).shape)  # [1, 4, 19, 19]"
   ]
  },
  {
   "cell_type": "code",
   "execution_count": 19,
   "metadata": {},
   "outputs": [
    {
     "name": "stdout",
     "output_type": "stream",
     "text": [
      "torch.Size([1, 4, 20, 20])\n"
     ]
    }
   ],
   "source": [
    "model = TransposeConvNormAct(\n",
    "    in_channels=3, out_channels=4, kernel_size=3, stride=2, padding=1, output_padding=1\n",
    ").eval()\n",
    "with torch.inference_mode():\n",
    "    print(model(x).shape)  # [1, 4, 20, 20]"
   ]
  },
  {
   "cell_type": "code",
   "execution_count": 20,
   "metadata": {},
   "outputs": [
    {
     "name": "stdout",
     "output_type": "stream",
     "text": [
      "torch.Size([1, 4, 20, 20])\n"
     ]
    }
   ],
   "source": [
    "model = TransposeConvNormAct(\n",
    "    in_channels=3, out_channels=4, kernel_size=4, stride=2, padding=1\n",
    ").eval()\n",
    "with torch.inference_mode():\n",
    "    print(model(x).shape)  # [1, 4, 20, 20]"
   ]
  },
  {
   "cell_type": "code",
   "execution_count": null,
   "metadata": {},
   "outputs": [],
   "source": []
  }
 ],
 "metadata": {
  "kernelspec": {
   "display_name": "pytorch",
   "language": "python",
   "name": "python3"
  },
  "language_info": {
   "codemirror_mode": {
    "name": "ipython",
    "version": 3
   },
   "file_extension": ".py",
   "mimetype": "text/x-python",
   "name": "python",
   "nbconvert_exporter": "python",
   "pygments_lexer": "ipython3",
   "version": "3.11.4"
  },
  "orig_nbformat": 4
 },
 "nbformat": 4,
 "nbformat_minor": 2
}
