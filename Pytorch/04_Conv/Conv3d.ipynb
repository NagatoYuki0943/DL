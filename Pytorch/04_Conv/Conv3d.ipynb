{
 "cells": [
  {
   "cell_type": "code",
   "execution_count": 1,
   "metadata": {},
   "outputs": [],
   "source": [
    "import torch\n",
    "from torch import nn\n",
    "from torch.nn import functional as F"
   ]
  },
  {
   "attachments": {},
   "cell_type": "markdown",
   "metadata": {},
   "source": [
    "# 实例化Conv3d"
   ]
  },
  {
   "cell_type": "code",
   "execution_count": 2,
   "metadata": {},
   "outputs": [
    {
     "data": {
      "text/plain": [
       "Conv3d(3, 1, kernel_size=(3, 3, 3), stride=(2, 2, 2), padding=(1, 1, 1))"
      ]
     },
     "execution_count": 2,
     "metadata": {},
     "output_type": "execute_result"
    }
   ],
   "source": [
    "conv3d = nn.Conv3d(\n",
    "    in_channels=3,\n",
    "    out_channels=1,\n",
    "    kernel_size=3,\n",
    "    stride=2,\n",
    "    padding=1,\n",
    "    dilation=1,\n",
    "    groups=1,\n",
    "    bias=True,\n",
    ")\n",
    "conv3d.eval()"
   ]
  },
  {
   "cell_type": "markdown",
   "metadata": {},
   "source": [
    "## 初始化方式1"
   ]
  },
  {
   "cell_type": "code",
   "execution_count": 3,
   "metadata": {},
   "outputs": [],
   "source": [
    "def init_weights(m):\n",
    "    if type(m) == nn.Conv3d:\n",
    "        nn.init.normal_(m.weight, mean=0, std=0.01)"
   ]
  },
  {
   "cell_type": "code",
   "execution_count": 4,
   "metadata": {},
   "outputs": [
    {
     "data": {
      "text/plain": [
       "Conv3d(3, 1, kernel_size=(3, 3, 3), stride=(2, 2, 2), padding=(1, 1, 1))"
      ]
     },
     "execution_count": 4,
     "metadata": {},
     "output_type": "execute_result"
    }
   ],
   "source": [
    "conv3d.apply(init_weights)"
   ]
  },
  {
   "attachments": {},
   "cell_type": "markdown",
   "metadata": {},
   "source": [
    "# 查看并设置Conv3d的weight和bias(初始化方式2)"
   ]
  },
  {
   "cell_type": "code",
   "execution_count": 3,
   "metadata": {},
   "outputs": [
    {
     "data": {
      "text/plain": [
       "tensor([[[[[ 0.0130,  0.0005, -0.0251],\n",
       "           [ 0.0013, -0.0079, -0.0027],\n",
       "           [ 0.0066,  0.0019, -0.0061]],\n",
       "\n",
       "          [[ 0.0119,  0.0108,  0.0127],\n",
       "           [-0.0009, -0.0138,  0.0039],\n",
       "           [ 0.0081,  0.0155, -0.0055]],\n",
       "\n",
       "          [[ 0.0015, -0.0004,  0.0063],\n",
       "           [ 0.0026,  0.0003,  0.0192],\n",
       "           [-0.0112,  0.0040, -0.0186]]],\n",
       "\n",
       "\n",
       "         [[[ 0.0128,  0.0096, -0.0022],\n",
       "           [ 0.0245,  0.0027,  0.0029],\n",
       "           [-0.0060,  0.0039,  0.0143]],\n",
       "\n",
       "          [[ 0.0018,  0.0091, -0.0112],\n",
       "           [-0.0140,  0.0196, -0.0042],\n",
       "           [ 0.0119, -0.0039, -0.0082]],\n",
       "\n",
       "          [[-0.0135, -0.0197,  0.0205],\n",
       "           [-0.0014, -0.0056, -0.0043],\n",
       "           [ 0.0185, -0.0067,  0.0120]]],\n",
       "\n",
       "\n",
       "         [[[ 0.0133,  0.0077,  0.0057],\n",
       "           [-0.0059, -0.0117, -0.0005],\n",
       "           [ 0.0039,  0.0153, -0.0063]],\n",
       "\n",
       "          [[-0.0184,  0.0109,  0.0058],\n",
       "           [-0.0122,  0.0056, -0.0076],\n",
       "           [ 0.0045, -0.0099,  0.0134]],\n",
       "\n",
       "          [[ 0.0024, -0.0024, -0.0037],\n",
       "           [ 0.0154,  0.0250, -0.0137],\n",
       "           [-0.0089,  0.0080, -0.0046]]]]])"
      ]
     },
     "execution_count": 3,
     "metadata": {},
     "output_type": "execute_result"
    }
   ],
   "source": [
    "conv3d.weight.data.normal_(0, 0.01)"
   ]
  },
  {
   "cell_type": "code",
   "execution_count": 4,
   "metadata": {},
   "outputs": [
    {
     "data": {
      "text/plain": [
       "tensor([[[[[ 0.0130,  0.0005, -0.0251],\n",
       "           [ 0.0013, -0.0079, -0.0027],\n",
       "           [ 0.0066,  0.0019, -0.0061]],\n",
       "\n",
       "          [[ 0.0119,  0.0108,  0.0127],\n",
       "           [-0.0009, -0.0138,  0.0039],\n",
       "           [ 0.0081,  0.0155, -0.0055]],\n",
       "\n",
       "          [[ 0.0015, -0.0004,  0.0063],\n",
       "           [ 0.0026,  0.0003,  0.0192],\n",
       "           [-0.0112,  0.0040, -0.0186]]],\n",
       "\n",
       "\n",
       "         [[[ 0.0128,  0.0096, -0.0022],\n",
       "           [ 0.0245,  0.0027,  0.0029],\n",
       "           [-0.0060,  0.0039,  0.0143]],\n",
       "\n",
       "          [[ 0.0018,  0.0091, -0.0112],\n",
       "           [-0.0140,  0.0196, -0.0042],\n",
       "           [ 0.0119, -0.0039, -0.0082]],\n",
       "\n",
       "          [[-0.0135, -0.0197,  0.0205],\n",
       "           [-0.0014, -0.0056, -0.0043],\n",
       "           [ 0.0185, -0.0067,  0.0120]]],\n",
       "\n",
       "\n",
       "         [[[ 0.0133,  0.0077,  0.0057],\n",
       "           [-0.0059, -0.0117, -0.0005],\n",
       "           [ 0.0039,  0.0153, -0.0063]],\n",
       "\n",
       "          [[-0.0184,  0.0109,  0.0058],\n",
       "           [-0.0122,  0.0056, -0.0076],\n",
       "           [ 0.0045, -0.0099,  0.0134]],\n",
       "\n",
       "          [[ 0.0024, -0.0024, -0.0037],\n",
       "           [ 0.0154,  0.0250, -0.0137],\n",
       "           [-0.0089,  0.0080, -0.0046]]]]])"
      ]
     },
     "execution_count": 4,
     "metadata": {},
     "output_type": "execute_result"
    }
   ],
   "source": [
    "conv3d.weight.data"
   ]
  },
  {
   "cell_type": "code",
   "execution_count": 5,
   "metadata": {},
   "outputs": [
    {
     "data": {
      "text/plain": [
       "tensor([0.])"
      ]
     },
     "execution_count": 5,
     "metadata": {},
     "output_type": "execute_result"
    }
   ],
   "source": [
    "conv3d.bias.data.fill_(0)"
   ]
  },
  {
   "cell_type": "code",
   "execution_count": 6,
   "metadata": {},
   "outputs": [
    {
     "data": {
      "text/plain": [
       "tensor([0.])"
      ]
     },
     "execution_count": 6,
     "metadata": {},
     "output_type": "execute_result"
    }
   ],
   "source": [
    "conv3d.bias.data"
   ]
  },
  {
   "attachments": {},
   "cell_type": "markdown",
   "metadata": {},
   "source": [
    "# 自动推理"
   ]
  },
  {
   "cell_type": "code",
   "execution_count": 18,
   "metadata": {},
   "outputs": [
    {
     "data": {
      "text/plain": [
       "torch.Size([10, 3, 224, 224, 224])"
      ]
     },
     "execution_count": 18,
     "metadata": {},
     "output_type": "execute_result"
    }
   ],
   "source": [
    "x = torch.rand(10, 3, 224, 224, 224)\n",
    "x.size()"
   ]
  },
  {
   "cell_type": "code",
   "execution_count": 19,
   "metadata": {},
   "outputs": [
    {
     "data": {
      "text/plain": [
       "torch.Size([10, 1, 112, 112, 112])"
      ]
     },
     "execution_count": 19,
     "metadata": {},
     "output_type": "execute_result"
    }
   ],
   "source": [
    "with torch.inference_mode():\n",
    "    y = conv3d(x)\n",
    "y.size()\n",
    "# 因为stride=2,所以后面3个通道都减半了"
   ]
  },
  {
   "cell_type": "markdown",
   "metadata": {},
   "source": [
    "# 手动计算"
   ]
  },
  {
   "cell_type": "code",
   "execution_count": null,
   "metadata": {},
   "outputs": [],
   "source": []
  }
 ],
 "metadata": {
  "kernelspec": {
   "display_name": "pytorch",
   "language": "python",
   "name": "python3"
  },
  "language_info": {
   "codemirror_mode": {
    "name": "ipython",
    "version": 3
   },
   "file_extension": ".py",
   "mimetype": "text/x-python",
   "name": "python",
   "nbconvert_exporter": "python",
   "pygments_lexer": "ipython3",
   "version": "3.9.15"
  },
  "orig_nbformat": 4
 },
 "nbformat": 4,
 "nbformat_minor": 2
}
