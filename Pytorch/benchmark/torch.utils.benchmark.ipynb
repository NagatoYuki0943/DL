{
 "cells": [
  {
   "cell_type": "markdown",
   "metadata": {},
   "source": [
    "https://pytorch.org/tutorials/recipes/recipes/benchmark.html"
   ]
  },
  {
   "cell_type": "code",
   "execution_count": 1,
   "metadata": {},
   "outputs": [],
   "source": [
    "import torch\n",
    "from torch import Tensor"
   ]
  },
  {
   "cell_type": "markdown",
   "metadata": {},
   "source": [
    "# 1. Defining functions to benchmark\n",
    "\n",
    "As of the time of this writing, torch.dot does not support batched mode, so we will compare two approaches to implementing it using existing torch operators: one approach uses a combination of mul and sum while the other reduces the problem to bmm.\n",
    "\n",
    "截至撰写本文时，torch.dot 不支持批处理模式，因此我们将比较使用现有 torch 运算符实现它的两种方法：一种方法使用 mul 和 sum 的组合，而另一种方法将问题简化为 bmm。"
   ]
  },
  {
   "cell_type": "code",
   "execution_count": 2,
   "metadata": {},
   "outputs": [],
   "source": [
    "def batched_dot_mul_sum(a: Tensor, b: Tensor) -> Tensor:\n",
    "    '''Computes batched dot by multiplying and summing'''\n",
    "    return a.mul(b).sum(-1)"
   ]
  },
  {
   "cell_type": "code",
   "execution_count": 3,
   "metadata": {},
   "outputs": [],
   "source": [
    "def batched_dot_bmm(a: Tensor, b: Tensor) -> Tensor:\n",
    "    '''Computes batched dot by reducing to ``bmm``'''\n",
    "    a = a.reshape(-1, 1, a.shape[-1])\n",
    "    b = b.reshape(-1, a.shape[-1], 1)\n",
    "    return torch.bmm(a, b).flatten()"
   ]
  },
  {
   "cell_type": "code",
   "execution_count": 4,
   "metadata": {},
   "outputs": [],
   "source": [
    "# Input for benchmarking\n",
    "x = torch.randn(10000, 64)"
   ]
  },
  {
   "cell_type": "code",
   "execution_count": 5,
   "metadata": {},
   "outputs": [],
   "source": [
    "# Ensure that both functions compute the same output\n",
    "assert batched_dot_mul_sum(x, x).allclose(batched_dot_bmm(x, x))"
   ]
  },
  {
   "cell_type": "markdown",
   "metadata": {},
   "source": [
    "# 2. Benchmarking with timeit.Timer\n",
    "\n",
    "First, let’s benchmark the code using Python’s builtin timeit module. We keep the benchmark code simple here so we can compare the defaults of timeit and torch.utils.benchmark.\n",
    "\n",
    "首先，让我们使用 Python 的内置 timeit 模块对代码进行基准测试。 我们在这里保持基准代码简单，以便我们可以比较 timeit 和 torch.utils.benchmark 的默认值。"
   ]
  },
  {
   "cell_type": "code",
   "execution_count": 6,
   "metadata": {},
   "outputs": [],
   "source": [
    "import timeit"
   ]
  },
  {
   "cell_type": "code",
   "execution_count": 7,
   "metadata": {},
   "outputs": [],
   "source": [
    "t0 = timeit.Timer(\n",
    "    stmt='batched_dot_mul_sum(x, x)',\n",
    "    setup='from __main__ import batched_dot_mul_sum',\n",
    "    globals={'x': x})\n",
    "\n",
    "t1 = timeit.Timer(\n",
    "    stmt='batched_dot_bmm(x, x)',\n",
    "    setup='from __main__ import batched_dot_bmm',\n",
    "    globals={'x': x})"
   ]
  },
  {
   "cell_type": "code",
   "execution_count": 8,
   "metadata": {},
   "outputs": [
    {
     "name": "stdout",
     "output_type": "stream",
     "text": [
      "mul_sum(x, x):  239.9 us\n",
      "bmm(x, x):      187.7 us\n"
     ]
    }
   ],
   "source": [
    "print(f'mul_sum(x, x):  {t0.timeit(100) / 100 * 1e6:>5.1f} us')\n",
    "print(f'bmm(x, x):      {t1.timeit(100) / 100 * 1e6:>5.1f} us')"
   ]
  },
  {
   "cell_type": "markdown",
   "metadata": {},
   "source": [
    "# 3. Benchmarking with torch.utils.benchmark.Timer\n",
    "\n",
    "PyTorch benchmark module was designed to be familiar to those who have used the timeit module before. However, its defaults make it easier and safer to use for benchmarking PyTorch code. Let’s first compare the same basic API as above.\n",
    "\n",
    "PyTorch 基准测试模块旨在让以前使用过 timeit 模块的人熟悉。 然而，它的默认设置使得使用 PyTorch 代码进行基准测试变得更容易、更安全。 我们首先比较一下与上面相同的基本 API。\n"
   ]
  },
  {
   "cell_type": "code",
   "execution_count": 9,
   "metadata": {},
   "outputs": [],
   "source": [
    "from torch.utils import benchmark"
   ]
  },
  {
   "cell_type": "code",
   "execution_count": 10,
   "metadata": {},
   "outputs": [
    {
     "data": {
      "text/plain": [
       "<torch.utils.benchmark.utils.common.Measurement object at 0x000001E0E6BA3190>\n",
       "batched_dot_mul_sum(x, x)\n",
       "setup: from __main__ import batched_dot_mul_sum\n",
       "  1.22 ms\n",
       "  1 measurement, 100 runs , 1 thread"
      ]
     },
     "execution_count": 10,
     "metadata": {},
     "output_type": "execute_result"
    }
   ],
   "source": [
    "t0 = benchmark.Timer(\n",
    "    stmt='batched_dot_mul_sum(x, x)',\n",
    "    setup='from __main__ import batched_dot_mul_sum',\n",
    "    globals={'x': x})\n",
    "t0.timeit(100)"
   ]
  },
  {
   "cell_type": "code",
   "execution_count": 11,
   "metadata": {},
   "outputs": [
    {
     "data": {
      "text/plain": [
       "<torch.utils.benchmark.utils.common.Measurement object at 0x000001E08FF3E990>\n",
       "batched_dot_bmm(x, x)\n",
       "setup: from __main__ import batched_dot_bmm\n",
       "  792.43 us\n",
       "  1 measurement, 100 runs , 1 thread"
      ]
     },
     "execution_count": 11,
     "metadata": {},
     "output_type": "execute_result"
    }
   ],
   "source": [
    "t1 = benchmark.Timer(\n",
    "    stmt='batched_dot_bmm(x, x)',\n",
    "    setup='from __main__ import batched_dot_bmm',\n",
    "    globals={'x': x})\n",
    "t1.timeit(100)"
   ]
  },
  {
   "cell_type": "markdown",
   "metadata": {},
   "source": [
    "Even though the APIs are the same for the basic functionality, there are some important differences. benchmark.Timer.timeit() returns the time per run as opposed to the total runtime like timeit.Timer.timeit() does. PyTorch benchmark module also provides formatted string representations for printing the results.\n",
    "\n",
    "Another important difference, and the reason why the results diverge is that PyTorch benchmark module runs in a single thread by default. We can change the number of threads with the num_threads argument.\n",
    "\n",
    "torch.utils.benchmark.Timer takes several additional arguments including: label, sub_label, description and env which change the __repr__ of the measurement object returned and are used for grouping the results (more on this later).\n",
    "\n",
    "尽管 API 的基本功能相同，但仍存在一些重要差异。 benchmark.Timer.timeit() 返回每次运行的时间，而不是像 timeit.Timer.timeit() 那样返回总运行时间。 PyTorch 基准测试模块还提供用于打印结果的格式化字符串表示形式。\n",
    "\n",
    "另一个重要的区别以及结果出现差异的原因是 PyTorch 基准测试模块默认在单线程中运行。 我们可以使用 num_threads 参数更改线程数。\n",
    "\n",
    "torch.utils.benchmark.Timer 需要几个附加参数，包括：label、sub_label、description 和 env，它们会更改返回的测量对象的 __repr__ 并用于对结果进行分组（稍后会详细介绍）。"
   ]
  },
  {
   "cell_type": "code",
   "execution_count": 12,
   "metadata": {},
   "outputs": [
    {
     "data": {
      "text/plain": [
       "8"
      ]
     },
     "execution_count": 12,
     "metadata": {},
     "output_type": "execute_result"
    }
   ],
   "source": [
    "num_threads = torch.get_num_threads()\n",
    "num_threads"
   ]
  },
  {
   "cell_type": "code",
   "execution_count": 13,
   "metadata": {},
   "outputs": [
    {
     "data": {
      "text/plain": [
       "<torch.utils.benchmark.utils.common.Measurement object at 0x000001E091144950>\n",
       "Multithreaded batch dot: Implemented using mul and sum\n",
       "setup: from __main__ import batched_dot_mul_sum\n",
       "  348.60 us\n",
       "  1 measurement, 100 runs , 8 threads"
      ]
     },
     "execution_count": 13,
     "metadata": {},
     "output_type": "execute_result"
    }
   ],
   "source": [
    "t0 = benchmark.Timer(\n",
    "    stmt='batched_dot_mul_sum(x, x)',\n",
    "    setup='from __main__ import batched_dot_mul_sum',\n",
    "    globals={'x': x},\n",
    "    num_threads=num_threads,\n",
    "    label='Multithreaded batch dot',\n",
    "    sub_label='Implemented using mul and sum')\n",
    "t0.timeit(100)"
   ]
  },
  {
   "cell_type": "code",
   "execution_count": 14,
   "metadata": {},
   "outputs": [
    {
     "data": {
      "text/plain": [
       "<torch.utils.benchmark.utils.common.Measurement object at 0x000001E091145250>\n",
       "Multithreaded batch dot: Implemented using bmm\n",
       "setup: from __main__ import batched_dot_bmm\n",
       "  201.44 us\n",
       "  1 measurement, 100 runs , 8 threads"
      ]
     },
     "execution_count": 14,
     "metadata": {},
     "output_type": "execute_result"
    }
   ],
   "source": [
    "t1 = benchmark.Timer(\n",
    "    stmt='batched_dot_bmm(x, x)',\n",
    "    setup='from __main__ import batched_dot_bmm',\n",
    "    globals={'x': x},\n",
    "    num_threads=num_threads,\n",
    "    label='Multithreaded batch dot',\n",
    "    sub_label='Implemented using bmm')\n",
    "t1.timeit(100)"
   ]
  },
  {
   "cell_type": "markdown",
   "metadata": {},
   "source": [
    "Running benchmark with all threads available gives similar results as the timeit module. More importantly, which version is faster depends on how many threads we run the code with. This is why it’s important to benchmark the code with thread settings that are representative of real use cases. Another important thing to remember is to synchronize CPU and CUDA when benchmarking on the GPU. Let’s run the above benchmarks again on a CUDA tensor and see what happens.\n",
    "\n",
    "使用所有可用线程运行基准测试会得到与 timeit 模块类似的结果。 更重要的是，哪个版本更快取决于我们运行代码的线程数。 这就是为什么使用代表实际用例的线程设置对代码进行基准测试很重要。 另一件需要记住的重要事情是在 GPU 上进行基准测试时同步 CPU 和 CUDA。 让我们在 CUDA 张量上再次运行上述基准测试，看看会发生什么。"
   ]
  },
  {
   "cell_type": "code",
   "execution_count": 15,
   "metadata": {},
   "outputs": [],
   "source": [
    "x = torch.randn(10000, 1024, device=\"cuda:0\")"
   ]
  },
  {
   "cell_type": "code",
   "execution_count": 16,
   "metadata": {},
   "outputs": [
    {
     "name": "stdout",
     "output_type": "stream",
     "text": [
      "mul_sum(x, x):  266.6 us\n",
      "mul_sum(x, x):   31.4 us\n",
      "bmm(x, x):      826.7 us\n",
      "bmm(x, x):       35.1 us\n"
     ]
    }
   ],
   "source": [
    "t0 = timeit.Timer(\n",
    "    stmt='batched_dot_mul_sum(x, x)',\n",
    "    setup='from __main__ import batched_dot_mul_sum',\n",
    "    globals={'x': x})\n",
    "\n",
    "t1 = timeit.Timer(\n",
    "    stmt='batched_dot_bmm(x, x)',\n",
    "    setup='from __main__ import batched_dot_bmm',\n",
    "    globals={'x': x})\n",
    "\n",
    "# Ran each twice to show difference before/after warm-up\n",
    "print(f'mul_sum(x, x):  {t0.timeit(100) / 100 * 1e6:>5.1f} us')\n",
    "print(f'mul_sum(x, x):  {t0.timeit(100) / 100 * 1e6:>5.1f} us')\n",
    "print(f'bmm(x, x):      {t1.timeit(100) / 100 * 1e6:>5.1f} us')\n",
    "print(f'bmm(x, x):      {t1.timeit(100) / 100 * 1e6:>5.1f} us')"
   ]
  },
  {
   "cell_type": "code",
   "execution_count": 17,
   "metadata": {},
   "outputs": [
    {
     "data": {
      "text/plain": [
       "<torch.utils.benchmark.utils.common.Measurement object at 0x000001E0911459D0>\n",
       "batched_dot_mul_sum(x, x)\n",
       "setup: from __main__ import batched_dot_mul_sum\n",
       "  407.38 us\n",
       "  1 measurement, 100 runs , 1 thread"
      ]
     },
     "execution_count": 17,
     "metadata": {},
     "output_type": "execute_result"
    }
   ],
   "source": [
    "t0 = benchmark.Timer(\n",
    "    stmt='batched_dot_mul_sum(x, x)',\n",
    "    setup='from __main__ import batched_dot_mul_sum',\n",
    "    globals={'x': x})\n",
    "\n",
    "# Run only once since benchmark module does warm-up for us\n",
    "t0.timeit(100)"
   ]
  },
  {
   "cell_type": "code",
   "execution_count": 18,
   "metadata": {},
   "outputs": [
    {
     "data": {
      "text/plain": [
       "<torch.utils.benchmark.utils.common.Measurement object at 0x000001E091305690>\n",
       "batched_dot_bmm(x, x)\n",
       "setup: from __main__ import batched_dot_bmm\n",
       "  445.19 us\n",
       "  1 measurement, 100 runs , 1 thread"
      ]
     },
     "execution_count": 18,
     "metadata": {},
     "output_type": "execute_result"
    }
   ],
   "source": [
    "t1 = benchmark.Timer(\n",
    "    stmt='batched_dot_bmm(x, x)',\n",
    "    setup='from __main__ import batched_dot_bmm',\n",
    "    globals={'x': x})\n",
    "\n",
    "# Run only once since benchmark module does warm-up for us\n",
    "t1.timeit(100)"
   ]
  },
  {
   "cell_type": "markdown",
   "metadata": {},
   "source": [
    "The results reveal something interesting. The first run of the bmm version using the timeit module takes much longer than the second run. This is because bmm calls into cuBLAS which needs to be loaded the first time it’s called which takes some time. This is why it’s important to do a warm-up run before benchmarking, luckily for us, PyTorch’s benchmark module takes care of that.\n",
    "\n",
    "The difference in the results between timeit and benchmark modules is because the timeit module is not synchronizing CUDA and is thus only timing the time to launch the kernel. PyTorch’s benchmark module does the synchronization for us.\n",
    "\n",
    "结果揭示了一些有趣的事情。 使用 timeit 模块的 bmm 版本的第一次运行比第二次运行花费的时间要长得多。 这是因为 bmm 调用了 cuBLAS，它需要在第一次调用时加载，这需要一些时间。 这就是为什么在基准测试之前进行热身运行很重要，幸运的是，PyTorch 的基准测试模块可以解决这个问题。\n",
    "\n",
    "timeit 和 benchmark 模块之间的结果差异是因为 timeit 模块不同步 CUDA，因此仅计时启动内核的时间。 PyTorch 的基准测试模块为我们进行同步。"
   ]
  },
  {
   "cell_type": "markdown",
   "metadata": {},
   "source": [
    "# 4. Benchmarking with Blocked Autorange\n",
    "\n",
    "While timeit.Timer.autorange takes a single continuous measurement of at least 0.2 seconds, torch.utils.benchmark.blocked_autorange takes many measurements whose times total at least 0.2 seconds (which can be changed by the min_run_time parameter) subject to the constraint that timing overhead is a small fraction of the overall measurement. This is accomplished by first running with an increasing number of runs per loop until the runtime is much larger than measurement overhead (which also serves as a warm up), and then taking measurements until the target time is reached. This has the useful properties that it wastes less data and allows us to compute statistics to estimate the reliability of the measurements.\n",
    "\n",
    "timeit.Timer.autorange 进行至少 0.2 秒的单次连续测量，而 torch.utils.benchmark.blocked_autorange 进行多次测量，其时间总计至少 0.2 秒（可以通过 min_run_time 参数更改），但受到计时的约束 开销只占总体测量的一小部分。 这是通过首先增加每个循环的运行次数来实现的，直到运行时间远大于测量开销（这也可以作为预热），然后进行测量直到达到目标时间。 这具有有用的特性，即浪费更少的数据，并允许我们计算统计数据来估计测量的可靠性。"
   ]
  },
  {
   "cell_type": "code",
   "execution_count": 19,
   "metadata": {},
   "outputs": [
    {
     "data": {
      "text/plain": [
       "<torch.utils.benchmark.utils.common.Measurement object at 0x000001E08FAA3850>\n",
       "batched_dot_mul_sum(x, x)\n",
       "setup: from __main__ import batched_dot_mul_sum\n",
       "  395.04 us\n",
       "  1 measurement, 1000 runs , 1 thread"
      ]
     },
     "execution_count": 19,
     "metadata": {},
     "output_type": "execute_result"
    }
   ],
   "source": [
    "m0 = t0.blocked_autorange()\n",
    "m0"
   ]
  },
  {
   "cell_type": "code",
   "execution_count": 20,
   "metadata": {},
   "outputs": [
    {
     "data": {
      "text/plain": [
       "<torch.utils.benchmark.utils.common.Measurement object at 0x000001E08FBAFF50>\n",
       "batched_dot_bmm(x, x)\n",
       "setup: from __main__ import batched_dot_bmm\n",
       "  381.12 us\n",
       "  1 measurement, 1000 runs , 1 thread"
      ]
     },
     "execution_count": 20,
     "metadata": {},
     "output_type": "execute_result"
    }
   ],
   "source": [
    "m1 = t1.blocked_autorange()\n",
    "m1"
   ]
  },
  {
   "cell_type": "markdown",
   "metadata": {},
   "source": [
    "We can also inspect the individual statistics from the returned measurements object.\n",
    "\n",
    "我们还可以检查返回的测量对象的各个统计信息。"
   ]
  },
  {
   "cell_type": "code",
   "execution_count": 21,
   "metadata": {},
   "outputs": [
    {
     "name": "stdout",
     "output_type": "stream",
     "text": [
      "Mean:   395.04 us\n",
      "Median: 395.04 us\n"
     ]
    }
   ],
   "source": [
    "print(f\"Mean:   {m0.mean * 1e6:6.2f} us\")\n",
    "print(f\"Median: {m0.median * 1e6:6.2f} us\")"
   ]
  },
  {
   "cell_type": "markdown",
   "metadata": {},
   "source": [
    "# 5. Comparing benchmark results\n",
    "\n",
    "So far we’ve been comparing our two versions of batched dot against a single input. In practice, we want to try a combination of inputs as well as different number of threads. The Compare class helps display the results of many measurements in a formatted table. It uses the annotations described above (label, sub_label, num_threads, etc.) as well as description to group and organize the table. Let’s use Compare to see how our functions perform for different input sizes and number of threads.\n",
    "\n",
    "到目前为止，我们一直在将两个版本的批处理点与单个输入进行比较。 在实践中，我们希望尝试组合输入以及不同数量的线程。 Compare 类有助于在格式化表格中显示许多测量的结果。 它使用上述注释（label、sub_label、num_threads 等）以及描述来对表进行分组和组织。 让我们使用 Compare 来看看我们的函数在不同的输入大小和线程数量下的执行情况。"
   ]
  },
  {
   "cell_type": "code",
   "execution_count": 22,
   "metadata": {},
   "outputs": [],
   "source": [
    "from itertools import product"
   ]
  },
  {
   "cell_type": "code",
   "execution_count": 23,
   "metadata": {},
   "outputs": [
    {
     "data": {
      "text/plain": [
       "[(1, 1),\n",
       " (1, 64),\n",
       " (1, 1024),\n",
       " (1, 10000),\n",
       " (64, 1),\n",
       " (64, 64),\n",
       " (64, 1024),\n",
       " (64, 10000),\n",
       " (1024, 1),\n",
       " (1024, 64),\n",
       " (1024, 1024),\n",
       " (1024, 10000),\n",
       " (10000, 1),\n",
       " (10000, 64),\n",
       " (10000, 1024),\n",
       " (10000, 10000)]"
      ]
     },
     "execution_count": 23,
     "metadata": {},
     "output_type": "execute_result"
    }
   ],
   "source": [
    "sizes = [1, 64, 1024, 10000]\n",
    "list(product(sizes, sizes))"
   ]
  },
  {
   "cell_type": "code",
   "execution_count": 24,
   "metadata": {},
   "outputs": [
    {
     "name": "stdout",
     "output_type": "stream",
     "text": [
      "[--------------- Batched dot ----------------]\n",
      "                      |  mul/sum   |    bmm   \n",
      "1 threads: -----------------------------------\n",
      "      [1, 1]          |       5.8  |       9.8\n",
      "      [1, 64]         |       6.1  |       9.9\n",
      "      [1, 1024]       |       8.1  |      10.3\n",
      "      [1, 10000]      |      16.2  |      11.4\n",
      "      [64, 1]         |       6.5  |       9.9\n",
      "      [64, 64]        |      13.5  |      14.9\n",
      "      [64, 1024]      |      77.1  |     142.0\n",
      "      [64, 10000]     |     675.0  |    1424.7\n",
      "      [1024, 1]       |      10.3  |      14.7\n",
      "      [1024, 64]      |     120.8  |      81.9\n",
      "      [1024, 1024]    |    1371.0  |    2269.6\n",
      "      [1024, 10000]   |   16059.7  |   21760.0\n",
      "      [10000, 1]      |      37.9  |      53.0\n",
      "      [10000, 64]     |    1095.9  |     698.0\n",
      "      [10000, 1024]   |   16860.5  |   21691.8\n",
      "      [10000, 10000]  |  152418.7  |  206059.8\n",
      "4 threads: -----------------------------------\n",
      "      [1, 1]          |       5.8  |       9.7\n",
      "      [1, 64]         |       6.3  |      10.3\n",
      "      [1, 1024]       |       7.0  |      10.3\n",
      "      [1, 10000]      |      16.2  |      11.3\n",
      "      [64, 1]         |       6.5  |       9.9\n",
      "      [64, 64]        |      14.8  |      14.6\n",
      "      [64, 1024]      |      39.0  |     162.1\n",
      "      [64, 10000]     |     219.2  |    1497.4\n",
      "      [1024, 1]       |       9.6  |      14.6\n",
      "      [1024, 64]      |      56.8  |      66.3\n",
      "      [1024, 1024]    |     368.8  |     683.4\n",
      "      [1024, 10000]   |    7525.0  |    6645.6\n",
      "      [10000, 1]      |      35.1  |      52.5\n",
      "      [10000, 64]     |     402.1  |     318.4\n",
      "      [10000, 1024]   |    8124.9  |    6049.4\n",
      "      [10000, 10000]  |   75647.3  |   58362.8\n",
      "16 threads: ----------------------------------\n",
      "      [1, 1]          |       6.0  |       9.9\n",
      "      [1, 64]         |       6.3  |       9.8\n",
      "      [1, 1024]       |       7.0  |      10.4\n",
      "      [1, 10000]      |      16.1  |      11.3\n",
      "      [64, 1]         |       6.5  |       9.9\n",
      "      [64, 64]        |      13.8  |      14.7\n",
      "      [64, 1024]      |      52.3  |     236.6\n",
      "      [64, 10000]     |     167.9  |    2086.9\n",
      "      [1024, 1]       |       9.4  |      14.5\n",
      "      [1024, 64]      |      67.7  |      83.6\n",
      "      [1024, 1024]    |     272.1  |     449.8\n",
      "      [1024, 10000]   |    6842.4  |    4167.3\n",
      "      [10000, 1]      |      35.2  |      54.1\n",
      "      [10000, 64]     |     276.6  |     219.8\n",
      "      [10000, 1024]   |    7234.7  |    3696.6\n",
      "      [10000, 10000]  |   68174.8  |   33525.6\n",
      "32 threads: ----------------------------------\n",
      "      [1, 1]          |       5.8  |       9.8\n",
      "      [1, 64]         |       6.0  |       9.6\n",
      "      [1, 1024]       |       7.0  |      11.3\n",
      "      [1, 10000]      |      16.3  |      11.4\n",
      "      [64, 1]         |       6.5  |       9.8\n",
      "      [64, 64]        |      13.8  |      14.9\n",
      "      [64, 1024]      |      85.7  |     274.6\n",
      "      [64, 10000]     |     216.1  |    2074.9\n",
      "      [1024, 1]       |       9.6  |      15.0\n",
      "      [1024, 64]      |     105.1  |     101.5\n",
      "      [1024, 1024]    |     389.8  |     582.8\n",
      "      [1024, 10000]   |    7298.7  |    4330.5\n",
      "      [10000, 1]      |      35.6  |      54.3\n",
      "      [10000, 64]     |     352.9  |     294.2\n",
      "      [10000, 1024]   |    7000.8  |    3362.9\n",
      "      [10000, 10000]  |   68000.9  |   31115.7\n",
      "\n",
      "Times are in microseconds (us).\n",
      "\n"
     ]
    }
   ],
   "source": [
    "results = []\n",
    "for b, n in product(sizes, sizes):\n",
    "    # label and sub_label are the rows\n",
    "    # description is the column\n",
    "    label = \"Batched dot\"\n",
    "    sub_label = f'[{b}, {n}]'\n",
    "    x = torch.ones((b, n))\n",
    "    for num_threads in [1, 4, 16, 32]:\n",
    "        results.append(benchmark.Timer(\n",
    "            stmt='batched_dot_mul_sum(x, x)',\n",
    "            setup='from __main__ import batched_dot_mul_sum',\n",
    "            globals={'x': x},\n",
    "            num_threads=num_threads,\n",
    "            label=label,\n",
    "            sub_label=sub_label,\n",
    "            description='mul/sum'\n",
    "        ).blocked_autorange(min_run_time=1))\n",
    "        results.append(benchmark.Timer(\n",
    "            stmt='batched_dot_bmm(x, x)',\n",
    "            setup='from __main__ import batched_dot_bmm',\n",
    "            globals={'x': x},\n",
    "            num_threads=num_threads,\n",
    "            label=label,\n",
    "            sub_label=sub_label,\n",
    "            description='bmm',\n",
    "        ).blocked_autorange(min_run_time=1))\n",
    "\n",
    "compare = benchmark.Compare(results=results)\n",
    "compare.print()"
   ]
  },
  {
   "cell_type": "markdown",
   "metadata": {},
   "source": [
    "The results above indicate that the version which reduces to bmm is better for larger tensors running on multiple threads, while for smaller and/or single thread code, the other version is better.\n",
    "\n",
    "Compare also provides functions for changing the table format\n",
    "\n",
    "上面的结果表明，对于在多个线程上运行的较大张量，简化为 bmm 的版本更好，而对于较小和/或单线程代码，其他版本更好。\n",
    "\n",
    "Compare还提供了更改表格格式的功能"
   ]
  },
  {
   "cell_type": "code",
   "execution_count": 25,
   "metadata": {},
   "outputs": [
    {
     "name": "stdout",
     "output_type": "stream",
     "text": [
      "[-------------- Batched dot --------------]\n",
      "                      |  mul/sum  |   bmm  \n",
      "1 threads: --------------------------------\n",
      "      [1, 1]          |  \u001b[92m\u001b[1m      6\u001b[0m\u001b[0m  |  \u001b[92m\u001b[1m    10\u001b[0m\u001b[0m\n",
      "      [1, 64]         |  \u001b[34m\u001b[1m      6\u001b[0m\u001b[0m  |  \u001b[34m\u001b[1m    10\u001b[0m\u001b[0m\n",
      "      [1, 1024]       |        8  |  \u001b[34m\u001b[1m    10\u001b[0m\u001b[0m\n",
      "      [1, 10000]      |  \u001b[2m\u001b[91m     16\u001b[0m\u001b[0m  |      11\n",
      "      [64, 1]         |        6  |  \u001b[92m\u001b[1m    10\u001b[0m\u001b[0m\n",
      "      [64, 64]        |  \u001b[2m\u001b[91m     13\u001b[0m\u001b[0m  |      15\n",
      "      [64, 1024]      |  \u001b[31m\u001b[1m     77\u001b[0m\u001b[0m  |  \u001b[31m\u001b[1m   140\u001b[0m\u001b[0m\n",
      "      [64, 10000]     |  \u001b[31m\u001b[1m    700\u001b[0m\u001b[0m  |  \u001b[31m\u001b[1m  1000\u001b[0m\u001b[0m\n",
      "      [1024, 1]       |       10  |      10\n",
      "      [1024, 64]      |  \u001b[31m\u001b[1m    100\u001b[0m\u001b[0m  |  \u001b[31m\u001b[1m    82\u001b[0m\u001b[0m\n",
      "      [1024, 1024]    |  \u001b[31m\u001b[1m   1000\u001b[0m\u001b[0m  |  \u001b[31m\u001b[1m  2300\u001b[0m\u001b[0m\n",
      "      [1024, 10000]   |  \u001b[31m\u001b[1m  20000\u001b[0m\u001b[0m  |  \u001b[31m\u001b[1m 22000\u001b[0m\u001b[0m\n",
      "      [10000, 1]      |  \u001b[31m\u001b[1m     40\u001b[0m\u001b[0m  |  \u001b[31m\u001b[1m    53\u001b[0m\u001b[0m\n",
      "      [10000, 64]     |  \u001b[31m\u001b[1m   1000\u001b[0m\u001b[0m  |  \u001b[31m\u001b[1m   700\u001b[0m\u001b[0m\n",
      "      [10000, 1024]   |  \u001b[31m\u001b[1m  20000\u001b[0m\u001b[0m  |  \u001b[31m\u001b[1m 20000\u001b[0m\u001b[0m\n",
      "      [10000, 10000]  |  \u001b[31m\u001b[1m 200000\u001b[0m\u001b[0m  |  \u001b[31m\u001b[1m210000\u001b[0m\u001b[0m\n",
      "4 threads: --------------------------------\n",
      "      [1, 1]          |  \u001b[92m\u001b[1m      6\u001b[0m\u001b[0m  |  \u001b[92m\u001b[1m    10\u001b[0m\u001b[0m\n",
      "      [1, 64]         |  \u001b[34m\u001b[1m      6\u001b[0m\u001b[0m  |  \u001b[34m\u001b[1m    10\u001b[0m\u001b[0m\n",
      "      [1, 1024]       |        7  |  \u001b[34m\u001b[1m    10\u001b[0m\u001b[0m\n",
      "      [1, 10000]      |  \u001b[2m\u001b[91m     16\u001b[0m\u001b[0m  |      11\n",
      "      [64, 1]         |        6  |  \u001b[34m\u001b[1m    10\u001b[0m\u001b[0m\n",
      "      [64, 64]        |  \u001b[2m\u001b[91m     15\u001b[0m\u001b[0m  |      15\n",
      "      [64, 1024]      |  \u001b[31m\u001b[1m     39\u001b[0m\u001b[0m  |  \u001b[31m\u001b[1m   160\u001b[0m\u001b[0m\n",
      "      [64, 10000]     |  \u001b[31m\u001b[1m    200\u001b[0m\u001b[0m  |  \u001b[31m\u001b[1m  1000\u001b[0m\u001b[0m\n",
      "      [1024, 1]       |       10  |      10\n",
      "      [1024, 64]      |  \u001b[31m\u001b[1m     60\u001b[0m\u001b[0m  |  \u001b[31m\u001b[1m    70\u001b[0m\u001b[0m\n",
      "      [1024, 1024]    |  \u001b[31m\u001b[1m    400\u001b[0m\u001b[0m  |  \u001b[31m\u001b[1m   680\u001b[0m\u001b[0m\n",
      "      [1024, 10000]   |  \u001b[31m\u001b[1m   8000\u001b[0m\u001b[0m  |  \u001b[31m\u001b[1m  7000\u001b[0m\u001b[0m\n",
      "      [10000, 1]      |  \u001b[31m\u001b[1m     35\u001b[0m\u001b[0m  |  \u001b[31m\u001b[1m    50\u001b[0m\u001b[0m\n",
      "      [10000, 64]     |  \u001b[31m\u001b[1m    400\u001b[0m\u001b[0m  |  \u001b[31m\u001b[1m   300\u001b[0m\u001b[0m\n",
      "      [10000, 1024]   |  \u001b[31m\u001b[1m   8000\u001b[0m\u001b[0m  |  \u001b[31m\u001b[1m  6000\u001b[0m\u001b[0m\n",
      "      [10000, 10000]  |  \u001b[31m\u001b[1m  80000\u001b[0m\u001b[0m  |  \u001b[31m\u001b[1m 58000\u001b[0m\u001b[0m\n",
      "16 threads: -------------------------------\n",
      "      [1, 1]          |  \u001b[92m\u001b[1m      6\u001b[0m\u001b[0m  |  \u001b[34m\u001b[1m    10\u001b[0m\u001b[0m\n",
      "      [1, 64]         |  \u001b[34m\u001b[1m      6\u001b[0m\u001b[0m  |  \u001b[92m\u001b[1m    10\u001b[0m\u001b[0m\n",
      "      [1, 1024]       |        7  |  \u001b[34m\u001b[1m    10\u001b[0m\u001b[0m\n",
      "      [1, 10000]      |  \u001b[2m\u001b[91m     16\u001b[0m\u001b[0m  |      11\n",
      "      [64, 1]         |  \u001b[34m\u001b[1m      6\u001b[0m\u001b[0m  |  \u001b[92m\u001b[1m    10\u001b[0m\u001b[0m\n",
      "      [64, 64]        |  \u001b[2m\u001b[91m     14\u001b[0m\u001b[0m  |      10\n",
      "      [64, 1024]      |  \u001b[31m\u001b[1m     50\u001b[0m\u001b[0m  |  \u001b[31m\u001b[1m   200\u001b[0m\u001b[0m\n",
      "      [64, 10000]     |  \u001b[31m\u001b[1m    200\u001b[0m\u001b[0m  |  \u001b[31m\u001b[1m  2000\u001b[0m\u001b[0m\n",
      "      [1024, 1]       |        9  |      14\n",
      "      [1024, 64]      |  \u001b[31m\u001b[1m     70\u001b[0m\u001b[0m  |  \u001b[31m\u001b[1m    80\u001b[0m\u001b[0m\n",
      "      [1024, 1024]    |  \u001b[31m\u001b[1m    300\u001b[0m\u001b[0m  |  \u001b[31m\u001b[1m   400\u001b[0m\u001b[0m\n",
      "      [1024, 10000]   |  \u001b[31m\u001b[1m   7000\u001b[0m\u001b[0m  |  \u001b[31m\u001b[1m  4000\u001b[0m\u001b[0m\n",
      "      [10000, 1]      |  \u001b[31m\u001b[1m     40\u001b[0m\u001b[0m  |  \u001b[31m\u001b[1m    50\u001b[0m\u001b[0m\n",
      "      [10000, 64]     |  \u001b[31m\u001b[1m    280\u001b[0m\u001b[0m  |  \u001b[31m\u001b[1m   200\u001b[0m\u001b[0m\n",
      "      [10000, 1024]   |  \u001b[31m\u001b[1m   7000\u001b[0m\u001b[0m  |  \u001b[31m\u001b[1m  3700\u001b[0m\u001b[0m\n",
      "      [10000, 10000]  |  \u001b[31m\u001b[1m  70000\u001b[0m\u001b[0m  |  \u001b[31m\u001b[1m 34000\u001b[0m\u001b[0m\n",
      "32 threads: -------------------------------\n",
      "      [1, 1]          |  \u001b[92m\u001b[1m      6\u001b[0m\u001b[0m  |  \u001b[34m\u001b[1m    10\u001b[0m\u001b[0m\n",
      "      [1, 64]         |  \u001b[34m\u001b[1m      6\u001b[0m\u001b[0m  |  \u001b[92m\u001b[1m    10\u001b[0m\u001b[0m\n",
      "      [1, 1024]       |        7  |      11\n",
      "      [1, 10000]      |  \u001b[2m\u001b[91m     16\u001b[0m\u001b[0m  |      11\n",
      "      [64, 1]         |        6  |  \u001b[34m\u001b[1m    10\u001b[0m\u001b[0m\n",
      "      [64, 64]        |  \u001b[2m\u001b[91m     14\u001b[0m\u001b[0m  |      15\n",
      "      [64, 1024]      |  \u001b[31m\u001b[1m     90\u001b[0m\u001b[0m  |  \u001b[31m\u001b[1m   270\u001b[0m\u001b[0m\n",
      "      [64, 10000]     |  \u001b[31m\u001b[1m    200\u001b[0m\u001b[0m  |  \u001b[31m\u001b[1m  2000\u001b[0m\u001b[0m\n",
      "      [1024, 1]       |       10  |      15\n",
      "      [1024, 64]      |  \u001b[31m\u001b[1m    100\u001b[0m\u001b[0m  |  \u001b[31m\u001b[1m   100\u001b[0m\u001b[0m\n",
      "      [1024, 1024]    |  \u001b[31m\u001b[1m    400\u001b[0m\u001b[0m  |  \u001b[31m\u001b[1m   600\u001b[0m\u001b[0m\n",
      "      [1024, 10000]   |  \u001b[31m\u001b[1m   7000\u001b[0m\u001b[0m  |  \u001b[31m\u001b[1m  4000\u001b[0m\u001b[0m\n",
      "      [10000, 1]      |  \u001b[31m\u001b[1m     40\u001b[0m\u001b[0m  |  \u001b[31m\u001b[1m    50\u001b[0m\u001b[0m\n",
      "      [10000, 64]     |  \u001b[31m\u001b[1m    400\u001b[0m\u001b[0m  |  \u001b[31m\u001b[1m   300\u001b[0m\u001b[0m\n",
      "      [10000, 1024]   |  \u001b[31m\u001b[1m   7000\u001b[0m\u001b[0m  |  \u001b[31m\u001b[1m  3000\u001b[0m\u001b[0m\n",
      "      [10000, 10000]  |  \u001b[31m\u001b[1m  70000\u001b[0m\u001b[0m  |  \u001b[31m\u001b[1m 31000\u001b[0m\u001b[0m\n",
      "\n",
      "Times are in microseconds (us).\n",
      "\n"
     ]
    }
   ],
   "source": [
    "compare.trim_significant_figures()\n",
    "compare.colorize()\n",
    "compare.print()"
   ]
  },
  {
   "cell_type": "markdown",
   "metadata": {},
   "source": [
    "# 6. Saving/Loading benchmark results\n",
    "\n",
    "Measurements (and CallgrindStats which are described in section 8) can be serialized by the pickle module. This makes A/B testing easy, as you can collect measurements from two separate environments, pickle them, and then load both in a single environment. Timer even takes an env constructor argument so that such A/B testing works seamlessly.\n",
    "\n",
    "Let’s imagine that rather than two Python functions, the add/sum and bmm approaches were in two different builds of PyTorch. The example below demonstrates how one might A/B test them. For simplicity, we only use a subset of shapes, and simply round trip results through pickle rather than actually using multiple environments and writing results to disk.\n",
    "\n",
    "测量（以及第 8 节中描述的 CallgrindStats）可以由 pickle 模块序列化。 这使得 A/B 测试变得容易，因为您可以从两个独立的环境收集测量结果，腌制它们，然后将它们加载到单个环境中。 Timer 甚至采用 env 构造函数参数，以便此类 A/B 测试无缝运行。\n",
    "\n",
    "让我们想象一下，add/sum 和 bmm 方法不是两个 Python 函数，而是位于 PyTorch 的两个不同版本中。 下面的示例演示了如何对它们进行 A/B 测试。 为简单起见，我们仅使用形状的子集，并通过 pickle 简单地往返结果，而不是实际使用多个环境并将结果写入磁盘。"
   ]
  },
  {
   "cell_type": "code",
   "execution_count": 26,
   "metadata": {},
   "outputs": [],
   "source": [
    "import pickle"
   ]
  },
  {
   "cell_type": "code",
   "execution_count": 27,
   "metadata": {},
   "outputs": [
    {
     "name": "stdout",
     "output_type": "stream",
     "text": [
      "[------------------------------------- Batched dot -------------------------------------]\n",
      "                                               |  [1, 1]  |  [1024, 10000]  |  [10000, 1]\n",
      "1 threads: ------------------------------------------------------------------------------\n",
      "  (environment A: mul/sum)  batched_dot(x, x)  |  \u001b[92m\u001b[1m  6   \u001b[0m\u001b[0m  |  \u001b[92m\u001b[1m    20000    \u001b[0m\u001b[0m  |  \u001b[92m\u001b[1m    35    \u001b[0m\u001b[0m\n",
      "  (environment B: bmm)      batched_dot(x, x)  |    10    |      20000      |      53    \n",
      "\n",
      "Times are in microseconds (us).\n",
      "\n"
     ]
    }
   ],
   "source": [
    "ab_test_results = []\n",
    "for env in ('environment A: mul/sum', 'environment B: bmm'):\n",
    "    for b, n in ((1, 1), (1024, 10000), (10000, 1)):\n",
    "        x = torch.ones((b, n))\n",
    "        dot_fn = (batched_dot_mul_sum if env == 'environment A: mul/sum' else batched_dot_bmm)\n",
    "        m = benchmark.Timer(\n",
    "            stmt='batched_dot(x, x)',\n",
    "            globals={'x': x, 'batched_dot': dot_fn},\n",
    "            num_threads=1,\n",
    "            label='Batched dot',\n",
    "            description=f'[{b}, {n}]',\n",
    "            env=env,\n",
    "        ).blocked_autorange(min_run_time=1)\n",
    "        ab_test_results.append(pickle.dumps(m))\n",
    "\n",
    "ab_results = [pickle.loads(i) for i in ab_test_results]\n",
    "compare = benchmark.Compare(ab_results)\n",
    "compare.trim_significant_figures()\n",
    "compare.colorize()\n",
    "compare.print()"
   ]
  },
  {
   "cell_type": "code",
   "execution_count": 28,
   "metadata": {},
   "outputs": [],
   "source": [
    "# And just to show that we can round trip all of the results from earlier:\n",
    "round_tripped_results = pickle.loads(pickle.dumps(results))\n",
    "assert(str(benchmark.Compare(results)) == str(benchmark.Compare(round_tripped_results)))"
   ]
  },
  {
   "cell_type": "markdown",
   "metadata": {},
   "source": [
    "# 7. Generating inputs with Fuzzed Parameters\n",
    "\n",
    "As we’ve seen in the previous section, there can be some stark performance differences depending on the input tensors. Hence, it is a good idea to run benchmarks on a number of different inputs. However, creating all these input tensors can be tedious which is where torch.utils.benchmark.Fuzzer and related classes come in. Let’s take a look at how we can use the Fuzzer to create some test cases for the benchmark.\n",
    "\n",
    "正如我们在上一节中所看到的，根据输入张量的不同，可能会存在一些明显的性能差异。 因此，最好对许多不同的输入运行基准测试。 然而，创建所有这些输入张量可能很乏味，这就是 torch.utils.benchmark.Fuzzer 和相关类的用武之地。让我们看看如何使用 Fuzzer 为基准创建一些测试用例。"
   ]
  },
  {
   "cell_type": "code",
   "execution_count": 29,
   "metadata": {},
   "outputs": [],
   "source": [
    "from torch.utils.benchmark import Fuzzer, FuzzedParameter, FuzzedTensor, ParameterAlias"
   ]
  },
  {
   "cell_type": "code",
   "execution_count": 30,
   "metadata": {},
   "outputs": [
    {
     "data": {
      "text/plain": [
       "<torch.utils.benchmark.utils.fuzzer.Fuzzer at 0x1e08eac9c10>"
      ]
     },
     "execution_count": 30,
     "metadata": {},
     "output_type": "execute_result"
    }
   ],
   "source": [
    "# Generates random tensors with 128 to 10000000 elements and sizes k0 and k1 chosen from a\n",
    "# ``loguniform`` distribution in [1, 10000], 40% of which will be discontiguous on average.\n",
    "example_fuzzer = Fuzzer(\n",
    "    parameters=[\n",
    "        FuzzedParameter(name='k0', minval=1, maxval=10000, distribution='loguniform'),\n",
    "        FuzzedParameter(name='k1', minval=1, maxval=10000, distribution='loguniform'),\n",
    "    ],\n",
    "    tensors=[\n",
    "        FuzzedTensor(name='x', size=('k0', 'k1'), min_elements=128, max_elements=10000000, probability_contiguous=0.6)\n",
    "    ],\n",
    "    seed=0\n",
    ")\n",
    "example_fuzzer"
   ]
  },
  {
   "cell_type": "code",
   "execution_count": 31,
   "metadata": {},
   "outputs": [
    {
     "data": {
      "text/plain": [
       "[({'x': tensor([[0.7821, 0.0536, 0.9888,  ..., 0.5545, 0.2512, 0.7045],\n",
       "           [0.3418, 0.9983, 0.5456,  ..., 0.2689, 0.4601, 0.3495],\n",
       "           [0.2495, 0.0588, 0.6216,  ..., 0.2450, 0.2342, 0.9557],\n",
       "           ...,\n",
       "           [0.2510, 0.1321, 0.3304,  ..., 0.6740, 0.4588, 0.6077],\n",
       "           [0.2013, 0.5539, 0.7535,  ..., 0.5495, 0.1422, 0.7964],\n",
       "           [0.3055, 0.8517, 0.1035,  ..., 0.6941, 0.7315, 0.9100]])},\n",
       "  {'x': {'numel': 186325,\n",
       "    'order': array([0, 1]),\n",
       "    'steps': (1, 1),\n",
       "    'is_contiguous': True,\n",
       "    'dtype': 'torch.float32'}},\n",
       "  {'k0': 725, 'k1': 257})]"
      ]
     },
     "execution_count": 31,
     "metadata": {},
     "output_type": "execute_result"
    }
   ],
   "source": [
    "list(example_fuzzer.take(1))"
   ]
  },
  {
   "cell_type": "code",
   "execution_count": 32,
   "metadata": {},
   "outputs": [
    {
     "name": "stdout",
     "output_type": "stream",
     "text": [
      "[---------------------- Batched dot ----------------------]\n",
      "                                     |  mul/sum  |    bmm  \n",
      "1 threads: ------------------------------------------------\n",
      "      725    x 257                   |  \u001b[31m\u001b[1m  215.8\u001b[0m\u001b[0m  |  \u001b[31m\u001b[1m  191.0\u001b[0m\u001b[0m\n",
      "      49     x 383                   |  \u001b[2m\u001b[91m   26.5\u001b[0m\u001b[0m  |  \u001b[2m\u001b[91m   28.6\u001b[0m\u001b[0m\n",
      "      34     x 1468                  |  \u001b[31m\u001b[1m   57.4\u001b[0m\u001b[0m  |  \u001b[31m\u001b[1m  109.7\u001b[0m\u001b[0m\n",
      "      187    x 5039                  |  \u001b[31m\u001b[1m 1006.0\u001b[0m\u001b[0m  |  \u001b[31m\u001b[1m 1860.1\u001b[0m\u001b[0m\n",
      "      2140   x 1296 (discontiguous)  |  \u001b[31m\u001b[1m 3809.0\u001b[0m\u001b[0m  |  \u001b[31m\u001b[1m34743.8\u001b[0m\u001b[0m\n",
      "      78     x 1598                  |  \u001b[31m\u001b[1m  132.0\u001b[0m\u001b[0m  |  \u001b[31m\u001b[1m  257.8\u001b[0m\u001b[0m\n",
      "      519    x 763                   |  \u001b[31m\u001b[1m  407.9\u001b[0m\u001b[0m  |  \u001b[31m\u001b[1m  818.2\u001b[0m\u001b[0m\n",
      "      141    x 1082                  |  \u001b[31m\u001b[1m  161.8\u001b[0m\u001b[0m  |  \u001b[31m\u001b[1m  312.9\u001b[0m\u001b[0m\n",
      "      78     x 5    (discontiguous)  |  \u001b[34m\u001b[1m    8.3\u001b[0m\u001b[0m  |     13.3\n",
      "      187    x 1                     |  \u001b[92m\u001b[1m    7.8\u001b[0m\u001b[0m  |  \u001b[92m\u001b[1m   11.1\u001b[0m\u001b[0m\n",
      "\n",
      "Times are in microseconds (us).\n",
      "\n"
     ]
    }
   ],
   "source": [
    "results = []\n",
    "for tensors, tensor_params, params in example_fuzzer.take(10):\n",
    "    # description is the column label\n",
    "    sub_label = f\"{params['k0']:<6} x {params['k1']:<4} {'' if tensor_params['x']['is_contiguous'] else '(discontiguous)'}\" # 左对齐\n",
    "    results.append(benchmark.Timer(\n",
    "        stmt='batched_dot_mul_sum(x, x)',\n",
    "        setup='from __main__ import batched_dot_mul_sum',\n",
    "        globals=tensors,\n",
    "        label='Batched dot',\n",
    "        sub_label=sub_label,\n",
    "        description='mul/sum',\n",
    "    ).blocked_autorange(min_run_time=1))\n",
    "    results.append(benchmark.Timer(\n",
    "        stmt='batched_dot_bmm(x, x)',\n",
    "        setup='from __main__ import batched_dot_bmm',\n",
    "        globals=tensors,\n",
    "        label='Batched dot',\n",
    "        sub_label=sub_label,\n",
    "        description='bmm',\n",
    "    ).blocked_autorange(min_run_time=1))\n",
    "compare = benchmark.Compare(results)\n",
    "compare.colorize()\n",
    "compare.print()"
   ]
  },
  {
   "cell_type": "markdown",
   "metadata": {},
   "source": [
    "There is a lot of flexibility for defining your own fuzzers which is great for creating a powerful set of inputs to benchmark. But to make things even simpler, PyTorch benchmark module comes with some built-in fuzzers for common benchmarking needs. Let’s take a look at how we can use one of these built-in fuzzers.\n",
    "\n",
    "定义自己的fuzzers有很大的灵活性，这对于创建一组强大的基准输入非常有用。 但为了让事情变得更简单，PyTorch 基准测试模块附带了一些内置的fuzzers，可以满足常见的基准测试需求。 让我们看一下如何使用这些内置模糊器之一。"
   ]
  },
  {
   "cell_type": "code",
   "execution_count": 33,
   "metadata": {},
   "outputs": [],
   "source": [
    "from torch.utils.benchmark.op_fuzzers import binary"
   ]
  },
  {
   "cell_type": "code",
   "execution_count": 34,
   "metadata": {},
   "outputs": [
    {
     "name": "stdout",
     "output_type": "stream",
     "text": [
      "[---------------------- Batched dot ----------------------]\n",
      "                                         |  mul/sum  |  bmm\n",
      "1 threads: ------------------------------------------------\n",
      "      64     x 473  (discontiguous)      |  \u001b[34m\u001b[1m  7.7  \u001b[0m\u001b[0m  |  \u001b[34m\u001b[1m 11\u001b[0m\u001b[0m\n",
      "      16384  x 12642115 (discontiguous)  |  \u001b[34m\u001b[1m  7.6  \u001b[0m\u001b[0m  |  \u001b[34m\u001b[1m 11\u001b[0m\u001b[0m\n",
      "      8192   x 892                       |  \u001b[34m\u001b[1m  7.7  \u001b[0m\u001b[0m  |  \u001b[34m\u001b[1m 11\u001b[0m\u001b[0m\n",
      "      512    x 64   (discontiguous)      |  \u001b[34m\u001b[1m  8.1  \u001b[0m\u001b[0m  |  \u001b[34m\u001b[1m 11\u001b[0m\u001b[0m\n",
      "      493    x 27   (discontiguous)      |  \u001b[34m\u001b[1m  7.7  \u001b[0m\u001b[0m  |  \u001b[34m\u001b[1m 11\u001b[0m\u001b[0m\n",
      "      118    x 32   (discontiguous)      |  \u001b[34m\u001b[1m  7.6  \u001b[0m\u001b[0m  |  \u001b[34m\u001b[1m 11\u001b[0m\u001b[0m\n",
      "      16     x 495  (discontiguous)      |  \u001b[34m\u001b[1m  7.6  \u001b[0m\u001b[0m  |  \u001b[34m\u001b[1m 11\u001b[0m\u001b[0m\n",
      "      488    x 62374                     |  \u001b[34m\u001b[1m  8.0  \u001b[0m\u001b[0m  |  \u001b[34m\u001b[1m 11\u001b[0m\u001b[0m\n",
      "      240372 x 69                        |  \u001b[92m\u001b[1m  7.5  \u001b[0m\u001b[0m  |  \u001b[92m\u001b[1m 11\u001b[0m\u001b[0m\n",
      "      40156  x 32   (discontiguous)      |  \u001b[34m\u001b[1m  7.6  \u001b[0m\u001b[0m  |  \u001b[92m\u001b[1m 11\u001b[0m\u001b[0m\n",
      "\n",
      "Times are in microseconds (us).\n",
      "\n"
     ]
    }
   ],
   "source": [
    "results = []\n",
    "for tensor, tensor_params, params in binary.BinaryOpFuzzer(seed=0).take(10):\n",
    "    sub_label=f\"{params['k0']:<6} x {params['k1']:<4} {'' if tensor_params['x']['is_contiguous'] else '(discontiguous)'}\"\n",
    "    results.append(benchmark.Timer(\n",
    "        stmt='batched_dot_mul_sum(x, x)',\n",
    "        setup='from __main__ import batched_dot_mul_sum',\n",
    "        globals=tensors,\n",
    "        label='Batched dot',\n",
    "        sub_label=sub_label,\n",
    "        description='mul/sum'\n",
    "    ).blocked_autorange(min_run_time=1))\n",
    "    results.append(benchmark.Timer(\n",
    "        stmt='batched_dot_bmm(x, x)',\n",
    "        setup='from __main__ import batched_dot_bmm',\n",
    "        globals=tensors,\n",
    "        label='Batched dot',\n",
    "        sub_label=sub_label,\n",
    "        description='bmm'\n",
    "    ).blocked_autorange(min_run_time=1))\n",
    "compare = benchmark.Compare(results)\n",
    "compare.trim_significant_figures()\n",
    "compare.colorize()\n",
    "compare.print()"
   ]
  },
  {
   "cell_type": "markdown",
   "metadata": {},
   "source": [
    "# 8. Collecting instruction counts with Callgrind\n",
    "\n",
    "One of the challenges of optimizing code is the variation and opacity of wall time. There are many sources of non-determinism, from adaptive clock speeds to resource contention with other processes. Furthermore, end-to-end time gives no insight into where time is being spent, which is really what we’re interested in when optimizing code.\n",
    "\n",
    "A complementary approach is to also collect instruction counts. These counts are a proxy metric and do not capture all aspects of performance (e.g. memory or I/O bound tasks), however they do have several useful properties. Instruction counts are reproducible, insensitive to environmental variation, and offer fine grained insight into where a program is spending cycles.\n",
    "\n",
    "To see the utility of instruction counts, let us look at how we might reduce the overhead of batched_dot_mul_sum. The obvious solution is to move it to C++, so we avoid going between Python and C++ multiple times.\n",
    "\n",
    "Fortunately, the source is nearly identical. One question that we have to ask in C++ is whether we should take arguments by value or reference.\n",
    "\n",
    "优化代码的挑战之一是挂机时间的变化和不透明性。 不确定性的来源有很多，从自适应时钟速度到与其他进程的资源争用。 此外，端到端时间无法洞察时间花在哪里，而这正是我们在优化代码时真正感兴趣的。\n",
    "\n",
    "一种补充方法是还收集指令计数。 这些计数是一个代理指标，并不能捕获性能的所有方面（例如内存或 I/O 密集型任务），但它们确实有几个有用的属性。 指令计数是可重复的，对环境变化不敏感，并提供对程序花费周期的细粒度洞察。\n",
    "\n",
    "为了了解指令计数的实用性，让我们看看如何减少 batched_dot_mul_sum 的开销。 显而易见的解决方案是将其转移到 C++，这样我们就可以避免多次在 Python 和 C++ 之间切换。\n",
    "\n",
    "幸运的是，来源几乎相同。 在 C++ 中我们必须问的一个问题是我们是否应该按值或引用获取参数。"
   ]
  },
  {
   "cell_type": "code",
   "execution_count": 36,
   "metadata": {},
   "outputs": [
    {
     "ename": "ImportError",
     "evalue": "DLL load failed while importing cpp_lib: 找不到指定的模块。",
     "output_type": "error",
     "traceback": [
      "\u001b[1;31m---------------------------------------------------------------------------\u001b[0m",
      "\u001b[1;31mImportError\u001b[0m                               Traceback (most recent call last)",
      "\u001b[1;32mc:\\Users\\Administrator\\Desktop\\self\\DL_\\Pytorch\\benchmark\\torch.utils.benchmark.ipynb 单元格 50\u001b[0m line \u001b[0;36m2\n\u001b[0;32m     <a href='vscode-notebook-cell:/c%3A/Users/Administrator/Desktop/self/DL_/Pytorch/benchmark/torch.utils.benchmark.ipynb#Y100sZmlsZQ%3D%3D?line=21'>22</a>\u001b[0m \u001b[39mimport\u001b[39;00m \u001b[39mos\u001b[39;00m\n\u001b[0;32m     <a href='vscode-notebook-cell:/c%3A/Users/Administrator/Desktop/self/DL_/Pytorch/benchmark/torch.utils.benchmark.ipynb#Y100sZmlsZQ%3D%3D?line=22'>23</a>\u001b[0m \u001b[39mfrom\u001b[39;00m \u001b[39mtorch\u001b[39;00m\u001b[39m.\u001b[39;00m\u001b[39mutils\u001b[39;00m \u001b[39mimport\u001b[39;00m cpp_extension\n\u001b[1;32m---> <a href='vscode-notebook-cell:/c%3A/Users/Administrator/Desktop/self/DL_/Pytorch/benchmark/torch.utils.benchmark.ipynb#Y100sZmlsZQ%3D%3D?line=23'>24</a>\u001b[0m cpp_lib \u001b[39m=\u001b[39m cpp_extension\u001b[39m.\u001b[39;49mload_inline(\n\u001b[0;32m     <a href='vscode-notebook-cell:/c%3A/Users/Administrator/Desktop/self/DL_/Pytorch/benchmark/torch.utils.benchmark.ipynb#Y100sZmlsZQ%3D%3D?line=24'>25</a>\u001b[0m     name\u001b[39m=\u001b[39;49m\u001b[39m'\u001b[39;49m\u001b[39mcpp_lib\u001b[39;49m\u001b[39m'\u001b[39;49m,\n\u001b[0;32m     <a href='vscode-notebook-cell:/c%3A/Users/Administrator/Desktop/self/DL_/Pytorch/benchmark/torch.utils.benchmark.ipynb#Y100sZmlsZQ%3D%3D?line=25'>26</a>\u001b[0m     cpp_sources\u001b[39m=\u001b[39;49mbatched_dot_src,\n\u001b[0;32m     <a href='vscode-notebook-cell:/c%3A/Users/Administrator/Desktop/self/DL_/Pytorch/benchmark/torch.utils.benchmark.ipynb#Y100sZmlsZQ%3D%3D?line=26'>27</a>\u001b[0m     extra_cflags\u001b[39m=\u001b[39;49m[\u001b[39m'\u001b[39;49m\u001b[39m-O3\u001b[39;49m\u001b[39m'\u001b[39;49m],\n\u001b[0;32m     <a href='vscode-notebook-cell:/c%3A/Users/Administrator/Desktop/self/DL_/Pytorch/benchmark/torch.utils.benchmark.ipynb#Y100sZmlsZQ%3D%3D?line=27'>28</a>\u001b[0m     extra_include_paths\u001b[39m=\u001b[39;49m[\n\u001b[0;32m     <a href='vscode-notebook-cell:/c%3A/Users/Administrator/Desktop/self/DL_/Pytorch/benchmark/torch.utils.benchmark.ipynb#Y100sZmlsZQ%3D%3D?line=28'>29</a>\u001b[0m         \u001b[39m# `load_inline` needs to know where to find ``pybind11`` headers.\u001b[39;49;00m\n\u001b[0;32m     <a href='vscode-notebook-cell:/c%3A/Users/Administrator/Desktop/self/DL_/Pytorch/benchmark/torch.utils.benchmark.ipynb#Y100sZmlsZQ%3D%3D?line=29'>30</a>\u001b[0m         os\u001b[39m.\u001b[39;49mpath\u001b[39m.\u001b[39;49mjoin(os\u001b[39m.\u001b[39;49mgetenv(\u001b[39m'\u001b[39;49m\u001b[39mCONDA_PREFIX\u001b[39;49m\u001b[39m'\u001b[39;49m), \u001b[39m'\u001b[39;49m\u001b[39minclude\u001b[39;49m\u001b[39m'\u001b[39;49m)\n\u001b[0;32m     <a href='vscode-notebook-cell:/c%3A/Users/Administrator/Desktop/self/DL_/Pytorch/benchmark/torch.utils.benchmark.ipynb#Y100sZmlsZQ%3D%3D?line=30'>31</a>\u001b[0m     ],\n\u001b[0;32m     <a href='vscode-notebook-cell:/c%3A/Users/Administrator/Desktop/self/DL_/Pytorch/benchmark/torch.utils.benchmark.ipynb#Y100sZmlsZQ%3D%3D?line=31'>32</a>\u001b[0m     functions\u001b[39m=\u001b[39;49m[\u001b[39m'\u001b[39;49m\u001b[39mbatched_dot_mul_sum_v0\u001b[39;49m\u001b[39m'\u001b[39;49m, \u001b[39m'\u001b[39;49m\u001b[39mbatched_dot_mul_sum_v1\u001b[39;49m\u001b[39m'\u001b[39;49m]\n\u001b[0;32m     <a href='vscode-notebook-cell:/c%3A/Users/Administrator/Desktop/self/DL_/Pytorch/benchmark/torch.utils.benchmark.ipynb#Y100sZmlsZQ%3D%3D?line=32'>33</a>\u001b[0m )\n\u001b[0;32m     <a href='vscode-notebook-cell:/c%3A/Users/Administrator/Desktop/self/DL_/Pytorch/benchmark/torch.utils.benchmark.ipynb#Y100sZmlsZQ%3D%3D?line=34'>35</a>\u001b[0m \u001b[39m# `load_inline` will create a shared object that is loaded into Python. When we collect\u001b[39;00m\n\u001b[0;32m     <a href='vscode-notebook-cell:/c%3A/Users/Administrator/Desktop/self/DL_/Pytorch/benchmark/torch.utils.benchmark.ipynb#Y100sZmlsZQ%3D%3D?line=35'>36</a>\u001b[0m \u001b[39m# instruction counts Timer will create a subprocess, so we need to re-import it. The\u001b[39;00m\n\u001b[0;32m     <a href='vscode-notebook-cell:/c%3A/Users/Administrator/Desktop/self/DL_/Pytorch/benchmark/torch.utils.benchmark.ipynb#Y100sZmlsZQ%3D%3D?line=36'>37</a>\u001b[0m \u001b[39m# import process is slightly more complicated for C extensions, but that's all we're\u001b[39;00m\n\u001b[0;32m     <a href='vscode-notebook-cell:/c%3A/Users/Administrator/Desktop/self/DL_/Pytorch/benchmark/torch.utils.benchmark.ipynb#Y100sZmlsZQ%3D%3D?line=37'>38</a>\u001b[0m \u001b[39m# doing here.\u001b[39;00m\n\u001b[0;32m     <a href='vscode-notebook-cell:/c%3A/Users/Administrator/Desktop/self/DL_/Pytorch/benchmark/torch.utils.benchmark.ipynb#Y100sZmlsZQ%3D%3D?line=38'>39</a>\u001b[0m module_import_str \u001b[39m=\u001b[39m \u001b[39mf\u001b[39m\u001b[39m\"\"\"\u001b[39m\u001b[39m\\\u001b[39;00m\n\u001b[0;32m     <a href='vscode-notebook-cell:/c%3A/Users/Administrator/Desktop/self/DL_/Pytorch/benchmark/torch.utils.benchmark.ipynb#Y100sZmlsZQ%3D%3D?line=39'>40</a>\u001b[0m \u001b[39m# https://stackoverflow.com/questions/67631/how-to-import-a-module-given-the-full-path\u001b[39m\n\u001b[0;32m     <a href='vscode-notebook-cell:/c%3A/Users/Administrator/Desktop/self/DL_/Pytorch/benchmark/torch.utils.benchmark.ipynb#Y100sZmlsZQ%3D%3D?line=40'>41</a>\u001b[0m \u001b[39mimport importlib.util\u001b[39m\n\u001b[0;32m     <a href='vscode-notebook-cell:/c%3A/Users/Administrator/Desktop/self/DL_/Pytorch/benchmark/torch.utils.benchmark.ipynb#Y100sZmlsZQ%3D%3D?line=41'>42</a>\u001b[0m \u001b[39mspec = importlib.util.spec_from_file_location(\u001b[39m\u001b[39m\"\u001b[39m\u001b[39mcpp_lib\u001b[39m\u001b[39m\"\u001b[39m\u001b[39m, \u001b[39m\u001b[39m{\u001b[39;00m\u001b[39mrepr\u001b[39m(cpp_lib\u001b[39m.\u001b[39m\u001b[39m__file__\u001b[39m)\u001b[39m}\u001b[39;00m\u001b[39m)\u001b[39m\n\u001b[0;32m     <a href='vscode-notebook-cell:/c%3A/Users/Administrator/Desktop/self/DL_/Pytorch/benchmark/torch.utils.benchmark.ipynb#Y100sZmlsZQ%3D%3D?line=42'>43</a>\u001b[0m \u001b[39mcpp_lib = importlib.util.module_from_spec(spec)\u001b[39m\n\u001b[0;32m     <a href='vscode-notebook-cell:/c%3A/Users/Administrator/Desktop/self/DL_/Pytorch/benchmark/torch.utils.benchmark.ipynb#Y100sZmlsZQ%3D%3D?line=43'>44</a>\u001b[0m \u001b[39mspec.loader.exec_module(cpp_lib)\u001b[39m\u001b[39m\"\"\"\u001b[39m\n",
      "File \u001b[1;32md:\\miniconda3\\envs\\pytorch\\Lib\\site-packages\\torch\\utils\\cpp_extension.py:1635\u001b[0m, in \u001b[0;36mload_inline\u001b[1;34m(name, cpp_sources, cuda_sources, functions, extra_cflags, extra_cuda_cflags, extra_ldflags, extra_include_paths, build_directory, verbose, with_cuda, is_python_module, with_pytorch_error_handling, keep_intermediates, use_pch)\u001b[0m\n\u001b[0;32m   1631\u001b[0m     _maybe_write(cuda_source_path, \u001b[39m\"\u001b[39m\u001b[39m\\n\u001b[39;00m\u001b[39m\"\u001b[39m\u001b[39m.\u001b[39mjoin(cuda_sources))\n\u001b[0;32m   1633\u001b[0m     sources\u001b[39m.\u001b[39mappend(cuda_source_path)\n\u001b[1;32m-> 1635\u001b[0m \u001b[39mreturn\u001b[39;00m _jit_compile(\n\u001b[0;32m   1636\u001b[0m     name,\n\u001b[0;32m   1637\u001b[0m     sources,\n\u001b[0;32m   1638\u001b[0m     extra_cflags,\n\u001b[0;32m   1639\u001b[0m     extra_cuda_cflags,\n\u001b[0;32m   1640\u001b[0m     extra_ldflags,\n\u001b[0;32m   1641\u001b[0m     extra_include_paths,\n\u001b[0;32m   1642\u001b[0m     build_directory,\n\u001b[0;32m   1643\u001b[0m     verbose,\n\u001b[0;32m   1644\u001b[0m     with_cuda,\n\u001b[0;32m   1645\u001b[0m     is_python_module,\n\u001b[0;32m   1646\u001b[0m     is_standalone\u001b[39m=\u001b[39;49m\u001b[39mFalse\u001b[39;49;00m,\n\u001b[0;32m   1647\u001b[0m     keep_intermediates\u001b[39m=\u001b[39;49mkeep_intermediates)\n",
      "File \u001b[1;32md:\\miniconda3\\envs\\pytorch\\Lib\\site-packages\\torch\\utils\\cpp_extension.py:1736\u001b[0m, in \u001b[0;36m_jit_compile\u001b[1;34m(name, sources, extra_cflags, extra_cuda_cflags, extra_ldflags, extra_include_paths, build_directory, verbose, with_cuda, is_python_module, is_standalone, keep_intermediates)\u001b[0m\n\u001b[0;32m   1733\u001b[0m \u001b[39mif\u001b[39;00m is_standalone:\n\u001b[0;32m   1734\u001b[0m     \u001b[39mreturn\u001b[39;00m _get_exec_path(name, build_directory)\n\u001b[1;32m-> 1736\u001b[0m \u001b[39mreturn\u001b[39;00m _import_module_from_library(name, build_directory, is_python_module)\n",
      "File \u001b[1;32md:\\miniconda3\\envs\\pytorch\\Lib\\site-packages\\torch\\utils\\cpp_extension.py:2136\u001b[0m, in \u001b[0;36m_import_module_from_library\u001b[1;34m(module_name, path, is_python_module)\u001b[0m\n\u001b[0;32m   2134\u001b[0m spec \u001b[39m=\u001b[39m importlib\u001b[39m.\u001b[39mutil\u001b[39m.\u001b[39mspec_from_file_location(module_name, filepath)\n\u001b[0;32m   2135\u001b[0m \u001b[39massert\u001b[39;00m spec \u001b[39mis\u001b[39;00m \u001b[39mnot\u001b[39;00m \u001b[39mNone\u001b[39;00m\n\u001b[1;32m-> 2136\u001b[0m module \u001b[39m=\u001b[39m importlib\u001b[39m.\u001b[39;49mutil\u001b[39m.\u001b[39;49mmodule_from_spec(spec)\n\u001b[0;32m   2137\u001b[0m \u001b[39massert\u001b[39;00m \u001b[39misinstance\u001b[39m(spec\u001b[39m.\u001b[39mloader, importlib\u001b[39m.\u001b[39mabc\u001b[39m.\u001b[39mLoader)\n\u001b[0;32m   2138\u001b[0m spec\u001b[39m.\u001b[39mloader\u001b[39m.\u001b[39mexec_module(module)\n",
      "File \u001b[1;32m<frozen importlib._bootstrap>:573\u001b[0m, in \u001b[0;36mmodule_from_spec\u001b[1;34m(spec)\u001b[0m\n",
      "File \u001b[1;32m<frozen importlib._bootstrap_external>:1233\u001b[0m, in \u001b[0;36mcreate_module\u001b[1;34m(self, spec)\u001b[0m\n",
      "File \u001b[1;32m<frozen importlib._bootstrap>:241\u001b[0m, in \u001b[0;36m_call_with_frames_removed\u001b[1;34m(f, *args, **kwds)\u001b[0m\n",
      "\u001b[1;31mImportError\u001b[0m: DLL load failed while importing cpp_lib: 找不到指定的模块。"
     ]
    }
   ],
   "source": [
    "batched_dot_src = \"\"\"\\\n",
    "/* ---- Python ---- */\n",
    "// def batched_dot_mul_sum(a, b):\n",
    "//     return a.mul(b).sum(-1)\n",
    "\n",
    "torch::Tensor batched_dot_mul_sum_v0(\n",
    "    const torch::Tensor a,\n",
    "    const torch::Tensor b) {\n",
    "  return a.mul(b).sum(-1);\n",
    "}\n",
    "\n",
    "torch::Tensor batched_dot_mul_sum_v1(\n",
    "    const torch::Tensor& a,\n",
    "    const torch::Tensor& b) {\n",
    "  return a.mul(b).sum(-1);\n",
    "}\n",
    "\"\"\"\n",
    "\n",
    "\n",
    "# PyTorch makes it easy to test our C++ implementations by providing a utility\n",
    "# to JIT compile C++ source into Python extensions:\n",
    "import os\n",
    "from torch.utils import cpp_extension\n",
    "cpp_lib = cpp_extension.load_inline(\n",
    "    name='cpp_lib',\n",
    "    cpp_sources=batched_dot_src,\n",
    "    extra_cflags=['-O3'],\n",
    "    extra_include_paths=[\n",
    "        # `load_inline` needs to know where to find ``pybind11`` headers.\n",
    "        os.path.join(os.getenv('CONDA_PREFIX'), 'include')\n",
    "    ],\n",
    "    functions=['batched_dot_mul_sum_v0', 'batched_dot_mul_sum_v1']\n",
    ")\n",
    "\n",
    "# `load_inline` will create a shared object that is loaded into Python. When we collect\n",
    "# instruction counts Timer will create a subprocess, so we need to re-import it. The\n",
    "# import process is slightly more complicated for C extensions, but that's all we're\n",
    "# doing here.\n",
    "module_import_str = f\"\"\"\\\n",
    "# https://stackoverflow.com/questions/67631/how-to-import-a-module-given-the-full-path\n",
    "import importlib.util\n",
    "spec = importlib.util.spec_from_file_location(\"cpp_lib\", {repr(cpp_lib.__file__)})\n",
    "cpp_lib = importlib.util.module_from_spec(spec)\n",
    "spec.loader.exec_module(cpp_lib)\"\"\"\n",
    "\n",
    "import textwrap\n",
    "def pretty_print(result):\n",
    "    \"\"\"Import machinery for ``cpp_lib.so`` can get repetitive to look at.\"\"\"\n",
    "    print(repr(result).replace(textwrap.indent(module_import_str, \"  \"), \"  import cpp_lib\"))\n",
    "\n",
    "t_baseline = benchmark.Timer(\n",
    "    stmt='batched_dot_mul_sum(x, x)',\n",
    "    setup='''\\\n",
    "from __main__ import batched_dot_mul_sum\n",
    "x = torch.randn(2, 2)''')\n",
    "\n",
    "t0 = benchmark.Timer(\n",
    "    stmt='cpp_lib.batched_dot_mul_sum_v0(x, x)',\n",
    "    setup=f'''\\\n",
    "{module_import_str}\n",
    "x = torch.randn(2, 2)''')\n",
    "\n",
    "t1 = benchmark.Timer(\n",
    "    stmt='cpp_lib.batched_dot_mul_sum_v1(x, x)',\n",
    "    setup=f'''\\\n",
    "{module_import_str}\n",
    "x = torch.randn(2, 2)''')\n",
    "\n",
    "# Moving to C++ did indeed reduce overhead, but it's hard to tell which\n",
    "# calling convention is more efficient. v1 (call with references) seems to\n",
    "# be a bit faster, but it's within measurement error.\n",
    "pretty_print(t_baseline.blocked_autorange())\n",
    "pretty_print(t0.blocked_autorange())\n",
    "pretty_print(t1.blocked_autorange())"
   ]
  },
  {
   "cell_type": "code",
   "execution_count": null,
   "metadata": {},
   "outputs": [
    {
     "ename": "OSError",
     "evalue": "Valgrind is not supported on this platform.",
     "output_type": "error",
     "traceback": [
      "\u001b[1;31m---------------------------------------------------------------------------\u001b[0m",
      "\u001b[1;31mOSError\u001b[0m                                   Traceback (most recent call last)",
      "\u001b[1;32mc:\\Users\\Administrator\\Desktop\\self\\DL_\\Pytorch\\benchmark\\benchmark.ipynb 单元格 51\u001b[0m line \u001b[0;36m2\n\u001b[0;32m      <a href='vscode-notebook-cell:/c%3A/Users/Administrator/Desktop/self/DL_/Pytorch/benchmark/benchmark.ipynb#Y105sZmlsZQ%3D%3D?line=0'>1</a>\u001b[0m \u001b[39m# Let's use ``Callgrind`` to determine which is better.\u001b[39;00m\n\u001b[1;32m----> <a href='vscode-notebook-cell:/c%3A/Users/Administrator/Desktop/self/DL_/Pytorch/benchmark/benchmark.ipynb#Y105sZmlsZQ%3D%3D?line=1'>2</a>\u001b[0m stats_v0 \u001b[39m=\u001b[39m t0\u001b[39m.\u001b[39;49mcollect_callgrind()\n\u001b[0;32m      <a href='vscode-notebook-cell:/c%3A/Users/Administrator/Desktop/self/DL_/Pytorch/benchmark/benchmark.ipynb#Y105sZmlsZQ%3D%3D?line=2'>3</a>\u001b[0m stats_v1 \u001b[39m=\u001b[39m t1\u001b[39m.\u001b[39mcollect_callgrind()\n\u001b[0;32m      <a href='vscode-notebook-cell:/c%3A/Users/Administrator/Desktop/self/DL_/Pytorch/benchmark/benchmark.ipynb#Y105sZmlsZQ%3D%3D?line=4'>5</a>\u001b[0m pretty_print(stats_v0)\n",
      "File \u001b[1;32md:\\miniconda3\\envs\\pytorch\\Lib\\site-packages\\torch\\utils\\benchmark\\utils\\timer.py:486\u001b[0m, in \u001b[0;36mTimer.collect_callgrind\u001b[1;34m(self, number, repeats, collect_baseline, retain_out_file)\u001b[0m\n\u001b[0;32m    484\u001b[0m is_python \u001b[39m=\u001b[39m (\u001b[39mself\u001b[39m\u001b[39m.\u001b[39m_language \u001b[39m==\u001b[39m Language\u001b[39m.\u001b[39mPYTHON)\n\u001b[0;32m    485\u001b[0m \u001b[39massert\u001b[39;00m is_python \u001b[39mor\u001b[39;00m \u001b[39mnot\u001b[39;00m \u001b[39mself\u001b[39m\u001b[39m.\u001b[39m_globals\n\u001b[1;32m--> 486\u001b[0m result \u001b[39m=\u001b[39m valgrind_timer_interface\u001b[39m.\u001b[39;49mwrapper_singleton()\u001b[39m.\u001b[39;49mcollect_callgrind(\n\u001b[0;32m    487\u001b[0m     task_spec\u001b[39m=\u001b[39;49m\u001b[39mself\u001b[39;49m\u001b[39m.\u001b[39;49m_task_spec,\n\u001b[0;32m    488\u001b[0m     \u001b[39mglobals\u001b[39;49m\u001b[39m=\u001b[39;49m\u001b[39mself\u001b[39;49m\u001b[39m.\u001b[39;49m_globals,\n\u001b[0;32m    489\u001b[0m     number\u001b[39m=\u001b[39;49mnumber,\n\u001b[0;32m    490\u001b[0m     repeats\u001b[39m=\u001b[39;49mrepeats \u001b[39mor\u001b[39;49;00m \u001b[39m1\u001b[39;49m,\n\u001b[0;32m    491\u001b[0m     collect_baseline\u001b[39m=\u001b[39;49mcollect_baseline \u001b[39mand\u001b[39;49;00m is_python,\n\u001b[0;32m    492\u001b[0m     is_python\u001b[39m=\u001b[39;49mis_python,\n\u001b[0;32m    493\u001b[0m     retain_out_file\u001b[39m=\u001b[39;49mretain_out_file,\n\u001b[0;32m    494\u001b[0m )\n\u001b[0;32m    496\u001b[0m \u001b[39mreturn\u001b[39;00m (result[\u001b[39m0\u001b[39m] \u001b[39mif\u001b[39;00m repeats \u001b[39mis\u001b[39;00m \u001b[39mNone\u001b[39;00m \u001b[39melse\u001b[39;00m result)\n",
      "File \u001b[1;32md:\\miniconda3\\envs\\pytorch\\Lib\\site-packages\\torch\\utils\\benchmark\\utils\\valgrind_wrapper\\timer_interface.py:527\u001b[0m, in \u001b[0;36m_ValgrindWrapper.collect_callgrind\u001b[1;34m(self, task_spec, globals, number, repeats, collect_baseline, is_python, retain_out_file)\u001b[0m\n\u001b[0;32m    515\u001b[0m \u001b[39mdef\u001b[39;00m \u001b[39mcollect_callgrind\u001b[39m(\n\u001b[0;32m    516\u001b[0m     \u001b[39mself\u001b[39m,\n\u001b[0;32m    517\u001b[0m     task_spec: common\u001b[39m.\u001b[39mTaskSpec,\n\u001b[1;32m   (...)\u001b[0m\n\u001b[0;32m    524\u001b[0m     retain_out_file: \u001b[39mbool\u001b[39m,\n\u001b[0;32m    525\u001b[0m ) \u001b[39m-\u001b[39m\u001b[39m>\u001b[39m Tuple[CallgrindStats, \u001b[39m.\u001b[39m\u001b[39m.\u001b[39m\u001b[39m.\u001b[39m]:\n\u001b[0;32m    526\u001b[0m \u001b[39m    \u001b[39m\u001b[39m\"\"\"Collect stats, and attach a reference run which can be used to filter interpreter overhead.\"\"\"\u001b[39;00m\n\u001b[1;32m--> 527\u001b[0m     \u001b[39mself\u001b[39;49m\u001b[39m.\u001b[39;49m_validate()\n\u001b[0;32m    528\u001b[0m     \u001b[39massert\u001b[39;00m is_python \u001b[39mor\u001b[39;00m \u001b[39mnot\u001b[39;00m collect_baseline\n\u001b[0;32m    530\u001b[0m     \u001b[39m*\u001b[39mtask_stats, baseline_stats \u001b[39m=\u001b[39m \u001b[39mself\u001b[39m\u001b[39m.\u001b[39m_invoke(\n\u001b[0;32m    531\u001b[0m         task_spec\u001b[39m=\u001b[39mtask_spec,\n\u001b[0;32m    532\u001b[0m         \u001b[39mglobals\u001b[39m\u001b[39m=\u001b[39m\u001b[39mglobals\u001b[39m,\n\u001b[1;32m   (...)\u001b[0m\n\u001b[0;32m    537\u001b[0m         retain_out_file\u001b[39m=\u001b[39mretain_out_file,\n\u001b[0;32m    538\u001b[0m     )\n",
      "File \u001b[1;32md:\\miniconda3\\envs\\pytorch\\Lib\\site-packages\\torch\\utils\\benchmark\\utils\\valgrind_wrapper\\timer_interface.py:509\u001b[0m, in \u001b[0;36m_ValgrindWrapper._validate\u001b[1;34m(self)\u001b[0m\n\u001b[0;32m    507\u001b[0m \u001b[39mdef\u001b[39;00m \u001b[39m_validate\u001b[39m(\u001b[39mself\u001b[39m) \u001b[39m-\u001b[39m\u001b[39m>\u001b[39m \u001b[39mNone\u001b[39;00m:\n\u001b[0;32m    508\u001b[0m     \u001b[39mif\u001b[39;00m \u001b[39mnot\u001b[39;00m \u001b[39mself\u001b[39m\u001b[39m.\u001b[39m_supported_platform:\n\u001b[1;32m--> 509\u001b[0m         \u001b[39mraise\u001b[39;00m \u001b[39mOSError\u001b[39;00m(\u001b[39m\"\u001b[39m\u001b[39mValgrind is not supported on this platform.\u001b[39m\u001b[39m\"\u001b[39m)\n\u001b[0;32m    511\u001b[0m     missing_cmds \u001b[39m=\u001b[39m [cmd \u001b[39mfor\u001b[39;00m cmd, available \u001b[39min\u001b[39;00m \u001b[39mself\u001b[39m\u001b[39m.\u001b[39m_commands_available\u001b[39m.\u001b[39mitems() \u001b[39mif\u001b[39;00m \u001b[39mnot\u001b[39;00m available]\n\u001b[0;32m    512\u001b[0m     \u001b[39mif\u001b[39;00m missing_cmds:\n",
      "\u001b[1;31mOSError\u001b[0m: Valgrind is not supported on this platform."
     ]
    }
   ],
   "source": [
    "# Let's use ``Callgrind`` to determine which is better.\n",
    "stats_v0 = t0.collect_callgrind()\n",
    "stats_v1 = t1.collect_callgrind()\n",
    "\n",
    "pretty_print(stats_v0)\n",
    "pretty_print(stats_v1)\n",
    "\n",
    "# `.as_standardized` removes file names and some path prefixes, and makes\n",
    "# it easier to read the function symbols.\n",
    "stats_v0 = stats_v0.as_standardized()\n",
    "stats_v1 = stats_v1.as_standardized()\n",
    "\n",
    "# `.delta` diffs the instruction counts, and `.denoise` removes several\n",
    "# functions in the Python interpreter that are known to have significant\n",
    "# jitter.\n",
    "delta = stats_v1.delta(stats_v0).denoise()\n",
    "\n",
    "# `.transform` is a convenience API for transforming function names. It is\n",
    "# useful for increasing cancelation when ``diff-ing`` instructions, as well as\n",
    "# just generally improving readability.\n",
    "replacements = (\n",
    "    (\"???:void pybind11\", \"pybind11\"),\n",
    "    (\"batched_dot_mul_sum_v0\", \"batched_dot_mul_sum_v1\"),\n",
    "    (\"at::Tensor, at::Tensor\", \"...\"),\n",
    "    (\"at::Tensor const&, at::Tensor const&\", \"...\"),\n",
    "    (\"auto torch::detail::wrap_pybind_function_impl_\", \"wrap_pybind_function_impl_\"),\n",
    ")\n",
    "for before, after in replacements:\n",
    "    delta = delta.transform(lambda l: l.replace(before, after))\n",
    "\n",
    "# We can use print options to control how much of the function to display.\n",
    "torch.set_printoptions(linewidth=160)\n",
    "\n",
    "# Once parsed, the instruction counts make clear that passing `a` and `b`\n",
    "# by reference is more efficient as it skips some ``c10::TensorImpl`` bookkeeping\n",
    "# for the intermediate Tensors, and is also works better with ``pybind11``. This\n",
    "# is consistent with our noisy wall time observations.\n",
    "print(delta)"
   ]
  },
  {
   "cell_type": "code",
   "execution_count": null,
   "metadata": {},
   "outputs": [],
   "source": []
  }
 ],
 "metadata": {
  "kernelspec": {
   "display_name": "pytorch",
   "language": "python",
   "name": "python3"
  },
  "language_info": {
   "codemirror_mode": {
    "name": "ipython",
    "version": 3
   },
   "file_extension": ".py",
   "mimetype": "text/x-python",
   "name": "python",
   "nbconvert_exporter": "python",
   "pygments_lexer": "ipython3",
   "version": "3.11.4"
  }
 },
 "nbformat": 4,
 "nbformat_minor": 2
}
