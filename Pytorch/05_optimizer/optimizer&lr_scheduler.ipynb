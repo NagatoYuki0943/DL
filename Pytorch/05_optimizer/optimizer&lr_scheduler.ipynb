{
 "cells": [
  {
   "cell_type": "code",
   "execution_count": 56,
   "metadata": {},
   "outputs": [],
   "source": [
    "from torch import nn, optim\n",
    "import matplotlib.pyplot as plt"
   ]
  },
  {
   "cell_type": "code",
   "execution_count": 46,
   "metadata": {},
   "outputs": [],
   "source": [
    "net = nn.Linear(10, 1)"
   ]
  },
  {
   "cell_type": "code",
   "execution_count": 47,
   "metadata": {},
   "outputs": [
    {
     "data": {
      "text/plain": [
       "SGD (\n",
       "Parameter Group 0\n",
       "    dampening: 0\n",
       "    differentiable: False\n",
       "    foreach: None\n",
       "    lr: 0.01\n",
       "    maximize: False\n",
       "    momentum: 0.937\n",
       "    nesterov: False\n",
       "    weight_decay: 0.0001\n",
       ")"
      ]
     },
     "execution_count": 47,
     "metadata": {},
     "output_type": "execute_result"
    }
   ],
   "source": [
    "optim.SGD(\n",
    "    net.parameters(),\n",
    "    lr=0.01,\n",
    "    momentum=0.937,\n",
    "    weight_decay=1e-4,\n",
    ")"
   ]
  },
  {
   "cell_type": "code",
   "execution_count": 48,
   "metadata": {},
   "outputs": [
    {
     "data": {
      "text/plain": [
       "Adam (\n",
       "Parameter Group 0\n",
       "    amsgrad: False\n",
       "    betas: (0.9, 0.999)\n",
       "    capturable: False\n",
       "    differentiable: False\n",
       "    eps: 1e-08\n",
       "    foreach: None\n",
       "    fused: None\n",
       "    lr: 0.001\n",
       "    maximize: False\n",
       "    weight_decay: 0.01\n",
       ")"
      ]
     },
     "execution_count": 48,
     "metadata": {},
     "output_type": "execute_result"
    }
   ],
   "source": [
    "optim.Adam(\n",
    "    net.parameters(),\n",
    "    lr=0.001,\n",
    "    betas=(0.9, 0.999),\n",
    "    eps=1e-8,\n",
    "    weight_decay=1e-2,\n",
    ")"
   ]
  },
  {
   "cell_type": "code",
   "execution_count": 49,
   "metadata": {},
   "outputs": [],
   "source": [
    "optimizer = optim.AdamW(\n",
    "    net.parameters(),\n",
    "    lr=0.001,\n",
    "    betas=(0.9, 0.999),\n",
    "    eps=1e-8,\n",
    "    weight_decay=1e-2,\n",
    ")"
   ]
  },
  {
   "cell_type": "code",
   "execution_count": 50,
   "metadata": {},
   "outputs": [
    {
     "data": {
      "text/plain": [
       "{'state': {},\n",
       " 'param_groups': [{'lr': 0.001,\n",
       "   'betas': (0.9, 0.999),\n",
       "   'eps': 1e-08,\n",
       "   'weight_decay': 0.01,\n",
       "   'amsgrad': False,\n",
       "   'foreach': None,\n",
       "   'maximize': False,\n",
       "   'capturable': False,\n",
       "   'differentiable': False,\n",
       "   'fused': None,\n",
       "   'params': [0, 1]}]}"
      ]
     },
     "execution_count": 50,
     "metadata": {},
     "output_type": "execute_result"
    }
   ],
   "source": [
    "optimizer.state_dict()"
   ]
  },
  {
   "cell_type": "code",
   "execution_count": 51,
   "metadata": {},
   "outputs": [],
   "source": [
    "EPOCHS = 100\n",
    "LR = 0.001"
   ]
  },
  {
   "cell_type": "code",
   "execution_count": 52,
   "metadata": {},
   "outputs": [],
   "source": [
    "lr_sche = optim.lr_scheduler.CosineAnnealingLR(\n",
    "    optimizer, T_max=EPOCHS, eta_min=LR * 0.1\n",
    ")"
   ]
  },
  {
   "cell_type": "code",
   "execution_count": 53,
   "metadata": {},
   "outputs": [
    {
     "data": {
      "text/plain": [
       "{'T_max': 100,\n",
       " 'eta_min': 0.0001,\n",
       " 'base_lrs': [0.001],\n",
       " 'last_epoch': 0,\n",
       " 'verbose': False,\n",
       " '_step_count': 1,\n",
       " '_get_lr_called_within_step': False,\n",
       " '_last_lr': [0.001]}"
      ]
     },
     "execution_count": 53,
     "metadata": {},
     "output_type": "execute_result"
    }
   ],
   "source": [
    "lr_sche.state_dict()"
   ]
  },
  {
   "cell_type": "code",
   "execution_count": 54,
   "metadata": {},
   "outputs": [],
   "source": [
    "def get_lr(optimizer):\n",
    "    return optimizer.state_dict()[\"param_groups\"][0][\"lr\"]"
   ]
  },
  {
   "cell_type": "code",
   "execution_count": 55,
   "metadata": {},
   "outputs": [
    {
     "name": "stdout",
     "output_type": "stream",
     "text": [
      "lr = 0.001\n",
      "lr = 0.0009997779521645793\n",
      "lr = 0.0009991120277927223\n",
      "lr = 0.000998002884071386\n",
      "lr = 0.000996451615591515\n",
      "lr = 0.000994459753267812\n",
      "lr = 0.0009920292628279098\n",
      "lr = 0.000989162542872436\n",
      "lr = 0.0009858624225078836\n",
      "lr = 0.000982132158554624\n",
      "lr = 0.0009779754323328187\n",
      "lr = 0.0009733963460294011\n",
      "lr = 0.0009683994186497127\n",
      "lr = 0.000962989581557791\n",
      "lr = 0.0009571721736097084\n",
      "lr = 0.0009509529358847651\n",
      "lr = 0.0009443380060197382\n",
      "lr = 0.0009373339121517743\n",
      "lr = 0.0009299475664759064\n",
      "lr = 0.0009221862584235525\n",
      "lr = 0.000914057647468726\n",
      "lr = 0.0009055697555690603\n",
      "lr = 0.0008967309592491047\n",
      "lr = 0.0008875499813337064\n",
      "lr = 0.0008780358823396348\n",
      "lr = 0.000868198051533946\n",
      "lr = 0.0008580461976679096\n",
      "lr = 0.000847590339395643\n",
      "lr = 0.0008368407953869101\n",
      "lr = 0.0008258081741438392\n",
      "lr = 0.0008145033635316127\n",
      "lr = 0.0008029375200334586\n",
      "lr = 0.0007911220577405481\n",
      "lr = 0.0007790686370876667\n",
      "lr = 0.0007667891533457716\n",
      "lr = 0.0007542957248827957\n",
      "lr = 0.0007416006812042824\n",
      "lr = 0.0007287165507856509\n",
      "lr = 0.0007156560487081049\n",
      "lr = 0.0007024320641103809\n",
      "lr = 0.0006890576474687261\n",
      "lr = 0.0006755459977176529\n",
      "lr = 0.0006619104492241843\n",
      "lr = 0.0006481644586284439\n",
      "lr = 0.0006343215915635759\n",
      "lr = 0.0006203955092681036\n",
      "lr = 0.0006063999551039368\n",
      "lr = 0.0005923487409933312\n",
      "lr = 0.0005782557337881908\n",
      "lr = 0.0005641348415851575\n",
      "lr = 0.0005499999999999997\n",
      "lr = 0.000535865158414842\n",
      "lr = 0.0005217442662118087\n",
      "lr = 0.0005076512590066682\n",
      "lr = 0.0004936000448960629\n",
      "lr = 0.00047960449073189583\n",
      "lr = 0.00046567840843642365\n",
      "lr = 0.0004518355413715557\n",
      "lr = 0.00043808955077581505\n",
      "lr = 0.0004244540022823466\n",
      "lr = 0.00041094235253127357\n",
      "lr = 0.00039756793588961866\n",
      "lr = 0.00038434395129189486\n",
      "lr = 0.0003712834492143485\n",
      "lr = 0.0003583993187957171\n",
      "lr = 0.00034570427511720377\n",
      "lr = 0.00033321084665422786\n",
      "lr = 0.0003209313629123327\n",
      "lr = 0.00030887794225945123\n",
      "lr = 0.000297062479966541\n",
      "lr = 0.000285496636468387\n",
      "lr = 0.0002741918258561604\n",
      "lr = 0.0002631592046130895\n",
      "lr = 0.00025240966060435663\n",
      "lr = 0.00024195380233208997\n",
      "lr = 0.0002318019484660536\n",
      "lr = 0.00022196411766036485\n",
      "lr = 0.0002124500186662932\n",
      "lr = 0.00020326904075089485\n",
      "lr = 0.0001944302444309393\n",
      "lr = 0.00018594235253127368\n",
      "lr = 0.00017781374157644725\n",
      "lr = 0.0001700524335240933\n",
      "lr = 0.00016266608784822528\n",
      "lr = 0.00015566199398026135\n",
      "lr = 0.00014904706411523447\n",
      "lr = 0.00014282782639029126\n",
      "lr = 0.00013701041844220855\n",
      "lr = 0.00013160058135028687\n",
      "lr = 0.00012660365397059852\n",
      "lr = 0.00012202456766718089\n",
      "lr = 0.00011786784144537566\n",
      "lr = 0.00011413757749211605\n",
      "lr = 0.00011083745712756369\n",
      "lr = 0.00010797073717209007\n",
      "lr = 0.00010554024673218805\n",
      "lr = 0.000103548384408485\n",
      "lr = 0.000101997115928614\n",
      "lr = 0.0001008879722072778\n",
      "lr = 0.00010022204783542078\n"
     ]
    }
   ],
   "source": [
    "lrs = []\n",
    "for _ in range(EPOCHS):\n",
    "    print(\"lr =\", optimizer.state_dict()[\"param_groups\"][0][\"lr\"])\n",
    "    optimizer.zero_grad()\n",
    "    ...\n",
    "    optimizer.step()\n",
    "    lrs.append(get_lr(optimizer))\n",
    "    lr_sche.step()"
   ]
  },
  {
   "cell_type": "code",
   "execution_count": 58,
   "metadata": {},
   "outputs": [
    {
     "data": {
      "image/png": "[encoded data removed]",
      "text/plain": [
       "<Figure size 640x480 with 1 Axes>"
      ]
     },
     "metadata": {},
     "output_type": "display_data"
    }
   ],
   "source": [
    "plt.plot(lrs)\n",
    "plt.grid(True)"
   ]
  },
  {
   "cell_type": "code",
   "execution_count": null,
   "metadata": {},
   "outputs": [],
   "source": []
  }
 ],
 "metadata": {
  "kernelspec": {
   "display_name": "pytorch",
   "language": "python",
   "name": "python3"
  },
  "language_info": {
   "codemirror_mode": {
    "name": "ipython",
    "version": 3
   },
   "file_extension": ".py",
   "mimetype": "text/x-python",
   "name": "python",
   "nbconvert_exporter": "python",
   "pygments_lexer": "ipython3",
   "version": "3.11.4"
  },
  "orig_nbformat": 4
 },
 "nbformat": 4,
 "nbformat_minor": 2
}
