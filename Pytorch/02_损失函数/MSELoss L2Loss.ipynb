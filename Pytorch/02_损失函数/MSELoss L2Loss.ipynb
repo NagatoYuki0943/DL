{
 "cells": [
  {
   "cell_type": "code",
   "execution_count": 14,
   "metadata": {},
   "outputs": [],
   "source": [
    "import torch\n",
    "from torch import nn, Tensor\n",
    "from torch.nn import functional as F\n",
    "import warnings"
   ]
  },
  {
   "cell_type": "markdown",
   "metadata": {},
   "source": [
    "# 均方误差(mean square error, MSE / L2Loss)"
   ]
  },
  {
   "cell_type": "code",
   "execution_count": 3,
   "metadata": {},
   "outputs": [],
   "source": [
    "def mse_loss(input: Tensor, target: Tensor, reduction = 'mean') -> Tensor:\n",
    "    \"\"\"mse loss\n",
    "    input and target shape should be same.\n",
    "\n",
    "    Args:\n",
    "        input (Tensor):  predict value\n",
    "        target (Tensor): target value\n",
    "        reduction (str, optional): mean' | 'sum' | 'none'. Defaults to 'mean'.\n",
    "\n",
    "    Returns:\n",
    "        Tensor: mse result\n",
    "    \"\"\"\n",
    "    if target.size() != input.size():\n",
    "        warnings.warn(\n",
    "            \"Using a target size ({}) that is different to the input size ({}). \"\n",
    "            \"This will likely lead to incorrect results due to broadcasting. \"\n",
    "            \"Please ensure they have the same size.\".format(target.size(), input.size()),\n",
    "            stacklevel=2,\n",
    "        )\n",
    "\n",
    "    result: Tensor = (input - target) ** 2\n",
    "    if reduction == \"mean\":\n",
    "        return result.mean()\n",
    "    elif reduction == \"sum\":\n",
    "        return result.sum()\n",
    "    elif reduction == \"none\":\n",
    "        return result"
   ]
  },
  {
   "cell_type": "markdown",
   "metadata": {},
   "source": [
    "## 一维数据"
   ]
  },
  {
   "cell_type": "code",
   "execution_count": 22,
   "metadata": {},
   "outputs": [],
   "source": [
    "y_true = torch.tensor([1, 0, 1, 0])"
   ]
  },
  {
   "cell_type": "code",
   "execution_count": 23,
   "metadata": {},
   "outputs": [],
   "source": [
    "y_pred = torch.tensor([0.8, 0.1, 0.7, 0.3])"
   ]
  },
  {
   "cell_type": "code",
   "execution_count": 24,
   "metadata": {},
   "outputs": [
    {
     "name": "stdout",
     "output_type": "stream",
     "text": [
      "tensor(0.0575)\n",
      "tensor(0.0575)\n",
      "tensor(0.0575)\n"
     ]
    }
   ],
   "source": [
    "print(nn.MSELoss(reduction = 'mean')(y_pred, y_true))\n",
    "print(F.mse_loss(y_pred, y_true, reduction = 'mean'))\n",
    "print(mse_loss(y_pred, y_true, reduction = 'mean'))"
   ]
  },
  {
   "cell_type": "code",
   "execution_count": 25,
   "metadata": {},
   "outputs": [
    {
     "name": "stdout",
     "output_type": "stream",
     "text": [
      "tensor(0.2300)\n",
      "tensor(0.2300)\n",
      "tensor(0.2300)\n"
     ]
    }
   ],
   "source": [
    "print(nn.MSELoss(reduction = 'sum')(y_pred, y_true))\n",
    "print(F.mse_loss(y_pred, y_true, reduction = 'sum'))\n",
    "print(mse_loss(y_pred, y_true, reduction = 'sum'))"
   ]
  },
  {
   "cell_type": "code",
   "execution_count": 26,
   "metadata": {},
   "outputs": [
    {
     "name": "stdout",
     "output_type": "stream",
     "text": [
      "tensor([0.0400, 0.0100, 0.0900, 0.0900])\n",
      "tensor([0.0400, 0.0100, 0.0900, 0.0900])\n",
      "tensor([0.0400, 0.0100, 0.0900, 0.0900])\n"
     ]
    }
   ],
   "source": [
    "print(nn.MSELoss(reduction = 'none')(y_pred, y_true))\n",
    "print(F.mse_loss(y_pred, y_true, reduction = 'none'))\n",
    "print(mse_loss(y_pred, y_true, reduction = 'none'))"
   ]
  },
  {
   "cell_type": "markdown",
   "metadata": {},
   "source": [
    "## 二维数据"
   ]
  },
  {
   "cell_type": "code",
   "execution_count": 6,
   "metadata": {},
   "outputs": [],
   "source": [
    "y_true = torch.tensor([\n",
    "    [1, 0, 1, 0],\n",
    "    [1, 1, 0, 0],\n",
    "])"
   ]
  },
  {
   "cell_type": "code",
   "execution_count": 7,
   "metadata": {},
   "outputs": [],
   "source": [
    "y_pred = torch.tensor([\n",
    "    [0.8, 0.1, 0.7, 0.3],\n",
    "    [0.9, 0.6, 0.5, 0.3],\n",
    "])"
   ]
  },
  {
   "cell_type": "code",
   "execution_count": 19,
   "metadata": {},
   "outputs": [
    {
     "name": "stdout",
     "output_type": "stream",
     "text": [
      "tensor(0.0925)\n",
      "tensor(0.0925)\n",
      "tensor(0.0925)\n"
     ]
    }
   ],
   "source": [
    "print(nn.MSELoss(reduction = 'mean')(y_pred, y_true))\n",
    "print(F.mse_loss(y_pred, y_true, reduction = 'mean'))\n",
    "print(mse_loss(y_pred, y_true, reduction = 'mean'))"
   ]
  },
  {
   "cell_type": "code",
   "execution_count": 20,
   "metadata": {},
   "outputs": [
    {
     "name": "stdout",
     "output_type": "stream",
     "text": [
      "tensor(0.7400)\n",
      "tensor(0.7400)\n",
      "tensor(0.7400)\n"
     ]
    }
   ],
   "source": [
    "print(nn.MSELoss(reduction = 'sum')(y_pred, y_true))\n",
    "print(F.mse_loss(y_pred, y_true, reduction = 'sum'))\n",
    "print(mse_loss(y_pred, y_true, reduction = 'sum'))"
   ]
  },
  {
   "cell_type": "code",
   "execution_count": 21,
   "metadata": {},
   "outputs": [
    {
     "name": "stdout",
     "output_type": "stream",
     "text": [
      "tensor([[0.0400, 0.0100, 0.0900, 0.0900],\n",
      "        [0.0100, 0.1600, 0.2500, 0.0900]])\n",
      "tensor([[0.0400, 0.0100, 0.0900, 0.0900],\n",
      "        [0.0100, 0.1600, 0.2500, 0.0900]])\n",
      "tensor([[0.0400, 0.0100, 0.0900, 0.0900],\n",
      "        [0.0100, 0.1600, 0.2500, 0.0900]])\n"
     ]
    }
   ],
   "source": [
    "print(nn.MSELoss(reduction = 'none')(y_pred, y_true))\n",
    "print(F.mse_loss(y_pred, y_true, reduction = 'none'))\n",
    "print(mse_loss(y_pred, y_true, reduction = 'none'))"
   ]
  },
  {
   "cell_type": "code",
   "execution_count": null,
   "metadata": {},
   "outputs": [],
   "source": []
  }
 ],
 "metadata": {
  "kernelspec": {
   "display_name": "pytorch",
   "language": "python",
   "name": "python3"
  },
  "language_info": {
   "codemirror_mode": {
    "name": "ipython",
    "version": 3
   },
   "file_extension": ".py",
   "mimetype": "text/x-python",
   "name": "python",
   "nbconvert_exporter": "python",
   "pygments_lexer": "ipython3",
   "version": "3.11.4"
  }
 },
 "nbformat": 4,
 "nbformat_minor": 2
}
