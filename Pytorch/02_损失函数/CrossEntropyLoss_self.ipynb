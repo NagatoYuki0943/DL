{
 "cells": [
  {
   "cell_type": "code",
   "execution_count": 1,
   "metadata": {},
   "outputs": [],
   "source": [
    "import torch\n",
    "from torch import nn"
   ]
  },
  {
   "cell_type": "markdown",
   "metadata": {},
   "source": [
    "# CrossEntropyLoss"
   ]
  },
  {
   "cell_type": "code",
   "execution_count": 2,
   "metadata": {},
   "outputs": [
    {
     "name": "stdout",
     "output_type": "stream",
     "text": [
      "torch.Size([5, 10])\n",
      "torch.Size([5])\n"
     ]
    }
   ],
   "source": [
    "y_pred = torch.rand(5, 10)\n",
    "print(y_pred.shape)\n",
    "y_true = torch.randint(0, 10, (5,))\n",
    "print(y_true.shape)"
   ]
  },
  {
   "cell_type": "code",
   "execution_count": 3,
   "metadata": {},
   "outputs": [],
   "source": [
    "def cross_entropyloss(y_pred: torch.Tensor, y_true: torch.Tensor, reduction=\"mean\"):\n",
    "    \"\"\"\n",
    "        - log(softmax(y_pred)) * y_true\n",
    "    \"\"\"\n",
    "\n",
    "    y_true = nn.functional.one_hot(y_true)\n",
    "    y_pred = y_pred.softmax(dim=-1)\n",
    "    y_pred = y_pred.log()\n",
    "    medium = - y_pred * y_true\n",
    "\n",
    "    if reduction == \"sum\":\n",
    "        return medium.sum()\n",
    "    elif reduction == \"mean\":\n",
    "        return medium.sum() / y_true.size(0)\n",
    "    elif reduction == \"none\":\n",
    "        max, _ = medium.max(dim=-1)\n",
    "        return max"
   ]
  },
  {
   "cell_type": "code",
   "execution_count": 9,
   "metadata": {},
   "outputs": [
    {
     "name": "stdout",
     "output_type": "stream",
     "text": [
      "tensor(2.2930)\n",
      "tensor(2.2930)\n"
     ]
    }
   ],
   "source": [
    "print(cross_entropyloss(y_pred, y_true))\n",
    "print(nn.CrossEntropyLoss()(y_pred, y_true))"
   ]
  },
  {
   "cell_type": "code",
   "execution_count": 10,
   "metadata": {},
   "outputs": [
    {
     "name": "stdout",
     "output_type": "stream",
     "text": [
      "tensor(11.4651)\n",
      "tensor(11.4651)\n"
     ]
    }
   ],
   "source": [
    "print(cross_entropyloss(y_pred, y_true, reduction=\"sum\"))\n",
    "print(nn.CrossEntropyLoss(reduction=\"sum\")(y_pred, y_true))"
   ]
  },
  {
   "cell_type": "code",
   "execution_count": 8,
   "metadata": {},
   "outputs": [
    {
     "name": "stdout",
     "output_type": "stream",
     "text": [
      "tensor([2.5538, 1.9980, 2.5377, 1.9072, 2.4685])\n",
      "tensor([2.5538, 1.9980, 2.5377, 1.9072, 2.4685])\n"
     ]
    }
   ],
   "source": [
    "print(cross_entropyloss(y_pred, y_true, reduction=\"none\"))\n",
    "print(nn.CrossEntropyLoss(reduction=\"none\")(y_pred, y_true))"
   ]
  },
  {
   "cell_type": "code",
   "execution_count": null,
   "metadata": {},
   "outputs": [],
   "source": []
  }
 ],
 "metadata": {
  "kernelspec": {
   "display_name": "pytorch",
   "language": "python",
   "name": "python3"
  },
  "language_info": {
   "codemirror_mode": {
    "name": "ipython",
    "version": 3
   },
   "file_extension": ".py",
   "mimetype": "text/x-python",
   "name": "python",
   "nbconvert_exporter": "python",
   "pygments_lexer": "ipython3",
   "version": "3.10.9"
  },
  "orig_nbformat": 4
 },
 "nbformat": 4,
 "nbformat_minor": 2
}
