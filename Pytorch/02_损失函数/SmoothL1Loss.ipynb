{
 "cells": [
  {
   "cell_type": "code",
   "execution_count": 1,
   "metadata": {},
   "outputs": [],
   "source": [
    "import torch\n",
    "from torch import nn"
   ]
  },
  {
   "cell_type": "markdown",
   "metadata": {},
   "source": [
    "# 平滑的l1loss\n",
    "\n",
    "$$\n",
    "l_n = \\begin{cases}\n",
    "        0.5 (x_n - y_n)^2 / beta, & \\text{if } |x_n - y_n| < beta = 1 \\\\\n",
    "        |x_n - y_n| - 0.5 * beta, & \\text{otherwise }\n",
    "        \\end{cases}\n",
    "$$"
   ]
  },
  {
   "cell_type": "markdown",
   "metadata": {},
   "source": [
    "## 一维数据"
   ]
  },
  {
   "cell_type": "code",
   "execution_count": 2,
   "metadata": {},
   "outputs": [
    {
     "data": {
      "text/plain": [
       "tensor([0.0416, 0.1288, 0.1516, 0.4753, 0.3709, 0.5553, 0.6321, 0.4390, 0.3479,\n",
       "        0.3025])"
      ]
     },
     "execution_count": 2,
     "metadata": {},
     "output_type": "execute_result"
    }
   ],
   "source": [
    "y_true = torch.rand(10)\n",
    "y_true"
   ]
  },
  {
   "cell_type": "code",
   "execution_count": 3,
   "metadata": {},
   "outputs": [
    {
     "data": {
      "text/plain": [
       "tensor([0.9301, 0.5137, 0.0552, 0.3283, 0.7923, 0.9369, 0.3841, 0.5054, 0.5851,\n",
       "        0.4163])"
      ]
     },
     "execution_count": 3,
     "metadata": {},
     "output_type": "execute_result"
    }
   ],
   "source": [
    "y_pred = torch.rand(10)\n",
    "y_pred"
   ]
  },
  {
   "cell_type": "code",
   "execution_count": 4,
   "metadata": {},
   "outputs": [
    {
     "data": {
      "text/plain": [
       "tensor(0.0713)"
      ]
     },
     "execution_count": 4,
     "metadata": {},
     "output_type": "execute_result"
    }
   ],
   "source": [
    "nn.SmoothL1Loss()(y_pred, y_true)"
   ]
  },
  {
   "cell_type": "markdown",
   "metadata": {},
   "source": [
    "## 二维数据"
   ]
  },
  {
   "cell_type": "code",
   "execution_count": 6,
   "metadata": {},
   "outputs": [
    {
     "data": {
      "text/plain": [
       "tensor([[0.0794, 0.5627, 0.2076, 0.8446, 0.2334],\n",
       "        [0.9851, 0.1500, 0.6768, 0.9073, 0.8935],\n",
       "        [0.5695, 0.5561, 0.1711, 0.9856, 0.8842],\n",
       "        [0.1482, 0.3933, 0.0874, 0.1871, 0.7132],\n",
       "        [0.6856, 0.7682, 0.9143, 0.6284, 0.6518],\n",
       "        [0.1173, 0.2751, 0.3752, 0.5935, 0.6025],\n",
       "        [0.3619, 0.4578, 0.2502, 0.4112, 0.8946],\n",
       "        [0.9705, 0.7324, 0.4800, 0.9586, 0.8228],\n",
       "        [0.4404, 0.7374, 0.0668, 0.3863, 0.8038],\n",
       "        [0.9911, 0.3184, 0.8218, 0.0327, 0.5197]])"
      ]
     },
     "execution_count": 6,
     "metadata": {},
     "output_type": "execute_result"
    }
   ],
   "source": [
    "y_true = torch.rand(10, 5)\n",
    "y_true"
   ]
  },
  {
   "cell_type": "code",
   "execution_count": 7,
   "metadata": {},
   "outputs": [
    {
     "data": {
      "text/plain": [
       "tensor([[0.3335, 0.1802, 0.6248, 0.4168, 0.7614],\n",
       "        [0.4108, 0.2213, 0.8371, 0.7508, 0.5353],\n",
       "        [0.5241, 0.3057, 0.1140, 0.3967, 0.9552],\n",
       "        [0.1474, 0.0797, 0.5210, 0.8958, 0.7082],\n",
       "        [0.0184, 0.2117, 0.7792, 0.5467, 0.4637],\n",
       "        [0.1250, 0.9790, 0.6388, 0.2520, 0.8379],\n",
       "        [0.4019, 0.2211, 0.2984, 0.6688, 0.9153],\n",
       "        [0.3040, 0.0999, 0.3305, 0.0147, 0.8242],\n",
       "        [0.3415, 0.4030, 0.9020, 0.2836, 0.0662],\n",
       "        [0.5781, 0.3585, 0.5470, 0.9364, 0.3499]])"
      ]
     },
     "execution_count": 7,
     "metadata": {},
     "output_type": "execute_result"
    }
   ],
   "source": [
    "y_pred = torch.rand(10, 5)\n",
    "y_pred"
   ]
  },
  {
   "cell_type": "code",
   "execution_count": 9,
   "metadata": {},
   "outputs": [
    {
     "data": {
      "text/plain": [
       "tensor(0.0847)"
      ]
     },
     "execution_count": 9,
     "metadata": {},
     "output_type": "execute_result"
    }
   ],
   "source": [
    "nn.SmoothL1Loss()(y_pred, y_true)"
   ]
  },
  {
   "cell_type": "code",
   "execution_count": null,
   "metadata": {},
   "outputs": [],
   "source": []
  }
 ],
 "metadata": {
  "kernelspec": {
   "display_name": "pytorch",
   "language": "python",
   "name": "python3"
  },
  "language_info": {
   "codemirror_mode": {
    "name": "ipython",
    "version": 3
   },
   "file_extension": ".py",
   "mimetype": "text/x-python",
   "name": "python",
   "nbconvert_exporter": "python",
   "pygments_lexer": "ipython3",
   "version": "3.11.4"
  }
 },
 "nbformat": 4,
 "nbformat_minor": 2
}
