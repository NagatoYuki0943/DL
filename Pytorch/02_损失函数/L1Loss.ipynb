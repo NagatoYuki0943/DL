{
 "cells": [
  {
   "cell_type": "code",
   "execution_count": 10,
   "metadata": {},
   "outputs": [],
   "source": [
    "import torch\n",
    "from torch import nn"
   ]
  },
  {
   "cell_type": "markdown",
   "metadata": {},
   "source": [
    "# 最小绝对值误差（mean absolute error, MAE）"
   ]
  },
  {
   "cell_type": "markdown",
   "metadata": {},
   "source": [
    "## 一维数据"
   ]
  },
  {
   "cell_type": "code",
   "execution_count": 11,
   "metadata": {},
   "outputs": [
    {
     "data": {
      "text/plain": [
       "tensor([0.5635, 0.2605, 0.8293, 0.0146, 0.5081, 0.1522, 0.9936, 0.5834, 0.2480,\n",
       "        0.5615])"
      ]
     },
     "execution_count": 11,
     "metadata": {},
     "output_type": "execute_result"
    }
   ],
   "source": [
    "y_true = torch.rand(10)\n",
    "y_true"
   ]
  },
  {
   "cell_type": "code",
   "execution_count": 12,
   "metadata": {},
   "outputs": [
    {
     "data": {
      "text/plain": [
       "tensor([0.9356, 0.6484, 0.7063, 0.9359, 0.0968, 0.6317, 0.7915, 0.0608, 0.9633,\n",
       "        0.1006])"
      ]
     },
     "execution_count": 12,
     "metadata": {},
     "output_type": "execute_result"
    }
   ],
   "source": [
    "y_pred = torch.rand(10)\n",
    "y_pred"
   ]
  },
  {
   "cell_type": "code",
   "execution_count": 13,
   "metadata": {},
   "outputs": [
    {
     "data": {
      "text/plain": [
       "tensor(0.4596)"
      ]
     },
     "execution_count": 13,
     "metadata": {},
     "output_type": "execute_result"
    }
   ],
   "source": [
    "nn.L1Loss()(y_pred, y_true)"
   ]
  },
  {
   "cell_type": "code",
   "execution_count": 14,
   "metadata": {},
   "outputs": [
    {
     "data": {
      "text/plain": [
       "tensor(0.4596)"
      ]
     },
     "execution_count": 14,
     "metadata": {},
     "output_type": "execute_result"
    }
   ],
   "source": [
    "# sum(abs(真实值 - 预测值)) / 总个数\n",
    "((y_true - y_pred).abs()).sum() / torch.prod(torch.tensor(y_true.size()))"
   ]
  },
  {
   "cell_type": "markdown",
   "metadata": {},
   "source": [
    "## 二维数据"
   ]
  },
  {
   "cell_type": "code",
   "execution_count": 15,
   "metadata": {},
   "outputs": [
    {
     "data": {
      "text/plain": [
       "tensor([[0.3305, 0.3757, 0.0903, 0.8515, 0.8375],\n",
       "        [0.2171, 0.5290, 0.2119, 0.8710, 0.3386],\n",
       "        [0.7337, 0.8908, 0.7560, 0.0135, 0.4066],\n",
       "        [0.0304, 0.5049, 0.7096, 0.3600, 0.4529],\n",
       "        [0.0449, 0.0559, 0.4816, 0.9240, 0.3635],\n",
       "        [0.3908, 0.4755, 0.8265, 0.9238, 0.9763],\n",
       "        [0.3093, 0.6626, 0.9850, 0.5102, 0.2061],\n",
       "        [0.6262, 0.1254, 0.6180, 0.0844, 0.0966],\n",
       "        [0.0694, 0.8144, 0.4231, 0.5592, 0.8238],\n",
       "        [0.8905, 0.7507, 0.5588, 0.5601, 0.8387]])"
      ]
     },
     "execution_count": 15,
     "metadata": {},
     "output_type": "execute_result"
    }
   ],
   "source": [
    "y_true = torch.rand(10, 5)\n",
    "y_true"
   ]
  },
  {
   "cell_type": "code",
   "execution_count": 16,
   "metadata": {},
   "outputs": [
    {
     "data": {
      "text/plain": [
       "tensor([[0.9306, 0.4865, 0.0335, 0.7739, 0.3703],\n",
       "        [0.7065, 0.1232, 0.3815, 0.2387, 0.8665],\n",
       "        [0.4223, 0.9684, 0.1057, 0.9231, 0.7359],\n",
       "        [0.0178, 0.7434, 0.5201, 0.2527, 0.4815],\n",
       "        [0.9386, 0.0496, 0.0075, 0.1403, 0.5788],\n",
       "        [0.5486, 0.6024, 0.6130, 0.5723, 0.7911],\n",
       "        [0.7947, 0.0894, 0.1410, 0.3751, 0.6397],\n",
       "        [0.8139, 0.2453, 0.3342, 0.3090, 0.1318],\n",
       "        [0.9364, 0.7862, 0.8966, 0.9451, 0.9333],\n",
       "        [0.5337, 0.9385, 0.8610, 0.6759, 0.0011]])"
      ]
     },
     "execution_count": 16,
     "metadata": {},
     "output_type": "execute_result"
    }
   ],
   "source": [
    "y_pred = torch.rand(10, 5)\n",
    "y_pred"
   ]
  },
  {
   "cell_type": "code",
   "execution_count": 17,
   "metadata": {},
   "outputs": [
    {
     "data": {
      "text/plain": [
       "tensor(0.3357)"
      ]
     },
     "execution_count": 17,
     "metadata": {},
     "output_type": "execute_result"
    }
   ],
   "source": [
    "nn.L1Loss()(y_pred, y_true)"
   ]
  },
  {
   "cell_type": "code",
   "execution_count": 18,
   "metadata": {},
   "outputs": [
    {
     "data": {
      "text/plain": [
       "tensor(0.3357)"
      ]
     },
     "execution_count": 18,
     "metadata": {},
     "output_type": "execute_result"
    }
   ],
   "source": [
    "# sum(abs(真实值 - 预测值)) / 总个数\n",
    "((y_true - y_pred).abs()).sum() / torch.prod(torch.tensor(y_true.size()))"
   ]
  },
  {
   "cell_type": "code",
   "execution_count": null,
   "metadata": {},
   "outputs": [],
   "source": []
  }
 ],
 "metadata": {
  "kernelspec": {
   "display_name": "pytorch",
   "language": "python",
   "name": "python3"
  },
  "language_info": {
   "codemirror_mode": {
    "name": "ipython",
    "version": 3
   },
   "file_extension": ".py",
   "mimetype": "text/x-python",
   "name": "python",
   "nbconvert_exporter": "python",
   "pygments_lexer": "ipython3",
   "version": "3.11.4"
  }
 },
 "nbformat": 4,
 "nbformat_minor": 2
}
