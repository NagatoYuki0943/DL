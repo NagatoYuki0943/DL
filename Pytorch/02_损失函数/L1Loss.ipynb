{
 "cells": [
  {
   "cell_type": "code",
   "execution_count": 1,
   "metadata": {},
   "outputs": [],
   "source": [
    "import torch\n",
    "from torch import nn, Tensor\n",
    "from torch.nn import functional as F"
   ]
  },
  {
   "cell_type": "markdown",
   "metadata": {},
   "source": [
    "# 平均绝对误差(mean absolute error, MAE / L1Loss)"
   ]
  },
  {
   "cell_type": "code",
   "execution_count": 2,
   "metadata": {},
   "outputs": [],
   "source": [
    "def l1_loss(input: Tensor, target: Tensor, reduction=\"mean\") -> Tensor:\n",
    "    \"\"\"l1 loss\n",
    "    input and target shape should be same.\n",
    "\n",
    "    Args:\n",
    "        input (Tensor):  predict value\n",
    "        target (Tensor): target value\n",
    "        reduction (str, optional): mean' | 'sum' | 'none'. Defaults to 'mean'.\n",
    "\n",
    "    Returns:\n",
    "        Tensor: mae result\n",
    "    \"\"\"\n",
    "    if target.size() != input.size():\n",
    "        warnings.warn(\n",
    "            \"Using a target size ({}) that is different to the input size ({}). \"\n",
    "            \"This will likely lead to incorrect results due to broadcasting. \"\n",
    "            \"Please ensure they have the same size.\".format(\n",
    "                target.size(), input.size()\n",
    "            ),\n",
    "            stacklevel=2,\n",
    "        )\n",
    "\n",
    "    result: Tensor = torch.abs(input - target)\n",
    "    if reduction == \"mean\":\n",
    "        return result.mean()\n",
    "    elif reduction == \"sum\":\n",
    "        return result.sum()\n",
    "    elif reduction == \"none\":\n",
    "        return result"
   ]
  },
  {
   "cell_type": "markdown",
   "metadata": {},
   "source": [
    "## 一维数据"
   ]
  },
  {
   "cell_type": "code",
   "execution_count": 3,
   "metadata": {},
   "outputs": [],
   "source": [
    "y_true = torch.tensor([1, 0, 1, 0])"
   ]
  },
  {
   "cell_type": "code",
   "execution_count": 7,
   "metadata": {},
   "outputs": [],
   "source": [
    "y_pred = torch.tensor([0.8, 0.1, 0.7, 0.3])"
   ]
  },
  {
   "cell_type": "code",
   "execution_count": 9,
   "metadata": {},
   "outputs": [
    {
     "name": "stdout",
     "output_type": "stream",
     "text": [
      "tensor(0.2250)\n",
      "tensor(0.2250)\n",
      "tensor(0.2250)\n"
     ]
    }
   ],
   "source": [
    "print(nn.L1Loss(reduction=\"mean\")(y_pred, y_true))\n",
    "print(F.l1_loss(y_pred, y_true, reduction=\"mean\"))\n",
    "print(l1_loss(y_pred, y_true, reduction=\"mean\"))"
   ]
  },
  {
   "cell_type": "code",
   "execution_count": 10,
   "metadata": {},
   "outputs": [
    {
     "name": "stdout",
     "output_type": "stream",
     "text": [
      "tensor(0.9000)\n",
      "tensor(0.9000)\n",
      "tensor(0.9000)\n"
     ]
    }
   ],
   "source": [
    "print(nn.L1Loss(reduction=\"sum\")(y_pred, y_true))\n",
    "print(F.l1_loss(y_pred, y_true, reduction=\"sum\"))\n",
    "print(l1_loss(y_pred, y_true, reduction=\"sum\"))"
   ]
  },
  {
   "cell_type": "code",
   "execution_count": 11,
   "metadata": {},
   "outputs": [
    {
     "name": "stdout",
     "output_type": "stream",
     "text": [
      "tensor([0.2000, 0.1000, 0.3000, 0.3000])\n",
      "tensor([0.2000, 0.1000, 0.3000, 0.3000])\n",
      "tensor([0.2000, 0.1000, 0.3000, 0.3000])\n"
     ]
    }
   ],
   "source": [
    "print(nn.L1Loss(reduction=\"none\")(y_pred, y_true))\n",
    "print(F.l1_loss(y_pred, y_true, reduction=\"none\"))\n",
    "print(l1_loss(y_pred, y_true, reduction=\"none\"))"
   ]
  },
  {
   "cell_type": "markdown",
   "metadata": {},
   "source": [
    "## 二维数据"
   ]
  },
  {
   "cell_type": "code",
   "execution_count": 12,
   "metadata": {},
   "outputs": [],
   "source": [
    "y_true = torch.tensor(\n",
    "    [\n",
    "        [1, 0, 1, 0],\n",
    "        [1, 1, 0, 0],\n",
    "    ]\n",
    ")"
   ]
  },
  {
   "cell_type": "code",
   "execution_count": 13,
   "metadata": {},
   "outputs": [],
   "source": [
    "y_pred = torch.tensor(\n",
    "    [\n",
    "        [0.8, 0.1, 0.7, 0.3],\n",
    "        [0.9, 0.6, 0.5, 0.3],\n",
    "    ]\n",
    ")"
   ]
  },
  {
   "cell_type": "code",
   "execution_count": 14,
   "metadata": {},
   "outputs": [
    {
     "name": "stdout",
     "output_type": "stream",
     "text": [
      "tensor(0.2750)\n",
      "tensor(0.2750)\n",
      "tensor(0.2750)\n"
     ]
    }
   ],
   "source": [
    "print(nn.L1Loss(reduction=\"mean\")(y_pred, y_true))\n",
    "print(F.l1_loss(y_pred, y_true, reduction=\"mean\"))\n",
    "print(l1_loss(y_pred, y_true, reduction=\"mean\"))"
   ]
  },
  {
   "cell_type": "code",
   "execution_count": 15,
   "metadata": {},
   "outputs": [
    {
     "name": "stdout",
     "output_type": "stream",
     "text": [
      "tensor(2.2000)\n",
      "tensor(2.2000)\n",
      "tensor(2.2000)\n"
     ]
    }
   ],
   "source": [
    "print(nn.L1Loss(reduction=\"sum\")(y_pred, y_true))\n",
    "print(F.l1_loss(y_pred, y_true, reduction=\"sum\"))\n",
    "print(l1_loss(y_pred, y_true, reduction=\"sum\"))"
   ]
  },
  {
   "cell_type": "code",
   "execution_count": 16,
   "metadata": {},
   "outputs": [
    {
     "name": "stdout",
     "output_type": "stream",
     "text": [
      "tensor([[0.2000, 0.1000, 0.3000, 0.3000],\n",
      "        [0.1000, 0.4000, 0.5000, 0.3000]])\n",
      "tensor([[0.2000, 0.1000, 0.3000, 0.3000],\n",
      "        [0.1000, 0.4000, 0.5000, 0.3000]])\n",
      "tensor([[0.2000, 0.1000, 0.3000, 0.3000],\n",
      "        [0.1000, 0.4000, 0.5000, 0.3000]])\n"
     ]
    }
   ],
   "source": [
    "print(nn.L1Loss(reduction=\"none\")(y_pred, y_true))\n",
    "print(F.l1_loss(y_pred, y_true, reduction=\"none\"))\n",
    "print(l1_loss(y_pred, y_true, reduction=\"none\"))"
   ]
  },
  {
   "cell_type": "code",
   "execution_count": null,
   "metadata": {},
   "outputs": [],
   "source": []
  }
 ],
 "metadata": {
  "kernelspec": {
   "display_name": "pytorch",
   "language": "python",
   "name": "python3"
  },
  "language_info": {
   "codemirror_mode": {
    "name": "ipython",
    "version": 3
   },
   "file_extension": ".py",
   "mimetype": "text/x-python",
   "name": "python",
   "nbconvert_exporter": "python",
   "pygments_lexer": "ipython3",
   "version": "3.11.4"
  }
 },
 "nbformat": 4,
 "nbformat_minor": 2
}
