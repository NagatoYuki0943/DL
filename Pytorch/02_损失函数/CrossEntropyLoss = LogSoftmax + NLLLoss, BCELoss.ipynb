{
 "cells": [
  {
   "cell_type": "code",
   "execution_count": 1,
   "metadata": {},
   "outputs": [],
   "source": [
    "import torch\n",
    "from torch import nn\n",
    "from torch.nn import functional as F"
   ]
  },
  {
   "cell_type": "code",
   "execution_count": 33,
   "metadata": {},
   "outputs": [
    {
     "data": {
      "text/plain": [
       "tensor([2, 3, 4, 3, 4, 2, 4, 0, 0, 2])"
      ]
     },
     "execution_count": 33,
     "metadata": {},
     "output_type": "execute_result"
    }
   ],
   "source": [
    "y_true = torch.randint(0, 5, (10,))\n",
    "y_true"
   ]
  },
  {
   "cell_type": "code",
   "execution_count": 34,
   "metadata": {},
   "outputs": [
    {
     "data": {
      "text/plain": [
       "tensor([[0.0425, 0.0749, 0.0449, 0.6374, 0.1391],\n",
       "        [0.2501, 0.1247, 0.1282, 0.1452, 0.3988],\n",
       "        [0.3246, 0.1203, 0.4313, 0.3277, 0.2178],\n",
       "        [0.1636, 0.2433, 0.0581, 0.0532, 0.1914],\n",
       "        [0.6481, 0.1551, 0.3308, 0.1160, 0.1311],\n",
       "        [0.1976, 0.1371, 0.0551, 0.2703, 0.0354],\n",
       "        [0.1589, 0.0804, 0.1883, 0.0041, 0.5144],\n",
       "        [0.0485, 0.2014, 0.3141, 0.2138, 0.0239],\n",
       "        [0.0620, 0.0690, 0.0153, 0.0071, 0.0535],\n",
       "        [0.4265, 0.2986, 0.1358, 0.1418, 0.3854]])"
      ]
     },
     "execution_count": 34,
     "metadata": {},
     "output_type": "execute_result"
    }
   ],
   "source": [
    "y_pred = torch.rand(10, 5) * torch.rand(10, 5)\n",
    "y_pred"
   ]
  },
  {
   "attachments": {},
   "cell_type": "markdown",
   "metadata": {},
   "source": [
    "# CrossEntropyLoss"
   ]
  },
  {
   "cell_type": "code",
   "execution_count": 35,
   "metadata": {},
   "outputs": [
    {
     "data": {
      "text/plain": [
       "tensor(1.6692)"
      ]
     },
     "execution_count": 35,
     "metadata": {},
     "output_type": "execute_result"
    }
   ],
   "source": [
    "nn.CrossEntropyLoss()(y_pred, y_true)"
   ]
  },
  {
   "attachments": {},
   "cell_type": "markdown",
   "metadata": {},
   "source": [
    "# LogSoftmax + NLLLoss = CrossEntropyLoss"
   ]
  },
  {
   "cell_type": "code",
   "execution_count": 36,
   "metadata": {},
   "outputs": [],
   "source": [
    "log_softmax = nn.LogSoftmax(dim=-1)"
   ]
  },
  {
   "cell_type": "code",
   "execution_count": 37,
   "metadata": {},
   "outputs": [
    {
     "data": {
      "text/plain": [
       "tensor([[-1.7833, -1.7510, -1.7809, -1.1884, -1.6868],\n",
       "        [-1.5745, -1.6998, -1.6964, -1.6794, -1.4257],\n",
       "        [-1.5747, -1.7791, -1.4681, -1.5717, -1.6815],\n",
       "        [-1.5905, -1.5109, -1.6960, -1.7010, -1.5628],\n",
       "        [-1.2592, -1.7522, -1.5765, -1.7913, -1.7762],\n",
       "        [-1.5548, -1.6153, -1.6973, -1.4821, -1.7170],\n",
       "        [-1.6559, -1.7344, -1.6265, -1.8108, -1.3004],\n",
       "        [-1.7272, -1.5743, -1.4616, -1.5619, -1.7518],\n",
       "        [-1.5891, -1.5821, -1.6359, -1.6441, -1.5977],\n",
       "        [-1.4677, -1.5957, -1.7585, -1.7525, -1.5089]])"
      ]
     },
     "execution_count": 37,
     "metadata": {},
     "output_type": "execute_result"
    }
   ],
   "source": [
    "y_pred_ = log_softmax(y_pred)\n",
    "y_pred_"
   ]
  },
  {
   "cell_type": "code",
   "execution_count": 38,
   "metadata": {},
   "outputs": [
    {
     "data": {
      "text/plain": [
       "tensor(1.6692)"
      ]
     },
     "execution_count": 38,
     "metadata": {},
     "output_type": "execute_result"
    }
   ],
   "source": [
    "nn.NLLLoss()(y_pred_, y_true)"
   ]
  },
  {
   "attachments": {},
   "cell_type": "markdown",
   "metadata": {},
   "source": [
    "## LogSoftmax = Log(Softmax(x))"
   ]
  },
  {
   "cell_type": "code",
   "execution_count": 39,
   "metadata": {},
   "outputs": [
    {
     "data": {
      "text/plain": [
       "tensor([[-1.7833, -1.7510, -1.7809, -1.1884, -1.6868],\n",
       "        [-1.5745, -1.6998, -1.6964, -1.6794, -1.4257],\n",
       "        [-1.5747, -1.7791, -1.4681, -1.5717, -1.6815],\n",
       "        [-1.5905, -1.5109, -1.6960, -1.7010, -1.5628],\n",
       "        [-1.2592, -1.7522, -1.5765, -1.7913, -1.7762],\n",
       "        [-1.5548, -1.6153, -1.6973, -1.4821, -1.7170],\n",
       "        [-1.6559, -1.7344, -1.6265, -1.8108, -1.3004],\n",
       "        [-1.7272, -1.5743, -1.4616, -1.5619, -1.7518],\n",
       "        [-1.5891, -1.5821, -1.6359, -1.6441, -1.5977],\n",
       "        [-1.4677, -1.5957, -1.7585, -1.7525, -1.5089]])"
      ]
     },
     "execution_count": 39,
     "metadata": {},
     "output_type": "execute_result"
    }
   ],
   "source": [
    "torch.log(torch.softmax(y_pred, dim=-1))"
   ]
  },
  {
   "cell_type": "code",
   "execution_count": 40,
   "metadata": {},
   "outputs": [
    {
     "data": {
      "text/plain": [
       "tensor(1.6692)"
      ]
     },
     "execution_count": 40,
     "metadata": {},
     "output_type": "execute_result"
    }
   ],
   "source": [
    "nn.NLLLoss()(torch.log(torch.softmax(y_pred, dim=-1)), y_true)"
   ]
  },
  {
   "attachments": {},
   "cell_type": "markdown",
   "metadata": {},
   "source": [
    "# label_smoothing"
   ]
  },
  {
   "cell_type": "code",
   "execution_count": 41,
   "metadata": {},
   "outputs": [],
   "source": [
    "label_smoothing = 0.1"
   ]
  },
  {
   "cell_type": "code",
   "execution_count": 42,
   "metadata": {},
   "outputs": [
    {
     "data": {
      "text/plain": [
       "tensor(1.6642)"
      ]
     },
     "execution_count": 42,
     "metadata": {},
     "output_type": "execute_result"
    }
   ],
   "source": [
    "nn.CrossEntropyLoss(label_smoothing=label_smoothing)(y_pred, y_true)"
   ]
  },
  {
   "attachments": {},
   "cell_type": "markdown",
   "metadata": {},
   "source": [
    "## 尝试复现label_smoothing"
   ]
  },
  {
   "cell_type": "code",
   "execution_count": 43,
   "metadata": {},
   "outputs": [
    {
     "data": {
      "text/plain": [
       "tensor([[0., 0., 1., 0., 0.],\n",
       "        [0., 0., 0., 1., 0.],\n",
       "        [0., 0., 0., 0., 1.],\n",
       "        [0., 0., 0., 1., 0.],\n",
       "        [0., 0., 0., 0., 1.],\n",
       "        [0., 0., 1., 0., 0.],\n",
       "        [0., 0., 0., 0., 1.],\n",
       "        [1., 0., 0., 0., 0.],\n",
       "        [1., 0., 0., 0., 0.],\n",
       "        [0., 0., 1., 0., 0.]])"
      ]
     },
     "execution_count": 43,
     "metadata": {},
     "output_type": "execute_result"
    }
   ],
   "source": [
    "y_true_ont_hot = F.one_hot(y_true)\n",
    "y_true_ont_hot = y_true_ont_hot.type(torch.float32)\n",
    "y_true_ont_hot"
   ]
  },
  {
   "cell_type": "code",
   "execution_count": 44,
   "metadata": {},
   "outputs": [
    {
     "data": {
      "text/plain": [
       "tensor([[False, False,  True, False, False],\n",
       "        [False, False, False,  True, False],\n",
       "        [False, False, False, False,  True],\n",
       "        [False, False, False,  True, False],\n",
       "        [False, False, False, False,  True],\n",
       "        [False, False,  True, False, False],\n",
       "        [False, False, False, False,  True],\n",
       "        [ True, False, False, False, False],\n",
       "        [ True, False, False, False, False],\n",
       "        [False, False,  True, False, False]])"
      ]
     },
     "execution_count": 44,
     "metadata": {},
     "output_type": "execute_result"
    }
   ],
   "source": [
    "y_true_ont_hot == 1"
   ]
  },
  {
   "cell_type": "code",
   "execution_count": 45,
   "metadata": {},
   "outputs": [],
   "source": [
    "y_true_ont_hot[y_true_ont_hot == 1] = 1 - label_smoothing\n",
    "y_true_ont_hot[y_true_ont_hot == 0] = label_smoothing / (5 - 1)"
   ]
  },
  {
   "cell_type": "code",
   "execution_count": 46,
   "metadata": {},
   "outputs": [
    {
     "data": {
      "text/plain": [
       "tensor([[0.0250, 0.0250, 0.9000, 0.0250, 0.0250],\n",
       "        [0.0250, 0.0250, 0.0250, 0.9000, 0.0250],\n",
       "        [0.0250, 0.0250, 0.0250, 0.0250, 0.9000],\n",
       "        [0.0250, 0.0250, 0.0250, 0.9000, 0.0250],\n",
       "        [0.0250, 0.0250, 0.0250, 0.0250, 0.9000],\n",
       "        [0.0250, 0.0250, 0.9000, 0.0250, 0.0250],\n",
       "        [0.0250, 0.0250, 0.0250, 0.0250, 0.9000],\n",
       "        [0.9000, 0.0250, 0.0250, 0.0250, 0.0250],\n",
       "        [0.9000, 0.0250, 0.0250, 0.0250, 0.0250],\n",
       "        [0.0250, 0.0250, 0.9000, 0.0250, 0.0250]])"
      ]
     },
     "execution_count": 46,
     "metadata": {},
     "output_type": "execute_result"
    }
   ],
   "source": [
    "y_true_ont_hot"
   ]
  },
  {
   "cell_type": "code",
   "execution_count": 49,
   "metadata": {},
   "outputs": [
    {
     "data": {
      "text/plain": [
       "tensor(1.6629)"
      ]
     },
     "execution_count": 49,
     "metadata": {},
     "output_type": "execute_result"
    }
   ],
   "source": [
    "nn.CrossEntropyLoss()(y_pred, y_true_ont_hot)"
   ]
  },
  {
   "attachments": {},
   "cell_type": "markdown",
   "metadata": {},
   "source": [
    "# 多类别分类(一个目标有多个标签)"
   ]
  },
  {
   "cell_type": "code",
   "execution_count": 50,
   "metadata": {},
   "outputs": [
    {
     "data": {
      "text/plain": [
       "tensor([[0.5106, 0.5187, 0.5112, 0.6542, 0.5347],\n",
       "        [0.5622, 0.5311, 0.5320, 0.5362, 0.5984],\n",
       "        [0.5805, 0.5300, 0.6062, 0.5812, 0.5542],\n",
       "        [0.5408, 0.5605, 0.5145, 0.5133, 0.5477],\n",
       "        [0.6566, 0.5387, 0.5819, 0.5290, 0.5327],\n",
       "        [0.5492, 0.5342, 0.5138, 0.5672, 0.5088],\n",
       "        [0.5396, 0.5201, 0.5469, 0.5010, 0.6258],\n",
       "        [0.5121, 0.5502, 0.5779, 0.5532, 0.5060],\n",
       "        [0.5155, 0.5172, 0.5038, 0.5018, 0.5134],\n",
       "        [0.6050, 0.5741, 0.5339, 0.5354, 0.5952]])"
      ]
     },
     "execution_count": 50,
     "metadata": {},
     "output_type": "execute_result"
    }
   ],
   "source": [
    "torch.sigmoid(y_pred)"
   ]
  },
  {
   "cell_type": "code",
   "execution_count": 51,
   "metadata": {},
   "outputs": [
    {
     "data": {
      "text/plain": [
       "tensor([[-0.6721, -0.6564, -0.6709, -0.4244, -0.6260],\n",
       "        [-0.5759, -0.6327, -0.6311, -0.6232, -0.5135],\n",
       "        [-0.5439, -0.6348, -0.5006, -0.5427, -0.5902],\n",
       "        [-0.6147, -0.5789, -0.6645, -0.6669, -0.6020],\n",
       "        [-0.4207, -0.6186, -0.5414, -0.6368, -0.6298],\n",
       "        [-0.5992, -0.6270, -0.6660, -0.5671, -0.6756],\n",
       "        [-0.6168, -0.6537, -0.6034, -0.6911, -0.4687],\n",
       "        [-0.6692, -0.5975, -0.5484, -0.5920, -0.6812],\n",
       "        [-0.6626, -0.6593, -0.6855, -0.6896, -0.6668],\n",
       "        [-0.5024, -0.5550, -0.6276, -0.6248, -0.5189]])"
      ]
     },
     "execution_count": 51,
     "metadata": {},
     "output_type": "execute_result"
    }
   ],
   "source": [
    "torch.log(torch.sigmoid(y_pred))"
   ]
  },
  {
   "cell_type": "code",
   "execution_count": 72,
   "metadata": {},
   "outputs": [
    {
     "data": {
      "text/plain": [
       "tensor([[0, 0, 1, 0, 0],\n",
       "        [0, 0, 0, 1, 0],\n",
       "        [0, 0, 0, 0, 1],\n",
       "        [0, 0, 0, 1, 0],\n",
       "        [0, 0, 0, 0, 1],\n",
       "        [0, 0, 1, 0, 0],\n",
       "        [0, 0, 0, 0, 1],\n",
       "        [1, 0, 0, 0, 0],\n",
       "        [1, 0, 0, 0, 0],\n",
       "        [0, 0, 1, 0, 0]])"
      ]
     },
     "execution_count": 72,
     "metadata": {},
     "output_type": "execute_result"
    }
   ],
   "source": [
    "y_true_ont_hot_ = F.one_hot(y_true)\n",
    "y_true_ont_hot_"
   ]
  },
  {
   "cell_type": "code",
   "execution_count": 73,
   "metadata": {},
   "outputs": [
    {
     "data": {
      "text/plain": [
       "tensor([[0, 1, 1, 0, 0],\n",
       "        [0, 1, 1, 1, 0],\n",
       "        [0, 0, 1, 0, 1],\n",
       "        [1, 0, 0, 1, 0],\n",
       "        [0, 0, 0, 1, 1],\n",
       "        [0, 0, 1, 1, 0],\n",
       "        [1, 1, 0, 0, 1],\n",
       "        [1, 0, 1, 0, 0],\n",
       "        [1, 1, 0, 0, 0],\n",
       "        [1, 1, 1, 0, 0]])"
      ]
     },
     "execution_count": 73,
     "metadata": {},
     "output_type": "execute_result"
    }
   ],
   "source": [
    "y_true_ont_hot_[0, 1] = 1\n",
    "y_true_ont_hot_[1, 1:3] = 1\n",
    "y_true_ont_hot_[2, 2] = 1\n",
    "y_true_ont_hot_[3, 0] = 1\n",
    "y_true_ont_hot_[4, 3] = 1\n",
    "y_true_ont_hot_[5, 3] = 1\n",
    "y_true_ont_hot_[6, 0:2] = 1\n",
    "y_true_ont_hot_[7, 2] = 1\n",
    "y_true_ont_hot_[8, 1] = 1\n",
    "y_true_ont_hot_[9, 0:3] = 1\n",
    "y_true_ont_hot_"
   ]
  },
  {
   "attachments": {},
   "cell_type": "markdown",
   "metadata": {},
   "source": [
    "## BECLoss"
   ]
  },
  {
   "cell_type": "code",
   "execution_count": 80,
   "metadata": {},
   "outputs": [
    {
     "data": {
      "text/plain": [
       "tensor(0.7147)"
      ]
     },
     "execution_count": 80,
     "metadata": {},
     "output_type": "execute_result"
    }
   ],
   "source": [
    "nn.BCELoss()(torch.sigmoid(y_pred), y_true_ont_hot_.type(torch.float32))"
   ]
  },
  {
   "attachments": {},
   "cell_type": "markdown",
   "metadata": {},
   "source": [
    "## Log(Sigmoid(x)) + NLLLoss"
   ]
  },
  {
   "cell_type": "code",
   "execution_count": 81,
   "metadata": {},
   "outputs": [
    {
     "data": {
      "text/plain": [
       "tensor(-0.5106)"
      ]
     },
     "execution_count": 81,
     "metadata": {},
     "output_type": "execute_result"
    }
   ],
   "source": [
    "nn.NLLLoss()(torch.sigmoid(y_pred).flatten(), y_true_ont_hot_.flatten())"
   ]
  },
  {
   "cell_type": "code",
   "execution_count": 82,
   "metadata": {},
   "outputs": [
    {
     "data": {
      "text/plain": [
       "tensor(0.6721)"
      ]
     },
     "execution_count": 82,
     "metadata": {},
     "output_type": "execute_result"
    }
   ],
   "source": [
    "nn.NLLLoss()(torch.log(torch.sigmoid(y_pred)).flatten(), y_true_ont_hot_.flatten())"
   ]
  },
  {
   "cell_type": "code",
   "execution_count": null,
   "metadata": {},
   "outputs": [],
   "source": []
  }
 ],
 "metadata": {
  "kernelspec": {
   "display_name": "crop",
   "language": "python",
   "name": "python3"
  },
  "language_info": {
   "codemirror_mode": {
    "name": "ipython",
    "version": 3
   },
   "file_extension": ".py",
   "mimetype": "text/x-python",
   "name": "python",
   "nbconvert_exporter": "python",
   "pygments_lexer": "ipython3",
   "version": "3.10.9"
  },
  "orig_nbformat": 4
 },
 "nbformat": 4,
 "nbformat_minor": 2
}
