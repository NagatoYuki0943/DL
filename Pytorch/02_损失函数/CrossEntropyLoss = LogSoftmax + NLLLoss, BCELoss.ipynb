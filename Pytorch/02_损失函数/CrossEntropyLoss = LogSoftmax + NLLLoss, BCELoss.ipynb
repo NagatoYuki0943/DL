{
 "cells": [
  {
   "cell_type": "code",
   "execution_count": 57,
   "metadata": {},
   "outputs": [],
   "source": [
    "import torch\n",
    "from torch import nn\n",
    "from torch.nn import functional as F"
   ]
  },
  {
   "cell_type": "code",
   "execution_count": 58,
   "metadata": {},
   "outputs": [
    {
     "data": {
      "text/plain": [
       "tensor([4, 3, 2, 3, 3, 1, 0, 2, 4, 4])"
      ]
     },
     "execution_count": 58,
     "metadata": {},
     "output_type": "execute_result"
    }
   ],
   "source": [
    "y_true = torch.randint(0, 5, (10,))\n",
    "y_true"
   ]
  },
  {
   "cell_type": "code",
   "execution_count": 59,
   "metadata": {},
   "outputs": [
    {
     "data": {
      "text/plain": [
       "tensor([[0.8002, 0.7749, 0.2756, 0.3778, 0.4834],\n",
       "        [0.6982, 0.4399, 0.6566, 0.9451, 0.7807],\n",
       "        [0.6962, 0.7916, 0.8821, 0.2757, 0.3177],\n",
       "        [0.0843, 0.2305, 0.5761, 0.4651, 0.0891],\n",
       "        [0.6787, 0.9949, 0.4036, 0.0659, 0.5659],\n",
       "        [0.7988, 0.6487, 0.9356, 0.4983, 0.8143],\n",
       "        [0.7884, 0.2093, 0.0569, 0.0449, 0.0860],\n",
       "        [0.1711, 0.2202, 0.2939, 0.4170, 0.0136],\n",
       "        [0.5033, 0.0894, 0.4785, 0.1606, 0.6598],\n",
       "        [0.6039, 0.5352, 0.4168, 0.8218, 0.6274]])"
      ]
     },
     "execution_count": 59,
     "metadata": {},
     "output_type": "execute_result"
    }
   ],
   "source": [
    "y_pred = torch.rand(10, 5)\n",
    "y_pred"
   ]
  },
  {
   "attachments": {},
   "cell_type": "markdown",
   "metadata": {},
   "source": [
    "# CrossEntropyLoss"
   ]
  },
  {
   "cell_type": "code",
   "execution_count": 60,
   "metadata": {},
   "outputs": [
    {
     "data": {
      "text/plain": [
       "tensor(1.5312)"
      ]
     },
     "execution_count": 60,
     "metadata": {},
     "output_type": "execute_result"
    }
   ],
   "source": [
    "nn.CrossEntropyLoss()(y_pred, y_true)"
   ]
  },
  {
   "attachments": {},
   "cell_type": "markdown",
   "metadata": {},
   "source": [
    "# LogSoftmax + NLLLoss = CrossEntropyLoss"
   ]
  },
  {
   "cell_type": "code",
   "execution_count": 61,
   "metadata": {},
   "outputs": [
    {
     "data": {
      "text/plain": [
       "tensor(1.5312)"
      ]
     },
     "execution_count": 61,
     "metadata": {},
     "output_type": "execute_result"
    }
   ],
   "source": [
    "nn.NLLLoss()(torch.log_softmax(y_pred, dim=-1), y_true)"
   ]
  },
  {
   "attachments": {},
   "cell_type": "markdown",
   "metadata": {},
   "source": [
    "## LogSoftmax = Log(Softmax(x))"
   ]
  },
  {
   "cell_type": "code",
   "execution_count": 62,
   "metadata": {},
   "outputs": [
    {
     "data": {
      "text/plain": [
       "tensor([[-1.3739, -1.3992, -1.8985, -1.7963, -1.6907],\n",
       "        [-1.6288, -1.8871, -1.6704, -1.3819, -1.5463],\n",
       "        [-1.5360, -1.4406, -1.3501, -1.9565, -1.9145],\n",
       "        [-1.8343, -1.6881, -1.3425, -1.4536, -1.8296],\n",
       "        [-1.5188, -1.2025, -1.7938, -2.1316, -1.6316],\n",
       "        [-1.5610, -1.7110, -1.4241, -1.8614, -1.5455],\n",
       "        [-1.1028, -1.6819, -1.8342, -1.8462, -1.8051],\n",
       "        [-1.6704, -1.6213, -1.5476, -1.4244, -1.8278],\n",
       "        [-1.5076, -1.9215, -1.5324, -1.8503, -1.3511],\n",
       "        [-1.6154, -1.6842, -1.8026, -1.3975, -1.5920]])"
      ]
     },
     "execution_count": 62,
     "metadata": {},
     "output_type": "execute_result"
    }
   ],
   "source": [
    "torch.log(torch.softmax(y_pred, dim=-1))"
   ]
  },
  {
   "cell_type": "code",
   "execution_count": 63,
   "metadata": {},
   "outputs": [
    {
     "data": {
      "text/plain": [
       "tensor(1.5312)"
      ]
     },
     "execution_count": 63,
     "metadata": {},
     "output_type": "execute_result"
    }
   ],
   "source": [
    "nn.NLLLoss()(torch.log(torch.softmax(y_pred, dim=-1)), y_true)"
   ]
  },
  {
   "attachments": {},
   "cell_type": "markdown",
   "metadata": {},
   "source": [
    "# label_smoothing"
   ]
  },
  {
   "cell_type": "code",
   "execution_count": 64,
   "metadata": {},
   "outputs": [],
   "source": [
    "label_smoothing = 0.1"
   ]
  },
  {
   "cell_type": "code",
   "execution_count": 65,
   "metadata": {},
   "outputs": [
    {
     "data": {
      "text/plain": [
       "tensor(1.5413)"
      ]
     },
     "execution_count": 65,
     "metadata": {},
     "output_type": "execute_result"
    }
   ],
   "source": [
    "nn.CrossEntropyLoss(label_smoothing=label_smoothing)(y_pred, y_true)"
   ]
  },
  {
   "attachments": {},
   "cell_type": "markdown",
   "metadata": {},
   "source": [
    "## 尝试复现label_smoothing"
   ]
  },
  {
   "cell_type": "code",
   "execution_count": 66,
   "metadata": {},
   "outputs": [
    {
     "data": {
      "text/plain": [
       "tensor([[0., 0., 0., 0., 1.],\n",
       "        [0., 0., 0., 1., 0.],\n",
       "        [0., 0., 1., 0., 0.],\n",
       "        [0., 0., 0., 1., 0.],\n",
       "        [0., 0., 0., 1., 0.],\n",
       "        [0., 1., 0., 0., 0.],\n",
       "        [1., 0., 0., 0., 0.],\n",
       "        [0., 0., 1., 0., 0.],\n",
       "        [0., 0., 0., 0., 1.],\n",
       "        [0., 0., 0., 0., 1.]])"
      ]
     },
     "execution_count": 66,
     "metadata": {},
     "output_type": "execute_result"
    }
   ],
   "source": [
    "y_true_ont_hot = F.one_hot(y_true)\n",
    "y_true_ont_hot = y_true_ont_hot.type(torch.float32)\n",
    "y_true_ont_hot"
   ]
  },
  {
   "cell_type": "code",
   "execution_count": 67,
   "metadata": {},
   "outputs": [
    {
     "data": {
      "text/plain": [
       "tensor([[False, False, False, False,  True],\n",
       "        [False, False, False,  True, False],\n",
       "        [False, False,  True, False, False],\n",
       "        [False, False, False,  True, False],\n",
       "        [False, False, False,  True, False],\n",
       "        [False,  True, False, False, False],\n",
       "        [ True, False, False, False, False],\n",
       "        [False, False,  True, False, False],\n",
       "        [False, False, False, False,  True],\n",
       "        [False, False, False, False,  True]])"
      ]
     },
     "execution_count": 67,
     "metadata": {},
     "output_type": "execute_result"
    }
   ],
   "source": [
    "y_true_ont_hot == 1"
   ]
  },
  {
   "cell_type": "code",
   "execution_count": 68,
   "metadata": {},
   "outputs": [],
   "source": [
    "y_true_ont_hot[y_true_ont_hot == 1] = 1 - label_smoothing\n",
    "y_true_ont_hot[y_true_ont_hot == 0] = label_smoothing / (5 - 1)"
   ]
  },
  {
   "cell_type": "code",
   "execution_count": 69,
   "metadata": {},
   "outputs": [
    {
     "data": {
      "text/plain": [
       "tensor([[0.0250, 0.0250, 0.0250, 0.0250, 0.9000],\n",
       "        [0.0250, 0.0250, 0.0250, 0.9000, 0.0250],\n",
       "        [0.0250, 0.0250, 0.9000, 0.0250, 0.0250],\n",
       "        [0.0250, 0.0250, 0.0250, 0.9000, 0.0250],\n",
       "        [0.0250, 0.0250, 0.0250, 0.9000, 0.0250],\n",
       "        [0.0250, 0.9000, 0.0250, 0.0250, 0.0250],\n",
       "        [0.9000, 0.0250, 0.0250, 0.0250, 0.0250],\n",
       "        [0.0250, 0.0250, 0.9000, 0.0250, 0.0250],\n",
       "        [0.0250, 0.0250, 0.0250, 0.0250, 0.9000],\n",
       "        [0.0250, 0.0250, 0.0250, 0.0250, 0.9000]])"
      ]
     },
     "execution_count": 69,
     "metadata": {},
     "output_type": "execute_result"
    }
   ],
   "source": [
    "y_true_ont_hot"
   ]
  },
  {
   "cell_type": "code",
   "execution_count": 70,
   "metadata": {},
   "outputs": [
    {
     "data": {
      "text/plain": [
       "(torch.Size([10, 5]), torch.Size([10, 5]))"
      ]
     },
     "execution_count": 70,
     "metadata": {},
     "output_type": "execute_result"
    }
   ],
   "source": [
    "y_pred.shape, y_true_ont_hot.shape"
   ]
  },
  {
   "cell_type": "code",
   "execution_count": 71,
   "metadata": {},
   "outputs": [
    {
     "data": {
      "text/plain": [
       "tensor(1.5439)"
      ]
     },
     "execution_count": 71,
     "metadata": {},
     "output_type": "execute_result"
    }
   ],
   "source": [
    "nn.CrossEntropyLoss()(y_pred, y_true_ont_hot)"
   ]
  },
  {
   "attachments": {},
   "cell_type": "markdown",
   "metadata": {},
   "source": [
    "# 多类别分类(一个目标有多个标签)"
   ]
  },
  {
   "cell_type": "code",
   "execution_count": 76,
   "metadata": {},
   "outputs": [
    {
     "data": {
      "text/plain": [
       "tensor([[0, 0, 0, 0, 1],\n",
       "        [0, 0, 0, 1, 0],\n",
       "        [0, 0, 1, 0, 0],\n",
       "        [0, 0, 0, 1, 0],\n",
       "        [0, 0, 0, 1, 0],\n",
       "        [0, 1, 0, 0, 0],\n",
       "        [1, 0, 0, 0, 0],\n",
       "        [0, 0, 1, 0, 0],\n",
       "        [0, 0, 0, 0, 1],\n",
       "        [0, 0, 0, 0, 1]])"
      ]
     },
     "execution_count": 76,
     "metadata": {},
     "output_type": "execute_result"
    }
   ],
   "source": [
    "y_true_ont_hot_ = F.one_hot(y_true)\n",
    "y_true_ont_hot_"
   ]
  },
  {
   "cell_type": "code",
   "execution_count": 77,
   "metadata": {},
   "outputs": [
    {
     "data": {
      "text/plain": [
       "tensor([[0, 1, 0, 0, 1],\n",
       "        [0, 1, 1, 1, 0],\n",
       "        [0, 0, 1, 0, 0],\n",
       "        [1, 0, 0, 1, 0],\n",
       "        [0, 0, 0, 1, 0],\n",
       "        [0, 1, 0, 1, 0],\n",
       "        [1, 1, 0, 0, 0],\n",
       "        [0, 0, 1, 0, 0],\n",
       "        [0, 1, 0, 0, 1],\n",
       "        [1, 1, 1, 0, 1]])"
      ]
     },
     "execution_count": 77,
     "metadata": {},
     "output_type": "execute_result"
    }
   ],
   "source": [
    "# 伪造多类别\n",
    "y_true_ont_hot_[0, 1] = 1\n",
    "y_true_ont_hot_[1, 1:3] = 1\n",
    "y_true_ont_hot_[2, 2] = 1\n",
    "y_true_ont_hot_[3, 0] = 1\n",
    "y_true_ont_hot_[4, 3] = 1\n",
    "y_true_ont_hot_[5, 3] = 1\n",
    "y_true_ont_hot_[6, 0:2] = 1\n",
    "y_true_ont_hot_[7, 2] = 1\n",
    "y_true_ont_hot_[8, 1] = 1\n",
    "y_true_ont_hot_[9, 0:3] = 1\n",
    "y_true_ont_hot_"
   ]
  },
  {
   "attachments": {},
   "cell_type": "markdown",
   "metadata": {},
   "source": [
    "## BCELoss = Binary Cross Entropy"
   ]
  },
  {
   "cell_type": "code",
   "execution_count": 78,
   "metadata": {},
   "outputs": [
    {
     "data": {
      "text/plain": [
       "tensor(0.7704)"
      ]
     },
     "execution_count": 78,
     "metadata": {},
     "output_type": "execute_result"
    }
   ],
   "source": [
    "nn.BCELoss()(torch.sigmoid(y_pred), y_true_ont_hot_.type(torch.float32))"
   ]
  },
  {
   "cell_type": "markdown",
   "metadata": {},
   "source": [
    "## BCEWithLogitsLoss = Signoid + BCELoss\n",
    "\n",
    "This loss combines a `Sigmoid` layer and the `BCELoss` in one single class. This version is more numerically stable than using a plain `Sigmoid` followed by a `BCELoss` as, by combining the operations into one layer we take advantage of the log-sum-exp trick for numerical stability.\n",
    "\n",
    "该损失将 `Sigmoid` 层和 `BCELoss` 组合在一个类中。 这个版本比使用简单的 `Sigmoid` 后跟 `BCELoss` 在数值上更稳定，因为通过将操作组合到一层，我们利用 log-sum-exp 技巧来实现数值稳定性。"
   ]
  },
  {
   "cell_type": "code",
   "execution_count": 87,
   "metadata": {},
   "outputs": [
    {
     "data": {
      "text/plain": [
       "tensor(0.7704)"
      ]
     },
     "execution_count": 87,
     "metadata": {},
     "output_type": "execute_result"
    }
   ],
   "source": [
    "nn.BCEWithLogitsLoss()(y_pred, y_true_ont_hot_.type(torch.float32))"
   ]
  },
  {
   "attachments": {},
   "cell_type": "markdown",
   "metadata": {},
   "source": [
    "## Log(Sigmoid(x)) + NLLLoss"
   ]
  },
  {
   "cell_type": "code",
   "execution_count": 91,
   "metadata": {},
   "outputs": [
    {
     "data": {
      "text/plain": [
       "tensor(0.3710)"
      ]
     },
     "execution_count": 91,
     "metadata": {},
     "output_type": "execute_result"
    }
   ],
   "source": [
    "nn.NLLLoss()(torch.log(torch.sigmoid(y_pred)).flatten(), y_true_ont_hot_.flatten())"
   ]
  },
  {
   "cell_type": "code",
   "execution_count": null,
   "metadata": {},
   "outputs": [],
   "source": []
  }
 ],
 "metadata": {
  "kernelspec": {
   "display_name": "crop",
   "language": "python",
   "name": "python3"
  },
  "language_info": {
   "codemirror_mode": {
    "name": "ipython",
    "version": 3
   },
   "file_extension": ".py",
   "mimetype": "text/x-python",
   "name": "python",
   "nbconvert_exporter": "python",
   "pygments_lexer": "ipython3",
   "version": "3.11.4"
  },
  "orig_nbformat": 4
 },
 "nbformat": 4,
 "nbformat_minor": 2
}
