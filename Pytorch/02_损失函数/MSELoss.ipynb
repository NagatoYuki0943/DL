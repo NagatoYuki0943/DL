{
 "cells": [
  {
   "cell_type": "code",
   "execution_count": 45,
   "metadata": {},
   "outputs": [],
   "source": [
    "import torch\n",
    "from torch import nn"
   ]
  },
  {
   "cell_type": "markdown",
   "metadata": {},
   "source": [
    "# 均方误差（mean square error, MSE）"
   ]
  },
  {
   "cell_type": "markdown",
   "metadata": {},
   "source": [
    "## 一维数据"
   ]
  },
  {
   "cell_type": "code",
   "execution_count": 46,
   "metadata": {},
   "outputs": [
    {
     "data": {
      "text/plain": [
       "tensor([0.5242, 0.5859, 0.6143, 0.9404, 0.0913, 0.6553, 0.5622, 0.0624, 0.7742,\n",
       "        0.8489])"
      ]
     },
     "execution_count": 46,
     "metadata": {},
     "output_type": "execute_result"
    }
   ],
   "source": [
    "y_true = torch.rand(10)\n",
    "y_true"
   ]
  },
  {
   "cell_type": "code",
   "execution_count": 47,
   "metadata": {},
   "outputs": [
    {
     "data": {
      "text/plain": [
       "tensor([0.1736, 0.0681, 0.2156, 0.8476, 0.7101, 0.5407, 0.9110, 0.6713, 0.3426,\n",
       "        0.4399])"
      ]
     },
     "execution_count": 47,
     "metadata": {},
     "output_type": "execute_result"
    }
   ],
   "source": [
    "y_pred = torch.rand(10)\n",
    "y_pred"
   ]
  },
  {
   "cell_type": "code",
   "execution_count": 48,
   "metadata": {},
   "outputs": [
    {
     "data": {
      "text/plain": [
       "tensor(0.1801)"
      ]
     },
     "execution_count": 48,
     "metadata": {},
     "output_type": "execute_result"
    }
   ],
   "source": [
    "nn.MSELoss()(y_pred, y_true)"
   ]
  },
  {
   "cell_type": "code",
   "execution_count": 49,
   "metadata": {},
   "outputs": [
    {
     "data": {
      "text/plain": [
       "tensor(0.1801)"
      ]
     },
     "execution_count": 49,
     "metadata": {},
     "output_type": "execute_result"
    }
   ],
   "source": [
    "# sum((真实值 - 预测值) ** 2) / 总个数\n",
    "((y_true - y_pred) ** 2).sum() / torch.prod(torch.tensor(y_true.size()))"
   ]
  },
  {
   "cell_type": "markdown",
   "metadata": {},
   "source": [
    "## 二维数据"
   ]
  },
  {
   "cell_type": "code",
   "execution_count": 50,
   "metadata": {},
   "outputs": [
    {
     "data": {
      "text/plain": [
       "tensor([[0.5824, 0.7589, 0.9238, 0.0078, 0.2258],\n",
       "        [0.9996, 0.7851, 0.4015, 0.9300, 0.2434],\n",
       "        [0.9700, 0.5983, 0.1241, 0.5141, 0.7230],\n",
       "        [0.2492, 0.3589, 0.8106, 0.5675, 0.8832],\n",
       "        [0.3851, 0.8063, 0.7408, 0.7614, 0.4266],\n",
       "        [0.1152, 0.4980, 0.1477, 0.8273, 0.9455],\n",
       "        [0.2234, 0.0029, 0.3884, 0.0728, 0.1651],\n",
       "        [0.3163, 0.2643, 0.4146, 0.3754, 0.8883],\n",
       "        [0.6791, 0.3652, 0.7507, 0.4466, 0.6994],\n",
       "        [0.4758, 0.3309, 0.8015, 0.6827, 0.7556]])"
      ]
     },
     "execution_count": 50,
     "metadata": {},
     "output_type": "execute_result"
    }
   ],
   "source": [
    "y_true = torch.rand(10, 5)\n",
    "y_true"
   ]
  },
  {
   "cell_type": "code",
   "execution_count": 51,
   "metadata": {},
   "outputs": [
    {
     "data": {
      "text/plain": [
       "tensor([[0.1378, 0.3853, 0.3126, 0.1454, 0.6894],\n",
       "        [0.6401, 0.0133, 0.2043, 0.6745, 0.9196],\n",
       "        [0.6915, 0.9245, 0.3396, 0.9031, 0.9868],\n",
       "        [0.5437, 0.0672, 0.1702, 0.1977, 0.9976],\n",
       "        [0.9853, 0.7265, 0.5694, 0.0245, 0.3997],\n",
       "        [0.4978, 0.3890, 0.4293, 0.5943, 0.9765],\n",
       "        [0.3212, 0.9763, 0.5978, 0.1405, 0.9924],\n",
       "        [0.2151, 0.8128, 0.6701, 0.3359, 0.1010],\n",
       "        [0.8237, 0.7603, 0.3371, 0.3632, 0.2906],\n",
       "        [0.6051, 0.7338, 0.4187, 0.1415, 0.1700]])"
      ]
     },
     "execution_count": 51,
     "metadata": {},
     "output_type": "execute_result"
    }
   ],
   "source": [
    "y_pred = torch.rand(10, 5)\n",
    "y_pred"
   ]
  },
  {
   "cell_type": "code",
   "execution_count": 52,
   "metadata": {},
   "outputs": [
    {
     "data": {
      "text/plain": [
       "tensor(0.1764)"
      ]
     },
     "execution_count": 52,
     "metadata": {},
     "output_type": "execute_result"
    }
   ],
   "source": [
    "nn.MSELoss()(y_pred, y_true)"
   ]
  },
  {
   "cell_type": "code",
   "execution_count": 53,
   "metadata": {},
   "outputs": [
    {
     "data": {
      "text/plain": [
       "tensor(0.1764)"
      ]
     },
     "execution_count": 53,
     "metadata": {},
     "output_type": "execute_result"
    }
   ],
   "source": [
    "# sum((真实值 - 预测值) ** 2) / 总个数\n",
    "((y_true - y_pred) ** 2).sum() / torch.prod(torch.tensor(y_true.size()))"
   ]
  },
  {
   "cell_type": "code",
   "execution_count": null,
   "metadata": {},
   "outputs": [],
   "source": []
  }
 ],
 "metadata": {
  "kernelspec": {
   "display_name": "pytorch",
   "language": "python",
   "name": "python3"
  },
  "language_info": {
   "codemirror_mode": {
    "name": "ipython",
    "version": 3
   },
   "file_extension": ".py",
   "mimetype": "text/x-python",
   "name": "python",
   "nbconvert_exporter": "python",
   "pygments_lexer": "ipython3",
   "version": "3.11.4"
  }
 },
 "nbformat": 4,
 "nbformat_minor": 2
}
