{
 "cells": [
  {
   "cell_type": "code",
   "execution_count": 1,
   "metadata": {},
   "outputs": [],
   "source": [
    "import torch\n",
    "from torch import nn\n",
    "from torch.nn import functional as F"
   ]
  },
  {
   "cell_type": "markdown",
   "metadata": {},
   "source": [
    "# GroupNorm\n",
    "\n",
    "https://pytorch.org/docs/stable/generated/torch.nn.GroupNorm.html#torch.nn.GroupNorm\n",
    "\n",
    "$$\n",
    "y = \\frac {x - E[x]} {\\sqrt {Var[x] + \\epsilon}} * \\gamma + \\beta\n",
    "$$"
   ]
  },
  {
   "cell_type": "code",
   "execution_count": 2,
   "metadata": {},
   "outputs": [
    {
     "data": {
      "text/plain": [
       "GroupNorm(2, 4, eps=1e-05, affine=True)"
      ]
     },
     "execution_count": 2,
     "metadata": {},
     "output_type": "execute_result"
    }
   ],
   "source": [
    "norm = nn.GroupNorm(num_groups=2, num_channels=4)\n",
    "norm"
   ]
  },
  {
   "cell_type": "code",
   "execution_count": 5,
   "metadata": {},
   "outputs": [
    {
     "data": {
      "text/plain": [
       "tensor([1., 1., 1., 1.])"
      ]
     },
     "execution_count": 5,
     "metadata": {},
     "output_type": "execute_result"
    }
   ],
   "source": [
    "# gamma\n",
    "norm.weight.data"
   ]
  },
  {
   "cell_type": "code",
   "execution_count": 6,
   "metadata": {},
   "outputs": [
    {
     "data": {
      "text/plain": [
       "tensor([0., 0., 0., 0.])"
      ]
     },
     "execution_count": 6,
     "metadata": {},
     "output_type": "execute_result"
    }
   ],
   "source": [
    "# beta\n",
    "norm.bias.data"
   ]
  },
  {
   "cell_type": "code",
   "execution_count": 7,
   "metadata": {},
   "outputs": [
    {
     "data": {
      "text/plain": [
       "1e-05"
      ]
     },
     "execution_count": 7,
     "metadata": {},
     "output_type": "execute_result"
    }
   ],
   "source": [
    "# eps\n",
    "norm.eps"
   ]
  },
  {
   "cell_type": "markdown",
   "metadata": {},
   "source": [
    "# 运算"
   ]
  },
  {
   "cell_type": "code",
   "execution_count": 8,
   "metadata": {},
   "outputs": [
    {
     "data": {
      "text/plain": [
       "tensor([[[[ 0.,  1.,  2.,  3.,  4.],\n",
       "          [ 5.,  6.,  7.,  8.,  9.],\n",
       "          [10., 11., 12., 13., 14.],\n",
       "          [15., 16., 17., 18., 19.],\n",
       "          [20., 21., 22., 23., 24.]],\n",
       "\n",
       "         [[25., 26., 27., 28., 29.],\n",
       "          [30., 31., 32., 33., 34.],\n",
       "          [35., 36., 37., 38., 39.],\n",
       "          [40., 41., 42., 43., 44.],\n",
       "          [45., 46., 47., 48., 49.]],\n",
       "\n",
       "         [[50., 51., 52., 53., 54.],\n",
       "          [55., 56., 57., 58., 59.],\n",
       "          [60., 61., 62., 63., 64.],\n",
       "          [65., 66., 67., 68., 69.],\n",
       "          [70., 71., 72., 73., 74.]],\n",
       "\n",
       "         [[75., 76., 77., 78., 79.],\n",
       "          [80., 81., 82., 83., 84.],\n",
       "          [85., 86., 87., 88., 89.],\n",
       "          [90., 91., 92., 93., 94.],\n",
       "          [95., 96., 97., 98., 99.]]]])"
      ]
     },
     "execution_count": 8,
     "metadata": {},
     "output_type": "execute_result"
    }
   ],
   "source": [
    "x = torch.arange(100.).reshape(1, 4, 5, 5)\n",
    "x"
   ]
  },
  {
   "cell_type": "code",
   "execution_count": 9,
   "metadata": {},
   "outputs": [
    {
     "data": {
      "text/plain": [
       "torch.Size([1, 4, 5, 5])"
      ]
     },
     "execution_count": 9,
     "metadata": {},
     "output_type": "execute_result"
    }
   ],
   "source": [
    "x.shape"
   ]
  },
  {
   "cell_type": "code",
   "execution_count": 10,
   "metadata": {},
   "outputs": [
    {
     "data": {
      "text/plain": [
       "tensor([[[[-1.6977, -1.6285, -1.5592, -1.4899, -1.4206],\n",
       "          [-1.3513, -1.2820, -1.2127, -1.1434, -1.0741],\n",
       "          [-1.0048, -0.9355, -0.8662, -0.7969, -0.7276],\n",
       "          [-0.6583, -0.5890, -0.5197, -0.4504, -0.3811],\n",
       "          [-0.3118, -0.2425, -0.1732, -0.1039, -0.0346]],\n",
       "\n",
       "         [[ 0.0346,  0.1039,  0.1732,  0.2425,  0.3118],\n",
       "          [ 0.3811,  0.4504,  0.5197,  0.5890,  0.6583],\n",
       "          [ 0.7276,  0.7969,  0.8662,  0.9355,  1.0048],\n",
       "          [ 1.0741,  1.1434,  1.2127,  1.2820,  1.3513],\n",
       "          [ 1.4206,  1.4899,  1.5592,  1.6285,  1.6977]],\n",
       "\n",
       "         [[-1.6977, -1.6285, -1.5592, -1.4899, -1.4206],\n",
       "          [-1.3513, -1.2820, -1.2127, -1.1434, -1.0741],\n",
       "          [-1.0048, -0.9355, -0.8662, -0.7969, -0.7276],\n",
       "          [-0.6583, -0.5890, -0.5197, -0.4504, -0.3811],\n",
       "          [-0.3118, -0.2425, -0.1732, -0.1039, -0.0346]],\n",
       "\n",
       "         [[ 0.0346,  0.1039,  0.1732,  0.2425,  0.3118],\n",
       "          [ 0.3811,  0.4504,  0.5197,  0.5890,  0.6583],\n",
       "          [ 0.7276,  0.7969,  0.8662,  0.9355,  1.0048],\n",
       "          [ 1.0741,  1.1434,  1.2127,  1.2820,  1.3513],\n",
       "          [ 1.4206,  1.4899,  1.5592,  1.6285,  1.6977]]]],\n",
       "       grad_fn=<NativeGroupNormBackward0>)"
      ]
     },
     "execution_count": 10,
     "metadata": {},
     "output_type": "execute_result"
    }
   ],
   "source": [
    "norm(x)"
   ]
  },
  {
   "cell_type": "code",
   "execution_count": null,
   "metadata": {},
   "outputs": [],
   "source": []
  }
 ],
 "metadata": {
  "kernelspec": {
   "display_name": "pytorch",
   "language": "python",
   "name": "python3"
  },
  "language_info": {
   "codemirror_mode": {
    "name": "ipython",
    "version": 3
   },
   "file_extension": ".py",
   "mimetype": "text/x-python",
   "name": "python",
   "nbconvert_exporter": "python",
   "pygments_lexer": "ipython3",
   "version": "3.11.4"
  },
  "orig_nbformat": 4
 },
 "nbformat": 4,
 "nbformat_minor": 2
}
