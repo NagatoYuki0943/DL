{
 "cells": [
  {
   "cell_type": "code",
   "execution_count": 1,
   "metadata": {},
   "outputs": [],
   "source": [
    "import torch\n",
    "from torch import nn\n",
    "from torch.nn import functional as F"
   ]
  },
  {
   "cell_type": "markdown",
   "metadata": {},
   "source": [
    "# BatchNorm2d\n",
    "\n",
    "https://pytorch.org/docs/stable/generated/torch.nn.BatchNorm2d.html#torch.nn.BatchNorm2d\n",
    "\n",
    "$$\n",
    "y = \\frac {x - E[x]} {\\sqrt {Var[x] + \\epsilon}} * \\gamma + \\beta\n",
    "$$"
   ]
  },
  {
   "cell_type": "code",
   "execution_count": 2,
   "metadata": {},
   "outputs": [
    {
     "data": {
      "text/plain": [
       "BatchNorm2d(4, eps=1e-05, momentum=0.1, affine=True, track_running_stats=True)"
      ]
     },
     "execution_count": 2,
     "metadata": {},
     "output_type": "execute_result"
    }
   ],
   "source": [
    "norm = nn.BatchNorm2d(4)\n",
    "norm"
   ]
  },
  {
   "cell_type": "code",
   "execution_count": 3,
   "metadata": {},
   "outputs": [
    {
     "data": {
      "text/plain": [
       "tensor([0., 0., 0., 0.])"
      ]
     },
     "execution_count": 3,
     "metadata": {},
     "output_type": "execute_result"
    }
   ],
   "source": [
    "# running_mean\n",
    "norm.running_mean.data"
   ]
  },
  {
   "cell_type": "code",
   "execution_count": 4,
   "metadata": {},
   "outputs": [
    {
     "data": {
      "text/plain": [
       "tensor([1., 1., 1., 1.])"
      ]
     },
     "execution_count": 4,
     "metadata": {},
     "output_type": "execute_result"
    }
   ],
   "source": [
    "# running_var\n",
    "norm.running_var.data"
   ]
  },
  {
   "cell_type": "code",
   "execution_count": 5,
   "metadata": {},
   "outputs": [
    {
     "data": {
      "text/plain": [
       "tensor([1., 1., 1., 1.])"
      ]
     },
     "execution_count": 5,
     "metadata": {},
     "output_type": "execute_result"
    }
   ],
   "source": [
    "# gamma\n",
    "norm.weight.data"
   ]
  },
  {
   "cell_type": "code",
   "execution_count": 6,
   "metadata": {},
   "outputs": [
    {
     "data": {
      "text/plain": [
       "tensor([0., 0., 0., 0.])"
      ]
     },
     "execution_count": 6,
     "metadata": {},
     "output_type": "execute_result"
    }
   ],
   "source": [
    "# beta\n",
    "norm.bias.data"
   ]
  },
  {
   "cell_type": "code",
   "execution_count": 7,
   "metadata": {},
   "outputs": [
    {
     "data": {
      "text/plain": [
       "1e-05"
      ]
     },
     "execution_count": 7,
     "metadata": {},
     "output_type": "execute_result"
    }
   ],
   "source": [
    "# eps\n",
    "norm.eps"
   ]
  },
  {
   "cell_type": "markdown",
   "metadata": {},
   "source": [
    "# 运算"
   ]
  },
  {
   "cell_type": "code",
   "execution_count": 8,
   "metadata": {},
   "outputs": [
    {
     "data": {
      "text/plain": [
       "tensor([[[[ 0.,  1.,  2.,  3.,  4.],\n",
       "          [ 5.,  6.,  7.,  8.,  9.],\n",
       "          [10., 11., 12., 13., 14.],\n",
       "          [15., 16., 17., 18., 19.],\n",
       "          [20., 21., 22., 23., 24.]],\n",
       "\n",
       "         [[25., 26., 27., 28., 29.],\n",
       "          [30., 31., 32., 33., 34.],\n",
       "          [35., 36., 37., 38., 39.],\n",
       "          [40., 41., 42., 43., 44.],\n",
       "          [45., 46., 47., 48., 49.]],\n",
       "\n",
       "         [[50., 51., 52., 53., 54.],\n",
       "          [55., 56., 57., 58., 59.],\n",
       "          [60., 61., 62., 63., 64.],\n",
       "          [65., 66., 67., 68., 69.],\n",
       "          [70., 71., 72., 73., 74.]],\n",
       "\n",
       "         [[75., 76., 77., 78., 79.],\n",
       "          [80., 81., 82., 83., 84.],\n",
       "          [85., 86., 87., 88., 89.],\n",
       "          [90., 91., 92., 93., 94.],\n",
       "          [95., 96., 97., 98., 99.]]]])"
      ]
     },
     "execution_count": 8,
     "metadata": {},
     "output_type": "execute_result"
    }
   ],
   "source": [
    "x = torch.arange(100.).reshape(1, 4, 5, 5)\n",
    "x"
   ]
  },
  {
   "cell_type": "code",
   "execution_count": 9,
   "metadata": {},
   "outputs": [
    {
     "data": {
      "text/plain": [
       "torch.Size([1, 4, 5, 5])"
      ]
     },
     "execution_count": 9,
     "metadata": {},
     "output_type": "execute_result"
    }
   ],
   "source": [
    "x.shape"
   ]
  },
  {
   "cell_type": "code",
   "execution_count": 10,
   "metadata": {},
   "outputs": [
    {
     "data": {
      "text/plain": [
       "tensor([[[[-1.6641, -1.5254, -1.3868, -1.2481, -1.1094],\n",
       "          [-0.9707, -0.8321, -0.6934, -0.5547, -0.4160],\n",
       "          [-0.2774, -0.1387,  0.0000,  0.1387,  0.2774],\n",
       "          [ 0.4160,  0.5547,  0.6934,  0.8321,  0.9707],\n",
       "          [ 1.1094,  1.2481,  1.3868,  1.5254,  1.6641]],\n",
       "\n",
       "         [[-1.6641, -1.5254, -1.3868, -1.2481, -1.1094],\n",
       "          [-0.9707, -0.8321, -0.6934, -0.5547, -0.4160],\n",
       "          [-0.2773, -0.1387,  0.0000,  0.1387,  0.2773],\n",
       "          [ 0.4160,  0.5547,  0.6934,  0.8321,  0.9707],\n",
       "          [ 1.1094,  1.2481,  1.3868,  1.5254,  1.6641]],\n",
       "\n",
       "         [[-1.6641, -1.5254, -1.3868, -1.2481, -1.1094],\n",
       "          [-0.9707, -0.8320, -0.6934, -0.5547, -0.4160],\n",
       "          [-0.2773, -0.1387,  0.0000,  0.1387,  0.2774],\n",
       "          [ 0.4160,  0.5547,  0.6934,  0.8321,  0.9707],\n",
       "          [ 1.1094,  1.2481,  1.3868,  1.5254,  1.6641]],\n",
       "\n",
       "         [[-1.6641, -1.5254, -1.3868, -1.2481, -1.1094],\n",
       "          [-0.9707, -0.8321, -0.6934, -0.5547, -0.4160],\n",
       "          [-0.2773, -0.1387,  0.0000,  0.1387,  0.2774],\n",
       "          [ 0.4160,  0.5547,  0.6934,  0.8321,  0.9707],\n",
       "          [ 1.1094,  1.2481,  1.3868,  1.5254,  1.6641]]]],\n",
       "       grad_fn=<NativeBatchNormBackward0>)"
      ]
     },
     "execution_count": 10,
     "metadata": {},
     "output_type": "execute_result"
    }
   ],
   "source": [
    "norm(x)"
   ]
  },
  {
   "cell_type": "code",
   "execution_count": null,
   "metadata": {},
   "outputs": [],
   "source": []
  }
 ],
 "metadata": {
  "kernelspec": {
   "display_name": "pytorch",
   "language": "python",
   "name": "python3"
  },
  "language_info": {
   "codemirror_mode": {
    "name": "ipython",
    "version": 3
   },
   "file_extension": ".py",
   "mimetype": "text/x-python",
   "name": "python",
   "nbconvert_exporter": "python",
   "pygments_lexer": "ipython3",
   "version": "3.11.4"
  },
  "orig_nbformat": 4
 },
 "nbformat": 4,
 "nbformat_minor": 2
}
