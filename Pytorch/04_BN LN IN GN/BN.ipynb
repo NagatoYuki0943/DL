{
 "cells": [
  {
   "cell_type": "code",
   "execution_count": 12,
   "metadata": {},
   "outputs": [],
   "source": [
    "import torch\n",
    "from torch import nn\n",
    "from torch.nn import functional as F"
   ]
  },
  {
   "cell_type": "markdown",
   "metadata": {},
   "source": [
    "# BatchNorm2d\n",
    "\n",
    "https://pytorch.org/docs/stable/generated/torch.nn.BatchNorm2d.html#torch.nn.BatchNorm2d\n",
    "\n",
    "$$\n",
    "y = \\frac {x - E[x]} {\\sqrt {Var[x] + \\epsilon}} * \\gamma + \\beta\n",
    "$$"
   ]
  },
  {
   "cell_type": "code",
   "execution_count": 13,
   "metadata": {},
   "outputs": [
    {
     "data": {
      "text/plain": [
       "BatchNorm2d(3, eps=1e-05, momentum=0.1, affine=True, track_running_stats=True)"
      ]
     },
     "execution_count": 13,
     "metadata": {},
     "output_type": "execute_result"
    }
   ],
   "source": [
    "norm = nn.BatchNorm2d(3)\n",
    "norm"
   ]
  },
  {
   "cell_type": "code",
   "execution_count": 14,
   "metadata": {},
   "outputs": [
    {
     "data": {
      "text/plain": [
       "tensor([0., 0., 0.])"
      ]
     },
     "execution_count": 14,
     "metadata": {},
     "output_type": "execute_result"
    }
   ],
   "source": [
    "# running_mean\n",
    "norm.running_mean.data"
   ]
  },
  {
   "cell_type": "code",
   "execution_count": 15,
   "metadata": {},
   "outputs": [
    {
     "data": {
      "text/plain": [
       "tensor([1., 1., 1.])"
      ]
     },
     "execution_count": 15,
     "metadata": {},
     "output_type": "execute_result"
    }
   ],
   "source": [
    "# running_var\n",
    "norm.running_var.data"
   ]
  },
  {
   "cell_type": "code",
   "execution_count": 16,
   "metadata": {},
   "outputs": [
    {
     "data": {
      "text/plain": [
       "tensor([1., 1., 1.])"
      ]
     },
     "execution_count": 16,
     "metadata": {},
     "output_type": "execute_result"
    }
   ],
   "source": [
    "# gamma\n",
    "norm.weight.data"
   ]
  },
  {
   "cell_type": "code",
   "execution_count": 17,
   "metadata": {},
   "outputs": [
    {
     "data": {
      "text/plain": [
       "tensor([0., 0., 0.])"
      ]
     },
     "execution_count": 17,
     "metadata": {},
     "output_type": "execute_result"
    }
   ],
   "source": [
    "# beta\n",
    "norm.bias.data"
   ]
  },
  {
   "cell_type": "code",
   "execution_count": 18,
   "metadata": {},
   "outputs": [
    {
     "data": {
      "text/plain": [
       "1e-05"
      ]
     },
     "execution_count": 18,
     "metadata": {},
     "output_type": "execute_result"
    }
   ],
   "source": [
    "# eps\n",
    "norm.eps"
   ]
  },
  {
   "cell_type": "markdown",
   "metadata": {},
   "source": [
    "# 运算"
   ]
  },
  {
   "cell_type": "code",
   "execution_count": 19,
   "metadata": {},
   "outputs": [
    {
     "data": {
      "text/plain": [
       "tensor([[[[ 0.,  1.,  2.,  3.],\n",
       "          [ 4.,  5.,  6.,  7.],\n",
       "          [ 8.,  9., 10., 11.],\n",
       "          [12., 13., 14., 15.]],\n",
       "\n",
       "         [[16., 17., 18., 19.],\n",
       "          [20., 21., 22., 23.],\n",
       "          [24., 25., 26., 27.],\n",
       "          [28., 29., 30., 31.]],\n",
       "\n",
       "         [[32., 33., 34., 35.],\n",
       "          [36., 37., 38., 39.],\n",
       "          [40., 41., 42., 43.],\n",
       "          [44., 45., 46., 47.]]]])"
      ]
     },
     "execution_count": 19,
     "metadata": {},
     "output_type": "execute_result"
    }
   ],
   "source": [
    "x = torch.arange(48.0).reshape(1, 3, 4, 4)\n",
    "x"
   ]
  },
  {
   "cell_type": "code",
   "execution_count": 20,
   "metadata": {},
   "outputs": [
    {
     "data": {
      "text/plain": [
       "tensor([[[[-1.6270, -1.4100, -1.1931, -0.9762],\n",
       "          [-0.7593, -0.5423, -0.3254, -0.1085],\n",
       "          [ 0.1085,  0.3254,  0.5423,  0.7593],\n",
       "          [ 0.9762,  1.1931,  1.4100,  1.6270]],\n",
       "\n",
       "         [[-1.6270, -1.4100, -1.1931, -0.9762],\n",
       "          [-0.7593, -0.5423, -0.3254, -0.1085],\n",
       "          [ 0.1085,  0.3254,  0.5423,  0.7593],\n",
       "          [ 0.9762,  1.1931,  1.4100,  1.6270]],\n",
       "\n",
       "         [[-1.6270, -1.4100, -1.1931, -0.9762],\n",
       "          [-0.7593, -0.5423, -0.3254, -0.1085],\n",
       "          [ 0.1085,  0.3254,  0.5423,  0.7593],\n",
       "          [ 0.9762,  1.1931,  1.4100,  1.6270]]]],\n",
       "       grad_fn=<NativeBatchNormBackward0>)"
      ]
     },
     "execution_count": 20,
     "metadata": {},
     "output_type": "execute_result"
    }
   ],
   "source": [
    "norm(x)"
   ]
  },
  {
   "cell_type": "code",
   "execution_count": 28,
   "metadata": {},
   "outputs": [
    {
     "data": {
      "text/plain": [
       "tensor([[[[-1.5753, -1.3653, -1.1552, -0.9452],\n",
       "          [-0.7351, -0.5251, -0.3151, -0.1050],\n",
       "          [ 0.1050,  0.3151,  0.5251,  0.7351],\n",
       "          [ 0.9452,  1.1552,  1.3653,  1.5753]],\n",
       "\n",
       "         [[-1.5753, -1.3653, -1.1552, -0.9452],\n",
       "          [-0.7351, -0.5251, -0.3151, -0.1050],\n",
       "          [ 0.1050,  0.3151,  0.5251,  0.7351],\n",
       "          [ 0.9452,  1.1552,  1.3653,  1.5753]],\n",
       "\n",
       "         [[-1.5753, -1.3653, -1.1552, -0.9452],\n",
       "          [-0.7351, -0.5251, -0.3151, -0.1050],\n",
       "          [ 0.1050,  0.3151,  0.5251,  0.7351],\n",
       "          [ 0.9452,  1.1552,  1.3653,  1.5753]]]])"
      ]
     },
     "execution_count": 28,
     "metadata": {},
     "output_type": "execute_result"
    }
   ],
   "source": [
    "(x - x.mean(dim=(0, 2, 3), keepdim=True)) / torch.sqrt(\n",
    "    (x.var(dim=(0, 2, 3), keepdim=True) + norm.eps)\n",
    ")"
   ]
  },
  {
   "cell_type": "code",
   "execution_count": 25,
   "metadata": {},
   "outputs": [
    {
     "data": {
      "text/plain": [
       "tensor([[[[ 7.5000]],\n",
       "\n",
       "         [[23.5000]],\n",
       "\n",
       "         [[39.5000]]]])"
      ]
     },
     "execution_count": 25,
     "metadata": {},
     "output_type": "execute_result"
    }
   ],
   "source": [
    "x.mean(dim=(0, 2, 3), keepdim=True)"
   ]
  },
  {
   "cell_type": "code",
   "execution_count": null,
   "metadata": {},
   "outputs": [],
   "source": []
  }
 ],
 "metadata": {
  "kernelspec": {
   "display_name": "pytorch",
   "language": "python",
   "name": "python3"
  },
  "language_info": {
   "codemirror_mode": {
    "name": "ipython",
    "version": 3
   },
   "file_extension": ".py",
   "mimetype": "text/x-python",
   "name": "python",
   "nbconvert_exporter": "python",
   "pygments_lexer": "ipython3",
   "version": "3.11.4"
  },
  "orig_nbformat": 4
 },
 "nbformat": 4,
 "nbformat_minor": 2
}
