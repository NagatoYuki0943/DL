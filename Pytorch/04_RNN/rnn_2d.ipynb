{
 "cells": [
  {
   "cell_type": "code",
   "execution_count": 6,
   "metadata": {},
   "outputs": [],
   "source": [
    "import numpy as np\n",
    "import matplotlib.pyplot as plt\n",
    "import torch\n",
    "from torch import nn\n",
    "from torch.optim import Adam"
   ]
  },
  {
   "attachments": {},
   "cell_type": "markdown",
   "metadata": {},
   "source": [
    "# 二维数据[SEQ_LEN, VOCAB_SIZE]"
   ]
  },
  {
   "attachments": {},
   "cell_type": "markdown",
   "metadata": {},
   "source": [
    "## 生成sin数据"
   ]
  },
  {
   "cell_type": "code",
   "execution_count": 428,
   "metadata": {},
   "outputs": [],
   "source": [
    "x = np.arange(-10, 10, 0.2, dtype=np.float32) * np.pi / 4\n",
    "y = np.sin(x) + np.random.normal(0, 0.03, len(x))\n",
    "y = y.astype(np.float32)"
   ]
  },
  {
   "cell_type": "code",
   "execution_count": 429,
   "metadata": {},
   "outputs": [
    {
     "data": {
      "text/plain": [
       "<matplotlib.collections.PathCollection at 0x229017a9300>"
      ]
     },
     "execution_count": 429,
     "metadata": {},
     "output_type": "execute_result"
    },
    {
     "data": {
      "image/png": "[encoded data removed]",
      "text/plain": [
       "<Figure size 640x480 with 1 Axes>"
      ]
     },
     "metadata": {},
     "output_type": "display_data"
    }
   ],
   "source": [
    "plt.scatter(x, y)"
   ]
  },
  {
   "cell_type": "code",
   "execution_count": 430,
   "metadata": {},
   "outputs": [],
   "source": [
    "x_tensor = torch.from_numpy(x).reshape(-1, 1)\n",
    "y_tensor = torch.from_numpy(y).reshape(-1, 1)"
   ]
  },
  {
   "attachments": {},
   "cell_type": "markdown",
   "metadata": {},
   "source": [
    "## BaseModel&train"
   ]
  },
  {
   "cell_type": "code",
   "execution_count": 431,
   "metadata": {},
   "outputs": [],
   "source": [
    "class RNNModel2Dim(nn.Module):\n",
    "    \"\"\"循环神经网络模型\"\"\"\n",
    "    def __init__(self, rnn_layer: nn.Module, vocab_size: int) -> None:\n",
    "        super().__init__()\n",
    "        self.rnn         = rnn_layer\n",
    "        self.hidden_size = rnn_layer.hidden_size\n",
    "        self.num_layers  = rnn_layer.num_layers\n",
    "        self.vocab_size  = vocab_size\n",
    "\n",
    "        # 如果RNN是双向的（之后将介绍），num_directions应该是2，否则应该是1\n",
    "        if not self.rnn.bidirectional:\n",
    "            self.num_directions = 1\n",
    "            self.linear = nn.Linear(self.hidden_size, self.vocab_size)\n",
    "        else:\n",
    "            self.num_directions = 2\n",
    "            self.linear = nn.Linear(self.hidden_size * 2, self.vocab_size)\n",
    "\n",
    "    def forward(self, x, state=None):\n",
    "        y, state = self.rnn(x, state)\n",
    "        # y为每个时间步得到的state,所以是对每个state的预测值\n",
    "        output = self.linear(y)\n",
    "        return output, state\n",
    "\n",
    "    def begin_state(self):\n",
    "        # 二维没有batch\n",
    "        if not isinstance(self.rnn, nn.LSTM):\n",
    "            return torch.zeros(self.num_directions * self.num_layers, self.hidden_size)\n",
    "        else:\n",
    "            return (torch.zeros(self.num_directions * self.num_layers, self.hidden_size),\n",
    "                    torch.zeros(self.num_directions * self.num_layers, self.hidden_size))"
   ]
  },
  {
   "cell_type": "code",
   "execution_count": 432,
   "metadata": {},
   "outputs": [],
   "source": [
    "def train_2dim(epochs, rnn, optimizer, loss_fn, x, y):\n",
    "    losses = []\n",
    "    state = rnn.begin_state()\n",
    "    rnn.train()\n",
    "    for i in range(epochs):\n",
    "        optimizer.zero_grad()\n",
    "\n",
    "        #----------------------------------------------------------#\n",
    "        #   Trying to backward through the graph a second time...\n",
    "        #   detach\n",
    "        #----------------------------------------------------------#\n",
    "        if not isinstance(state, tuple):\n",
    "            state = state.detach()\n",
    "        else:\n",
    "            hx, cx = state\n",
    "            hx, cx = hx.detach(), cx.detach()\n",
    "            state = (hx, cx)\n",
    "\n",
    "        y_pred, state = rnn(x, state)\n",
    "        loss = loss_fn(y_pred, y)\n",
    "        loss.backward()\n",
    "        losses.append(loss.item())\n",
    "        optimizer.step()\n",
    "    return losses"
   ]
  },
  {
   "attachments": {},
   "cell_type": "markdown",
   "metadata": {},
   "source": [
    "## RNN"
   ]
  },
  {
   "cell_type": "code",
   "execution_count": 433,
   "metadata": {},
   "outputs": [
    {
     "data": {
      "text/plain": [
       "torch.Size([100, 1])"
      ]
     },
     "execution_count": 433,
     "metadata": {},
     "output_type": "execute_result"
    }
   ],
   "source": [
    "x_tensor.shape\n",
    "# [len, VOCAB_SIZE]"
   ]
  },
  {
   "cell_type": "code",
   "execution_count": 434,
   "metadata": {},
   "outputs": [],
   "source": [
    "HIDDEN_SIZE = 16\n",
    "NUM_LAYERS = 2\n",
    "rnn1 = nn.RNN(input_size=1, hidden_size=HIDDEN_SIZE, num_layers=NUM_LAYERS, bias=True, batch_first=False, bidirectional=False)"
   ]
  },
  {
   "cell_type": "code",
   "execution_count": 435,
   "metadata": {},
   "outputs": [
    {
     "name": "stdout",
     "output_type": "stream",
     "text": [
      "torch.Size([100, 16]) torch.Size([2, 16])\n"
     ]
    }
   ],
   "source": [
    "h0 = torch.randn(NUM_LAYERS, HIDDEN_SIZE)\n",
    "# output = [h1, h2, ..., hx] 为每个时间步得到的hidden_state\n",
    "# hx                         为最后一个时间步的hidden_state\n",
    "output, hx = rnn1(x_tensor, h0)\n",
    "print(output.size(), hx.size())"
   ]
  },
  {
   "cell_type": "code",
   "execution_count": 436,
   "metadata": {},
   "outputs": [
    {
     "name": "stdout",
     "output_type": "stream",
     "text": [
      "torch.Size([16]) torch.Size([2, 16])\n",
      "tensor([[False, False, False, False, False, False, False, False, False, False,\n",
      "         False, False, False, False, False, False],\n",
      "        [ True,  True,  True,  True,  True,  True,  True,  True,  True,  True,\n",
      "          True,  True,  True,  True,  True,  True]])\n"
     ]
    }
   ],
   "source": [
    "# output包含所有时间步的最后一层的hidden_state\n",
    "print(output[-1].shape, hx.shape)\n",
    "print(output[-1] == hx)"
   ]
  },
  {
   "cell_type": "code",
   "execution_count": 437,
   "metadata": {},
   "outputs": [
    {
     "name": "stdout",
     "output_type": "stream",
     "text": [
      "torch.Size([16]) torch.Size([16])\n",
      "tensor([True, True, True, True, True, True, True, True, True, True, True, True,\n",
      "        True, True, True, True])\n"
     ]
    }
   ],
   "source": [
    "# output包含所有时间步的最后一层的hidden_state\n",
    "print(output[-1].shape, hx[-1].shape)\n",
    "print(output[-1] == hx[-1])"
   ]
  },
  {
   "cell_type": "code",
   "execution_count": 438,
   "metadata": {},
   "outputs": [
    {
     "data": {
      "text/plain": [
       "torch.Size([2, 16])"
      ]
     },
     "execution_count": 438,
     "metadata": {},
     "output_type": "execute_result"
    }
   ],
   "source": [
    "rnn2 = RNNModel2Dim(rnn1, vocab_size=1)\n",
    "state = rnn2.begin_state()\n",
    "state.shape"
   ]
  },
  {
   "cell_type": "code",
   "execution_count": 439,
   "metadata": {},
   "outputs": [],
   "source": [
    "optimizer = Adam(rnn2.parameters(), lr=0.01)\n",
    "loss_fn = nn.MSELoss()"
   ]
  },
  {
   "cell_type": "code",
   "execution_count": 440,
   "metadata": {},
   "outputs": [
    {
     "name": "stdout",
     "output_type": "stream",
     "text": [
      "torch.Size([100, 1]) torch.Size([2, 16])\n"
     ]
    }
   ],
   "source": [
    "y_pred, state = rnn2(x_tensor, state)\n",
    "print(y_pred.shape, state.shape)"
   ]
  },
  {
   "cell_type": "code",
   "execution_count": 442,
   "metadata": {},
   "outputs": [],
   "source": [
    "losses =  train_2dim(200, rnn2, optimizer, loss_fn, x_tensor, y_tensor)"
   ]
  },
  {
   "cell_type": "code",
   "execution_count": 443,
   "metadata": {},
   "outputs": [
    {
     "data": {
      "text/plain": [
       "[<matplotlib.lines.Line2D at 0x22901802590>]"
      ]
     },
     "execution_count": 443,
     "metadata": {},
     "output_type": "execute_result"
    },
    {
     "data": {
      "image/png": "[encoded data removed]",
      "text/plain": [
       "<Figure size 640x480 with 1 Axes>"
      ]
     },
     "metadata": {},
     "output_type": "display_data"
    }
   ],
   "source": [
    "plt.plot(np.arange(len(losses)), losses)"
   ]
  },
  {
   "cell_type": "code",
   "execution_count": 444,
   "metadata": {},
   "outputs": [
    {
     "data": {
      "text/plain": [
       "<matplotlib.collections.PathCollection at 0x22900323fd0>"
      ]
     },
     "execution_count": 444,
     "metadata": {},
     "output_type": "execute_result"
    },
    {
     "data": {
      "image/png": "[encoded data removed]",
      "text/plain": [
       "<Figure size 640x480 with 1 Axes>"
      ]
     },
     "metadata": {},
     "output_type": "display_data"
    }
   ],
   "source": [
    "rnn2.eval()\n",
    "plt.scatter(x, y)\n",
    "temp_x = np.arange(-15, 15, 0.2, dtype=np.float32) * np.pi / 4\n",
    "temp_y = rnn2(torch.from_numpy(temp_x).reshape(-1, 1).type(torch.float32))[0].flatten().detach().numpy()\n",
    "plt.scatter(temp_x, temp_y)"
   ]
  },
  {
   "attachments": {},
   "cell_type": "markdown",
   "metadata": {},
   "source": [
    "## GRU"
   ]
  },
  {
   "cell_type": "code",
   "execution_count": 445,
   "metadata": {},
   "outputs": [
    {
     "data": {
      "text/plain": [
       "torch.Size([100, 1])"
      ]
     },
     "execution_count": 445,
     "metadata": {},
     "output_type": "execute_result"
    }
   ],
   "source": [
    "x_tensor.shape\n",
    "# [len, VOCAB_SIZE]"
   ]
  },
  {
   "cell_type": "code",
   "execution_count": 446,
   "metadata": {},
   "outputs": [],
   "source": [
    "HIDDEN_SIZE = 16\n",
    "NUM_LAYERS = 2\n",
    "gru1 = nn.GRU(input_size=1, hidden_size=HIDDEN_SIZE, num_layers=NUM_LAYERS, bias=True, batch_first=False, bidirectional=False)"
   ]
  },
  {
   "cell_type": "code",
   "execution_count": 447,
   "metadata": {},
   "outputs": [
    {
     "name": "stdout",
     "output_type": "stream",
     "text": [
      "torch.Size([100, 16]) torch.Size([2, 16])\n"
     ]
    }
   ],
   "source": [
    "h0 = torch.randn(NUM_LAYERS, HIDDEN_SIZE)\n",
    "# output = [h1, h2, ..., hx] 为每个时间步得到的hidden_state\n",
    "# hx                         为最后一个时间步的hidden_state\n",
    "output, hx = gru1(x_tensor, h0)\n",
    "print(output.size(), hx.size())"
   ]
  },
  {
   "cell_type": "code",
   "execution_count": 448,
   "metadata": {},
   "outputs": [
    {
     "name": "stdout",
     "output_type": "stream",
     "text": [
      "torch.Size([16]) torch.Size([2, 16])\n",
      "tensor([[False, False, False, False, False, False, False, False, False, False,\n",
      "         False, False, False, False, False, False],\n",
      "        [ True,  True,  True,  True,  True,  True,  True,  True,  True,  True,\n",
      "          True,  True,  True,  True,  True,  True]])\n"
     ]
    }
   ],
   "source": [
    "# output包含所有时间步的最后一层的hidden_state\n",
    "print(output[-1].shape, hx.shape)\n",
    "print(output[-1] == hx)"
   ]
  },
  {
   "cell_type": "code",
   "execution_count": 449,
   "metadata": {},
   "outputs": [
    {
     "name": "stdout",
     "output_type": "stream",
     "text": [
      "torch.Size([16]) torch.Size([16])\n",
      "tensor([True, True, True, True, True, True, True, True, True, True, True, True,\n",
      "        True, True, True, True])\n"
     ]
    }
   ],
   "source": [
    "# output包含所有时间步的最后一层的hidden_state\n",
    "print(output[-1].shape, hx[-1].shape)\n",
    "print(output[-1] == hx[-1])"
   ]
  },
  {
   "cell_type": "code",
   "execution_count": 450,
   "metadata": {},
   "outputs": [
    {
     "data": {
      "text/plain": [
       "torch.Size([2, 16])"
      ]
     },
     "execution_count": 450,
     "metadata": {},
     "output_type": "execute_result"
    }
   ],
   "source": [
    "gru2 = RNNModel2Dim(gru1, vocab_size=1)\n",
    "state = gru2.begin_state()\n",
    "state.shape"
   ]
  },
  {
   "cell_type": "code",
   "execution_count": 451,
   "metadata": {},
   "outputs": [],
   "source": [
    "optimizer = Adam(gru2.parameters(), lr=0.01)\n",
    "loss_fn = nn.MSELoss()"
   ]
  },
  {
   "cell_type": "code",
   "execution_count": 452,
   "metadata": {},
   "outputs": [
    {
     "name": "stdout",
     "output_type": "stream",
     "text": [
      "torch.Size([100, 1]) torch.Size([2, 16])\n"
     ]
    }
   ],
   "source": [
    "y_pred, state = gru2(x_tensor, state)\n",
    "print(y_pred.shape, state.shape)"
   ]
  },
  {
   "cell_type": "code",
   "execution_count": 454,
   "metadata": {},
   "outputs": [],
   "source": [
    "losses =  train_2dim(200, gru2, optimizer, loss_fn, x_tensor, y_tensor)"
   ]
  },
  {
   "cell_type": "code",
   "execution_count": 455,
   "metadata": {},
   "outputs": [
    {
     "data": {
      "text/plain": [
       "[<matplotlib.lines.Line2D at 0x22900389db0>]"
      ]
     },
     "execution_count": 455,
     "metadata": {},
     "output_type": "execute_result"
    },
    {
     "data": {
      "image/png": "[encoded data removed]",
      "text/plain": [
       "<Figure size 640x480 with 1 Axes>"
      ]
     },
     "metadata": {},
     "output_type": "display_data"
    }
   ],
   "source": [
    "plt.plot(np.arange(len(losses)), losses)"
   ]
  },
  {
   "cell_type": "code",
   "execution_count": 456,
   "metadata": {},
   "outputs": [
    {
     "data": {
      "text/plain": [
       "<matplotlib.collections.PathCollection at 0x229003df4f0>"
      ]
     },
     "execution_count": 456,
     "metadata": {},
     "output_type": "execute_result"
    },
    {
     "data": {
      "image/png": "[encoded data removed]",
      "text/plain": [
       "<Figure size 640x480 with 1 Axes>"
      ]
     },
     "metadata": {},
     "output_type": "display_data"
    }
   ],
   "source": [
    "gru2.eval()\n",
    "plt.scatter(x, y)\n",
    "temp_x = np.arange(-15, 15, 0.2, dtype=np.float32) * np.pi / 4\n",
    "temp_y = gru2(torch.from_numpy(temp_x).reshape(-1, 1).type(torch.float32))[0].flatten().detach().numpy()\n",
    "plt.scatter(temp_x, temp_y)"
   ]
  },
  {
   "attachments": {},
   "cell_type": "markdown",
   "metadata": {},
   "source": [
    "## LSTM"
   ]
  },
  {
   "cell_type": "code",
   "execution_count": 457,
   "metadata": {},
   "outputs": [
    {
     "data": {
      "text/plain": [
       "torch.Size([100, 1])"
      ]
     },
     "execution_count": 457,
     "metadata": {},
     "output_type": "execute_result"
    }
   ],
   "source": [
    "x_tensor.shape\n",
    "# [len, VOCAB_SIZE]"
   ]
  },
  {
   "cell_type": "code",
   "execution_count": 458,
   "metadata": {},
   "outputs": [],
   "source": [
    "HIDDEN_SIZE = 16\n",
    "NUM_LAYERS = 2\n",
    "lstm1 = nn.LSTM(input_size=1, hidden_size=HIDDEN_SIZE, num_layers=NUM_LAYERS, bias=True, batch_first=False, bidirectional=False)"
   ]
  },
  {
   "cell_type": "code",
   "execution_count": 459,
   "metadata": {},
   "outputs": [
    {
     "name": "stdout",
     "output_type": "stream",
     "text": [
      "torch.Size([100, 16]) torch.Size([2, 16]) torch.Size([2, 16])\n"
     ]
    }
   ],
   "source": [
    "#                2, num_layers, hidden_size\n",
    "h0 = torch.randn(NUM_LAYERS, HIDDEN_SIZE)\n",
    "c0 = torch.randn(NUM_LAYERS, HIDDEN_SIZE)\n",
    "# output = [h1, h2, ..., hx] 为每个时间步得到的hidden_state\n",
    "# hx                         为最后一个时间步的hidden_state\n",
    "# cx                         为最后一个时间步的memory_state\n",
    "output, (hx, cx) = lstm1(x_tensor, (h0, c0))\n",
    "print(output.size(), hx.size(), cx.size())"
   ]
  },
  {
   "cell_type": "code",
   "execution_count": 460,
   "metadata": {},
   "outputs": [
    {
     "name": "stdout",
     "output_type": "stream",
     "text": [
      "torch.Size([16]) torch.Size([2, 16])\n",
      "tensor([[False, False, False, False, False, False, False, False, False, False,\n",
      "         False, False, False, False, False, False],\n",
      "        [ True,  True,  True,  True,  True,  True,  True,  True,  True,  True,\n",
      "          True,  True,  True,  True,  True,  True]])\n"
     ]
    }
   ],
   "source": [
    "# output包含所有时间步的最后一层的hidden_state\n",
    "print(output[-1].shape, hx.shape)\n",
    "print(output[-1] == hx)\n"
   ]
  },
  {
   "cell_type": "code",
   "execution_count": 461,
   "metadata": {},
   "outputs": [
    {
     "name": "stdout",
     "output_type": "stream",
     "text": [
      "torch.Size([16]) torch.Size([16])\n",
      "tensor([True, True, True, True, True, True, True, True, True, True, True, True,\n",
      "        True, True, True, True])\n"
     ]
    }
   ],
   "source": [
    "# output包含所有时间步的最后一层的hidden_state\n",
    "print(output[-1].shape, hx[-1].shape)\n",
    "print(output[-1] == hx[-1])"
   ]
  },
  {
   "cell_type": "code",
   "execution_count": 462,
   "metadata": {},
   "outputs": [
    {
     "data": {
      "text/plain": [
       "(torch.Size([2, 16]), torch.Size([2, 16]))"
      ]
     },
     "execution_count": 462,
     "metadata": {},
     "output_type": "execute_result"
    }
   ],
   "source": [
    "lstm2 = RNNModel2Dim(lstm1, vocab_size=1)\n",
    "h0, c0 = lstm2.begin_state()\n",
    "h0.size(), c0.size()"
   ]
  },
  {
   "cell_type": "code",
   "execution_count": 463,
   "metadata": {},
   "outputs": [],
   "source": [
    "optimizer = Adam(lstm2.parameters(), lr=0.01)\n",
    "loss_fn = nn.MSELoss()"
   ]
  },
  {
   "cell_type": "code",
   "execution_count": 464,
   "metadata": {},
   "outputs": [
    {
     "name": "stdout",
     "output_type": "stream",
     "text": [
      "torch.Size([100, 1]) torch.Size([2, 16]) torch.Size([2, 16])\n"
     ]
    }
   ],
   "source": [
    "y_pred, (hx, cx) = lstm2(x_tensor, (h0, c0))\n",
    "print(y_pred.shape, hx.shape, cx.shape)"
   ]
  },
  {
   "cell_type": "code",
   "execution_count": 465,
   "metadata": {},
   "outputs": [],
   "source": [
    "losses =  train_2dim(200, lstm2, optimizer, loss_fn, x_tensor, y_tensor)"
   ]
  },
  {
   "cell_type": "code",
   "execution_count": 466,
   "metadata": {},
   "outputs": [
    {
     "data": {
      "text/plain": [
       "[<matplotlib.lines.Line2D at 0x2290047dde0>]"
      ]
     },
     "execution_count": 466,
     "metadata": {},
     "output_type": "execute_result"
    },
    {
     "data": {
      "image/png": "[encoded data removed]",
      "text/plain": [
       "<Figure size 640x480 with 1 Axes>"
      ]
     },
     "metadata": {},
     "output_type": "display_data"
    }
   ],
   "source": [
    "plt.plot(np.arange(len(losses)), losses)"
   ]
  },
  {
   "cell_type": "code",
   "execution_count": 467,
   "metadata": {},
   "outputs": [
    {
     "data": {
      "text/plain": [
       "<matplotlib.collections.PathCollection at 0x2290005eaa0>"
      ]
     },
     "execution_count": 467,
     "metadata": {},
     "output_type": "execute_result"
    },
    {
     "data": {
      "image/png": "[encoded data removed]",
      "text/plain": [
       "<Figure size 640x480 with 1 Axes>"
      ]
     },
     "metadata": {},
     "output_type": "display_data"
    }
   ],
   "source": [
    "lstm2.eval()\n",
    "plt.scatter(x, y)\n",
    "temp_x = np.arange(-15, 15, 0.2, dtype=np.float32) * np.pi / 4\n",
    "temp_y = lstm2(torch.from_numpy(temp_x).reshape(-1, 1).type(torch.float32))[0].flatten().detach().numpy()\n",
    "plt.scatter(temp_x, temp_y)"
   ]
  },
  {
   "attachments": {},
   "cell_type": "markdown",
   "metadata": {},
   "source": [
    "# 三维数据[SEQ_LEN, BATCH_SIZE, VOCAB_SIZE]"
   ]
  },
  {
   "cell_type": "markdown",
   "metadata": {},
   "source": [
    "## 生成三维数据"
   ]
  },
  {
   "cell_type": "code",
   "execution_count": 7,
   "metadata": {},
   "outputs": [],
   "source": [
    "BATCH_SIZE    = 10  # batch\n",
    "SEQ_LEN       = 20  # 句子长度\n",
    "VOCAB_SIZE    = 100 # 字典长度\n",
    "EMBEDDING_DIM = 32  # embedding的长度\n",
    "HIDDEN_SIZE   = 256 # 隐藏层宽度\n",
    "NUM_LAYERS    = 3   # 隐藏层深度"
   ]
  },
  {
   "cell_type": "code",
   "execution_count": 8,
   "metadata": {},
   "outputs": [
    {
     "data": {
      "text/plain": [
       "torch.Size([20, 10, 32])"
      ]
     },
     "execution_count": 8,
     "metadata": {},
     "output_type": "execute_result"
    }
   ],
   "source": [
    "x = torch.ones(SEQ_LEN, BATCH_SIZE, EMBEDDING_DIM)\n",
    "x.shape"
   ]
  },
  {
   "attachments": {},
   "cell_type": "markdown",
   "metadata": {},
   "source": [
    "## BaseModel&train\n",
    "\n",
    "http://zh.d2l.ai/chapter_recurrent-neural-networks/rnn-scratch.html\n",
    "\n",
    "http://zh.d2l.ai/chapter_recurrent-neural-networks/rnn-concise.html"
   ]
  },
  {
   "cell_type": "code",
   "execution_count": 116,
   "metadata": {},
   "outputs": [],
   "source": [
    "class RNNModel(nn.Module):\n",
    "    \"\"\"循环神经网络模型\"\"\"\n",
    "    def __init__(self, rnn_layer: nn.RNNBase, embedding: nn.Module, vocab_size: int) -> None:\n",
    "        super().__init__()\n",
    "        self.embedding   = embedding\n",
    "        self.rnn         = rnn_layer\n",
    "        self.hidden_size = rnn_layer.hidden_size\n",
    "        self.num_layers  = rnn_layer.num_layers\n",
    "        self.vocab_size  = vocab_size\n",
    "\n",
    "        # 如果RNN是双向的，num_directions应该是2，否则应该是1\n",
    "        if not self.rnn.bidirectional:\n",
    "            self.num_directions = 1\n",
    "            self.linear = nn.Linear(self.hidden_size, self.vocab_size)\n",
    "        else:\n",
    "            self.num_directions = 2\n",
    "            self.linear = nn.Linear(self.hidden_size * 2, self.vocab_size)\n",
    "\n",
    "    def forward(self, x: torch.Tensor, state: torch.Tensor=None) -> tuple[torch.Tensor]:\n",
    "        \"\"\"\n",
    "        Args:\n",
    "            x (torch.Tensor):               [SEQ_LEN, BATCH_SIZE]\n",
    "            state (torch.Tensor, optional): [NUM_DRIECT * NUM_LAYERS, BATCH_SIZE, HIDDEN_SIZE]. Defaults to None.\n",
    "\n",
    "        Returns:\n",
    "            tuple[torch.Tensor]: predict, new state\n",
    "        \"\"\"\n",
    "\n",
    "        # [SEQ_LEN, BATCH_SIZE] => [SEQ_LEN, BATCH_SIZE, EMBEDDING_DIM]\n",
    "        x_embed = self.embedding(x)\n",
    "\n",
    "        # y为每个时间步得到的state,所以是对每个state的预测值\n",
    "        # y:      [SEQ_LEN, BATCH_SIZE, EMBEDDING_DIM] => [SEQ_LEN, BATCH_SIZE, HIDDEN_SIZE]\n",
    "        # state:  形状不变\n",
    "        y, state = self.rnn(x_embed, state)\n",
    "\n",
    "        # 在最后维度处理,对于batch在哪个维度没影响\n",
    "        # output: [SEQ_LEN, BATCH_SIZE, HIDDEN_SIZE] => [SEQ_LEN, BATCH_SIZE, VOCAB_SIZE]\n",
    "        output = self.linear(y)\n",
    "        return output, state\n",
    "\n",
    "    def begin_state(self, batch_size: int):\n",
    "        # [NUM_DRIECT * NUM_LAYERS, BATCH_SIZE, HIDDEN_SIZE]\n",
    "        if not isinstance(self.rnn, nn.LSTM):\n",
    "            return torch.zeros(self.num_directions * self.num_layers, batch_size, self.hidden_size)\n",
    "        else:\n",
    "            return (torch.zeros(self.num_directions * self.num_layers, batch_size, self.hidden_size),\n",
    "                    torch.zeros(self.num_directions * self.num_layers, batch_size, self.hidden_size))"
   ]
  },
  {
   "cell_type": "markdown",
   "metadata": {},
   "source": [
    "## Dataset"
   ]
  },
  {
   "cell_type": "code",
   "execution_count": 117,
   "metadata": {},
   "outputs": [],
   "source": [
    "from torch.utils.data import Dataset, DataLoader"
   ]
  },
  {
   "cell_type": "code",
   "execution_count": 209,
   "metadata": {},
   "outputs": [],
   "source": [
    "class Data(Dataset):\n",
    "    def __init__(self) -> None:\n",
    "        # [BATCH_SUM, SEQ_LEN]\n",
    "        # 一只棕色的狐狸跳过一只懒惰的狗。  使用int是类比下标\n",
    "        self.x = torch.randint(0, VOCAB_SIZE, (1000, SEQ_LEN))\n",
    "        # 只棕色的狐狸跳过一只懒惰的狗。    y是下一个字的真实值\n",
    "        self.y = torch.randint(0, VOCAB_SIZE, (1000, SEQ_LEN))\n",
    "\n",
    "    def __getitem__(self, index):\n",
    "        return self.x[index], self.y[index]\n",
    "\n",
    "    def __len__(self):\n",
    "        return len(x)"
   ]
  },
  {
   "cell_type": "code",
   "execution_count": 210,
   "metadata": {},
   "outputs": [],
   "source": [
    "dataloader = DataLoader(Data(), batch_size=BATCH_SIZE, shuffle=False)"
   ]
  },
  {
   "cell_type": "code",
   "execution_count": 211,
   "metadata": {},
   "outputs": [
    {
     "data": {
      "text/plain": [
       "torch.Size([10, 20])"
      ]
     },
     "execution_count": 211,
     "metadata": {},
     "output_type": "execute_result"
    }
   ],
   "source": [
    "next(iter(dataloader))[0].shape\n",
    "# [BATCH_SIZE, SEQ_LEN]"
   ]
  },
  {
   "cell_type": "markdown",
   "metadata": {},
   "source": [
    "## train func"
   ]
  },
  {
   "cell_type": "code",
   "execution_count": 215,
   "metadata": {},
   "outputs": [],
   "source": [
    "def train(epochs, rnn: RNNModel, optimizer, loss_fn):\n",
    "    dataloader = DataLoader(Data(), batch_size=BATCH_SIZE, shuffle=False)\n",
    "\n",
    "    rnn.train()\n",
    "    losses = []\n",
    "    for i in range(epochs):\n",
    "        loss_e = []\n",
    "        for x, y in dataloader:\n",
    "            # [BATCH_SIZE, SEQ_LEN] => [SEQ_LEN, BATCH_SIZE]\n",
    "            x, y = x.T, y.T\n",
    "\n",
    "            # 初始状态,每个iter都要使用新的\n",
    "            state = rnn.begin_state(BATCH_SIZE)\n",
    "\n",
    "            # x&y: [SEQ_LEN, BATCH_SIZE]\n",
    "            optimizer.zero_grad()\n",
    "\n",
    "            #----------------------------------------------------------#\n",
    "            #   Trying to backward through the graph a second time...\n",
    "            #   detach\n",
    "            #----------------------------------------------------------#\n",
    "            if not isinstance(state, tuple):\n",
    "                state = state.detach()\n",
    "            else:\n",
    "                # lstm 有2个隐藏层\n",
    "                hx, cx = state\n",
    "                hx, cx = hx.detach(), cx.detach()\n",
    "                state = (hx, cx)\n",
    "\n",
    "            y_pred, state = rnn(x, state)\n",
    "            # y_pred: [SEQ_LEN, BATCH_SIZE, VOCAB_SIZE] => [SEQ_LEN * BATCH_SIZE, VOCAB_SIZE]\n",
    "            # y:      [SEQ_LEN, BATCH_SIZE]             => [SEQ_LEN * BATCH_SIZE]\n",
    "            loss = loss_fn(y_pred.reshape(-1, y_pred.shape[-1]), y.flatten())\n",
    "            loss.backward()\n",
    "            loss_e.append(loss.item())\n",
    "            optimizer.step()\n",
    "        losses.append(np.mean(loss_e))\n",
    "\n",
    "    return losses"
   ]
  },
  {
   "cell_type": "markdown",
   "metadata": {},
   "source": [
    "## RNN"
   ]
  },
  {
   "attachments": {},
   "cell_type": "markdown",
   "metadata": {},
   "source": [
    "### nn.RNN"
   ]
  },
  {
   "cell_type": "code",
   "execution_count": 216,
   "metadata": {},
   "outputs": [],
   "source": [
    "rnn3 = nn.RNN(input_size=EMBEDDING_DIM, hidden_size=HIDDEN_SIZE, num_layers=NUM_LAYERS, bias=True, batch_first=False, bidirectional=False)"
   ]
  },
  {
   "cell_type": "code",
   "execution_count": 217,
   "metadata": {},
   "outputs": [
    {
     "name": "stdout",
     "output_type": "stream",
     "text": [
      "torch.Size([20, 10, 256]) torch.Size([3, 10, 256])\n"
     ]
    }
   ],
   "source": [
    "h0 = torch.randn(NUM_LAYERS, BATCH_SIZE, HIDDEN_SIZE)\n",
    "# output = [h1, h2, ..., hx] 为每个时间步得到的hidden_state\n",
    "# hx                         为最后一个时间步的hidden_state\n",
    "output, hx = rnn3(x, h0)\n",
    "print(output.size(), hx.size())\n",
    "# [SEQ_LEN,    BATCH_SIZE, HIDDEN_SIZE]\n",
    "# [NUM_LAYERS, BATCH_SIZE, HIDDEN_SIZE]"
   ]
  },
  {
   "cell_type": "code",
   "execution_count": 218,
   "metadata": {},
   "outputs": [
    {
     "name": "stdout",
     "output_type": "stream",
     "text": [
      "tensor(False)\n",
      "tensor(True)\n"
     ]
    }
   ],
   "source": [
    "# output包含所有时间步的最后一层的hidden_state\n",
    "print(torch.all(output[-1] == hx))\n",
    "print(torch.all(output[-1] == hx[-1]))"
   ]
  },
  {
   "cell_type": "markdown",
   "metadata": {},
   "source": [
    "### RNNModel"
   ]
  },
  {
   "cell_type": "code",
   "execution_count": 219,
   "metadata": {},
   "outputs": [],
   "source": [
    "embedding = nn.Embedding(VOCAB_SIZE, EMBEDDING_DIM)\n",
    "rnn4 = RNNModel(rnn3, embedding=embedding, vocab_size=VOCAB_SIZE)"
   ]
  },
  {
   "cell_type": "code",
   "execution_count": 220,
   "metadata": {},
   "outputs": [
    {
     "name": "stdout",
     "output_type": "stream",
     "text": [
      "torch.Size([20, 10])\n",
      "torch.Size([20, 10, 100])\n",
      "torch.Size([3, 10, 256]) torch.Size([3, 10, 256])\n"
     ]
    }
   ],
   "source": [
    "h0 = rnn4.begin_state(batch_size=BATCH_SIZE)\n",
    "temp_x = torch.randint(0, VOCAB_SIZE, (SEQ_LEN, BATCH_SIZE))\n",
    "output, hx = rnn4(temp_x, h0)\n",
    "print(temp_x.shape)         # [SEQ_LEN,    BATCH_SIZE]\n",
    "print(output.shape)         # [SEQ_LEN,    BATCH_SIZE, VOCAB_SIZE]\n",
    "print(h0.shape, hx.shape)   # [NUM_LAYERS, BATCH_SIZE, HIDDEN_SIZE]"
   ]
  },
  {
   "cell_type": "markdown",
   "metadata": {},
   "source": [
    "### train"
   ]
  },
  {
   "cell_type": "code",
   "execution_count": 221,
   "metadata": {},
   "outputs": [
    {
     "data": {
      "text/plain": [
       "[4.608611583709717,\n",
       " 4.4490907192230225,\n",
       " 4.294214963912964,\n",
       " 4.123337984085083,\n",
       " 3.9207801818847656,\n",
       " 3.7030551433563232,\n",
       " 3.4724737405776978,\n",
       " 3.2357932329177856,\n",
       " 2.9996944665908813,\n",
       " 2.7594683170318604]"
      ]
     },
     "execution_count": 221,
     "metadata": {},
     "output_type": "execute_result"
    }
   ],
   "source": [
    "optimizer = Adam(rnn4.parameters(), lr=0.001)\n",
    "loss_fn = nn.CrossEntropyLoss()\n",
    "train(10, rnn4, optimizer, loss_fn)"
   ]
  },
  {
   "attachments": {},
   "cell_type": "markdown",
   "metadata": {},
   "source": [
    "## GRU"
   ]
  },
  {
   "cell_type": "markdown",
   "metadata": {},
   "source": [
    "### nn.GRU"
   ]
  },
  {
   "cell_type": "code",
   "execution_count": 222,
   "metadata": {},
   "outputs": [],
   "source": [
    "gru3 = nn.GRU(input_size=EMBEDDING_DIM, hidden_size=HIDDEN_SIZE, num_layers=NUM_LAYERS, bias=True, batch_first=False, bidirectional=False)"
   ]
  },
  {
   "cell_type": "code",
   "execution_count": 223,
   "metadata": {},
   "outputs": [
    {
     "name": "stdout",
     "output_type": "stream",
     "text": [
      "torch.Size([20, 10, 256]) torch.Size([3, 10, 256])\n"
     ]
    }
   ],
   "source": [
    "h0 = torch.randn(NUM_LAYERS, BATCH_SIZE, HIDDEN_SIZE)\n",
    "# output = [h1, h2, ..., hx] 为每个时间步得到的hidden_state\n",
    "# hx                         为最后一个时间步的hidden_state\n",
    "output, hx = gru3(x, h0)\n",
    "print(output.size(), hx.size())\n",
    "# [SEQ_LEN,    BATCH_SIZE, HIDDEN_SIZE]\n",
    "# [NUM_LAYERS, BATCH_SIZE, HIDDEN_SIZE]"
   ]
  },
  {
   "cell_type": "code",
   "execution_count": 224,
   "metadata": {},
   "outputs": [
    {
     "name": "stdout",
     "output_type": "stream",
     "text": [
      "tensor(False)\n",
      "tensor(True)\n"
     ]
    }
   ],
   "source": [
    "# output包含所有时间步的最后一层的hidden_state\n",
    "print(torch.all(output[-1] == hx))\n",
    "print(torch.all(output[-1] == hx[-1]))"
   ]
  },
  {
   "cell_type": "markdown",
   "metadata": {},
   "source": [
    "### RNNModel"
   ]
  },
  {
   "cell_type": "code",
   "execution_count": 225,
   "metadata": {},
   "outputs": [],
   "source": [
    "embedding = nn.Embedding(VOCAB_SIZE, EMBEDDING_DIM)\n",
    "gru4 = RNNModel(gru3, embedding=embedding, vocab_size=VOCAB_SIZE)"
   ]
  },
  {
   "cell_type": "code",
   "execution_count": 226,
   "metadata": {},
   "outputs": [
    {
     "name": "stdout",
     "output_type": "stream",
     "text": [
      "torch.Size([20, 10])\n",
      "torch.Size([20, 10, 100])\n",
      "torch.Size([3, 10, 256]) torch.Size([3, 10, 256])\n"
     ]
    }
   ],
   "source": [
    "h0 = gru4.begin_state(batch_size=BATCH_SIZE)\n",
    "temp_x = torch.randint(0, VOCAB_SIZE, (SEQ_LEN, BATCH_SIZE))\n",
    "output, hx = gru4(temp_x, h0)\n",
    "print(temp_x.shape)         # [SEQ_LEN,    BATCH_SIZE]\n",
    "print(output.shape)         # [SEQ_LEN,    BATCH_SIZE, VOCAB_SIZE]\n",
    "print(h0.shape, hx.shape)   # [NUM_LAYERS, BATCH_SIZE, HIDDEN_SIZE]"
   ]
  },
  {
   "cell_type": "markdown",
   "metadata": {},
   "source": [
    "### train"
   ]
  },
  {
   "cell_type": "code",
   "execution_count": 227,
   "metadata": {},
   "outputs": [
    {
     "data": {
      "text/plain": [
       "[4.6082377433776855,\n",
       " 4.57039475440979,\n",
       " 4.530970573425293,\n",
       " 4.477245092391968,\n",
       " 4.422670125961304,\n",
       " 4.361980676651001,\n",
       " 4.274073362350464,\n",
       " 4.182175636291504,\n",
       " 4.082669019699097,\n",
       " 3.964216709136963]"
      ]
     },
     "execution_count": 227,
     "metadata": {},
     "output_type": "execute_result"
    }
   ],
   "source": [
    "optimizer = Adam(gru4.parameters(), lr=0.001)\n",
    "loss_fn = nn.CrossEntropyLoss()\n",
    "train(10, gru4, optimizer, loss_fn)"
   ]
  },
  {
   "attachments": {},
   "cell_type": "markdown",
   "metadata": {},
   "source": [
    "## LSTM"
   ]
  },
  {
   "cell_type": "markdown",
   "metadata": {},
   "source": [
    "### nn.LSTM"
   ]
  },
  {
   "cell_type": "code",
   "execution_count": 228,
   "metadata": {},
   "outputs": [],
   "source": [
    "lstm3 = nn.LSTM(input_size=EMBEDDING_DIM, hidden_size=HIDDEN_SIZE, num_layers=NUM_LAYERS, bias=True, batch_first=False, bidirectional=False)"
   ]
  },
  {
   "cell_type": "code",
   "execution_count": 229,
   "metadata": {},
   "outputs": [
    {
     "name": "stdout",
     "output_type": "stream",
     "text": [
      "torch.Size([20, 10, 256]) torch.Size([3, 10, 256]) torch.Size([3, 10, 256])\n"
     ]
    }
   ],
   "source": [
    "h0 = torch.randn(NUM_LAYERS, BATCH_SIZE, HIDDEN_SIZE)\n",
    "c0 = torch.randn(NUM_LAYERS, BATCH_SIZE, HIDDEN_SIZE)\n",
    "# output = [h1, h2, ..., hx] 为每个时间步得到的hidden_state\n",
    "# hx                         为最后一个时间步的hidden_state\n",
    "# cx                         为最后一个时间步的memory_state\n",
    "output, (hx, cx) = lstm3(x, (h0, c0))\n",
    "print(output.size(), hx.size(), cx.size())\n",
    "# [SEQ_LEN,    BATCH_SIZE, HIDDEN_SIZE]\n",
    "# [NUM_LAYERS, BATCH_SIZE, HIDDEN_SIZE]\n",
    "# [NUM_LAYERS, BATCH_SIZE, HIDDEN_SIZE]"
   ]
  },
  {
   "cell_type": "code",
   "execution_count": 230,
   "metadata": {},
   "outputs": [
    {
     "name": "stdout",
     "output_type": "stream",
     "text": [
      "tensor(False)\n",
      "tensor(True)\n"
     ]
    }
   ],
   "source": [
    "# output包含所有时间步的最后一层的hidden_state\n",
    "print(torch.all(output[-1] == hx))\n",
    "print(torch.all(output[-1] == hx[-1]))"
   ]
  },
  {
   "cell_type": "markdown",
   "metadata": {},
   "source": [
    "### RNNModel"
   ]
  },
  {
   "cell_type": "code",
   "execution_count": 231,
   "metadata": {},
   "outputs": [],
   "source": [
    "embedding = nn.Embedding(VOCAB_SIZE, EMBEDDING_DIM)\n",
    "lstm4 = RNNModel(lstm3, embedding=embedding, vocab_size=VOCAB_SIZE)"
   ]
  },
  {
   "cell_type": "code",
   "execution_count": 232,
   "metadata": {},
   "outputs": [
    {
     "name": "stdout",
     "output_type": "stream",
     "text": [
      "torch.Size([20, 10])\n",
      "torch.Size([20, 10, 100])\n",
      "torch.Size([3, 10, 256]) torch.Size([3, 10, 256]) torch.Size([3, 10, 256])\n"
     ]
    }
   ],
   "source": [
    "h0, c0 = lstm4.begin_state(batch_size=BATCH_SIZE)\n",
    "temp_x = torch.randint(0, VOCAB_SIZE, (SEQ_LEN, BATCH_SIZE))\n",
    "output, (hx, cx) = lstm4(temp_x, (h0, c0))\n",
    "print(temp_x.shape)                 # [SEQ_LEN,    BATCH_SIZE]\n",
    "print(output.shape)                 # [SEQ_LEN,    BATCH_SIZE, VOCAB_SIZE]\n",
    "print(h0.shape, hx.shape, cx.shape) # [NUM_LAYERS, BATCH_SIZE, HIDDEN_SIZE]"
   ]
  },
  {
   "cell_type": "code",
   "execution_count": 233,
   "metadata": {},
   "outputs": [
    {
     "data": {
      "text/plain": [
       "[4.604182481765747,\n",
       " 4.5907862186431885,\n",
       " 4.571564197540283,\n",
       " 4.527948617935181,\n",
       " 4.506953239440918,\n",
       " 4.479104518890381,\n",
       " 4.4638214111328125,\n",
       " 4.455384969711304,\n",
       " 4.436837196350098,\n",
       " 4.408071994781494]"
      ]
     },
     "execution_count": 233,
     "metadata": {},
     "output_type": "execute_result"
    }
   ],
   "source": [
    "optimizer = Adam(lstm4.parameters(), lr=0.001)\n",
    "loss_fn = nn.CrossEntropyLoss()\n",
    "train(10, lstm4, optimizer, loss_fn)"
   ]
  },
  {
   "cell_type": "code",
   "execution_count": null,
   "metadata": {},
   "outputs": [],
   "source": []
  }
 ],
 "metadata": {
  "kernelspec": {
   "display_name": "pytorch",
   "language": "python",
   "name": "python3"
  },
  "language_info": {
   "codemirror_mode": {
    "name": "ipython",
    "version": 3
   },
   "file_extension": ".py",
   "mimetype": "text/x-python",
   "name": "python",
   "nbconvert_exporter": "python",
   "pygments_lexer": "ipython3",
   "version": "3.10.9"
  },
  "orig_nbformat": 4
 },
 "nbformat": 4,
 "nbformat_minor": 2
}
