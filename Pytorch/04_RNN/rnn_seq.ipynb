{
 "cells": [
  {
   "cell_type": "code",
   "execution_count": 2,
   "metadata": {},
   "outputs": [],
   "source": [
    "import torch\n",
    "from torch import nn"
   ]
  },
  {
   "attachments": {},
   "cell_type": "markdown",
   "metadata": {},
   "source": [
    "test rnn process image"
   ]
  },
  {
   "cell_type": "code",
   "execution_count": 3,
   "metadata": {},
   "outputs": [],
   "source": [
    "B, Q, C = 10, 100, 192\n",
    "INPUT_SIZE = C\n",
    "HIDDEN_SIZE = 48\n",
    "NUM_LAYERS = 3"
   ]
  },
  {
   "cell_type": "code",
   "execution_count": 4,
   "metadata": {},
   "outputs": [
    {
     "data": {
      "text/plain": [
       "torch.Size([10, 100, 192])"
      ]
     },
     "execution_count": 4,
     "metadata": {},
     "output_type": "execute_result"
    }
   ],
   "source": [
    "x = torch.ones(B, Q, C)\n",
    "x.shape"
   ]
  },
  {
   "attachments": {},
   "cell_type": "markdown",
   "metadata": {},
   "source": [
    "# RNN"
   ]
  },
  {
   "cell_type": "code",
   "execution_count": 6,
   "metadata": {},
   "outputs": [],
   "source": [
    "rnn = nn.RNN(input_size=INPUT_SIZE, hidden_size=HIDDEN_SIZE, num_layers=NUM_LAYERS, bias=True, batch_first=True, bidirectional=False)"
   ]
  },
  {
   "cell_type": "code",
   "execution_count": 8,
   "metadata": {},
   "outputs": [
    {
     "name": "stdout",
     "output_type": "stream",
     "text": [
      "torch.Size([10, 100, 192])\n",
      "torch.Size([3, 10, 48])\n"
     ]
    }
   ],
   "source": [
    "x_, hidden_state = rnn(x)\n",
    "print(x.shape)              # [B, Q, HIDDEN_SIZE]\n",
    "print(hidden_state.shape)   # [NUM_LAYERS, B, HIDDEN_SIZE]"
   ]
  },
  {
   "cell_type": "code",
   "execution_count": 9,
   "metadata": {},
   "outputs": [],
   "source": [
    "brnn = nn.RNN(input_size=INPUT_SIZE, hidden_size=HIDDEN_SIZE, num_layers=NUM_LAYERS, bias=True, batch_first=True, bidirectional=True)"
   ]
  },
  {
   "cell_type": "code",
   "execution_count": 10,
   "metadata": {},
   "outputs": [
    {
     "name": "stdout",
     "output_type": "stream",
     "text": [
      "torch.Size([10, 100, 96])\n",
      "torch.Size([6, 10, 48])\n"
     ]
    }
   ],
   "source": [
    "x_, hidden_state = brnn(x)\n",
    "print(x_.shape)             # [B, Q, 2*HIDDEN_SIZE]   (2 means bidirectional)\n",
    "print(hidden_state.shape)   # [2*NUM_LAYERS, B, HIDDEN_SIZE]"
   ]
  },
  {
   "attachments": {},
   "cell_type": "markdown",
   "metadata": {},
   "source": [
    "# LSTM"
   ]
  },
  {
   "cell_type": "code",
   "execution_count": 11,
   "metadata": {},
   "outputs": [],
   "source": [
    "lstm = nn.LSTM(input_size=INPUT_SIZE, hidden_size=HIDDEN_SIZE, num_layers=NUM_LAYERS, bias=True, batch_first=True, bidirectional=False)"
   ]
  },
  {
   "cell_type": "code",
   "execution_count": 13,
   "metadata": {},
   "outputs": [
    {
     "name": "stdout",
     "output_type": "stream",
     "text": [
      "torch.Size([10, 100, 48])\n",
      "torch.Size([3, 10, 48])\n",
      "torch.Size([3, 10, 48])\n"
     ]
    }
   ],
   "source": [
    "x_, (hidden_state, candidate_state) = lstm(x)\n",
    "print(x_.shape)             # [B, Q, HIDDEN_SIZE]\n",
    "print(hidden_state.shape)   # [NUM_LAYERS, B, HIDDEN_SIZE]\n",
    "print(candidate_state.shape)# [NUM_LAYERS, B, HIDDEN_SIZE]"
   ]
  },
  {
   "cell_type": "code",
   "execution_count": 14,
   "metadata": {},
   "outputs": [],
   "source": [
    "blstm = nn.LSTM(input_size=INPUT_SIZE, hidden_size=HIDDEN_SIZE, num_layers=NUM_LAYERS, bias=True, batch_first=True, bidirectional=True)"
   ]
  },
  {
   "cell_type": "code",
   "execution_count": 16,
   "metadata": {},
   "outputs": [
    {
     "name": "stdout",
     "output_type": "stream",
     "text": [
      "torch.Size([10, 100, 96])\n",
      "torch.Size([6, 10, 48])\n",
      "torch.Size([6, 10, 48])\n"
     ]
    }
   ],
   "source": [
    "x_, (hidden_state, candidate_state) = blstm(x)\n",
    "print(x_.shape)             # [B, Q, 2*HIDDEN_SIZE]   (2 means bidirectional)\n",
    "print(hidden_state.shape)   # [2*NUM_LAYERS, B, HIDDEN_SIZE]\n",
    "print(candidate_state.shape)# [2*NUM_LAYERS, B, HIDDEN_SIZE]"
   ]
  },
  {
   "attachments": {},
   "cell_type": "markdown",
   "metadata": {},
   "source": [
    "# GRU"
   ]
  },
  {
   "cell_type": "code",
   "execution_count": 17,
   "metadata": {},
   "outputs": [],
   "source": [
    "gru = nn.GRU(input_size=INPUT_SIZE, hidden_size=HIDDEN_SIZE, num_layers=NUM_LAYERS, bias=True, batch_first=True, bidirectional=False)"
   ]
  },
  {
   "cell_type": "code",
   "execution_count": 18,
   "metadata": {},
   "outputs": [
    {
     "name": "stdout",
     "output_type": "stream",
     "text": [
      "torch.Size([10, 100, 48])\n",
      "torch.Size([3, 10, 48])\n"
     ]
    }
   ],
   "source": [
    "x_, hidden_state = gru(x)\n",
    "print(x_.shape)             # [B, Q, HIDDEN_SIZE]\n",
    "print(hidden_state.shape)   # [NUM_LAYERS, B, HIDDEN_SIZE]"
   ]
  },
  {
   "cell_type": "code",
   "execution_count": 19,
   "metadata": {},
   "outputs": [],
   "source": [
    "bgru = nn.GRU(input_size=INPUT_SIZE, hidden_size=HIDDEN_SIZE, num_layers=NUM_LAYERS, bias=True, batch_first=True, bidirectional=True)"
   ]
  },
  {
   "cell_type": "code",
   "execution_count": 20,
   "metadata": {},
   "outputs": [
    {
     "name": "stdout",
     "output_type": "stream",
     "text": [
      "torch.Size([10, 100, 96])\n",
      "torch.Size([6, 10, 48])\n"
     ]
    }
   ],
   "source": [
    "x_, hidden_state = bgru(x)\n",
    "print(x_.shape)             # [B, Q, 2*HIDDEN_SIZE]   (2 means bidirectional)\n",
    "print(hidden_state.shape)   # [2*NUM_LAYERS, B, HIDDEN_SIZE]"
   ]
  },
  {
   "cell_type": "code",
   "execution_count": null,
   "metadata": {},
   "outputs": [],
   "source": []
  }
 ],
 "metadata": {
  "kernelspec": {
   "display_name": "pytorch",
   "language": "python",
   "name": "python3"
  },
  "language_info": {
   "codemirror_mode": {
    "name": "ipython",
    "version": 3
   },
   "file_extension": ".py",
   "mimetype": "text/x-python",
   "name": "python",
   "nbconvert_exporter": "python",
   "pygments_lexer": "ipython3",
   "version": "3.11.3"
  },
  "orig_nbformat": 4
 },
 "nbformat": 4,
 "nbformat_minor": 2
}
